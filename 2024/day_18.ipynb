{
 "cells": [
  {
   "cell_type": "code",
   "execution_count": 1,
   "id": "2efe433c-ccbf-4b0a-8653-f0824059fd6f",
   "metadata": {
    "tags": []
   },
   "outputs": [],
   "source": [
    "from IPython.core.interactiveshell import InteractiveShell\n",
    "InteractiveShell.ast_node_interactivity = \"all\""
   ]
  },
  {
   "cell_type": "markdown",
   "id": "ff944d02-8a60-417e-888a-54e4e5141bbf",
   "metadata": {
    "tags": []
   },
   "source": [
    "# Part 1"
   ]
  },
  {
   "cell_type": "code",
   "execution_count": 3,
   "id": "5ea82c1d-8520-42d3-be0a-2ee13c259b72",
   "metadata": {
    "tags": []
   },
   "outputs": [],
   "source": [
    "import numpy as np\n",
    "from copy import deepcopy\n",
    "\n",
    "dirs=[ (0,1), (-1,0), (0,-1), (1,0)]\n",
    "\n",
    "class PathState:\n",
    "    def __init__(self,loc,steps ,came_from=None):\n",
    "        self.loc = loc\n",
    "        self.steps = steps\n",
    "        self.came_from = came_from\n",
    "\n",
    "    def give_neighbors(self,dims, corrupt_locs):\n",
    "        neighs=[]\n",
    "        nX,nY = dims\n",
    "        x,y = self.loc\n",
    "\n",
    "        for change in dirs:\n",
    "            nx,ny = change\n",
    "            ix = x+nx\n",
    "            iy = y+ny\n",
    "            if ix <0 or ix > nX or iy < 0 or iy > nY:\n",
    "                continue\n",
    "            if (ix,iy) in corrupt_locs:\n",
    "                continue\n",
    "                \n",
    "            neighs.append(  PathState( (ix,iy),\n",
    "                                self.steps+1, \n",
    "                                self)\n",
    "                         )\n",
    "\n",
    "        return neighs\n",
    "                   \n",
    "    def __repr__(self):\n",
    "        return f'({self.loc[0]},{self.loc[1]}) with {self.steps}'\n",
    "\n",
    "    def __str__(self):\n",
    "        locs=[str(i) for i in self.loc]\n",
    "        return f'{\"-\".join(locs)}_{self.steps}'\n",
    "    \n",
    "    def __lt__(self,other):\n",
    "        return self.steps < other.steps"
   ]
  },
  {
   "cell_type": "code",
   "execution_count": 4,
   "id": "2f6b3912-0884-4d30-b2e5-9d2481602004",
   "metadata": {
    "tags": []
   },
   "outputs": [],
   "source": [
    "import heapq\n",
    "\n",
    "class PriorityQueue:\n",
    "    def __init__(self):\n",
    "        self.elements: list[tuple[float, PathState]] = []\n",
    "    \n",
    "    def empty(self) -> bool:\n",
    "        return not self.elements\n",
    "    \n",
    "    def put(self, item: PathState, priority: float):\n",
    "        heapq.heappush(self.elements, (priority, item))\n",
    "    \n",
    "    def get(self) -> PathState:\n",
    "        return heapq.heappop(self.elements)[1]"
   ]
  },
  {
   "cell_type": "code",
   "execution_count": 11,
   "id": "8e78aea9-46a6-4cff-95ae-4af5de01bb6f",
   "metadata": {
    "tags": []
   },
   "outputs": [],
   "source": [
    "from collections import deque\n",
    "\n",
    "def perform_breadth_first(dims,corrupted):\n",
    "     # print out what we find\n",
    "    frontier = PriorityQueue()\n",
    "    start = (0,0)\n",
    "    s= PathState( start, 0 )\n",
    "    \n",
    "    frontier.put( s , priority=0)\n",
    "    \n",
    "    seen= {start:0}\n",
    "    \n",
    "    while not frontier.empty() :\n",
    "        cur = frontier.get()\n",
    "        \n",
    "        if cur.loc == dims:\n",
    "            return cur.steps\n",
    "        \n",
    "        for n_loc in cur.give_neighbors(dims, corrupted):\n",
    "            \n",
    "            if n_loc.loc not in seen.keys() or seen[n_loc.loc] > n_loc.steps:\n",
    "                seen[n_loc.loc]=n_loc.steps\n",
    "                frontier.put(n_loc, n_loc.steps)\n",
    "\n",
    "    return -1"
   ]
  },
  {
   "cell_type": "code",
   "execution_count": 13,
   "id": "32cb56d7-c902-4f8d-a954-29445b267183",
   "metadata": {},
   "outputs": [],
   "source": [
    "def initiate_read(path):\n",
    "    dims = (6,6) if 'test' in path else (70,70)\n",
    "    ncorrupt = 12 if 'test' in path else 1024\n",
    "    \n",
    "    with open(path,'r') as f:\n",
    "        corrupted=[]\n",
    "        for line in f.readlines():\n",
    "            x,y =line.strip().split(',')\n",
    "            corrupted.append( (int(x),int(y)) )\n",
    "            \n",
    "    return dims, ncorrupt,corrupted\n"
   ]
  },
  {
   "cell_type": "code",
   "execution_count": 14,
   "id": "3be9e68d-9124-41f2-95f0-468444d0f98e",
   "metadata": {
    "tags": []
   },
   "outputs": [],
   "source": [
    "def part_one(path='input_data/test_18.txt'):\n",
    "    dims, ncorrupt ,corrupted = initiate_read(path)\n",
    "    \n",
    "    steps = perform_breadth_first(dims, set(corrupted[:ncorrupt]) )\n",
    "    return steps"
   ]
  },
  {
   "cell_type": "code",
   "execution_count": 15,
   "id": "c0f07f59-ae05-4bf1-b809-3ff543222d31",
   "metadata": {
    "scrolled": true,
    "tags": []
   },
   "outputs": [
    {
     "name": "stdout",
     "output_type": "stream",
     "text": [
      "CPU times: user 855 µs, sys: 1.27 ms, total: 2.13 ms\n",
      "Wall time: 1.29 ms\n"
     ]
    },
    {
     "data": {
      "text/plain": [
       "22"
      ]
     },
     "execution_count": 15,
     "metadata": {},
     "output_type": "execute_result"
    }
   ],
   "source": [
    "%%time\n",
    "part_one()"
   ]
  },
  {
   "cell_type": "code",
   "execution_count": 16,
   "id": "fb6325c0-56ed-4ef5-b0cc-194b342aad5b",
   "metadata": {
    "tags": []
   },
   "outputs": [
    {
     "name": "stdout",
     "output_type": "stream",
     "text": [
      "CPU times: user 28.7 ms, sys: 3.03 ms, total: 31.8 ms\n",
      "Wall time: 30.5 ms\n"
     ]
    },
    {
     "data": {
      "text/plain": [
       "310"
      ]
     },
     "execution_count": 16,
     "metadata": {},
     "output_type": "execute_result"
    }
   ],
   "source": [
    "%%time\n",
    "part_one('input_data/day_18.txt')"
   ]
  },
  {
   "cell_type": "markdown",
   "id": "fb57e954-d588-406e-9c3c-6d012b1abc0e",
   "metadata": {
    "tags": []
   },
   "source": [
    "# Part 2"
   ]
  },
  {
   "cell_type": "code",
   "execution_count": 26,
   "id": "f7c3917d-807d-4732-83e7-0a4ed3915666",
   "metadata": {},
   "outputs": [],
   "source": [
    "def binary_search_min(dims ,corrupted):\n",
    "    left, right = 0, len(corrupted) - 1\n",
    "\n",
    "    while left <=right:\n",
    "        ncor = (left+right)//2\n",
    "        \n",
    "        steps = perform_breadth_first(dims, set(corrupted[:ncor]) )\n",
    "\n",
    "        if steps == -1:\n",
    "            right = ncor\n",
    "        else:\n",
    "            left = ncor\n",
    "            \n",
    "        if right-left == 1:\n",
    "            return left\n",
    "    return -1 \n",
    "            \n"
   ]
  },
  {
   "cell_type": "code",
   "execution_count": 27,
   "id": "dc813f20-ea27-46da-b960-5bad307bd9a2",
   "metadata": {
    "tags": []
   },
   "outputs": [],
   "source": [
    "def part_two(path='input_data/test_18.txt'):\n",
    "    dims, ncorrupt ,corrupted = initiate_read(path)\n",
    "\n",
    "    block = binary_search_min(dims ,corrupted)\n",
    "\n",
    "    return corrupted[block]"
   ]
  },
  {
   "cell_type": "code",
   "execution_count": 28,
   "id": "c766e385-90e0-4dcd-a31a-51d85ca5fa14",
   "metadata": {
    "tags": []
   },
   "outputs": [
    {
     "name": "stdout",
     "output_type": "stream",
     "text": [
      "CPU times: user 1.21 ms, sys: 1.42 ms, total: 2.63 ms\n",
      "Wall time: 2.09 ms\n"
     ]
    },
    {
     "data": {
      "text/plain": [
       "(6, 1)"
      ]
     },
     "execution_count": 28,
     "metadata": {},
     "output_type": "execute_result"
    }
   ],
   "source": [
    "%%time\n",
    "part_two()"
   ]
  },
  {
   "cell_type": "code",
   "execution_count": 29,
   "id": "b654b368-ea4e-43d5-9310-9a438f4a6da2",
   "metadata": {
    "tags": []
   },
   "outputs": [
    {
     "name": "stdout",
     "output_type": "stream",
     "text": [
      "CPU times: user 41.2 ms, sys: 4.52 ms, total: 45.8 ms\n",
      "Wall time: 50.5 ms\n"
     ]
    },
    {
     "data": {
      "text/plain": [
       "(16, 46)"
      ]
     },
     "execution_count": 29,
     "metadata": {},
     "output_type": "execute_result"
    }
   ],
   "source": [
    "%%time\n",
    "part_two('input_data/day_18.txt')"
   ]
  },
  {
   "cell_type": "code",
   "execution_count": null,
   "id": "f48da97c-c5d4-467e-815b-d2ca638a49a1",
   "metadata": {},
   "outputs": [],
   "source": []
  }
 ],
 "metadata": {
  "kernelspec": {
   "display_name": "work_env",
   "language": "python",
   "name": "work_env"
  },
  "language_info": {
   "codemirror_mode": {
    "name": "ipython",
    "version": 3
   },
   "file_extension": ".py",
   "mimetype": "text/x-python",
   "name": "python",
   "nbconvert_exporter": "python",
   "pygments_lexer": "ipython3",
   "version": "3.11.6"
  }
 },
 "nbformat": 4,
 "nbformat_minor": 5
}
