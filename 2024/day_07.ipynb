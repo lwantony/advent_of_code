{
 "cells": [
  {
   "cell_type": "code",
   "execution_count": 1,
   "id": "e3d20939-f0c4-489c-90a1-f93792cd88f1",
   "metadata": {},
   "outputs": [],
   "source": [
    "from IPython.core.interactiveshell import InteractiveShell\n",
    "InteractiveShell.ast_node_interactivity = \"all\""
   ]
  },
  {
   "cell_type": "markdown",
   "id": "9a5481ea-f123-478e-8d25-ab6e742f4c15",
   "metadata": {},
   "source": [
    "# Part 1"
   ]
  },
  {
   "cell_type": "code",
   "execution_count": 3,
   "id": "0a1c0eab-da88-4c3b-a250-65f7fa595fa2",
   "metadata": {},
   "outputs": [],
   "source": [
    "def get_the_total( total, number_list):\n",
    "    if len(number_list) == 2:\n",
    "        return eval('+'.join(number_list)) == total or eval('*'.join(number_list)) == total\n",
    "    else:\n",
    "        num = number_list.pop(0)\n",
    "        old = number_list[0]\n",
    "        n1 = number_list.copy()\n",
    "        n2 = number_list.copy()\n",
    "\n",
    "        n1[0] = str(eval(f'{num}+{old}'))\n",
    "        n2[0] = str(eval(f'{num}*{old}'))\n",
    "        return get_the_total(total,n1) or get_the_total(total,n2)\n",
    "\n",
    "\n",
    "def read_file(path):\n",
    "    sum_total=0\n",
    "    with open(path,'r') as f:\n",
    "        for line in f.readlines():\n",
    "            line= line.strip()\n",
    "            total, numbers = line.split(':')\n",
    "            numbers = numbers.strip().split(' ') \n",
    "            total = int(total)\n",
    "            \n",
    "            if get_the_total(total,numbers):\n",
    "                sum_total +=total\n",
    "    return sum_total\n"
   ]
  },
  {
   "cell_type": "code",
   "execution_count": 4,
   "id": "a3e4895c-af73-4383-86e4-67e67a1d4879",
   "metadata": {},
   "outputs": [],
   "source": [
    "def part_one(path='input_data/test_07.txt'):\n",
    "    return read_file(path)"
   ]
  },
  {
   "cell_type": "code",
   "execution_count": 5,
   "id": "a86ec43c-4925-4c8f-8496-00676b526abc",
   "metadata": {},
   "outputs": [
    {
     "data": {
      "text/plain": [
       "3749"
      ]
     },
     "execution_count": 5,
     "metadata": {},
     "output_type": "execute_result"
    }
   ],
   "source": [
    "part_one()"
   ]
  },
  {
   "cell_type": "code",
   "execution_count": 6,
   "id": "e19b636d-cc7a-4c30-b0a2-60b3d4453964",
   "metadata": {},
   "outputs": [
    {
     "data": {
      "text/plain": [
       "10741443549536"
      ]
     },
     "execution_count": 6,
     "metadata": {},
     "output_type": "execute_result"
    }
   ],
   "source": [
    "part_one('input_data/day_07.txt')"
   ]
  },
  {
   "cell_type": "markdown",
   "id": "667d5c9d-9bce-4c19-bb89-41c65f305543",
   "metadata": {},
   "source": [
    "# Part 2"
   ]
  },
  {
   "cell_type": "code",
   "execution_count": 25,
   "id": "a01b3c0b-e025-40cc-9897-31dbcfdc1f6f",
   "metadata": {},
   "outputs": [],
   "source": [
    "def get_the_total_2( total, number_list):\n",
    "    if len(number_list) == 2:\n",
    "        added = eval('+'.join(number_list))\n",
    "        multiplied = eval('*'.join(number_list)) \n",
    "        concat = int(''.join([ x.strip() for x in number_list]))\n",
    "        \n",
    "        return  added==total or multiplied == total or concat == total\n",
    "    else:\n",
    "        num = number_list.pop(0)\n",
    "        old = number_list[0]\n",
    "        n1 = number_list.copy()\n",
    "        n2 = number_list.copy()\n",
    "        n3 = number_list.copy()\n",
    "\n",
    "        n1[0] = str(eval(f'{num}+{old}'))\n",
    "        n2[0] = str(eval(f'{num}*{old}'))\n",
    "        n3[0] = str(f'{num.strip()}{old.strip()}')\n",
    "\n",
    "        return get_the_total_2(total,n1) or get_the_total_2(total,n2) or get_the_total_2(total,n3)\n",
    "\n",
    "\n",
    "def read_file_2(path):\n",
    "    sum_total=0\n",
    "    with open(path,'r') as f:\n",
    "        for line in f.readlines():\n",
    "            line= line.strip()\n",
    "            total, numbers = line.split(':')\n",
    "            numbers = numbers.strip().split(' ') \n",
    "            total = int(total)\n",
    "            \n",
    "            if get_the_total_2(total,numbers):\n",
    "                sum_total +=total\n",
    "    return sum_total\n"
   ]
  },
  {
   "cell_type": "code",
   "execution_count": 26,
   "id": "c7ce4cb9-5032-4a36-9c3a-40cafce85a6f",
   "metadata": {},
   "outputs": [],
   "source": [
    "def part_two(path='input_data/test_07.txt'):\n",
    "    return read_file_2(path)"
   ]
  },
  {
   "cell_type": "code",
   "execution_count": 27,
   "id": "110d0b06-afef-4084-a562-0d5bc174cfce",
   "metadata": {},
   "outputs": [
    {
     "data": {
      "text/plain": [
       "11387"
      ]
     },
     "execution_count": 27,
     "metadata": {},
     "output_type": "execute_result"
    }
   ],
   "source": [
    "part_two()"
   ]
  },
  {
   "cell_type": "code",
   "execution_count": 28,
   "id": "bf32a674-14c1-43c0-a0fb-8ddb19e45be2",
   "metadata": {},
   "outputs": [
    {
     "name": "stdout",
     "output_type": "stream",
     "text": [
      "CPU times: user 28.6 s, sys: 12.6 ms, total: 28.6 s\n",
      "Wall time: 28.8 s\n"
     ]
    },
    {
     "data": {
      "text/plain": [
       "500335179214836"
      ]
     },
     "execution_count": 28,
     "metadata": {},
     "output_type": "execute_result"
    }
   ],
   "source": [
    "%%time\n",
    "part_two('input_data/day_07.txt')"
   ]
  },
  {
   "cell_type": "code",
   "execution_count": null,
   "id": "53e1a943-c2ac-442a-a542-9082ab1eba06",
   "metadata": {},
   "outputs": [],
   "source": []
  }
 ],
 "metadata": {
  "kernelspec": {
   "display_name": "work_env",
   "language": "python",
   "name": "work_env"
  },
  "language_info": {
   "codemirror_mode": {
    "name": "ipython",
    "version": 3
   },
   "file_extension": ".py",
   "mimetype": "text/x-python",
   "name": "python",
   "nbconvert_exporter": "python",
   "pygments_lexer": "ipython3",
   "version": "3.11.6"
  }
 },
 "nbformat": 4,
 "nbformat_minor": 5
}
