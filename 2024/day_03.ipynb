{
 "cells": [
  {
   "cell_type": "code",
   "execution_count": 1,
   "id": "e3d20939-f0c4-489c-90a1-f93792cd88f1",
   "metadata": {},
   "outputs": [],
   "source": [
    "from IPython.core.interactiveshell import InteractiveShell\n",
    "InteractiveShell.ast_node_interactivity = \"all\""
   ]
  },
  {
   "cell_type": "markdown",
   "id": "9a5481ea-f123-478e-8d25-ab6e742f4c15",
   "metadata": {},
   "source": [
    "# Part 1"
   ]
  },
  {
   "cell_type": "code",
   "execution_count": 2,
   "id": "5b44456c-4a4d-4cb1-9f8d-4451531d7186",
   "metadata": {},
   "outputs": [],
   "source": [
    "import re"
   ]
  },
  {
   "cell_type": "code",
   "execution_count": 6,
   "id": "a1ff73f1-74c4-4be8-8248-bfc439c346ba",
   "metadata": {},
   "outputs": [],
   "source": [
    "pattern = r\"mul\\((\\d{1,3}),(\\d{1,3})\\)\""
   ]
  },
  {
   "cell_type": "code",
   "execution_count": 8,
   "id": "9c4233b4-9c21-40ba-8db2-59cb7329941e",
   "metadata": {},
   "outputs": [
    {
     "data": {
      "text/plain": [
       "161"
      ]
     },
     "execution_count": 8,
     "metadata": {},
     "output_type": "execute_result"
    }
   ],
   "source": [
    "test='xmul(2,4)%&mul[3,7]!@^do_not_mul(5,5)+mul(32,64]then(mul(11,8)mul(8,5))'\n",
    "pairs = re.findall(pattern, test)\n",
    "sum ([ int(x[0])*int(x[1]) for x in pairs])"
   ]
  },
  {
   "cell_type": "code",
   "execution_count": 10,
   "id": "fa6ea15a-7685-4cde-8064-a52b6b732785",
   "metadata": {},
   "outputs": [],
   "source": [
    "def part_one():\n",
    "    with open('input_data/day_03.txt','r') as f:\n",
    "        full= '\\n'.join(f.readlines())\n",
    "    \n",
    "    pairs = re.findall(pattern, full)\n",
    "    return    sum ([ int(x[0])*int(x[1]) for x in pairs])\n"
   ]
  },
  {
   "cell_type": "code",
   "execution_count": 11,
   "id": "2ae137bd-c71a-4c85-9a35-ddb411b1a810",
   "metadata": {},
   "outputs": [
    {
     "data": {
      "text/plain": [
       "191183308"
      ]
     },
     "execution_count": 11,
     "metadata": {},
     "output_type": "execute_result"
    }
   ],
   "source": [
    "part_one()"
   ]
  },
  {
   "cell_type": "markdown",
   "id": "667d5c9d-9bce-4c19-bb89-41c65f305543",
   "metadata": {},
   "source": [
    "# Part 2"
   ]
  },
  {
   "cell_type": "code",
   "execution_count": 21,
   "id": "43e88632-f797-4a7b-92c5-e4acdb1be736",
   "metadata": {},
   "outputs": [
    {
     "data": {
      "text/plain": [
       "[20, 59]"
      ]
     },
     "execution_count": 21,
     "metadata": {},
     "output_type": "execute_result"
    }
   ],
   "source": [
    "\n",
    "test_2=\"xmul(2,4)&mul[3,7]!^don't()_mul(5,5)+mul(32,64](mul(11,8)undo()?mul(8,5))\"\n",
    "[x.span()[0] for x in re.finditer(\"do()\",test_2)]"
   ]
  },
  {
   "cell_type": "code",
   "execution_count": 14,
   "id": "de62967a-62c1-474b-a847-574dd5cc8699",
   "metadata": {},
   "outputs": [],
   "source": [
    "def get_total(string):\n",
    "    pairs = re.findall(pattern, string)\n",
    "    return sum ([ int(x[0])*int(x[1]) for x in pairs])\n",
    "    \n",
    "def part_two():\n",
    "    with open('input_data/day_03.txt','r') as f:\n",
    "        full= ''.join(f.readlines())\n",
    "        \n",
    "    starts = [0]+[x.span()[0] for x in re.finditer(\"do()\",full)]\n",
    "    ends = [x.span()[0] for x in re.finditer(\"don't()\",full)] +[len(full)]\n",
    "\n",
    "    together= [ (s,1) for s in starts]+[ (e,0) for e in ends]\n",
    "    time_sorted = sorted(together, key=lambda x: x[0] )\n",
    "\n",
    "    start=-1\n",
    "    sections =[]\n",
    "    for t in time_sorted:\n",
    "        if t[1] == 1 and start=-1:\n",
    "            start = t[0]\n",
    "        elif t[1] == 0 and start!=-1:\n",
    "            sections.append([start,t[0]])\n",
    "            start=-1\n",
    "\n",
    "\n",
    "    while sidx < len(starts) and eidx < len(ends):\n",
    "        if starts[sidx] < ends[eidx]:\n",
    "            sections.append\n",
    "    \n",
    "    total=0\n",
    "    total+=get_total(full[start:cur_idx])\n",
    "    return total\n",
    "        \n",
    "                \n",
    "            \n"
   ]
  },
  {
   "cell_type": "code",
   "execution_count": 15,
   "id": "f75dac19-ce30-4dfe-b826-7ff334a5bf37",
   "metadata": {},
   "outputs": [
    {
     "ename": "KeyboardInterrupt",
     "evalue": "",
     "output_type": "error",
     "traceback": [
      "\u001b[0;31m---------------------------------------------------------------------------\u001b[0m",
      "\u001b[0;31mKeyboardInterrupt\u001b[0m                         Traceback (most recent call last)",
      "Cell \u001b[0;32mIn[15], line 1\u001b[0m\n\u001b[0;32m----> 1\u001b[0m \u001b[43mpart_two\u001b[49m\u001b[43m(\u001b[49m\u001b[43m)\u001b[49m\n",
      "Cell \u001b[0;32mIn[14], line 13\u001b[0m, in \u001b[0;36mpart_two\u001b[0;34m()\u001b[0m\n\u001b[1;32m     11\u001b[0m do\u001b[38;5;241m=\u001b[39m\u001b[38;5;28;01mTrue\u001b[39;00m\n\u001b[1;32m     12\u001b[0m total\u001b[38;5;241m=\u001b[39m\u001b[38;5;241m0\u001b[39m\n\u001b[0;32m---> 13\u001b[0m \u001b[38;5;28;01mwhile\u001b[39;00m cur_idx \u001b[38;5;241m<\u001b[39m \u001b[38;5;28;43mlen\u001b[39;49m\u001b[43m(\u001b[49m\u001b[43mfull\u001b[49m\u001b[43m)\u001b[49m:\n\u001b[1;32m     14\u001b[0m     \u001b[38;5;28;01mif\u001b[39;00m full[cur_idx\u001b[38;5;241m-\u001b[39m\u001b[38;5;241m7\u001b[39m:cur_idx] \u001b[38;5;241m==\u001b[39m \u001b[38;5;124m\"\u001b[39m\u001b[38;5;124mdon\u001b[39m\u001b[38;5;124m'\u001b[39m\u001b[38;5;124mt()\u001b[39m\u001b[38;5;124m\"\u001b[39m:\n\u001b[1;32m     15\u001b[0m         \u001b[38;5;28;01mif\u001b[39;00m do:\n",
      "\u001b[0;31mKeyboardInterrupt\u001b[0m: "
     ]
    }
   ],
   "source": [
    "part_two()"
   ]
  },
  {
   "cell_type": "code",
   "execution_count": null,
   "id": "84ba9622-9c89-49f6-a9a1-0514bfd903f8",
   "metadata": {},
   "outputs": [],
   "source": []
  }
 ],
 "metadata": {
  "kernelspec": {
   "display_name": "work_env",
   "language": "python",
   "name": "work_env"
  },
  "language_info": {
   "codemirror_mode": {
    "name": "ipython",
    "version": 3
   },
   "file_extension": ".py",
   "mimetype": "text/x-python",
   "name": "python",
   "nbconvert_exporter": "python",
   "pygments_lexer": "ipython3",
   "version": "3.11.6"
  }
 },
 "nbformat": 4,
 "nbformat_minor": 5
}
