{
 "cells": [
  {
   "cell_type": "code",
   "execution_count": 1,
   "id": "e3d20939-f0c4-489c-90a1-f93792cd88f1",
   "metadata": {},
   "outputs": [],
   "source": [
    "from IPython.core.interactiveshell import InteractiveShell\n",
    "InteractiveShell.ast_node_interactivity = \"all\""
   ]
  },
  {
   "cell_type": "markdown",
   "id": "9a5481ea-f123-478e-8d25-ab6e742f4c15",
   "metadata": {},
   "source": [
    "# Part 1"
   ]
  },
  {
   "cell_type": "code",
   "execution_count": 25,
   "id": "0481bf32-03b6-482e-b553-4bcefc67b4ad",
   "metadata": {},
   "outputs": [],
   "source": [
    "from collections import deque\n",
    "\n",
    "class Region:\n",
    "    def __init__(self, land, loc):\n",
    "        self.kind = land[loc[0]][loc[1]]\n",
    "        self.total_corners = 0\n",
    "        self._flood_fill(land, loc)\n",
    "\n",
    "    def get_neighbors(self,land, loc):\n",
    "        tY,tX = len(land), len(land[0])\n",
    "        dirs =[ (0,1), (0,-1), (1,0), (-1,0)]\n",
    "        y,x = loc\n",
    "\n",
    "        neighs = []\n",
    "        for d in dirs:\n",
    "            cy, cx = d\n",
    "            ny, nx = y+cy, x+cx \n",
    "            if ny>=0 and ny< tY and nx>=0 and nx < tX:\n",
    "                if land[ny][nx] == self.kind:\n",
    "                    neighs.append((ny,nx))\n",
    "        return neighs\n",
    "    \n",
    "    def _flood_fill(self, land, loc):\n",
    "        area = 0\n",
    "        perim = 0 \n",
    "        frontier = deque([loc])\n",
    "        seen = set([])\n",
    "\n",
    "        while len(frontier) > 0 :\n",
    "            loc = frontier.popleft()\n",
    "            if loc in seen:\n",
    "                continue\n",
    "            seen.add(loc)\n",
    "            area+=1\n",
    "            neighbors =  self.get_neighbors(land, loc)\n",
    "            \n",
    "            perim += (4- len(neighbors))\n",
    "\n",
    "            for n in neighbors:\n",
    "                if n not in seen:\n",
    "                    frontier.append(n)\n",
    "                    \n",
    "        self.area = area\n",
    "        self.perimeter = perim\n",
    "        self.plots = seen\n",
    "\n",
    "    def count_corners(self):\n",
    "        total_corners=0\n",
    "        dirs =[ (0,1), (-1,0), (0,-1), (1,0)]\n",
    "        for loc in list(self.plots):\n",
    "            y,x=loc\n",
    "            for c1, c2 in zip( dirs, list(dirs[1:])+[dirs[0]]):\n",
    "                p1 = ( c1[0]+y, c1[1]+x)\n",
    "                p2 = ( c2[0]+y, c2[1]+x)\n",
    "                if p1 not in self.plots and p2 not in self.plots:\n",
    "                    self.total_corners+=1\n",
    "                if p1 in self.plots and p2 in self.plots:\n",
    "                    p3 = ( c2[0]+c1[0]+y, c2[1]+c1[1]+x)\n",
    "                    if p3 not in self.plots: \n",
    "                        self.total_corners+=1\n",
    "                    \n",
    "    def __repr__(self):\n",
    "        return f'{self.kind} with area {self.area} and perim {self.perimeter} and {len(self.plots)}'"
   ]
  },
  {
   "cell_type": "code",
   "execution_count": 26,
   "id": "0a1c0eab-da88-4c3b-a250-65f7fa595fa2",
   "metadata": {},
   "outputs": [],
   "source": [
    "def read_file(path):\n",
    "    land = []\n",
    "    with open(path,'r') as f:\n",
    "        for line in f.readlines():\n",
    "            land.append( list(line.strip()))\n",
    "    return land"
   ]
  },
  {
   "cell_type": "code",
   "execution_count": 27,
   "id": "a3e4895c-af73-4383-86e4-67e67a1d4879",
   "metadata": {},
   "outputs": [],
   "source": [
    "def part_one(path='input_data/test_12.txt'):\n",
    "    land = read_file(path)\n",
    "    \n",
    "    total_plots=[]\n",
    "    for y in range(len(land)):\n",
    "        for x in range(len(land[0])):\n",
    "            total_plots.append((y,x))\n",
    "            \n",
    "    total_plots = set(total_plots)\n",
    "    regions=[]\n",
    "    \n",
    "    while len(total_plots) > 0 :\n",
    "        seed = total_plots.pop()\n",
    "        regions.append(Region(land, seed))\n",
    "        total_plots = total_plots- regions[-1].plots\n",
    "\n",
    "    return sum([ r.area*r.perimeter for r in regions])\n",
    "         "
   ]
  },
  {
   "cell_type": "code",
   "execution_count": 28,
   "id": "a86ec43c-4925-4c8f-8496-00676b526abc",
   "metadata": {},
   "outputs": [
    {
     "data": {
      "text/plain": [
       "1930"
      ]
     },
     "execution_count": 28,
     "metadata": {},
     "output_type": "execute_result"
    }
   ],
   "source": [
    "part_one()"
   ]
  },
  {
   "cell_type": "code",
   "execution_count": 29,
   "id": "e19b636d-cc7a-4c30-b0a2-60b3d4453964",
   "metadata": {
    "scrolled": true
   },
   "outputs": [
    {
     "data": {
      "text/plain": [
       "1437300"
      ]
     },
     "execution_count": 29,
     "metadata": {},
     "output_type": "execute_result"
    }
   ],
   "source": [
    "part_one('input_data/day_12.txt')"
   ]
  },
  {
   "cell_type": "markdown",
   "id": "667d5c9d-9bce-4c19-bb89-41c65f305543",
   "metadata": {},
   "source": [
    "# Part 2"
   ]
  },
  {
   "cell_type": "code",
   "execution_count": 32,
   "id": "c7ce4cb9-5032-4a36-9c3a-40cafce85a6f",
   "metadata": {},
   "outputs": [],
   "source": [
    "def part_two(path='input_data/test_12.txt'):\n",
    "    land = read_file(path)\n",
    "    \n",
    "    total_plots=[]\n",
    "    for y in range(len(land)):\n",
    "        for x in range(len(land[0])):\n",
    "            total_plots.append((y,x))\n",
    "            \n",
    "    total_plots = set(total_plots)\n",
    "    regions=[]\n",
    "    \n",
    "    while len(total_plots) > 0 :\n",
    "        seed = total_plots.pop()\n",
    "        regions.append(Region(land, seed))\n",
    "        total_plots = total_plots- regions[-1].plots\n",
    "\n",
    "    for r in regions:\n",
    "        r.count_corners()\n",
    "    return sum([ r.area*r.total_corners for r in regions])"
   ]
  },
  {
   "cell_type": "code",
   "execution_count": 33,
   "id": "110d0b06-afef-4084-a562-0d5bc174cfce",
   "metadata": {},
   "outputs": [
    {
     "data": {
      "text/plain": [
       "1206"
      ]
     },
     "execution_count": 33,
     "metadata": {},
     "output_type": "execute_result"
    }
   ],
   "source": [
    "part_two()"
   ]
  },
  {
   "cell_type": "code",
   "execution_count": 34,
   "id": "bf32a674-14c1-43c0-a0fb-8ddb19e45be2",
   "metadata": {},
   "outputs": [
    {
     "name": "stdout",
     "output_type": "stream",
     "text": [
      "CPU times: user 109 ms, sys: 4.11 ms, total: 113 ms\n",
      "Wall time: 116 ms\n"
     ]
    },
    {
     "data": {
      "text/plain": [
       "849332"
      ]
     },
     "execution_count": 34,
     "metadata": {},
     "output_type": "execute_result"
    }
   ],
   "source": [
    "%%time\n",
    "part_two('input_data/day_12.txt')"
   ]
  },
  {
   "cell_type": "code",
   "execution_count": null,
   "id": "53e1a943-c2ac-442a-a542-9082ab1eba06",
   "metadata": {},
   "outputs": [],
   "source": []
  }
 ],
 "metadata": {
  "kernelspec": {
   "display_name": "work_env",
   "language": "python",
   "name": "work_env"
  },
  "language_info": {
   "codemirror_mode": {
    "name": "ipython",
    "version": 3
   },
   "file_extension": ".py",
   "mimetype": "text/x-python",
   "name": "python",
   "nbconvert_exporter": "python",
   "pygments_lexer": "ipython3",
   "version": "3.11.6"
  }
 },
 "nbformat": 4,
 "nbformat_minor": 5
}
