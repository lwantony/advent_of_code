{
 "cells": [
  {
   "cell_type": "code",
   "execution_count": 1,
   "id": "2efe433c-ccbf-4b0a-8653-f0824059fd6f",
   "metadata": {
    "tags": []
   },
   "outputs": [],
   "source": [
    "from IPython.core.interactiveshell import InteractiveShell\n",
    "InteractiveShell.ast_node_interactivity = \"all\""
   ]
  },
  {
   "cell_type": "markdown",
   "id": "ff944d02-8a60-417e-888a-54e4e5141bbf",
   "metadata": {
    "tags": []
   },
   "source": [
    "# Part 1"
   ]
  },
  {
   "cell_type": "code",
   "execution_count": 2,
   "id": "a5e339dd-ba71-4f61-9f15-88dc7b957d77",
   "metadata": {},
   "outputs": [],
   "source": [
    "def mix_numbers(a,b):\n",
    "    return a^b\n",
    "def prune(a):\n",
    "    return a%16777216"
   ]
  },
  {
   "cell_type": "code",
   "execution_count": 3,
   "id": "dfc4f5d8-02e8-4d32-8e98-034250fc53d4",
   "metadata": {},
   "outputs": [],
   "source": [
    "def get_next_secret(a):\n",
    "    step_one = prune(mix_numbers((a*64),a))\n",
    "    step_two = prune(mix_numbers(step_one//32,step_one))\n",
    "    step_three = prune(mix_numbers(2048*step_two,step_two))\n",
    "    return step_three\n",
    "\n"
   ]
  },
  {
   "cell_type": "code",
   "execution_count": 5,
   "id": "3be9e68d-9124-41f2-95f0-468444d0f98e",
   "metadata": {
    "tags": []
   },
   "outputs": [],
   "source": [
    "def read_numbers(path):\n",
    "    with open(path, 'r') as f:\n",
    "        numbers = [ int(line.strip()) for line in f.readlines()]\n",
    "        \n",
    "    return numbers\n",
    "\n",
    "\n",
    "def part_one(path='input_data/test_22.txt'):\n",
    "    secret_nums = read_numbers(path)\n",
    "\n",
    "    total=0\n",
    "    for s in secret_nums:\n",
    "        for i in range(2000):\n",
    "            s = get_next_secret(s)\n",
    "        total+=s\n",
    "\n",
    "    return total"
   ]
  },
  {
   "cell_type": "code",
   "execution_count": 6,
   "id": "c665d38a-4c25-440f-8e32-b7e9607e7617",
   "metadata": {},
   "outputs": [
    {
     "name": "stdout",
     "output_type": "stream",
     "text": [
      "CPU times: user 7.63 ms, sys: 1.59 ms, total: 9.22 ms\n",
      "Wall time: 8.05 ms\n"
     ]
    },
    {
     "data": {
      "text/plain": [
       "37327623"
      ]
     },
     "execution_count": 6,
     "metadata": {},
     "output_type": "execute_result"
    }
   ],
   "source": [
    "%%time\n",
    "part_one()"
   ]
  },
  {
   "cell_type": "code",
   "execution_count": 7,
   "id": "23ef893e-d596-49c4-8dac-d1d2aa72a193",
   "metadata": {},
   "outputs": [
    {
     "name": "stdout",
     "output_type": "stream",
     "text": [
      "CPU times: user 1.43 s, sys: 10 ms, total: 1.44 s\n",
      "Wall time: 1.45 s\n"
     ]
    },
    {
     "data": {
      "text/plain": [
       "19847565303"
      ]
     },
     "execution_count": 7,
     "metadata": {},
     "output_type": "execute_result"
    }
   ],
   "source": [
    "%%time\n",
    "part_one('input_data/day_22.txt')"
   ]
  },
  {
   "cell_type": "markdown",
   "id": "c0172b8b-aab1-42de-a4f0-8f413e068a92",
   "metadata": {},
   "source": [
    "# Part Two"
   ]
  },
  {
   "cell_type": "code",
   "execution_count": 12,
   "id": "ad049b66-e1b2-4f94-9742-3b121298e43f",
   "metadata": {},
   "outputs": [],
   "source": []
  },
  {
   "cell_type": "code",
   "execution_count": 25,
   "id": "0c3fc8ba-1f4d-4dad-aec1-99fcc35c3886",
   "metadata": {},
   "outputs": [],
   "source": [
    "from collections import deque\n",
    "\n",
    "def get_single_digit(x):\n",
    "    return x -(x//10)*10\n",
    "    \n",
    "def get_banana_map(s):\n",
    "    sequences = {}\n",
    "    cur_seq = deque([])\n",
    "    last = (s, get_single_digit(s))\n",
    "    for i in range(2000):\n",
    "        s = get_next_secret(last[0])\n",
    "        d = get_single_digit(s)\n",
    "\n",
    "        change = last[1]-d\n",
    "        cur_seq.append(change)\n",
    "        if len(cur_seq) == 5:\n",
    "            _=cur_seq.popleft()\n",
    "        if len(cur_seq) == 4 and tuple(cur_seq) not in sequences:\n",
    "            sequences[tuple(cur_seq)] = d\n",
    "        last = (s,d)\n",
    "    return sequences\n",
    "\n",
    "def part_two(path='input_data/test_22_pt2.txt'):\n",
    "    secret_nums = read_numbers(path)\n",
    "\n",
    "    mappings=[]\n",
    "    for s in secret_nums:\n",
    "        mappings.append( get_banana_map(s))\n",
    "\n",
    "    possible_seqs = set([])\n",
    "    for m in mappings:\n",
    "        possible_seqs = possible_seqs| m.keys()\n",
    "\n",
    "    max_bananas =0\n",
    "    for seq in possible_seqs:\n",
    "        seq_sum =0 \n",
    "        for m in mappings:\n",
    "            try :\n",
    "                seq_sum += m[seq]\n",
    "            except KeyError:\n",
    "                continue\n",
    "        max_bananas = max(max_bananas,seq_sum)\n",
    "\n",
    "    return max_bananas"
   ]
  },
  {
   "cell_type": "code",
   "execution_count": 27,
   "id": "50683973-c688-421f-8628-47797c44782b",
   "metadata": {
    "scrolled": true
   },
   "outputs": [
    {
     "name": "stdout",
     "output_type": "stream",
     "text": [
      "CPU times: user 27.2 ms, sys: 2.59 ms, total: 29.8 ms\n",
      "Wall time: 32.1 ms\n"
     ]
    },
    {
     "data": {
      "text/plain": [
       "23"
      ]
     },
     "execution_count": 27,
     "metadata": {},
     "output_type": "execute_result"
    }
   ],
   "source": [
    "%%time\n",
    "part_two()"
   ]
  },
  {
   "cell_type": "code",
   "execution_count": 28,
   "id": "d3bf2145-808c-4cea-aae5-6081408893c7",
   "metadata": {
    "scrolled": true
   },
   "outputs": [
    {
     "name": "stdout",
     "output_type": "stream",
     "text": [
      "CPU times: user 29.1 s, sys: 433 ms, total: 29.5 s\n",
      "Wall time: 29.6 s\n"
     ]
    },
    {
     "data": {
      "text/plain": [
       "2250"
      ]
     },
     "execution_count": 28,
     "metadata": {},
     "output_type": "execute_result"
    }
   ],
   "source": [
    "%%time\n",
    "part_two('input_data/day_22.txt')"
   ]
  },
  {
   "cell_type": "code",
   "execution_count": null,
   "id": "7e7238e7-b4c7-4b26-b748-001fc5282e4b",
   "metadata": {},
   "outputs": [],
   "source": []
  }
 ],
 "metadata": {
  "kernelspec": {
   "display_name": "py312",
   "language": "python",
   "name": "py312"
  },
  "language_info": {
   "codemirror_mode": {
    "name": "ipython",
    "version": 3
   },
   "file_extension": ".py",
   "mimetype": "text/x-python",
   "name": "python",
   "nbconvert_exporter": "python",
   "pygments_lexer": "ipython3",
   "version": "3.12.11"
  }
 },
 "nbformat": 4,
 "nbformat_minor": 5
}
