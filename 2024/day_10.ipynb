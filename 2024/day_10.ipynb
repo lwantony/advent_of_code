{
 "cells": [
  {
   "cell_type": "code",
   "execution_count": 1,
   "id": "e3d20939-f0c4-489c-90a1-f93792cd88f1",
   "metadata": {},
   "outputs": [],
   "source": [
    "from IPython.core.interactiveshell import InteractiveShell\n",
    "InteractiveShell.ast_node_interactivity = \"all\""
   ]
  },
  {
   "cell_type": "markdown",
   "id": "9a5481ea-f123-478e-8d25-ab6e742f4c15",
   "metadata": {},
   "source": [
    "# Part 1"
   ]
  },
  {
   "cell_type": "code",
   "execution_count": 12,
   "id": "81d6933f-c496-4b41-8a96-a73d829d48b8",
   "metadata": {},
   "outputs": [
    {
     "name": "stdout",
     "output_type": "stream",
     "text": [
      "19999\n",
      "19\n"
     ]
    }
   ],
   "source": [
    "with open('input_data/day_09.txt') as f:\n",
    "    print(len(f.readline().strip()))\n",
    "    \n",
    "with open('input_data/test_09.txt') as f:\n",
    "    print(len(f.readline().strip()))"
   ]
  },
  {
   "cell_type": "code",
   "execution_count": 3,
   "id": "a3c3215d-cd5f-42b4-9b2e-ee9f0443a1d9",
   "metadata": {},
   "outputs": [
    {
     "data": {
      "text/plain": [
       "9999"
      ]
     },
     "execution_count": 3,
     "metadata": {},
     "output_type": "execute_result"
    }
   ],
   "source": [
    "19999//2"
   ]
  },
  {
   "cell_type": "code",
   "execution_count": 13,
   "id": "0a1c0eab-da88-4c3b-a250-65f7fa595fa2",
   "metadata": {},
   "outputs": [],
   "source": [
    "from collections import deque\n",
    "\n",
    "def read_file(path):\n",
    "    park=[]\n",
    "    with open(path,'r') as f:\n",
    "        for line in f.readlines():\n",
    "            park.append( [ int(i) for i in line.strip()])\n",
    "    return park\n",
    "    \n",
    "\n",
    "def get_neighbors(loc,nY,nX):\n",
    "    changes=[ (0,1), (0,-1), (-1,0), (1,0) ]  \n",
    "    neighs=[]\n",
    "    y,x = loc \n",
    "    for c in changes:\n",
    "        cy,cx = c\n",
    "        ny=y+cy \n",
    "        nx=x+cx\n",
    "        if ny >=0 and ny < nY and nx >=0 and nx < nX:\n",
    "            neighs.append((ny,nx))\n",
    "    return neighs\n",
    "            \n",
    "    \n",
    "def perform_search(park, loc):\n",
    "     # print out what we find\n",
    "    frontier = deque([loc])\n",
    "    \n",
    "    nY,nX = len(park), len(park[0])\n",
    "\n",
    "    trail_ends = []\n",
    "    while len(frontier) >0:\n",
    "        cur_loc = frontier.popleft()\n",
    "        y,x = cur_loc \n",
    "        cur_val =park[y][x]\n",
    "        if cur_val == 9:\n",
    "            trail_ends.append(cur_loc)\n",
    "        \n",
    "        for n_loc in get_neighbors(cur_loc, nY, nX):\n",
    "            n_val =park[n_loc[0]][n_loc[1]]\n",
    "            if n_val-cur_val == 1:\n",
    "                frontier.append(n_loc)\n",
    "                \n",
    "    return len(set(trail_ends)), len(trail_ends)"
   ]
  },
  {
   "cell_type": "code",
   "execution_count": 17,
   "id": "a3e4895c-af73-4383-86e4-67e67a1d4879",
   "metadata": {},
   "outputs": [],
   "source": [
    "def part_one(path='input_data/test_10.txt'):\n",
    "    fmap = read_file(path)\n",
    "    \n",
    "    total=0 \n",
    "    distinct=0\n",
    "    for y,line in enumerate(fmap):\n",
    "        \n",
    "        zeros = [ (y,x) for x,v in enumerate(line) if v == 0 ] \n",
    "        for z in zeros:\n",
    "            p1,p2  = perform_search(fmap, z)\n",
    "            total +=p1\n",
    "            distinct +=p2\n",
    "            \n",
    "                 \n",
    "    return total , distinct"
   ]
  },
  {
   "cell_type": "code",
   "execution_count": 18,
   "id": "a86ec43c-4925-4c8f-8496-00676b526abc",
   "metadata": {},
   "outputs": [
    {
     "ename": "TypeError",
     "evalue": "cannot unpack non-iterable int object",
     "output_type": "error",
     "traceback": [
      "\u001b[0;31m---------------------------------------------------------------------------\u001b[0m",
      "\u001b[0;31mTypeError\u001b[0m                                 Traceback (most recent call last)",
      "Cell \u001b[0;32mIn[18], line 1\u001b[0m\n\u001b[0;32m----> 1\u001b[0m \u001b[43mpart_one\u001b[49m\u001b[43m(\u001b[49m\u001b[43m)\u001b[49m\n",
      "Cell \u001b[0;32mIn[17], line 10\u001b[0m, in \u001b[0;36mpart_one\u001b[0;34m(path)\u001b[0m\n\u001b[1;32m      8\u001b[0m zeros \u001b[38;5;241m=\u001b[39m [ (y,x) \u001b[38;5;28;01mfor\u001b[39;00m x,v \u001b[38;5;129;01min\u001b[39;00m \u001b[38;5;28menumerate\u001b[39m(line) \u001b[38;5;28;01mif\u001b[39;00m v \u001b[38;5;241m==\u001b[39m \u001b[38;5;241m0\u001b[39m ] \n\u001b[1;32m      9\u001b[0m \u001b[38;5;28;01mfor\u001b[39;00m z \u001b[38;5;129;01min\u001b[39;00m zeros:\n\u001b[0;32m---> 10\u001b[0m     p1,p2  \u001b[38;5;241m=\u001b[39m perform_search(fmap, z)\n\u001b[1;32m     11\u001b[0m     total \u001b[38;5;241m+\u001b[39m\u001b[38;5;241m=\u001b[39mp1\n\u001b[1;32m     12\u001b[0m     distinct \u001b[38;5;241m+\u001b[39m\u001b[38;5;241m=\u001b[39mp2\n",
      "\u001b[0;31mTypeError\u001b[0m: cannot unpack non-iterable int object"
     ]
    }
   ],
   "source": [
    "part_one()"
   ]
  },
  {
   "cell_type": "code",
   "execution_count": 16,
   "id": "e19b636d-cc7a-4c30-b0a2-60b3d4453964",
   "metadata": {
    "scrolled": true
   },
   "outputs": [
    {
     "data": {
      "text/plain": [
       "582"
      ]
     },
     "execution_count": 16,
     "metadata": {},
     "output_type": "execute_result"
    }
   ],
   "source": [
    "part_one('input_data/day_10.txt')"
   ]
  },
  {
   "cell_type": "markdown",
   "id": "667d5c9d-9bce-4c19-bb89-41c65f305543",
   "metadata": {},
   "source": [
    "# Part 2"
   ]
  },
  {
   "cell_type": "code",
   "execution_count": 25,
   "id": "2f1faa41-11b5-4f03-99fd-ec1082006736",
   "metadata": {},
   "outputs": [
    {
     "data": {
      "text/plain": [
       "array([ 0,  1,  2,  3,  4,  5,  6,  7,  8,  9, 10, 11, 12, 13, 14, 15, 16,\n",
       "       17, 18])"
      ]
     },
     "execution_count": 25,
     "metadata": {},
     "output_type": "execute_result"
    },
    {
     "data": {
      "text/plain": [
       "array([ 1,  3,  5,  7,  9, 11, 13, 15, 17])"
      ]
     },
     "execution_count": 25,
     "metadata": {},
     "output_type": "execute_result"
    }
   ],
   "source": [
    "import numpy as np\n",
    "np.arange(19)\n",
    "np.arange(19)[1::2]"
   ]
  },
  {
   "cell_type": "markdown",
   "id": "644679be-28d6-4170-a7c9-0e4848a13fc1",
   "metadata": {},
   "source": [
    "# "
   ]
  },
  {
   "cell_type": "code",
   "execution_count": 110,
   "id": "0d63ed98-74cb-4ad6-88f5-b2b107a45c5d",
   "metadata": {},
   "outputs": [],
   "source": [
    "def chunk_sort(mem):\n",
    "    mem=[ int(m) for m in list(mem)]\n",
    "    original= mem.copy()\n",
    "    \n",
    "    high_idx = len(mem)//2\n",
    "    score=0\n",
    "    \n",
    "    for x, file in enumerate(mem[::-2]):\n",
    "        chunk = high_idx-x\n",
    "        add=True\n",
    "\n",
    "        tot_check = len(mem[1:-1*(x*2+1):2])\n",
    "            \n",
    "        for y in range(tot_check):\n",
    "            space = mem[1+2*y]\n",
    "            \n",
    "            if file <= space and  add:\n",
    "                \n",
    "                start = sum(original[:1+2*y])\n",
    "                if mem[1+2*y] != original[1+2*y]:\n",
    "                    start+= original[1+2*y]-mem[1+2*y]\n",
    "\n",
    "                for r in range(file):\n",
    "                    score+=(start+r)*chunk\n",
    "                add=False\n",
    "                \n",
    "                mem[1+2*y] = space-file\n",
    "\n",
    "        if add:\n",
    "            start = sum(original[:-1*(1+2*x)])\n",
    "            for r in range(file):\n",
    "                score+=(start+r)*chunk\n",
    "    return score\n"
   ]
  },
  {
   "cell_type": "code",
   "execution_count": 111,
   "id": "c7ce4cb9-5032-4a36-9c3a-40cafce85a6f",
   "metadata": {},
   "outputs": [],
   "source": [
    "def part_two(path='input_data/test_09.txt'):\n",
    "    mem = read_file(path)\n",
    "    tot = chunk_sort(mem.copy())\n",
    "    return tot"
   ]
  },
  {
   "cell_type": "code",
   "execution_count": 112,
   "id": "110d0b06-afef-4084-a562-0d5bc174cfce",
   "metadata": {},
   "outputs": [
    {
     "data": {
      "text/plain": [
       "2858"
      ]
     },
     "execution_count": 112,
     "metadata": {},
     "output_type": "execute_result"
    }
   ],
   "source": [
    "part_two()"
   ]
  },
  {
   "cell_type": "code",
   "execution_count": 113,
   "id": "bf32a674-14c1-43c0-a0fb-8ddb19e45be2",
   "metadata": {},
   "outputs": [
    {
     "name": "stdout",
     "output_type": "stream",
     "text": [
      "CPU times: user 2.3 s, sys: 9.64 ms, total: 2.31 s\n",
      "Wall time: 2.37 s\n"
     ]
    },
    {
     "data": {
      "text/plain": [
       "6323761685944"
      ]
     },
     "execution_count": 113,
     "metadata": {},
     "output_type": "execute_result"
    }
   ],
   "source": [
    "%%time\n",
    "part_two('input_data/day_09.txt')"
   ]
  },
  {
   "cell_type": "code",
   "execution_count": null,
   "id": "53e1a943-c2ac-442a-a542-9082ab1eba06",
   "metadata": {},
   "outputs": [],
   "source": []
  }
 ],
 "metadata": {
  "kernelspec": {
   "display_name": "work_env",
   "language": "python",
   "name": "work_env"
  },
  "language_info": {
   "codemirror_mode": {
    "name": "ipython",
    "version": 3
   },
   "file_extension": ".py",
   "mimetype": "text/x-python",
   "name": "python",
   "nbconvert_exporter": "python",
   "pygments_lexer": "ipython3",
   "version": "3.11.6"
  }
 },
 "nbformat": 4,
 "nbformat_minor": 5
}
