{
 "cells": [
  {
   "cell_type": "code",
   "execution_count": 1,
   "id": "e3d20939-f0c4-489c-90a1-f93792cd88f1",
   "metadata": {},
   "outputs": [],
   "source": [
    "from IPython.core.interactiveshell import InteractiveShell\n",
    "InteractiveShell.ast_node_interactivity = \"all\""
   ]
  },
  {
   "cell_type": "markdown",
   "id": "9a5481ea-f123-478e-8d25-ab6e742f4c15",
   "metadata": {},
   "source": [
    "# Part 1"
   ]
  },
  {
   "cell_type": "code",
   "execution_count": 2,
   "id": "0a1c0eab-da88-4c3b-a250-65f7fa595fa2",
   "metadata": {},
   "outputs": [],
   "source": [
    "from collections import deque\n",
    "\n",
    "def read_file(path):\n",
    "    park=[]\n",
    "    with open(path,'r') as f:\n",
    "        for line in f.readlines():\n",
    "            park.append( [ int(i) for i in line.strip()])\n",
    "    return park\n",
    "    \n",
    "\n",
    "def get_neighbors(loc,nY,nX):\n",
    "    changes=[ (0,1), (0,-1), (-1,0), (1,0) ]  \n",
    "    neighs=[]\n",
    "    y,x = loc \n",
    "    for c in changes:\n",
    "        cy,cx = c\n",
    "        ny=y+cy \n",
    "        nx=x+cx\n",
    "        if ny >=0 and ny < nY and nx >=0 and nx < nX:\n",
    "            neighs.append((ny,nx))\n",
    "    return neighs\n",
    "            \n",
    "    \n",
    "def perform_search(park, loc):\n",
    "     # print out what we find\n",
    "    frontier = deque([loc])\n",
    "    \n",
    "    nY,nX = len(park), len(park[0])\n",
    "\n",
    "    trail_ends = []\n",
    "    while len(frontier) >0:\n",
    "        cur_loc = frontier.popleft()\n",
    "        y,x = cur_loc \n",
    "        cur_val =park[y][x]\n",
    "        if cur_val == 9:\n",
    "            trail_ends.append(cur_loc)\n",
    "        \n",
    "        for n_loc in get_neighbors(cur_loc, nY, nX):\n",
    "            n_val =park[n_loc[0]][n_loc[1]]\n",
    "            if n_val-cur_val == 1:\n",
    "                frontier.append(n_loc)\n",
    "                \n",
    "    return len(set(trail_ends)), len(trail_ends)"
   ]
  },
  {
   "cell_type": "code",
   "execution_count": 3,
   "id": "a3e4895c-af73-4383-86e4-67e67a1d4879",
   "metadata": {},
   "outputs": [],
   "source": [
    "def part_one(path='input_data/test_10.txt'):\n",
    "    fmap = read_file(path)\n",
    "    \n",
    "    total=0 \n",
    "    distinct=0\n",
    "    for y,line in enumerate(fmap):\n",
    "        \n",
    "        zeros = [ (y,x) for x,v in enumerate(line) if v == 0 ] \n",
    "        for z in zeros:\n",
    "            p1,p2  = perform_search(fmap, z)\n",
    "            total +=p1\n",
    "            distinct +=p2\n",
    "            \n",
    "                 \n",
    "    return total , distinct"
   ]
  },
  {
   "cell_type": "code",
   "execution_count": 4,
   "id": "a86ec43c-4925-4c8f-8496-00676b526abc",
   "metadata": {},
   "outputs": [
    {
     "data": {
      "text/plain": [
       "(36, 81)"
      ]
     },
     "execution_count": 4,
     "metadata": {},
     "output_type": "execute_result"
    }
   ],
   "source": [
    "part_one()"
   ]
  },
  {
   "cell_type": "code",
   "execution_count": 5,
   "id": "e19b636d-cc7a-4c30-b0a2-60b3d4453964",
   "metadata": {
    "scrolled": true
   },
   "outputs": [
    {
     "data": {
      "text/plain": [
       "(582, 1302)"
      ]
     },
     "execution_count": 5,
     "metadata": {},
     "output_type": "execute_result"
    }
   ],
   "source": [
    "part_one('input_data/day_10.txt')"
   ]
  },
  {
   "cell_type": "code",
   "execution_count": 6,
   "id": "2f1faa41-11b5-4f03-99fd-ec1082006736",
   "metadata": {},
   "outputs": [
    {
     "data": {
      "text/plain": [
       "array([ 0,  1,  2,  3,  4,  5,  6,  7,  8,  9, 10, 11, 12, 13, 14, 15, 16,\n",
       "       17, 18])"
      ]
     },
     "execution_count": 6,
     "metadata": {},
     "output_type": "execute_result"
    },
    {
     "data": {
      "text/plain": [
       "array([ 1,  3,  5,  7,  9, 11, 13, 15, 17])"
      ]
     },
     "execution_count": 6,
     "metadata": {},
     "output_type": "execute_result"
    }
   ],
   "source": [
    "import numpy as np\n",
    "np.arange(19)\n",
    "np.arange(19)[1::2]"
   ]
  }
 ],
 "metadata": {
  "kernelspec": {
   "display_name": "work_env",
   "language": "python",
   "name": "work_env"
  },
  "language_info": {
   "codemirror_mode": {
    "name": "ipython",
    "version": 3
   },
   "file_extension": ".py",
   "mimetype": "text/x-python",
   "name": "python",
   "nbconvert_exporter": "python",
   "pygments_lexer": "ipython3",
   "version": "3.11.6"
  }
 },
 "nbformat": 4,
 "nbformat_minor": 5
}
