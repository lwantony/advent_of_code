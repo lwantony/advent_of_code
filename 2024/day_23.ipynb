{
 "cells": [
  {
   "cell_type": "code",
   "execution_count": 1,
   "id": "2efe433c-ccbf-4b0a-8653-f0824059fd6f",
   "metadata": {
    "tags": []
   },
   "outputs": [],
   "source": [
    "from IPython.core.interactiveshell import InteractiveShell\n",
    "InteractiveShell.ast_node_interactivity = \"all\""
   ]
  },
  {
   "cell_type": "markdown",
   "id": "ff944d02-8a60-417e-888a-54e4e5141bbf",
   "metadata": {
    "tags": []
   },
   "source": [
    "# Part 1"
   ]
  },
  {
   "cell_type": "code",
   "execution_count": 13,
   "id": "c853d7ef-fc97-4875-b6d4-45e5f2cfe679",
   "metadata": {},
   "outputs": [
    {
     "data": {
      "text/plain": [
       "['a', 'b', 'd', 'e']"
      ]
     },
     "execution_count": 13,
     "metadata": {},
     "output_type": "execute_result"
    }
   ],
   "source": [
    "sorted(list('baed'))"
   ]
  },
  {
   "cell_type": "code",
   "execution_count": null,
   "id": "e40fb392-e03d-4efb-818e-45792ea29994",
   "metadata": {},
   "outputs": [],
   "source": []
  },
  {
   "cell_type": "code",
   "execution_count": 37,
   "id": "3be9e68d-9124-41f2-95f0-468444d0f98e",
   "metadata": {
    "tags": []
   },
   "outputs": [],
   "source": [
    "def read_in_graph(path):\n",
    "    graph={}\n",
    "    edges = []\n",
    "    with open(path, 'r') as f:\n",
    "        for edge in f.readlines():\n",
    "            n1,n2 = edge.strip().split('-')\n",
    "            try:\n",
    "                graph[n1].append(n2)\n",
    "            except KeyError:\n",
    "                graph[n1] = [n2]\n",
    "            try:\n",
    "                graph[n2].append(n1)\n",
    "            except KeyError:\n",
    "                graph[n2] = [n1]\n",
    "            edges.append(sorted([n1,n2]))\n",
    "            \n",
    "    return graph,edges\n",
    "\n",
    "def find_triangles(graph,edges):\n",
    "    nodes = list(graph.keys())\n",
    "    tris =[]\n",
    "    for ni in nodes: \n",
    "        if len(graph[ni]) >=2 : \n",
    "            for j,nj in enumerate(graph[ni]):\n",
    "                for nk in graph[ni][j+1:]:\n",
    "                    e = sorted([nj,nk])\n",
    "                    if e in edges:\n",
    "                        if any([ n[0]=='t' for n in (ni,nj,nk)]):                        \n",
    "                            t = '-'.join(sorted([ni,nj,nk]))\n",
    "                            tris.append(t)\n",
    "\n",
    "    return len(set(tris))\n",
    "        \n",
    "\n",
    "def part_one(path='input_data/test_23.txt'):\n",
    "    graph,edges = read_in_graph(path)\n",
    "    tris = find_triangles(graph,edges)\n",
    "\n",
    "    return tris"
   ]
  },
  {
   "cell_type": "code",
   "execution_count": 38,
   "id": "c665d38a-4c25-440f-8e32-b7e9607e7617",
   "metadata": {},
   "outputs": [
    {
     "name": "stdout",
     "output_type": "stream",
     "text": [
      "CPU times: user 1.02 ms, sys: 565 μs, total: 1.58 ms\n",
      "Wall time: 1.18 ms\n"
     ]
    },
    {
     "data": {
      "text/plain": [
       "7"
      ]
     },
     "execution_count": 38,
     "metadata": {},
     "output_type": "execute_result"
    }
   ],
   "source": [
    "%%time\n",
    "part_one()"
   ]
  },
  {
   "cell_type": "code",
   "execution_count": 39,
   "id": "23ef893e-d596-49c4-8dac-d1d2aa72a193",
   "metadata": {},
   "outputs": [
    {
     "name": "stdout",
     "output_type": "stream",
     "text": [
      "CPU times: user 1.46 s, sys: 8.99 ms, total: 1.47 s\n",
      "Wall time: 1.48 s\n"
     ]
    },
    {
     "data": {
      "text/plain": [
       "1358"
      ]
     },
     "execution_count": 39,
     "metadata": {},
     "output_type": "execute_result"
    }
   ],
   "source": [
    "%%time\n",
    "part_one('input_data/day_23.txt')"
   ]
  },
  {
   "cell_type": "markdown",
   "id": "c0172b8b-aab1-42de-a4f0-8f413e068a92",
   "metadata": {},
   "source": [
    "# Part Two"
   ]
  },
  {
   "cell_type": "code",
   "execution_count": 56,
   "id": "ad049b66-e1b2-4f94-9742-3b121298e43f",
   "metadata": {},
   "outputs": [],
   "source": [
    "import networkx as nx \n",
    "\n",
    "def find_largest(graph,edges):\n",
    "    graph = nx.Graph(edges)\n",
    "    \n",
    "    max_clique = max(nx.find_cliques(graph), key=len)\n",
    "    lan_party = ','.join(sorted(max_clique))\n",
    "    return lan_party\n",
    "    \n",
    "def part_two(path='input_data/test_23.txt'):\n",
    "    graph,edges = read_in_graph(path)\n",
    "    lan_party = find_largest(graph,edges)\n",
    "\n",
    "    return lan_party,edges"
   ]
  },
  {
   "cell_type": "code",
   "execution_count": 45,
   "id": "50683973-c688-421f-8628-47797c44782b",
   "metadata": {
    "scrolled": true
   },
   "outputs": [
    {
     "name": "stdout",
     "output_type": "stream",
     "text": [
      "CPU times: user 1.55 ms, sys: 1.51 ms, total: 3.06 ms\n",
      "Wall time: 1.71 ms\n"
     ]
    }
   ],
   "source": [
    "%%time\n",
    "lan_party, e = part_two()"
   ]
  },
  {
   "cell_type": "code",
   "execution_count": 46,
   "id": "e7b38435-0d8c-42fa-abfa-7ec135f08e0f",
   "metadata": {},
   "outputs": [
    {
     "data": {
      "text/plain": [
       "'aq,tb,ub,vc,wq'"
      ]
     },
     "execution_count": 46,
     "metadata": {},
     "output_type": "execute_result"
    }
   ],
   "source": [
    "lan_party"
   ]
  },
  {
   "cell_type": "code",
   "execution_count": 48,
   "id": "450ea619-d334-440c-99cf-a6e7b8741cb7",
   "metadata": {},
   "outputs": [
    {
     "data": {
      "text/plain": [
       "[['aq', 'cg'],\n",
       " ['aq', 'vc'],\n",
       " ['aq', 'wq'],\n",
       " ['aq', 'yn'],\n",
       " ['cg', 'de'],\n",
       " ['cg', 'tb'],\n",
       " ['cg', 'yn'],\n",
       " ['co', 'de'],\n",
       " ['co', 'ka'],\n",
       " ['co', 'ta'],\n",
       " ['co', 'tc'],\n",
       " ['de', 'ka'],\n",
       " ['de', 'ta'],\n",
       " ['ka', 'ta'],\n",
       " ['ka', 'tb'],\n",
       " ['kh', 'qp'],\n",
       " ['kh', 'ta'],\n",
       " ['kh', 'tc'],\n",
       " ['kh', 'ub'],\n",
       " ['qp', 'td'],\n",
       " ['qp', 'ub'],\n",
       " ['qp', 'wh'],\n",
       " ['tb', 'vc'],\n",
       " ['tb', 'wq'],\n",
       " ['tc', 'td'],\n",
       " ['tc', 'wh'],\n",
       " ['td', 'wh'],\n",
       " ['td', 'yn'],\n",
       " ['ub', 'vc'],\n",
       " ['ub', 'wq'],\n",
       " ['vc', 'wq'],\n",
       " ['wh', 'yn']]"
      ]
     },
     "execution_count": 48,
     "metadata": {},
     "output_type": "execute_result"
    }
   ],
   "source": [
    "sorted(e)"
   ]
  },
  {
   "cell_type": "code",
   "execution_count": 9,
   "id": "d3bf2145-808c-4cea-aae5-6081408893c7",
   "metadata": {
    "scrolled": true
   },
   "outputs": [
    {
     "name": "stdout",
     "output_type": "stream",
     "text": [
      "CPU times: user 28.8 s, sys: 265 ms, total: 29.1 s\n",
      "Wall time: 29.2 s\n"
     ]
    },
    {
     "data": {
      "text/plain": [
       "2250"
      ]
     },
     "execution_count": 9,
     "metadata": {},
     "output_type": "execute_result"
    }
   ],
   "source": [
    "%%time\n",
    "part_two('input_data/day_22.txt')"
   ]
  },
  {
   "cell_type": "code",
   "execution_count": 51,
   "id": "5530a18b-f5b6-463a-be9d-4a9bc2b1e3c4",
   "metadata": {},
   "outputs": [],
   "source": [
    "G = nx.Graph(e)"
   ]
  },
  {
   "cell_type": "code",
   "execution_count": 55,
   "id": "e4bdaa3e-18b7-4db6-9380-15c26f8d6dff",
   "metadata": {},
   "outputs": [
    {
     "data": {
      "text/plain": [
       "['de', 'ka', 'co', 'ta']"
      ]
     },
     "execution_count": 55,
     "metadata": {},
     "output_type": "execute_result"
    }
   ],
   "source": [
    "max_clique = max(nx.find_cliques(G), key=len)\n",
    "max_clique"
   ]
  },
  {
   "cell_type": "code",
   "execution_count": null,
   "id": "c9a27dce-eebb-4688-b7fd-dcba93838867",
   "metadata": {},
   "outputs": [],
   "source": []
  }
 ],
 "metadata": {
  "kernelspec": {
   "display_name": "py312",
   "language": "python",
   "name": "py312"
  },
  "language_info": {
   "codemirror_mode": {
    "name": "ipython",
    "version": 3
   },
   "file_extension": ".py",
   "mimetype": "text/x-python",
   "name": "python",
   "nbconvert_exporter": "python",
   "pygments_lexer": "ipython3",
   "version": "3.12.11"
  }
 },
 "nbformat": 4,
 "nbformat_minor": 5
}
