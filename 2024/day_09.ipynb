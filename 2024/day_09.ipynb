{
 "cells": [
  {
   "cell_type": "code",
   "execution_count": 1,
   "id": "e3d20939-f0c4-489c-90a1-f93792cd88f1",
   "metadata": {},
   "outputs": [],
   "source": [
    "from IPython.core.interactiveshell import InteractiveShell\n",
    "InteractiveShell.ast_node_interactivity = \"all\""
   ]
  },
  {
   "cell_type": "markdown",
   "id": "9a5481ea-f123-478e-8d25-ab6e742f4c15",
   "metadata": {},
   "source": [
    "# Part 1"
   ]
  },
  {
   "cell_type": "code",
   "execution_count": 2,
   "id": "81d6933f-c496-4b41-8a96-a73d829d48b8",
   "metadata": {},
   "outputs": [
    {
     "name": "stdout",
     "output_type": "stream",
     "text": [
      "19999\n",
      "19\n"
     ]
    }
   ],
   "source": [
    "with open('input_data/day_09.txt') as f:\n",
    "    print(len(f.readline().strip()))\n",
    "    \n",
    "with open('input_data/test_09.txt') as f:\n",
    "    print(len(f.readline().strip()))"
   ]
  },
  {
   "cell_type": "code",
   "execution_count": 3,
   "id": "a3c3215d-cd5f-42b4-9b2e-ee9f0443a1d9",
   "metadata": {},
   "outputs": [
    {
     "data": {
      "text/plain": [
       "9999"
      ]
     },
     "execution_count": 3,
     "metadata": {},
     "output_type": "execute_result"
    }
   ],
   "source": [
    "19999//2"
   ]
  },
  {
   "cell_type": "code",
   "execution_count": 4,
   "id": "0a1c0eab-da88-4c3b-a250-65f7fa595fa2",
   "metadata": {},
   "outputs": [],
   "source": [
    "from collections import deque\n",
    "\n",
    "def read_file(path):\n",
    "    with open(path,'r') as f:\n",
    "        memory = f.readline().strip()\n",
    "    return deque(memory)\n",
    "\n",
    "def compact_memory(mem):\n",
    "    top_level = len(mem)//2\n",
    "    bottom = 0 \n",
    "    total = 0\n",
    "    idx =0\n",
    "\n",
    "    add_in_n = int(mem.pop())\n",
    "    add_in = [top_level]* add_in_n\n",
    "    \n",
    "    while len(mem) > 0 :\n",
    "        files = int(mem.popleft())\n",
    "\n",
    "        for i in range(files):\n",
    "            total += idx*bottom\n",
    "            idx+=1\n",
    "        bottom+=1\n",
    "            \n",
    "        fill = int(mem.popleft())\n",
    "        while fill >0 :\n",
    "            if len(add_in) > 0 :\n",
    "                top_level = add_in.pop()\n",
    "                total += idx*top_level\n",
    "                idx+=1\n",
    "                fill-=1\n",
    "            else:\n",
    "                top_level-=1\n",
    "                _= mem.pop()\n",
    "                add_in_n = mem.pop()\n",
    "                add_in = [top_level]* int(add_in_n)\n",
    "\n",
    "    while len(add_in) > 0:\n",
    "        top_level = add_in.pop()\n",
    "        total += idx*top_level\n",
    "        idx+=1\n",
    "    return total"
   ]
  },
  {
   "cell_type": "code",
   "execution_count": 5,
   "id": "a3e4895c-af73-4383-86e4-67e67a1d4879",
   "metadata": {},
   "outputs": [],
   "source": [
    "def part_one(path='input_data/test_09.txt'):\n",
    "    mem = read_file(path)\n",
    "    tot = compact_memory(mem.copy())\n",
    "    return tot"
   ]
  },
  {
   "cell_type": "code",
   "execution_count": 6,
   "id": "a86ec43c-4925-4c8f-8496-00676b526abc",
   "metadata": {},
   "outputs": [
    {
     "data": {
      "text/plain": [
       "1928"
      ]
     },
     "execution_count": 6,
     "metadata": {},
     "output_type": "execute_result"
    }
   ],
   "source": [
    "part_one()"
   ]
  },
  {
   "cell_type": "code",
   "execution_count": 7,
   "id": "e19b636d-cc7a-4c30-b0a2-60b3d4453964",
   "metadata": {
    "scrolled": true
   },
   "outputs": [
    {
     "data": {
      "text/plain": [
       "6301895872542"
      ]
     },
     "execution_count": 7,
     "metadata": {},
     "output_type": "execute_result"
    }
   ],
   "source": [
    "part_one('input_data/day_09.txt')"
   ]
  },
  {
   "cell_type": "markdown",
   "id": "667d5c9d-9bce-4c19-bb89-41c65f305543",
   "metadata": {},
   "source": [
    "# Part 2"
   ]
  },
  {
   "cell_type": "code",
   "execution_count": 26,
   "id": "c7ce4cb9-5032-4a36-9c3a-40cafce85a6f",
   "metadata": {},
   "outputs": [],
   "source": [
    "def part_two(path='input_data/test_09.txt'):\n",
    "    return "
   ]
  },
  {
   "cell_type": "code",
   "execution_count": 27,
   "id": "110d0b06-afef-4084-a562-0d5bc174cfce",
   "metadata": {},
   "outputs": [
    {
     "data": {
      "text/plain": [
       "34"
      ]
     },
     "execution_count": 27,
     "metadata": {},
     "output_type": "execute_result"
    }
   ],
   "source": [
    "part_two()"
   ]
  },
  {
   "cell_type": "code",
   "execution_count": 28,
   "id": "bf32a674-14c1-43c0-a0fb-8ddb19e45be2",
   "metadata": {},
   "outputs": [
    {
     "name": "stdout",
     "output_type": "stream",
     "text": [
      "CPU times: user 4.19 ms, sys: 1.45 ms, total: 5.65 ms\n",
      "Wall time: 4.92 ms\n"
     ]
    },
    {
     "data": {
      "text/plain": [
       "809"
      ]
     },
     "execution_count": 28,
     "metadata": {},
     "output_type": "execute_result"
    }
   ],
   "source": [
    "%%time\n",
    "part_two('input_data/day_09.txt')"
   ]
  },
  {
   "cell_type": "code",
   "execution_count": null,
   "id": "53e1a943-c2ac-442a-a542-9082ab1eba06",
   "metadata": {},
   "outputs": [],
   "source": []
  }
 ],
 "metadata": {
  "kernelspec": {
   "display_name": "work_env",
   "language": "python",
   "name": "work_env"
  },
  "language_info": {
   "codemirror_mode": {
    "name": "ipython",
    "version": 3
   },
   "file_extension": ".py",
   "mimetype": "text/x-python",
   "name": "python",
   "nbconvert_exporter": "python",
   "pygments_lexer": "ipython3",
   "version": "3.11.6"
  }
 },
 "nbformat": 4,
 "nbformat_minor": 5
}
