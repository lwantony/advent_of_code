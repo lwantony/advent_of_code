{
 "cells": [
  {
   "cell_type": "code",
   "execution_count": 1,
   "id": "2efe433c-ccbf-4b0a-8653-f0824059fd6f",
   "metadata": {
    "tags": []
   },
   "outputs": [],
   "source": [
    "from IPython.core.interactiveshell import InteractiveShell\n",
    "InteractiveShell.ast_node_interactivity = \"all\""
   ]
  },
  {
   "cell_type": "markdown",
   "id": "ff944d02-8a60-417e-888a-54e4e5141bbf",
   "metadata": {
    "tags": []
   },
   "source": [
    "# Part 1"
   ]
  },
  {
   "cell_type": "code",
   "execution_count": 33,
   "id": "5ea82c1d-8520-42d3-be0a-2ee13c259b72",
   "metadata": {
    "tags": []
   },
   "outputs": [],
   "source": [
    "from queue import PriorityQueue \n",
    "from collections import deque\n",
    "from functools import lru_cache\n",
    "\n",
    "class FlagDesign:\n",
    "    def __init__(self,towels):\n",
    "        self.towels = set(towels)\n",
    "        max_len=0\n",
    "        for t in towels:\n",
    "          max_len  = max(len(t), max_len)\n",
    "        self.max_towel = max_len\n",
    "\n",
    "\n",
    "    def evaluate_possible(self, design):\n",
    "        pq = PriorityQueue()\n",
    "        pq.put((len(design),design))\n",
    "        seen=set([])\n",
    "\n",
    "        while not pq.empty():\n",
    "            _,des = pq.get()\n",
    "            if des in self.towels:\n",
    "                return True\n",
    "            \n",
    "            max_check = min( len(des), self.max_towel)\n",
    "            for i in range(1,max_check+1):\n",
    "                if des[:i] in self.towels:\n",
    "                    new_des = des[i:]\n",
    "                    if new_des not in seen:\n",
    "                        seen.add(new_des)\n",
    "                        pq.put((len(new_des),new_des))\n",
    "        return False\n",
    "                    \n",
    "\n",
    "        \n",
    "    def count_possible(self, design):\n",
    "        pq = PriorityQueue()\n",
    "        pq.put((len(design),design))\n",
    "        seen={}\n",
    "        terminal=set([])\n",
    "        while not pq.empty():\n",
    "            _,des = pq.get()\n",
    "            if des in self.towels:\n",
    "                terminal.add(des)\n",
    "            \n",
    "            max_check = min( len(des), self.max_towel)\n",
    "            for i in range(1,max_check+1):\n",
    "                if des[:i] in self.towels:\n",
    "                    new_des = des[i:]\n",
    "                    \n",
    "                    if new_des not in seen:\n",
    "                        seen[new_des] = [des]\n",
    "                        pq.put((len(new_des),new_des))\n",
    "                    else:\n",
    "                        seen[new_des].append(des)\n",
    "        @lru_cache(maxsize=None)\n",
    "        def recurse_down(key):\n",
    "            if key == design:\n",
    "                return 1\n",
    "            return sum([ recurse_down(d) for d in seen[key]])\n",
    "            \n",
    "        cnt=sum([ recurse_down(t) for t in terminal])\n",
    "                    \n",
    "        return cnt\n",
    "                    \n",
    "\n",
    "        "
   ]
  },
  {
   "cell_type": "code",
   "execution_count": 34,
   "id": "af42b4b2-ec73-442b-839b-829c1f1151d8",
   "metadata": {},
   "outputs": [],
   "source": [
    "def read_path(path):\n",
    "    designs=[] \n",
    "    with open(path,'r') as f:\n",
    "        towels=f.readline().strip().split(', ')\n",
    "        line = f.readline()\n",
    "        line = f.readline()\n",
    "        while line is not None and len(line.strip()) > 0 :\n",
    "            designs.append(line.strip())\n",
    "            line = f.readline()\n",
    "    return towels, designs\n"
   ]
  },
  {
   "cell_type": "code",
   "execution_count": 35,
   "id": "3be9e68d-9124-41f2-95f0-468444d0f98e",
   "metadata": {
    "tags": []
   },
   "outputs": [],
   "source": [
    "def part_one(path='input_data/test_19.txt'):\n",
    "    towels, designs = read_path(path)\n",
    "\n",
    "    designer = FlagDesign(towels)\n",
    "\n",
    "    return sum( [ designer.evaluate_possible(d) for d in designs])"
   ]
  },
  {
   "cell_type": "code",
   "execution_count": 36,
   "id": "c0f07f59-ae05-4bf1-b809-3ff543222d31",
   "metadata": {
    "scrolled": true,
    "tags": []
   },
   "outputs": [
    {
     "name": "stdout",
     "output_type": "stream",
     "text": [
      "CPU times: user 1.05 ms, sys: 1.59 ms, total: 2.65 ms\n",
      "Wall time: 2.09 ms\n"
     ]
    },
    {
     "data": {
      "text/plain": [
       "6"
      ]
     },
     "execution_count": 36,
     "metadata": {},
     "output_type": "execute_result"
    }
   ],
   "source": [
    "%%time\n",
    "part_one()"
   ]
  },
  {
   "cell_type": "code",
   "execution_count": 37,
   "id": "fb6325c0-56ed-4ef5-b0cc-194b342aad5b",
   "metadata": {
    "scrolled": true,
    "tags": []
   },
   "outputs": [
    {
     "name": "stdout",
     "output_type": "stream",
     "text": [
      "CPU times: user 59.2 ms, sys: 3.03 ms, total: 62.2 ms\n",
      "Wall time: 66.3 ms\n"
     ]
    },
    {
     "data": {
      "text/plain": [
       "353"
      ]
     },
     "execution_count": 37,
     "metadata": {},
     "output_type": "execute_result"
    }
   ],
   "source": [
    "%%time\n",
    "part_one('input_data/day_19.txt')"
   ]
  },
  {
   "cell_type": "markdown",
   "id": "fb57e954-d588-406e-9c3c-6d012b1abc0e",
   "metadata": {
    "tags": []
   },
   "source": [
    "# Part 2"
   ]
  },
  {
   "cell_type": "code",
   "execution_count": 38,
   "id": "931a1a35-503d-490f-8f2a-94c7a4bee592",
   "metadata": {
    "tags": []
   },
   "outputs": [],
   "source": [
    "def part_two(path='input_data/test_19.txt'):\n",
    "    towels, designs = read_path(path)\n",
    "    designer = FlagDesign(towels)\n",
    "    return  sum( [ designer.count_possible(d) for d in designs])"
   ]
  },
  {
   "cell_type": "code",
   "execution_count": 39,
   "id": "b654b368-ea4e-43d5-9310-9a438f4a6da2",
   "metadata": {
    "tags": []
   },
   "outputs": [
    {
     "name": "stdout",
     "output_type": "stream",
     "text": [
      "CPU times: user 1.17 ms, sys: 997 µs, total: 2.17 ms\n",
      "Wall time: 1.34 ms\n"
     ]
    },
    {
     "data": {
      "text/plain": [
       "16"
      ]
     },
     "execution_count": 39,
     "metadata": {},
     "output_type": "execute_result"
    }
   ],
   "source": [
    "%%time\n",
    "part_two()"
   ]
  },
  {
   "cell_type": "code",
   "execution_count": 40,
   "id": "058f8fb6-781f-4244-90c0-d1bbdf5ca3cd",
   "metadata": {
    "tags": []
   },
   "outputs": [
    {
     "name": "stdout",
     "output_type": "stream",
     "text": [
      "CPU times: user 100 ms, sys: 4.75 ms, total: 105 ms\n",
      "Wall time: 107 ms\n"
     ]
    },
    {
     "data": {
      "text/plain": [
       "880877787214477"
      ]
     },
     "execution_count": 40,
     "metadata": {},
     "output_type": "execute_result"
    }
   ],
   "source": [
    "%%time\n",
    "part_two('input_data/day_19.txt')"
   ]
  },
  {
   "cell_type": "code",
   "execution_count": null,
   "id": "09fec8b1-3630-4f97-b6fa-a169c407fe3f",
   "metadata": {},
   "outputs": [],
   "source": []
  }
 ],
 "metadata": {
  "kernelspec": {
   "display_name": "work_env",
   "language": "python",
   "name": "work_env"
  },
  "language_info": {
   "codemirror_mode": {
    "name": "ipython",
    "version": 3
   },
   "file_extension": ".py",
   "mimetype": "text/x-python",
   "name": "python",
   "nbconvert_exporter": "python",
   "pygments_lexer": "ipython3",
   "version": "3.11.6"
  }
 },
 "nbformat": 4,
 "nbformat_minor": 5
}
