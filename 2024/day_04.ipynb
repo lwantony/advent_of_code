{
 "cells": [
  {
   "cell_type": "code",
   "execution_count": 1,
   "id": "e3d20939-f0c4-489c-90a1-f93792cd88f1",
   "metadata": {},
   "outputs": [],
   "source": [
    "from IPython.core.interactiveshell import InteractiveShell\n",
    "InteractiveShell.ast_node_interactivity = \"all\""
   ]
  },
  {
   "cell_type": "markdown",
   "id": "9a5481ea-f123-478e-8d25-ab6e742f4c15",
   "metadata": {},
   "source": [
    "# Part 1"
   ]
  },
  {
   "cell_type": "code",
   "execution_count": 2,
   "id": "5b44456c-4a4d-4cb1-9f8d-4451531d7186",
   "metadata": {},
   "outputs": [],
   "source": [
    "import re"
   ]
  },
  {
   "cell_type": "code",
   "execution_count": 96,
   "id": "390927b2-4aeb-416c-80f4-3b3d6bde5a7e",
   "metadata": {},
   "outputs": [],
   "source": [
    "steps = [ (x,y) for x in [-1,0,1] for y in [-1,0,1]  if not x==y==0]\n",
    "added=[]\n",
    "def check_for_xmas(text, x_loc):\n",
    "    total=0\n",
    "    for step in steps:\n",
    "        try:\n",
    "            xi,yi =step\n",
    "            x,y =x_loc\n",
    "\n",
    "            if yi*3+y <0 or xi*3+x <0:\n",
    "                continue\n",
    "            word = ''.join([ text[yi*i+y][xi*i+x] for i in range(4)])\n",
    "            \n",
    "            word_check = int(word=='XMAS')\n",
    "            total += word_check\n",
    "            if word_check==1:\n",
    "                added.extend([ (yi*i+y,xi*i+x) for i in range(4)])\n",
    "        except (ValueError,IndexError):\n",
    "            continue\n",
    "    return total\n",
    "\n",
    "def scan_text_xmax(text):\n",
    "    total=0\n",
    "    for y,line in enumerate(text):\n",
    "        locs = [x.span()[0] for x in re.finditer('X', line)]\n",
    "        for x in locs:\n",
    "            total+=check_for_xmas(text,(x,y))\n",
    "    return total\n",
    "        "
   ]
  },
  {
   "cell_type": "code",
   "execution_count": 106,
   "id": "9c4233b4-9c21-40ba-8db2-59cb7329941e",
   "metadata": {},
   "outputs": [],
   "source": [
    "def part_one(path='input_data/test_04.txt'):\n",
    "    with open(path,'r') as f:\n",
    "        full= [x.strip() for x in f.readlines()]\n",
    "    cnt = scan_text_xmax(full)\n",
    "    return cnt"
   ]
  },
  {
   "cell_type": "code",
   "execution_count": 107,
   "id": "a86ec43c-4925-4c8f-8496-00676b526abc",
   "metadata": {},
   "outputs": [
    {
     "data": {
      "text/plain": [
       "18"
      ]
     },
     "execution_count": 107,
     "metadata": {},
     "output_type": "execute_result"
    }
   ],
   "source": [
    "part_one()"
   ]
  },
  {
   "cell_type": "markdown",
   "id": "667d5c9d-9bce-4c19-bb89-41c65f305543",
   "metadata": {},
   "source": [
    "# Part 2"
   ]
  },
  {
   "cell_type": "code",
   "execution_count": 152,
   "id": "5c9330fe-b637-4825-99ad-535bd242329d",
   "metadata": {},
   "outputs": [],
   "source": [
    "x_steps = [ (x,y) for x in [-1,0,1] for y in [-1,0,1]  if y!=0 and x!=0]\n",
    "def check_for_x_mas(text, a_loc):\n",
    "    total=0\n",
    "    for step in x_steps:\n",
    "        try:\n",
    "            xi,yi =step\n",
    "            x,y =a_loc\n",
    "\n",
    "            if yi*-1+y <0 or xi*-1+x <0 or yi+y <0 or xi+x <0 :\n",
    "                continue\n",
    "            if abs(yi*-1)+y  == len(text) or abs(xi*-1)+x  == len(text[0]):\n",
    "                continue\n",
    "                \n",
    "            word = ''.join([ text[yi*i+y][xi*i+x] for i in range(-1,2)])\n",
    "            word_check = int(word=='MAS')\n",
    "            total += word_check\n",
    "            \n",
    "        except (ValueError,IndexError):\n",
    "            continue\n",
    "        \n",
    "    return int(total>1) #max(total-1,0)\n",
    "    \n",
    "\n",
    "def scan_text_x_max(text):\n",
    "    total=0\n",
    "    for y,line in enumerate(text):\n",
    "        locs = [x.span()[0] for x in re.finditer('A', line)]\n",
    "        for x in locs:\n",
    "            total+=check_for_x_mas(text,(x,y))\n",
    "    return total"
   ]
  },
  {
   "cell_type": "code",
   "execution_count": 153,
   "id": "b939f5be-5c9b-4ed3-8495-0b11ce2f3f30",
   "metadata": {},
   "outputs": [],
   "source": [
    "def part_two(path='input_data/test_04.txt'):\n",
    "    with open(path,'r') as f:\n",
    "        full= [x.strip() for x in f.readlines()]\n",
    "    cnt = scan_text_x_max(full)\n",
    "    return cnt"
   ]
  },
  {
   "cell_type": "code",
   "execution_count": 156,
   "id": "84ba9622-9c89-49f6-a9a1-0514bfd903f8",
   "metadata": {},
   "outputs": [
    {
     "data": {
      "text/plain": [
       "9"
      ]
     },
     "execution_count": 156,
     "metadata": {},
     "output_type": "execute_result"
    },
    {
     "data": {
      "text/plain": [
       "1945"
      ]
     },
     "execution_count": 156,
     "metadata": {},
     "output_type": "execute_result"
    }
   ],
   "source": [
    "part_two()\n",
    "part_two('input_data/day_04.txt')"
   ]
  },
  {
   "cell_type": "code",
   "execution_count": 155,
   "id": "6bfc9ee0-c3a1-4862-aafc-2e0856cc7f35",
   "metadata": {},
   "outputs": [
    {
     "data": {
      "text/plain": [
       "[(-1, -1), (-1, 1), (1, -1), (1, 1)]"
      ]
     },
     "execution_count": 155,
     "metadata": {},
     "output_type": "execute_result"
    }
   ],
   "source": [
    "x_steps"
   ]
  },
  {
   "cell_type": "code",
   "execution_count": null,
   "id": "68edbd29-2906-4383-8770-7e4ec036ba86",
   "metadata": {},
   "outputs": [],
   "source": [
    ".M.S......\n",
    "..A..MSMS.\n",
    ".M.S.MAA..\n",
    "..A.ASMSM.\n",
    ".M.S.M....\n",
    "..........\n",
    "S.S.S.S.S.\n",
    ".A.A.A.A..\n",
    "M.M.M.M.M.\n",
    ".........."
   ]
  }
 ],
 "metadata": {
  "kernelspec": {
   "display_name": "work_env",
   "language": "python",
   "name": "work_env"
  },
  "language_info": {
   "codemirror_mode": {
    "name": "ipython",
    "version": 3
   },
   "file_extension": ".py",
   "mimetype": "text/x-python",
   "name": "python",
   "nbconvert_exporter": "python",
   "pygments_lexer": "ipython3",
   "version": "3.11.6"
  }
 },
 "nbformat": 4,
 "nbformat_minor": 5
}
