{
 "cells": [
  {
   "cell_type": "code",
   "execution_count": 1,
   "id": "2efe433c-ccbf-4b0a-8653-f0824059fd6f",
   "metadata": {
    "tags": []
   },
   "outputs": [],
   "source": [
    "from IPython.core.interactiveshell import InteractiveShell\n",
    "InteractiveShell.ast_node_interactivity = \"all\""
   ]
  },
  {
   "cell_type": "markdown",
   "id": "ff944d02-8a60-417e-888a-54e4e5141bbf",
   "metadata": {
    "tags": []
   },
   "source": [
    "# Part 1"
   ]
  },
  {
   "cell_type": "code",
   "execution_count": 2,
   "id": "5ea82c1d-8520-42d3-be0a-2ee13c259b72",
   "metadata": {
    "tags": []
   },
   "outputs": [],
   "source": [
    "class HistProgram:\n",
    "    def __init__(self,A,B,C,instructs):\n",
    "        self.A = A\n",
    "        self.B = B\n",
    "        self.C = C\n",
    "        self.instructions = instructs\n",
    "        self.position=0\n",
    "        self.output=[]\n",
    "\n",
    "    def get_combo(self,x):\n",
    "        if x< 4:\n",
    "            return x\n",
    "        if x==4:\n",
    "            return self.A\n",
    "        if x==5:\n",
    "            return self.B\n",
    "        if x==6:\n",
    "            return self.C\n",
    "        return None\n",
    "        \n",
    "    def adv(self, x):\n",
    "        cx = self.get_combo(x)\n",
    "        self.A = int(self.A/(2**cx))\n",
    "        self.position+=2\n",
    "        \n",
    "    def bxl(self,x):\n",
    "        self.B = self.B^x\n",
    "        self.position+=2\n",
    "        \n",
    "        \n",
    "    def bst(self,x):\n",
    "        cx = self.get_combo(x)\n",
    "        self.B = int( cx%8) \n",
    "        self.position+=2\n",
    "        \n",
    "        \n",
    "    def jnz(self,x):\n",
    "        if self.A == 0 :\n",
    "            self.position+=2\n",
    "        elif self.A > 0 :\n",
    "            self.position=x\n",
    "            \n",
    "    def bxc(self,x):\n",
    "        self.B = self.B^self.C\n",
    "        self.position+=2\n",
    "            \n",
    "    def out(self,x):\n",
    "        cx = self.get_combo(x)\n",
    "        self.output.append(int( cx%8) )\n",
    "        self.position+=2\n",
    "        \n",
    "        \n",
    "    def bdv(self, x):\n",
    "        cx = self.get_combo(x)\n",
    "        self.B = int(self.A/(2**cx))\n",
    "        self.position+=2\n",
    "        \n",
    "    def cdv(self, x):\n",
    "        cx = self.get_combo(x)\n",
    "        self.C = int(self.A/(2**cx))\n",
    "        self.position+=2\n",
    "\n",
    "    def perform_instuctions(self):\n",
    "        opcode = [self.adv,\n",
    "                  self.bxl,\n",
    "                  self.bst,\n",
    "                  self.jnz,\n",
    "                  self.bxc,\n",
    "                  self.out,\n",
    "                  self.bdv,\n",
    "                  self.cdv]\n",
    "\n",
    "        while self.position < len(self.instructions):\n",
    "            code= self.instructions[self.position]\n",
    "            operand= self.instructions[self.position+1]\n",
    "            opcode[code](operand)\n",
    "\n",
    "        return self.output\n",
    "    \n",
    "    "
   ]
  },
  {
   "cell_type": "code",
   "execution_count": 3,
   "id": "3be9e68d-9124-41f2-95f0-468444d0f98e",
   "metadata": {
    "tags": []
   },
   "outputs": [],
   "source": [
    "def part_one(path='input_data/test_17.txt'):\n",
    "    \n",
    "    with open(path,'r') as f:\n",
    "        read_registers=True\n",
    "        registers=[]\n",
    "        for line in f.readlines():\n",
    "            if read_registers:\n",
    "                if len(line.strip()) < 1:\n",
    "                    read_registers=False\n",
    "                    continue\n",
    "                if ':' in line:\n",
    "                    registers.append(int(line.split(':')[1].strip()))\n",
    "            else:\n",
    "                instructs= line.split(':')[1].strip()\n",
    "                instructs = [ int(i) for i in instructs.split(',')]\n",
    "    \n",
    "    prog= HistProgram(*registers,instructs)\n",
    "\n",
    "    out = prog.perform_instuctions()\n",
    "    out_string = ','.join([str(i) for i in out]) \n",
    "    print(out_string) \n",
    "    return out"
   ]
  },
  {
   "cell_type": "code",
   "execution_count": 4,
   "id": "c0f07f59-ae05-4bf1-b809-3ff543222d31",
   "metadata": {
    "scrolled": true,
    "tags": []
   },
   "outputs": [
    {
     "name": "stdout",
     "output_type": "stream",
     "text": [
      "4,6,3,5,6,3,5,2,1,0\n",
      "CPU times: user 638 µs, sys: 1.41 ms, total: 2.05 ms\n",
      "Wall time: 1.94 ms\n"
     ]
    },
    {
     "data": {
      "text/plain": [
       "[4, 6, 3, 5, 6, 3, 5, 2, 1, 0]"
      ]
     },
     "execution_count": 4,
     "metadata": {},
     "output_type": "execute_result"
    }
   ],
   "source": [
    "%%time\n",
    "part_one()"
   ]
  },
  {
   "cell_type": "code",
   "execution_count": 5,
   "id": "fb6325c0-56ed-4ef5-b0cc-194b342aad5b",
   "metadata": {
    "scrolled": true,
    "tags": []
   },
   "outputs": [
    {
     "name": "stdout",
     "output_type": "stream",
     "text": [
      "1,5,3,0,2,5,2,5,3\n",
      "CPU times: user 1.48 ms, sys: 2.27 ms, total: 3.75 ms\n",
      "Wall time: 2.12 ms\n"
     ]
    },
    {
     "data": {
      "text/plain": [
       "[1, 5, 3, 0, 2, 5, 2, 5, 3]"
      ]
     },
     "execution_count": 5,
     "metadata": {},
     "output_type": "execute_result"
    }
   ],
   "source": [
    "%%time\n",
    "part_one('input_data/day_17.txt')"
   ]
  },
  {
   "cell_type": "markdown",
   "id": "fb57e954-d588-406e-9c3c-6d012b1abc0e",
   "metadata": {
    "tags": []
   },
   "source": [
    "# Part 2"
   ]
  },
  {
   "cell_type": "code",
   "execution_count": 15,
   "id": "abf78334-d616-4cd3-bb97-36bbb0d4bebe",
   "metadata": {},
   "outputs": [],
   "source": [
    "from collections import deque\n",
    "def breadth_first_search(sequence):\n",
    "    def test_register(a):\n",
    "        prog = HistProgram(a,0,0,sequence)\n",
    "        return prog.perform_instuctions()\n",
    "\n",
    "    next_check = deque([ i for i in range(8)])\n",
    "\n",
    "    while len(next_check)>0:\n",
    "        check_a = next_check.popleft()\n",
    "\n",
    "        run_a = test_register(check_a)\n",
    "\n",
    "        if run_a == sequence:\n",
    "            return check_a\n",
    "            \n",
    "        if run_a == sequence[-1*len(run_a):] and check_a != 0  :\n",
    "            add_ons = [ check_a*8+ i for i in range(8)]\n",
    "            next_check.extend(add_ons)\n",
    "            \n",
    "            \n",
    "    return -1\n",
    "            \n",
    "    "
   ]
  },
  {
   "cell_type": "code",
   "execution_count": 16,
   "id": "931a1a35-503d-490f-8f2a-94c7a4bee592",
   "metadata": {
    "tags": []
   },
   "outputs": [],
   "source": [
    "def part_two(path='input_data/test_17.txt'):\n",
    "    with open(path,'r') as f:\n",
    "        read_registers=True\n",
    "        registers=[]\n",
    "        for line in f.readlines():\n",
    "            if read_registers:\n",
    "                if len(line.strip()) < 1:\n",
    "                    read_registers=False\n",
    "                    continue\n",
    "                if ':' in line:\n",
    "                    registers.append(int(line.split(':')[1].strip()))\n",
    "            else:\n",
    "                instructs= line.split(':')[1].strip()\n",
    "                instructs = [ int(i) for i in instructs.split(',')]\n",
    "                \n",
    "    the_a = breadth_first_search( instructs)\n",
    "    return the_a"
   ]
  },
  {
   "cell_type": "code",
   "execution_count": 17,
   "id": "b654b368-ea4e-43d5-9310-9a438f4a6da2",
   "metadata": {
    "tags": []
   },
   "outputs": [
    {
     "name": "stdout",
     "output_type": "stream",
     "text": [
      "CPU times: user 35 ms, sys: 2.05 ms, total: 37 ms\n",
      "Wall time: 37.1 ms\n"
     ]
    },
    {
     "data": {
      "text/plain": [
       "108107566389757"
      ]
     },
     "execution_count": 17,
     "metadata": {},
     "output_type": "execute_result"
    }
   ],
   "source": [
    "%%time\n",
    "part_two('input_data/day_17.txt')"
   ]
  },
  {
   "cell_type": "code",
   "execution_count": 18,
   "id": "70e7be77-0f87-4ad2-8a6c-0070fc27269f",
   "metadata": {},
   "outputs": [],
   "source": [
    "def test_register_A(a):\n",
    "    prog = HistProgram(a,0,0,[2,4,1,3,7,5,4,1,1,3,0,3,5,5,3,0])\n",
    "    return prog.perform_instuctions()"
   ]
  },
  {
   "cell_type": "code",
   "execution_count": 19,
   "id": "888b1b4d-eeb8-4b5e-a619-66767c6dbc42",
   "metadata": {},
   "outputs": [
    {
     "data": {
      "text/plain": [
       "[2, 4, 1, 3, 7, 5, 4, 1, 1, 3, 0, 3, 5, 5, 3, 0]"
      ]
     },
     "execution_count": 19,
     "metadata": {},
     "output_type": "execute_result"
    }
   ],
   "source": [
    "test_register_A(108107566389757)"
   ]
  },
  {
   "cell_type": "markdown",
   "id": "fc999ffb-2736-4c84-acb4-31b4e343c1f3",
   "metadata": {},
   "source": [
    "* 2,4 -> B = A mod 8 \n",
    "* 1,3 -> B = B xOR with 3 or 011 \n",
    "* 7,5 -> C = A/2**B\n",
    "* 4,1 -> B = B XOR C\n",
    "* 1,3 -> B = B xOR with 3 or 011 \n",
    "* 0,3 -> A = A/8 \n",
    "* 5,5 -> print B mod 8\n",
    "* 3,0 -> jump to 0\n",
    "        \n"
   ]
  },
  {
   "cell_type": "code",
   "execution_count": 17,
   "id": "65e1b4be-0dd7-4e29-9f3b-251818be23ce",
   "metadata": {},
   "outputs": [
    {
     "name": "stdout",
     "output_type": "stream",
     "text": [
      "0 3\n",
      "1 2\n",
      "2 1\n",
      "3 0\n",
      "4 7\n",
      "5 6\n",
      "6 5\n",
      "7 4\n"
     ]
    }
   ],
   "source": [
    "for i in range(8):\n",
    "    print( i, 3^i)"
   ]
  },
  {
   "cell_type": "code",
   "execution_count": 10,
   "id": "f65c0c90-e31a-4cce-87e1-158afb07eba6",
   "metadata": {},
   "outputs": [
    {
     "name": "stdout",
     "output_type": "stream",
     "text": [
      "0\n",
      "1\n",
      "3\n",
      "0\n",
      "4\n",
      "5\n",
      "6\n",
      "7\n"
     ]
    }
   ],
   "source": [
    "for i in range(8):\n",
    "    print (test_register_A(i))"
   ]
  },
  {
   "cell_type": "code",
   "execution_count": 16,
   "id": "618cef58-77d3-4faa-bcb3-ecddd64de111",
   "metadata": {},
   "outputs": [
    {
     "data": {
      "text/plain": [
       "'3,0'"
      ]
     },
     "execution_count": 16,
     "metadata": {},
     "output_type": "execute_result"
    }
   ],
   "source": [
    "test_register_A(3*8**1)"
   ]
  },
  {
   "cell_type": "code",
   "execution_count": null,
   "id": "3dc0eba1-685f-4da9-9a3f-b128eedbcc8a",
   "metadata": {},
   "outputs": [],
   "source": []
  }
 ],
 "metadata": {
  "kernelspec": {
   "display_name": "work_env",
   "language": "python",
   "name": "work_env"
  },
  "language_info": {
   "codemirror_mode": {
    "name": "ipython",
    "version": 3
   },
   "file_extension": ".py",
   "mimetype": "text/x-python",
   "name": "python",
   "nbconvert_exporter": "python",
   "pygments_lexer": "ipython3",
   "version": "3.11.6"
  }
 },
 "nbformat": 4,
 "nbformat_minor": 5
}
