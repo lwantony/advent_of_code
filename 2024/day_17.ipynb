{
 "cells": [
  {
   "cell_type": "code",
   "execution_count": 31,
   "id": "2efe433c-ccbf-4b0a-8653-f0824059fd6f",
   "metadata": {
    "tags": []
   },
   "outputs": [],
   "source": [
    "from IPython.core.interactiveshell import InteractiveShell\n",
    "InteractiveShell.ast_node_interactivity = \"all\""
   ]
  },
  {
   "cell_type": "markdown",
   "id": "ff944d02-8a60-417e-888a-54e4e5141bbf",
   "metadata": {
    "tags": []
   },
   "source": [
    "# Part 1"
   ]
  },
  {
   "cell_type": "code",
   "execution_count": null,
   "id": "81c9e22c-eb02-4cd9-8356-4b8e99838908",
   "metadata": {},
   "outputs": [],
   "source": []
  },
  {
   "cell_type": "code",
   "execution_count": 38,
   "id": "5ea82c1d-8520-42d3-be0a-2ee13c259b72",
   "metadata": {
    "tags": []
   },
   "outputs": [],
   "source": [
    "class HistProgram:\n",
    "    def __init__(self,A,B,C,instructs):\n",
    "        self.A = A\n",
    "        self.B = B\n",
    "        self.C = C\n",
    "        self.instructions = instructs\n",
    "        self.position=0\n",
    "        self.output=[]\n",
    "\n",
    "    def get_combo(self,x):\n",
    "        if x< 4:\n",
    "            return x\n",
    "        if x==4:\n",
    "            return self.A\n",
    "        if x==5:\n",
    "            return self.B\n",
    "        if x==6:\n",
    "            return self.C\n",
    "        return None\n",
    "        \n",
    "    def adv(self, x):\n",
    "        cx = self.get_combo(x)\n",
    "        self.A = int(self.A/(2**cx))\n",
    "        self.position+=2\n",
    "        \n",
    "    def bxl(self,x):\n",
    "        self.B = self.B^x\n",
    "        self.position+=2\n",
    "        \n",
    "        \n",
    "    def bst(self,x):\n",
    "        cx = self.get_combo(x)\n",
    "        self.B = int( cx%8) \n",
    "        self.position+=2\n",
    "        \n",
    "        \n",
    "    def jnz(self,x):\n",
    "        if self.A == 0 :\n",
    "            self.position+=2\n",
    "        elif self.A > 0 :\n",
    "            self.position=x\n",
    "            \n",
    "    def bxc(self,x):\n",
    "        self.B = self.B^self.C\n",
    "        self.position+=2\n",
    "            \n",
    "    def out(self,x):\n",
    "        cx = self.get_combo(x)\n",
    "        self.output.append(int( cx%8) )\n",
    "        self.position+=2\n",
    "        \n",
    "        \n",
    "    def bdv(self, x):\n",
    "        cx = self.get_combo(x)\n",
    "        self.B = int(self.A/(2**cx))\n",
    "        self.position+=2\n",
    "        \n",
    "    def cdv(self, x):\n",
    "        cx = self.get_combo(x)\n",
    "        self.C = int(self.A/(2**cx))\n",
    "        self.position+=2\n",
    "\n",
    "    def perform_instuctions(self):\n",
    "        opcode = [self.adv,\n",
    "                  self.bxl,\n",
    "                  self.bst,\n",
    "                  self.jnz,\n",
    "                  self.bxc,\n",
    "                  self.out,\n",
    "                  self.bdv,\n",
    "                  self.cdv]\n",
    "\n",
    "        while self.position < len(self.instructions):\n",
    "            code= self.instructions[self.position]\n",
    "            operand= self.instructions[self.position+1]\n",
    "            opcode[code](operand)\n",
    "\n",
    "        print (','.join([str(i) for i in self.output]) )\n",
    "    \n",
    "    "
   ]
  },
  {
   "cell_type": "code",
   "execution_count": 39,
   "id": "3be9e68d-9124-41f2-95f0-468444d0f98e",
   "metadata": {
    "tags": []
   },
   "outputs": [],
   "source": [
    "def part_one(path='input_data/test_17.txt'):\n",
    "    \n",
    "    with open(path,'r') as f:\n",
    "        read_registers=True\n",
    "        registers=[]\n",
    "        for line in f.readlines():\n",
    "            if read_registers:\n",
    "                if len(line.strip()) < 1:\n",
    "                    read_registers=False\n",
    "                    continue\n",
    "                if ':' in line:\n",
    "                    registers.append(int(line.split(':')[1].strip()))\n",
    "            else:\n",
    "                instructs= line.split(':')[1].strip()\n",
    "                instructs = [ int(i) for i in instructs.split(',')]\n",
    "    \n",
    "    prog= HistProgram(*registers,instructs)\n",
    "\n",
    "    prog.perform_instuctions()\n",
    "    \n",
    "    return "
   ]
  },
  {
   "cell_type": "code",
   "execution_count": 40,
   "id": "c0f07f59-ae05-4bf1-b809-3ff543222d31",
   "metadata": {
    "scrolled": true,
    "tags": []
   },
   "outputs": [
    {
     "name": "stdout",
     "output_type": "stream",
     "text": [
      "4,6,3,5,6,3,5,2,1,0\n",
      "CPU times: user 640 µs, sys: 749 µs, total: 1.39 ms\n",
      "Wall time: 757 µs\n"
     ]
    }
   ],
   "source": [
    "%%time\n",
    "part_one()"
   ]
  },
  {
   "cell_type": "code",
   "execution_count": 41,
   "id": "fb6325c0-56ed-4ef5-b0cc-194b342aad5b",
   "metadata": {
    "scrolled": true,
    "tags": []
   },
   "outputs": [
    {
     "name": "stdout",
     "output_type": "stream",
     "text": [
      "1,5,3,0,2,5,2,5,3\n",
      "CPU times: user 539 µs, sys: 418 µs, total: 957 µs\n",
      "Wall time: 675 µs\n"
     ]
    }
   ],
   "source": [
    "%%time\n",
    "part_one('input_data/day_17.txt')"
   ]
  },
  {
   "cell_type": "markdown",
   "id": "fb57e954-d588-406e-9c3c-6d012b1abc0e",
   "metadata": {
    "tags": []
   },
   "source": [
    "# Part 2"
   ]
  },
  {
   "cell_type": "code",
   "execution_count": 39,
   "id": "931a1a35-503d-490f-8f2a-94c7a4bee592",
   "metadata": {
    "tags": []
   },
   "outputs": [],
   "source": [
    "def part_two(path='input_data/test_17.txt'):\n",
    "    with open(path,'r') as f:\n",
    "        read_registers=True\n",
    "        registers=[]\n",
    "        for line in f.readlines():\n",
    "            if read_registers:\n",
    "                if len(line.strip()) < 1:\n",
    "                    read_registers=False\n",
    "                    continue\n",
    "                if ':' in line:\n",
    "                    registers.append(int(line.split(':')[1].strip()))\n",
    "            else:\n",
    "                instructs= line.split(':')[1].strip()\n",
    "                instructs = [ int(i) for i in instructs.split(',')]\n",
    "    \n",
    "    prog= HistProgram(*registers,instructs)\n",
    "    prog.perform_instuctions()\n",
    "    return "
   ]
  },
  {
   "cell_type": "code",
   "execution_count": null,
   "id": "c766e385-90e0-4dcd-a31a-51d85ca5fa14",
   "metadata": {
    "tags": []
   },
   "outputs": [],
   "source": [
    "%%time\n",
    "part_two()"
   ]
  },
  {
   "cell_type": "code",
   "execution_count": null,
   "id": "b654b368-ea4e-43d5-9310-9a438f4a6da2",
   "metadata": {
    "tags": []
   },
   "outputs": [],
   "source": [
    "%%time\n",
    "part_two('input_data/day_17.txt')"
   ]
  },
  {
   "cell_type": "code",
   "execution_count": 84,
   "id": "70e7be77-0f87-4ad2-8a6c-0070fc27269f",
   "metadata": {},
   "outputs": [],
   "source": [
    "def test_register_A(a):\n",
    "    prog = HistProgram(a,0,0,[2,4,1,3,7,5,4,1,1,3,0,3,5,5,3,0])\n",
    "    prog.perform_instuctions()"
   ]
  },
  {
   "cell_type": "code",
   "execution_count": 90,
   "id": "982934ad-029f-4497-ba21-593b28e91b4f",
   "metadata": {},
   "outputs": [
    {
     "name": "stdout",
     "output_type": "stream",
     "text": [
      "0\n",
      "0\n",
      "1\n",
      "1,1\n",
      "3\n",
      "2,3\n",
      "0\n",
      "3,0\n",
      "4\n",
      "4,4\n",
      "5\n",
      "5,5\n",
      "6\n",
      "6,6\n",
      "7\n",
      "7,7\n"
     ]
    }
   ],
   "source": [
    "for i in range(8):\n",
    "    test_register_A(i*8)"
   ]
  },
  {
   "cell_type": "code",
   "execution_count": 102,
   "id": "74fe905e-0c1a-443c-88bf-f9c23287b5e1",
   "metadata": {},
   "outputs": [],
   "source": [
    "instrucs=[2,4,1,3,7,5,4,1,1,3,0,3,5,5,3,0]"
   ]
  },
  {
   "cell_type": "code",
   "execution_count": 103,
   "id": "ea1e0b3a-f0c7-43a6-a3ad-71aea484a541",
   "metadata": {},
   "outputs": [
    {
     "name": "stdout",
     "output_type": "stream",
     "text": [
      "2 4\n",
      "1 3\n",
      "7 5\n",
      "4 1\n",
      "1 3\n",
      "0 3\n",
      "5 5\n",
      "3 0\n"
     ]
    }
   ],
   "source": [
    "for i in range(8):\n",
    "   print(instrucs[i*2], instrucs[i*2+1])"
   ]
  },
  {
   "cell_type": "markdown",
   "id": "fc999ffb-2736-4c84-acb4-31b4e343c1f3",
   "metadata": {},
   "source": [
    "* 2,4 -> register A mod 8 saved to register B\n",
    "* 1,3 -> register B =  B xOR with 3 or 011 \n",
    "* 7,5 -> register C = A/2**B\n",
    "* 4,1 -> register B = B XOR C\n",
    "* 1,3 -> B = B xOR with 3 or 011 \n",
    "* 0,3 -> A = A/(2**3) \n",
    "* 5,5 -> print B mod 8\n",
    "* 0,3 -> A = A/(2**3) \n",
    "        \n"
   ]
  },
  {
   "cell_type": "code",
   "execution_count": null,
   "id": "65e1b4be-0dd7-4e29-9f3b-251818be23ce",
   "metadata": {},
   "outputs": [],
   "source": []
  },
  {
   "cell_type": "markdown",
   "id": "91523429-689b-44a5-93d9-b87f2f6bdd6a",
   "metadata": {},
   "source": [
    "# "
   ]
  },
  {
   "cell_type": "code",
   "execution_count": 118,
   "id": "d4b0b86d-a9c6-4068-9dfe-31622b226cfa",
   "metadata": {},
   "outputs": [
    {
     "data": {
      "text/plain": [
       "'0b11'"
      ]
     },
     "execution_count": 118,
     "metadata": {},
     "output_type": "execute_result"
    }
   ],
   "source": [
    "bin(3)"
   ]
  },
  {
   "cell_type": "code",
   "execution_count": 114,
   "id": "e9d538eb-7a7c-42c9-b2ee-8b1cd13d06d2",
   "metadata": {},
   "outputs": [
    {
     "data": {
      "text/plain": [
       "'0b1100110'"
      ]
     },
     "execution_count": 114,
     "metadata": {},
     "output_type": "execute_result"
    }
   ],
   "source": [
    "bin(100^2)"
   ]
  },
  {
   "cell_type": "code",
   "execution_count": 117,
   "id": "f60c3800-d4f4-4d85-9efb-29a3e63799a5",
   "metadata": {},
   "outputs": [
    {
     "data": {
      "text/plain": [
       "'0b10'"
      ]
     },
     "execution_count": 117,
     "metadata": {},
     "output_type": "execute_result"
    }
   ],
   "source": [
    "bin(2)"
   ]
  },
  {
   "cell_type": "code",
   "execution_count": null,
   "id": "b9d883a6-a30f-4275-8915-34914efa91ea",
   "metadata": {},
   "outputs": [],
   "source": [
    "for "
   ]
  }
 ],
 "metadata": {
  "kernelspec": {
   "display_name": "work_env",
   "language": "python",
   "name": "work_env"
  },
  "language_info": {
   "codemirror_mode": {
    "name": "ipython",
    "version": 3
   },
   "file_extension": ".py",
   "mimetype": "text/x-python",
   "name": "python",
   "nbconvert_exporter": "python",
   "pygments_lexer": "ipython3",
   "version": "3.11.6"
  }
 },
 "nbformat": 4,
 "nbformat_minor": 5
}
