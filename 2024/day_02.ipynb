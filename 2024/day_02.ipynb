{
 "cells": [
  {
   "cell_type": "code",
   "execution_count": 9,
   "id": "e3d20939-f0c4-489c-90a1-f93792cd88f1",
   "metadata": {},
   "outputs": [],
   "source": [
    "from IPython.core.interactiveshell import InteractiveShell\n",
    "InteractiveShell.ast_node_interactivity = \"all\""
   ]
  },
  {
   "cell_type": "markdown",
   "id": "9a5481ea-f123-478e-8d25-ab6e742f4c15",
   "metadata": {},
   "source": [
    "# Part 1"
   ]
  },
  {
   "cell_type": "code",
   "execution_count": 30,
   "id": "167ddcda-e968-4382-988f-b13ef28ea94b",
   "metadata": {},
   "outputs": [],
   "source": [
    "def check_safety_diffs(diffs):\n",
    "    if 0 in diffs:\n",
    "        return 0\n",
    "    max_val = max(diffs)\n",
    "    min_val = min(diffs)\n",
    "    if min_val <= 0 and max_val >= 0:\n",
    "        return 0\n",
    "    if max_val >3 or min_val < -3:\n",
    "        return 0 \n",
    "    return 1\n",
    "\n",
    "def check_line_safe(line):\n",
    "    numbers = [int(i) for i in line]\n",
    "    diffs = [ j-i for i,j in zip(numbers[:-1], numbers[1:])]\n",
    "    return check_safety_diffs(diffs)\n",
    "\n",
    "def part_one():\n",
    "    total =0\n",
    "    with open('input_data/day_02.txt','r') as f:\n",
    "        for line in f.readlines():\n",
    "            total += check_line_safe(line.split())\n",
    "    return total"
   ]
  },
  {
   "cell_type": "code",
   "execution_count": 31,
   "id": "909594e0-810a-450e-9ac8-eda30b99045e",
   "metadata": {},
   "outputs": [
    {
     "data": {
      "text/plain": [
       "279"
      ]
     },
     "execution_count": 31,
     "metadata": {},
     "output_type": "execute_result"
    }
   ],
   "source": [
    "part_one()"
   ]
  },
  {
   "cell_type": "markdown",
   "id": "667d5c9d-9bce-4c19-bb89-41c65f305543",
   "metadata": {},
   "source": [
    "# Part 2"
   ]
  },
  {
   "cell_type": "code",
   "execution_count": 83,
   "id": "9cff1efe-2242-409c-86de-a0004528aa55",
   "metadata": {},
   "outputs": [],
   "source": [
    "def check_number_removal(numbers):\n",
    "    for idx in range(len(numbers)):\n",
    "        new_numbers = numbers.copy()\n",
    "        _=new_numbers.pop(idx)\n",
    "        \n",
    "        diffs = [ j-i for i,j in zip(new_numbers[:-1], new_numbers[1:])]\n",
    "        safety = check_safety_diffs(diffs)\n",
    "\n",
    "        if safety == 1:\n",
    "            return 1 \n",
    "    return 0 \n",
    "\n",
    "def check_line_safe_buffer(line):\n",
    "    numbers = [int(i) for i in line]\n",
    "    diffs = [ j-i for i,j in zip(numbers[:-1], numbers[1:])]\n",
    "    initial = check_safety_diffs(diffs)\n",
    "    if initial==1:\n",
    "        return 1\n",
    "    else:\n",
    "        return check_number_removal(numbers)\n",
    "\n",
    "def part_two():\n",
    "    total =0\n",
    "    with open('input_data/day_02.txt','r') as f:\n",
    "        for line in f.readlines():\n",
    "            total += check_line_safe_buffer(line.strip().split())\n",
    "    return total"
   ]
  },
  {
   "cell_type": "code",
   "execution_count": 84,
   "id": "e3c61eb8-5069-4375-ad16-9da2f59f58c6",
   "metadata": {},
   "outputs": [
    {
     "data": {
      "text/plain": [
       "343"
      ]
     },
     "execution_count": 84,
     "metadata": {},
     "output_type": "execute_result"
    }
   ],
   "source": [
    "part_two()"
   ]
  },
  {
   "cell_type": "code",
   "execution_count": null,
   "id": "f75dac19-ce30-4dfe-b826-7ff334a5bf37",
   "metadata": {},
   "outputs": [],
   "source": []
  }
 ],
 "metadata": {
  "kernelspec": {
   "display_name": "work_env",
   "language": "python",
   "name": "work_env"
  },
  "language_info": {
   "codemirror_mode": {
    "name": "ipython",
    "version": 3
   },
   "file_extension": ".py",
   "mimetype": "text/x-python",
   "name": "python",
   "nbconvert_exporter": "python",
   "pygments_lexer": "ipython3",
   "version": "3.11.6"
  }
 },
 "nbformat": 4,
 "nbformat_minor": 5
}
