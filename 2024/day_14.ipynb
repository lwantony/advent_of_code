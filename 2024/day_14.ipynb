{
 "cells": [
  {
   "cell_type": "code",
   "execution_count": 1,
   "id": "e3d20939-f0c4-489c-90a1-f93792cd88f1",
   "metadata": {},
   "outputs": [],
   "source": [
    "from IPython.core.interactiveshell import InteractiveShell\n",
    "InteractiveShell.ast_node_interactivity = \"all\""
   ]
  },
  {
   "cell_type": "markdown",
   "id": "9a5481ea-f123-478e-8d25-ab6e742f4c15",
   "metadata": {},
   "source": [
    "# Part 1"
   ]
  },
  {
   "cell_type": "code",
   "execution_count": 10,
   "id": "35114e93-acbb-42e6-b4d1-6bf18227bdca",
   "metadata": {},
   "outputs": [],
   "source": [
    "import re \n",
    "\n",
    "class Gaurd:\n",
    "    def __init__(self, line, bbox):\n",
    "        vals = re.findall('(-?\\d+)', line )\n",
    "        \n",
    "        self.pos = (int(vals[0]),int(vals[1]))\n",
    "        self.vel = (int(vals[2]),int(vals[3]))\n",
    "        \n",
    "        self.bbox = bbox\n",
    "        \n",
    "    def move_seconds(self, secs=100):\n",
    "        new=[]\n",
    "        for i in range(2):\n",
    "            new.append( (self.pos[i]+self.vel[i]*secs)%self.bbox[i])\n",
    "            \n",
    "        self.pos = tuple(new)\n",
    "\n",
    "    def calc_quad(self):\n",
    "        mid_x = self.bbox[0]//2\n",
    "        mid_y = self.bbox[1]//2\n",
    "        x,y = self.pos\n",
    "        quad = -1\n",
    "        if  x < mid_x and y< mid_y:\n",
    "            quad=1\n",
    "        elif  x > mid_x and y< mid_y:\n",
    "            quad=2\n",
    "        elif  x > mid_x and y> mid_y:\n",
    "            quad=3\n",
    "        elif  x < mid_x and y> mid_y:\n",
    "            quad=4\n",
    "            \n",
    "        self.quad =quad\n"
   ]
  },
  {
   "cell_type": "code",
   "execution_count": 9,
   "id": "6a3f4880-3005-4379-9d22-fdf81c2efc44",
   "metadata": {},
   "outputs": [],
   "source": [
    "prod = (101,103)\n",
    "test = (11,7)"
   ]
  },
  {
   "cell_type": "code",
   "execution_count": 14,
   "id": "0a1c0eab-da88-4c3b-a250-65f7fa595fa2",
   "metadata": {},
   "outputs": [],
   "source": [
    "def read_file(path,bbox):\n",
    "    quads={}\n",
    "    with open(path,'r') as f:\n",
    "        for line in f.readlines():\n",
    "            g = Gaurd(line,  bbox)\n",
    "            g.move_seconds()\n",
    "            g.calc_quad()\n",
    "            try:\n",
    "                quads[g.quad]+=1\n",
    "            except Exception:\n",
    "                quads[g.quad]=1\n",
    "                \n",
    "    return quads"
   ]
  },
  {
   "cell_type": "code",
   "execution_count": 17,
   "id": "a3e4895c-af73-4383-86e4-67e67a1d4879",
   "metadata": {},
   "outputs": [],
   "source": [
    "def part_one(path='input_data/test_14.txt'):\n",
    "    bbox = test if 'test' in path else prod\n",
    "    quads = read_file(path, bbox)\n",
    "    tot = 1\n",
    "    for q,v in quads.items():\n",
    "        if q > 0:\n",
    "            tot = tot*v\n",
    "    return tot\n",
    "         "
   ]
  },
  {
   "cell_type": "code",
   "execution_count": 18,
   "id": "a86ec43c-4925-4c8f-8496-00676b526abc",
   "metadata": {},
   "outputs": [
    {
     "data": {
      "text/plain": [
       "12"
      ]
     },
     "execution_count": 18,
     "metadata": {},
     "output_type": "execute_result"
    }
   ],
   "source": [
    "part_one()"
   ]
  },
  {
   "cell_type": "code",
   "execution_count": 19,
   "id": "e19b636d-cc7a-4c30-b0a2-60b3d4453964",
   "metadata": {
    "scrolled": true
   },
   "outputs": [
    {
     "data": {
      "text/plain": [
       "218619120"
      ]
     },
     "execution_count": 19,
     "metadata": {},
     "output_type": "execute_result"
    }
   ],
   "source": [
    "part_one('input_data/day_14.txt')"
   ]
  },
  {
   "cell_type": "markdown",
   "id": "69c32986-679f-40ba-a763-0574e8c68570",
   "metadata": {},
   "source": [
    "# Part 2"
   ]
  },
  {
   "cell_type": "code",
   "execution_count": 53,
   "id": "95a9cfe7-14c0-4629-a69f-6753f19b82b1",
   "metadata": {},
   "outputs": [],
   "source": [
    "def compare_quads(guards):\n",
    "    quads={1: 0,\n",
    "           2: 0,\n",
    "           3: 0,\n",
    "           4: 0\n",
    "          }\n",
    "    for g in guards:\n",
    "        g.calc_quad()\n",
    "        try:\n",
    "            quads[g.quad]+=1\n",
    "        except Exception:\n",
    "            quads[g.quad]=1\n",
    "    return quads[1] == quads[2] and quads[3] == quads[4]"
   ]
  },
  {
   "cell_type": "code",
   "execution_count": 72,
   "id": "c2ebd4a6-9389-4055-a415-1a7297adffe7",
   "metadata": {},
   "outputs": [],
   "source": [
    "def high_density_area(guards):\n",
    "    ten_ten_plots={}\n",
    "    for g in guards:\n",
    "        \n",
    "        x,y = g.pos\n",
    "        ix, iy = int(x//10), int(y//10)\n",
    "        try:\n",
    "            ten_ten_plots[(ix,iy)]+=1\n",
    "        except Exception:\n",
    "            ten_ten_plots[(ix,iy)]=1\n",
    "            \n",
    "    return any( [ v/100 > 0.9 for v in ten_ten_plots.values()])"
   ]
  },
  {
   "cell_type": "code",
   "execution_count": 73,
   "id": "0c824cbe-8281-48e6-80b1-038134e68550",
   "metadata": {},
   "outputs": [],
   "source": [
    "def read_part_2(path,bbox):\n",
    "    guards=[]\n",
    "    with open(path,'r') as f:\n",
    "        for line in f.readlines():\n",
    "            g = Gaurd(line,  bbox)\n",
    "            guards.append(g)\n",
    "    sec=0\n",
    "    prints = 0\n",
    "    while prints == 0:\n",
    "        for g in guards:\n",
    "            g.move_seconds(secs=1)\n",
    "        sec+=1\n",
    "        if high_density_area(guards):\n",
    "            prints+=1\n",
    "\n",
    "    template =  [ ['.']*bbox[0] for i in range(bbox[1])]\n",
    "    for g in guards:\n",
    "        x,y = g.pos\n",
    "        template[y][x] = 'O'\n",
    "    print ( '\\n'.join( [ ''.join(x) for x in template]))\n",
    "        \n",
    "    return sec"
   ]
  },
  {
   "cell_type": "code",
   "execution_count": 74,
   "id": "3fe03afa-9d52-4f5e-9f1f-94a5aad01aa2",
   "metadata": {},
   "outputs": [],
   "source": [
    "def part_two(path='input_data/test_14.txt'):\n",
    "    bbox = test if 'test' in path else prod\n",
    "    secs = read_part_2(path, bbox)\n",
    "    return secs\n",
    "         "
   ]
  },
  {
   "cell_type": "code",
   "execution_count": 70,
   "id": "8bfb6a02-f36d-4225-a392-a8d0f75f730c",
   "metadata": {},
   "outputs": [
    {
     "ename": "KeyboardInterrupt",
     "evalue": "",
     "output_type": "error",
     "traceback": [
      "\u001b[0;31m---------------------------------------------------------------------------\u001b[0m",
      "\u001b[0;31mKeyboardInterrupt\u001b[0m                         Traceback (most recent call last)",
      "Cell \u001b[0;32mIn[70], line 1\u001b[0m\n\u001b[0;32m----> 1\u001b[0m \u001b[43mpart_two\u001b[49m\u001b[43m(\u001b[49m\u001b[43m)\u001b[49m\n",
      "Cell \u001b[0;32mIn[69], line 3\u001b[0m, in \u001b[0;36mpart_two\u001b[0;34m(path)\u001b[0m\n\u001b[1;32m      1\u001b[0m \u001b[38;5;28;01mdef\u001b[39;00m \u001b[38;5;21mpart_two\u001b[39m(path\u001b[38;5;241m=\u001b[39m\u001b[38;5;124m'\u001b[39m\u001b[38;5;124minput_data/test_14.txt\u001b[39m\u001b[38;5;124m'\u001b[39m):\n\u001b[1;32m      2\u001b[0m     bbox \u001b[38;5;241m=\u001b[39m test \u001b[38;5;28;01mif\u001b[39;00m \u001b[38;5;124m'\u001b[39m\u001b[38;5;124mtest\u001b[39m\u001b[38;5;124m'\u001b[39m \u001b[38;5;129;01min\u001b[39;00m path \u001b[38;5;28;01melse\u001b[39;00m prod\n\u001b[0;32m----> 3\u001b[0m     secs \u001b[38;5;241m=\u001b[39m \u001b[43mread_part_2\u001b[49m\u001b[43m(\u001b[49m\u001b[43mpath\u001b[49m\u001b[43m,\u001b[49m\u001b[43m \u001b[49m\u001b[43mbbox\u001b[49m\u001b[43m)\u001b[49m\n\u001b[1;32m      4\u001b[0m     \u001b[38;5;28;01mreturn\u001b[39;00m secs\n",
      "Cell \u001b[0;32mIn[68], line 11\u001b[0m, in \u001b[0;36mread_part_2\u001b[0;34m(path, bbox)\u001b[0m\n\u001b[1;32m      9\u001b[0m \u001b[38;5;28;01mwhile\u001b[39;00m prints \u001b[38;5;241m==\u001b[39m \u001b[38;5;241m0\u001b[39m:\n\u001b[1;32m     10\u001b[0m     \u001b[38;5;28;01mfor\u001b[39;00m g \u001b[38;5;129;01min\u001b[39;00m guards:\n\u001b[0;32m---> 11\u001b[0m         \u001b[43mg\u001b[49m\u001b[38;5;241;43m.\u001b[39;49m\u001b[43mmove_seconds\u001b[49m\u001b[43m(\u001b[49m\u001b[43msecs\u001b[49m\u001b[38;5;241;43m=\u001b[39;49m\u001b[38;5;241;43m1\u001b[39;49m\u001b[43m)\u001b[49m\n\u001b[1;32m     12\u001b[0m     sec\u001b[38;5;241m+\u001b[39m\u001b[38;5;241m=\u001b[39m\u001b[38;5;241m1\u001b[39m\n\u001b[1;32m     13\u001b[0m     \u001b[38;5;28;01mif\u001b[39;00m high_density_area(guards):\n",
      "Cell \u001b[0;32mIn[10], line 12\u001b[0m, in \u001b[0;36mGaurd.move_seconds\u001b[0;34m(self, secs)\u001b[0m\n\u001b[1;32m      8\u001b[0m     \u001b[38;5;28mself\u001b[39m\u001b[38;5;241m.\u001b[39mvel \u001b[38;5;241m=\u001b[39m (\u001b[38;5;28mint\u001b[39m(vals[\u001b[38;5;241m2\u001b[39m]),\u001b[38;5;28mint\u001b[39m(vals[\u001b[38;5;241m3\u001b[39m]))\n\u001b[1;32m     10\u001b[0m     \u001b[38;5;28mself\u001b[39m\u001b[38;5;241m.\u001b[39mbbox \u001b[38;5;241m=\u001b[39m bbox\n\u001b[0;32m---> 12\u001b[0m \u001b[38;5;28;01mdef\u001b[39;00m \u001b[38;5;21mmove_seconds\u001b[39m(\u001b[38;5;28mself\u001b[39m, secs\u001b[38;5;241m=\u001b[39m\u001b[38;5;241m100\u001b[39m):\n\u001b[1;32m     13\u001b[0m     new\u001b[38;5;241m=\u001b[39m[]\n\u001b[1;32m     14\u001b[0m     \u001b[38;5;28;01mfor\u001b[39;00m i \u001b[38;5;129;01min\u001b[39;00m \u001b[38;5;28mrange\u001b[39m(\u001b[38;5;241m2\u001b[39m):\n",
      "\u001b[0;31mKeyboardInterrupt\u001b[0m: "
     ]
    }
   ],
   "source": [
    "part_two()"
   ]
  },
  {
   "cell_type": "code",
   "execution_count": 75,
   "id": "ff65d30d-a9be-4e46-b284-95150e724fef",
   "metadata": {},
   "outputs": [
    {
     "ename": "KeyboardInterrupt",
     "evalue": "",
     "output_type": "error",
     "traceback": [
      "\u001b[0;31m---------------------------------------------------------------------------\u001b[0m",
      "\u001b[0;31mKeyboardInterrupt\u001b[0m                         Traceback (most recent call last)",
      "Cell \u001b[0;32mIn[75], line 1\u001b[0m\n\u001b[0;32m----> 1\u001b[0m \u001b[43mpart_two\u001b[49m\u001b[43m(\u001b[49m\u001b[38;5;124;43m'\u001b[39;49m\u001b[38;5;124;43minput_data/day_14.txt\u001b[39;49m\u001b[38;5;124;43m'\u001b[39;49m\u001b[43m)\u001b[49m\n",
      "Cell \u001b[0;32mIn[74], line 3\u001b[0m, in \u001b[0;36mpart_two\u001b[0;34m(path)\u001b[0m\n\u001b[1;32m      1\u001b[0m \u001b[38;5;28;01mdef\u001b[39;00m \u001b[38;5;21mpart_two\u001b[39m(path\u001b[38;5;241m=\u001b[39m\u001b[38;5;124m'\u001b[39m\u001b[38;5;124minput_data/test_14.txt\u001b[39m\u001b[38;5;124m'\u001b[39m):\n\u001b[1;32m      2\u001b[0m     bbox \u001b[38;5;241m=\u001b[39m test \u001b[38;5;28;01mif\u001b[39;00m \u001b[38;5;124m'\u001b[39m\u001b[38;5;124mtest\u001b[39m\u001b[38;5;124m'\u001b[39m \u001b[38;5;129;01min\u001b[39;00m path \u001b[38;5;28;01melse\u001b[39;00m prod\n\u001b[0;32m----> 3\u001b[0m     secs \u001b[38;5;241m=\u001b[39m \u001b[43mread_part_2\u001b[49m\u001b[43m(\u001b[49m\u001b[43mpath\u001b[49m\u001b[43m,\u001b[49m\u001b[43m \u001b[49m\u001b[43mbbox\u001b[49m\u001b[43m)\u001b[49m\n\u001b[1;32m      4\u001b[0m     \u001b[38;5;28;01mreturn\u001b[39;00m secs\n",
      "Cell \u001b[0;32mIn[73], line 11\u001b[0m, in \u001b[0;36mread_part_2\u001b[0;34m(path, bbox)\u001b[0m\n\u001b[1;32m      9\u001b[0m \u001b[38;5;28;01mwhile\u001b[39;00m prints \u001b[38;5;241m==\u001b[39m \u001b[38;5;241m0\u001b[39m:\n\u001b[1;32m     10\u001b[0m     \u001b[38;5;28;01mfor\u001b[39;00m g \u001b[38;5;129;01min\u001b[39;00m guards:\n\u001b[0;32m---> 11\u001b[0m         \u001b[43mg\u001b[49m\u001b[38;5;241;43m.\u001b[39;49m\u001b[43mmove_seconds\u001b[49m\u001b[43m(\u001b[49m\u001b[43msecs\u001b[49m\u001b[38;5;241;43m=\u001b[39;49m\u001b[38;5;241;43m1\u001b[39;49m\u001b[43m)\u001b[49m\n\u001b[1;32m     12\u001b[0m     sec\u001b[38;5;241m+\u001b[39m\u001b[38;5;241m=\u001b[39m\u001b[38;5;241m1\u001b[39m\n\u001b[1;32m     13\u001b[0m     \u001b[38;5;28;01mif\u001b[39;00m high_density_area(guards):\n",
      "Cell \u001b[0;32mIn[10], line 14\u001b[0m, in \u001b[0;36mGaurd.move_seconds\u001b[0;34m(self, secs)\u001b[0m\n\u001b[1;32m     12\u001b[0m \u001b[38;5;28;01mdef\u001b[39;00m \u001b[38;5;21mmove_seconds\u001b[39m(\u001b[38;5;28mself\u001b[39m, secs\u001b[38;5;241m=\u001b[39m\u001b[38;5;241m100\u001b[39m):\n\u001b[1;32m     13\u001b[0m     new\u001b[38;5;241m=\u001b[39m[]\n\u001b[0;32m---> 14\u001b[0m     \u001b[38;5;28;01mfor\u001b[39;00m i \u001b[38;5;129;01min\u001b[39;00m \u001b[38;5;28mrange\u001b[39m(\u001b[38;5;241m2\u001b[39m):\n\u001b[1;32m     15\u001b[0m         new\u001b[38;5;241m.\u001b[39mappend( (\u001b[38;5;28mself\u001b[39m\u001b[38;5;241m.\u001b[39mpos[i]\u001b[38;5;241m+\u001b[39m\u001b[38;5;28mself\u001b[39m\u001b[38;5;241m.\u001b[39mvel[i]\u001b[38;5;241m*\u001b[39msecs)\u001b[38;5;241m%\u001b[39m\u001b[38;5;28mself\u001b[39m\u001b[38;5;241m.\u001b[39mbbox[i])\n\u001b[1;32m     17\u001b[0m     \u001b[38;5;28mself\u001b[39m\u001b[38;5;241m.\u001b[39mpos \u001b[38;5;241m=\u001b[39m \u001b[38;5;28mtuple\u001b[39m(new)\n",
      "\u001b[0;31mKeyboardInterrupt\u001b[0m: "
     ]
    }
   ],
   "source": [
    "part_two('input_data/day_14.txt')\n"
   ]
  },
  {
   "cell_type": "code",
   "execution_count": null,
   "id": "8f2d42b6-8f9b-4ec6-8b61-f5085f22b4a7",
   "metadata": {},
   "outputs": [],
   "source": []
  }
 ],
 "metadata": {
  "kernelspec": {
   "display_name": "work_env",
   "language": "python",
   "name": "work_env"
  },
  "language_info": {
   "codemirror_mode": {
    "name": "ipython",
    "version": 3
   },
   "file_extension": ".py",
   "mimetype": "text/x-python",
   "name": "python",
   "nbconvert_exporter": "python",
   "pygments_lexer": "ipython3",
   "version": "3.11.6"
  }
 },
 "nbformat": 4,
 "nbformat_minor": 5
}
