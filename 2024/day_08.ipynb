{
 "cells": [
  {
   "cell_type": "code",
   "execution_count": 1,
   "id": "e3d20939-f0c4-489c-90a1-f93792cd88f1",
   "metadata": {},
   "outputs": [],
   "source": [
    "from IPython.core.interactiveshell import InteractiveShell\n",
    "InteractiveShell.ast_node_interactivity = \"all\""
   ]
  },
  {
   "cell_type": "markdown",
   "id": "9a5481ea-f123-478e-8d25-ab6e742f4c15",
   "metadata": {},
   "source": [
    "# Part 1"
   ]
  },
  {
   "cell_type": "code",
   "execution_count": 19,
   "id": "0a1c0eab-da88-4c3b-a250-65f7fa595fa2",
   "metadata": {},
   "outputs": [],
   "source": [
    "def read_file(path):\n",
    "    freqs={}\n",
    "    with open(path,'r') as f:\n",
    "        dims = None\n",
    "        for y,line in enumerate(f.readlines()):\n",
    "            line= line.strip()\n",
    "            for x, sym in enumerate(list(line)):\n",
    "                if sym != '.':\n",
    "                    try:\n",
    "                        freqs[sym].append( (y,x))\n",
    "                    except Exception:\n",
    "                        freqs[sym] = [(y,x)]\n",
    "            dims=(y+1,len(line))\n",
    "    return freqs, dims\n",
    "\n",
    "def find_anitnodes(freqs, dims):\n",
    "    anti_locs =[]\n",
    "\n",
    "    for fq, locs in freqs.items():\n",
    "        for i, f1 in enumerate(locs[:-1]):\n",
    "            for f2 in locs[i+1:]:\n",
    "                change = [ f1[x] -f2[x] for x in range(2)]\n",
    "\n",
    "                n1 = [ f1[x] +change[x] for x in range(2)]\n",
    "                n2 = [ f2[x] -change[x] for x in range(2)]\n",
    "\n",
    "                if all([ n1[x] > -1 and n1[x]<dims[x] for x in range(2)]):\n",
    "                    anti_locs.append(tuple(n1))\n",
    "                if all([ n2[x] > -1 and n2[x]<dims[x] for x in range(2)]):\n",
    "                    anti_locs.append(tuple(n2))\n",
    "                    \n",
    "    return anti_locs"
   ]
  },
  {
   "cell_type": "code",
   "execution_count": 22,
   "id": "a3e4895c-af73-4383-86e4-67e67a1d4879",
   "metadata": {},
   "outputs": [],
   "source": [
    "def part_one(path='input_data/test_08.txt'):\n",
    "    freqs, dims = read_file(path)\n",
    "    return len(set(find_anitnodes(freqs, dims)))"
   ]
  },
  {
   "cell_type": "code",
   "execution_count": 23,
   "id": "a86ec43c-4925-4c8f-8496-00676b526abc",
   "metadata": {},
   "outputs": [
    {
     "data": {
      "text/plain": [
       "14"
      ]
     },
     "execution_count": 23,
     "metadata": {},
     "output_type": "execute_result"
    }
   ],
   "source": [
    "part_one()"
   ]
  },
  {
   "cell_type": "code",
   "execution_count": 24,
   "id": "e19b636d-cc7a-4c30-b0a2-60b3d4453964",
   "metadata": {},
   "outputs": [
    {
     "data": {
      "text/plain": [
       "214"
      ]
     },
     "execution_count": 24,
     "metadata": {},
     "output_type": "execute_result"
    }
   ],
   "source": [
    "part_one('input_data/day_08.txt')"
   ]
  },
  {
   "cell_type": "markdown",
   "id": "667d5c9d-9bce-4c19-bb89-41c65f305543",
   "metadata": {},
   "source": [
    "# Part 2"
   ]
  },
  {
   "cell_type": "code",
   "execution_count": 25,
   "id": "ec781646-72dc-440e-b3bf-509e532b51b8",
   "metadata": {},
   "outputs": [],
   "source": [
    "def find_anitnodes_part_2(freqs, dims):\n",
    "    anti_locs =[]\n",
    "\n",
    "    for fq, locs in freqs.items():\n",
    "        for i, f1 in enumerate(locs[:-1]):\n",
    "            for f2 in locs[i+1:]:\n",
    "                change = [ f1[x] -f2[x] for x in range(2)]\n",
    "                anti_locs.append(tuple(f1))\n",
    "                \n",
    "                n1 = [ f1[x] +change[x] for x in range(2)]\n",
    "                while  all([ n1[x] > -1 and n1[x]<dims[x] for x in range(2)]):\n",
    "                    anti_locs.append(tuple(n1))\n",
    "                    n1 = [ n1[x] +change[x] for x in range(2)]\n",
    "                    \n",
    "                anti_locs.append(tuple(f2))\n",
    "                \n",
    "                n2 = [ f2[x] -change[x] for x in range(2)]\n",
    "                while  all([ n2[x] > -1 and n2[x]<dims[x] for x in range(2)]):\n",
    "                    anti_locs.append(tuple(n2))\n",
    "                    n2 = [ n2[x] -change[x] for x in range(2)]\n",
    "    return anti_locs"
   ]
  },
  {
   "cell_type": "code",
   "execution_count": 26,
   "id": "c7ce4cb9-5032-4a36-9c3a-40cafce85a6f",
   "metadata": {},
   "outputs": [],
   "source": [
    "def part_two(path='input_data/test_08.txt'):\n",
    "    freqs, dims = read_file(path)\n",
    "    return len(set(find_anitnodes_part_2(freqs, dims)))"
   ]
  },
  {
   "cell_type": "code",
   "execution_count": 27,
   "id": "110d0b06-afef-4084-a562-0d5bc174cfce",
   "metadata": {},
   "outputs": [
    {
     "data": {
      "text/plain": [
       "34"
      ]
     },
     "execution_count": 27,
     "metadata": {},
     "output_type": "execute_result"
    }
   ],
   "source": [
    "part_two()"
   ]
  },
  {
   "cell_type": "code",
   "execution_count": 28,
   "id": "bf32a674-14c1-43c0-a0fb-8ddb19e45be2",
   "metadata": {},
   "outputs": [
    {
     "name": "stdout",
     "output_type": "stream",
     "text": [
      "CPU times: user 4.19 ms, sys: 1.45 ms, total: 5.65 ms\n",
      "Wall time: 4.92 ms\n"
     ]
    },
    {
     "data": {
      "text/plain": [
       "809"
      ]
     },
     "execution_count": 28,
     "metadata": {},
     "output_type": "execute_result"
    }
   ],
   "source": [
    "%%time\n",
    "part_two('input_data/day_08.txt')"
   ]
  },
  {
   "cell_type": "code",
   "execution_count": null,
   "id": "53e1a943-c2ac-442a-a542-9082ab1eba06",
   "metadata": {},
   "outputs": [],
   "source": []
  }
 ],
 "metadata": {
  "kernelspec": {
   "display_name": "work_env",
   "language": "python",
   "name": "work_env"
  },
  "language_info": {
   "codemirror_mode": {
    "name": "ipython",
    "version": 3
   },
   "file_extension": ".py",
   "mimetype": "text/x-python",
   "name": "python",
   "nbconvert_exporter": "python",
   "pygments_lexer": "ipython3",
   "version": "3.11.6"
  }
 },
 "nbformat": 4,
 "nbformat_minor": 5
}
