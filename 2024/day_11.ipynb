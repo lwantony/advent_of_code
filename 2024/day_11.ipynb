{
 "cells": [
  {
   "cell_type": "code",
   "execution_count": null,
   "id": "e3d20939-f0c4-489c-90a1-f93792cd88f1",
   "metadata": {},
   "outputs": [],
   "source": [
    "from IPython.core.interactiveshell import InteractiveShell\n",
    "InteractiveShell.ast_node_interactivity = \"all\""
   ]
  },
  {
   "cell_type": "markdown",
   "id": "9a5481ea-f123-478e-8d25-ab6e742f4c15",
   "metadata": {},
   "source": [
    "# Part 1"
   ]
  },
  {
   "cell_type": "code",
   "execution_count": 1,
   "id": "43862251-1008-4543-9f3d-56027f6472cc",
   "metadata": {},
   "outputs": [],
   "source": [
    "full='3 386358 86195 85 1267 3752457 0 741'\n",
    "test='125 17'"
   ]
  },
  {
   "cell_type": "code",
   "execution_count": 2,
   "id": "f4de616e-274f-4012-a04e-871638c629a2",
   "metadata": {},
   "outputs": [],
   "source": [
    "def blink(stones):\n",
    "    new_stones=[]\n",
    "    for s in stones:\n",
    "        if len(s) %2 == 0 :\n",
    "            cut= len(s)//2\n",
    "            new_stones.append(s[:cut])\n",
    "            new_stones.append(str(int(s[cut:])))\n",
    "        elif s == '0':\n",
    "            new_stones.append('1')\n",
    "        else:\n",
    "            new_stones.append(str( int(s) * 2024) )\n",
    "            \n",
    "    return new_stones\n",
    "            \n",
    "            "
   ]
  },
  {
   "cell_type": "code",
   "execution_count": 3,
   "id": "a3e4895c-af73-4383-86e4-67e67a1d4879",
   "metadata": {},
   "outputs": [],
   "source": [
    "def part_one(stones=test, blinks=25):\n",
    "    stones=stones.split(' ') \n",
    "\n",
    "    for i in range(blinks):\n",
    "        stones = blink(stones)\n",
    "    \n",
    "    return len(stones)"
   ]
  },
  {
   "cell_type": "code",
   "execution_count": 4,
   "id": "a86ec43c-4925-4c8f-8496-00676b526abc",
   "metadata": {},
   "outputs": [
    {
     "data": {
      "text/plain": [
       "55312"
      ]
     },
     "execution_count": 4,
     "metadata": {},
     "output_type": "execute_result"
    }
   ],
   "source": [
    "part_one()"
   ]
  },
  {
   "cell_type": "code",
   "execution_count": 5,
   "id": "e19b636d-cc7a-4c30-b0a2-60b3d4453964",
   "metadata": {},
   "outputs": [
    {
     "name": "stdout",
     "output_type": "stream",
     "text": [
      "CPU times: user 99.1 ms, sys: 3.74 ms, total: 103 ms\n",
      "Wall time: 105 ms\n"
     ]
    },
    {
     "data": {
      "text/plain": [
       "183248"
      ]
     },
     "execution_count": 5,
     "metadata": {},
     "output_type": "execute_result"
    }
   ],
   "source": [
    "%%time\n",
    "part_one(full)"
   ]
  },
  {
   "cell_type": "markdown",
   "id": "86a86352-882f-4140-a0e3-b17f120729cd",
   "metadata": {},
   "source": [
    "# part Two "
   ]
  },
  {
   "cell_type": "code",
   "execution_count": 11,
   "id": "f838fccb-b4db-4c42-86fb-243560e78031",
   "metadata": {},
   "outputs": [],
   "source": [
    "def blink_counts(stone_counts):\n",
    "    new_counts={}\n",
    "    for s, cnt in stone_counts.items():\n",
    "        if s=='0':\n",
    "            try:\n",
    "                new_counts['1']+= cnt\n",
    "            except Exception:\n",
    "                new_counts['1'] = cnt\n",
    "        elif len(s)%2 ==0:\n",
    "            cut= len(s)//2\n",
    "            s1 = s[:cut]\n",
    "            s2 = str(int(s[cut:]))\n",
    "            for ns in [s1, s2]:\n",
    "                try:\n",
    "                    new_counts[ns]+= cnt\n",
    "                except Exception:\n",
    "                    new_counts[ns] = cnt\n",
    "        else:\n",
    "            ns = str(int(s)*2024)\n",
    "            try:\n",
    "                new_counts[ns]+= cnt\n",
    "            except Exception:\n",
    "                new_counts[ns] = cnt\n",
    "    return new_counts\n",
    "            \n",
    "            "
   ]
  },
  {
   "cell_type": "code",
   "execution_count": 12,
   "id": "d0f7797f-04c8-438b-9aad-056f7caae6ad",
   "metadata": {},
   "outputs": [],
   "source": [
    "def part_two(stones=test, blinks=25):\n",
    "    stones=stones.split(' ') \n",
    "    stypes={}\n",
    "    for s in stones:\n",
    "        try: \n",
    "            stypes[s] += 1\n",
    "        except Exception:\n",
    "            stypes[s] = 1\n",
    "\n",
    "    for i in range(blinks):\n",
    "        stypes = blink(stypes)\n",
    "    \n",
    "    return sum(stypes.values())"
   ]
  },
  {
   "cell_type": "code",
   "execution_count": 13,
   "id": "1e4c215a-b411-4622-9c7c-3809f92f2e8c",
   "metadata": {},
   "outputs": [
    {
     "ename": "AttributeError",
     "evalue": "'list' object has no attribute 'values'",
     "output_type": "error",
     "traceback": [
      "\u001b[0;31m---------------------------------------------------------------------------\u001b[0m",
      "\u001b[0;31mAttributeError\u001b[0m                            Traceback (most recent call last)",
      "Cell \u001b[0;32mIn[13], line 1\u001b[0m\n\u001b[0;32m----> 1\u001b[0m \u001b[43mpart_two\u001b[49m\u001b[43m(\u001b[49m\u001b[43mfull\u001b[49m\u001b[43m,\u001b[49m\u001b[43m \u001b[49m\u001b[43mblinks\u001b[49m\u001b[38;5;241;43m=\u001b[39;49m\u001b[38;5;241;43m25\u001b[39;49m\u001b[43m)\u001b[49m\n",
      "Cell \u001b[0;32mIn[12], line 13\u001b[0m, in \u001b[0;36mpart_two\u001b[0;34m(stones, blinks)\u001b[0m\n\u001b[1;32m     10\u001b[0m \u001b[38;5;28;01mfor\u001b[39;00m i \u001b[38;5;129;01min\u001b[39;00m \u001b[38;5;28mrange\u001b[39m(blinks):\n\u001b[1;32m     11\u001b[0m     stypes \u001b[38;5;241m=\u001b[39m blink(stypes)\n\u001b[0;32m---> 13\u001b[0m \u001b[38;5;28;01mreturn\u001b[39;00m \u001b[38;5;28msum\u001b[39m(\u001b[43mstypes\u001b[49m\u001b[38;5;241;43m.\u001b[39;49m\u001b[43mvalues\u001b[49m())\n",
      "\u001b[0;31mAttributeError\u001b[0m: 'list' object has no attribute 'values'"
     ]
    }
   ],
   "source": [
    "part_two(full, blinks=25)"
   ]
  },
  {
   "cell_type": "code",
   "execution_count": null,
   "id": "deed0ccc-cd9f-43d6-a1eb-af9f26442ed7",
   "metadata": {},
   "outputs": [],
   "source": []
  }
 ],
 "metadata": {
  "kernelspec": {
   "display_name": "work_env",
   "language": "python",
   "name": "work_env"
  },
  "language_info": {
   "codemirror_mode": {
    "name": "ipython",
    "version": 3
   },
   "file_extension": ".py",
   "mimetype": "text/x-python",
   "name": "python",
   "nbconvert_exporter": "python",
   "pygments_lexer": "ipython3",
   "version": "3.11.6"
  }
 },
 "nbformat": 4,
 "nbformat_minor": 5
}
