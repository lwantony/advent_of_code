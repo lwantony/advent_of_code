{
 "cells": [
  {
   "cell_type": "code",
   "execution_count": 1,
   "id": "2efe433c-ccbf-4b0a-8653-f0824059fd6f",
   "metadata": {
    "tags": []
   },
   "outputs": [],
   "source": [
    "from IPython.core.interactiveshell import InteractiveShell\n",
    "InteractiveShell.ast_node_interactivity = \"all\""
   ]
  },
  {
   "cell_type": "markdown",
   "id": "ff944d02-8a60-417e-888a-54e4e5141bbf",
   "metadata": {
    "tags": []
   },
   "source": [
    "# Part 1"
   ]
  },
  {
   "cell_type": "code",
   "execution_count": 14,
   "id": "4682f52e-f72f-41da-bca8-d2847ba45173",
   "metadata": {},
   "outputs": [],
   "source": []
  },
  {
   "cell_type": "code",
   "execution_count": 50,
   "id": "3be9e68d-9124-41f2-95f0-468444d0f98e",
   "metadata": {
    "tags": []
   },
   "outputs": [],
   "source": [
    "from collections import deque\n",
    "\n",
    "operations={\n",
    "    'XOR': '^',\n",
    "    'OR': '|',\n",
    "    'AND': '&',\n",
    "}\n",
    "\n",
    "def initialize_state(line,wires):\n",
    "    w,val = line.strip().split(':')\n",
    "    wires[w]=int(val)\n",
    "\n",
    "def compute_wire(line,wires, missed):\n",
    "    w1,op,w2, _, w3 = line.strip().split()\n",
    "    try:\n",
    "        wires[w3] = eval(f'{wires[w1]}{operations[op]}{wires[w2]}')\n",
    "    except KeyError:\n",
    "        missed.append(line)\n",
    "\n",
    "def compute_number(wires):\n",
    "    zkeys = [w for w in wires if  w.startswith('z')]\n",
    "    bin_num_array = [ str(wires[f'z{i:02}']) for i in range(len(zkeys)-1,-1,-1)]\n",
    "    return int(''.join(bin_num_array), 2)\n",
    "    \n",
    "def compute_number_string(wires,l='z'):\n",
    "    zkeys = [w for w in wires if  w.startswith(l)]\n",
    "    bin_num_array = [ str(wires[f'{l}{i:02}']) for i in range(len(zkeys)-1,-1,-1)]\n",
    "    return int(''.join(bin_num_array), 2)\n",
    "    \n",
    "\n",
    "def part_one(path='input_data/test_24.txt'):\n",
    "    wires={}\n",
    "    missed_computes = deque([])    \n",
    "\n",
    "    init=True\n",
    "    with open(path,'r') as f:\n",
    "        for line in f.readlines():\n",
    "            if len(line.strip()) < 1:\n",
    "                init=False\n",
    "                continue\n",
    "            if init:\n",
    "                initialize_state(line, wires)\n",
    "            else:\n",
    "                compute_wire(line, wires, missed_computes)            \n",
    "    while len(missed_computes) >0: \n",
    "        line = missed_computes.popleft()\n",
    "        compute_wire(line, wires, missed_computes)\n",
    "\n",
    "    number = compute_number_string(wires)\n",
    "    print(compute_number_string(wires,l='x'),compute_number_string(wires,l='y'))\n",
    "    return number"
   ]
  },
  {
   "cell_type": "code",
   "execution_count": 51,
   "id": "c665d38a-4c25-440f-8e32-b7e9607e7617",
   "metadata": {},
   "outputs": [
    {
     "name": "stdout",
     "output_type": "stream",
     "text": [
      "13 31\n",
      "CPU times: user 2.02 ms, sys: 1.65 ms, total: 3.67 ms\n",
      "Wall time: 2.76 ms\n"
     ]
    },
    {
     "data": {
      "text/plain": [
       "2024"
      ]
     },
     "execution_count": 51,
     "metadata": {},
     "output_type": "execute_result"
    }
   ],
   "source": [
    "%%time\n",
    "part_one()"
   ]
  },
  {
   "cell_type": "code",
   "execution_count": 52,
   "id": "23ef893e-d596-49c4-8dac-d1d2aa72a193",
   "metadata": {},
   "outputs": [
    {
     "name": "stdout",
     "output_type": "stream",
     "text": [
      "26495111766585 18168650014383\n",
      "CPU times: user 12.8 ms, sys: 2.08 ms, total: 14.8 ms\n",
      "Wall time: 13.7 ms\n"
     ]
    },
    {
     "data": {
      "text/plain": [
       "45213383376616"
      ]
     },
     "execution_count": 52,
     "metadata": {},
     "output_type": "execute_result"
    }
   ],
   "source": [
    "%%time\n",
    "part_one('input_data/day_24.txt')"
   ]
  },
  {
   "cell_type": "markdown",
   "id": "c0172b8b-aab1-42de-a4f0-8f413e068a92",
   "metadata": {},
   "source": [
    "# Part Two"
   ]
  },
  {
   "cell_type": "code",
   "execution_count": 45,
   "id": "9f34cca6-7de5-4dd9-ba23-9967f81cc08f",
   "metadata": {},
   "outputs": [
    {
     "data": {
      "text/plain": [
       "['ntg XOR fgs ', ' mjb']"
      ]
     },
     "execution_count": 45,
     "metadata": {},
     "output_type": "execute_result"
    }
   ],
   "source": [
    "'ntg XOR fgs -> mjb'.split()"
   ]
  },
  {
   "cell_type": "code",
   "execution_count": 75,
   "id": "a149ba6a-8d8c-4cd9-84b9-c3470d2fbac2",
   "metadata": {},
   "outputs": [
    {
     "data": {
      "text/plain": [
       "[('ntg', 'XOR', 'fgs', 'mjb')]"
      ]
     },
     "execution_count": 75,
     "metadata": {},
     "output_type": "execute_result"
    }
   ],
   "source": []
  },
  {
   "cell_type": "code",
   "execution_count": 202,
   "id": "a8c4903b-9dae-4762-8f58-8d0df88f496f",
   "metadata": {},
   "outputs": [],
   "source": [
    "from dataclasses import dataclass\n",
    "import re\n",
    "import numpy as np\n",
    "from copy import deepcopy\n",
    "\n",
    "@dataclass\n",
    "class Wire:\n",
    "    inputs: list \n",
    "    operation: str\n",
    "    name: str\n",
    "    def __str__(self):\n",
    "        return f'{self.name}: {self.inputs[0]} {self.operation} {self.inputs[1]}'\n",
    "    \n",
    "operations={\n",
    "    'XOR': '^',\n",
    "    'OR': '|',\n",
    "    'AND': '&',\n",
    "}\n",
    "\n",
    "class WireNetwork:\n",
    "    \n",
    "    def _initialize_state(self,line,wires):\n",
    "        w,val = line.strip().split(':')\n",
    "        wires[w]=int(val)\n",
    "        \n",
    "    def _get_compute_wire(self, line, calc_compute):\n",
    "        in1, op, in2, w = re.findall(r'(\\w+) (\\w+) (\\w+) -> (\\w+)',line)[0]\n",
    "        calc_compute[w]=Wire([in1,in2], op, w)\n",
    "\n",
    "    def calculate_wire(self, wire, new_set=None):\n",
    "        if wire in self.set_wires:\n",
    "            return self.set_wires[wire]\n",
    "            \n",
    "        compute = self.wire_computes[wire] if new_set==None else new_set[wire]\n",
    "        in1=self.calculate_wire(compute.inputs[0],new_set)\n",
    "        in2=self.calculate_wire(compute.inputs[1],new_set)\n",
    "        return eval(f'{in1}{operations[compute.operation]}{in2}')\n",
    "\n",
    "    def wire_inputs(self, wire, dependency):\n",
    "        if wire in self.set_wires:\n",
    "            dependency.append(wire)\n",
    "            return \n",
    "        compute = self.wire_computes[wire]\n",
    "        dependency.append(wire)\n",
    "        for i in range(2):\n",
    "            self.wire_inputs(compute.inputs[i], dependency)\n",
    "            \n",
    "    def get_unique_inputs(self,wnum):\n",
    "        contributing=[] \n",
    "        remove=[]\n",
    "        self.wire_inputs(f'z{wnum:02}',contributing)\n",
    "        self.wire_inputs(f'z{wnum-1:02}',remove)\n",
    "        unique_set= list(set(contributing)-set(remove))\n",
    "        return unique_set\n",
    "\n",
    "    def swap_wires(self,w1,w2):\n",
    "        tmp = self.wire_computes[w1]\n",
    "        self.wire_computes[w1] = self.wire_computes[w2]\n",
    "        self.wire_computes[w2] = tmp\n",
    "\n",
    "            \n",
    "    def calculate_bad_bits(self):\n",
    "        carry=0 \n",
    "        nbits = len([ w for w in self.set_wires.keys() if  w.startswith('x')])\n",
    "        bad_bits=[-2]\n",
    "        for b in range(nbits):\n",
    "            x = self.calculate_wire(f'x{b:02}')\n",
    "            y = self.calculate_wire(f'y{b:02}')\n",
    "            z = self.calculate_wire(f'z{b:02}')\n",
    "            bit_sum = x+y+carry\n",
    "            if z != (bit_sum)%2:\n",
    "                bad_bits.append(b)\n",
    "                \n",
    "            carry=int(bit_sum>1)\n",
    "            \n",
    "        bad_bits = np.array(bad_bits)\n",
    "        print(bad_bits) \n",
    "        diffs_mask = (bad_bits[1:] - bad_bits[:-1]) > 1\n",
    "        \n",
    "        bad_bits = bad_bits[1:][diffs_mask]\n",
    "        \n",
    "        self.bad_bits = [ f'z{z:02}' for z in bad_bits]\n",
    "        \n",
    "    def __init__(self, data_path):\n",
    "        wires={}\n",
    "        computes = {}\n",
    "        init=True\n",
    "        \n",
    "        with open(data_path,'r') as f:\n",
    "            for line in f.readlines():\n",
    "                if len(line.strip()) < 1:\n",
    "                    init=False\n",
    "                    continue\n",
    "                if init:\n",
    "                    self._initialize_state(line, wires)\n",
    "                else:\n",
    "                    self._get_compute_wire(line,computes)\n",
    "                    \n",
    "        self.set_wires = wires\n",
    "        self.wire_computes =computes\n",
    "        \n",
    "        \n"
   ]
  },
  {
   "cell_type": "code",
   "execution_count": 221,
   "id": "288a1c4d-8fd6-4ad0-8c99-91723eee1f73",
   "metadata": {},
   "outputs": [],
   "source": [
    "test= WireNetwork('input_data/day_24.txt')"
   ]
  },
  {
   "cell_type": "code",
   "execution_count": 222,
   "id": "ed902568-4ec1-4e4b-a08b-40d29b24497c",
   "metadata": {
    "scrolled": true
   },
   "outputs": [
    {
     "name": "stdout",
     "output_type": "stream",
     "text": [
      "[-2  9 10 11 12 13 14 27 28 39 40]\n"
     ]
    }
   ],
   "source": [
    "test.calculate_bad_bits()"
   ]
  },
  {
   "cell_type": "code",
   "execution_count": 223,
   "id": "f7eed1b3-a984-4625-936e-0aabbb354080",
   "metadata": {},
   "outputs": [],
   "source": [
    "test.swap_wires('cnk','qwf')\n",
    "test.swap_wires('z14','vhm')\n",
    "test.swap_wires('mps','z27')\n",
    "test.swap_wires('z39','msq')"
   ]
  },
  {
   "cell_type": "code",
   "execution_count": 226,
   "id": "e9400688-34f8-40d9-b145-b494f45a4708",
   "metadata": {},
   "outputs": [
    {
     "data": {
      "text/plain": [
       "'cnk,mps,msq,qwf,vhm,z14,z27,z39'"
      ]
     },
     "execution_count": 226,
     "metadata": {},
     "output_type": "execute_result"
    }
   ],
   "source": [
    "','.join(sorted(['cnk','qwf',\n",
    "'z14','vhm',\n",
    "'mps','z27',\n",
    "'z39','msq',]))"
   ]
  },
  {
   "cell_type": "code",
   "execution_count": 224,
   "id": "5901a6d4-183d-41f2-b93e-bd88703dd5cf",
   "metadata": {
    "scrolled": true
   },
   "outputs": [
    {
     "name": "stdout",
     "output_type": "stream",
     "text": [
      "[-2]\n"
     ]
    }
   ],
   "source": [
    "test.calculate_bad_bits()"
   ]
  },
  {
   "cell_type": "code",
   "execution_count": 200,
   "id": "9b7bfd3c-fb86-43cd-8f94-ba0619466692",
   "metadata": {},
   "outputs": [
    {
     "name": "stdout",
     "output_type": "stream",
     "text": [
      "tjk: y04 XOR x04\n",
      "z04: cpn XOR tjk\n",
      "qjg: y03 AND x03\n",
      "vph: vmk AND tbk\n",
      "cpn: qjg OR vph\n"
     ]
    }
   ],
   "source": [
    "for s in test.get_unique_inputs(4):\n",
    "    if s in test.wire_computes:\n",
    "        print(str(test.wire_computes[s]))"
   ]
  },
  {
   "cell_type": "code",
   "execution_count": 196,
   "id": "0f39f9c0-f51e-4cff-809f-633a49c016b2",
   "metadata": {},
   "outputs": [
    {
     "data": {
      "text/plain": [
       "'vmk: dng OR wrc'"
      ]
     },
     "execution_count": 196,
     "metadata": {},
     "output_type": "execute_result"
    },
    {
     "data": {
      "text/plain": [
       "'tbk: x03 XOR y03'"
      ]
     },
     "execution_count": 196,
     "metadata": {},
     "output_type": "execute_result"
    }
   ],
   "source": [
    "str(test.wire_computes['vmk'])\n",
    "str(test.wire_computes['tbk'])"
   ]
  },
  {
   "cell_type": "raw",
   "id": "391439e7-b279-4c75-8c15-e93e0a6412c2",
   "metadata": {},
   "source": [
    "Z = (XOR_xy) XOR ( OR_2ANDs)\n",
    "XOR_xy = y xor x\n",
    "\n",
    "or_2 = \n"
   ]
  },
  {
   "cell_type": "code",
   "execution_count": 188,
   "id": "d0f8ee47-66c5-431f-a132-f8ef0c460fe2",
   "metadata": {},
   "outputs": [
    {
     "name": "stdout",
     "output_type": "stream",
     "text": [
      "tvf: tjk AND cpn\n",
      "qmn: x04 AND y04\n",
      "z05: tfr XOR trt\n",
      "tfr: tvf OR qmn\n",
      "trt: x05 XOR y05\n"
     ]
    }
   ],
   "source": [
    "for s in test.get_unique_inputs(5):\n",
    "    if s in test.wire_computes:\n",
    "        print(str(test.wire_computes[s]))"
   ]
  },
  {
   "cell_type": "code",
   "execution_count": 219,
   "id": "f201e666-83d8-4aae-a770-e8dacbc9f2c0",
   "metadata": {},
   "outputs": [
    {
     "name": "stdout",
     "output_type": "stream",
     "text": [
      "z39: trn AND gpm\n",
      "trn: y39 XOR x39\n",
      "dsj: sfj AND wph\n",
      "gpm: pqr OR dsj\n",
      "pqr: x38 AND y38\n"
     ]
    }
   ],
   "source": [
    "for s in test.get_unique_inputs(39):\n",
    "    if s in test.wire_computes:\n",
    "        print(str(test.wire_computes[s]))"
   ]
  },
  {
   "cell_type": "code",
   "execution_count": 213,
   "id": "c22d3ed8-15c4-449d-b53a-ee7cb1813102",
   "metadata": {},
   "outputs": [
    {
     "name": "stdout",
     "output_type": "stream",
     "text": [
      "z28: bhb XOR mps\n",
      "bhb: x28 XOR y28\n",
      "mps: kqw XOR kqj\n"
     ]
    }
   ],
   "source": [
    "for s in test.get_unique_inputs(28):\n",
    "    if s in test.wire_computes:\n",
    "        print(str(test.wire_computes[s]))"
   ]
  },
  {
   "cell_type": "code",
   "execution_count": null,
   "id": "38b6cd3d-7417-4862-b5e1-92b4460483c5",
   "metadata": {},
   "outputs": [],
   "source": []
  },
  {
   "cell_type": "code",
   "execution_count": 220,
   "id": "e32a68ad-1c60-444a-8952-d0e7f123d45a",
   "metadata": {},
   "outputs": [
    {
     "name": "stdout",
     "output_type": "stream",
     "text": [
      "msq: gpm XOR trn\n",
      "z39: trn AND gpm\n"
     ]
    }
   ],
   "source": [
    "for w,v in test.wire_computes.items():\n",
    "    if 'trn' in v.inputs:\n",
    "        print(str(v))"
   ]
  },
  {
   "cell_type": "code",
   "execution_count": 207,
   "id": "cc29a8a3-eb27-4c0f-86cc-9dfd3d483f03",
   "metadata": {},
   "outputs": [
    {
     "name": "stdout",
     "output_type": "stream",
     "text": [
      "tjk: y04 XOR x04\n",
      "tvf: tjk AND cpn\n",
      "ndq: gfn OR jmh\n",
      "wwp: pjh OR gww\n",
      "krg: brk OR fjj\n",
      "hkm: x06 XOR y06\n",
      "mjm: cnq AND dht\n",
      "wmw: x02 XOR y02\n",
      "trt: x05 XOR y05\n",
      "pfd: x11 AND y11\n",
      "jdr: bpv OR fsv\n",
      "ptm: mjm OR gdd\n",
      "qmn: x04 AND y04\n",
      "gfj: mpd OR pfd\n",
      "vvc: ncs OR frj\n",
      "pjh: y01 AND x01\n",
      "tbk: x03 XOR y03\n",
      "gdd: x10 AND y10\n",
      "dng: wwp AND wmw\n",
      "dmq: x13 XOR y13\n",
      "cnq: jsd OR qwf\n",
      "hhp: gbf OR gnt\n",
      "cpn: qjg OR vph\n",
      "vmk: dng OR wrc\n",
      "brk: y07 AND x07\n",
      "dht: x10 XOR y10\n",
      "jrh: y08 XOR x08\n",
      "gnt: jrh AND krg\n",
      "frj: y05 AND x05\n",
      "fgv: rkm AND ndq\n",
      "fgw: x00 AND y00\n",
      "wgp: vvc AND hkm\n",
      "z15: bbw XOR jnw\n",
      "vhm: ndq XOR rkm\n",
      "bpv: gfj AND gmr\n",
      "ncs: tfr AND trt\n",
      "bbw: vhm OR fgv\n",
      "gfn: jdr AND dmq\n",
      "bgb: x01 XOR y01\n",
      "qwf: x09 XOR y09\n",
      "mpd: fwf AND ptm\n",
      "jsd: cnk AND hhp\n",
      "jnw: y15 XOR x15\n",
      "pqj: y06 AND x06\n",
      "cnk: x09 AND y09\n",
      "gmr: y12 XOR x12\n",
      "fwf: y11 XOR x11\n",
      "qjg: y03 AND x03\n",
      "gbf: y08 AND x08\n",
      "rkm: x14 XOR y14\n",
      "wrc: x02 AND y02\n",
      "gmp: pqj OR wgp\n",
      "bjv: x07 XOR y07\n",
      "fjj: bjv AND gmp\n",
      "tfr: tvf OR qmn\n",
      "gww: fgw AND bgb\n",
      "fsv: y12 AND x12\n",
      "vph: vmk AND tbk\n",
      "jmh: y13 AND x13\n"
     ]
    }
   ],
   "source": [
    "for s in test.get_unique_inputs(15):\n",
    "    if s in test.wire_computes:\n",
    "        print(str(test.wire_computes[s]))"
   ]
  },
  {
   "cell_type": "code",
   "execution_count": null,
   "id": "72adfe3c-e300-4935-b17d-a83c1b83d4cd",
   "metadata": {},
   "outputs": [],
   "source": []
  }
 ],
 "metadata": {
  "kernelspec": {
   "display_name": "py312",
   "language": "python",
   "name": "py312"
  },
  "language_info": {
   "codemirror_mode": {
    "name": "ipython",
    "version": 3
   },
   "file_extension": ".py",
   "mimetype": "text/x-python",
   "name": "python",
   "nbconvert_exporter": "python",
   "pygments_lexer": "ipython3",
   "version": "3.12.11"
  }
 },
 "nbformat": 4,
 "nbformat_minor": 5
}
