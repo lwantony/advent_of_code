{
 "cells": [
  {
   "cell_type": "code",
   "execution_count": 1,
   "id": "e3d20939-f0c4-489c-90a1-f93792cd88f1",
   "metadata": {},
   "outputs": [],
   "source": [
    "from IPython.core.interactiveshell import InteractiveShell\n",
    "InteractiveShell.ast_node_interactivity = \"all\""
   ]
  },
  {
   "cell_type": "markdown",
   "id": "9a5481ea-f123-478e-8d25-ab6e742f4c15",
   "metadata": {},
   "source": [
    "# Part 1"
   ]
  },
  {
   "cell_type": "code",
   "execution_count": 2,
   "id": "35114e93-acbb-42e6-b4d1-6bf18227bdca",
   "metadata": {},
   "outputs": [],
   "source": [
    "import re \n",
    "from sympy import symbols, solve\n",
    "from sympy.core.numbers import Rational, Integer\n",
    "\n",
    "class Prize:\n",
    "    def __init__(self, file):\n",
    "        self.button_a = self.parse_line(file.readline())\n",
    "        self.button_b = self.parse_line(file.readline())\n",
    "        self.prize = self.parse_line(file.readline())\n",
    "        self.solve_tokens()\n",
    "        self.solve_tokens_fixed()\n",
    "        \n",
    "        \n",
    "    def parse_line(self, line) :\n",
    "        steps = re.findall('(\\d+)', line.strip() )\n",
    "        return { 'X': int(steps[0]),\n",
    "                 'Y': int(steps[1]),\n",
    "               }\n",
    "        \n",
    "    def solve_tokens(self) :\n",
    "        \n",
    "        a, b = symbols('a b')\n",
    "\n",
    "        \n",
    "        eq1 = self.button_a['X']*a + self.button_b['X']*b - self.prize['X']\n",
    "        eq2 = self.button_a['Y']*a + self.button_b['Y']*b - self.prize['Y']\n",
    "        \n",
    "        solution = solve((eq1, eq2), (a, b))\n",
    "        if type(solution[a]) == Integer and type(solution[b]) == Integer :\n",
    "            self.tokens = int(solution[a])*3 + int(solution[b])\n",
    "        else:\n",
    "            self.tokens = 0\n",
    "\n",
    "        \n",
    "    def solve_tokens_fixed(self) :\n",
    "        \n",
    "        a, b = symbols('a b')\n",
    "\n",
    "        prize_x=self.prize['X']+10000000000000\n",
    "        prize_y=self.prize['Y']+10000000000000\n",
    "        \n",
    "        eq1 = self.button_a['X']*a + self.button_b['X']*b - prize_x\n",
    "        eq2 = self.button_a['Y']*a + self.button_b['Y']*b - prize_y\n",
    "        \n",
    "        solution = solve((eq1, eq2), (a, b))\n",
    "        if type(solution[a]) == Integer and type(solution[b]) == Integer :\n",
    "            self.fixed_tokens = int(solution[a])*3 + int(solution[b])\n",
    "        else:\n",
    "            self.fixed_tokens = 0\n",
    "        "
   ]
  },
  {
   "cell_type": "code",
   "execution_count": 3,
   "id": "0a1c0eab-da88-4c3b-a250-65f7fa595fa2",
   "metadata": {},
   "outputs": [],
   "source": [
    "def read_file(path):\n",
    "    total = 0\n",
    "    total_pt2=0\n",
    "    with open(path,'r') as f:\n",
    "        while True: \n",
    "            prize = Prize(f)\n",
    "            total+=prize.tokens\n",
    "            total_pt2+=prize.fixed_tokens\n",
    "            \n",
    "            line = f.readline()\n",
    "            if line is None or len(line) < 1:\n",
    "                break\n",
    "    return total,total_pt2"
   ]
  },
  {
   "cell_type": "code",
   "execution_count": 4,
   "id": "a3e4895c-af73-4383-86e4-67e67a1d4879",
   "metadata": {},
   "outputs": [],
   "source": [
    "def part_one(path='input_data/test_13.txt'):\n",
    "    tot = read_file(path)\n",
    "    return tot\n",
    "         "
   ]
  },
  {
   "cell_type": "code",
   "execution_count": 5,
   "id": "a86ec43c-4925-4c8f-8496-00676b526abc",
   "metadata": {},
   "outputs": [
    {
     "data": {
      "text/plain": [
       "(480, 875318608908)"
      ]
     },
     "execution_count": 5,
     "metadata": {},
     "output_type": "execute_result"
    }
   ],
   "source": [
    "part_one()"
   ]
  },
  {
   "cell_type": "code",
   "execution_count": 6,
   "id": "e19b636d-cc7a-4c30-b0a2-60b3d4453964",
   "metadata": {
    "scrolled": true
   },
   "outputs": [
    {
     "data": {
      "text/plain": [
       "(33921, 82261957837868)"
      ]
     },
     "execution_count": 6,
     "metadata": {},
     "output_type": "execute_result"
    }
   ],
   "source": [
    "part_one('input_data/day_13.txt')"
   ]
  },
  {
   "cell_type": "code",
   "execution_count": 7,
   "id": "c7ce4cb9-5032-4a36-9c3a-40cafce85a6f",
   "metadata": {},
   "outputs": [],
   "source": [
    "def part_two(path='input_data/test_12.txt'):\n",
    "    land = read_file(path)\n",
    "    \n",
    "    total_plots=[]\n",
    "    for y in range(len(land)):\n",
    "        for x in range(len(land[0])):\n",
    "            total_plots.append((y,x))\n",
    "            \n",
    "    total_plots = set(total_plots)\n",
    "    regions=[]\n",
    "    \n",
    "    while len(total_plots) > 0 :\n",
    "        seed = total_plots.pop()\n",
    "        regions.append(Region(land, seed))\n",
    "        total_plots = total_plots- regions[-1].plots\n",
    "\n",
    "    for r in regions:\n",
    "        r.count_corners()\n",
    "    return sum([ r.area*r.total_corners for r in regions])"
   ]
  },
  {
   "cell_type": "code",
   "execution_count": 8,
   "id": "110d0b06-afef-4084-a562-0d5bc174cfce",
   "metadata": {},
   "outputs": [
    {
     "ename": "IndexError",
     "evalue": "list index out of range",
     "output_type": "error",
     "traceback": [
      "\u001b[0;31m---------------------------------------------------------------------------\u001b[0m",
      "\u001b[0;31mIndexError\u001b[0m                                Traceback (most recent call last)",
      "Cell \u001b[0;32mIn[8], line 1\u001b[0m\n\u001b[0;32m----> 1\u001b[0m \u001b[43mpart_two\u001b[49m\u001b[43m(\u001b[49m\u001b[43m)\u001b[49m\n",
      "Cell \u001b[0;32mIn[7], line 2\u001b[0m, in \u001b[0;36mpart_two\u001b[0;34m(path)\u001b[0m\n\u001b[1;32m      1\u001b[0m \u001b[38;5;28;01mdef\u001b[39;00m \u001b[38;5;21mpart_two\u001b[39m(path\u001b[38;5;241m=\u001b[39m\u001b[38;5;124m'\u001b[39m\u001b[38;5;124minput_data/test_12.txt\u001b[39m\u001b[38;5;124m'\u001b[39m):\n\u001b[0;32m----> 2\u001b[0m     land \u001b[38;5;241m=\u001b[39m \u001b[43mread_file\u001b[49m\u001b[43m(\u001b[49m\u001b[43mpath\u001b[49m\u001b[43m)\u001b[49m\n\u001b[1;32m      4\u001b[0m     total_plots\u001b[38;5;241m=\u001b[39m[]\n\u001b[1;32m      5\u001b[0m     \u001b[38;5;28;01mfor\u001b[39;00m y \u001b[38;5;129;01min\u001b[39;00m \u001b[38;5;28mrange\u001b[39m(\u001b[38;5;28mlen\u001b[39m(land)):\n",
      "Cell \u001b[0;32mIn[3], line 6\u001b[0m, in \u001b[0;36mread_file\u001b[0;34m(path)\u001b[0m\n\u001b[1;32m      4\u001b[0m \u001b[38;5;28;01mwith\u001b[39;00m \u001b[38;5;28mopen\u001b[39m(path,\u001b[38;5;124m'\u001b[39m\u001b[38;5;124mr\u001b[39m\u001b[38;5;124m'\u001b[39m) \u001b[38;5;28;01mas\u001b[39;00m f:\n\u001b[1;32m      5\u001b[0m     \u001b[38;5;28;01mwhile\u001b[39;00m \u001b[38;5;28;01mTrue\u001b[39;00m: \n\u001b[0;32m----> 6\u001b[0m         prize \u001b[38;5;241m=\u001b[39m \u001b[43mPrize\u001b[49m\u001b[43m(\u001b[49m\u001b[43mf\u001b[49m\u001b[43m)\u001b[49m\n\u001b[1;32m      7\u001b[0m         total\u001b[38;5;241m+\u001b[39m\u001b[38;5;241m=\u001b[39mprize\u001b[38;5;241m.\u001b[39mtokens\n\u001b[1;32m      8\u001b[0m         total_pt2\u001b[38;5;241m+\u001b[39m\u001b[38;5;241m=\u001b[39mprize\u001b[38;5;241m.\u001b[39mfixed_tokens\n",
      "Cell \u001b[0;32mIn[2], line 7\u001b[0m, in \u001b[0;36mPrize.__init__\u001b[0;34m(self, file)\u001b[0m\n\u001b[1;32m      6\u001b[0m \u001b[38;5;28;01mdef\u001b[39;00m \u001b[38;5;21m__init__\u001b[39m(\u001b[38;5;28mself\u001b[39m, file):\n\u001b[0;32m----> 7\u001b[0m     \u001b[38;5;28mself\u001b[39m\u001b[38;5;241m.\u001b[39mbutton_a \u001b[38;5;241m=\u001b[39m \u001b[38;5;28;43mself\u001b[39;49m\u001b[38;5;241;43m.\u001b[39;49m\u001b[43mparse_line\u001b[49m\u001b[43m(\u001b[49m\u001b[43mfile\u001b[49m\u001b[38;5;241;43m.\u001b[39;49m\u001b[43mreadline\u001b[49m\u001b[43m(\u001b[49m\u001b[43m)\u001b[49m\u001b[43m)\u001b[49m\n\u001b[1;32m      8\u001b[0m     \u001b[38;5;28mself\u001b[39m\u001b[38;5;241m.\u001b[39mbutton_b \u001b[38;5;241m=\u001b[39m \u001b[38;5;28mself\u001b[39m\u001b[38;5;241m.\u001b[39mparse_line(file\u001b[38;5;241m.\u001b[39mreadline())\n\u001b[1;32m      9\u001b[0m     \u001b[38;5;28mself\u001b[39m\u001b[38;5;241m.\u001b[39mprize \u001b[38;5;241m=\u001b[39m \u001b[38;5;28mself\u001b[39m\u001b[38;5;241m.\u001b[39mparse_line(file\u001b[38;5;241m.\u001b[39mreadline())\n",
      "Cell \u001b[0;32mIn[2], line 16\u001b[0m, in \u001b[0;36mPrize.parse_line\u001b[0;34m(self, line)\u001b[0m\n\u001b[1;32m     14\u001b[0m \u001b[38;5;28;01mdef\u001b[39;00m \u001b[38;5;21mparse_line\u001b[39m(\u001b[38;5;28mself\u001b[39m, line) :\n\u001b[1;32m     15\u001b[0m     steps \u001b[38;5;241m=\u001b[39m re\u001b[38;5;241m.\u001b[39mfindall(\u001b[38;5;124m'\u001b[39m\u001b[38;5;124m(\u001b[39m\u001b[38;5;124m\\\u001b[39m\u001b[38;5;124md+)\u001b[39m\u001b[38;5;124m'\u001b[39m, line\u001b[38;5;241m.\u001b[39mstrip() )\n\u001b[0;32m---> 16\u001b[0m     \u001b[38;5;28;01mreturn\u001b[39;00m { \u001b[38;5;124m'\u001b[39m\u001b[38;5;124mX\u001b[39m\u001b[38;5;124m'\u001b[39m: \u001b[38;5;28mint\u001b[39m(\u001b[43msteps\u001b[49m\u001b[43m[\u001b[49m\u001b[38;5;241;43m0\u001b[39;49m\u001b[43m]\u001b[49m),\n\u001b[1;32m     17\u001b[0m              \u001b[38;5;124m'\u001b[39m\u001b[38;5;124mY\u001b[39m\u001b[38;5;124m'\u001b[39m: \u001b[38;5;28mint\u001b[39m(steps[\u001b[38;5;241m1\u001b[39m]),\n\u001b[1;32m     18\u001b[0m            }\n",
      "\u001b[0;31mIndexError\u001b[0m: list index out of range"
     ]
    }
   ],
   "source": [
    "part_two()"
   ]
  },
  {
   "cell_type": "code",
   "execution_count": null,
   "id": "bf32a674-14c1-43c0-a0fb-8ddb19e45be2",
   "metadata": {},
   "outputs": [],
   "source": [
    "%%time\n",
    "part_two('input_data/day_12.txt')"
   ]
  },
  {
   "cell_type": "code",
   "execution_count": null,
   "id": "53e1a943-c2ac-442a-a542-9082ab1eba06",
   "metadata": {},
   "outputs": [],
   "source": []
  }
 ],
 "metadata": {
  "kernelspec": {
   "display_name": "work_env",
   "language": "python",
   "name": "work_env"
  },
  "language_info": {
   "codemirror_mode": {
    "name": "ipython",
    "version": 3
   },
   "file_extension": ".py",
   "mimetype": "text/x-python",
   "name": "python",
   "nbconvert_exporter": "python",
   "pygments_lexer": "ipython3",
   "version": "3.11.6"
  }
 },
 "nbformat": 4,
 "nbformat_minor": 5
}
