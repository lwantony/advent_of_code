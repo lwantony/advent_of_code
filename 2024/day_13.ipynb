{
 "cells": [
  {
   "cell_type": "code",
   "execution_count": 1,
   "id": "e3d20939-f0c4-489c-90a1-f93792cd88f1",
   "metadata": {},
   "outputs": [],
   "source": [
    "from IPython.core.interactiveshell import InteractiveShell\n",
    "InteractiveShell.ast_node_interactivity = \"all\""
   ]
  },
  {
   "cell_type": "markdown",
   "id": "9a5481ea-f123-478e-8d25-ab6e742f4c15",
   "metadata": {},
   "source": [
    "# Part 1"
   ]
  },
  {
   "cell_type": "code",
   "execution_count": 2,
   "id": "35114e93-acbb-42e6-b4d1-6bf18227bdca",
   "metadata": {},
   "outputs": [],
   "source": [
    "import re \n",
    "from sympy import symbols, solve\n",
    "from sympy.core.numbers import Rational, Integer\n",
    "\n",
    "class Prize:\n",
    "    def __init__(self, file):\n",
    "        self.button_a = self.parse_line(file.readline())\n",
    "        self.button_b = self.parse_line(file.readline())\n",
    "        self.prize = self.parse_line(file.readline())\n",
    "        self.solve_tokens()\n",
    "        self.solve_tokens_fixed()\n",
    "        \n",
    "        \n",
    "    def parse_line(self, line) :\n",
    "        steps = re.findall('(\\d+)', line.strip() )\n",
    "        return { 'X': int(steps[0]),\n",
    "                 'Y': int(steps[1]),\n",
    "               }\n",
    "        \n",
    "    def solve_tokens(self) :\n",
    "        \n",
    "        a, b = symbols('a b')\n",
    "\n",
    "        \n",
    "        eq1 = self.button_a['X']*a + self.button_b['X']*b - self.prize['X']\n",
    "        eq2 = self.button_a['Y']*a + self.button_b['Y']*b - self.prize['Y']\n",
    "        \n",
    "        solution = solve((eq1, eq2), (a, b))\n",
    "        if type(solution[a]) == Integer and type(solution[b]) == Integer :\n",
    "            self.tokens = int(solution[a])*3 + int(solution[b])\n",
    "        else:\n",
    "            self.tokens = 0\n",
    "\n",
    "        \n",
    "    def solve_tokens_fixed(self) :\n",
    "        \n",
    "        a, b = symbols('a b')\n",
    "\n",
    "        prize_x=self.prize['X']+10000000000000\n",
    "        prize_y=self.prize['Y']+10000000000000\n",
    "        \n",
    "        eq1 = self.button_a['X']*a + self.button_b['X']*b - prize_x\n",
    "        eq2 = self.button_a['Y']*a + self.button_b['Y']*b - prize_y\n",
    "        \n",
    "        solution = solve((eq1, eq2), (a, b))\n",
    "        if type(solution[a]) == Integer and type(solution[b]) == Integer :\n",
    "            self.fixed_tokens = int(solution[a])*3 + int(solution[b])\n",
    "        else:\n",
    "            self.fixed_tokens = 0\n",
    "        "
   ]
  },
  {
   "cell_type": "code",
   "execution_count": 3,
   "id": "0a1c0eab-da88-4c3b-a250-65f7fa595fa2",
   "metadata": {},
   "outputs": [],
   "source": [
    "def read_file(path):\n",
    "    total = 0\n",
    "    total_pt2=0\n",
    "    with open(path,'r') as f:\n",
    "        while True: \n",
    "            prize = Prize(f)\n",
    "            total+=prize.tokens\n",
    "            total_pt2+=prize.fixed_tokens\n",
    "            \n",
    "            line = f.readline()\n",
    "            if line is None or len(line) < 1:\n",
    "                break\n",
    "    return total,total_pt2"
   ]
  },
  {
   "cell_type": "code",
   "execution_count": 4,
   "id": "a3e4895c-af73-4383-86e4-67e67a1d4879",
   "metadata": {},
   "outputs": [],
   "source": [
    "def part_one(path='input_data/test_13.txt'):\n",
    "    tot = read_file(path)\n",
    "    return tot\n",
    "         "
   ]
  },
  {
   "cell_type": "code",
   "execution_count": 5,
   "id": "a86ec43c-4925-4c8f-8496-00676b526abc",
   "metadata": {},
   "outputs": [
    {
     "data": {
      "text/plain": [
       "(480, 875318608908)"
      ]
     },
     "execution_count": 5,
     "metadata": {},
     "output_type": "execute_result"
    }
   ],
   "source": [
    "part_one()"
   ]
  },
  {
   "cell_type": "code",
   "execution_count": 6,
   "id": "e19b636d-cc7a-4c30-b0a2-60b3d4453964",
   "metadata": {
    "scrolled": true
   },
   "outputs": [
    {
     "data": {
      "text/plain": [
       "(33921, 82261957837868)"
      ]
     },
     "execution_count": 6,
     "metadata": {},
     "output_type": "execute_result"
    }
   ],
   "source": [
    "part_one('input_data/day_13.txt')"
   ]
  }
 ],
 "metadata": {
  "kernelspec": {
   "display_name": "work_env",
   "language": "python",
   "name": "work_env"
  },
  "language_info": {
   "codemirror_mode": {
    "name": "ipython",
    "version": 3
   },
   "file_extension": ".py",
   "mimetype": "text/x-python",
   "name": "python",
   "nbconvert_exporter": "python",
   "pygments_lexer": "ipython3",
   "version": "3.11.6"
  }
 },
 "nbformat": 4,
 "nbformat_minor": 5
}
