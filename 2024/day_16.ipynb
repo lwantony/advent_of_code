{
 "cells": [
  {
   "cell_type": "code",
   "execution_count": 31,
   "id": "2efe433c-ccbf-4b0a-8653-f0824059fd6f",
   "metadata": {
    "tags": []
   },
   "outputs": [],
   "source": [
    "from IPython.core.interactiveshell import InteractiveShell\n",
    "InteractiveShell.ast_node_interactivity = \"all\""
   ]
  },
  {
   "cell_type": "markdown",
   "id": "ff944d02-8a60-417e-888a-54e4e5141bbf",
   "metadata": {
    "tags": []
   },
   "source": [
    "# Part 1"
   ]
  },
  {
   "cell_type": "code",
   "execution_count": 37,
   "id": "5ea82c1d-8520-42d3-be0a-2ee13c259b72",
   "metadata": {
    "tags": []
   },
   "outputs": [],
   "source": [
    "import numpy as np\n",
    "from copy import deepcopy\n",
    "\n",
    "dirs=[ (0,1), (-1,0), (0,-1), (1,0)]\n",
    "\n",
    "class PathState:\n",
    "    def __init__(self,loc,score, direction, came_from=None):\n",
    "        self.loc = loc\n",
    "        self.score = score\n",
    "        self.direction = direction\n",
    "        self.came_from = came_from\n",
    "\n",
    "    def give_neighbors(self,score_map):\n",
    "        neighs=[]\n",
    "        nR,nC = len(score_map),len(score_map[0])\n",
    "        y,x = self.loc\n",
    "        ny,nx = self.direction\n",
    "\n",
    "        if score_map[y+ny][x+nx] != '#':\n",
    "            neighs.append(  PathState((y+ny,x+nx), \n",
    "                                self.score+1, \n",
    "                                self.direction,\n",
    "                                self)\n",
    "                         )\n",
    "        idir = dirs.index(self.direction)\n",
    "        for ix in [-1,1]: \n",
    "            new_dir = dirs[int((idir+ix)%4)]\n",
    "            neighs.append(PathState((y,x), \n",
    "                                self.score+1000, \n",
    "                                new_dir,\n",
    "                                self)\n",
    "                         )\n",
    "        \n",
    "        return neighs\n",
    "                   \n",
    "    def __repr__(self):\n",
    "        return f'({self.loc[0]},{self.loc[1]}) with {self.score} going {self.direction}'\n",
    "\n",
    "    def __str__(self):\n",
    "        locs=[str(i) for i in self.loc]\n",
    "        d=[str(i) for i in self.direction]\n",
    "        return f'{\"-\".join(locs)}_{\"-\".join(d)}'\n",
    "    \n",
    "    def __lt__(self,other):\n",
    "        return self.score < other.score\n",
    "    "
   ]
  },
  {
   "cell_type": "code",
   "execution_count": 38,
   "id": "2f6b3912-0884-4d30-b2e5-9d2481602004",
   "metadata": {
    "tags": []
   },
   "outputs": [],
   "source": [
    "import heapq\n",
    "\n",
    "class PriorityQueue:\n",
    "    def __init__(self):\n",
    "        self.elements: list[tuple[float, PathState]] = []\n",
    "    \n",
    "    def empty(self) -> bool:\n",
    "        return not self.elements\n",
    "    \n",
    "    def put(self, item: PathState, priority: float):\n",
    "        heapq.heappush(self.elements, (priority, item))\n",
    "    \n",
    "    def get(self) -> PathState:\n",
    "        return heapq.heappop(self.elements)[1]"
   ]
  },
  {
   "cell_type": "code",
   "execution_count": 39,
   "id": "8e78aea9-46a6-4cff-95ae-4af5de01bb6f",
   "metadata": {
    "tags": []
   },
   "outputs": [],
   "source": [
    "from collections import deque\n",
    "\n",
    "def perform_breadth_first(score_map, start):\n",
    "     # print out what we find\n",
    "    frontier = PriorityQueue()\n",
    "    s= PathState( start, 0, (0,1) )\n",
    "    frontier.put( s , priority=0)\n",
    "    \n",
    "    seen= {str(s):0}\n",
    "    \n",
    "    while not frontier.empty() :\n",
    "        cur = frontier.get()\n",
    "        \n",
    "        y,x = cur.loc\n",
    "        if score_map[y][x] == \"E\":\n",
    "            return cur.score\n",
    "        \n",
    "        for n_loc in cur.give_neighbors(score_map):\n",
    "            \n",
    "            key= str(n_loc)\n",
    "            if key not in seen.keys() or seen[key] > n_loc.score:\n",
    "                seen[key]=n_loc.score\n",
    "                frontier.put(n_loc, n_loc.score)\n",
    "\n",
    "    return None"
   ]
  },
  {
   "cell_type": "code",
   "execution_count": 40,
   "id": "3be9e68d-9124-41f2-95f0-468444d0f98e",
   "metadata": {
    "tags": []
   },
   "outputs": [],
   "source": [
    "def part_one(path='input_data/test_16.txt'):\n",
    "    \n",
    "    with open(path,'r') as f:\n",
    "        score_map=[]\n",
    "        start=None\n",
    "        for y,line in enumerate(f.readlines()):\n",
    "            line=line.strip()\n",
    "            if 'S' in line:\n",
    "                x = line.index('S')\n",
    "                start= (y,x)\n",
    "            score_map.append(list(line))\n",
    "\n",
    "    steps = perform_breadth_first(score_map, start)\n",
    "    \n",
    "    \n",
    "    return steps"
   ]
  },
  {
   "cell_type": "code",
   "execution_count": 41,
   "id": "c0f07f59-ae05-4bf1-b809-3ff543222d31",
   "metadata": {
    "scrolled": true,
    "tags": []
   },
   "outputs": [
    {
     "name": "stdout",
     "output_type": "stream",
     "text": [
      "CPU times: user 7.26 ms, sys: 920 µs, total: 8.18 ms\n",
      "Wall time: 7.37 ms\n"
     ]
    },
    {
     "data": {
      "text/plain": [
       "11048"
      ]
     },
     "execution_count": 41,
     "metadata": {},
     "output_type": "execute_result"
    }
   ],
   "source": [
    "%%time\n",
    "part_one()"
   ]
  },
  {
   "cell_type": "code",
   "execution_count": 43,
   "id": "fb6325c0-56ed-4ef5-b0cc-194b342aad5b",
   "metadata": {
    "scrolled": true,
    "tags": []
   },
   "outputs": [
    {
     "name": "stdout",
     "output_type": "stream",
     "text": [
      "CPU times: user 179 ms, sys: 3.22 ms, total: 182 ms\n",
      "Wall time: 186 ms\n"
     ]
    },
    {
     "data": {
      "text/plain": [
       "91464"
      ]
     },
     "execution_count": 43,
     "metadata": {},
     "output_type": "execute_result"
    }
   ],
   "source": [
    "%%time\n",
    "part_one('input_data/day_16.txt')"
   ]
  },
  {
   "cell_type": "markdown",
   "id": "fb57e954-d588-406e-9c3c-6d012b1abc0e",
   "metadata": {
    "tags": []
   },
   "source": [
    "# Part 2"
   ]
  },
  {
   "cell_type": "code",
   "execution_count": 61,
   "id": "b7e4a3ea-6712-4b4d-acdd-a40a8adb4855",
   "metadata": {
    "tags": []
   },
   "outputs": [],
   "source": [
    "from collections import deque\n",
    "\n",
    "def perform_breadth_first_paths(score_map, start):\n",
    "     # print out what we find\n",
    "    frontier = PriorityQueue()\n",
    "    s= PathState( start, 0, (0,1) )\n",
    "    frontier.put( s , priority=0)\n",
    "    \n",
    "    seen= {str(s):0}\n",
    "    end_steps=None\n",
    "    end_paths=[]\n",
    "    \n",
    "    while not frontier.empty() :\n",
    "        cur = frontier.get()\n",
    "        \n",
    "        y,x = cur.loc\n",
    "        if score_map[y][x] == \"E\":\n",
    "            if end_steps is None:\n",
    "                end_steps = cur.score\n",
    "            if end_steps == cur.score:\n",
    "                end_paths.append(cur)\n",
    "            else:\n",
    "                return end_paths\n",
    "        \n",
    "        for n_loc in cur.give_neighbors(score_map):\n",
    "            \n",
    "            key= str(n_loc)\n",
    "            if key not in seen.keys() or seen[key] >= n_loc.score:\n",
    "                seen[key]=n_loc.score\n",
    "                frontier.put(n_loc, n_loc.score)\n",
    "\n",
    "    return None"
   ]
  },
  {
   "cell_type": "code",
   "execution_count": 62,
   "id": "f58f313b-466d-4d98-8368-35468f2db101",
   "metadata": {},
   "outputs": [],
   "source": [
    "def read_path(position):\n",
    "    point=[]\n",
    "    while position is not None:\n",
    "        point.append(position.loc)\n",
    "        position = position.came_from\n",
    "        \n",
    "    return set(point)"
   ]
  },
  {
   "cell_type": "code",
   "execution_count": 65,
   "id": "dc813f20-ea27-46da-b960-5bad307bd9a2",
   "metadata": {
    "tags": []
   },
   "outputs": [],
   "source": [
    "def part_two(path='input_data/test_16.txt'):\n",
    "    \n",
    "    with open(path,'r') as f:\n",
    "        score_map=[]\n",
    "        start=None\n",
    "        for y,line in enumerate(f.readlines()):\n",
    "            line=line.strip()\n",
    "            if 'S' in line:\n",
    "                x = line.index('S')\n",
    "                start= (y,x)\n",
    "            score_map.append(list(line))\n",
    "\n",
    "    paths = perform_breadth_first_paths(score_map, start)\n",
    "    premium=set([])\n",
    "    for p in paths:\n",
    "        points=read_path(p)\n",
    "        premium = premium | points\n",
    "    return len(premium)"
   ]
  },
  {
   "cell_type": "code",
   "execution_count": 66,
   "id": "c766e385-90e0-4dcd-a31a-51d85ca5fa14",
   "metadata": {
    "scrolled": true,
    "tags": []
   },
   "outputs": [
    {
     "name": "stdout",
     "output_type": "stream",
     "text": [
      "CPU times: user 8.69 ms, sys: 1.27 ms, total: 9.96 ms\n",
      "Wall time: 8.93 ms\n"
     ]
    },
    {
     "data": {
      "text/plain": [
       "64"
      ]
     },
     "execution_count": 66,
     "metadata": {},
     "output_type": "execute_result"
    }
   ],
   "source": [
    "%%time\n",
    "part_two()"
   ]
  },
  {
   "cell_type": "code",
   "execution_count": 68,
   "id": "b654b368-ea4e-43d5-9310-9a438f4a6da2",
   "metadata": {
    "scrolled": true,
    "tags": []
   },
   "outputs": [
    {
     "name": "stdout",
     "output_type": "stream",
     "text": [
      "CPU times: user 1min 5s, sys: 108 ms, total: 1min 5s\n",
      "Wall time: 1min 6s\n"
     ]
    },
    {
     "data": {
      "text/plain": [
       "494"
      ]
     },
     "execution_count": 68,
     "metadata": {},
     "output_type": "execute_result"
    }
   ],
   "source": [
    "%%time\n",
    "part_two('input_data/day_16.txt')"
   ]
  },
  {
   "cell_type": "code",
   "execution_count": null,
   "id": "f48da97c-c5d4-467e-815b-d2ca638a49a1",
   "metadata": {},
   "outputs": [],
   "source": []
  }
 ],
 "metadata": {
  "kernelspec": {
   "display_name": "work_env",
   "language": "python",
   "name": "work_env"
  },
  "language_info": {
   "codemirror_mode": {
    "name": "ipython",
    "version": 3
   },
   "file_extension": ".py",
   "mimetype": "text/x-python",
   "name": "python",
   "nbconvert_exporter": "python",
   "pygments_lexer": "ipython3",
   "version": "3.11.6"
  }
 },
 "nbformat": 4,
 "nbformat_minor": 5
}
