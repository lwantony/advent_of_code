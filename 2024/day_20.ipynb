{
 "cells": [
  {
   "cell_type": "code",
   "execution_count": 1,
   "id": "2efe433c-ccbf-4b0a-8653-f0824059fd6f",
   "metadata": {
    "tags": []
   },
   "outputs": [],
   "source": [
    "from IPython.core.interactiveshell import InteractiveShell\n",
    "InteractiveShell.ast_node_interactivity = \"all\""
   ]
  },
  {
   "cell_type": "markdown",
   "id": "ff944d02-8a60-417e-888a-54e4e5141bbf",
   "metadata": {
    "tags": []
   },
   "source": [
    "# Part 1"
   ]
  },
  {
   "cell_type": "code",
   "execution_count": 7,
   "id": "5ea82c1d-8520-42d3-be0a-2ee13c259b72",
   "metadata": {
    "tags": []
   },
   "outputs": [],
   "source": [
    "import numpy as np\n",
    "from copy import deepcopy\n",
    "\n",
    "dirs=[ (0,1), (-1,0), (0,-1), (1,0)]\n",
    "\n",
    "class PathState:\n",
    "    def __init__(self,loc, steps, came_from=None ):\n",
    "        self.loc = loc\n",
    "        self.steps = steps\n",
    "        self.came_from=came_from\n",
    "\n",
    "    def give_neighbors(self,score_map):\n",
    "        neighs=[]\n",
    "        nY,nX = len(score_map),len(score_map[0])\n",
    "        y,x = self.loc\n",
    "\n",
    "        for direction in dirs:\n",
    "            ny,nx = direction\n",
    "\n",
    "            if y+ny ==-1 or x+nx==-1 or x+nx==nX or y+ny==nY:\n",
    "                continue\n",
    "                \n",
    "            if score_map[y+ny][x+nx] != '#':\n",
    "                neighs.append(  PathState((y+ny,x+nx), \n",
    "                                    self.steps+1, \n",
    "                                    came_from=self,\n",
    "                                )\n",
    "                             )\n",
    "        return neighs\n",
    "                   \n",
    "    def __str__(self):\n",
    "        return f'({self.loc[0]},{self.loc[1]})'\n",
    "        \n",
    "    def __repr__(self):\n",
    "        return f'({self.loc[0]},{self.loc[1]}) with {self.steps}'\n",
    "    \n",
    "    def __lt__(self,other):\n",
    "        return self.steps < other.steps\n",
    "        \n",
    "    def cheat_comparison(self, other):\n",
    "        path_diff = abs(self.steps - other.steps)\n",
    "        manhatten = sum( [ abs(self.loc[x] - other.loc[x]) for x in range(2)])\n",
    "        \n",
    "        return manhatten, path_diff\n",
    "\n",
    "    "
   ]
  },
  {
   "cell_type": "code",
   "execution_count": 8,
   "id": "2f6b3912-0884-4d30-b2e5-9d2481602004",
   "metadata": {
    "tags": []
   },
   "outputs": [],
   "source": [
    "import heapq\n",
    "\n",
    "class PriorityQueue:\n",
    "    def __init__(self):\n",
    "        self.elements: list[tuple[float, PathState]] = []\n",
    "    \n",
    "    def empty(self) -> bool:\n",
    "        return not self.elements\n",
    "    \n",
    "    def put(self, item: PathState, priority: float):\n",
    "        heapq.heappush(self.elements, (priority, item))\n",
    "    \n",
    "    def get(self) -> PathState:\n",
    "        return heapq.heappop(self.elements)[1]"
   ]
  },
  {
   "cell_type": "code",
   "execution_count": 75,
   "id": "14f57ba2-addd-4850-a05d-de62abd496e8",
   "metadata": {
    "tags": []
   },
   "outputs": [],
   "source": [
    "\n",
    "def initial_map_read(score_map, start):\n",
    "     # print out what we find\n",
    "    frontier = PriorityQueue()\n",
    "    s= PathState( start, 0 )\n",
    "    frontier.put( s , priority=0)\n",
    "    \n",
    "    seen= {str(s):0}\n",
    "    \n",
    "    while not frontier.empty() :\n",
    "        cur = frontier.get()\n",
    "        \n",
    "        y,x = cur.loc\n",
    "        if score_map[y][x] == \"E\":\n",
    "            return cur\n",
    "            \n",
    "        neighs = cur.give_neighbors(score_map)\n",
    "               \n",
    "        for n_loc in neighs:\n",
    "            key= str(n_loc)\n",
    "            if key not in seen.keys() or seen[key] > n_loc.steps:\n",
    "                seen[key]=n_loc.steps\n",
    "                frontier.put(n_loc, n_loc.steps)\n",
    "                \n",
    "    return None\n",
    "\n",
    "def create_path_array(last_path_point):\n",
    "    path_array =[]\n",
    "    cur = last_path_point\n",
    "    while cur.came_from != None :\n",
    "        path_array.append(cur) \n",
    "        cur = cur.came_from\n",
    "        \n",
    "    path_array.append(cur)\n",
    "\n",
    "    return path_array\n",
    "\n",
    "def calculate_cheats(path, cheat_steps=2, gain_threshold=0):\n",
    "    ncheats=0\n",
    "    path.reverse()\n",
    "    for i,start in enumerate(path[:-1]):\n",
    "        for end in path[i+1:]:\n",
    "            manhatten, path_diff = start.cheat_comparison(end)\n",
    "            if manhatten <= cheat_steps and  ( path_diff - manhatten) > gain_threshold :\n",
    "                ncheats+=1\n",
    "    return ncheats\n",
    "            "
   ]
  },
  {
   "cell_type": "code",
   "execution_count": 79,
   "id": "3be9e68d-9124-41f2-95f0-468444d0f98e",
   "metadata": {
    "tags": []
   },
   "outputs": [],
   "source": [
    "def day_20(path='input_data/test_20.txt', cheats=2):\n",
    "    \n",
    "    with open(path,'r') as f:\n",
    "        score_map=[]\n",
    "        start=None\n",
    "        for y,line in enumerate(f.readlines()):\n",
    "            line=line.strip()\n",
    "            if 'S' in line:\n",
    "                x = line.index('S')\n",
    "                start= (y,x)\n",
    "            score_map.append(list(line))\n",
    "\n",
    "    last_loc = initial_map_read(score_map, start)\n",
    "    path_array = create_path_array(last_loc)\n",
    "\n",
    "    threshold = 100-1 if 'day_20' in path else 0 \n",
    "    gains = calculate_cheats(path_array,cheat_steps=cheats,gain_threshold=threshold)\n",
    "    return gains"
   ]
  },
  {
   "cell_type": "code",
   "execution_count": 77,
   "id": "c0f07f59-ae05-4bf1-b809-3ff543222d31",
   "metadata": {
    "scrolled": true,
    "tags": []
   },
   "outputs": [
    {
     "name": "stdout",
     "output_type": "stream",
     "text": [
      "CPU times: user 3.84 ms, sys: 1.41 ms, total: 5.25 ms\n",
      "Wall time: 4.67 ms\n"
     ]
    },
    {
     "data": {
      "text/plain": [
       "44"
      ]
     },
     "execution_count": 77,
     "metadata": {},
     "output_type": "execute_result"
    }
   ],
   "source": [
    "%%time\n",
    "part_one()"
   ]
  },
  {
   "cell_type": "code",
   "execution_count": 80,
   "id": "fb6325c0-56ed-4ef5-b0cc-194b342aad5b",
   "metadata": {
    "scrolled": true,
    "tags": []
   },
   "outputs": [
    {
     "name": "stdout",
     "output_type": "stream",
     "text": [
      "CPU times: user 11.7 s, sys: 75.1 ms, total: 11.8 s\n",
      "Wall time: 11.8 s\n"
     ]
    },
    {
     "data": {
      "text/plain": [
       "1395"
      ]
     },
     "execution_count": 80,
     "metadata": {},
     "output_type": "execute_result"
    }
   ],
   "source": [
    "%%time\n",
    "day_20('input_data/day_20.txt')"
   ]
  },
  {
   "cell_type": "markdown",
   "id": "fb57e954-d588-406e-9c3c-6d012b1abc0e",
   "metadata": {
    "tags": []
   },
   "source": [
    "# Part 2"
   ]
  },
  {
   "cell_type": "code",
   "execution_count": 81,
   "id": "18bf862e-015f-4693-8b4d-5f55d10770a2",
   "metadata": {
    "scrolled": true,
    "tags": []
   },
   "outputs": [
    {
     "name": "stdout",
     "output_type": "stream",
     "text": [
      "CPU times: user 11.9 s, sys: 31.3 ms, total: 11.9 s\n",
      "Wall time: 11.9 s\n"
     ]
    },
    {
     "data": {
      "text/plain": [
       "993178"
      ]
     },
     "execution_count": 81,
     "metadata": {},
     "output_type": "execute_result"
    }
   ],
   "source": [
    "%%time\n",
    "day_20('input_data/day_20.txt',20 )"
   ]
  },
  {
   "cell_type": "code",
   "execution_count": null,
   "id": "f48da97c-c5d4-467e-815b-d2ca638a49a1",
   "metadata": {},
   "outputs": [],
   "source": []
  }
 ],
 "metadata": {
  "kernelspec": {
   "display_name": "py312",
   "language": "python",
   "name": "py312"
  },
  "language_info": {
   "codemirror_mode": {
    "name": "ipython",
    "version": 3
   },
   "file_extension": ".py",
   "mimetype": "text/x-python",
   "name": "python",
   "nbconvert_exporter": "python",
   "pygments_lexer": "ipython3",
   "version": "3.12.11"
  }
 },
 "nbformat": 4,
 "nbformat_minor": 5
}
