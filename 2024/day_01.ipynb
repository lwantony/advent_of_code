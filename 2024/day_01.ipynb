{
 "cells": [
  {
   "cell_type": "code",
   "execution_count": 1,
   "id": "e3d20939-f0c4-489c-90a1-f93792cd88f1",
   "metadata": {},
   "outputs": [],
   "source": [
    "from IPython.core.interactiveshell import InteractiveShell\n",
    "InteractiveShell.ast_node_interactivity = \"all\""
   ]
  },
  {
   "cell_type": "markdown",
   "id": "9a5481ea-f123-478e-8d25-ab6e742f4c15",
   "metadata": {},
   "source": [
    "# Part 1"
   ]
  },
  {
   "cell_type": "code",
   "execution_count": 9,
   "id": "167ddcda-e968-4382-988f-b13ef28ea94b",
   "metadata": {},
   "outputs": [],
   "source": [
    "def read_data():\n",
    "    with open('input_data/day_01.txt','r') as f:\n",
    "        l1=[]\n",
    "        l2=[]\n",
    "        for line in f.readlines():\n",
    "            n1,n2 = line.strip().split()\n",
    "            l1.append(int(n1))\n",
    "            l2.append(int(n2))\n",
    "    return l1, l2"
   ]
  },
  {
   "cell_type": "code",
   "execution_count": 14,
   "id": "000698ed-d488-4ad7-b9e4-ea9b426c6420",
   "metadata": {},
   "outputs": [],
   "source": [
    "def part_one(l1, l2):\n",
    "    \n",
    "    l1.sort()\n",
    "    l2.sort()\n",
    "    return sum([ abs(n2-n1) for n1,n2 in zip(l1,l2)])"
   ]
  },
  {
   "cell_type": "code",
   "execution_count": 13,
   "id": "66f66e38-21da-4b68-b127-2ec01604ae8e",
   "metadata": {},
   "outputs": [],
   "source": [
    "l1,l2 = read_data()"
   ]
  },
  {
   "cell_type": "code",
   "execution_count": 15,
   "id": "909594e0-810a-450e-9ac8-eda30b99045e",
   "metadata": {},
   "outputs": [
    {
     "data": {
      "text/plain": [
       "2196996"
      ]
     },
     "execution_count": 15,
     "metadata": {},
     "output_type": "execute_result"
    }
   ],
   "source": [
    "part_one(l1,l2)"
   ]
  },
  {
   "cell_type": "markdown",
   "id": "667d5c9d-9bce-4c19-bb89-41c65f305543",
   "metadata": {},
   "source": [
    "# Part 2"
   ]
  },
  {
   "cell_type": "code",
   "execution_count": 27,
   "id": "edf50ee1-92b1-4872-be97-a5926c1bcc62",
   "metadata": {},
   "outputs": [],
   "source": [
    "def part_two(l1,l2):\n",
    "    l1 = list(set(l1))\n",
    "    l1.sort()\n",
    "    l2.sort()\n",
    "\n",
    "    idx1 =0\n",
    "    idx2 =0\n",
    "    num_cnts={}\n",
    "\n",
    "\n",
    "    while idx1 < len(l1) and idx2 < len(l2):\n",
    "        while l1[idx1] > l2[idx2]:\n",
    "            idx2+=1\n",
    "            if idx2 == len(l2) or idx1 == len(l2):\n",
    "                break\n",
    "        while l1[idx1] == l2[idx2]:\n",
    "            try: \n",
    "                num_cnts[l1[idx1]] +=1\n",
    "            except KeyError:\n",
    "                num_cnts[l1[idx1]] =1\n",
    "            idx2+=1\n",
    "            if idx2 == len(l2) or idx1 == len(l2):\n",
    "                break\n",
    "        while l1[idx1] < l2[idx2]:\n",
    "            idx1+=1\n",
    "            if idx2 == len(l2) or idx1 == len(l2):\n",
    "                break\n",
    "     \n",
    "    return sum([ k*v for k,v in num_cnts.items()])\n",
    "    "
   ]
  },
  {
   "cell_type": "code",
   "execution_count": 28,
   "id": "e3c61eb8-5069-4375-ad16-9da2f59f58c6",
   "metadata": {},
   "outputs": [
    {
     "data": {
      "text/plain": [
       "23655822"
      ]
     },
     "execution_count": 28,
     "metadata": {},
     "output_type": "execute_result"
    }
   ],
   "source": [
    "part_two(l1,l2)"
   ]
  },
  {
   "cell_type": "code",
   "execution_count": null,
   "id": "66e51c01-dca3-4c22-b93b-e13a2fb5d223",
   "metadata": {},
   "outputs": [],
   "source": []
  }
 ],
 "metadata": {
  "kernelspec": {
   "display_name": "work_env",
   "language": "python",
   "name": "work_env"
  },
  "language_info": {
   "codemirror_mode": {
    "name": "ipython",
    "version": 3
   },
   "file_extension": ".py",
   "mimetype": "text/x-python",
   "name": "python",
   "nbconvert_exporter": "python",
   "pygments_lexer": "ipython3",
   "version": "3.11.6"
  }
 },
 "nbformat": 4,
 "nbformat_minor": 5
}
