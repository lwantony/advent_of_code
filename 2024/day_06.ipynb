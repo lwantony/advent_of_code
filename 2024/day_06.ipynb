{
 "cells": [
  {
   "cell_type": "code",
   "execution_count": 1,
   "id": "e3d20939-f0c4-489c-90a1-f93792cd88f1",
   "metadata": {},
   "outputs": [],
   "source": [
    "from IPython.core.interactiveshell import InteractiveShell\n",
    "InteractiveShell.ast_node_interactivity = \"all\""
   ]
  },
  {
   "cell_type": "code",
   "execution_count": 5,
   "id": "0b75435c-23cd-4a07-9713-eb3134c6da8d",
   "metadata": {},
   "outputs": [
    {
     "data": {
      "text/plain": [
       "3"
      ]
     },
     "execution_count": 5,
     "metadata": {},
     "output_type": "execute_result"
    }
   ],
   "source": [
    "list('...1...').index('1')"
   ]
  },
  {
   "cell_type": "code",
   "execution_count": 10,
   "id": "59979455-2787-485e-8c2d-618ce326c669",
   "metadata": {},
   "outputs": [
    {
     "data": {
      "text/plain": [
       "{1}"
      ]
     },
     "execution_count": 10,
     "metadata": {},
     "output_type": "execute_result"
    }
   ],
   "source": [
    "set([1,2,3]).intersection([1])"
   ]
  },
  {
   "cell_type": "code",
   "execution_count": 26,
   "id": "d176c673-a0da-44dc-b114-41136aff59e1",
   "metadata": {},
   "outputs": [
    {
     "data": {
      "text/plain": [
       "set()"
      ]
     },
     "execution_count": 26,
     "metadata": {},
     "output_type": "execute_result"
    }
   ],
   "source": [
    "set({})"
   ]
  },
  {
   "cell_type": "markdown",
   "id": "9a5481ea-f123-478e-8d25-ab6e742f4c15",
   "metadata": {},
   "source": [
    "# Part 1"
   ]
  },
  {
   "cell_type": "code",
   "execution_count": 23,
   "id": "de399ddc-fe21-46b2-a145-9fbcef602c8c",
   "metadata": {},
   "outputs": [],
   "source": [
    "directions= {'<':(0,-1) ,\n",
    "             '^': (-1,0),\n",
    "             '>': (0,1),\n",
    "             'v': (1,0),\n",
    "             }\n",
    "dir_order = list(directions.keys())"
   ]
  },
  {
   "cell_type": "code",
   "execution_count": 41,
   "id": "0a1c0eab-da88-4c3b-a250-65f7fa595fa2",
   "metadata": {},
   "outputs": [],
   "source": [
    "def read_file(path):\n",
    "    floor=[]\n",
    "    guard=None\n",
    "    gpos=None\n",
    "    with open(path,'r') as f:\n",
    "        for y, line in enumerate(f.readlines()):\n",
    "            new_line = list(line.strip())\n",
    "            floor.append(new_line)\n",
    "            inter = set(new_line).intersection(directions.keys())\n",
    "            if len(inter) > 0:\n",
    "                guard = inter.pop()\n",
    "                x = line.index(guard)\n",
    "                gpos=(y,x) \n",
    "                \n",
    "                \n",
    "    return floor,guard, gpos\n",
    "    \n",
    "def walk_floor(floor, guard, gpos):\n",
    "    seen =set([tuple(gpos)])\n",
    "    y,x = gpos\n",
    "    iy, ix = directions[guard]\n",
    "    ny, nx = y+iy, x+ix \n",
    "    while ny >=0 and nx >= 0 and ny< len(floor) and nx < len(floor[0]):\n",
    "        if floor[ny][nx] != '#':\n",
    "            y,x = ny, nx \n",
    "            ny, nx = y+iy, x+ix \n",
    "            seen.add((y,x))\n",
    "        else: \n",
    "            guard = dir_order[ (dir_order.index(guard)+1)%4 ]\n",
    "            iy, ix = directions[guard]\n",
    "            ny, nx = y+iy, x+ix \n",
    "    return len(seen)\n",
    "        "
   ]
  },
  {
   "cell_type": "code",
   "execution_count": 42,
   "id": "a3e4895c-af73-4383-86e4-67e67a1d4879",
   "metadata": {},
   "outputs": [],
   "source": [
    "def part_one(path='input_data/test_06.txt'):\n",
    "    floor, guard, gpos = read_file(path)\n",
    "    return walk_floor(floor, guard, gpos)"
   ]
  },
  {
   "cell_type": "code",
   "execution_count": 43,
   "id": "a86ec43c-4925-4c8f-8496-00676b526abc",
   "metadata": {},
   "outputs": [
    {
     "data": {
      "text/plain": [
       "41"
      ]
     },
     "execution_count": 43,
     "metadata": {},
     "output_type": "execute_result"
    }
   ],
   "source": [
    "part_one()"
   ]
  },
  {
   "cell_type": "code",
   "execution_count": 44,
   "id": "e19b636d-cc7a-4c30-b0a2-60b3d4453964",
   "metadata": {},
   "outputs": [
    {
     "data": {
      "text/plain": [
       "5208"
      ]
     },
     "execution_count": 44,
     "metadata": {},
     "output_type": "execute_result"
    }
   ],
   "source": [
    "part_one('input_data/day_06.txt')"
   ]
  },
  {
   "cell_type": "markdown",
   "id": "667d5c9d-9bce-4c19-bb89-41c65f305543",
   "metadata": {},
   "source": [
    "# Part 2"
   ]
  },
  {
   "cell_type": "code",
   "execution_count": 51,
   "id": "5efd4a09-01dc-4551-b54c-c1d2abac9f46",
   "metadata": {},
   "outputs": [],
   "source": [
    "from copy import deepcopy\n",
    "\n",
    "def check_for_loop(floor, guard, y,x, seen):\n",
    "    \n",
    "    iy, ix = directions[guard]\n",
    "    ny, nx = y+iy, x+ix \n",
    "    while ny >=0 and nx >= 0 and ny< len(floor) and nx < len(floor[0]):\n",
    "        if floor[ny][nx] != '#':\n",
    "            y,x = ny, nx \n",
    "            ny, nx = y+iy, x+ix \n",
    "            if (y,x, guard) in seen:\n",
    "               return True \n",
    "            seen.add((y,x, guard))\n",
    "        else: \n",
    "            guard = dir_order[ (dir_order.index(guard)+1)%4 ]\n",
    "            iy, ix = directions[guard]\n",
    "            ny, nx = y+iy, x+ix \n",
    "    return False\n",
    "    \n",
    "\n",
    "def walk_floor_part2(floor, guard, gpos):\n",
    "    y,x = gpos\n",
    "    seen =set([(y,x, guard)])\n",
    "    iy, ix = directions[guard]\n",
    "    ny, nx = y+iy, x+ix \n",
    "    loops=0\n",
    "    while ny >=0 and nx >= 0 and ny< len(floor) and nx < len(floor[0]):\n",
    "        if floor[ny][nx] != '#':\n",
    "            \n",
    "            new_floor = deepcopy(floor)\n",
    "            new_floor[ny][nx] = '#'\n",
    "            if check_for_loop(new_floor, guard, y,x, deepcopy(seen)):\n",
    "                loops+=1\n",
    "            y,x = ny, nx \n",
    "            ny, nx = y+iy, x+ix \n",
    "            seen.add((y,x, guard))\n",
    "        else: \n",
    "            guard = dir_order[ (dir_order.index(guard)+1)%4 ]\n",
    "            iy, ix = directions[guard]\n",
    "            ny, nx = y+iy, x+ix \n",
    "    return loops\n",
    "        "
   ]
  },
  {
   "cell_type": "code",
   "execution_count": 52,
   "id": "9c5877c0-7ee2-4e78-82f5-dd510b6ae6c4",
   "metadata": {},
   "outputs": [],
   "source": [
    "def part_two(path='input_data/test_06.txt'):\n",
    "    floor, guard, gpos = read_file(path)\n",
    "    return walk_floor_part2(floor, guard, gpos)"
   ]
  },
  {
   "cell_type": "code",
   "execution_count": 53,
   "id": "110d0b06-afef-4084-a562-0d5bc174cfce",
   "metadata": {},
   "outputs": [
    {
     "data": {
      "text/plain": [
       "6"
      ]
     },
     "execution_count": 53,
     "metadata": {},
     "output_type": "execute_result"
    }
   ],
   "source": [
    "part_two()"
   ]
  },
  {
   "cell_type": "code",
   "execution_count": 54,
   "id": "bf32a674-14c1-43c0-a0fb-8ddb19e45be2",
   "metadata": {},
   "outputs": [
    {
     "name": "stdout",
     "output_type": "stream",
     "text": [
      "CPU times: user 35.2 s, sys: 82.5 ms, total: 35.2 s\n",
      "Wall time: 35.3 s\n"
     ]
    },
    {
     "data": {
      "text/plain": [
       "2268"
      ]
     },
     "execution_count": 54,
     "metadata": {},
     "output_type": "execute_result"
    }
   ],
   "source": [
    "%%time\n",
    "part_two('input_data/day_06.txt')"
   ]
  },
  {
   "cell_type": "code",
   "execution_count": null,
   "id": "d5860e91-e7c5-488d-8a3b-515f4cb0dbfd",
   "metadata": {},
   "outputs": [],
   "source": []
  }
 ],
 "metadata": {
  "kernelspec": {
   "display_name": "work_env",
   "language": "python",
   "name": "work_env"
  },
  "language_info": {
   "codemirror_mode": {
    "name": "ipython",
    "version": 3
   },
   "file_extension": ".py",
   "mimetype": "text/x-python",
   "name": "python",
   "nbconvert_exporter": "python",
   "pygments_lexer": "ipython3",
   "version": "3.11.6"
  }
 },
 "nbformat": 4,
 "nbformat_minor": 5
}
