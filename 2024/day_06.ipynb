{
 "cells": [
  {
   "cell_type": "code",
   "execution_count": 1,
   "id": "e3d20939-f0c4-489c-90a1-f93792cd88f1",
   "metadata": {},
   "outputs": [],
   "source": [
    "from IPython.core.interactiveshell import InteractiveShell\n",
    "InteractiveShell.ast_node_interactivity = \"all\""
   ]
  },
  {
   "cell_type": "markdown",
   "id": "9a5481ea-f123-478e-8d25-ab6e742f4c15",
   "metadata": {},
   "source": [
    "# Part 1"
   ]
  },
  {
   "cell_type": "code",
   "execution_count": 2,
   "id": "f705dc0d-c693-40bd-88d0-03be8b0fee41",
   "metadata": {},
   "outputs": [
    {
     "ename": "NameError",
     "evalue": "name 'GuardPatrol' is not defined",
     "output_type": "error",
     "traceback": [
      "\u001b[31m---------------------------------------------------------------------------\u001b[39m",
      "\u001b[31mNameError\u001b[39m                                 Traceback (most recent call last)",
      "\u001b[36mCell\u001b[39m\u001b[36m \u001b[39m\u001b[32mIn[2]\u001b[39m\u001b[32m, line 2\u001b[39m\n\u001b[32m      1\u001b[39m \u001b[38;5;28;01mfrom\u001b[39;00m\u001b[38;5;250m \u001b[39m\u001b[34;01mcopy\u001b[39;00m\u001b[38;5;250m \u001b[39m\u001b[38;5;28;01mimport\u001b[39;00m deepcopy\n\u001b[32m----> \u001b[39m\u001b[32m2\u001b[39m \u001b[38;5;28;43;01mclass\u001b[39;49;00m\u001b[38;5;250;43m \u001b[39;49m\u001b[34;43;01mGuardPatrol\u001b[39;49;00m\u001b[43m:\u001b[49m\n\u001b[32m      3\u001b[39m \u001b[43m    \u001b[49m\u001b[43mdirections\u001b[49m\u001b[43m=\u001b[49m\u001b[43m \u001b[49m\u001b[43m{\u001b[49m\u001b[33;43m'\u001b[39;49m\u001b[33;43m<\u001b[39;49m\u001b[33;43m'\u001b[39;49m\u001b[43m:\u001b[49m\u001b[43m(\u001b[49m\u001b[32;43m0\u001b[39;49m\u001b[43m,\u001b[49m\u001b[43m-\u001b[49m\u001b[32;43m1\u001b[39;49m\u001b[43m)\u001b[49m\u001b[43m \u001b[49m\u001b[43m,\u001b[49m\n\u001b[32m      4\u001b[39m \u001b[43m                 \u001b[49m\u001b[33;43m'\u001b[39;49m\u001b[33;43m^\u001b[39;49m\u001b[33;43m'\u001b[39;49m\u001b[43m:\u001b[49m\u001b[43m \u001b[49m\u001b[43m(\u001b[49m\u001b[43m-\u001b[49m\u001b[32;43m1\u001b[39;49m\u001b[43m,\u001b[49m\u001b[32;43m0\u001b[39;49m\u001b[43m)\u001b[49m\u001b[43m,\u001b[49m\n\u001b[32m      5\u001b[39m \u001b[43m                 \u001b[49m\u001b[33;43m'\u001b[39;49m\u001b[33;43m>\u001b[39;49m\u001b[33;43m'\u001b[39;49m\u001b[43m:\u001b[49m\u001b[43m \u001b[49m\u001b[43m(\u001b[49m\u001b[32;43m0\u001b[39;49m\u001b[43m,\u001b[49m\u001b[32;43m1\u001b[39;49m\u001b[43m)\u001b[49m\u001b[43m,\u001b[49m\n\u001b[32m      6\u001b[39m \u001b[43m                 \u001b[49m\u001b[33;43m'\u001b[39;49m\u001b[33;43mv\u001b[39;49m\u001b[33;43m'\u001b[39;49m\u001b[43m:\u001b[49m\u001b[43m \u001b[49m\u001b[43m(\u001b[49m\u001b[32;43m1\u001b[39;49m\u001b[43m,\u001b[49m\u001b[32;43m0\u001b[39;49m\u001b[43m)\u001b[49m\u001b[43m,\u001b[49m\n\u001b[32m      7\u001b[39m \u001b[43m                 \u001b[49m\u001b[43m}\u001b[49m\n\u001b[32m      8\u001b[39m \u001b[43m    \u001b[49m\u001b[43mdir_order\u001b[49m\u001b[43m \u001b[49m\u001b[43m=\u001b[49m\u001b[43m \u001b[49m\u001b[38;5;28;43mlist\u001b[39;49m\u001b[43m(\u001b[49m\u001b[43mGuardPatrol\u001b[49m\u001b[43m.\u001b[49m\u001b[43mdirections\u001b[49m\u001b[43m.\u001b[49m\u001b[43mkeys\u001b[49m\u001b[43m(\u001b[49m\u001b[43m)\u001b[49m\u001b[43m)\u001b[49m\n",
      "\u001b[36mCell\u001b[39m\u001b[36m \u001b[39m\u001b[32mIn[2]\u001b[39m\u001b[32m, line 8\u001b[39m, in \u001b[36mGuardPatrol\u001b[39m\u001b[34m()\u001b[39m\n\u001b[32m      2\u001b[39m \u001b[38;5;28;01mclass\u001b[39;00m\u001b[38;5;250m \u001b[39m\u001b[34;01mGuardPatrol\u001b[39;00m:\n\u001b[32m      3\u001b[39m     directions= {\u001b[33m'\u001b[39m\u001b[33m<\u001b[39m\u001b[33m'\u001b[39m:(\u001b[32m0\u001b[39m,-\u001b[32m1\u001b[39m) ,\n\u001b[32m      4\u001b[39m                  \u001b[33m'\u001b[39m\u001b[33m^\u001b[39m\u001b[33m'\u001b[39m: (-\u001b[32m1\u001b[39m,\u001b[32m0\u001b[39m),\n\u001b[32m      5\u001b[39m                  \u001b[33m'\u001b[39m\u001b[33m>\u001b[39m\u001b[33m'\u001b[39m: (\u001b[32m0\u001b[39m,\u001b[32m1\u001b[39m),\n\u001b[32m      6\u001b[39m                  \u001b[33m'\u001b[39m\u001b[33mv\u001b[39m\u001b[33m'\u001b[39m: (\u001b[32m1\u001b[39m,\u001b[32m0\u001b[39m),\n\u001b[32m      7\u001b[39m                  }\n\u001b[32m----> \u001b[39m\u001b[32m8\u001b[39m     dir_order = \u001b[38;5;28mlist\u001b[39m(\u001b[43mGuardPatrol\u001b[49m.directions.keys())\n\u001b[32m     10\u001b[39m     \u001b[38;5;28;01mdef\u001b[39;00m\u001b[38;5;250m \u001b[39m\u001b[34mread_file\u001b[39m(\u001b[38;5;28mself\u001b[39m, path):\n\u001b[32m     11\u001b[39m         floor=[]\n",
      "\u001b[31mNameError\u001b[39m: name 'GuardPatrol' is not defined"
     ]
    }
   ],
   "source": [
    "from copy import deepcopy\n",
    "\n",
    "directions= {'<':(0,-1) ,\n",
    "             '^': (-1,0),\n",
    "             '>': (0,1),\n",
    "             'v': (1,0),\n",
    "             }\n",
    "dir_order = list(directions.keys())\n",
    "\n",
    "class GuardPatrol:\n",
    "    def read_file(self, path):\n",
    "        floor=[]\n",
    "        guard=None\n",
    "        gpos=None\n",
    "        with open(path,'r') as f:\n",
    "            for y, line in enumerate(f.readlines()):\n",
    "                new_line = list(line.strip())\n",
    "                floor.append(new_line)\n",
    "                inter = set(new_line).intersection(directions.keys())\n",
    "                if len(inter) > 0:\n",
    "                    guard = inter.pop()\n",
    "                    x = line.index(guard)\n",
    "                    gpos=(y,x) \n",
    "        return floor,guard, gpos\n",
    "        \n",
    "    def __init__(self,path='input_data/test_06.txt'):\n",
    "        floor, guard, gpos = self.read_file(path)\n",
    "        self.floor=floor\n",
    "        self.guard = guard\n",
    "        self.gpos = gpos \n",
    "        \n",
    "        self.walk_floor()\n",
    "\n",
    "    \n",
    "    def walk_floor(self, floor=None):\n",
    "        floor = self.floor if floor is None else floor\n",
    "        guard =self.guard\n",
    "        gpos = self.gpos\n",
    "        \n",
    "        seen =set([tuple(gpos)])\n",
    "        y,x = gpos\n",
    "        iy, ix = GuardPatrol.directions[guard]\n",
    "        ny, nx = y+iy, x+ix \n",
    "        while ny >=0 and nx >= 0 and ny< len(floor) and nx < len(floor[0]):\n",
    "            if floor[ny][nx] != '#':\n",
    "                y,x = ny, nx \n",
    "                ny, nx = y+iy, x+ix \n",
    "                seen.add((y,x))\n",
    "            else: \n",
    "                guard = GuardPatrol.dir_order[ (GuardPatrol.dir_order.index(guard)+1)%4 ]\n",
    "                iy, ix = GuardPatrol.directions[guard]\n",
    "                ny, nx = y+iy, x+ix \n",
    "\n",
    "        self.set_path= seen\n",
    "\n",
    "    def check_for_loop(self,floor):\n",
    "        directions = GuardPatrol.directions\n",
    "        dir_order = GuardPatrol.dir_order\n",
    "        \n",
    "        y,x = self.gpos\n",
    "        guard = self.guard\n",
    "        seen ={(y,x, guard): 1}\n",
    "        iy, ix = directions[guard]\n",
    "        ny, nx = y+iy, x+ix \n",
    "        \n",
    "        while ny >=0 and nx >= 0 and ny< len(floor) and nx < len(floor[0]):\n",
    "            if floor[ny][nx] != '#' and floor[ny][nx] != '0':\n",
    "                y,x = ny, nx \n",
    "                ny, nx = y+iy, x+ix \n",
    "                try: \n",
    "                    seen[(y,x, guard)] +=1\n",
    "                except Exception:\n",
    "                    seen[(y,x, guard)] =1\n",
    "                    \n",
    "            else: \n",
    "                guard = dir_order[ (dir_order.index(guard)+1)%4 ]\n",
    "                iy, ix = directions[guard]\n",
    "                ny, nx = y+iy, x+ix \n",
    "                try: \n",
    "                    seen[(y,x, guard)] +=1\n",
    "                except Exception:\n",
    "                    seen[(y,x, guard)] =1\n",
    "                    \n",
    "            if seen[(y,x, guard)] == 2:\n",
    "                for k,v in seen.items():\n",
    "                    if v > 2:\n",
    "                        floor[k[0]][k[1]] = '|' if k[2] in ['^','v'] else '-'\n",
    "                return 1\n",
    "        return 0\n",
    "            \n",
    "    def part_one(self):\n",
    "        return len(self.set_path)\n",
    "        \n",
    "    def part_two(self):\n",
    "        check = self.set_path - set(tuple(self.gpos))\n",
    "        check = list(check) \n",
    "        looped=0\n",
    "        for c in check:\n",
    "            y,x = c\n",
    "            floor = deepcopy(self.floor)\n",
    "            floor[y][x] = '#'\n",
    "\n",
    "            looped+=self.check_for_loop(floor)\n",
    "        return looped\n",
    "        "
   ]
  },
  {
   "cell_type": "code",
   "execution_count": null,
   "id": "ce16bff3-d0e0-4b2f-b987-aafb5cd8529f",
   "metadata": {},
   "outputs": [],
   "source": [
    "test = GuardPatrol()"
   ]
  },
  {
   "cell_type": "code",
   "execution_count": 20,
   "id": "480465ca-dfdb-4cae-97b3-648de8d40c85",
   "metadata": {},
   "outputs": [
    {
     "data": {
      "text/plain": [
       "41"
      ]
     },
     "execution_count": 20,
     "metadata": {},
     "output_type": "execute_result"
    }
   ],
   "source": [
    "test.part_one()"
   ]
  },
  {
   "cell_type": "code",
   "execution_count": 21,
   "id": "8f6af809-2902-4170-94d6-4e747634eae3",
   "metadata": {},
   "outputs": [
    {
     "name": "stdout",
     "output_type": "stream",
     "text": [
      "CPU times: user 4.03 ms, sys: 3 μs, total: 4.03 ms\n",
      "Wall time: 4.04 ms\n"
     ]
    },
    {
     "data": {
      "text/plain": [
       "6"
      ]
     },
     "execution_count": 21,
     "metadata": {},
     "output_type": "execute_result"
    }
   ],
   "source": [
    "%%time\n",
    "test.part_two()"
   ]
  },
  {
   "cell_type": "code",
   "execution_count": 22,
   "id": "7ce1f319-5434-47ec-82e4-00b941c1f5c0",
   "metadata": {},
   "outputs": [],
   "source": [
    "prod = GuardPatrol('input_data/day_06.txt')"
   ]
  },
  {
   "cell_type": "code",
   "execution_count": 23,
   "id": "56bc23a8-9514-4d5d-8ef6-369aec79c479",
   "metadata": {},
   "outputs": [
    {
     "name": "stdout",
     "output_type": "stream",
     "text": [
      "CPU times: user 9 μs, sys: 1 μs, total: 10 μs\n",
      "Wall time: 16.2 μs\n"
     ]
    },
    {
     "data": {
      "text/plain": [
       "5208"
      ]
     },
     "execution_count": 23,
     "metadata": {},
     "output_type": "execute_result"
    }
   ],
   "source": [
    "%%time\n",
    "prod.part_one()"
   ]
  },
  {
   "cell_type": "code",
   "execution_count": 24,
   "id": "41c9573a-b110-4f49-9c94-27a5f6eafe2a",
   "metadata": {},
   "outputs": [
    {
     "name": "stdout",
     "output_type": "stream",
     "text": [
      "CPU times: user 21.4 s, sys: 264 ms, total: 21.7 s\n",
      "Wall time: 21.7 s\n"
     ]
    },
    {
     "data": {
      "text/plain": [
       "1972"
      ]
     },
     "execution_count": 24,
     "metadata": {},
     "output_type": "execute_result"
    }
   ],
   "source": [
    "%%time\n",
    "prod.part_two()"
   ]
  },
  {
   "cell_type": "code",
   "execution_count": null,
   "id": "bee8bba9-b314-4a9c-9bb9-efe8b2d2c338",
   "metadata": {},
   "outputs": [],
   "source": []
  },
  {
   "cell_type": "code",
   "execution_count": null,
   "id": "df6caaa7-cbb8-46bb-8877-e3315eea4671",
   "metadata": {},
   "outputs": [],
   "source": []
  },
  {
   "cell_type": "code",
   "execution_count": null,
   "id": "8bb45a02-134b-4ea0-8c59-e6b854b6eb52",
   "metadata": {},
   "outputs": [],
   "source": []
  }
 ],
 "metadata": {
  "kernelspec": {
   "display_name": "py312",
   "language": "python",
   "name": "py312"
  },
  "language_info": {
   "codemirror_mode": {
    "name": "ipython",
    "version": 3
   },
   "file_extension": ".py",
   "mimetype": "text/x-python",
   "name": "python",
   "nbconvert_exporter": "python",
   "pygments_lexer": "ipython3",
   "version": "3.12.11"
  }
 },
 "nbformat": 4,
 "nbformat_minor": 5
}
