{
 "cells": [
  {
   "cell_type": "code",
   "execution_count": 1,
   "id": "e3d20939-f0c4-489c-90a1-f93792cd88f1",
   "metadata": {},
   "outputs": [],
   "source": [
    "from IPython.core.interactiveshell import InteractiveShell\n",
    "InteractiveShell.ast_node_interactivity = \"all\""
   ]
  },
  {
   "cell_type": "markdown",
   "id": "9a5481ea-f123-478e-8d25-ab6e742f4c15",
   "metadata": {},
   "source": [
    "# Part 1"
   ]
  },
  {
   "cell_type": "code",
   "execution_count": 2,
   "id": "de399ddc-fe21-46b2-a145-9fbcef602c8c",
   "metadata": {},
   "outputs": [],
   "source": [
    "directions= {'<':(0,-1) ,\n",
    "             '^': (-1,0),\n",
    "             '>': (0,1),\n",
    "             'v': (1,0),\n",
    "             }\n",
    "dir_order = list(directions.keys())"
   ]
  },
  {
   "cell_type": "code",
   "execution_count": 3,
   "id": "0a1c0eab-da88-4c3b-a250-65f7fa595fa2",
   "metadata": {},
   "outputs": [],
   "source": [
    "def read_file(path):\n",
    "    floor=[]\n",
    "    guard=None\n",
    "    gpos=None\n",
    "    with open(path,'r') as f:\n",
    "        for y, line in enumerate(f.readlines()):\n",
    "            new_line = list(line.strip())\n",
    "            floor.append(new_line)\n",
    "            inter = set(new_line).intersection(directions.keys())\n",
    "            if len(inter) > 0:\n",
    "                guard = inter.pop()\n",
    "                x = line.index(guard)\n",
    "                gpos=(y,x) \n",
    "                \n",
    "                \n",
    "    return floor,guard, gpos\n",
    "    \n",
    "def walk_floor(floor, guard, gpos):\n",
    "    seen =set([tuple(gpos)])\n",
    "    y,x = gpos\n",
    "    iy, ix = directions[guard]\n",
    "    ny, nx = y+iy, x+ix \n",
    "    while ny >=0 and nx >= 0 and ny< len(floor) and nx < len(floor[0]):\n",
    "        if floor[ny][nx] != '#':\n",
    "            y,x = ny, nx \n",
    "            ny, nx = y+iy, x+ix \n",
    "            seen.add((y,x))\n",
    "        else: \n",
    "            guard = dir_order[ (dir_order.index(guard)+1)%4 ]\n",
    "            iy, ix = directions[guard]\n",
    "            ny, nx = y+iy, x+ix \n",
    "    return len(seen)\n",
    "        "
   ]
  },
  {
   "cell_type": "code",
   "execution_count": 4,
   "id": "a3e4895c-af73-4383-86e4-67e67a1d4879",
   "metadata": {},
   "outputs": [],
   "source": [
    "def part_one(path='input_data/test_06.txt'):\n",
    "    floor, guard, gpos = read_file(path)\n",
    "    return walk_floor(floor, guard, gpos)"
   ]
  },
  {
   "cell_type": "code",
   "execution_count": 5,
   "id": "a86ec43c-4925-4c8f-8496-00676b526abc",
   "metadata": {},
   "outputs": [
    {
     "data": {
      "text/plain": [
       "41"
      ]
     },
     "execution_count": 5,
     "metadata": {},
     "output_type": "execute_result"
    }
   ],
   "source": [
    "part_one()"
   ]
  },
  {
   "cell_type": "code",
   "execution_count": 6,
   "id": "e19b636d-cc7a-4c30-b0a2-60b3d4453964",
   "metadata": {},
   "outputs": [
    {
     "data": {
      "text/plain": [
       "5208"
      ]
     },
     "execution_count": 6,
     "metadata": {},
     "output_type": "execute_result"
    }
   ],
   "source": [
    "part_one('input_data/day_06.txt')"
   ]
  },
  {
   "cell_type": "markdown",
   "id": "667d5c9d-9bce-4c19-bb89-41c65f305543",
   "metadata": {},
   "source": [
    "# Part 2"
   ]
  },
  {
   "cell_type": "markdown",
   "id": "3f34831a-46b7-464c-94e6-6accebc1950f",
   "metadata": {},
   "source": [
    "# "
   ]
  },
  {
   "cell_type": "code",
   "execution_count": 57,
   "id": "950349dc-1f67-4836-8f2a-433fa612bbe0",
   "metadata": {},
   "outputs": [],
   "source": [
    "from copy import deepcopy\n",
    "\n",
    "def check_for_loop(floor, guard, y,x, seen):\n",
    "    iy, ix = directions[guard]\n",
    "    ny, nx = y+iy, x+ix \n",
    "    while ny >=0 and nx >= 0 and ny< len(floor) and nx < len(floor[0]):\n",
    "        if floor[ny][nx] != '#' and floor[ny][nx] != '0':\n",
    "            y,x = ny, nx \n",
    "            ny, nx = y+iy, x+ix \n",
    "            try: \n",
    "                seen[(y,x, guard)] +=1\n",
    "            except Exception:\n",
    "                seen[(y,x, guard)] =1\n",
    "                \n",
    "        else: \n",
    "            guard = dir_order[ (dir_order.index(guard)+1)%4 ]\n",
    "            iy, ix = directions[guard]\n",
    "            ny, nx = y+iy, x+ix \n",
    "            try: \n",
    "                seen[(y,x, guard)] +=1\n",
    "            except Exception:\n",
    "                seen[(y,x, guard)] =1\n",
    "                \n",
    "        if seen[(y,x, guard)] == 5:\n",
    "            return True \n",
    "    return False\n",
    "    \n",
    "\n",
    "def walk_floor_part2(floor, guard, gpos):\n",
    "    y,x = gpos\n",
    "    seen ={(y,x, guard): 1}\n",
    "    iy, ix = directions[guard]\n",
    "    ny, nx = y+iy, x+ix \n",
    "    loops=[]\n",
    "    while ny >=0 and nx >= 0 and ny< len(floor) and nx < len(floor[0]):\n",
    "        \n",
    "        if floor[ny][nx] != '#':\n",
    "            new_floor = deepcopy(floor)\n",
    "            new_floor[ny][nx] = '0'\n",
    "            if check_for_loop(new_floor,guard, y,x, deepcopy(seen)):\n",
    "                loops.append((ny,nx))\n",
    "                \n",
    "            y,x = ny, nx \n",
    "            ny, nx = y+iy, x+ix \n",
    "            seen[(y,x, guard)] =1\n",
    "        else: \n",
    "            guard = dir_order[ (dir_order.index(guard)+1)%4 ]\n",
    "            iy, ix = directions[guard]\n",
    "            ny, nx = y+iy, x+ix \n",
    "            seen[(y,x, guard)] =1\n",
    "            \n",
    "    return len(set(loops)), len(set([ (x[0],x[1]) for x in seen.keys()]))\n",
    "        "
   ]
  },
  {
   "cell_type": "code",
   "execution_count": 58,
   "id": "9c5877c0-7ee2-4e78-82f5-dd510b6ae6c4",
   "metadata": {},
   "outputs": [],
   "source": [
    "def part_two(path='input_data/test_06.txt'):\n",
    "    floor, guard, gpos = read_file(path)\n",
    "    return walk_floor_part2(floor, guard, gpos)"
   ]
  },
  {
   "cell_type": "code",
   "execution_count": 59,
   "id": "110d0b06-afef-4084-a562-0d5bc174cfce",
   "metadata": {},
   "outputs": [
    {
     "data": {
      "text/plain": [
       "(6, 41)"
      ]
     },
     "execution_count": 59,
     "metadata": {},
     "output_type": "execute_result"
    }
   ],
   "source": [
    "part_two()"
   ]
  },
  {
   "cell_type": "code",
   "execution_count": 60,
   "id": "bf32a674-14c1-43c0-a0fb-8ddb19e45be2",
   "metadata": {},
   "outputs": [
    {
     "name": "stdout",
     "output_type": "stream",
     "text": [
      "CPU times: user 42 s, sys: 293 ms, total: 42.3 s\n",
      "Wall time: 42.3 s\n"
     ]
    },
    {
     "data": {
      "text/plain": [
       "(2040, 5208)"
      ]
     },
     "execution_count": 60,
     "metadata": {},
     "output_type": "execute_result"
    }
   ],
   "source": [
    "%%time\n",
    "part_two('input_data/day_06.txt')"
   ]
  },
  {
   "cell_type": "code",
   "execution_count": null,
   "id": "d241ebc2-e285-4a31-9bd0-e2fab120867c",
   "metadata": {},
   "outputs": [],
   "source": []
  }
 ],
 "metadata": {
  "kernelspec": {
   "display_name": "work_env",
   "language": "python",
   "name": "work_env"
  },
  "language_info": {
   "codemirror_mode": {
    "name": "ipython",
    "version": 3
   },
   "file_extension": ".py",
   "mimetype": "text/x-python",
   "name": "python",
   "nbconvert_exporter": "python",
   "pygments_lexer": "ipython3",
   "version": "3.11.6"
  }
 },
 "nbformat": 4,
 "nbformat_minor": 5
}
