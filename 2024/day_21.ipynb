{
 "cells": [
  {
   "cell_type": "code",
   "execution_count": 1,
   "id": "2efe433c-ccbf-4b0a-8653-f0824059fd6f",
   "metadata": {
    "tags": []
   },
   "outputs": [],
   "source": [
    "from IPython.core.interactiveshell import InteractiveShell\n",
    "InteractiveShell.ast_node_interactivity = \"all\""
   ]
  },
  {
   "cell_type": "markdown",
   "id": "ff944d02-8a60-417e-888a-54e4e5141bbf",
   "metadata": {
    "tags": []
   },
   "source": [
    "# Part 1"
   ]
  },
  {
   "cell_type": "code",
   "execution_count": 2,
   "id": "656d644d-1a21-4ff3-b76f-e95b531a1bd3",
   "metadata": {},
   "outputs": [],
   "source": [
    "prod = ['140A',\n",
    "        '143A',\n",
    "        '349A',\n",
    "        '582A',\n",
    "        '964A',]"
   ]
  },
  {
   "cell_type": "code",
   "execution_count": 3,
   "id": "3a4b84ee-bf1b-4775-bbcb-cc702db75bc3",
   "metadata": {},
   "outputs": [],
   "source": [
    "test = ['029A',\n",
    "        '980A',\n",
    "        '179A',\n",
    "        '456A',\n",
    "        '379A',\n",
    "       ]"
   ]
  },
  {
   "cell_type": "code",
   "execution_count": 62,
   "id": "7fc2dde4-91fe-41a2-8602-a8a34f54cc4e",
   "metadata": {},
   "outputs": [],
   "source": [
    "from collections import deque\n",
    "\n",
    "# Numeric keypad layout\n",
    "NUM_POS = {\n",
    "    '7': (0,0), '8':(1,0), '9':(2,0),\n",
    "    '4': (0,1), '5':(1,1), '6':(2,1),\n",
    "    '1': (0,2), '2':(1,2), '3':(2,2),\n",
    "    '0': (1,3), 'A':(2,3),\n",
    "}\n",
    "# Directional keypad layout\n",
    "DIR_POS = {\n",
    "    '^': (1,0), 'A':(2,0),\n",
    "    '<': (0,1), 'v':(1,1), '>' :(2,1),\n",
    "}\n",
    "\n",
    "\n",
    "def check_grouped_button(path):\n",
    "    if path == '':\n",
    "        return True\n",
    "    for i,ic in enumerate(path[:-1]):\n",
    "        if ic != path[i+1] and path[i+1] in path[:i]:\n",
    "            return False\n",
    "    return True\n",
    "    \n",
    "def build_distances(pos_map):\n",
    "    dists = {}\n",
    "    for src in pos_map:\n",
    "        d = {}\n",
    "        sx, sy = pos_map[src]\n",
    "        queue = deque([(sx, sy, \"\", 0)])\n",
    "        seen = {(sx, sy): 0}\n",
    "        while queue:\n",
    "            x, y, path,steps = queue.popleft()\n",
    "            \n",
    "            if (x,y) in pos_map.values():\n",
    "                tgt = next(k for k,v in pos_map.items() if v==(x,y))\n",
    "                if check_grouped_button(path):\n",
    "                    d[tgt] = path\n",
    "            for move, (dx, dy) in {'<':(-1,0),'>':(1,0),'^':(0,-1),'v':(0,1)}.items():\n",
    "                nx, ny = x+dx, y+dy\n",
    "                steps += 1\n",
    "                if (nx, ny) in pos_map.values() and ( (nx,ny) not in seen.keys() or steps <= seen[(nx,ny)] ):\n",
    "                    seen[(nx,ny)] = steps\n",
    "                    queue.append((nx, ny, path + move, steps))\n",
    "        dists[src] = d\n",
    "    return dists\n",
    "\n",
    "# Compute movement maps for both keypads\n",
    "NUM_PATHS = build_distances(NUM_POS)\n",
    "DIR_PATHS = build_distances(DIR_POS)\n",
    "\n",
    "# Compute Calculate Buttons necessary before\n",
    "def generate_generating_sequence(code, shortest_paths):\n",
    "    full_path = 'A'+code\n",
    "    upper_code = ''\n",
    "    for s,e in zip(full_path[:-1],full_path[1:]) :\n",
    "        upper_code = upper_code+shortest_paths[s][e]+'A'\n",
    "    return upper_code"
   ]
  },
  {
   "cell_type": "code",
   "execution_count": 65,
   "id": "f09bdb35-4353-4ef4-911a-1bad7b077b9d",
   "metadata": {},
   "outputs": [],
   "source": [
    "def part_one_complexity(codes):\n",
    "    complexity=0\n",
    "    for code in codes:\n",
    "        r1 = generate_generating_sequence(code, NUM_PATHS)\n",
    "        r2 =  generate_generating_sequence(r1, DIR_PATHS)\n",
    "        person =  generate_generating_sequence(r2, DIR_PATHS)\n",
    "\n",
    "        print(len(person),int(code.strip('A')))\n",
    "        complexity += len(person)*int(code.strip('A'))\n",
    "    return complexity"
   ]
  },
  {
   "cell_type": "code",
   "execution_count": 66,
   "id": "c665d38a-4c25-440f-8e32-b7e9607e7617",
   "metadata": {},
   "outputs": [
    {
     "name": "stdout",
     "output_type": "stream",
     "text": [
      "68 29\n",
      "60 980\n",
      "68 179\n",
      "64 456\n",
      "68 379\n"
     ]
    },
    {
     "data": {
      "text/plain": [
       "127900"
      ]
     },
     "execution_count": 66,
     "metadata": {},
     "output_type": "execute_result"
    }
   ],
   "source": [
    "%%time\n",
    "part_one_complexity(test)"
   ]
  },
  {
   "cell_type": "code",
   "execution_count": 67,
   "id": "8d5f1cea-87ff-4338-8785-99a9c3ece04f",
   "metadata": {},
   "outputs": [
    {
     "name": "stdout",
     "output_type": "stream",
     "text": [
      "70 140\n",
      "72 143\n",
      "76 349\n",
      "72 582\n",
      "72 964\n",
      "CPU times: user 302 μs, sys: 12 μs, total: 314 μs\n",
      "Wall time: 316 μs\n"
     ]
    },
    {
     "data": {
      "text/plain": [
       "157932"
      ]
     },
     "execution_count": 67,
     "metadata": {},
     "output_type": "execute_result"
    }
   ],
   "source": [
    "%%time\n",
    "part_one_complexity(prod)"
   ]
  },
  {
   "cell_type": "markdown",
   "id": "fb57e954-d588-406e-9c3c-6d012b1abc0e",
   "metadata": {
    "tags": []
   },
   "source": [
    "# Part 2"
   ]
  },
  {
   "cell_type": "code",
   "execution_count": 9,
   "id": "18bf862e-015f-4693-8b4d-5f55d10770a2",
   "metadata": {
    "scrolled": true,
    "tags": []
   },
   "outputs": [
    {
     "name": "stdout",
     "output_type": "stream",
     "text": [
      "CPU times: user 11.6 s, sys: 17.6 ms, total: 11.6 s\n",
      "Wall time: 11.7 s\n"
     ]
    },
    {
     "data": {
      "text/plain": [
       "993178"
      ]
     },
     "execution_count": 9,
     "metadata": {},
     "output_type": "execute_result"
    }
   ],
   "source": [
    "%%time\n",
    "day_20('input_data/day_20.txt',20 )"
   ]
  },
  {
   "cell_type": "code",
   "execution_count": null,
   "id": "f48da97c-c5d4-467e-815b-d2ca638a49a1",
   "metadata": {},
   "outputs": [],
   "source": []
  }
 ],
 "metadata": {
  "kernelspec": {
   "display_name": "py312",
   "language": "python",
   "name": "py312"
  },
  "language_info": {
   "codemirror_mode": {
    "name": "ipython",
    "version": 3
   },
   "file_extension": ".py",
   "mimetype": "text/x-python",
   "name": "python",
   "nbconvert_exporter": "python",
   "pygments_lexer": "ipython3",
   "version": "3.12.11"
  }
 },
 "nbformat": 4,
 "nbformat_minor": 5
}
