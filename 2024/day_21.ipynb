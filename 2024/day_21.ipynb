{
 "cells": [
  {
   "cell_type": "code",
   "execution_count": 1,
   "id": "2efe433c-ccbf-4b0a-8653-f0824059fd6f",
   "metadata": {
    "tags": []
   },
   "outputs": [],
   "source": [
    "from IPython.core.interactiveshell import InteractiveShell\n",
    "InteractiveShell.ast_node_interactivity = \"all\""
   ]
  },
  {
   "cell_type": "markdown",
   "id": "ff944d02-8a60-417e-888a-54e4e5141bbf",
   "metadata": {
    "tags": []
   },
   "source": [
    "# Part 1"
   ]
  },
  {
   "cell_type": "code",
   "execution_count": 6,
   "id": "656d644d-1a21-4ff3-b76f-e95b531a1bd3",
   "metadata": {},
   "outputs": [],
   "source": [
    "prod = ['140A',\n",
    "        '143A',\n",
    "        '349A',\n",
    "        '582A',\n",
    "        '964A',]"
   ]
  },
  {
   "cell_type": "code",
   "execution_count": 7,
   "id": "3a4b84ee-bf1b-4775-bbcb-cc702db75bc3",
   "metadata": {},
   "outputs": [],
   "source": [
    "test = ['029A',\n",
    "        '980A',\n",
    "        '179A',\n",
    "        '456A',\n",
    "        '379A',\n",
    "       ]"
   ]
  },
  {
   "cell_type": "code",
   "execution_count": 8,
   "id": "6e05038c-03d0-4741-b6da-c28877cf799b",
   "metadata": {},
   "outputs": [],
   "source": [
    "from collections import deque\n",
    "from functools import cache, lru_cache\n",
    "\n",
    "# Numeric keypad layout\n",
    "NUM_POS = {\n",
    "    '7': (0,0), '8':(1,0), '9':(2,0),\n",
    "    '4': (0,1), '5':(1,1), '6':(2,1),\n",
    "    '1': (0,2), '2':(1,2), '3':(2,2),\n",
    "    '0': (1,3), 'A':(2,3),\n",
    "}\n",
    "# Directional keypad layout\n",
    "DIR_POS = {\n",
    "    '^': (1,0), 'A':(2,0),\n",
    "    '<': (0,1), 'v':(1,1), '>' :(2,1),\n",
    "}\n",
    "\n",
    "\n",
    "def build_distances(pos_map):\n",
    "    dists = {}\n",
    "    for src in pos_map:\n",
    "        d = {}\n",
    "        dist_steps ={}\n",
    "        sx, sy = pos_map[src]\n",
    "        queue = deque([(sx, sy, \"\", 0)])\n",
    "        seen = {(sx, sy): 0}\n",
    "        while queue:\n",
    "            x, y, path,steps = queue.popleft()\n",
    "            \n",
    "            if (x,y) in pos_map.values():\n",
    "                tgt = next(k for k,v in pos_map.items() if v==(x,y))\n",
    "                if tgt not in d.keys() or dist_steps[tgt] == steps:\n",
    "                    dist_steps[tgt] = steps\n",
    "                    try:\n",
    "                        d[tgt].append(path)\n",
    "                    except KeyError:\n",
    "                        d[tgt] = [path]\n",
    "                    \n",
    "            for move, (dx, dy) in {'<':(-1,0),'>':(1,0),'^':(0,-1),'v':(0,1)}.items():\n",
    "                nx, ny = x+dx, y+dy\n",
    "                new_steps = steps + 1\n",
    "                if (nx, ny) in pos_map.values() and ( (nx,ny) not in seen.keys() or new_steps <= seen[(nx,ny)] ):\n",
    "                    seen[(nx,ny)] = new_steps\n",
    "                    queue.append((nx, ny, path + move, new_steps))\n",
    "        dists[src] = d\n",
    "    return dists\n",
    "\n",
    "# Compute movement maps for both keypads\n",
    "NUM_PATHS = build_distances(NUM_POS)\n",
    "DIR_PATHS = build_distances(DIR_POS)\n",
    "\n",
    "@cache\n",
    "def generate_upper_sequence(code, numbers=False):\n",
    "    shortest_paths = NUM_PATHS if numbers else DIR_PATHS\n",
    "    upper_return=[]\n",
    "        \n",
    "    full_path = 'A' + code\n",
    "    upper_candidates = ['']\n",
    "    for s, e in zip(full_path[:-1], full_path[1:]):\n",
    "        new_upper=[]\n",
    "        for upper_candidate in upper_candidates:\n",
    "            for upper_chunk in shortest_paths[s][e]:\n",
    "                new_upper.append(upper_candidate+upper_chunk+'A')\n",
    "        upper_candidates = new_upper.copy()\n",
    "        \n",
    "    return tuple(upper_candidates)"
   ]
  },
  {
   "cell_type": "code",
   "execution_count": 9,
   "id": "32e17f8c-385f-4adf-83ba-66235b68426f",
   "metadata": {},
   "outputs": [],
   "source": [
    "def find(string, char):\n",
    "    return [i for i, ltr in enumerate(string) if ltr == char]\n",
    "\n",
    "@cache\n",
    "def recurse_segment(code: str, depth: int) -> str:\n",
    "    \"\"\"\n",
    "    Recursively builds all possible minimal-length input sequences\n",
    "    needed at layer `depth` to produce `code` at the bottom.\n",
    "    \"\"\"\n",
    "    \n",
    "    longer = 'A'+code\n",
    "    alocs = find(longer,'A')\n",
    "\n",
    "    total_len=0\n",
    "    if depth == 0 : \n",
    "        for i,j in zip( alocs, alocs[1:]):\n",
    "            lower_code = longer[i+1: j+1]\n",
    "            next_segs =  generate_upper_sequence(lower_code) \n",
    "            total_len += min ([ len(ns) for ns in next_segs ])\n",
    "        return total_len\n",
    "        \n",
    "    for i,j in zip( alocs, alocs[1:]):\n",
    "        lower_code = longer[i+1: j+1]\n",
    "        key = (lower_code, depth)\n",
    "        \n",
    "        next_segs =  generate_upper_sequence(lower_code) \n",
    "        \n",
    "        total_len += min( [ recurse_segment(ns, depth-1) for ns in next_segs])\n",
    "    return total_len"
   ]
  },
  {
   "cell_type": "code",
   "execution_count": 10,
   "id": "14e3a54d-f8b3-48b4-9d14-27ecf37b0dfc",
   "metadata": {},
   "outputs": [],
   "source": [
    "def complexity(codes, nrobots=25):\n",
    "    complexity = 0\n",
    "    for code in codes:\n",
    "        # Clean and format the code\n",
    "        clean_code = code.strip()\n",
    "        if not clean_code.endswith('A'):\n",
    "            clean_code += 'A'\n",
    "\n",
    "        r1 = generate_upper_sequence(code, True)\n",
    "        path_length = min( [ recurse_segment(r, nrobots-1) for r in r1])\n",
    "\n",
    "        print(path_length,int(code.strip('A')))\n",
    "        \n",
    "        complexity += path_length*int(code.strip('A'))\n",
    "    return complexity\n"
   ]
  },
  {
   "cell_type": "code",
   "execution_count": 11,
   "id": "c665d38a-4c25-440f-8e32-b7e9607e7617",
   "metadata": {},
   "outputs": [
    {
     "name": "stdout",
     "output_type": "stream",
     "text": [
      "68 29\n",
      "60 980\n",
      "68 179\n",
      "64 456\n",
      "64 379\n",
      "CPU times: user 1.15 ms, sys: 29 μs, total: 1.18 ms\n",
      "Wall time: 1.19 ms\n"
     ]
    },
    {
     "data": {
      "text/plain": [
       "126384"
      ]
     },
     "execution_count": 11,
     "metadata": {},
     "output_type": "execute_result"
    }
   ],
   "source": [
    "%%time\n",
    "complexity(test,2)"
   ]
  },
  {
   "cell_type": "code",
   "execution_count": 12,
   "id": "733f55e7-8267-4944-9899-f70f7fdc2c1c",
   "metadata": {},
   "outputs": [
    {
     "name": "stdout",
     "output_type": "stream",
     "text": [
      "70 140\n",
      "72 143\n",
      "72 349\n",
      "68 582\n",
      "72 964\n",
      "CPU times: user 1.62 ms, sys: 173 μs, total: 1.8 ms\n",
      "Wall time: 1.76 ms\n"
     ]
    },
    {
     "data": {
      "text/plain": [
       "154208"
      ]
     },
     "execution_count": 12,
     "metadata": {},
     "output_type": "execute_result"
    }
   ],
   "source": [
    "%%time\n",
    "complexity(prod,2)"
   ]
  },
  {
   "cell_type": "code",
   "execution_count": 13,
   "id": "7776ee23-3ba1-42ff-8b83-87191c02e4ad",
   "metadata": {},
   "outputs": [
    {
     "name": "stdout",
     "output_type": "stream",
     "text": [
      "87513499934 140\n",
      "89741193600 143\n",
      "87793663956 349\n",
      "86475783008 582\n",
      "85006969638 964\n",
      "CPU times: user 11.7 ms, sys: 1.85 ms, total: 13.6 ms\n",
      "Wall time: 12 ms\n"
     ]
    },
    {
     "data": {
      "text/plain": [
       "188000493837892"
      ]
     },
     "execution_count": 13,
     "metadata": {},
     "output_type": "execute_result"
    }
   ],
   "source": [
    "%%time\n",
    "complexity(prod,25)"
   ]
  },
  {
   "cell_type": "markdown",
   "id": "fb57e954-d588-406e-9c3c-6d012b1abc0e",
   "metadata": {
    "tags": []
   },
   "source": [
    "# Part 2"
   ]
  },
  {
   "cell_type": "code",
   "execution_count": 90,
   "id": "99d97113-6121-45fb-9c15-17dd7110e670",
   "metadata": {},
   "outputs": [],
   "source": [
    "def find(string, char):\n",
    "    return [i for i, ltr in enumerate(string) if ltr == char]\n",
    "    \n",
    "def chunk_string(code):\n",
    "    longer = 'A'+code\n",
    "    alocs = find(longer,'A')\n",
    "    upper=''\n",
    "    for i,j in zip( alocs, alocs[1:]):\n",
    "        upper = upper + generate_upper_sequence(longer[i+1: j+1])\n",
    "    return upper \n",
    "\n",
    "\n",
    "#seen_code = {}\n",
    "@cache\n",
    "def recurse_segment(code: str, depth: int) -> str:\n",
    "    \"\"\"\n",
    "    Recursively builds all possible minimal-length input sequences\n",
    "    needed at layer `depth` to produce `code` at the bottom.\n",
    "    \"\"\"\n",
    "    \n",
    "    longer = 'A'+code\n",
    "    alocs = find(longer,'A')\n",
    "\n",
    "    total_len=0\n",
    "    if depth == 0 : \n",
    "        for i,j in zip( alocs, alocs[1:]):\n",
    "            lower_code = longer[i+1: j+1]\n",
    "            next_seg =  generate_upper_sequence(lower_code) \n",
    "            total_len += len(next_seg)\n",
    "        return total_len\n",
    "        \n",
    "    for i,j in zip( alocs, alocs[1:]):\n",
    "        lower_code = longer[i+1: j+1]\n",
    "        key = (lower_code, depth)\n",
    "        \n",
    "        next_seg =  generate_upper_sequence(lower_code) \n",
    "        \n",
    "        total_len += recurse_segment(next_seg, depth-1)\n",
    "    return total_len"
   ]
  },
  {
   "cell_type": "code",
   "execution_count": 91,
   "id": "a3fd8397-b7b7-4c20-a5e0-a29c76375d4f",
   "metadata": {},
   "outputs": [],
   "source": [
    "def part_two_complexity(codes, nrobots=25):\n",
    "    complexity = 0\n",
    "    for code in codes:\n",
    "        # Clean and format the code\n",
    "        clean_code = code.strip()\n",
    "        if not clean_code.endswith('A'):\n",
    "            clean_code += 'A'\n",
    "\n",
    "        r1 = generate_upper_sequence(code, True)\n",
    "        path_length =recurse_segment(r1, nrobots-1)\n",
    "\n",
    "        print(path_length,int(code.strip('A')))\n",
    "        \n",
    "        complexity += path_length*int(code.strip('A'))\n",
    "    return complexity\n"
   ]
  },
  {
   "cell_type": "code",
   "execution_count": 92,
   "id": "8df1d011-c625-469c-aeb3-02d09ffcfd15",
   "metadata": {},
   "outputs": [
    {
     "name": "stdout",
     "output_type": "stream",
     "text": [
      "68 29\n",
      "60 980\n",
      "68 179\n",
      "64 456\n",
      "64 379\n",
      "CPU times: user 333 μs, sys: 58 μs, total: 391 μs\n",
      "Wall time: 391 μs\n"
     ]
    },
    {
     "data": {
      "text/plain": [
       "126384"
      ]
     },
     "execution_count": 92,
     "metadata": {},
     "output_type": "execute_result"
    }
   ],
   "source": [
    "%%time\n",
    "part_two_complexity(test,2)"
   ]
  },
  {
   "cell_type": "code",
   "execution_count": 35,
   "id": "2d54b038-2d54-46db-b363-f0784e96ecb9",
   "metadata": {},
   "outputs": [
    {
     "name": "stdout",
     "output_type": "stream",
     "text": [
      "70 140\n",
      "72 143\n",
      "72 349\n",
      "68 582\n",
      "72 964\n",
      "CPU times: user 557 μs, sys: 19 μs, total: 576 μs\n",
      "Wall time: 571 μs\n"
     ]
    },
    {
     "data": {
      "text/plain": [
       "154208"
      ]
     },
     "execution_count": 35,
     "metadata": {},
     "output_type": "execute_result"
    }
   ],
   "source": [
    "%%time\n",
    "part_two_complexity(prod,2)"
   ]
  },
  {
   "cell_type": "code",
   "execution_count": 81,
   "id": "9379e4a0-1c60-4404-b33c-6fdea7aadaa9",
   "metadata": {},
   "outputs": [
    {
     "name": "stdout",
     "output_type": "stream",
     "text": [
      "99333974668 140\n",
      "101779364540 143\n",
      "101257214304 349\n",
      "98217357614 582\n",
      "97169520992 964\n",
      "CPU times: user 213 μs, sys: 45 μs, total: 258 μs\n",
      "Wall time: 266 μs\n"
     ]
    },
    {
     "data": {
      "text/plain": [
       "214633893742472"
      ]
     },
     "execution_count": 81,
     "metadata": {},
     "output_type": "execute_result"
    }
   ],
   "source": [
    "%%time\n",
    "part_two_complexity(prod,25)"
   ]
  },
  {
   "cell_type": "code",
   "execution_count": 82,
   "id": "640acfdd-da1a-4e35-9fd6-fecdc59702e6",
   "metadata": {},
   "outputs": [
    {
     "name": "stdout",
     "output_type": "stream",
     "text": [
      "39682956354 140\n",
      "40659866182 143\n",
      "40451274276 349\n",
      "39236878176 582\n",
      "38818276878 964\n",
      "CPU times: user 401 μs, sys: 90 μs, total: 491 μs\n",
      "Wall time: 471 μs\n"
     ]
    },
    {
     "data": {
      "text/plain": [
       "85744151484734"
      ]
     },
     "execution_count": 82,
     "metadata": {},
     "output_type": "execute_result"
    }
   ],
   "source": [
    "%%time\n",
    "part_two_complexity(prod,24)"
   ]
  },
  {
   "cell_type": "code",
   "execution_count": null,
   "id": "b176e921-efbe-4aeb-8bdf-1ca6dea2be99",
   "metadata": {},
   "outputs": [],
   "source": [
    "# 214633893742472 -- too high"
   ]
  },
  {
   "cell_type": "code",
   "execution_count": 67,
   "id": "2add233e-4eec-4223-9eab-636f1a76b30c",
   "metadata": {},
   "outputs": [],
   "source": []
  },
  {
   "cell_type": "code",
   "execution_count": 40,
   "id": "db176797-6077-4f39-a884-640820623fb9",
   "metadata": {},
   "outputs": [],
   "source": [
    "def simulate_robot_layer_output(code_sequence, keypad_layout, start='A'):\n",
    "    # Build reverse map from position to key\n",
    "    pos_to_key = {v: k for k, v in keypad_layout.items()}\n",
    "    x, y = keypad_layout[start]\n",
    "    output = ''\n",
    "    for ch in code_sequence:\n",
    "        if ch in {'<', '>', '^', 'v'}:\n",
    "            dx, dy = {'<': (-1, 0), '>': (1, 0), '^': (0, -1), 'v': (0, 1)}[ch]\n",
    "            nx, ny = x + dx, y + dy\n",
    "            if (nx, ny) in pos_to_key:\n",
    "                x, y = nx, ny\n",
    "            else:\n",
    "                raise ValueError(f\"Invalid move {ch} from position {(x, y)}\")\n",
    "        elif ch == 'A':\n",
    "            output += pos_to_key[(x, y)]\n",
    "        else:\n",
    "            raise ValueError(f\"Invalid input character: {ch}\")\n",
    "    return output\n"
   ]
  },
  {
   "cell_type": "code",
   "execution_count": 42,
   "id": "ceb18b1f-7c76-43ab-99a6-45daf7868ddf",
   "metadata": {},
   "outputs": [
    {
     "data": {
      "text/plain": [
       "'<A>Av<<AA>^AA>AvAA^A<vAAA>^A'"
      ]
     },
     "execution_count": 42,
     "metadata": {},
     "output_type": "execute_result"
    }
   ],
   "source": [
    "simulate_robot_layer_output('<v<A>>^AvA^A<vA<AA>>^AAvA<^A>AAvA^A<vA>^AA<A>A<v<A>A>^AAAvA<^A>A', DIR_POS)"
   ]
  },
  {
   "cell_type": "code",
   "execution_count": 45,
   "id": "2f875b8c-a0b1-4f87-bb08-05377dfff569",
   "metadata": {},
   "outputs": [
    {
     "data": {
      "text/plain": [
       "'<A>A<AAv<AA>>^AvAA^Av<AAA^>A'"
      ]
     },
     "execution_count": 45,
     "metadata": {},
     "output_type": "execute_result"
    }
   ],
   "source": [
    "simulate_robot_layer_output('v<<A>>^AvA^Av<<A>>^AA<vA<A>>^AAvAA<^A>A<vA>^AA<A>A<vA<A>>^AAA<A>vA^A', DIR_POS)"
   ]
  },
  {
   "cell_type": "code",
   "execution_count": 59,
   "id": "49038a2d-428c-4780-8a30-3de14c71765c",
   "metadata": {},
   "outputs": [
    {
     "name": "stdout",
     "output_type": "stream",
     "text": [
      "64 <v<A>>^AvA^A<vA<AA>>^AAvA<^A>AAvA^A<vA>^AA<A>A<v<A>A>^AAAvA<^A>A\n",
      "28 <A>Av<<AA>^AA>AvAA^A<vAAA>^A\n",
      "14 ^A<<^^A>>AvvvA\n"
     ]
    },
    {
     "data": {
      "text/plain": [
       "'379A'"
      ]
     },
     "execution_count": 59,
     "metadata": {},
     "output_type": "execute_result"
    }
   ],
   "source": [
    "start='<v<A>>^AvA^A<vA<AA>>^AAvA<^A>AAvA^A<vA>^AA<A>A<v<A>A>^AAAvA<^A>A'\n",
    "print(len(start), start)\n",
    "tmp = simulate_robot_layer_output(start, DIR_POS)\n",
    "print(len(tmp), tmp)\n",
    "tmp = simulate_robot_layer_output(tmp, DIR_POS)\n",
    "print(len(tmp), tmp)\n",
    "simulate_robot_layer_output(tmp, NUM_POS)"
   ]
  },
  {
   "cell_type": "code",
   "execution_count": 60,
   "id": "1660dfb2-d4c3-46b0-ace5-2b368eedc6f6",
   "metadata": {},
   "outputs": [
    {
     "name": "stdout",
     "output_type": "stream",
     "text": [
      "68 v<<A>>^AvA^Av<<A>>^AA<vA<A>>^AAvAA<^A>A<vA>^AA<A>A<vA<A>>^AAA<A>vA^A\n",
      "28 <A>A<AAv<AA>>^AvAA^Av<AAA^>A\n",
      "14 ^A^^<<A>>AvvvA\n"
     ]
    },
    {
     "data": {
      "text/plain": [
       "'379A'"
      ]
     },
     "execution_count": 60,
     "metadata": {},
     "output_type": "execute_result"
    }
   ],
   "source": [
    "start='v<<A>>^AvA^Av<<A>>^AA<vA<A>>^AAvAA<^A>A<vA>^AA<A>A<vA<A>>^AAA<A>vA^A'\n",
    "print(len(start), start)\n",
    "tmp = simulate_robot_layer_output('v<<A>>^AvA^Av<<A>>^AA<vA<A>>^AAvAA<^A>A<vA>^AA<A>A<vA<A>>^AAA<A>vA^A', DIR_POS)\n",
    "print(len(tmp), tmp)\n",
    "tmp = simulate_robot_layer_output(tmp, DIR_POS)\n",
    "print(len(tmp), tmp)\n",
    "simulate_robot_layer_output(tmp, NUM_POS)"
   ]
  },
  {
   "cell_type": "code",
   "execution_count": null,
   "id": "55c60024-589b-440b-a4cb-ddcc70f5c97b",
   "metadata": {},
   "outputs": [],
   "source": []
  },
  {
   "cell_type": "code",
   "execution_count": 95,
   "id": "df7ba721-f10e-4d88-9d6d-dc2a1f30c501",
   "metadata": {},
   "outputs": [],
   "source": [
    "import sys\n",
    "import re\n",
    "from collections import deque, Counter, defaultdict\n",
    "from pathlib import Path\n",
    "from pprint import pprint\n",
    "from functools import partial, lru_cache\n",
    "from itertools import product, combinations\n",
    "\n",
    "# Run with test data    -> python3 -m d#p#\n",
    "# Run with puzzle data  -> python3 -m d#p# X (any argument)\n",
    "\n",
    "def main(robots=25):\n",
    "\n",
    "    # Puzzle code\n",
    "    #----------------------------------------------------------------\n",
    "\n",
    "    # Setup lookup maps\n",
    "    codes = prod\n",
    "    numpad = {\n",
    "        \"A\": {\"0\": (\"<A\",),\n",
    "              \"1\": (\"<^<A\", \"^<<A\",),\n",
    "              \"2\": (\"<^A\", \"^<A\",),\n",
    "              \"3\": (\"^A\",),\n",
    "              \"4\": (\"<^<^A\", \"<^^<A\", \"^<<^A\", \"^<^<A\", \"^^<<A\",),\n",
    "              \"5\": (\"<^^A\", \"^<^A\", \"^^<A\",),\n",
    "              \"6\": (\"^^A\",),\n",
    "              \"7\": (\"<^<^^A\", \"<^^<^A\", \"<^^^<A\", \"^<<^^A\", \"^<^<^A\", \"^<^^<A\",\n",
    "                    \"^^<<^A\", \"^^<^<A\", \"^^^<<A\",),\n",
    "              \"8\": (\"<^^^A\", \"^<^^A\", \"^^<^A\", \"^^^<A\",),\n",
    "              \"9\": (\"^^^A\",)},\n",
    "        \"0\": {\"0\": (\"A\",),\n",
    "              \"1\": (\"^<A\",),\n",
    "              \"2\": (\"^A\",),\n",
    "              \"3\": (\"^>A\", \">^A\",),\n",
    "              \"4\": (\"^<^A\", \"^^<A\",),\n",
    "              \"5\": (\"^^A\",),\n",
    "              \"6\": (\"^^>A\", \"^>^A\", \">>^A\",),\n",
    "              \"7\": (\"^<^^A\", \"^^<^A\", \"^^^<A\",),\n",
    "              \"8\": (\"^^^A\",),\n",
    "              \"9\": (\"^^^>A\", \"^^>^A\", \"^>^^A\", \">^^^A\",)},\n",
    "        \"1\": {\"1\": (\"A\",),\n",
    "              \"2\": (\">A\",),\n",
    "              \"3\": (\">>A\",),\n",
    "              \"4\": (\"^A\",),\n",
    "              \"5\": (\"^>A\", \">^A\",),\n",
    "              \"6\": (\"^>>A\", \">^>A\", \">>^A\",),\n",
    "              \"7\": (\"^^A\",),\n",
    "              \"8\": (\"^^>A\", \"^>^A\", \">>^A\",),\n",
    "              \"9\": (\"^^>>A\", \"^>^>A\", \"^>>^A\", \">^^>A\", \">^>^A\", \">>^^A\",)},\n",
    "        \"2\": {\"2\": (\"A\",),\n",
    "              \"3\": (\">A\",),\n",
    "              \"4\": (\"<^A\", \"^<A\",),\n",
    "              \"5\": (\"^A\",),\n",
    "              \"6\": (\"^>A\", \">^A\",),\n",
    "              \"7\": (\"<^^A\", \"^<^A\", \"^^<A\",),\n",
    "              \"8\": (\"^^A\",),\n",
    "              \"9\": (\"^^>A\", \"^>^A\", \">^^A\",)},\n",
    "        \"3\": {\"3\": (\"A\",),\n",
    "              \"4\": (\"<<^A\", \"<^<A\", \"^<<A\",),\n",
    "              \"5\": (\"<^A\", \"^<A\",),\n",
    "              \"6\": (\"^A\",),\n",
    "              \"7\": (\"<<^^A\", \"<^<^A\", \"<^^<A\", \"^<<^A\", \"^<^<A\", \"^^<<A\",),\n",
    "              \"8\": (\"<^^A\", \"^<^A\", \"^^<A\",),\n",
    "              \"9\": (\"^^A\",)},\n",
    "        \"4\": {\"4\": (\"A\",),\n",
    "              \"5\": (\">A\",),\n",
    "              \"6\": (\">>A\",),\n",
    "              \"7\": (\"^A\",),\n",
    "              \"8\": (\"^>A\", \">^A\",),\n",
    "              \"9\": (\"^>>A\", \">^>A\", \">>^A\",)},\n",
    "        \"5\": {\"5\": (\"A\",),\n",
    "              \"6\": (\">A\",),\n",
    "              \"7\": (\"<^A\", \"^<A\",),\n",
    "              \"8\": (\"^A\",),\n",
    "              \"9\": (\"^>A\", \">^A\",)},\n",
    "        \"6\": {\"6\": (\"A\",),\n",
    "              \"7\": (\"<<^A\", \"<^<A\", \"^<<A\",),\n",
    "              \"8\": (\"<^A\", \"^<A\",),\n",
    "              \"9\": (\"^A\",)},\n",
    "        \"7\": {\"7\": (\"A\",),\n",
    "              \"8\": (\">A\",),\n",
    "              \"9\": (\">>A\",)},\n",
    "        \"8\": {\"8\": (\"A\",),\n",
    "              \"9\": (\">A\",)},\n",
    "        \"9\": {\"9\": (\"A\",),},\n",
    "    }\n",
    "\n",
    "    # Start recurseive search with memoization\n",
    "    human_at_level = robots + 1\n",
    "    ans = 0\n",
    "    for code in codes:\n",
    "        prev_button = \"A\"\n",
    "        final_length = 0\n",
    "        for next_button in code:\n",
    "            shortest_sequence = 10 ** 20\n",
    "            try:\n",
    "                possible_paths = numpad[prev_button][next_button]\n",
    "            except KeyError:\n",
    "                possible_paths = reverse_sequences(numpad[next_button][prev_button])    \n",
    "            for path in possible_paths:\n",
    "                shortest_sequence = min(shortest_sequence, find_shortest(path, robot_level=1, human_level=human_at_level))\n",
    "            final_length += shortest_sequence\n",
    "            prev_button = next_button\n",
    "\n",
    "        print(f\"{code} {final_length=}\")\n",
    "        ans += final_length * int(code[:-1])\n",
    "\n",
    "    print(f\"Ans: {ans}\")\n",
    "    # ans: 189235298434780\n",
    "\n",
    "@lru_cache\n",
    "def reverse_sequences(directions: tuple[str]) -> tuple[str]:\n",
    "    reversal_map = {\n",
    "        \"^\": \"v\",\n",
    "        \">\": \"<\",\n",
    "        \"v\": \"^\",\n",
    "        \"<\": \">\",\n",
    "    }\n",
    "    \n",
    "    reversed_possibilities = tuple()\n",
    "    for direction in directions:\n",
    "        rev = \"\"\n",
    "        for c in direction[-2::-1]:\n",
    "            rev += reversal_map[c]\n",
    "        reversed_possibilities += (rev+\"A\",)\n",
    "    return reversed_possibilities\n",
    "\n",
    "@lru_cache\n",
    "def find_shortest(path: str, robot_level: int, human_level: int) -> int:\n",
    "    if robot_level == human_level:\n",
    "        return len(path)\n",
    "\n",
    "    prev_button = \"A\"\n",
    "    final_length = 0\n",
    "    for next_button in path:\n",
    "        shortest_sequence = 10 ** 20\n",
    "        possible_paths = get_dirpad_paths(prev_button, next_button)\n",
    "   \n",
    "        for path in possible_paths:\n",
    "            shortest_sequence = min(shortest_sequence, find_shortest(path, robot_level=robot_level+1, human_level=human_level))\n",
    "        final_length += shortest_sequence\n",
    "        prev_button = next_button\n",
    "    return final_length\n",
    "\n",
    "@lru_cache\n",
    "def get_dirpad_paths(from_key: str, to_key: str) -> tuple[str]:\n",
    "    dirpad = {\n",
    "        \"A\": {\"A\": (\"A\",),\n",
    "              \"^\": (\"<A\",),\n",
    "              \"<\": (\"<v<A\", \"v<<A\",),\n",
    "              \"v\": (\"<vA\", \"v<A\",),\n",
    "              \">\": (\"vA\",)},\n",
    "        \"^\": {\"^\": (\"A\",),\n",
    "              \"<\": (\"v<A\",),\n",
    "              \"v\": (\"vA\",),\n",
    "              \">\": (\"v>A\", \">vA\",)},\n",
    "        \"<\": {\"<\": (\"A\",),\n",
    "              \"v\": (\">A\",),\n",
    "              \">\": (\">>A\",)},\n",
    "        \"v\": {\"v\": (\"A\",),\n",
    "              \">\": (\">A\",)},\n",
    "        \">\": {\">\": (\"A\",),},\n",
    "    }\n",
    "    try:\n",
    "        possible_paths = dirpad[from_key][to_key]\n",
    "    except KeyError:\n",
    "        possible_paths = reverse_sequences(dirpad[to_key][from_key])\n",
    "    return possible_paths\n",
    "\n",
    "\n",
    "\n"
   ]
  },
  {
   "cell_type": "code",
   "execution_count": 96,
   "id": "35c968b1-d9f4-4800-9a01-7e8085a71b34",
   "metadata": {},
   "outputs": [
    {
     "name": "stdout",
     "output_type": "stream",
     "text": [
      "140A final_length=87513499934\n",
      "143A final_length=89741193600\n",
      "349A final_length=87793663956\n",
      "582A final_length=86475783008\n",
      "964A final_length=85006969638\n",
      "Ans: 188000493837892\n"
     ]
    }
   ],
   "source": [
    "main()"
   ]
  },
  {
   "cell_type": "code",
   "execution_count": 104,
   "id": "18b03df6-9df3-4825-918f-cbbf1cce66c2",
   "metadata": {},
   "outputs": [
    {
     "name": "stdout",
     "output_type": "stream",
     "text": [
      "140A final_length=430\n",
      "143A final_length=442\n",
      "349A final_length=432\n",
      "582A final_length=424\n",
      "964A final_length=422\n",
      "Ans: 927750\n"
     ]
    }
   ],
   "source": [
    "main(4)"
   ]
  },
  {
   "cell_type": "code",
   "execution_count": 105,
   "id": "f5a5bfcc-6c64-4bd8-b0ea-0db59dd98f40",
   "metadata": {},
   "outputs": [
    {
     "name": "stdout",
     "output_type": "stream",
     "text": [
      "430 140\n",
      "442 143\n",
      "438 349\n",
      "424 582\n",
      "422 964\n"
     ]
    },
    {
     "data": {
      "text/plain": [
       "929844"
      ]
     },
     "execution_count": 105,
     "metadata": {},
     "output_type": "execute_result"
    }
   ],
   "source": [
    "\n",
    "part_two_complexity(prod,4)\n"
   ]
  },
  {
   "cell_type": "code",
   "execution_count": 94,
   "id": "ab125d13-514a-452c-9f91-b3d6e127280d",
   "metadata": {},
   "outputs": [
    {
     "data": {
      "text/plain": [
       "-26633399904580"
      ]
     },
     "execution_count": 94,
     "metadata": {},
     "output_type": "execute_result"
    }
   ],
   "source": [
    "188000493837892 -214633893742472"
   ]
  },
  {
   "cell_type": "code",
   "execution_count": null,
   "id": "8ec93733-9b9a-4699-9be8-6dd282453b9f",
   "metadata": {},
   "outputs": [],
   "source": []
  },
  {
   "cell_type": "code",
   "execution_count": 5,
   "id": "2434fced-2f95-4e01-b2e6-05ac69f262f6",
   "metadata": {},
   "outputs": [
    {
     "ename": "NameError",
     "evalue": "name 'complexity' is not defined",
     "output_type": "error",
     "traceback": [
      "\u001b[31m---------------------------------------------------------------------------\u001b[39m",
      "\u001b[31mNameError\u001b[39m                                 Traceback (most recent call last)",
      "\u001b[36mCell\u001b[39m\u001b[36m \u001b[39m\u001b[32mIn[5]\u001b[39m\u001b[32m, line 1\u001b[39m\n\u001b[32m----> \u001b[39m\u001b[32m1\u001b[39m \u001b[43mcomplexity\u001b[49m(prod,\u001b[32m25\u001b[39m)\n",
      "\u001b[31mNameError\u001b[39m: name 'complexity' is not defined"
     ]
    }
   ],
   "source": [
    "complexity(prod,25)"
   ]
  },
  {
   "cell_type": "code",
   "execution_count": null,
   "id": "0c3fc8ba-1f4d-4dad-aec1-99fcc35c3886",
   "metadata": {},
   "outputs": [],
   "source": []
  }
 ],
 "metadata": {
  "kernelspec": {
   "display_name": "py312",
   "language": "python",
   "name": "py312"
  },
  "language_info": {
   "codemirror_mode": {
    "name": "ipython",
    "version": 3
   },
   "file_extension": ".py",
   "mimetype": "text/x-python",
   "name": "python",
   "nbconvert_exporter": "python",
   "pygments_lexer": "ipython3",
   "version": "3.12.11"
  }
 },
 "nbformat": 4,
 "nbformat_minor": 5
}
