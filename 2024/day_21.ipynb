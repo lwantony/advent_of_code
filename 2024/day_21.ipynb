{
 "cells": [
  {
   "cell_type": "code",
   "execution_count": 1,
   "id": "2efe433c-ccbf-4b0a-8653-f0824059fd6f",
   "metadata": {
    "tags": []
   },
   "outputs": [],
   "source": [
    "from IPython.core.interactiveshell import InteractiveShell\n",
    "InteractiveShell.ast_node_interactivity = \"all\""
   ]
  },
  {
   "cell_type": "markdown",
   "id": "ff944d02-8a60-417e-888a-54e4e5141bbf",
   "metadata": {
    "tags": []
   },
   "source": [
    "# Part 1"
   ]
  },
  {
   "cell_type": "code",
   "execution_count": 2,
   "id": "656d644d-1a21-4ff3-b76f-e95b531a1bd3",
   "metadata": {},
   "outputs": [],
   "source": [
    "prod = ['140A',\n",
    "        '143A',\n",
    "        '349A',\n",
    "        '582A',\n",
    "        '964A',]"
   ]
  },
  {
   "cell_type": "code",
   "execution_count": 3,
   "id": "3a4b84ee-bf1b-4775-bbcb-cc702db75bc3",
   "metadata": {},
   "outputs": [],
   "source": [
    "test = ['029A',\n",
    "        '980A',\n",
    "        '179A',\n",
    "        '456A',\n",
    "        '379A',\n",
    "       ]"
   ]
  },
  {
   "cell_type": "code",
   "execution_count": 36,
   "id": "7fc2dde4-91fe-41a2-8602-a8a34f54cc4e",
   "metadata": {},
   "outputs": [],
   "source": [
    "from collections import deque\n",
    "\n",
    "# Numeric keypad layout\n",
    "NUM_POS = {\n",
    "    '7': (0,0), '8':(1,0), '9':(2,0),\n",
    "    '4': (0,1), '5':(1,1), '6':(2,1),\n",
    "    '1': (0,2), '2':(1,2), '3':(2,2),\n",
    "    '0': (1,3), 'A':(2,3),\n",
    "}\n",
    "# Directional keypad layout\n",
    "DIR_POS = {\n",
    "    '^': (1,0), 'A':(2,0),\n",
    "    '<': (0,1), 'v':(1,1), '>' :(2,1),\n",
    "}\n",
    "\n",
    "\n",
    "def check_grouped_button(path):\n",
    "    if path == '':\n",
    "        return True\n",
    "    for i,ic in enumerate(path[:-1]):\n",
    "        if ic != path[i+1] and path[i+1] in path[:i]:\n",
    "            return False\n",
    "    return True\n",
    "    \n",
    "def build_distances(pos_map):\n",
    "    dists = {}\n",
    "    for src in pos_map:\n",
    "        d = {}\n",
    "        dist_steps ={}\n",
    "        sx, sy = pos_map[src]\n",
    "        queue = deque([(sx, sy, \"\", 0)])\n",
    "        seen = {(sx, sy): 0}\n",
    "        while queue:\n",
    "            x, y, path,steps = queue.popleft()\n",
    "            \n",
    "            if (x,y) in pos_map.values():\n",
    "                tgt = next(k for k,v in pos_map.items() if v==(x,y))\n",
    "                if check_grouped_button(path):\n",
    "                    if tgt not in d.keys() or dist_steps[tgt] == steps:\n",
    "                        dist_steps[tgt] = steps\n",
    "                        try:\n",
    "                            d[tgt].append(path)\n",
    "                        except KeyError:\n",
    "                            d[tgt] = [path]\n",
    "                    \n",
    "            for move, (dx, dy) in {'<':(-1,0),'>':(1,0),'^':(0,-1),'v':(0,1)}.items():\n",
    "                nx, ny = x+dx, y+dy\n",
    "                new_steps = steps + 1\n",
    "                if (nx, ny) in pos_map.values() and ( (nx,ny) not in seen.keys() or new_steps <= seen[(nx,ny)] ):\n",
    "                    seen[(nx,ny)] = new_steps\n",
    "                    queue.append((nx, ny, path + move, new_steps))\n",
    "        dists[src] = d\n",
    "    return dists\n",
    "\n",
    "# Compute movement maps for both keypads\n",
    "NUM_PATHS = build_distances(NUM_POS)\n",
    "DIR_PATHS = build_distances(DIR_POS)\n",
    "\n",
    "# Compute Calculate Buttons necessary before\n",
    "def generate_generating_sequence(code, shortest_paths):\n",
    "    full_path = 'A'+code\n",
    "    upper_code = ''\n",
    "    for s,e in zip(full_path[:-1],full_path[1:]) :\n",
    "        upper_code = upper_code+shortest_paths[s][e]+'A'\n",
    "    return upper_code\n",
    "\n",
    "\n"
   ]
  },
  {
   "cell_type": "code",
   "execution_count": 37,
   "id": "e93cf819-099e-4784-b222-2c546e03ebf4",
   "metadata": {},
   "outputs": [],
   "source": [
    "def generate_generating_sequence(codes, shortest_paths):\n",
    "    upper_return=[]\n",
    "    for code in codes:\n",
    "        full_path = 'A' + code\n",
    "        upper_candidates = ['']\n",
    "        for s, e in zip(full_path[:-1], full_path[1:]):\n",
    "            candidates = shortest_paths[s][e]\n",
    "            next_candidates = []\n",
    "            for u in upper_candidates:\n",
    "                for c in candidates:\n",
    "                    next_candidates.append(u+c+'A')\n",
    "            upper_candidates = next_candidates.copy()\n",
    "    return upper_candidates"
   ]
  },
  {
   "cell_type": "code",
   "execution_count": 43,
   "id": "f09bdb35-4353-4ef4-911a-1bad7b077b9d",
   "metadata": {},
   "outputs": [],
   "source": [
    "def part_one_complexity(codes):\n",
    "    complexity=0\n",
    "    for code in codes:\n",
    "        r1 = generate_generating_sequence([code], NUM_PATHS)\n",
    "        r2 =  generate_generating_sequence(r1, DIR_PATHS)\n",
    "        person =  generate_generating_sequence(r2, DIR_PATHS)\n",
    "\n",
    "        shortest_dist = min([len(p) for p in person])\n",
    "\n",
    "        print(shortest_dist,int(code.strip('A')))\n",
    "        \n",
    "        complexity += shortest_dist*int(code.strip('A'))\n",
    "    print(person)\n",
    "    return complexity"
   ]
  },
  {
   "cell_type": "code",
   "execution_count": 44,
   "id": "c665d38a-4c25-440f-8e32-b7e9607e7617",
   "metadata": {},
   "outputs": [
    {
     "name": "stdout",
     "output_type": "stream",
     "text": [
      "68 29\n",
      "60 980\n",
      "68 179\n",
      "64 456\n",
      "68 379\n",
      "['v<<A>>^AvA^Av<<A>>^AA<vA<A>>^AAvAA<^A>A<vA>^AA<A>A<vA<A>>^AAA<A>vA^A', 'v<<A>>^AvA^Av<<A>>^AA<vA<A>>^AAvAA<^A>A<vA>^AA<A>A<vA<A>>^AAA<Av>A^A', 'v<<A>>^AvA^Av<<A>>^AA<vA<A>>^AAvAA<^A>A<vA>^AA<A>Av<A<A>>^AAA<A>vA^A', 'v<<A>>^AvA^Av<<A>>^AA<vA<A>>^AAvAA<^A>A<vA>^AA<A>Av<A<A>>^AAA<Av>A^A', 'v<<A>>^AvA^Av<<A>>^AA<vA<A>>^AAvAA<^A>A<vA^>AA<A>A<vA<A>>^AAA<A>vA^A', 'v<<A>>^AvA^Av<<A>>^AA<vA<A>>^AAvAA<^A>A<vA^>AA<A>A<vA<A>>^AAA<Av>A^A', 'v<<A>>^AvA^Av<<A>>^AA<vA<A>>^AAvAA<^A>A<vA^>AA<A>Av<A<A>>^AAA<A>vA^A', 'v<<A>>^AvA^Av<<A>>^AA<vA<A>>^AAvAA<^A>A<vA^>AA<A>Av<A<A>>^AAA<Av>A^A', 'v<<A>>^AvA^Av<<A>>^AA<vA<A>>^AAvAA<^A>Av<A>^AA<A>A<vA<A>>^AAA<A>vA^A', 'v<<A>>^AvA^Av<<A>>^AA<vA<A>>^AAvAA<^A>Av<A>^AA<A>A<vA<A>>^AAA<Av>A^A', 'v<<A>>^AvA^Av<<A>>^AA<vA<A>>^AAvAA<^A>Av<A>^AA<A>Av<A<A>>^AAA<A>vA^A', 'v<<A>>^AvA^Av<<A>>^AA<vA<A>>^AAvAA<^A>Av<A>^AA<A>Av<A<A>>^AAA<Av>A^A', 'v<<A>>^AvA^Av<<A>>^AA<vA<A>>^AAvAA<^A>Av<A^>AA<A>A<vA<A>>^AAA<A>vA^A', 'v<<A>>^AvA^Av<<A>>^AA<vA<A>>^AAvAA<^A>Av<A^>AA<A>A<vA<A>>^AAA<Av>A^A', 'v<<A>>^AvA^Av<<A>>^AA<vA<A>>^AAvAA<^A>Av<A^>AA<A>Av<A<A>>^AAA<A>vA^A', 'v<<A>>^AvA^Av<<A>>^AA<vA<A>>^AAvAA<^A>Av<A^>AA<A>Av<A<A>>^AAA<Av>A^A', 'v<<A>>^AvA^Av<<A>>^AA<vA<A>>^AAvAA^<A>A<vA>^AA<A>A<vA<A>>^AAA<A>vA^A', 'v<<A>>^AvA^Av<<A>>^AA<vA<A>>^AAvAA^<A>A<vA>^AA<A>A<vA<A>>^AAA<Av>A^A', 'v<<A>>^AvA^Av<<A>>^AA<vA<A>>^AAvAA^<A>A<vA>^AA<A>Av<A<A>>^AAA<A>vA^A', 'v<<A>>^AvA^Av<<A>>^AA<vA<A>>^AAvAA^<A>A<vA>^AA<A>Av<A<A>>^AAA<Av>A^A', 'v<<A>>^AvA^Av<<A>>^AA<vA<A>>^AAvAA^<A>A<vA^>AA<A>A<vA<A>>^AAA<A>vA^A', 'v<<A>>^AvA^Av<<A>>^AA<vA<A>>^AAvAA^<A>A<vA^>AA<A>A<vA<A>>^AAA<Av>A^A', 'v<<A>>^AvA^Av<<A>>^AA<vA<A>>^AAvAA^<A>A<vA^>AA<A>Av<A<A>>^AAA<A>vA^A', 'v<<A>>^AvA^Av<<A>>^AA<vA<A>>^AAvAA^<A>A<vA^>AA<A>Av<A<A>>^AAA<Av>A^A', 'v<<A>>^AvA^Av<<A>>^AA<vA<A>>^AAvAA^<A>Av<A>^AA<A>A<vA<A>>^AAA<A>vA^A', 'v<<A>>^AvA^Av<<A>>^AA<vA<A>>^AAvAA^<A>Av<A>^AA<A>A<vA<A>>^AAA<Av>A^A', 'v<<A>>^AvA^Av<<A>>^AA<vA<A>>^AAvAA^<A>Av<A>^AA<A>Av<A<A>>^AAA<A>vA^A', 'v<<A>>^AvA^Av<<A>>^AA<vA<A>>^AAvAA^<A>Av<A>^AA<A>Av<A<A>>^AAA<Av>A^A', 'v<<A>>^AvA^Av<<A>>^AA<vA<A>>^AAvAA^<A>Av<A^>AA<A>A<vA<A>>^AAA<A>vA^A', 'v<<A>>^AvA^Av<<A>>^AA<vA<A>>^AAvAA^<A>Av<A^>AA<A>A<vA<A>>^AAA<Av>A^A', 'v<<A>>^AvA^Av<<A>>^AA<vA<A>>^AAvAA^<A>Av<A^>AA<A>Av<A<A>>^AAA<A>vA^A', 'v<<A>>^AvA^Av<<A>>^AA<vA<A>>^AAvAA^<A>Av<A^>AA<A>Av<A<A>>^AAA<Av>A^A', 'v<<A>>^AvA^Av<<A>>^AAv<A<A>>^AAvAA<^A>A<vA>^AA<A>A<vA<A>>^AAA<A>vA^A', 'v<<A>>^AvA^Av<<A>>^AAv<A<A>>^AAvAA<^A>A<vA>^AA<A>A<vA<A>>^AAA<Av>A^A', 'v<<A>>^AvA^Av<<A>>^AAv<A<A>>^AAvAA<^A>A<vA>^AA<A>Av<A<A>>^AAA<A>vA^A', 'v<<A>>^AvA^Av<<A>>^AAv<A<A>>^AAvAA<^A>A<vA>^AA<A>Av<A<A>>^AAA<Av>A^A', 'v<<A>>^AvA^Av<<A>>^AAv<A<A>>^AAvAA<^A>A<vA^>AA<A>A<vA<A>>^AAA<A>vA^A', 'v<<A>>^AvA^Av<<A>>^AAv<A<A>>^AAvAA<^A>A<vA^>AA<A>A<vA<A>>^AAA<Av>A^A', 'v<<A>>^AvA^Av<<A>>^AAv<A<A>>^AAvAA<^A>A<vA^>AA<A>Av<A<A>>^AAA<A>vA^A', 'v<<A>>^AvA^Av<<A>>^AAv<A<A>>^AAvAA<^A>A<vA^>AA<A>Av<A<A>>^AAA<Av>A^A', 'v<<A>>^AvA^Av<<A>>^AAv<A<A>>^AAvAA<^A>Av<A>^AA<A>A<vA<A>>^AAA<A>vA^A', 'v<<A>>^AvA^Av<<A>>^AAv<A<A>>^AAvAA<^A>Av<A>^AA<A>A<vA<A>>^AAA<Av>A^A', 'v<<A>>^AvA^Av<<A>>^AAv<A<A>>^AAvAA<^A>Av<A>^AA<A>Av<A<A>>^AAA<A>vA^A', 'v<<A>>^AvA^Av<<A>>^AAv<A<A>>^AAvAA<^A>Av<A>^AA<A>Av<A<A>>^AAA<Av>A^A', 'v<<A>>^AvA^Av<<A>>^AAv<A<A>>^AAvAA<^A>Av<A^>AA<A>A<vA<A>>^AAA<A>vA^A', 'v<<A>>^AvA^Av<<A>>^AAv<A<A>>^AAvAA<^A>Av<A^>AA<A>A<vA<A>>^AAA<Av>A^A', 'v<<A>>^AvA^Av<<A>>^AAv<A<A>>^AAvAA<^A>Av<A^>AA<A>Av<A<A>>^AAA<A>vA^A', 'v<<A>>^AvA^Av<<A>>^AAv<A<A>>^AAvAA<^A>Av<A^>AA<A>Av<A<A>>^AAA<Av>A^A', 'v<<A>>^AvA^Av<<A>>^AAv<A<A>>^AAvAA^<A>A<vA>^AA<A>A<vA<A>>^AAA<A>vA^A', 'v<<A>>^AvA^Av<<A>>^AAv<A<A>>^AAvAA^<A>A<vA>^AA<A>A<vA<A>>^AAA<Av>A^A', 'v<<A>>^AvA^Av<<A>>^AAv<A<A>>^AAvAA^<A>A<vA>^AA<A>Av<A<A>>^AAA<A>vA^A', 'v<<A>>^AvA^Av<<A>>^AAv<A<A>>^AAvAA^<A>A<vA>^AA<A>Av<A<A>>^AAA<Av>A^A', 'v<<A>>^AvA^Av<<A>>^AAv<A<A>>^AAvAA^<A>A<vA^>AA<A>A<vA<A>>^AAA<A>vA^A', 'v<<A>>^AvA^Av<<A>>^AAv<A<A>>^AAvAA^<A>A<vA^>AA<A>A<vA<A>>^AAA<Av>A^A', 'v<<A>>^AvA^Av<<A>>^AAv<A<A>>^AAvAA^<A>A<vA^>AA<A>Av<A<A>>^AAA<A>vA^A', 'v<<A>>^AvA^Av<<A>>^AAv<A<A>>^AAvAA^<A>A<vA^>AA<A>Av<A<A>>^AAA<Av>A^A', 'v<<A>>^AvA^Av<<A>>^AAv<A<A>>^AAvAA^<A>Av<A>^AA<A>A<vA<A>>^AAA<A>vA^A', 'v<<A>>^AvA^Av<<A>>^AAv<A<A>>^AAvAA^<A>Av<A>^AA<A>A<vA<A>>^AAA<Av>A^A', 'v<<A>>^AvA^Av<<A>>^AAv<A<A>>^AAvAA^<A>Av<A>^AA<A>Av<A<A>>^AAA<A>vA^A', 'v<<A>>^AvA^Av<<A>>^AAv<A<A>>^AAvAA^<A>Av<A>^AA<A>Av<A<A>>^AAA<Av>A^A', 'v<<A>>^AvA^Av<<A>>^AAv<A<A>>^AAvAA^<A>Av<A^>AA<A>A<vA<A>>^AAA<A>vA^A', 'v<<A>>^AvA^Av<<A>>^AAv<A<A>>^AAvAA^<A>Av<A^>AA<A>A<vA<A>>^AAA<Av>A^A', 'v<<A>>^AvA^Av<<A>>^AAv<A<A>>^AAvAA^<A>Av<A^>AA<A>Av<A<A>>^AAA<A>vA^A', 'v<<A>>^AvA^Av<<A>>^AAv<A<A>>^AAvAA^<A>Av<A^>AA<A>Av<A<A>>^AAA<Av>A^A']\n",
      "CPU times: user 5.78 ms, sys: 173 μs, total: 5.95 ms\n",
      "Wall time: 5.94 ms\n"
     ]
    },
    {
     "data": {
      "text/plain": [
       "127900"
      ]
     },
     "execution_count": 44,
     "metadata": {},
     "output_type": "execute_result"
    }
   ],
   "source": [
    "%%time\n",
    "part_one_complexity(test)"
   ]
  },
  {
   "cell_type": "code",
   "execution_count": null,
   "id": "7765acbb-70af-464b-891d-609e8c2cf670",
   "metadata": {},
   "outputs": [],
   "source": []
  },
  {
   "cell_type": "code",
   "execution_count": 102,
   "id": "9d4ee011-96c4-4fc9-b265-4c526b807a2f",
   "metadata": {},
   "outputs": [
    {
     "data": {
      "text/plain": [
       "'v<<A>>^AvA^Av<<A>>^AAv<A<A>>^AAvAA^<A>Av<A^>AA<A>Av<A<A>>^AAA<Av>A^A'"
      ]
     },
     "execution_count": 102,
     "metadata": {},
     "output_type": "execute_result"
    },
    {
     "data": {
      "text/plain": [
       "'<v<A>>^AvA^Av< A<  AA>>^AAvA<^A>AAvA^A<vA>^AA<A>A<v<A>A>^AAAvA<^A>A'"
      ]
     },
     "execution_count": 102,
     "metadata": {},
     "output_type": "execute_result"
    }
   ],
   "source": [
    "'v<<A>>^AvA^Av<<A>>^AAv   <A<A>>^AAvAA^<A>Av<A^>AA<A>Av<A<A>>^AAA<Av>A^A'\n",
    "'<v<A>>^AvA^Av< A<  AA>>^AAvA<^A>AAvA^A<vA>^AA<A>A<v<A>A>^AAAvA<^A>A'"
   ]
  },
  {
   "cell_type": "code",
   "execution_count": 13,
   "id": "33b68457-b511-4b32-87eb-b8f683593d3e",
   "metadata": {},
   "outputs": [
    {
     "data": {
      "text/plain": [
       "28"
      ]
     },
     "execution_count": 13,
     "metadata": {},
     "output_type": "execute_result"
    },
    {
     "data": {
      "text/plain": [
       "28"
      ]
     },
     "execution_count": 13,
     "metadata": {},
     "output_type": "execute_result"
    }
   ],
   "source": [
    "'v<<A>>^AvA^Av<<A>>^AAv   <A<A>>^AAvAA^<A>Av<A^>AA<A>Av<A<A>>^AAA<Av>A^A'.count('A')\n",
    "'<v<A>>^AvA^Av< A<  AA>>^AAvA<^A>AAvA^A<vA>^AA<A>A<v<A>A>^AAAvA<^A>A'.count('A')"
   ]
  },
  {
   "cell_type": "code",
   "execution_count": 67,
   "id": "8d5f1cea-87ff-4338-8785-99a9c3ece04f",
   "metadata": {},
   "outputs": [
    {
     "name": "stdout",
     "output_type": "stream",
     "text": [
      "70 140\n",
      "72 143\n",
      "76 349\n",
      "72 582\n",
      "72 964\n",
      "CPU times: user 302 μs, sys: 12 μs, total: 314 μs\n",
      "Wall time: 316 μs\n"
     ]
    },
    {
     "data": {
      "text/plain": [
       "157932"
      ]
     },
     "execution_count": 67,
     "metadata": {},
     "output_type": "execute_result"
    }
   ],
   "source": [
    "%%time\n",
    "part_one_complexity(prod)"
   ]
  },
  {
   "cell_type": "markdown",
   "id": "fb57e954-d588-406e-9c3c-6d012b1abc0e",
   "metadata": {
    "tags": []
   },
   "source": [
    "# Part 2"
   ]
  },
  {
   "cell_type": "code",
   "execution_count": 40,
   "id": "db176797-6077-4f39-a884-640820623fb9",
   "metadata": {},
   "outputs": [],
   "source": [
    "def simulate_robot_layer_output(code_sequence, keypad_layout, start='A'):\n",
    "    # Build reverse map from position to key\n",
    "    pos_to_key = {v: k for k, v in keypad_layout.items()}\n",
    "    x, y = keypad_layout[start]\n",
    "    output = ''\n",
    "    for ch in code_sequence:\n",
    "        if ch in {'<', '>', '^', 'v'}:\n",
    "            dx, dy = {'<': (-1, 0), '>': (1, 0), '^': (0, -1), 'v': (0, 1)}[ch]\n",
    "            nx, ny = x + dx, y + dy\n",
    "            if (nx, ny) in pos_to_key:\n",
    "                x, y = nx, ny\n",
    "            else:\n",
    "                raise ValueError(f\"Invalid move {ch} from position {(x, y)}\")\n",
    "        elif ch == 'A':\n",
    "            output += pos_to_key[(x, y)]\n",
    "        else:\n",
    "            raise ValueError(f\"Invalid input character: {ch}\")\n",
    "    return output\n"
   ]
  },
  {
   "cell_type": "code",
   "execution_count": 42,
   "id": "ceb18b1f-7c76-43ab-99a6-45daf7868ddf",
   "metadata": {},
   "outputs": [
    {
     "data": {
      "text/plain": [
       "'<A>Av<<AA>^AA>AvAA^A<vAAA>^A'"
      ]
     },
     "execution_count": 42,
     "metadata": {},
     "output_type": "execute_result"
    }
   ],
   "source": [
    "simulate_robot_layer_output('<v<A>>^AvA^A<vA<AA>>^AAvA<^A>AAvA^A<vA>^AA<A>A<v<A>A>^AAAvA<^A>A', DIR_POS)"
   ]
  },
  {
   "cell_type": "code",
   "execution_count": 45,
   "id": "2f875b8c-a0b1-4f87-bb08-05377dfff569",
   "metadata": {},
   "outputs": [
    {
     "data": {
      "text/plain": [
       "'<A>A<AAv<AA>>^AvAA^Av<AAA^>A'"
      ]
     },
     "execution_count": 45,
     "metadata": {},
     "output_type": "execute_result"
    }
   ],
   "source": [
    "simulate_robot_layer_output('v<<A>>^AvA^Av<<A>>^AA<vA<A>>^AAvAA<^A>A<vA>^AA<A>A<vA<A>>^AAA<A>vA^A', DIR_POS)"
   ]
  },
  {
   "cell_type": "code",
   "execution_count": 59,
   "id": "49038a2d-428c-4780-8a30-3de14c71765c",
   "metadata": {},
   "outputs": [
    {
     "name": "stdout",
     "output_type": "stream",
     "text": [
      "64 <v<A>>^AvA^A<vA<AA>>^AAvA<^A>AAvA^A<vA>^AA<A>A<v<A>A>^AAAvA<^A>A\n",
      "28 <A>Av<<AA>^AA>AvAA^A<vAAA>^A\n",
      "14 ^A<<^^A>>AvvvA\n"
     ]
    },
    {
     "data": {
      "text/plain": [
       "'379A'"
      ]
     },
     "execution_count": 59,
     "metadata": {},
     "output_type": "execute_result"
    }
   ],
   "source": [
    "start='<v<A>>^AvA^A<vA<AA>>^AAvA<^A>AAvA^A<vA>^AA<A>A<v<A>A>^AAAvA<^A>A'\n",
    "print(len(start), start)\n",
    "tmp = simulate_robot_layer_output(start, DIR_POS)\n",
    "print(len(tmp), tmp)\n",
    "tmp = simulate_robot_layer_output(tmp, DIR_POS)\n",
    "print(len(tmp), tmp)\n",
    "simulate_robot_layer_output(tmp, NUM_POS)"
   ]
  },
  {
   "cell_type": "code",
   "execution_count": 60,
   "id": "1660dfb2-d4c3-46b0-ace5-2b368eedc6f6",
   "metadata": {},
   "outputs": [
    {
     "name": "stdout",
     "output_type": "stream",
     "text": [
      "68 v<<A>>^AvA^Av<<A>>^AA<vA<A>>^AAvAA<^A>A<vA>^AA<A>A<vA<A>>^AAA<A>vA^A\n",
      "28 <A>A<AAv<AA>>^AvAA^Av<AAA^>A\n",
      "14 ^A^^<<A>>AvvvA\n"
     ]
    },
    {
     "data": {
      "text/plain": [
       "'379A'"
      ]
     },
     "execution_count": 60,
     "metadata": {},
     "output_type": "execute_result"
    }
   ],
   "source": [
    "start='v<<A>>^AvA^Av<<A>>^AA<vA<A>>^AAvAA<^A>A<vA>^AA<A>A<vA<A>>^AAA<A>vA^A'\n",
    "print(len(start), start)\n",
    "tmp = simulate_robot_layer_output('v<<A>>^AvA^Av<<A>>^AA<vA<A>>^AAvAA<^A>A<vA>^AA<A>A<vA<A>>^AAA<A>vA^A', DIR_POS)\n",
    "print(len(tmp), tmp)\n",
    "tmp = simulate_robot_layer_output(tmp, DIR_POS)\n",
    "print(len(tmp), tmp)\n",
    "simulate_robot_layer_output(tmp, NUM_POS)"
   ]
  },
  {
   "cell_type": "code",
   "execution_count": null,
   "id": "46474bfc-8fd0-44b1-9507-776dd5d38d54",
   "metadata": {},
   "outputs": [],
   "source": [
    "<A>A<AAv<AA>>^AvAA^Av<AAA^>A\n",
    "<A>Av<<AA>^AA>AvAA^A<vAAA>^A"
   ]
  }
 ],
 "metadata": {
  "kernelspec": {
   "display_name": "py312",
   "language": "python",
   "name": "py312"
  },
  "language_info": {
   "codemirror_mode": {
    "name": "ipython",
    "version": 3
   },
   "file_extension": ".py",
   "mimetype": "text/x-python",
   "name": "python",
   "nbconvert_exporter": "python",
   "pygments_lexer": "ipython3",
   "version": "3.12.11"
  }
 },
 "nbformat": 4,
 "nbformat_minor": 5
}
