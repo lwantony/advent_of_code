{
 "cells": [
  {
   "cell_type": "code",
   "execution_count": 1,
   "id": "2efe433c-ccbf-4b0a-8653-f0824059fd6f",
   "metadata": {
    "tags": []
   },
   "outputs": [],
   "source": [
    "from IPython.core.interactiveshell import InteractiveShell\n",
    "InteractiveShell.ast_node_interactivity = \"all\""
   ]
  },
  {
   "cell_type": "markdown",
   "id": "ff944d02-8a60-417e-888a-54e4e5141bbf",
   "metadata": {
    "tags": []
   },
   "source": [
    "# Part 1"
   ]
  },
  {
   "cell_type": "code",
   "execution_count": 2,
   "id": "656d644d-1a21-4ff3-b76f-e95b531a1bd3",
   "metadata": {},
   "outputs": [],
   "source": [
    "prod = ['140A',\n",
    "        '143A',\n",
    "        '349A',\n",
    "        '582A',\n",
    "        '964A',]"
   ]
  },
  {
   "cell_type": "code",
   "execution_count": 3,
   "id": "3a4b84ee-bf1b-4775-bbcb-cc702db75bc3",
   "metadata": {},
   "outputs": [],
   "source": [
    "test = ['029A',\n",
    "        '980A',\n",
    "        '179A',\n",
    "        '456A',\n",
    "        '379A',\n",
    "       ]"
   ]
  },
  {
   "cell_type": "code",
   "execution_count": 11,
   "id": "7fc2dde4-91fe-41a2-8602-a8a34f54cc4e",
   "metadata": {},
   "outputs": [],
   "source": [
    "from collections import deque\n",
    "from functools import cache, lru_cache\n",
    "\n",
    "# Numeric keypad layout\n",
    "NUM_POS = {\n",
    "    '7': (0,0), '8':(1,0), '9':(2,0),\n",
    "    '4': (0,1), '5':(1,1), '6':(2,1),\n",
    "    '1': (0,2), '2':(1,2), '3':(2,2),\n",
    "    '0': (1,3), 'A':(2,3),\n",
    "}\n",
    "# Directional keypad layout\n",
    "DIR_POS = {\n",
    "    '^': (1,0), 'A':(2,0),\n",
    "    '<': (0,1), 'v':(1,1), '>' :(2,1),\n",
    "}\n",
    "\n",
    "\n",
    "def check_grouped_button(path):\n",
    "    if path == '':\n",
    "        return True\n",
    "    for i,ic in enumerate(path[:-1]):\n",
    "        if ic != path[i+1] and path[i+1] in path[:i]:\n",
    "            return False\n",
    "    return True\n",
    "    \n",
    "def build_distances(pos_map):\n",
    "    dists = {}\n",
    "    for src in pos_map:\n",
    "        d = {}\n",
    "        dist_steps ={}\n",
    "        sx, sy = pos_map[src]\n",
    "        queue = deque([(sx, sy, \"\", 0)])\n",
    "        seen = {(sx, sy): 0}\n",
    "        while queue:\n",
    "            x, y, path,steps = queue.popleft()\n",
    "            \n",
    "            if (x,y) in pos_map.values():\n",
    "                tgt = next(k for k,v in pos_map.items() if v==(x,y))\n",
    "                if check_grouped_button(path):\n",
    "                    if tgt not in d.keys() or dist_steps[tgt] == steps:\n",
    "                        dist_steps[tgt] = steps\n",
    "                        try:\n",
    "                            d[tgt].append(path)\n",
    "                        except KeyError:\n",
    "                            d[tgt] = [path]\n",
    "                    \n",
    "            for move, (dx, dy) in {'<':(-1,0),'>':(1,0),'^':(0,-1),'v':(0,1)}.items():\n",
    "                nx, ny = x+dx, y+dy\n",
    "                new_steps = steps + 1\n",
    "                if (nx, ny) in pos_map.values() and ( (nx,ny) not in seen.keys() or new_steps <= seen[(nx,ny)] ):\n",
    "                    seen[(nx,ny)] = new_steps\n",
    "                    queue.append((nx, ny, path + move, new_steps))\n",
    "        dists[src] = d\n",
    "    return dists\n",
    "\n",
    "# Compute movement maps for both keypads\n",
    "NUM_PATHS = build_distances(NUM_POS)\n",
    "DIR_PATHS = build_distances(DIR_POS)\n",
    "\n",
    "\n",
    "#### Clean up for optimal orientation\n",
    "def select_optimal_path(paths): \n",
    "    single_paths ={}\n",
    "    for s, end in paths.items():\n",
    "        new_end={}\n",
    "        for e, path in end.items():\n",
    "            if len(path) == 2:\n",
    "                if path[0].endswith('^'):\n",
    "                    new_end[e] = path[0]\n",
    "                elif path[1].endswith('>'):\n",
    "                    new_end[e] = path[1]\n",
    "                elif path[0].startswith('<'):\n",
    "                    new_end[e] = path[0]\n",
    "                elif path[1].startswith('<'):\n",
    "                    new_end[e] = path[1]\n",
    "                else:\n",
    "                    new_end[e] = path[1]\n",
    "            else:\n",
    "                new_end[e] = path[0]\n",
    "        single_paths[s] = new_end\n",
    "    return single_paths\n",
    "DIR_PATHS = select_optimal_path(DIR_PATHS)\n",
    "NUM_PATHS = select_optimal_path(NUM_PATHS)\n",
    "\n",
    "# Compute Calculate Buttons necessary before\n",
    "\n",
    "@cache\n",
    "def generate_upper_sequence(code, numbers=False):\n",
    "    shortest_paths = NUM_PATHS if numbers else DIR_PATHS\n",
    "    upper_return=[]\n",
    "        \n",
    "    full_path = 'A' + code\n",
    "    upper_candidate = ''\n",
    "    for s, e in zip(full_path[:-1], full_path[1:]):\n",
    "        upper_candidate = upper_candidate+shortest_paths[s][e]+'A'\n",
    "    return upper_candidate"
   ]
  },
  {
   "cell_type": "code",
   "execution_count": 12,
   "id": "f09bdb35-4353-4ef4-911a-1bad7b077b9d",
   "metadata": {},
   "outputs": [],
   "source": [
    "def part_one_complexity(codes):\n",
    "    complexity=0\n",
    "    for code in codes:\n",
    "        r1 = generate_upper_sequence(code, True)\n",
    "        r2 =  generate_upper_sequence(r1)\n",
    "        person =  generate_upper_sequence(r2)\n",
    "\n",
    "        shortest_dist = len(person)\n",
    "\n",
    "        print(shortest_dist,int(code.strip('A')))\n",
    "        \n",
    "        complexity += shortest_dist*int(code.strip('A'))\n",
    "    return complexity"
   ]
  },
  {
   "cell_type": "code",
   "execution_count": 13,
   "id": "c665d38a-4c25-440f-8e32-b7e9607e7617",
   "metadata": {
    "scrolled": true
   },
   "outputs": [
    {
     "name": "stdout",
     "output_type": "stream",
     "text": [
      "68 29\n",
      "60 980\n",
      "68 179\n",
      "64 456\n",
      "64 379\n",
      "CPU times: user 820 μs, sys: 391 μs, total: 1.21 ms\n",
      "Wall time: 897 μs\n"
     ]
    },
    {
     "data": {
      "text/plain": [
       "126384"
      ]
     },
     "execution_count": 13,
     "metadata": {},
     "output_type": "execute_result"
    }
   ],
   "source": [
    "%%time\n",
    "part_one_complexity(test)"
   ]
  },
  {
   "cell_type": "code",
   "execution_count": 7,
   "id": "7776ee23-3ba1-42ff-8b83-87191c02e4ad",
   "metadata": {},
   "outputs": [
    {
     "name": "stdout",
     "output_type": "stream",
     "text": [
      "70 140\n",
      "72 143\n",
      "72 349\n",
      "68 582\n",
      "72 964\n",
      "CPU times: user 294 μs, sys: 8 μs, total: 302 μs\n",
      "Wall time: 301 μs\n"
     ]
    },
    {
     "data": {
      "text/plain": [
       "154208"
      ]
     },
     "execution_count": 7,
     "metadata": {},
     "output_type": "execute_result"
    }
   ],
   "source": [
    "%%time\n",
    "part_one_complexity(prod)"
   ]
  },
  {
   "cell_type": "markdown",
   "id": "fb57e954-d588-406e-9c3c-6d012b1abc0e",
   "metadata": {
    "tags": []
   },
   "source": [
    "# Part 2"
   ]
  },
  {
   "cell_type": "code",
   "execution_count": 17,
   "id": "99d97113-6121-45fb-9c15-17dd7110e670",
   "metadata": {},
   "outputs": [],
   "source": [
    "def find(string, char):\n",
    "    return [i for i, ltr in enumerate(string) if ltr == char]\n",
    "    \n",
    "def chunk_string(code):\n",
    "    longer = 'A'+code\n",
    "    alocs = find(longer,'A')\n",
    "    upper=''\n",
    "    for i,j in zip( alocs, alocs[1:]):\n",
    "        upper = upper + generate_upper_sequence(longer[i+1: j+1])\n",
    "    return upper \n",
    "\n",
    "\n",
    "#seen_code = {}\n",
    "@cache\n",
    "def recurse_segment(code: str, depth: int) -> str:\n",
    "    \"\"\"\n",
    "    Recursively builds all possible minimal-length input sequences\n",
    "    needed at layer `depth` to produce `code` at the bottom.\n",
    "    \"\"\"\n",
    "    \n",
    "    longer = 'A'+code\n",
    "    alocs = find(longer,'A')\n",
    "\n",
    "    total_len=0\n",
    "    if depth == 0 : \n",
    "        for i,j in zip( alocs, alocs[1:]):\n",
    "            lower_code = longer[i+1: j+1]\n",
    "            next_seg =  generate_upper_sequence(lower_code) \n",
    "            total_len += len(next_seg)\n",
    "        return total_len\n",
    "        \n",
    "    for i,j in zip( alocs, alocs[1:]):\n",
    "        lower_code = longer[i+1: j+1]\n",
    "        key = (lower_code, depth)\n",
    "        \n",
    "        next_seg =  generate_upper_sequence(lower_code) \n",
    "        \n",
    "        total_len += recurse_segment(next_seg, depth-1)\n",
    "    return total_len\n",
    "    \n"
   ]
  },
  {
   "cell_type": "code",
   "execution_count": 20,
   "id": "a3fd8397-b7b7-4c20-a5e0-a29c76375d4f",
   "metadata": {},
   "outputs": [],
   "source": [
    "def part_two_complexity(codes, nrobots=25):\n",
    "    complexity = 0\n",
    "    for code in codes:\n",
    "        # Clean and format the code\n",
    "        clean_code = code.strip()\n",
    "        if not clean_code.endswith('A'):\n",
    "            clean_code += 'A'\n",
    "\n",
    "        r1 = generate_upper_sequence(code, True)\n",
    "        path_length =recurse_segment(r1, nrobots-1)\n",
    "\n",
    "        print(path_length,int(code.strip('A')))\n",
    "        \n",
    "        complexity += path_length*int(code.strip('A'))\n",
    "    return complexity\n"
   ]
  },
  {
   "cell_type": "code",
   "execution_count": 21,
   "id": "8df1d011-c625-469c-aeb3-02d09ffcfd15",
   "metadata": {},
   "outputs": [
    {
     "name": "stdout",
     "output_type": "stream",
     "text": [
      "68 29\n",
      "60 980\n",
      "68 179\n",
      "64 456\n",
      "64 379\n",
      "CPU times: user 564 μs, sys: 18 μs, total: 582 μs\n",
      "Wall time: 577 μs\n"
     ]
    },
    {
     "data": {
      "text/plain": [
       "126384"
      ]
     },
     "execution_count": 21,
     "metadata": {},
     "output_type": "execute_result"
    }
   ],
   "source": [
    "%%time\n",
    "part_two_complexity(test,2)"
   ]
  },
  {
   "cell_type": "code",
   "execution_count": 26,
   "id": "9379e4a0-1c60-4404-b33c-6fdea7aadaa9",
   "metadata": {},
   "outputs": [
    {
     "name": "stdout",
     "output_type": "stream",
     "text": [
      "99333974668 140\n",
      "101779364540 143\n",
      "101257214304 349\n",
      "98217357614 582\n",
      "97169520992 964\n",
      "CPU times: user 202 μs, sys: 8 μs, total: 210 μs\n",
      "Wall time: 209 μs\n"
     ]
    },
    {
     "data": {
      "text/plain": [
       "214633893742472"
      ]
     },
     "execution_count": 26,
     "metadata": {},
     "output_type": "execute_result"
    }
   ],
   "source": [
    "%%time\n",
    "part_two_complexity(prod,25)"
   ]
  },
  {
   "cell_type": "code",
   "execution_count": null,
   "id": "b176e921-efbe-4aeb-8bdf-1ca6dea2be99",
   "metadata": {},
   "outputs": [],
   "source": []
  },
  {
   "cell_type": "code",
   "execution_count": null,
   "id": "9e7753ae-a02d-4fad-81cd-e0d2c6e46221",
   "metadata": {},
   "outputs": [],
   "source": []
  },
  {
   "cell_type": "code",
   "execution_count": null,
   "id": "877e0c45-b877-45e1-8ccb-7f9f69d3cd45",
   "metadata": {},
   "outputs": [],
   "source": []
  },
  {
   "cell_type": "code",
   "execution_count": null,
   "id": "09e881a7-90cb-452a-90bc-ee736dc2e1bd",
   "metadata": {},
   "outputs": [],
   "source": []
  },
  {
   "cell_type": "code",
   "execution_count": 40,
   "id": "db176797-6077-4f39-a884-640820623fb9",
   "metadata": {},
   "outputs": [],
   "source": [
    "def simulate_robot_layer_output(code_sequence, keypad_layout, start='A'):\n",
    "    # Build reverse map from position to key\n",
    "    pos_to_key = {v: k for k, v in keypad_layout.items()}\n",
    "    x, y = keypad_layout[start]\n",
    "    output = ''\n",
    "    for ch in code_sequence:\n",
    "        if ch in {'<', '>', '^', 'v'}:\n",
    "            dx, dy = {'<': (-1, 0), '>': (1, 0), '^': (0, -1), 'v': (0, 1)}[ch]\n",
    "            nx, ny = x + dx, y + dy\n",
    "            if (nx, ny) in pos_to_key:\n",
    "                x, y = nx, ny\n",
    "            else:\n",
    "                raise ValueError(f\"Invalid move {ch} from position {(x, y)}\")\n",
    "        elif ch == 'A':\n",
    "            output += pos_to_key[(x, y)]\n",
    "        else:\n",
    "            raise ValueError(f\"Invalid input character: {ch}\")\n",
    "    return output\n"
   ]
  },
  {
   "cell_type": "code",
   "execution_count": 42,
   "id": "ceb18b1f-7c76-43ab-99a6-45daf7868ddf",
   "metadata": {},
   "outputs": [
    {
     "data": {
      "text/plain": [
       "'<A>Av<<AA>^AA>AvAA^A<vAAA>^A'"
      ]
     },
     "execution_count": 42,
     "metadata": {},
     "output_type": "execute_result"
    }
   ],
   "source": [
    "simulate_robot_layer_output('<v<A>>^AvA^A<vA<AA>>^AAvA<^A>AAvA^A<vA>^AA<A>A<v<A>A>^AAAvA<^A>A', DIR_POS)"
   ]
  },
  {
   "cell_type": "code",
   "execution_count": 45,
   "id": "2f875b8c-a0b1-4f87-bb08-05377dfff569",
   "metadata": {},
   "outputs": [
    {
     "data": {
      "text/plain": [
       "'<A>A<AAv<AA>>^AvAA^Av<AAA^>A'"
      ]
     },
     "execution_count": 45,
     "metadata": {},
     "output_type": "execute_result"
    }
   ],
   "source": [
    "simulate_robot_layer_output('v<<A>>^AvA^Av<<A>>^AA<vA<A>>^AAvAA<^A>A<vA>^AA<A>A<vA<A>>^AAA<A>vA^A', DIR_POS)"
   ]
  },
  {
   "cell_type": "code",
   "execution_count": 59,
   "id": "49038a2d-428c-4780-8a30-3de14c71765c",
   "metadata": {},
   "outputs": [
    {
     "name": "stdout",
     "output_type": "stream",
     "text": [
      "64 <v<A>>^AvA^A<vA<AA>>^AAvA<^A>AAvA^A<vA>^AA<A>A<v<A>A>^AAAvA<^A>A\n",
      "28 <A>Av<<AA>^AA>AvAA^A<vAAA>^A\n",
      "14 ^A<<^^A>>AvvvA\n"
     ]
    },
    {
     "data": {
      "text/plain": [
       "'379A'"
      ]
     },
     "execution_count": 59,
     "metadata": {},
     "output_type": "execute_result"
    }
   ],
   "source": [
    "start='<v<A>>^AvA^A<vA<AA>>^AAvA<^A>AAvA^A<vA>^AA<A>A<v<A>A>^AAAvA<^A>A'\n",
    "print(len(start), start)\n",
    "tmp = simulate_robot_layer_output(start, DIR_POS)\n",
    "print(len(tmp), tmp)\n",
    "tmp = simulate_robot_layer_output(tmp, DIR_POS)\n",
    "print(len(tmp), tmp)\n",
    "simulate_robot_layer_output(tmp, NUM_POS)"
   ]
  },
  {
   "cell_type": "code",
   "execution_count": 60,
   "id": "1660dfb2-d4c3-46b0-ace5-2b368eedc6f6",
   "metadata": {},
   "outputs": [
    {
     "name": "stdout",
     "output_type": "stream",
     "text": [
      "68 v<<A>>^AvA^Av<<A>>^AA<vA<A>>^AAvAA<^A>A<vA>^AA<A>A<vA<A>>^AAA<A>vA^A\n",
      "28 <A>A<AAv<AA>>^AvAA^Av<AAA^>A\n",
      "14 ^A^^<<A>>AvvvA\n"
     ]
    },
    {
     "data": {
      "text/plain": [
       "'379A'"
      ]
     },
     "execution_count": 60,
     "metadata": {},
     "output_type": "execute_result"
    }
   ],
   "source": [
    "start='v<<A>>^AvA^Av<<A>>^AA<vA<A>>^AAvAA<^A>A<vA>^AA<A>A<vA<A>>^AAA<A>vA^A'\n",
    "print(len(start), start)\n",
    "tmp = simulate_robot_layer_output('v<<A>>^AvA^Av<<A>>^AA<vA<A>>^AAvAA<^A>A<vA>^AA<A>A<vA<A>>^AAA<A>vA^A', DIR_POS)\n",
    "print(len(tmp), tmp)\n",
    "tmp = simulate_robot_layer_output(tmp, DIR_POS)\n",
    "print(len(tmp), tmp)\n",
    "simulate_robot_layer_output(tmp, NUM_POS)"
   ]
  }
 ],
 "metadata": {
  "kernelspec": {
   "display_name": "py312",
   "language": "python",
   "name": "py312"
  },
  "language_info": {
   "codemirror_mode": {
    "name": "ipython",
    "version": 3
   },
   "file_extension": ".py",
   "mimetype": "text/x-python",
   "name": "python",
   "nbconvert_exporter": "python",
   "pygments_lexer": "ipython3",
   "version": "3.12.11"
  }
 },
 "nbformat": 4,
 "nbformat_minor": 5
}
