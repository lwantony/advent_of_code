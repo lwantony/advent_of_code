{
 "cells": [
  {
   "cell_type": "code",
   "execution_count": 1,
   "id": "e3d20939-f0c4-489c-90a1-f93792cd88f1",
   "metadata": {},
   "outputs": [],
   "source": [
    "from IPython.core.interactiveshell import InteractiveShell\n",
    "InteractiveShell.ast_node_interactivity = \"all\""
   ]
  },
  {
   "cell_type": "markdown",
   "id": "9a5481ea-f123-478e-8d25-ab6e742f4c15",
   "metadata": {},
   "source": [
    "# Part 1"
   ]
  },
  {
   "cell_type": "code",
   "execution_count": 19,
   "id": "0a1c0eab-da88-4c3b-a250-65f7fa595fa2",
   "metadata": {},
   "outputs": [],
   "source": [
    "def read_file(path):\n",
    "    pairings=[] \n",
    "    print_orders=[]\n",
    "    read_pairings=True\n",
    "    \n",
    "    with open(path,'r') as f:\n",
    "        for line in f.readlines():\n",
    "            line=line.strip()\n",
    "            if len(line) ==0:\n",
    "                read_pairings = False\n",
    "                continue\n",
    "            if read_pairings:\n",
    "                pairings.append(tuple([int(x) for x in line.split('|')]))\n",
    "            else:\n",
    "                print_orders.append([int(x) for x in line.split(',')])\n",
    "                \n",
    "    return set(pairings), print_orders\n",
    "\n",
    "def is_right_order(job, pairings):\n",
    "    for i, inum in enumerate(job[:-1]):\n",
    "        for jnum in job[i+1:]:\n",
    "            if (jnum, inum) in pairings:\n",
    "                return False\n",
    "    return True\n",
    "\n",
    "    \n",
    "def add_middle(jobs):\n",
    "    return sum([ j[len(j)//2] for j in jobs])"
   ]
  },
  {
   "cell_type": "code",
   "execution_count": 20,
   "id": "a3e4895c-af73-4383-86e4-67e67a1d4879",
   "metadata": {},
   "outputs": [],
   "source": [
    "def part_one(path='input_data/test_05.txt'):\n",
    "    pairings, print_orders = read_file(path)\n",
    "    good=[ p for p in print_orders if is_right_order(p, pairings) ]\n",
    "    \n",
    "    return add_middle(good)"
   ]
  },
  {
   "cell_type": "code",
   "execution_count": 21,
   "id": "a86ec43c-4925-4c8f-8496-00676b526abc",
   "metadata": {},
   "outputs": [
    {
     "data": {
      "text/plain": [
       "143"
      ]
     },
     "execution_count": 21,
     "metadata": {},
     "output_type": "execute_result"
    }
   ],
   "source": [
    "part_one()"
   ]
  },
  {
   "cell_type": "code",
   "execution_count": 22,
   "id": "e19b636d-cc7a-4c30-b0a2-60b3d4453964",
   "metadata": {},
   "outputs": [
    {
     "data": {
      "text/plain": [
       "4637"
      ]
     },
     "execution_count": 22,
     "metadata": {},
     "output_type": "execute_result"
    }
   ],
   "source": [
    "part_one('input_data/day_05.txt')"
   ]
  },
  {
   "cell_type": "markdown",
   "id": "667d5c9d-9bce-4c19-bb89-41c65f305543",
   "metadata": {},
   "source": [
    "# Part 2"
   ]
  },
  {
   "cell_type": "code",
   "execution_count": 33,
   "id": "af272507-8f93-401e-8667-341ffd5c597b",
   "metadata": {},
   "outputs": [],
   "source": [
    "def fix_bad(job, pairings):\n",
    "    new_job = job.copy()\n",
    "    for i, inum in enumerate(job[:-1]):\n",
    "        for j, jnum in enumerate(job[i+1:]):\n",
    "            if (jnum, inum) in pairings:\n",
    "                new_job[j+i+1]= inum\n",
    "                new_job[i]= jnum\n",
    "                return fix_bad(new_job, pairings)\n",
    "    return job\n",
    "    "
   ]
  },
  {
   "cell_type": "code",
   "execution_count": 36,
   "id": "99a261f8-a40b-45e0-9218-3e1da77629ac",
   "metadata": {},
   "outputs": [],
   "source": [
    "def part_two(path='input_data/test_05.txt'):\n",
    "    pairings, print_orders = read_file(path)\n",
    "    good=[ p for p in print_orders if is_right_order(p, pairings) ]\n",
    "    bad=[ p for p in print_orders if not is_right_order(p, pairings) ]\n",
    "\n",
    "    fixed = [ fix_bad(b, pairings) for b in bad]\n",
    "    return add_middle(fixed)"
   ]
  },
  {
   "cell_type": "code",
   "execution_count": 37,
   "id": "110d0b06-afef-4084-a562-0d5bc174cfce",
   "metadata": {},
   "outputs": [
    {
     "data": {
      "text/plain": [
       "123"
      ]
     },
     "execution_count": 37,
     "metadata": {},
     "output_type": "execute_result"
    }
   ],
   "source": [
    "part_two()"
   ]
  },
  {
   "cell_type": "code",
   "execution_count": 38,
   "id": "bf32a674-14c1-43c0-a0fb-8ddb19e45be2",
   "metadata": {},
   "outputs": [
    {
     "name": "stdout",
     "output_type": "stream",
     "text": [
      "CPU times: user 74.6 ms, sys: 3.62 ms, total: 78.2 ms\n",
      "Wall time: 81.4 ms\n"
     ]
    },
    {
     "data": {
      "text/plain": [
       "6370"
      ]
     },
     "execution_count": 38,
     "metadata": {},
     "output_type": "execute_result"
    }
   ],
   "source": [
    "%%time\n",
    "part_two('input_data/day_05.txt')"
   ]
  },
  {
   "cell_type": "code",
   "execution_count": null,
   "id": "d5860e91-e7c5-488d-8a3b-515f4cb0dbfd",
   "metadata": {},
   "outputs": [],
   "source": []
  }
 ],
 "metadata": {
  "kernelspec": {
   "display_name": "work_env",
   "language": "python",
   "name": "work_env"
  },
  "language_info": {
   "codemirror_mode": {
    "name": "ipython",
    "version": 3
   },
   "file_extension": ".py",
   "mimetype": "text/x-python",
   "name": "python",
   "nbconvert_exporter": "python",
   "pygments_lexer": "ipython3",
   "version": "3.11.6"
  }
 },
 "nbformat": 4,
 "nbformat_minor": 5
}
