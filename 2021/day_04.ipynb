{
 "cells": [
  {
   "cell_type": "code",
   "execution_count": 25,
   "metadata": {},
   "outputs": [],
   "source": [
    "from IPython.core.interactiveshell import InteractiveShell\n",
    "InteractiveShell.ast_node_interactivity = \"all\""
   ]
  },
  {
   "cell_type": "code",
   "execution_count": 114,
   "metadata": {},
   "outputs": [],
   "source": [
    "class BingoBoard:\n",
    "    def __init__(self,lines_to_parse):\n",
    "        self._value_dict = self._parse_lines(lines_to_parse)\n",
    "        self._row_total = [ 0 for i in range(5)]\n",
    "        self._col_total = [ 0 for i in range(5)]\n",
    "        \n",
    "        self.numbers_seen = []\n",
    "        self.numbers_marked = []\n",
    "        \n",
    "    def _parse_lines(self,text):\n",
    "        num_dict ={}\n",
    "        for y,line in enumerate(text):\n",
    "            row_data = line.strip().split()\n",
    "            for x,val in enumerate(row_data): \n",
    "                num_dict[int(val)] = x,y\n",
    "                \n",
    "        return num_dict\n",
    "    \n",
    "    def clear_board(self,):\n",
    "        self._row_total = [ 0 for i in range(5)]\n",
    "        self._col_total = [ 0 for i in range(5)]\n",
    "        self.numbers_seen = []\n",
    "        self.numbers_marked = []\n",
    "        \n",
    "    \n",
    "    def mark_board(self, num):\n",
    "        num = int(num)\n",
    "        if num in self.numbers_seen:\n",
    "            return\n",
    "        self.numbers_seen.append(num)\n",
    "        \n",
    "        if num in self._value_dict.keys() :\n",
    "            self.numbers_marked.append(num)\n",
    "            row, col = self._value_dict[num]\n",
    "            self._row_total[row] +=1\n",
    "            self._col_total[col] +=1\n",
    "            \n",
    "            if ((self._row_total[row] == 5 )\n",
    "               or (self._col_total[col] == 5)):\n",
    "           \n",
    "                board_vals = self._value_dict.keys()\n",
    "                marked_vals = self.numbers_marked\n",
    "                sum_unmarked = sum([x for x in board_vals if x not in marked_vals])\n",
    "                \n",
    "                return sum_unmarked*num\n",
    "            \n",
    "    def __str__(self):\n",
    "        init = [ [None for r in range(5)] for y in range(5)]\n",
    "        for num, loc in self._value_dict.items():\n",
    "            init[loc[1]][loc[0]] = f'{num:4d}'\n",
    "            \n",
    "        init = [ ' '.join(x) for x in init]\n",
    "        return '\\n'.join(init)\n",
    "            \n",
    "        \n",
    "        "
   ]
  },
  {
   "cell_type": "code",
   "execution_count": 122,
   "metadata": {},
   "outputs": [],
   "source": [
    "drawing=[]\n",
    "board_list =[]\n",
    "\n",
    "with open('data/input_4.txt','r') as f:\n",
    "    drawing  =[ int(x) for x in f.readline().strip('\\n').split(',')]\n",
    "    line = f.readline()\n",
    "    while line:\n",
    "        blines = [f.readline().strip('\\n') for i in range(5)]\n",
    "        board_list.append(BingoBoard(blines))\n",
    "        line = f.readline()\n",
    "        \n",
    "    "
   ]
  },
  {
   "cell_type": "code",
   "execution_count": 123,
   "metadata": {
    "scrolled": true
   },
   "outputs": [],
   "source": [
    "output_order =[]\n",
    "full_board=[]\n",
    "nboards = len(board_list)\n",
    "\n",
    "while len(full_board)< nboards:\n",
    "    for new_num in drawing:\n",
    "        for i,board in enumerate(board_list):\n",
    "            if i in full_board:\n",
    "                continue\n",
    "                \n",
    "            output = board.mark_board(new_num)\n",
    "            if output is not None:\n",
    "                output_order.append(output)\n",
    "                full_board.append(i)\n",
    "                    "
   ]
  },
  {
   "cell_type": "code",
   "execution_count": 119,
   "metadata": {},
   "outputs": [
    {
     "data": {
      "text/plain": [
       "54275"
      ]
     },
     "execution_count": 119,
     "metadata": {},
     "output_type": "execute_result"
    },
    {
     "data": {
      "text/plain": [
       "13158"
      ]
     },
     "execution_count": 119,
     "metadata": {},
     "output_type": "execute_result"
    }
   ],
   "source": [
    "output_order[0]\n",
    "output_order[-1]"
   ]
  },
  {
   "cell_type": "code",
   "execution_count": 125,
   "metadata": {},
   "outputs": [
    {
     "name": "stdout",
     "output_type": "stream",
     "text": [
      "  60   84   55   19   47\n",
      "  97   18   44   52   88\n",
      "  50    0   29   36   58\n",
      "  77   65   21   49   40\n",
      "  87   39   89   31   27\n"
     ]
    },
    {
     "data": {
      "text/plain": [
       "54275"
      ]
     },
     "execution_count": 125,
     "metadata": {},
     "output_type": "execute_result"
    }
   ],
   "source": [
    "for board in board_list:\n",
    "    board.clear_board() \n",
    "    \n",
    "output=None\n",
    "keep_looking=True\n",
    "\n",
    "while keep_looking:\n",
    "    for new_num in drawing:\n",
    "        if keep_looking:\n",
    "            for board in board_list:\n",
    "                output = board.mark_board(new_num)\n",
    "                if output is not None:\n",
    "                    print(board)\n",
    "                    keep_looking=False\n",
    "                    break\n",
    "    \n",
    "                \n",
    "    \n",
    "output\n",
    "    "
   ]
  },
  {
   "cell_type": "code",
   "execution_count": null,
   "metadata": {},
   "outputs": [],
   "source": []
  },
  {
   "cell_type": "code",
   "execution_count": null,
   "metadata": {},
   "outputs": [],
   "source": []
  },
  {
   "cell_type": "code",
   "execution_count": null,
   "metadata": {},
   "outputs": [],
   "source": []
  },
  {
   "cell_type": "markdown",
   "metadata": {},
   "source": [
    "# Testing"
   ]
  },
  {
   "cell_type": "code",
   "execution_count": 86,
   "metadata": {},
   "outputs": [],
   "source": [
    "test_board= [[\n",
    "                '22 13 17 11  0',\n",
    "                ' 8  2 23  4 24',\n",
    "                '21  9 14 16  7',\n",
    "                ' 6 10  3 18  5',\n",
    "                ' 1 12 20 15 19',\n",
    "                ],\n",
    "    \n",
    "]"
   ]
  },
  {
   "cell_type": "code",
   "execution_count": 87,
   "metadata": {},
   "outputs": [],
   "source": [
    "temp = BingoBoard(test_board[0])"
   ]
  },
  {
   "cell_type": "code",
   "execution_count": 88,
   "metadata": {},
   "outputs": [
    {
     "name": "stdout",
     "output_type": "stream",
     "text": [
      "  22   13   17   11    0\n",
      "   8    2   23    4   24\n",
      "  21    9   14   16    7\n",
      "   6   10    3   18    5\n",
      "   1   12   20   15   19\n"
     ]
    }
   ],
   "source": [
    "print(temp)"
   ]
  },
  {
   "cell_type": "code",
   "execution_count": 89,
   "metadata": {},
   "outputs": [
    {
     "data": {
      "text/plain": [
       "2607"
      ]
     },
     "execution_count": 89,
     "metadata": {},
     "output_type": "execute_result"
    }
   ],
   "source": [
    "temp.mark_board(22)\n",
    "temp.mark_board(13)\n",
    "temp.mark_board(17)\n",
    "temp.mark_board(0)\n",
    "temp.mark_board(11)"
   ]
  },
  {
   "cell_type": "code",
   "execution_count": 90,
   "metadata": {},
   "outputs": [
    {
     "data": {
      "text/plain": [
       "[22, 13, 17, 0, 11]"
      ]
     },
     "execution_count": 90,
     "metadata": {},
     "output_type": "execute_result"
    }
   ],
   "source": [
    "temp.numbers_marked"
   ]
  },
  {
   "cell_type": "code",
   "execution_count": null,
   "metadata": {},
   "outputs": [],
   "source": []
  },
  {
   "cell_type": "code",
   "execution_count": 91,
   "metadata": {},
   "outputs": [],
   "source": [
    "test_drawing=[]\n",
    "test_board_list =[]\n",
    "\n",
    "with open('data/test_4.txt','r') as f:\n",
    "    test_drawing  =[ int(x) for x in f.readline().strip('\\n').split(',')]\n",
    "    line = f.readline()\n",
    "    while line:\n",
    "        blines = [f.readline().strip('\\n') for i in range(5)]\n",
    "        test_board_list.append(BingoBoard(blines))\n",
    "        line = f.readline()\n",
    "        \n",
    "    "
   ]
  },
  {
   "cell_type": "code",
   "execution_count": 92,
   "metadata": {},
   "outputs": [
    {
     "name": "stdout",
     "output_type": "stream",
     "text": [
      "  14   21   17   24    4\n",
      "  10   16   15    9   19\n",
      "  18    8   23   26   20\n",
      "  22   11   13    6    5\n",
      "   2    0   12    3    7\n"
     ]
    },
    {
     "data": {
      "text/plain": [
       "4512"
      ]
     },
     "execution_count": 92,
     "metadata": {},
     "output_type": "execute_result"
    }
   ],
   "source": [
    "output=None\n",
    "\n",
    "keep_looking=True\n",
    "\n",
    "while keep_looking:\n",
    "    for new_num in test_drawing:\n",
    "        if keep_looking:\n",
    "            for board in test_board_list:\n",
    "                output = board.mark_board(new_num)\n",
    "                if output is not None:\n",
    "                    print(board)\n",
    "                    keep_looking=False\n",
    "                    break\n",
    "output\n",
    "    "
   ]
  },
  {
   "cell_type": "code",
   "execution_count": null,
   "metadata": {},
   "outputs": [],
   "source": []
  }
 ],
 "metadata": {
  "kernelspec": {
   "display_name": "cop_env",
   "language": "python",
   "name": "cop_env"
  },
  "language_info": {
   "codemirror_mode": {
    "name": "ipython",
    "version": 3
   },
   "file_extension": ".py",
   "mimetype": "text/x-python",
   "name": "python",
   "nbconvert_exporter": "python",
   "pygments_lexer": "ipython3",
   "version": "3.7.8"
  }
 },
 "nbformat": 4,
 "nbformat_minor": 4
}
