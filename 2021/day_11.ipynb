{
 "cells": [
  {
   "cell_type": "code",
   "execution_count": 2,
   "metadata": {},
   "outputs": [],
   "source": [
    "def read_in_grid(filename):\n",
    "    grid=[]\n",
    "    with open(filename,'r') as f:\n",
    "        m = f.readlines()\n",
    "        grid = [ [int(i) for i in line.strip()] for line  in m]\n",
    "    return grid\n"
   ]
  },
  {
   "cell_type": "code",
   "execution_count": 24,
   "metadata": {},
   "outputs": [],
   "source": [
    "def increase_neighbors(grid, pt):\n",
    "    nrows,ncols = len(grid), len(grid[0])\n",
    "    \n",
    "    for r in [-1,0,1]:\n",
    "        for c in [-1,0,1]:\n",
    "            if r==0 and c == 0:\n",
    "                continue\n",
    "                \n",
    "            pt_r = pt[0]+r\n",
    "            pt_c = pt[1]+c\n",
    "            if pt_r < 0 or pt_c < 0 or pt_r == nrows or pt_c == ncols:\n",
    "                continue\n",
    "                \n",
    "            grid[pt_r][pt_c] +=1\n",
    "            if grid[pt_r][pt_c] == 10:\n",
    "                grid = increase_neighbors(grid, [pt_r, pt_c])\n",
    "    return grid "
   ]
  },
  {
   "cell_type": "code",
   "execution_count": 30,
   "metadata": {},
   "outputs": [],
   "source": [
    "def perform_step_through(grid):\n",
    "    for r in range(len(grid)):\n",
    "        for c in range(len(grid[0])):\n",
    "            grid[r][c] += 1\n",
    "            if grid[r][c] ==10:\n",
    "                grid = increase_neighbors(grid, [r,c])\n",
    "    return grid\n",
    "\n",
    "def reset_above_ten(grid):\n",
    "    flashes = 0\n",
    "    for r in range(len(grid)):\n",
    "        for c in range(len(grid[0])):\n",
    "            if grid[r][c] >9:\n",
    "                flashes+=1\n",
    "                grid[r][c] =0\n",
    "    return grid, flashes\n",
    "                "
   ]
  },
  {
   "cell_type": "code",
   "execution_count": 34,
   "metadata": {},
   "outputs": [],
   "source": [
    "from copy import deepcopy\n",
    "def perform_steps(ini_grid, steps=1): \n",
    "    grid = deepcopy(ini_grid)\n",
    "    tot_flashes =0\n",
    "    for i in range(steps):\n",
    "        grid = perform_step_through(grid)\n",
    "        grid,flashes = reset_above_ten(grid)\n",
    "        tot_flashes+=flashes\n",
    "        \n",
    "    return grid, tot_flashes\n",
    "    "
   ]
  },
  {
   "cell_type": "code",
   "execution_count": 23,
   "metadata": {},
   "outputs": [],
   "source": [
    "tmp = read_in_grid('data/test_11.txt')"
   ]
  },
  {
   "cell_type": "code",
   "execution_count": 37,
   "metadata": {},
   "outputs": [],
   "source": [
    "prod_11 = read_in_grid('data/input_11.txt')"
   ]
  },
  {
   "cell_type": "code",
   "execution_count": 50,
   "metadata": {},
   "outputs": [
    {
     "data": {
      "text/plain": [
       "([[5, 7, 2, 2, 2, 2, 3, 5, 0, 0],\n",
       "  [6, 2, 2, 2, 2, 2, 4, 2, 5, 0],\n",
       "  [9, 2, 2, 2, 2, 3, 6, 1, 4, 0],\n",
       "  [9, 3, 2, 2, 3, 5, 1, 1, 4, 0],\n",
       "  [1, 4, 2, 3, 5, 1, 1, 1, 3, 0],\n",
       "  [1, 4, 3, 5, 1, 1, 1, 1, 2, 2],\n",
       "  [3, 4, 5, 1, 1, 1, 1, 1, 1, 5],\n",
       "  [2, 4, 1, 1, 1, 1, 1, 6, 4, 3],\n",
       "  [8, 5, 1, 1, 1, 1, 6, 5, 5, 4],\n",
       "  [6, 8, 1, 1, 1, 5, 4, 0, 0, 0]],\n",
       " 1700)"
      ]
     },
     "execution_count": 50,
     "metadata": {},
     "output_type": "execute_result"
    }
   ],
   "source": [
    "perform_steps(prod_11, 100)"
   ]
  },
  {
   "cell_type": "code",
   "execution_count": 40,
   "metadata": {},
   "outputs": [],
   "source": [
    "from copy import deepcopy\n",
    "def stop_at_simultaneous(ini_grid): \n",
    "    grid = deepcopy(ini_grid)\n",
    "    ncells = len(grid)*len(grid[0])\n",
    "    \n",
    "    flashes=0\n",
    "    i=0\n",
    "    while flashes< ncells:\n",
    "        grid = perform_step_through(grid)\n",
    "        grid,flashes = reset_above_ten(grid)\n",
    "        i+=1\n",
    "        \n",
    "    return grid, i\n",
    "    "
   ]
  },
  {
   "cell_type": "code",
   "execution_count": 41,
   "metadata": {},
   "outputs": [
    {
     "data": {
      "text/plain": [
       "([[0, 0, 0, 0, 0, 0, 0, 0, 0, 0],\n",
       "  [0, 0, 0, 0, 0, 0, 0, 0, 0, 0],\n",
       "  [0, 0, 0, 0, 0, 0, 0, 0, 0, 0],\n",
       "  [0, 0, 0, 0, 0, 0, 0, 0, 0, 0],\n",
       "  [0, 0, 0, 0, 0, 0, 0, 0, 0, 0],\n",
       "  [0, 0, 0, 0, 0, 0, 0, 0, 0, 0],\n",
       "  [0, 0, 0, 0, 0, 0, 0, 0, 0, 0],\n",
       "  [0, 0, 0, 0, 0, 0, 0, 0, 0, 0],\n",
       "  [0, 0, 0, 0, 0, 0, 0, 0, 0, 0],\n",
       "  [0, 0, 0, 0, 0, 0, 0, 0, 0, 0]],\n",
       " 273)"
      ]
     },
     "execution_count": 41,
     "metadata": {},
     "output_type": "execute_result"
    }
   ],
   "source": [
    "stop_at_simultaneous(prod_11)"
   ]
  },
  {
   "cell_type": "code",
   "execution_count": null,
   "metadata": {},
   "outputs": [],
   "source": []
  }
 ],
 "metadata": {
  "kernelspec": {
   "display_name": "cop_env",
   "language": "python",
   "name": "cop_env"
  },
  "language_info": {
   "codemirror_mode": {
    "name": "ipython",
    "version": 3
   },
   "file_extension": ".py",
   "mimetype": "text/x-python",
   "name": "python",
   "nbconvert_exporter": "python",
   "pygments_lexer": "ipython3",
   "version": "3.7.8"
  }
 },
 "nbformat": 4,
 "nbformat_minor": 4
}
