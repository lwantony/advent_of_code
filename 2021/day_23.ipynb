{
 "cells": [
  {
   "cell_type": "code",
   "execution_count": 1,
   "id": "26f327bb",
   "metadata": {},
   "outputs": [],
   "source": [
    "from IPython.core.interactiveshell import InteractiveShell\n",
    "InteractiveShell.ast_node_interactivity = \"all\""
   ]
  },
  {
   "cell_type": "markdown",
   "id": "1cd56bf8",
   "metadata": {},
   "source": [
    "# Dijkstra Algorithm\n",
    "- brought to you by https://www.redblobgames.com/pathfinding/a-star/introduction.html"
   ]
  },
  {
   "cell_type": "code",
   "execution_count": 35,
   "id": "0f7cc1e7",
   "metadata": {},
   "outputs": [],
   "source": [
    "from copy import deepcopy\n",
    "class AmphipodsState:\n",
    "    def __init__(self,state,coming_from=None, cost_so_far=0):\n",
    "        self.coming_from = coming_from\n",
    "        self.cost_so_far = cost_so_far\n",
    "        self.grid, self.amphi_locs = self.read_state(state)\n",
    "        \n",
    "        self.type_cost = {'A': 1,\n",
    "                          'B': 10,\n",
    "                          'C': 100,\n",
    "                          'D': 1000,\n",
    "                       }\n",
    "        self.home_entry = {\n",
    "            'A' : 3,\n",
    "            'B' : 5,\n",
    "            'C' : 7,\n",
    "            'D' : 9\n",
    "        }\n",
    "        \n",
    "    def _create_str(self, grid):\n",
    "        return '\\n'.join([''.join(row) for row in grid])\n",
    "    \n",
    "    def __str__(self,):\n",
    "        return self._create_str(self.grid)\n",
    "    \n",
    "    def read_state(self,state):\n",
    "        lines = state.split('\\n')\n",
    "        grid= []\n",
    "        grid.append([ i for i in lines[0] ])\n",
    "        amphi_locs = {'A':[],\n",
    "                      'B':[],\n",
    "                      'C':[],\n",
    "                      'D':[],\n",
    "                     }\n",
    "        for r,line in enumerate(lines[1:]):\n",
    "            new_row = []\n",
    "            for c,element in enumerate(line):\n",
    "                if element in  ['#', ' ', '.']:\n",
    "                    new_row.append(element)\n",
    "                    continue\n",
    "                amphi_locs[element].append((r+1, c))\n",
    "                new_row.append(element)\n",
    "            grid.append(new_row)\n",
    "        return grid, amphi_locs\n",
    "    \n",
    "    def point_swap(self, cur_grid, pt1, pt2):\n",
    "        new_grid = deepcopy(cur_grid)\n",
    "        new_grid[pt1[0]][pt1[1]] = cur_grid[pt2[0]][pt2[1]]\n",
    "        new_grid[pt2[0]][pt2[1]] = cur_grid[pt1[0]][pt1[1]]\n",
    "        #print (self._create_str(new_grid))\n",
    "        return new_grid\n",
    "                \n",
    "    def move_amphipods(self,amph, loc):\n",
    "        home = self.home_entry[amph]\n",
    "        grid = self.grid.copy()\n",
    "        cur_cost = self.cost_so_far\n",
    "        step_cost = self.type_cost[amph]\n",
    "        \n",
    "        \n",
    "        if loc[0] == 3 and grid[2][loc[1]] != '.':\n",
    "            return []\n",
    "        \n",
    "        if loc[1] == home:\n",
    "            if loc[0] ==3:\n",
    "                return []\n",
    "            \n",
    "            if grid[3][home] == amph and grid[2][home] == amph:\n",
    "                return []\n",
    "        \n",
    "        adjacent_states = []\n",
    "        #leaving original position\n",
    "        if loc[0] != 1 :\n",
    "            leave_cost = cur_cost + (loc[0] - 1)*step_cost\n",
    "            # look left\n",
    "            l_idx = loc[1]-1\n",
    "            while grid[1][l_idx] == '.':\n",
    "                if l_idx in [3, 5, 7, 9]:\n",
    "                    l_idx -=1\n",
    "                else:\n",
    "                    new_grid = self.point_swap(grid, loc, [1,l_idx])\n",
    "                    new_cost = leave_cost + (loc[1] - l_idx)*step_cost\n",
    "                    adjacent_states.append((self._create_str(new_grid), new_cost ))\n",
    "                    l_idx -=1\n",
    "            \n",
    "            # look right\n",
    "            r_idx = loc[1]+1\n",
    "            while grid[1][r_idx] == '.':\n",
    "                if r_idx in [3, 5, 7, 9]:\n",
    "                    r_idx +=1\n",
    "                else:\n",
    "                    new_grid = self.point_swap(grid, loc, [1,r_idx])\n",
    "                    new_cost = leave_cost + ( r_idx - loc[1] )*step_cost\n",
    "                    adjacent_states.append((self._create_str(new_grid), new_cost ))\n",
    "                    r_idx +=1\n",
    "                \n",
    "            return adjacent_states\n",
    "        \n",
    "        # Going Home \n",
    "        if loc[0] == 1 :\n",
    "            if (    (grid[3][home] in [amph, '.']) \n",
    "                and (grid[2][home] in [amph, '.']) ):\n",
    "                if loc[1] < home:\n",
    "                    if min([ grid[1][loc[1]+i] == '.' for i in range(1, home-loc[1]+1 )]):\n",
    "                        new_cost = cur_cost+  (home-loc[1])*step_cost\n",
    "                        if grid[3][home] == '.':\n",
    "                            new_cost += step_cost*2\n",
    "                            new_grid = self.point_swap(grid,loc, [3,home])\n",
    "                        else:\n",
    "                            new_cost += step_cost\n",
    "                            new_grid = self.point_swap(grid, loc, [2,home])\n",
    "                        adjacent_states.append((self._create_str(new_grid), new_cost ))\n",
    "                            \n",
    "                if loc[1] > home:\n",
    "                    if min([ grid[1][loc[1]-i] == '.' for i in range(1, loc[1]-home+1 )]):\n",
    "                        new_cost = cur_cost+  (loc[1]-home)*step_cost\n",
    "                        if grid[3][home] == '.':\n",
    "                            new_cost += step_cost*2\n",
    "                            new_grid = self.point_swap(grid, loc, [3,home])\n",
    "                        else:\n",
    "                            new_cost += step_cost\n",
    "                            new_grid = self.point_swap(grid,loc, [2,home])\n",
    "                        adjacent_states.append((self._create_str(new_grid), new_cost ))\n",
    "                        \n",
    "                return adjacent_states\n",
    "                        \n",
    "        return []\n",
    "            \n",
    "            \n",
    "    def create_next_moves(self,):\n",
    "        possible_states = []\n",
    "        for amph, locs in self.amphi_locs.items():\n",
    "            for pt in locs:\n",
    "                if pt[1] == self.home_entry[amph]:\n",
    "                    tot_rows = len(self.grid)\n",
    "                    below_home = min([ self.grid[r][pt[1]] == amph for r in range(pt[0]+1, tot_rows)])\n",
    "                    if below_home and self.grid[pt[0]-1][pt[1]] == '.':\n",
    "                        continue\n",
    "                possible_states.extend(self.move_amphipods(amph, pt))\n",
    "        return possible_states\n",
    "    \n",
    "    def __lt__(self, other):\n",
    "        return (self.cost_so_far, self._create_str(self.grid)) < (other.cost_so_far, self._create_str(other.grid))\n",
    "        "
   ]
  },
  {
   "cell_type": "code",
   "execution_count": 36,
   "id": "9b390c4c",
   "metadata": {},
   "outputs": [],
   "source": [
    "import heapq\n",
    "class PriorityQueue:\n",
    "    def __init__(self):\n",
    "        self.elements: list[tuple[float, AmphipodsState]] = []\n",
    "    \n",
    "    def empty(self) -> bool:\n",
    "        return not self.elements\n",
    "    \n",
    "    def put(self, item: AmphipodsState, priority: float):\n",
    "        heapq.heappush(self.elements, (priority, item))\n",
    "    \n",
    "    def get(self) -> tuple:\n",
    "        return heapq.heappop(self.elements)[1]"
   ]
  },
  {
   "cell_type": "code",
   "execution_count": 50,
   "id": "f099600d",
   "metadata": {},
   "outputs": [],
   "source": [
    "def added_cost(state):\n",
    "    amphi_locs = state.amphi_locs.copy()\n",
    "    home_entry = {\n",
    "            'A' : 3,\n",
    "            'B' : 5,\n",
    "            'C' : 7,\n",
    "            'D' : 9\n",
    "        }\n",
    "    dist_off = 0\n",
    "    for amph, locs in amphi_locs.items():\n",
    "        dist_off += sum([ abs(loc[0]-5)+abs(loc[1] - home_entry[amph]) for loc in locs])\n",
    "    return dist_off*1000\n",
    "    "
   ]
  },
  {
   "cell_type": "code",
   "execution_count": 97,
   "id": "a3fbbe37",
   "metadata": {},
   "outputs": [],
   "source": [
    "def added_cost(state,target_str):\n",
    "    cur_state = str(state)\n",
    "    \n",
    "    dist_off = 0\n",
    "    for i in range(len(target_str)):\n",
    "         dist_off += int(cur_state[i] != target_str[i])\n",
    "    return dist_off*500\n",
    "    "
   ]
  },
  {
   "cell_type": "code",
   "execution_count": 98,
   "id": "94a287f2",
   "metadata": {},
   "outputs": [],
   "source": [
    "END = '#############\\n#...........#\\n###A#B#C#D###\\n  #A#B#C#D#\\n  #########'\n",
    "def perform_the_sort(init_state, end=END):\n",
    "    explore = PriorityQueue()\n",
    "    explore.put(init_state,0)\n",
    "    cost_so_far = {str(init_state): 0}\n",
    "    \n",
    "    while not explore.empty():\n",
    "        cur_state = explore.get()\n",
    "        if str(cur_state) == end:\n",
    "            break\n",
    "            \n",
    "        for neighbor,cost in cur_state.create_next_moves():\n",
    "           \n",
    "            neighbor_state = AmphipodsState(state=neighbor, coming_from=deepcopy(cur_state), cost_so_far=cost )\n",
    "            \n",
    "            if neighbor not in cost_so_far.keys() or cost < cost_so_far[neighbor]:\n",
    "                cost_so_far[neighbor] = cost \n",
    "                priority = cost + added_cost(neighbor_state, END)\n",
    "                explore.put(neighbor_state, priority)\n",
    "                \n",
    "    return cur_state\n",
    "       "
   ]
  },
  {
   "cell_type": "code",
   "execution_count": 99,
   "id": "b5be94d6",
   "metadata": {},
   "outputs": [],
   "source": [
    "with open('data/test_23.txt', 'r') as f:\n",
    "    test = ''.join(f.readlines())"
   ]
  },
  {
   "cell_type": "code",
   "execution_count": 100,
   "id": "64b14685",
   "metadata": {},
   "outputs": [],
   "source": [
    "test_state = AmphipodsState(state=test)"
   ]
  },
  {
   "cell_type": "code",
   "execution_count": 101,
   "id": "ad3ced69",
   "metadata": {},
   "outputs": [
    {
     "name": "stdout",
     "output_type": "stream",
     "text": [
      "#############\n",
      "#...........#\n",
      "###A#B#C#D###\n",
      "  #A#B#C#D#\n",
      "  #########\n",
      "CPU times: user 9.75 s, sys: 40.3 ms, total: 9.79 s\n",
      "Wall time: 9.8 s\n"
     ]
    },
    {
     "data": {
      "text/plain": [
       "12521"
      ]
     },
     "execution_count": 101,
     "metadata": {},
     "output_type": "execute_result"
    }
   ],
   "source": [
    "%%time\n",
    "end_state = perform_the_sort(test_state)\n",
    "print(end_state)\n",
    "end_state.cost_so_far"
   ]
  },
  {
   "cell_type": "code",
   "execution_count": 155,
   "id": "ccdb4a03",
   "metadata": {
    "scrolled": true
   },
   "outputs": [
    {
     "name": "stdout",
     "output_type": "stream",
     "text": [
      "#############\n",
      "#...........#\n",
      "###A#B#C#D###\n",
      "  #A#B#C#D#\n",
      "  #########\t12521\n",
      "#############\n",
      "#.....D.....#\n",
      "###A#B#C#.###\n",
      "  #A#B#C#D#\n",
      "  #########\t8521\n",
      "#############\n",
      "#.....D...D.#\n",
      "###A#B#C#.###\n",
      "  #A#B#C#.#\n",
      "  #########\t5521\n",
      "#############\n",
      "#...B.D...D.#\n",
      "###A#.#C#.###\n",
      "  #A#B#C#.#\n",
      "  #########\t5501\n",
      "#############\n",
      "#.A.B.D...D.#\n",
      "###.#.#C#.###\n",
      "  #A#B#C#.#\n",
      "  #########\t5499\n",
      "#############\n",
      "#.A...D...D.#\n",
      "###B#.#C#.###\n",
      "  #A#B#C#.#\n",
      "  #########\t5479\n",
      "#############\n",
      "#.A.B.D...D.#\n",
      "###B#.#C#.###\n",
      "  #A#.#C#.#\n",
      "  #########\t5449\n",
      "#############\n",
      "#.A.B.....D.#\n",
      "###B#.#C#.###\n",
      "  #A#D#C#.#\n",
      "  #########\t2449\n",
      "#############\n",
      "#.A.B.C...D.#\n",
      "###B#.#.#.###\n",
      "  #A#D#C#.#\n",
      "  #########\t2249\n",
      "#############\n",
      "#.A.B.....D.#\n",
      "###B#C#.#.###\n",
      "  #A#D#C#.#\n",
      "  #########\t2049\n",
      "#############\n",
      "#.A.......D.#\n",
      "###B#C#B#.###\n",
      "  #A#D#C#.#\n",
      "  #########\t2009\n",
      "#############\n",
      "#.........D.#\n",
      "###B#C#B#.###\n",
      "  #A#D#C#A#\n",
      "  #########\t2000\n"
     ]
    }
   ],
   "source": [
    "cur_state = end_state\n",
    "while cur_state.coming_from is not None:\n",
    "    print(str(cur_state) +f'\\t{cur_state.cost_so_far}')\n",
    "    cur_state = cur_state.coming_from"
   ]
  },
  {
   "cell_type": "code",
   "execution_count": 25,
   "id": "ce4415ab",
   "metadata": {},
   "outputs": [],
   "source": [
    "with open('data/input_23.txt', 'r') as f:\n",
    "    prod = ''.join(f.readlines())"
   ]
  },
  {
   "cell_type": "code",
   "execution_count": 16,
   "id": "5950e54f",
   "metadata": {},
   "outputs": [],
   "source": [
    "prod_state = AmphipodsState(state=prod)"
   ]
  },
  {
   "cell_type": "code",
   "execution_count": 160,
   "id": "ad9c8b09",
   "metadata": {},
   "outputs": [
    {
     "name": "stdout",
     "output_type": "stream",
     "text": [
      "#############\n",
      "#...........#\n",
      "###A#B#C#D###\n",
      "  #A#B#C#D#\n",
      "  #########\n",
      "CPU times: user 1min 34s, sys: 252 ms, total: 1min 35s\n",
      "Wall time: 1min 35s\n"
     ]
    },
    {
     "data": {
      "text/plain": [
       "18195"
      ]
     },
     "execution_count": 160,
     "metadata": {},
     "output_type": "execute_result"
    }
   ],
   "source": [
    "%%time\n",
    "end_state = perform_the_sort(prod_state)\n",
    "print(end_state)\n",
    "end_state.cost_so_far"
   ]
  },
  {
   "cell_type": "markdown",
   "id": "c8d2a110",
   "metadata": {},
   "source": [
    "# Part 2\n",
    "- 2 more layers check"
   ]
  },
  {
   "cell_type": "code",
   "execution_count": 102,
   "id": "3c52cfb1",
   "metadata": {},
   "outputs": [],
   "source": [
    "from copy import deepcopy\n",
    "class Amphipods4layers(AmphipodsState):\n",
    "    def __init__(self, state,coming_from=None, cost_so_far=0, add_lines=False):\n",
    "        AmphipodsState.__init__(self,state,coming_from=coming_from, cost_so_far=cost_so_far)\n",
    "        self.grid, self.amphi_locs = self.read_state(state, add_lines)\n",
    "    \n",
    "    def read_state(self,state, add_lines = False):\n",
    "        extra_lines=[\n",
    "                '  #D#C#B#A#',\n",
    "                '  #D#B#A#C#',\n",
    "                ]\n",
    "        \n",
    "        lines = state.split('\\n')\n",
    "        grid= []\n",
    "        grid.append([ i for i in lines[0] ])\n",
    "        amphi_locs = {'A':[],\n",
    "                      'B':[],\n",
    "                      'C':[],\n",
    "                      'D':[],\n",
    "                     }\n",
    "        if add_lines:\n",
    "            lines = lines[:3]+extra_lines+lines[3:]\n",
    "        \n",
    "        for r,line in enumerate(lines[1:]):\n",
    "            new_row = []\n",
    "            for c,element in enumerate(line):\n",
    "                if element in  ['#', ' ', '.']:\n",
    "                    new_row.append(element)\n",
    "                    continue\n",
    "                amphi_locs[element].append((r+1, c))\n",
    "                new_row.append(element)\n",
    "            grid.append(new_row)\n",
    "        return grid, amphi_locs\n",
    "    \n",
    "    def move_amphipods(self,amph, loc):\n",
    "        home = self.home_entry[amph]\n",
    "        grid = self.grid.copy()\n",
    "        cur_cost = self.cost_so_far\n",
    "        step_cost = self.type_cost[amph]\n",
    "        \n",
    "        \n",
    "        if loc[0] > 2 and grid[loc[0]-1][loc[1]] != '.':\n",
    "            return []\n",
    "        \n",
    "        if loc[1] == home:\n",
    "            if loc[0] ==5:\n",
    "                return []\n",
    "            \n",
    "            if (grid[5][home] == amph \n",
    "                and grid[4][home] == amph\n",
    "                and grid[3][home] == amph\n",
    "                and grid[2][home] == amph):\n",
    "                return []\n",
    "        \n",
    "        adjacent_states = []\n",
    "        #leaving original position\n",
    "        if loc[0] != 1 :\n",
    "            leave_cost = cur_cost + (loc[0] - 1)*step_cost\n",
    "            # look left\n",
    "            l_idx = loc[1]-1\n",
    "            while grid[1][l_idx] == '.':\n",
    "                if l_idx in [3, 5, 7, 9]:\n",
    "                    l_idx -=1\n",
    "                else:\n",
    "                    new_grid = self.point_swap(grid, loc, [1,l_idx])\n",
    "                    new_cost = leave_cost + (loc[1] - l_idx)*step_cost\n",
    "                    adjacent_states.append((self._create_str(new_grid), new_cost ))\n",
    "                    l_idx -=1\n",
    "            \n",
    "            # look right\n",
    "            r_idx = loc[1]+1\n",
    "            while grid[1][r_idx] == '.':\n",
    "                if r_idx in [3, 5, 7, 9]:\n",
    "                    r_idx +=1\n",
    "                else:\n",
    "                    new_grid = self.point_swap(grid, loc, [1,r_idx])\n",
    "                    new_cost = leave_cost + ( r_idx - loc[1] )*step_cost\n",
    "                    adjacent_states.append((self._create_str(new_grid), new_cost ))\n",
    "                    r_idx +=1\n",
    "                \n",
    "            return adjacent_states\n",
    "        \n",
    "        # Going Home \n",
    "        if loc[0] == 1 :\n",
    "            if (    (grid[2][home] in [amph, '.']) \n",
    "                and (grid[3][home] in [amph, '.'])\n",
    "                and (grid[4][home] in [amph, '.'])\n",
    "                and (grid[5][home] in [amph, '.'])\n",
    "               ):\n",
    "                if loc[1] < home:\n",
    "                    if min([ grid[1][loc[1]+i] == '.' for i in range(1, home-loc[1]+1 )]):\n",
    "                        new_cost = cur_cost+  (home-loc[1])*step_cost\n",
    "                        row=2\n",
    "                        while grid[row][home] == '.':\n",
    "                            row+=1\n",
    "                        row -=1\n",
    "                        new_cost += step_cost*(row-1)\n",
    "                        new_grid = self.point_swap(grid,loc, [row,home])\n",
    "                        adjacent_states.append((self._create_str(new_grid), new_cost ))\n",
    "                            \n",
    "                if loc[1] > home:\n",
    "                    if min([ grid[1][loc[1]-i] == '.' for i in range(1, loc[1]-home+1 )]):\n",
    "                        new_cost = cur_cost+  (loc[1]-home)*step_cost\n",
    "                        row=2\n",
    "                        while grid[row][home] == '.':\n",
    "                            row+=1\n",
    "                        row -=1\n",
    "                        new_cost += step_cost*(row-1)\n",
    "                        new_grid = self.point_swap(grid,loc, [row,home])\n",
    "                        adjacent_states.append((self._create_str(new_grid), new_cost ))\n",
    "                        \n",
    "                return adjacent_states\n",
    "        return []"
   ]
  },
  {
   "cell_type": "code",
   "execution_count": 109,
   "id": "6ddb71e2",
   "metadata": {},
   "outputs": [],
   "source": [
    "PT2_END = '#############\\n#...........#\\n###A#B#C#D###\\n  #A#B#C#D#\\n  #A#B#C#D#\\n  #A#B#C#D#\\n  #########'\n",
    "def perform_the_sort_part2(init_state, end = PT2_END):\n",
    "    explore = PriorityQueue()\n",
    "    explore.put(init_state,0)\n",
    "    cost_so_far = {str(init_state): 0}\n",
    "    \n",
    "    while not explore.empty():\n",
    "        cur_state = explore.get()\n",
    "        if str(cur_state) == end:\n",
    "            break\n",
    "            \n",
    "        for neighbor,cost in cur_state.create_next_moves():\n",
    "           \n",
    "            neighbor_state = Amphipods4layers(state=neighbor, coming_from=deepcopy(cur_state), cost_so_far=cost)\n",
    "            \n",
    "            if neighbor not in cost_so_far.keys() or cost < cost_so_far[neighbor]:\n",
    "                cost_so_far[neighbor] = cost \n",
    "                priority = cost# + added_cost(neighbor_state, PT2_END)\n",
    "                explore.put(neighbor_state, priority)\n",
    "                \n",
    "\n",
    "    return cur_state\n",
    "       "
   ]
  },
  {
   "cell_type": "code",
   "execution_count": 110,
   "id": "d21b4ea5",
   "metadata": {},
   "outputs": [],
   "source": [
    "with open('data/test_23_1.txt', 'r') as f:\n",
    "    test_two = ''.join(f.readlines())"
   ]
  },
  {
   "cell_type": "code",
   "execution_count": 111,
   "id": "f949f534",
   "metadata": {},
   "outputs": [],
   "source": [
    "test_state = Amphipods4layers(state=test,add_lines=True)"
   ]
  },
  {
   "cell_type": "code",
   "execution_count": 112,
   "id": "7d4602d3",
   "metadata": {
    "scrolled": true
   },
   "outputs": [
    {
     "name": "stdout",
     "output_type": "stream",
     "text": [
      "#############\n",
      "#...........#\n",
      "###A#B#C#D###\n",
      "  #A#B#C#D#\n",
      "  #A#B#C#D#\n",
      "  #A#B#C#D#\n",
      "  #########\n",
      "CPU times: user 3min 14s, sys: 624 ms, total: 3min 14s\n",
      "Wall time: 3min 15s\n"
     ]
    },
    {
     "data": {
      "text/plain": [
       "44169"
      ]
     },
     "execution_count": 112,
     "metadata": {},
     "output_type": "execute_result"
    }
   ],
   "source": [
    "%%time\n",
    "end_state = perform_the_sort_part2(test_state,PT2_END)\n",
    "print(end_state)\n",
    "end_state.cost_so_far"
   ]
  },
  {
   "cell_type": "code",
   "execution_count": 113,
   "id": "e584a928",
   "metadata": {},
   "outputs": [],
   "source": [
    "prod_state_pt2 = Amphipods4layers(state=prod, add_lines=True)"
   ]
  },
  {
   "cell_type": "code",
   "execution_count": 114,
   "id": "cc3b1f67",
   "metadata": {},
   "outputs": [
    {
     "name": "stdout",
     "output_type": "stream",
     "text": [
      "#############\n",
      "#...........#\n",
      "###A#B#C#D###\n",
      "  #A#B#C#D#\n",
      "  #A#B#C#D#\n",
      "  #A#B#C#D#\n",
      "  #########\n",
      "CPU times: user 1min 59s, sys: 652 ms, total: 1min 59s\n",
      "Wall time: 2min\n"
     ]
    },
    {
     "data": {
      "text/plain": [
       "50265"
      ]
     },
     "execution_count": 114,
     "metadata": {},
     "output_type": "execute_result"
    }
   ],
   "source": [
    "%%time\n",
    "end_state = perform_the_sort_part2(prod_state_pt2)\n",
    "print(end_state)\n",
    "end_state.cost_so_far"
   ]
  },
  {
   "cell_type": "code",
   "execution_count": null,
   "id": "02b7cd76",
   "metadata": {},
   "outputs": [],
   "source": []
  }
 ],
 "metadata": {
  "kernelspec": {
   "display_name": "Python 3 (ipykernel)",
   "language": "python",
   "name": "python3"
  },
  "language_info": {
   "codemirror_mode": {
    "name": "ipython",
    "version": 3
   },
   "file_extension": ".py",
   "mimetype": "text/x-python",
   "name": "python",
   "nbconvert_exporter": "python",
   "pygments_lexer": "ipython3",
   "version": "3.10.6"
  }
 },
 "nbformat": 4,
 "nbformat_minor": 5
}
