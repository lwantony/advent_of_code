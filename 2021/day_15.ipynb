{
 "cells": [
  {
   "cell_type": "code",
   "execution_count": 1,
   "id": "d5430d63",
   "metadata": {},
   "outputs": [],
   "source": [
    "from IPython.core.interactiveshell import InteractiveShell\n",
    "InteractiveShell.ast_node_interactivity = \"all\""
   ]
  },
  {
   "cell_type": "code",
   "execution_count": 2,
   "id": "033707be",
   "metadata": {},
   "outputs": [],
   "source": [
    "test= [\n",
    "'1163751742',\n",
    "'1381373672',\n",
    "'2136511328',\n",
    "'3694931569',\n",
    "'7463417111',\n",
    "'1319128137',\n",
    "'1359912421',\n",
    "'3125421639',\n",
    "'1293138521',\n",
    "'2311944581',\n",
    "]"
   ]
  },
  {
   "cell_type": "markdown",
   "id": "05d077c5",
   "metadata": {},
   "source": [
    "# A* Algorithm\n",
    "- brought to you by https://www.redblobgames.com/pathfinding/a-star/introduction.html"
   ]
  },
  {
   "cell_type": "code",
   "execution_count": 3,
   "id": "187f74ea",
   "metadata": {},
   "outputs": [],
   "source": [
    "import heapq\n",
    "\n",
    "class PriorityQueue:\n",
    "    def __init__(self):\n",
    "        self.elements: list[tuple[float, tuple]] = []\n",
    "    \n",
    "    def empty(self) -> bool:\n",
    "        return not self.elements\n",
    "    \n",
    "    def put(self, item: tuple, priority: float):\n",
    "        heapq.heappush(self.elements, (priority, item))\n",
    "    \n",
    "    def get(self) -> tuple:\n",
    "        return heapq.heappop(self.elements)[1]"
   ]
  },
  {
   "cell_type": "code",
   "execution_count": 4,
   "id": "b29c618d",
   "metadata": {},
   "outputs": [],
   "source": [
    "class RiskMap:\n",
    "    def __init__(self, input_grid):\n",
    "        self._cost_grid =  self._read_grid(input_grid)\n",
    "        self._end_corner = (len(self._cost_grid)-1,len(self._cost_grid[0])-1)\n",
    "        self._travel_cost =None\n",
    "        self._path =None\n",
    "    \n",
    "    def _manhatten_dist(self, cur_pt, end=None):\n",
    "        if end is None:\n",
    "            end = self._end_corner\n",
    "        \n",
    "        return abs(cur_pt[0] - end[0])+abs(cur_pt[1]-end[1])\n",
    "        \n",
    "    def _read_grid(self, input_grid):\n",
    "        cost_grid=[]\n",
    "        for line in input_grid:\n",
    "            cost_grid.append([int(i) for i in line.strip()])\n",
    "        return cost_grid\n",
    "    \n",
    "    def _get_neighbors(self, cur_pt):\n",
    "        add_amounts = [(1,0) , (-1,0), (0,1), (0,-1)]\n",
    "        (x_lim, y_lim) = self._end_corner\n",
    "        neighbors = [ tuple([cur_pt[i]+a[i] for i in range(2)]) for a in add_amounts \n",
    "                                                        if  ((cur_pt[0]+a[0] >=0) \n",
    "                                                            &(cur_pt[1]+a[1] >=0) \n",
    "                                                            &(cur_pt[0]+a[0] <=x_lim) \n",
    "                                                            &(cur_pt[1]+a[1] <=y_lim) \n",
    "                                                           ) ]\n",
    "                    \n",
    "        return neighbors\n",
    "    \n",
    "    def _get_cost(self,pt):\n",
    "        return  self._cost_grid[pt[0]][pt[1]] \n",
    "    \n",
    "    def __str__(self):\n",
    "        \"\"\"\n",
    "        I like visuals so this plots out the path :) \n",
    "        \"\"\"\n",
    "        if self._path is not None:\n",
    "            full_grid = [ ['   ' for _i in range(self._end_corner[1]+1)] for _j in range(self._end_corner[0]+1)]\n",
    "\n",
    "            pt = self._end_corner\n",
    "            full_grid[pt[0]][pt[1]] =  f'{self._travel_cost[pt]:3d}'\n",
    "            \n",
    "            while pt != (0,0) :\n",
    "                pt = self._path[pt]\n",
    "                full_grid[pt[0]][pt[1]] =  f'{self._travel_cost[pt]:3d}'\n",
    "                \n",
    "            out = ['|'.join(row) for row in full_grid]\n",
    "            return '\\n'.join(out)\n",
    "        \n",
    "    def generate_path(self, start=(0,0), end=None):\n",
    "        if end is None:\n",
    "            end = self._end_corner\n",
    "        explore = PriorityQueue()\n",
    "        explore.put(start,0)\n",
    "        came_from = {start : None}\n",
    "        cost_so_far = {start : 0}\n",
    "        \n",
    "        while not explore.empty():\n",
    "            cur_pt = explore.get()\n",
    "            if cur_pt == end:\n",
    "                break\n",
    "            for neighbor in self._get_neighbors(cur_pt):\n",
    "                new_cost = cost_so_far[cur_pt] + self._get_cost(neighbor)\n",
    "                if neighbor not in cost_so_far.keys() or new_cost < cost_so_far[neighbor]:\n",
    "                    cost_so_far[neighbor] = new_cost\n",
    "                    priority = new_cost + self._manhatten_dist(neighbor)\n",
    "                    explore.put(neighbor, priority)\n",
    "                    came_from[neighbor] = cur_pt\n",
    "                    \n",
    "                    \n",
    "        self._path = came_from\n",
    "        self._travel_cost = cost_so_far\n",
    "        return cost_so_far[end]\n",
    "                \n",
    "                \n",
    "   "
   ]
  },
  {
   "cell_type": "code",
   "execution_count": 5,
   "id": "87673a75",
   "metadata": {},
   "outputs": [],
   "source": [
    "class RiskMap5(RiskMap):\n",
    "    def __init__(self, input_grid):\n",
    "        RiskMap.__init__(self, input_grid)\n",
    "        self._end_corner = (len(self._cost_grid)*5-1,len(self._cost_grid[0])*5-1)\n",
    "        \n",
    "    def _get_cost(self,pt):\n",
    "        limits = [x+1 for x in self._end_corner]\n",
    "        limits = [ x//5 for x in limits ]\n",
    "    \n",
    "        fold_copy = [ pt[i]//limits[i] for i in range(2) ]\n",
    "        \n",
    "        orig_point = [int(pt[i] - fold_copy[i]*limits[i]) for i in range(2)]\n",
    "        \n",
    "        original_cost = self._cost_grid[orig_point[0]][orig_point[1]] \n",
    "        # we're only 1-9 digits, so its mod 9 but shifted we need 9 to be 9 and 10 -> 1 \n",
    "        # so subtract 1 to put on 0-8 scale, add what's needed, take modulo, and add 1 to go back to 1-9 scale\n",
    "        new_cost = ((original_cost-1) + sum(fold_copy))%9 +1\n",
    "    \n",
    "        return  new_cost\n",
    "        \n",
    "        "
   ]
  },
  {
   "cell_type": "code",
   "execution_count": 6,
   "id": "ec4e501b",
   "metadata": {},
   "outputs": [],
   "source": [
    "tmap =  RiskMap(test)\n",
    "t5map =  RiskMap5(test)"
   ]
  },
  {
   "cell_type": "code",
   "execution_count": 7,
   "id": "a11a6ebb",
   "metadata": {},
   "outputs": [
    {
     "data": {
      "text/plain": [
       "40"
      ]
     },
     "execution_count": 7,
     "metadata": {},
     "output_type": "execute_result"
    },
    {
     "data": {
      "text/plain": [
       "315"
      ]
     },
     "execution_count": 7,
     "metadata": {},
     "output_type": "execute_result"
    }
   ],
   "source": [
    "tmap.generate_path()\n",
    "t5map.generate_path()"
   ]
  },
  {
   "cell_type": "code",
   "execution_count": 8,
   "id": "af2c76db",
   "metadata": {},
   "outputs": [
    {
     "data": {
      "text/plain": [
       "2021"
      ]
     },
     "execution_count": 8,
     "metadata": {},
     "output_type": "execute_result"
    }
   ],
   "source": [
    "int('011111100101',2)"
   ]
  },
  {
   "cell_type": "code",
   "execution_count": 9,
   "id": "2a86670e",
   "metadata": {},
   "outputs": [
    {
     "name": "stdout",
     "output_type": "stream",
     "text": [
      "  0|   |   |   |   |   |   |   |   |   \n",
      "  1|   |   |   |   |   |   |   |   |   \n",
      "  3|  4|  7| 13| 18| 19| 20|   |   |   \n",
      "   |   |   |   |   |   | 21| 26|   |   \n",
      "   |   |   |   |   |   |   | 27| 28|   \n",
      "   |   |   |   |   |   |   |   | 31|   \n",
      "   |   |   |   |   |   |   |   | 33|   \n",
      "   |   |   |   |   |   |   |   | 36|   \n",
      "   |   |   |   |   |   |   |   | 38| 39\n",
      "   |   |   |   |   |   |   |   |   | 40\n"
     ]
    }
   ],
   "source": [
    "print(tmap)\n"
   ]
  },
  {
   "cell_type": "code",
   "execution_count": 10,
   "id": "e1cceb41",
   "metadata": {},
   "outputs": [],
   "source": [
    "with open('tmp_test15.txt','w') as f:\n",
    "    print(t5map, file=f)"
   ]
  },
  {
   "cell_type": "code",
   "execution_count": 11,
   "id": "46b80a78",
   "metadata": {},
   "outputs": [],
   "source": [
    "prd_data =[]\n",
    "with open('data/input_15.txt', 'r') as f:\n",
    "    prd_data = [line.strip() for line in f.readlines()]"
   ]
  },
  {
   "cell_type": "code",
   "execution_count": 12,
   "id": "6dabb71f",
   "metadata": {},
   "outputs": [],
   "source": [
    "prd_map = RiskMap(prd_data)\n",
    "prd_map_5 = RiskMap5(prd_data)"
   ]
  },
  {
   "cell_type": "code",
   "execution_count": 13,
   "id": "a6d57f34",
   "metadata": {},
   "outputs": [
    {
     "name": "stdout",
     "output_type": "stream",
     "text": [
      "CPU times: user 87.5 ms, sys: 1.96 ms, total: 89.4 ms\n",
      "Wall time: 88.9 ms\n"
     ]
    },
    {
     "data": {
      "text/plain": [
       "537"
      ]
     },
     "execution_count": 13,
     "metadata": {},
     "output_type": "execute_result"
    }
   ],
   "source": [
    "%%time\n",
    "prd_map.generate_path()"
   ]
  },
  {
   "cell_type": "code",
   "execution_count": 14,
   "id": "7cd91311",
   "metadata": {},
   "outputs": [
    {
     "name": "stdout",
     "output_type": "stream",
     "text": [
      "CPU times: user 2.41 s, sys: 13.6 ms, total: 2.43 s\n",
      "Wall time: 2.43 s\n"
     ]
    },
    {
     "data": {
      "text/plain": [
       "2881"
      ]
     },
     "execution_count": 14,
     "metadata": {},
     "output_type": "execute_result"
    }
   ],
   "source": [
    "%%time\n",
    "prd_map_5.generate_path()"
   ]
  },
  {
   "cell_type": "code",
   "execution_count": 15,
   "id": "d96b540f",
   "metadata": {},
   "outputs": [],
   "source": [
    "with open('tmp.txt','w') as f:\n",
    "    print(prd_map, file=f)"
   ]
  },
  {
   "cell_type": "code",
   "execution_count": null,
   "id": "cd1e0ce7",
   "metadata": {},
   "outputs": [],
   "source": []
  }
 ],
 "metadata": {
  "kernelspec": {
   "display_name": "Python 3 (ipykernel)",
   "language": "python",
   "name": "python3"
  },
  "language_info": {
   "codemirror_mode": {
    "name": "ipython",
    "version": 3
   },
   "file_extension": ".py",
   "mimetype": "text/x-python",
   "name": "python",
   "nbconvert_exporter": "python",
   "pygments_lexer": "ipython3",
   "version": "3.10.6"
  }
 },
 "nbformat": 4,
 "nbformat_minor": 5
}
