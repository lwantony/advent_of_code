{
 "cells": [
  {
   "cell_type": "code",
   "execution_count": 1,
   "id": "right-subscription",
   "metadata": {},
   "outputs": [],
   "source": [
    "from IPython.core.interactiveshell import InteractiveShell\n",
    "InteractiveShell.ast_node_interactivity = \"all\""
   ]
  },
  {
   "cell_type": "code",
   "execution_count": 2,
   "id": "hired-invasion",
   "metadata": {},
   "outputs": [],
   "source": [
    "test= [\n",
    "'NNCB',\n",
    "'',\n",
    "'CH -> B',\n",
    "'HH -> N',\n",
    "'CB -> H',\n",
    "'NH -> C',\n",
    "'HB -> C',\n",
    "'HC -> B',\n",
    "'HN -> C',\n",
    "'NN -> C',\n",
    "'BH -> H',\n",
    "'NC -> B',\n",
    "'NB -> B',\n",
    "'BN -> B',\n",
    "'BB -> N',\n",
    "'BC -> B',\n",
    "'CC -> N',\n",
    "'CN -> C',\n",
    "]"
   ]
  },
  {
   "cell_type": "code",
   "execution_count": 5,
   "id": "important-adjustment",
   "metadata": {},
   "outputs": [],
   "source": [
    "class Polymerize:\n",
    "    \n",
    "    def perform_n_steps(self, nsteps):\n",
    "        rules = self._rules.copy()\n",
    "        last_step = {}\n",
    "        for i in range(len(self._template)-1):\n",
    "            try:\n",
    "                last_step[self._template[i:i+2]] +=1\n",
    "            except:\n",
    "                last_step[self._template[i:i+2]]=1\n",
    "        \n",
    "        \n",
    "        cur_step = last_step.copy()\n",
    "        \n",
    "        for i in range(nsteps):\n",
    "            for pair, count in last_step.items():\n",
    "                if pair in rules.keys():\n",
    "                    cur_step[pair] -= count\n",
    "                    left_new = pair[0]+ rules[pair]\n",
    "                    right_new = rules[pair]+pair[1]\n",
    "                    try:\n",
    "                        cur_step[left_new] +=count\n",
    "                    except:\n",
    "                        cur_step[left_new] =count\n",
    "                    try:\n",
    "                        cur_step[right_new] +=count\n",
    "                    except:\n",
    "                        cur_step[right_new] =count\n",
    "                        \n",
    "            last_step =cur_step.copy()\n",
    "                    \n",
    "        \n",
    "        return last_step\n",
    "    \n",
    "    def score_n_steps(self, steps=10):\n",
    "        pairs_left = self.perform_n_steps(steps)\n",
    "        \n",
    "        counts={}\n",
    "        for pair,count in pairs_left.items(): \n",
    "            \n",
    "            for monomer in pair:\n",
    "                try:\n",
    "                    counts[monomer]+=count\n",
    "                except:\n",
    "                    counts[monomer]=count\n",
    "                \n",
    "        max_val,min_val = -1,float('inf')\n",
    "        \n",
    "        # all internal points are double counted\n",
    "        for monomer, cnt in counts.items():\n",
    "            counts[monomer] = cnt/2\n",
    "            \n",
    "        # add back for ends\n",
    "        for monomer in [self._template[0], self._template[-1]]:\n",
    "            counts[monomer] +=0.5\n",
    "            \n",
    "        \n",
    "        for val in counts.values():\n",
    "            max_val = max(max_val, val)\n",
    "            min_val = min(min_val, val)\n",
    "            \n",
    "        \n",
    "        return max_val-min_val\n",
    "        \n",
    "        \n",
    "    \n",
    "    def __init__(self, data):\n",
    "        self._template = data[0].strip()\n",
    "        self._rules={}\n",
    "        \n",
    "        for line in data[2:]:\n",
    "            pair, insert = line.strip().split(' -> ')\n",
    "            self._rules[pair] = insert\n",
    "        \n",
    "        "
   ]
  },
  {
   "cell_type": "code",
   "execution_count": 6,
   "id": "thermal-symbol",
   "metadata": {},
   "outputs": [],
   "source": [
    "tpoly = Polymerize(test)"
   ]
  },
  {
   "cell_type": "code",
   "execution_count": 7,
   "id": "split-democrat",
   "metadata": {},
   "outputs": [
    {
     "data": {
      "text/plain": [
       "'NNCB'"
      ]
     },
     "execution_count": 7,
     "metadata": {},
     "output_type": "execute_result"
    }
   ],
   "source": [
    "tpoly._template"
   ]
  },
  {
   "cell_type": "code",
   "execution_count": 8,
   "id": "asian-renaissance",
   "metadata": {},
   "outputs": [
    {
     "data": {
      "text/plain": [
       "{'NN': 0,\n",
       " 'NC': 0,\n",
       " 'CB': 2,\n",
       " 'CN': 1,\n",
       " 'NB': 2,\n",
       " 'BC': 2,\n",
       " 'CH': 0,\n",
       " 'HB': 0,\n",
       " 'CC': 1,\n",
       " 'BB': 2,\n",
       " 'BH': 1,\n",
       " 'HC': 1}"
      ]
     },
     "execution_count": 8,
     "metadata": {},
     "output_type": "execute_result"
    }
   ],
   "source": [
    "tpoly.perform_n_steps(2)"
   ]
  },
  {
   "cell_type": "code",
   "execution_count": 9,
   "id": "olympic-decade",
   "metadata": {},
   "outputs": [
    {
     "data": {
      "text/plain": [
       "1588.0"
      ]
     },
     "execution_count": 9,
     "metadata": {},
     "output_type": "execute_result"
    },
    {
     "data": {
      "text/plain": [
       "2188189693529.0"
      ]
     },
     "execution_count": 9,
     "metadata": {},
     "output_type": "execute_result"
    }
   ],
   "source": [
    "tpoly.score_n_steps()\n",
    "tpoly.score_n_steps(40)"
   ]
  },
  {
   "cell_type": "code",
   "execution_count": 10,
   "id": "fifteen-forward",
   "metadata": {},
   "outputs": [],
   "source": [
    "prod_poly=None\n",
    "with open('data/input_14.txt','r') as f:\n",
    "    data = f.readlines()\n",
    "    prod_poly=Polymerize(data)"
   ]
  },
  {
   "cell_type": "code",
   "execution_count": 11,
   "id": "surface-cream",
   "metadata": {},
   "outputs": [
    {
     "data": {
      "text/plain": [
       "3247.0"
      ]
     },
     "execution_count": 11,
     "metadata": {},
     "output_type": "execute_result"
    },
    {
     "data": {
      "text/plain": [
       "4110568157153.0"
      ]
     },
     "execution_count": 11,
     "metadata": {},
     "output_type": "execute_result"
    }
   ],
   "source": [
    "prod_poly.score_n_steps()\n",
    "prod_poly.score_n_steps(40)"
   ]
  },
  {
   "cell_type": "code",
   "execution_count": null,
   "id": "damaged-mambo",
   "metadata": {},
   "outputs": [],
   "source": []
  }
 ],
 "metadata": {
  "kernelspec": {
   "display_name": "Python 3",
   "language": "python",
   "name": "python3"
  },
  "language_info": {
   "codemirror_mode": {
    "name": "ipython",
    "version": 3
   },
   "file_extension": ".py",
   "mimetype": "text/x-python",
   "name": "python",
   "nbconvert_exporter": "python",
   "pygments_lexer": "ipython3",
   "version": "3.8.5"
  }
 },
 "nbformat": 4,
 "nbformat_minor": 5
}
