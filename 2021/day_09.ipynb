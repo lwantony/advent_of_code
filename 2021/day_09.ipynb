{
 "cells": [
  {
   "cell_type": "code",
   "execution_count": 2,
   "metadata": {},
   "outputs": [],
   "source": [
    "from IPython.core.interactiveshell import InteractiveShell\n",
    "InteractiveShell.ast_node_interactivity = \"all\""
   ]
  },
  {
   "cell_type": "code",
   "execution_count": 1,
   "metadata": {},
   "outputs": [],
   "source": [
    "class VolcanoShafts:\n",
    "    def _read_file(self, file):\n",
    "        grid =[]\n",
    "        with open(file, 'r') as f:\n",
    "            for line in f.readlines():\n",
    "                grid.append([int(x) for x in line.strip('\\n')])\n",
    "        return grid \n",
    "    \n",
    "    def _get_neighbors(self,pt):\n",
    "        nrow=len(self._grid)\n",
    "        ncol=len(self._grid[0])\n",
    "        neighbors = []\n",
    "        if pt[0] > 0:\n",
    "            neighbors.append((pt[0]-1, pt[1]))\n",
    "        if pt[0] < nrow-1:\n",
    "            neighbors.append((pt[0]+1, pt[1]))\n",
    "        if pt[1] > 0:\n",
    "            neighbors.append((pt[0], pt[1]-1))\n",
    "        if pt[1] < ncol-1:                \n",
    "            neighbors.append((pt[0], pt[1]+1))\n",
    "    \n",
    "        return neighbors\n",
    "        \n",
    "        \n",
    "    def _get_basin_area(self,seen_grid, pt):\n",
    "        area =0\n",
    "        pts_to_check=[pt]\n",
    "        while len(pts_to_check) >0:\n",
    "            check_pt = pts_to_check.pop()\n",
    "            if not seen_grid[check_pt[0]][check_pt[1]]:\n",
    "                if self._grid[check_pt[0]][check_pt[1]] < 9:\n",
    "                    area+=1\n",
    "                    pts_to_check.extend(self._get_neighbors(check_pt))\n",
    "                    \n",
    "                seen_grid[check_pt[0]][check_pt[1]] = True\n",
    "        return seen_grid, area\n",
    "            \n",
    "        \n",
    "    def basin_calc_area(self):\n",
    "        nrow=len(self._grid)\n",
    "        ncol=len(self._grid[0])\n",
    "        seen_grid = [ [False for c in range(ncol)] for r in range(nrow) ]\n",
    "        areas = []\n",
    "        \n",
    "        if self._low_pts is None:\n",
    "            score = self.get_low_points()\n",
    "       \n",
    "        #Didn't realize a basin NEEDED a single low point when first read\n",
    "        for seed in self._low_pts:\n",
    "            seen_grid, area = self._get_basin_area(seen_grid, seed)\n",
    "            areas.append(area)\n",
    "        \n",
    "#        for r in range(nrow):\n",
    "#            for c in range(ncol):\n",
    "#                if not seen_grid[r][c]:\n",
    "#                    if self._grid[r][c] == 9:\n",
    "#                        seen_grid[r][c] = True\n",
    "#                    else:\n",
    "#                        seen_grid, area = self._get_basin_area(seen_grid, (r,c))\n",
    "#                        areas.append(area)\n",
    "        self._areas = areas\n",
    "                        \n",
    "    def basin_part2(self):\n",
    "        self.basin_calc_area()\n",
    "        top_three = sorted(self._areas)[-3:]\n",
    "        return top_three[0]*top_three[1]*top_three[2]\n",
    "                \n",
    "    \n",
    "    def get_low_points(self):\n",
    "        score=0\n",
    "        low_points=[]\n",
    "        \n",
    "        nrow=len(self._grid)\n",
    "        for ri,row in enumerate(self._grid):\n",
    "            ncol=len(row)\n",
    "            for ci,val in enumerate(row):\n",
    "                before_c = True if ci==0 else val < self._grid[ri][ci-1]\n",
    "                before_r = True if ri==0 else val < self._grid[ri-1][ci]\n",
    "                \n",
    "                after_c = True if ci==ncol-1 else val < self._grid[ri][ci+1]\n",
    "                after_r = True if ri==nrow-1 else val < self._grid[ri+1][ci]\n",
    "                \n",
    "                if before_c and before_r and after_c and after_r:\n",
    "                    score+=(val+1)\n",
    "                    low_points.append((ri,ci))\n",
    "        self._low_pts =low_points\n",
    "        return score\n",
    "            \n",
    "    \n",
    "    def __init__(self, file):\n",
    "        \n",
    "        self._grid = self._read_file(file)\n",
    "        self._low_pts = None\n"
   ]
  },
  {
   "cell_type": "code",
   "execution_count": 2,
   "metadata": {},
   "outputs": [],
   "source": [
    "volcano = VolcanoShafts('data/input_9.txt')"
   ]
  },
  {
   "cell_type": "code",
   "execution_count": 3,
   "metadata": {},
   "outputs": [
    {
     "data": {
      "text/plain": [
       "577"
      ]
     },
     "execution_count": 3,
     "metadata": {},
     "output_type": "execute_result"
    }
   ],
   "source": [
    "volcano.get_low_points()"
   ]
  },
  {
   "cell_type": "code",
   "execution_count": 4,
   "metadata": {},
   "outputs": [
    {
     "data": {
      "text/plain": [
       "1069200"
      ]
     },
     "execution_count": 4,
     "metadata": {},
     "output_type": "execute_result"
    }
   ],
   "source": [
    "volcano.basin_part2()"
   ]
  },
  {
   "cell_type": "code",
   "execution_count": null,
   "metadata": {},
   "outputs": [],
   "source": []
  },
  {
   "cell_type": "code",
   "execution_count": null,
   "metadata": {},
   "outputs": [],
   "source": []
  },
  {
   "cell_type": "code",
   "execution_count": 5,
   "metadata": {},
   "outputs": [],
   "source": [
    "volcano = VolcanoShafts('data/test_9.txt')\n",
    "                "
   ]
  },
  {
   "cell_type": "code",
   "execution_count": 7,
   "metadata": {},
   "outputs": [
    {
     "data": {
      "text/plain": [
       "15"
      ]
     },
     "execution_count": 7,
     "metadata": {},
     "output_type": "execute_result"
    }
   ],
   "source": [
    "volcano.get_low_points()"
   ]
  },
  {
   "cell_type": "code",
   "execution_count": 8,
   "metadata": {},
   "outputs": [
    {
     "data": {
      "text/plain": [
       "1134"
      ]
     },
     "execution_count": 8,
     "metadata": {},
     "output_type": "execute_result"
    }
   ],
   "source": [
    "volcano.basin_part2()"
   ]
  },
  {
   "cell_type": "code",
   "execution_count": null,
   "metadata": {},
   "outputs": [],
   "source": []
  }
 ],
 "metadata": {
  "kernelspec": {
   "display_name": "cop_env",
   "language": "python",
   "name": "cop_env"
  },
  "language_info": {
   "codemirror_mode": {
    "name": "ipython",
    "version": 3
   },
   "file_extension": ".py",
   "mimetype": "text/x-python",
   "name": "python",
   "nbconvert_exporter": "python",
   "pygments_lexer": "ipython3",
   "version": "3.7.8"
  }
 },
 "nbformat": 4,
 "nbformat_minor": 4
}
