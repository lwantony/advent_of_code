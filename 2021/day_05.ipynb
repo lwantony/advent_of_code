{
 "cells": [
  {
   "cell_type": "code",
   "execution_count": 2,
   "metadata": {},
   "outputs": [],
   "source": [
    "from IPython.core.interactiveshell import InteractiveShell\n",
    "InteractiveShell.ast_node_interactivity = \"all\""
   ]
  },
  {
   "cell_type": "code",
   "execution_count": 8,
   "metadata": {},
   "outputs": [],
   "source": [
    "line_coords = []\n",
    "with open('data/input_5.txt') as f:\n",
    "    line = f.readline() \n",
    "    while  line:\n",
    "        start, end = line.strip('\\n').split(' -> ')\n",
    "        start = [int(i) for i in start.split(',')]\n",
    "        end = [int(i) for i in end.split(',')]\n",
    "        line_coords.append((start, end))\n",
    "        \n",
    "        line = f.readline() \n",
    "        "
   ]
  },
  {
   "cell_type": "code",
   "execution_count": 34,
   "metadata": {},
   "outputs": [],
   "source": [
    "def create_flatten_idx(coord, num_cols):\n",
    "    return num_cols*coord[1] + coord[0]\n",
    "\n",
    "def count_multi_hit(pt_dict):\n",
    "    tot=0\n",
    "    for val in pt_dict.values():\n",
    "        if val > 1:\n",
    "            tot+=1\n",
    "    return tot\n",
    "    \n",
    "    \n",
    "def count_seen_pts(line_list):\n",
    "    pt_array = {}\n",
    "    max_corner = [0,0]\n",
    "    for line in line_list:\n",
    "        pt1, pt2 = line\n",
    "        curr_max = [ max(pt1[i], pt2[i]) for i in range (2)]\n",
    "        max_corner = [ max(max_corner[i], curr_max[i]) for i in range (2)]\n",
    "    num_cols= max_corner[1]+1\n",
    "    # just the horizontal and vertical lines\n",
    "    for line in line_list:\n",
    "        pt1, pt2 = line\n",
    "        if (pt1[0] != pt2[0]) and (pt1[1] != pt2[1]):\n",
    "            continue\n",
    "        #index of change\n",
    "        idx = 1 if (pt1[0] == pt2[0]) else 0\n",
    "        \n",
    "        start=min(pt1[idx],pt2[idx])\n",
    "        end=max(pt1[idx],pt2[idx])\n",
    "        \n",
    "        for i in range(start,end+1):\n",
    "            tmp= [0,0]\n",
    "            tmp[idx] = i \n",
    "            tmp[(idx+1)%2] = pt1[(idx+1)%2]\n",
    "            cur_pt = create_flatten_idx(tmp, num_cols)\n",
    "            try:\n",
    "                pt_array[cur_pt] +=1\n",
    "            except:\n",
    "                # if index issue create it\n",
    "                pt_array[cur_pt] = 1\n",
    "    tot_twice_h_v=count_multi_hit(pt_array)\n",
    "    \n",
    "#    return tot_twice_h_v\n",
    "\n",
    "    #Add diagonals\n",
    "               \n",
    "    for line in line_list:\n",
    "        pt1, pt2 = line\n",
    "    \n",
    "        diff = [pt2[i] -pt1[i] for i in range(2)]\n",
    "        if np.abs(diff[0]) != np.abs(diff[1]):\n",
    "            continue\n",
    "            \n",
    "        sign = [ -1 if x < 0 else 1 for x in diff]\n",
    "        \n",
    "        for i in range(abs(diff[0])+1):\n",
    "            x =pt1[0]+sign[0]*i\n",
    "            y =pt1[1]+sign[1]*i\n",
    "            cur_pt = create_flatten_idx((x,y), num_cols)\n",
    "            try:\n",
    "                pt_array[cur_pt] +=1\n",
    "            except:\n",
    "                # if index issue create it\n",
    "                pt_array[cur_pt] = 1\n",
    "    \n",
    "    tot_twice_h_v_d=count_multi_hit(pt_array)\n",
    "    \n",
    "    return tot_twice_h_v, tot_twice_h_v_d\n",
    "    \n",
    "    \n",
    "    "
   ]
  },
  {
   "cell_type": "code",
   "execution_count": 35,
   "metadata": {},
   "outputs": [
    {
     "data": {
      "text/plain": [
       "(7414, 19676)"
      ]
     },
     "execution_count": 35,
     "metadata": {},
     "output_type": "execute_result"
    }
   ],
   "source": [
    "count_seen_pts(line_coords)"
   ]
  },
  {
   "cell_type": "code",
   "execution_count": null,
   "metadata": {},
   "outputs": [],
   "source": []
  },
  {
   "cell_type": "code",
   "execution_count": null,
   "metadata": {},
   "outputs": [],
   "source": []
  },
  {
   "cell_type": "markdown",
   "metadata": {},
   "source": [
    "# Fist Way\n",
    "- The use of numpy array is heavier storage\n",
    "- going to a more sparse memory storage above and keep similar algorithm (assuming the try/except makes things easier than looking if index had been visited"
   ]
  },
  {
   "cell_type": "code",
   "execution_count": 10,
   "metadata": {},
   "outputs": [],
   "source": [
    "max_corner = [0,0]\n",
    "for line in line_coords:\n",
    "    pt1, pt2 = line\n",
    "    curr_max = [ max(pt1[i], pt2[i]) for i in range (2)]\n",
    "    max_corner = [ max(max_corner[i], curr_max[i]) for i in range (2)]\n"
   ]
  },
  {
   "cell_type": "code",
   "execution_count": 11,
   "metadata": {},
   "outputs": [
    {
     "data": {
      "text/plain": [
       "[990, 990]"
      ]
     },
     "execution_count": 11,
     "metadata": {},
     "output_type": "execute_result"
    }
   ],
   "source": [
    "max_corner"
   ]
  },
  {
   "cell_type": "code",
   "execution_count": 15,
   "metadata": {},
   "outputs": [],
   "source": []
  },
  {
   "cell_type": "code",
   "execution_count": 17,
   "metadata": {},
   "outputs": [],
   "source": [
    "seen_points = np.zeros([ i+1 for i in max_corner])\n",
    "for line in line_coords:\n",
    "    pt1, pt2 = line\n",
    "    if (pt1[0] != pt2[0]) and (pt1[1] != pt2[1]):\n",
    "        continue\n",
    "    if (pt1[0] == pt2[0]):\n",
    "        start=min(pt1[1],pt2[1])\n",
    "        end=max(pt1[1],pt2[1])\n",
    "        \n",
    "        for i in range(start,end+1):\n",
    "            seen_points[pt1[0]][i] += 1\n",
    "    \n",
    "    if (pt1[1] == pt2[1]):\n",
    "        start=min(pt1[0],pt2[0])\n",
    "        end=max(pt1[0],pt2[0])\n",
    "        \n",
    "        for i in range(start,end+1):\n",
    "            seen_points[i][pt1[1]] += 1"
   ]
  },
  {
   "cell_type": "code",
   "execution_count": 21,
   "metadata": {},
   "outputs": [
    {
     "data": {
      "text/plain": [
       "7414"
      ]
     },
     "execution_count": 21,
     "metadata": {},
     "output_type": "execute_result"
    }
   ],
   "source": [
    "(seen_points > 1).sum()"
   ]
  },
  {
   "cell_type": "code",
   "execution_count": 29,
   "metadata": {},
   "outputs": [],
   "source": [
    "## Add in the diagonal lines\n",
    "for line in line_coords:\n",
    "    pt1, pt2 = line\n",
    "    if (pt1[0] == pt2[0]) or (pt1[1] == pt2[1]):\n",
    "        continue\n",
    "    \n",
    "    diff = [pt2[i] -pt1[i] for i in range(2)]\n",
    "    if np.abs(diff[0]) != np.abs(diff[1]):\n",
    "        continue\n",
    "    sign = [ -1 if x < 0 else 1 for x in diff]\n",
    "    for i in range(abs(diff[0])+1):\n",
    "        x =pt1[0]+sign[0]*i\n",
    "        y =pt1[1]+sign[1]*i\n",
    "        seen_points[x][y] += 1\n"
   ]
  },
  {
   "cell_type": "code",
   "execution_count": 30,
   "metadata": {},
   "outputs": [
    {
     "data": {
      "text/plain": [
       "19676"
      ]
     },
     "execution_count": 30,
     "metadata": {},
     "output_type": "execute_result"
    }
   ],
   "source": [
    "(seen_points > 1).sum()"
   ]
  },
  {
   "cell_type": "code",
   "execution_count": null,
   "metadata": {},
   "outputs": [],
   "source": []
  }
 ],
 "metadata": {
  "kernelspec": {
   "display_name": "work_env",
   "language": "python",
   "name": "work_env"
  },
  "language_info": {
   "codemirror_mode": {
    "name": "ipython",
    "version": 3
   },
   "file_extension": ".py",
   "mimetype": "text/x-python",
   "name": "python",
   "nbconvert_exporter": "python",
   "pygments_lexer": "ipython3",
   "version": "3.9.1rc1"
  }
 },
 "nbformat": 4,
 "nbformat_minor": 4
}
