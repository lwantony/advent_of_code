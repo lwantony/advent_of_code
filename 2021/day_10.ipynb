{
 "cells": [
  {
   "cell_type": "code",
   "execution_count": 1,
   "metadata": {},
   "outputs": [],
   "source": [
    "from IPython.core.interactiveshell import InteractiveShell\n",
    "InteractiveShell.ast_node_interactivity = \"all\""
   ]
  },
  {
   "cell_type": "code",
   "execution_count": null,
   "metadata": {},
   "outputs": [],
   "source": []
  },
  {
   "cell_type": "code",
   "execution_count": 2,
   "metadata": {},
   "outputs": [],
   "source": [
    "test_line = '{([(<{}[<>[]}>{[]{[(<()>'"
   ]
  },
  {
   "cell_type": "code",
   "execution_count": 3,
   "metadata": {},
   "outputs": [],
   "source": [
    "def find_pairings_part1(text_line):\n",
    "    right_icon_score = { \n",
    "        ')': 3,\n",
    "        ']': 57,\n",
    "        '}': 1197,\n",
    "        '>': 25137 ,\n",
    "    }\n",
    "    \n",
    "    left_icons={\n",
    "        '(':')',\n",
    "        '[':']',\n",
    "        '{':'}',\n",
    "        '<':'>',\n",
    "    }\n",
    "    left_singles = []\n",
    "    \n",
    "    for cur in text_line:\n",
    "        if cur in left_icons.keys():\n",
    "            left_singles.append(cur)\n",
    "            \n",
    "            \n",
    "        if cur in right_icon_score.keys():\n",
    "            l_match = left_singles.pop()\n",
    "            if cur != left_icons[l_match]:\n",
    "                return right_icon_score[cur]\n",
    "    return 0\n",
    "        "
   ]
  },
  {
   "cell_type": "code",
   "execution_count": 7,
   "metadata": {},
   "outputs": [
    {
     "data": {
      "text/plain": [
       "1197"
      ]
     },
     "execution_count": 7,
     "metadata": {},
     "output_type": "execute_result"
    }
   ],
   "source": [
    "find_pairings_part1(test_line)"
   ]
  },
  {
   "cell_type": "code",
   "execution_count": 8,
   "metadata": {},
   "outputs": [],
   "source": [
    "def find_pairings_part2(text_line):\n",
    "    right_icon_score = { \n",
    "        ')': 1,\n",
    "        ']': 2,\n",
    "        '}': 3,\n",
    "        '>': 4,\n",
    "    }\n",
    "    \n",
    "    left_icons={\n",
    "        '(':')',\n",
    "        '[':']',\n",
    "        '{':'}',\n",
    "        '<':'>',\n",
    "    }\n",
    "    left_singles = []\n",
    "    \n",
    "    for cur in text_line:\n",
    "        if cur in left_icons.keys():\n",
    "            left_singles.append(cur)\n",
    "            \n",
    "            \n",
    "        if cur in right_icon_score.keys():\n",
    "            l_match = left_singles.pop()\n",
    "            if cur != left_icons[l_match]:\n",
    "                return None #ignoring these lines now\n",
    "            \n",
    "    total_score = 0\n",
    "    tmp =left_singles.copy()\n",
    "    while len(left_singles) > 0 :\n",
    "        left = left_singles.pop()\n",
    "        right = left_icons[left]\n",
    "        total_score = total_score*5 + right_icon_score[right]\n",
    "    return total_score\n",
    "        "
   ]
  },
  {
   "cell_type": "code",
   "execution_count": 9,
   "metadata": {},
   "outputs": [
    {
     "name": "stdout",
     "output_type": "stream",
     "text": [
      "26397\n",
      "288957\n"
     ]
    }
   ],
   "source": [
    "with open('data/test_10.txt', 'r') as f:\n",
    "    puzzle = f.readlines()\n",
    "    score = 0\n",
    "    pt2_scores= []\n",
    "    for line in puzzle:\n",
    "        score += find_pairings_part1(line.strip())\n",
    "        pt2 = find_pairings_part2(line.strip())\n",
    "        if pt2 is not None:\n",
    "            pt2_scores.append(pt2)\n",
    "    \n",
    "    \n",
    "    print(score)\n",
    "    pt2_scores.sort()\n",
    "    print(pt2_scores[len(pt2_scores)//2])\n"
   ]
  },
  {
   "cell_type": "code",
   "execution_count": 10,
   "metadata": {},
   "outputs": [
    {
     "name": "stdout",
     "output_type": "stream",
     "text": [
      "436497\n",
      "2377613374\n"
     ]
    }
   ],
   "source": [
    "with open('data/input_10.txt', 'r') as f:\n",
    "    puzzle = f.readlines()\n",
    "    score = 0\n",
    "    pt2_scores= []\n",
    "    for line in puzzle:\n",
    "        score += find_pairings_part1(line.strip())\n",
    "        pt2 = find_pairings_part2(line.strip())\n",
    "        if pt2 is not None:\n",
    "            pt2_scores.append(pt2)\n",
    "    \n",
    "    \n",
    "    print(score)\n",
    "    pt2_scores.sort()\n",
    "    print(pt2_scores[len(pt2_scores)//2])"
   ]
  },
  {
   "cell_type": "code",
   "execution_count": null,
   "metadata": {},
   "outputs": [],
   "source": []
  },
  {
   "cell_type": "code",
   "execution_count": null,
   "metadata": {},
   "outputs": [],
   "source": []
  },
  {
   "cell_type": "code",
   "execution_count": null,
   "metadata": {},
   "outputs": [],
   "source": []
  }
 ],
 "metadata": {
  "kernelspec": {
   "display_name": "cop_env",
   "language": "python",
   "name": "cop_env"
  },
  "language_info": {
   "codemirror_mode": {
    "name": "ipython",
    "version": 3
   },
   "file_extension": ".py",
   "mimetype": "text/x-python",
   "name": "python",
   "nbconvert_exporter": "python",
   "pygments_lexer": "ipython3",
   "version": "3.7.8"
  }
 },
 "nbformat": 4,
 "nbformat_minor": 4
}
