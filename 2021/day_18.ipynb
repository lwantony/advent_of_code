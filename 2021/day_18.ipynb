{
 "cells": [
  {
   "cell_type": "code",
   "execution_count": 1,
   "metadata": {},
   "outputs": [],
   "source": [
    "from IPython.core.interactiveshell import InteractiveShell\n",
    "InteractiveShell.ast_node_interactivity = \"all\""
   ]
  },
  {
   "cell_type": "code",
   "execution_count": 431,
   "metadata": {},
   "outputs": [],
   "source": [
    "from math import floor, ceil\n",
    "from copy import deepcopy\n",
    "\n",
    "class SnailPair:\n",
    "    def __init__(self, \n",
    "                 left_val, \n",
    "                 right_val ,\n",
    "                 nesting=0,\n",
    "                 parent=None, \n",
    "                 is_left=False, \n",
    "                 is_right=False,\n",
    "                 left_idx = float('inf'),\n",
    "                 right_idx = float('inf'),\n",
    "                ):\n",
    "        \n",
    "        if type(left_val) == SnailPair:\n",
    "            left_val.update_parent(self)\n",
    "            left_val.update_side('left')\n",
    "            \n",
    "        if type(right_val) == SnailPair:\n",
    "            right_val.update_side('right')\n",
    "            right_val.update_parent(self)\n",
    "        \n",
    "        self.left_val = left_val\n",
    "        self.right_val = right_val\n",
    "        \n",
    "        self.parent = parent\n",
    "        self.nesting = nesting\n",
    "        \n",
    "        self.is_left= is_left\n",
    "        self.is_right= is_right\n",
    "        \n",
    "        self.left_idx = left_idx\n",
    "        self.right_idx = right_idx\n",
    "        \n",
    "    def update_parent(self, parent):\n",
    "        self.parent = parent\n",
    "        \n",
    "    def update_side(self, side):\n",
    "        if side == 'left':\n",
    "            self.is_left = True\n",
    "            self.is_right = False\n",
    "        if side == 'right':\n",
    "            self.is_left = False\n",
    "            self.is_right = True\n",
    "            \n",
    "        \n",
    "    def __str__(self):\n",
    "        def dive_for_string(snailnum):\n",
    "            left =snailnum.left_val\n",
    "            right = snailnum.right_val\n",
    "            if type(left) == SnailPair and type(right) == int:\n",
    "                return '['+dive_for_string(left)+f',{right:d}]'\n",
    "            if type(left) == SnailPair and type(right) == SnailPair:\n",
    "                return '['+dive_for_string(left)+',' +dive_for_string(right)+']'\n",
    "            if type(left) == int and type(right) == SnailPair:\n",
    "                return f'[{left},'+dive_for_string(right)+']'\n",
    "            if  type(left) == int and type(right) == int:\n",
    "                return f'[{left},{right}]'\n",
    "        return dive_for_string(self)\n",
    "    \n",
    "    def reduce_number_single_step(self,snumber=None):\n",
    "                \n",
    "        def process_split(parent, number, right=False, left=False):\n",
    "            if right:\n",
    "                parent.right_val = SnailPair(int(floor(number/2)), \n",
    "                                             int(ceil(number/2)),\n",
    "                                             nesting = parent.nesting+1,\n",
    "                                             parent = parent,\n",
    "                                             is_right = True, \n",
    "                                            )\n",
    "            if left:\n",
    "                parent.left_val = SnailPair(int(floor(number/2)), \n",
    "                                            int(ceil(number/2)),\n",
    "                                            nesting = parent.nesting+1,\n",
    "                                            parent = parent,\n",
    "                                            is_left = True, \n",
    "                                            )\n",
    "            \n",
    "        def add_right_child(snailnum, number):\n",
    "            while(type(snailnum.right_val)==SnailPair):\n",
    "                snailnum = snailnum.right_val\n",
    "            snailnum.right_val += number\n",
    "            \n",
    "            \n",
    "        def add_left_child(snailnum, number):\n",
    "            while(type(snailnum.left_val)==SnailPair):\n",
    "                snailnum = snailnum.left_val\n",
    "            snailnum.left_val += number\n",
    "            \n",
    "            \n",
    "        def find_neighbor_left(snailnum):\n",
    "            while snailnum.is_left:\n",
    "                snailnum = snailnum.parent\n",
    "            if snailnum.is_right:\n",
    "                return snailnum\n",
    "            else:\n",
    "                return None\n",
    "            \n",
    "        def find_neighbor_right(snailnum):\n",
    "            while snailnum.is_right:\n",
    "                snailnum = snailnum.parent\n",
    "            if snailnum.is_left:\n",
    "                return snailnum\n",
    "            else:\n",
    "                return None\n",
    "            \n",
    "        def explode_snail_pair(snailnum):\n",
    "            parent = snailnum.parent\n",
    "            left_num = snailnum.left_val\n",
    "            right_num = snailnum.right_val\n",
    "            \n",
    "            if snailnum.is_left:\n",
    "                parent.left_val =0\n",
    "            if snailnum.is_right:\n",
    "                parent.right_val=0\n",
    "                \n",
    "            if snailnum.is_left:\n",
    "                if type(parent.right_val) ==int:\n",
    "                    parent.right_val += right_num\n",
    "                else:\n",
    "                    add_left_child(parent.right_val, right_num)\n",
    "                now_right = find_neighbor_left(snailnum)\n",
    "                if now_right is not None:\n",
    "                    right_parent = now_right.parent\n",
    "                    if right_parent is not None:\n",
    "                        if type(right_parent.left_val) == int:\n",
    "                            right_parent.left_val += left_num\n",
    "                            \n",
    "                        else:\n",
    "                            add_right_child(right_parent.left_val, left_num)\n",
    "                        \n",
    "            if snailnum.is_right:\n",
    "                if type(parent.left_val) ==int:\n",
    "                    parent.left_val +=  left_num\n",
    "                    \n",
    "                else:\n",
    "                    add_right_child(parent.left_val, left_num)\n",
    "                    \n",
    "                now_left = find_neighbor_right(snailnum)\n",
    "                if now_left is not None:\n",
    "                    left_parent = now_left.parent\n",
    "                    if left_parent is not None:\n",
    "                        if type(left_parent.right_val) == int:\n",
    "                            left_parent.right_val += right_num\n",
    "                        else:\n",
    "                            add_left_child(left_parent.right_val, right_num)\n",
    "                            \n",
    "        def get_actions_by_line(snailnum ):\n",
    "            splits=[]\n",
    "            explosions=[]\n",
    "            \n",
    "            \n",
    "            brackets = []\n",
    "            numbers = []\n",
    "            \n",
    "            line = str(snailnum)\n",
    "            \n",
    "            idx=0\n",
    "            while idx < len(line):\n",
    "                s= line[idx]\n",
    "                if s == '[':\n",
    "                    brackets.append(s)\n",
    "                    idx += 1\n",
    "                elif s == ']':\n",
    "                    nesting=len(brackets)\n",
    "                    r = numbers.pop()\n",
    "                    l = numbers.pop()\n",
    "                    _ = brackets.pop()\n",
    "                    new_snail_pair = SnailPair(left_val=l[0], right_val=r[0], nesting=nesting) \n",
    "                    numbers.append((new_snail_pair, l[1]))\n",
    "                    \n",
    "                    if new_snail_pair.nesting > 4:\n",
    "#                        actions.append([0,l[1],explode_snail_pair, new_snail_pair])\n",
    "                        explosions.append([explode_snail_pair, new_snail_pair])\n",
    "                        \n",
    "                    if type(l[0]) ==int and l[0] > 9 :\n",
    "                       # actions.append([1,l[1],process_split, new_snail_pair, l[0], False, True ])\n",
    "                        splits.append([process_split, new_snail_pair, l[0], False, True ])\n",
    "                    if type(r[0])==int and r[0] > 9 :\n",
    "                        #actions.append([1,r[1],process_split, new_snail_pair, r[0], True, False ])\n",
    "                        splits.append([process_split, new_snail_pair, r[0], True, False ])\n",
    "                    \n",
    "                    idx += 1\n",
    "                elif s == ',':\n",
    "                    idx += 1\n",
    "                    continue\n",
    "                \n",
    "                else:\n",
    "                    a=1\n",
    "                    while line[idx:idx+a].isdigit():\n",
    "                        a+=1\n",
    "                        \n",
    "                    numbers.append((int(line[idx:idx+a-1]), idx))\n",
    "                    idx += a-1\n",
    "            return numbers[0][0], explosions, splits\n",
    "       \n",
    "        new_number = deepcopy(snumber) if snumber is not None else deepcopy(self)\n",
    "        #new_number, actions = get_actions_by_line(new_number)\n",
    "        #actions = sorted(actions, key=lambda act: act[0:2])\n",
    "        #if len(actions) > 0:\n",
    "        #    act = actions[0][2:]\n",
    "        #    act[0](*act[1:])\n",
    "        \n",
    "        new_number, explosions, splits = get_actions_by_line(new_number)\n",
    "        nexplosions = len(explosions)\n",
    "        for exp in explosions:\n",
    "            exp[0](*exp[1:])\n",
    "        if nexplosions ==0 and len(splits) > 0:\n",
    "            splits[0][0](*splits[0][1:])\n",
    "            \n",
    "        return new_number, nexplosions+len(splits)\n",
    "    \n",
    "    def reduce_number(self):\n",
    "        orig_number = deepcopy(self)\n",
    "        \n",
    "        reduced, nactions = self.reduce_number_single_step(orig_number)\n",
    "        while nactions >0 : \n",
    "            reduced, nactions =self.reduce_number_single_step(reduced)\n",
    "        return reduced\n",
    "        \n",
    "    def magnitude(self):\n",
    "        left =self.left_val\n",
    "        right = self.right_val\n",
    "        \n",
    "        if type(left) == SnailPair and type(right) == int:\n",
    "            return 3*left.magnitude()+2*right\n",
    "        if type(left) == SnailPair and type(right) == SnailPair:\n",
    "            return  3*left.magnitude()+2*right.magnitude()\n",
    "        if type(left) == int and type(right) == SnailPair:\n",
    "            return  3*left+2*right.magnitude()\n",
    "        if  type(left) == int and type(right) == int:\n",
    "            return  3*left+2*right\n",
    "            "
   ]
  },
  {
   "cell_type": "code",
   "execution_count": 432,
   "metadata": {},
   "outputs": [],
   "source": [
    "def read_line(line):\n",
    "    brackets = []\n",
    "    numbers = []\n",
    "    \n",
    "    idx=0\n",
    "    while idx < len(line):\n",
    "        s= line[idx]\n",
    "        if s == '[':\n",
    "            brackets.append(s)\n",
    "            idx += 1\n",
    "        elif s == ']':\n",
    "            nesting=len(brackets)\n",
    "            r = numbers.pop()\n",
    "            l = numbers.pop()\n",
    "            _ = brackets.pop()\n",
    "            numbers.append(SnailPair(left_val=l, right_val=r, nesting=nesting))\n",
    "            idx += 1\n",
    "        elif s == ',':\n",
    "            idx += 1\n",
    "            continue\n",
    "        \n",
    "        else:\n",
    "            a=1\n",
    "            while line[idx:idx+a].isdigit():\n",
    "                a+=1\n",
    "                \n",
    "            numbers.append(int(line[idx:idx+a-1]))\n",
    "            idx += a-1\n",
    "    return numbers[0]\n",
    "\n",
    "\n",
    "def compute_the_lines(list_numbers):\n",
    "    def add_string(l1,l2):\n",
    "        return f'[{str(l1)},{str(l2)}]'\n",
    "    \n",
    "    prev_line = list_numbers[0]\n",
    "    for new_line in list_numbers[1:]:\n",
    "        addition_string = add_string(prev_line, new_line)\n",
    "        prev_line = str(read_line(addition_string).reduce_number())\n",
    "    \n",
    "    #    print(prev_line+'\\n\\n')\n",
    "    print(prev_line)\n",
    "    return read_line(prev_line)\n",
    "        \n",
    "        "
   ]
  },
  {
   "cell_type": "code",
   "execution_count": 433,
   "metadata": {},
   "outputs": [],
   "source": [
    "test_list = [\n",
    "'[[[0,[5,8]],[[1,7],[9,6]]],[[4,[1,2]],[[1,4],2]]]',\n",
    "'[[[5,[2,8]],4],[5,[[9,9],0]]]',\n",
    "'[6,[[[6,2],[5,6]],[[7,6],[4,7]]]]',\n",
    "'[[[6,[0,7]],[0,9]],[4,[9,[9,0]]]]',\n",
    "'[[[7,[6,4]],[3,[1,3]]],[[[5,5],1],9]]',\n",
    "'[[6,[[7,3],[3,2]]],[[[3,8],[5,7]],4]]',\n",
    "'[[[[5,4],[7,7]],8],[[8,3],8]]',\n",
    "'[[9,3],[[9,9],[6,[4,9]]]]',\n",
    "'[[2,[[7,7],7]],[[5,8],[[9,3],[0,2]]]]',\n",
    "'[[[[5,2],5],[8,[3,7]]],[[5,[7,5]],[4,4]]]',\n",
    "]\n",
    "#4140"
   ]
  },
  {
   "cell_type": "code",
   "execution_count": 434,
   "metadata": {},
   "outputs": [],
   "source": [
    "test_list_2 = [\n",
    "'[[[0,[4,5]],[0,0]],[[[4,5],[2,6]],[9,5]]]',\n",
    "'[7,[[[3,7],[4,3]],[[6,3],[8,8]]]]',\n",
    "'[[2,[[0,8],[3,4]]],[[[6,7],1],[7,[1,6]]]]',\n",
    "'[[[[2,4],7],[6,[0,5]]],[[[6,8],[2,8]],[[2,1],[4,5]]]]',\n",
    "'[7,[5,[[3,8],[1,4]]]]',\n",
    "'[[2,[2,2]],[8,[8,1]]]',\n",
    "'[2,9]',\n",
    "'[1,[[[9,3],9],[[9,0],[0,7]]]]',\n",
    "'[[[5,[7,4]],7],1]',\n",
    "'[[[[4,2],2],6],[8,7]]',\n",
    "]\n"
   ]
  },
  {
   "cell_type": "code",
   "execution_count": 435,
   "metadata": {},
   "outputs": [],
   "source": [
    "simple_list = [\n",
    "'[1,1]',\n",
    "'[2,2]',\n",
    "'[3,3]',\n",
    "'[4,4]',\n",
    "'[5,5]',\n",
    "'[6,6]',\n",
    "]"
   ]
  },
  {
   "cell_type": "code",
   "execution_count": 436,
   "metadata": {},
   "outputs": [
    {
     "data": {
      "text/plain": [
       "'[[[[4,0],[5,4]],[[7,7],[6,0]]],[[[5,6],[5,6]],[[7,9],[5,0]]]]'"
      ]
     },
     "execution_count": 436,
     "metadata": {},
     "output_type": "execute_result"
    },
    {
     "data": {
      "text/plain": [
       "'[[[[4,0],[5,4]],[[7,7],[6,0]]],[[8,[7,7]],[[7,9],[5,0]]]]'"
      ]
     },
     "execution_count": 436,
     "metadata": {},
     "output_type": "execute_result"
    }
   ],
   "source": [
    "first_step = '[[[[0,[4,5]],[0,0]],[[[4,5],[2,6]],[9,5]]],[7,[[[3,7],[4,3]],[[6,3],[8,8]]]]]'\n",
    "str(read_line(first_step).reduce_number())\n",
    "'[[[[4,0],[5,4]],[[7,7],[6,0]]],[[8,[7,7]],[[7,9],[5,0]]]]'"
   ]
  },
  {
   "cell_type": "code",
   "execution_count": 437,
   "metadata": {},
   "outputs": [
    {
     "name": "stdout",
     "output_type": "stream",
     "text": [
      "[[[[5,0],[7,4]],[5,5]],[6,6]]\n"
     ]
    },
    {
     "data": {
      "text/plain": [
       "'[[[[5,0],[7,4]],[5,5]],[6,6]]'"
      ]
     },
     "execution_count": 437,
     "metadata": {},
     "output_type": "execute_result"
    }
   ],
   "source": [
    "str(compute_the_lines(simple_list).reduce_number())"
   ]
  },
  {
   "cell_type": "code",
   "execution_count": 438,
   "metadata": {
    "scrolled": true
   },
   "outputs": [
    {
     "name": "stdout",
     "output_type": "stream",
     "text": [
      "[[[[6,6],[7,6]],[[7,7],[7,0]]],[[[7,7],[7,7]],[[7,8],[9,9]]]]\n"
     ]
    },
    {
     "data": {
      "text/plain": [
       "4140"
      ]
     },
     "execution_count": 438,
     "metadata": {},
     "output_type": "execute_result"
    }
   ],
   "source": [
    "compute_the_lines(test_list).magnitude()"
   ]
  },
  {
   "cell_type": "code",
   "execution_count": 439,
   "metadata": {
    "scrolled": true
   },
   "outputs": [
    {
     "name": "stdout",
     "output_type": "stream",
     "text": [
      "[[[[7,7],[7,7]],[[7,0],[8,8]]],[[[7,6],[5,6]],[8,7]]]\n"
     ]
    },
    {
     "data": {
      "text/plain": [
       "3503"
      ]
     },
     "execution_count": 439,
     "metadata": {},
     "output_type": "execute_result"
    }
   ],
   "source": [
    "compute_the_lines(test_list_2).magnitude()"
   ]
  },
  {
   "cell_type": "code",
   "execution_count": 440,
   "metadata": {},
   "outputs": [],
   "source": [
    "reduce_test = {'[[[[[9,8],1],2],3],4]' : '[[[[0,9],2],3],4]',\n",
    "               '[7,[6,[5,[4,[3,2]]]]]' : '[7,[6,[5,[7,0]]]]',\n",
    "               '[[6,[5,[4,[3,2]]]],1]' : '[[6,[5,[7,0]]],3]',\n",
    "               '[[3,[2,[1,[7,3]]]],[6,[5,[4,[3,2]]]]]' : '[[3,[2,[8,0]]],[9,[5,[4,[3,2]]]]]',\n",
    "               '[[3,[2,[8,0]]],[9,[5,[4,[3,2]]]]]' : '[[3,[2,[8,0]]],[9,[5,[7,0]]]]'}"
   ]
  },
  {
   "cell_type": "code",
   "execution_count": 441,
   "metadata": {},
   "outputs": [
    {
     "name": "stdout",
     "output_type": "stream",
     "text": [
      "True\n",
      "True\n",
      "True\n",
      "False\n",
      "True\n"
     ]
    }
   ],
   "source": [
    "for inp, exp in reduce_test.items():\n",
    "    test = read_line(inp)\n",
    "    print( exp == str(test.reduce_number_single_step()[0]))\n",
    "    "
   ]
  },
  {
   "cell_type": "code",
   "execution_count": 442,
   "metadata": {},
   "outputs": [
    {
     "name": "stdout",
     "output_type": "stream",
     "text": [
      "[[[[0,7],4],[[7,8],[6,0]]],[8,1]]\n",
      "[[[[0,7],4],[[7,8],[6,0]]],[8,1]]\n"
     ]
    }
   ],
   "source": [
    "reduce = read_line('[[[[[4,3],4],4],[7,[[8,4],9]]],[1,1]]')\n",
    "print(reduce.reduce_number())\n",
    "print('[[[[0,7],4],[[7,8],[6,0]]],[8,1]]')"
   ]
  },
  {
   "cell_type": "code",
   "execution_count": 443,
   "metadata": {},
   "outputs": [
    {
     "data": {
      "text/plain": [
       "'[[[7,[8,0]],9],1]'"
      ]
     },
     "execution_count": 443,
     "metadata": {},
     "output_type": "execute_result"
    }
   ],
   "source": [
    "str(read_line('[[[0[15,9]],0],1]').reduce_number())"
   ]
  },
  {
   "cell_type": "markdown",
   "metadata": {},
   "source": [
    "# Part One"
   ]
  },
  {
   "cell_type": "code",
   "execution_count": 444,
   "metadata": {},
   "outputs": [],
   "source": [
    "production = []\n",
    "with open('data/input_18.txt', 'r') as f:\n",
    "    production = [ l.strip() for l in f.readlines()]"
   ]
  },
  {
   "cell_type": "code",
   "execution_count": 445,
   "metadata": {},
   "outputs": [
    {
     "name": "stdout",
     "output_type": "stream",
     "text": [
      "[[[[7,7],[7,0]],[[7,7],[8,8]]],[[[8,8],[8,8]],[[8,8],[8,7]]]]\n"
     ]
    },
    {
     "data": {
      "text/plain": [
       "4417"
      ]
     },
     "execution_count": 445,
     "metadata": {},
     "output_type": "execute_result"
    }
   ],
   "source": [
    "compute_the_lines(production).magnitude()"
   ]
  },
  {
   "cell_type": "markdown",
   "metadata": {},
   "source": [
    "# Part Two"
   ]
  },
  {
   "cell_type": "code",
   "execution_count": 446,
   "metadata": {},
   "outputs": [],
   "source": [
    "def compute_max_magnitude(list_numbers):\n",
    "    def add_string(l1,l2):\n",
    "        return f'[{str(l1)},{str(l2)}]'\n",
    "    \n",
    "    max_mag = 0\n",
    "    for idx,line1 in enumerate(list_numbers[:-1]):\n",
    "        for line2 in list_numbers[idx+1:]:\n",
    "            combo1 = add_string(line1,line2)\n",
    "            mag1 = read_line(combo1).reduce_number().magnitude()\n",
    "            max_mag = max(mag1, max_mag)\n",
    "            \n",
    "            combo2 = add_string(line2,line1)\n",
    "            mag2 = read_line(combo2).reduce_number().magnitude()\n",
    "            max_mag = max(mag2, max_mag)\n",
    "    return max_mag\n",
    "        "
   ]
  },
  {
   "cell_type": "code",
   "execution_count": 448,
   "metadata": {},
   "outputs": [
    {
     "name": "stdout",
     "output_type": "stream",
     "text": [
      "CPU times: user 27 s, sys: 34.9 ms, total: 27 s\n",
      "Wall time: 27 s\n"
     ]
    },
    {
     "data": {
      "text/plain": [
       "4726"
      ]
     },
     "execution_count": 448,
     "metadata": {},
     "output_type": "execute_result"
    }
   ],
   "source": [
    "%%time\n",
    "compute_max_magnitude(production)"
   ]
  },
  {
   "cell_type": "code",
   "execution_count": null,
   "metadata": {},
   "outputs": [],
   "source": []
  }
 ],
 "metadata": {
  "kernelspec": {
   "display_name": "Python 3",
   "language": "python",
   "name": "python3"
  },
  "language_info": {
   "codemirror_mode": {
    "name": "ipython",
    "version": 3
   },
   "file_extension": ".py",
   "mimetype": "text/x-python",
   "name": "python",
   "nbconvert_exporter": "python",
   "pygments_lexer": "ipython3",
   "version": "3.9.1rc1"
  }
 },
 "nbformat": 4,
 "nbformat_minor": 5
}
