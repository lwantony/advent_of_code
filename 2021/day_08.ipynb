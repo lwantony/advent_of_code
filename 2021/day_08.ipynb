{
 "cells": [
  {
   "cell_type": "code",
   "execution_count": 1,
   "metadata": {},
   "outputs": [],
   "source": [
    "from IPython.core.interactiveshell import InteractiveShell\n",
    "InteractiveShell.ast_node_interactivity = \"all\""
   ]
  },
  {
   "cell_type": "raw",
   "metadata": {},
   "source": [
    "## original mapping ## \n",
    "0:      1:      2:      3:      4:\n",
    " aaaa    ....    aaaa    aaaa    ....\n",
    "b    c  .    c  .    c  .    c  b    c\n",
    "b    c  .    c  .    c  .    c  b    c\n",
    " ....    ....    dddd    dddd    dddd\n",
    "e    f  .    f  e    .  .    f  .    f\n",
    "e    f  .    f  e    .  .    f  .    f\n",
    " gggg    ....    gggg    gggg    ....\n",
    "\n",
    "\n",
    "  5:      6:      7:      8:      9:\n",
    " aaaa    aaaa    aaaa    aaaa    aaaa\n",
    "b    .  b    .  .    c  b    c  b    c\n",
    "b    .  b    .  .    c  b    c  b    c\n",
    " dddd    dddd    ....    dddd    dddd\n",
    ".    f  e    f  .    f  e    f  .    f\n",
    ".    f  e    f  .    f  e    f  .    f\n",
    " gggg    gggg    ....    gggg    gggg"
   ]
  },
  {
   "cell_type": "code",
   "execution_count": 2,
   "metadata": {},
   "outputs": [],
   "source": [
    "class DisplayMessage:\n",
    "    def _parse_text(self, text_line):\n",
    "        digits, display = text_line.strip('\\n').split('|')\n",
    "        \n",
    "        display = display.strip().split()\n",
    "        digits = digits.strip().split()\n",
    "        return digits,display\n",
    "    \n",
    "    def count_unique_numbers(self):\n",
    "        return sum([ 1 if ((len(x) !=5)&(len(x)!=6)) else 0 for x in self._display ])\n",
    "    \n",
    "    def __init__(self, text_line):\n",
    "        self._digits, self._display = self._parse_text(text_line)\n",
    "        self._mapping = {}\n",
    "        \n",
    "    def _decode_map(self):\n",
    "        \"\"\"\n",
    "        I know I could keep track of the digits I need to search for still better... but oh well\n",
    "        \"\"\"\n",
    "        mapping= {}\n",
    "        digit_to_str= ['' for i in range(10)] \n",
    "        for digit in self._digits:\n",
    "            if len(digit) == 2:\n",
    "                mapping[digit] =1 \n",
    "                digit_to_str[1] = digit\n",
    "                \n",
    "            elif len(digit) == 4:\n",
    "                mapping[digit] =4 \n",
    "                digit_to_str[4] = digit\n",
    "                \n",
    "            elif len(digit) == 3:\n",
    "                mapping[digit] = 7 \n",
    "                digit_to_str[7] = digit\n",
    "                \n",
    "            elif len(digit) == 7:\n",
    "                mapping[digit] = 8 \n",
    "                digit_to_str[8] = digit\n",
    "                \n",
    "        \n",
    "        # finding 6 - its len(6) missing part of those in 1\n",
    "        # once we match on the deleted segment, we know c & f from original map\n",
    "        c_str = None\n",
    "        f_str = None\n",
    "        for digit in self._digits:\n",
    "            if len(digit) ==6:\n",
    "                letters = [ l for l in digit_to_str[1] ]\n",
    "                if letters[0] not in digit:\n",
    "                    mapping[digit] = 6\n",
    "                    digit_to_str[6] = digit\n",
    "                    \n",
    "                    c_str = letters[0]\n",
    "                    f_str = letters[1]\n",
    "                \n",
    "                elif letters[1] not in digit:\n",
    "                    mapping[digit] = 6\n",
    "                    digit_to_str[6] = digit\n",
    "                    \n",
    "                    c_str = letters[1]\n",
    "                    f_str = letters[0]\n",
    "                    \n",
    "        # Now have all info for len(5) digits\n",
    "        for digit in self._digits:\n",
    "            if len(digit) ==5:\n",
    "                if c_str not in digit and f_str in digit:\n",
    "                    mapping[digit] = 5\n",
    "                    digit_to_str[5] = digit\n",
    "                if c_str in digit and f_str in digit:\n",
    "                    mapping[digit] = 3\n",
    "                    digit_to_str[3] = digit\n",
    "                    \n",
    "                if c_str in digit and f_str not in digit:\n",
    "                    mapping[digit] = 2\n",
    "                    digit_to_str[2] = digit\n",
    "                    \n",
    "        #find e in the original mapping\n",
    "        e_str = [ x for x in digit_to_str[2] if ((x not in digit_to_str[5]) \n",
    "                                                 and (x != c_str) )][0]\n",
    "        \n",
    "        \n",
    "        for digit in self._digits:\n",
    "            if len(digit) ==6:\n",
    "                if digit != digit_to_str[6]:\n",
    "                    if e_str in digit:\n",
    "                        mapping[digit] = 0\n",
    "                        digit_to_str[0] = digit\n",
    "                    else:\n",
    "                        mapping[digit] = 9\n",
    "                        digit_to_str[9] = digit\n",
    "                        \n",
    "                        \n",
    "        # putting code into alphabetical order\n",
    "        sorted_mapping = { ''.join(sorted([l for l in code])): num for code,num in mapping.items()}\n",
    "        \n",
    "        self._mapping = sorted_mapping\n",
    "            \n",
    "    \n",
    "    def translate_display(self):\n",
    "        self._decode_map()\n",
    "        \n",
    "        #clean up display\n",
    "        display = [ ''.join(sorted([l for l in code])) for code in self._display]\n",
    "       \n",
    "        order_mag = len(display)\n",
    "        \n",
    "        number = 0\n",
    "        for i,code in enumerate(display):\n",
    "            number += 10**(order_mag-i-1) * self._mapping[code]\n",
    "        return number\n",
    "        \n",
    "        \n",
    "        "
   ]
  },
  {
   "cell_type": "code",
   "execution_count": 3,
   "metadata": {},
   "outputs": [
    {
     "data": {
      "text/plain": [
       "'af'"
      ]
     },
     "execution_count": 3,
     "metadata": {},
     "output_type": "execute_result"
    }
   ],
   "source": [
    "''.join(sorted([i for i in 'fa']))"
   ]
  },
  {
   "cell_type": "code",
   "execution_count": 4,
   "metadata": {},
   "outputs": [],
   "source": [
    "display_reads=[]\n",
    "with open('data/input_8.txt') as f:\n",
    "    line = f.readline() \n",
    "    while line:\n",
    "        display_reads.append(DisplayMessage(line))\n",
    "        line = f.readline() \n",
    "        "
   ]
  },
  {
   "cell_type": "code",
   "execution_count": 5,
   "metadata": {},
   "outputs": [
    {
     "data": {
      "text/plain": [
       "421"
      ]
     },
     "execution_count": 5,
     "metadata": {},
     "output_type": "execute_result"
    }
   ],
   "source": [
    "sum([d.count_unique_numbers() for d in display_reads])"
   ]
  },
  {
   "cell_type": "code",
   "execution_count": 6,
   "metadata": {},
   "outputs": [
    {
     "data": {
      "text/plain": [
       "4037"
      ]
     },
     "execution_count": 6,
     "metadata": {},
     "output_type": "execute_result"
    }
   ],
   "source": [
    "display_reads[0].translate_display()"
   ]
  },
  {
   "cell_type": "code",
   "execution_count": 7,
   "metadata": {},
   "outputs": [
    {
     "data": {
      "text/plain": [
       "986163"
      ]
     },
     "execution_count": 7,
     "metadata": {},
     "output_type": "execute_result"
    }
   ],
   "source": [
    "\n",
    "sum([d.translate_display() for d in display_reads])"
   ]
  },
  {
   "cell_type": "code",
   "execution_count": null,
   "metadata": {},
   "outputs": [],
   "source": []
  }
 ],
 "metadata": {
  "kernelspec": {
   "display_name": "cop_env",
   "language": "python",
   "name": "cop_env"
  },
  "language_info": {
   "codemirror_mode": {
    "name": "ipython",
    "version": 3
   },
   "file_extension": ".py",
   "mimetype": "text/x-python",
   "name": "python",
   "nbconvert_exporter": "python",
   "pygments_lexer": "ipython3",
   "version": "3.7.8"
  }
 },
 "nbformat": 4,
 "nbformat_minor": 4
}
