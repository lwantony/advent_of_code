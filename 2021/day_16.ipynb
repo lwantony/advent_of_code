{
 "cells": [
  {
   "cell_type": "code",
   "execution_count": 122,
   "metadata": {},
   "outputs": [],
   "source": [
    "from IPython.core.interactiveshell import InteractiveShell\n",
    "InteractiveShell.ast_node_interactivity = \"all\""
   ]
  },
  {
   "cell_type": "code",
   "execution_count": 92,
   "metadata": {},
   "outputs": [],
   "source": [
    "problem = '220D69802BE00A0803711E1441B1006E39C318A12730C200DCE66D2CCE360FA0055652CD32966E3004677EDF600B0803B1361741510076254138D8A00E4FFF3E3393ABE4FC7AC10410010799D2A4430003764DBE281802F3102CA00D4840198430EE0E00021D04E3F41F84AE0154DFDE65A17CCBFAFA14ADA56854FE5E3FD5BCC53B0D2598027A00848C63F2B918C7E513DEC3290051B3867E009CCC5FE46BD520007FE5E8AD344B37583D0803E40085475887144C01A8C10FE2B9803B0720D45A3004652FD8FA05F80122CAF91E5F50E66BEF8AB000BB0F4802039C20917B920B9221200ABF0017B9C92CCDC76BD3A8C4012CCB13CB22CDB243E9C3D2002067440400D9BE62DAC4D2DC0249BF76B6F72BE459B279F759AE7BE42E0058801CC059B08018A0070012CEC045BA01006C03A8000D46C02FA000A8EA007200800E00618018E00410034220061801D36BF178C01796FC52B4017100763547E86000084C7E8910AC0027E9B029FE2F4952F96D81B34C8400C24AA8CDAF4F1E98027C00FACDE3BA86982570D13AA640195CD67B046F004662711E989C468C01F1007A10C4C8320008742287117C401A8C715A3FC2C8EB3777540048272DFE7DE1C0149AC8BC9E79D63200B674013978E8BE5E3A2E9AA3CCDD538C01193CFAB0A146006AA00087C3E88B130401D8E304A239802F39FAC922C0169EA3248DF2D600247C89BCDFE9CA7FFD8BB49686236C9FF9795D80C0139BEC4D6C017978CF78C5EB981FCE7D4D801FA9FB63B14789534584010B5802F3467346D2C1D1E080355B00424FC99290C7E5D729586504803A2D005E677F868C271AA479CEEB131592EE5450043A932697E6A92C6E164991EFC4268F25A294600B5002A3393B31CC834B972804D2F3A4FD72B928E59219C9C771EC3DC89D1802135C9806802729694A6E723FD6134C0129A019E600'"
   ]
  },
  {
   "cell_type": "code",
   "execution_count": 3,
   "metadata": {},
   "outputs": [],
   "source": [
    "pt1_test = {\n",
    "    '8A004A801A8002F478':16,\n",
    "    '620080001611562C8802118E34':12,\n",
    "    'C0015000016115A2E0802F182340':23,\n",
    "    'A0016C880162017C3686B18A3D4780':31,\n",
    "}"
   ]
  },
  {
   "cell_type": "markdown",
   "metadata": {},
   "source": [
    "# Part 2 instructions\n",
    "- Packets with type ID 0 are sum packets - their value is the sum of the values of their sub-packets. If they only have a single sub-packet, their value is the value of the sub-packet.\n",
    "- Packets with type ID 1 are product packets - their value is the result of multiplying together the values of their sub-packets. If they only have a single sub-packet, their value is the value of the sub-packet.\n",
    "- Packets with type ID 2 are minimum packets - their value is the minimum of the values of their sub-packets.\n",
    "- Packets with type ID 3 are maximum packets - their value is the maximum of the values of their sub-packets.\n",
    "- Packets with type ID 5 are greater than packets - their value is 1 if the value of the first sub-packet is greater than the value of the second sub-packet; otherwise, their value is 0. These packets always have exactly two sub-packets.\n",
    "- Packets with type ID 6 are less than packets - their value is 1 if the value of the first sub-packet is less than the value of the second sub-packet; otherwise, their value is 0. These packets always have exactly two sub-packets.\n",
    "- Packets with type ID 7 are equal to packets - their value is 1 if the value of the first sub-packet is equal to the value of the second sub-packet; otherwise, their value is 0. These packets always have exactly two sub-packets."
   ]
  },
  {
   "cell_type": "code",
   "execution_count": 117,
   "metadata": {},
   "outputs": [],
   "source": [
    "from copy import deepcopy\n",
    "class Packet:\n",
    "    \n",
    "    def __init__(self, bit_string):\n",
    "        self.version, self.type, bit_string = self._read_version_type(bit_string)\n",
    "        self.value = 0\n",
    "        \n",
    "        bit_string, self.child_packets = self._evalute_packet(bit_string)\n",
    "        #print(self.version)\n",
    "        self.remaining_string = bit_string\n",
    "        self.value = self.calculate_value()\n",
    "        \n",
    "    def calculate_value(self):\n",
    "        ptype = self.type\n",
    "        children = self.child_packets\n",
    "        cur_val = self.value\n",
    "        if ptype ==0:\n",
    "            return sum([ child.value for child in children ])\n",
    "        if ptype == 1:\n",
    "            val = 1\n",
    "            for child in children:\n",
    "                val *=child.value \n",
    "            return val\n",
    "        if ptype == 2 :\n",
    "            return min([ child.value for child in children ])\n",
    "        if ptype == 3 :\n",
    "            return max([ child.value for child in children ])\n",
    "        if ptype == 4:\n",
    "            return cur_val\n",
    "        if ptype == 5:\n",
    "            return int(children[0].value > children[1].value)\n",
    "        if ptype == 6:\n",
    "            return int(children[0].value < children[1].value)\n",
    "        if ptype == 7:\n",
    "            return int(children[0].value == children[1].value)\n",
    "        \n",
    "    \n",
    "    def calculate_version_sum(self):\n",
    "        if len(self.child_packets) > 0:\n",
    "            return self.version + sum([ child.calculate_version_sum() for child in self.child_packets])\n",
    "        else:\n",
    "            return self.version\n",
    "        \n",
    "    def _evalute_packet(self, bit_string):\n",
    "        children =[]\n",
    "        if self.type ==4:\n",
    "            self.value, bit_string = self._read_literal_val(bit_string)\n",
    "        else:\n",
    "            length_type_id = bit_string[0]\n",
    "            bit_string = bit_string[1:]\n",
    "            \n",
    "            if length_type_id == '0':\n",
    "                bit_string, children = self._lt_0_read(bit_string)\n",
    "            elif length_type_id == '1':\n",
    "                bit_string, children = self._lt_1_read(bit_string)\n",
    "            \n",
    "        return bit_string, children\n",
    "    \n",
    "    def _read_version_type(self, bit_string):\n",
    "        version = int(bit_string[:3],2)\n",
    "        ptype = int(bit_string[3:6],2)\n",
    "        \n",
    "        return version, ptype, bit_string[6:]\n",
    "    \n",
    "    def _read_literal_val(self, bit_string):\n",
    "        read = bit_string[0]\n",
    "        val_string = bit_string[1:5]\n",
    "        idx=5\n",
    "        while read == '1':\n",
    "            read = bit_string[idx]\n",
    "            val_string += bit_string[idx+1:idx+5]\n",
    "            idx+=5\n",
    "        return int(val_string, 2), bit_string[idx:]\n",
    "    \n",
    "  \n",
    "    def _lt_0_read(self, bit_string):\n",
    "        length_bits = int(bit_string[:15],2)\n",
    "        child_string = bit_string[15:15+length_bits]\n",
    "        children=[]\n",
    "        while len(child_string) > 0:\n",
    "            child = Packet(child_string)\n",
    "            children.append(child)\n",
    "            child_string = child.remaining_string\n",
    "            \n",
    "        return bit_string[15+length_bits:], children\n",
    "    \n",
    "    def _lt_1_read(self, bit_string):\n",
    "        nsubpackets = int(bit_string[:11],2)\n",
    "        bit_string = bit_string[11:]\n",
    "        children=[]\n",
    "        for _ in range(nsubpackets):\n",
    "            child = Packet(bit_string)\n",
    "            bit_string = child.remaining_string\n",
    "            children.append(child)\n",
    "            \n",
    "        return children[-1].remaining_string, children\n",
    "            \n",
    "    \n",
    "class HexMessage:\n",
    "    hex_to_bin={'0' : '0000',\n",
    "                '1' : '0001',\n",
    "                '2' : '0010',\n",
    "                '3' : '0011',\n",
    "                '4' : '0100',\n",
    "                '5' : '0101',\n",
    "                '6' : '0110',\n",
    "                '7' : '0111',\n",
    "                '8' : '1000',\n",
    "                '9' : '1001',\n",
    "                'A' : '1010',\n",
    "                'B' : '1011',\n",
    "                'C' : '1100',\n",
    "                'D' : '1101',\n",
    "                'E' : '1110',\n",
    "                'F' : '1111',\n",
    "                }\n",
    "    \n",
    "    def __init__(self, hex_data):\n",
    "        self.hexstring = hex_data\n",
    "        self._bit_string = self._bit_representation()\n",
    "        self.packet = Packet(self._bit_string)\n",
    "        \n",
    "    def return_part_one(self):\n",
    "        return self.packet.calculate_version_sum()\n",
    "    \n",
    "    def return_part_two(self):\n",
    "        return self.packet.value\n",
    "        \n",
    "    def _bit_representation(self):\n",
    "        bit_string=''\n",
    "        for l in self.hexstring:\n",
    "            bit_string+=self.hex_to_bin[l]\n",
    "        return bit_string"
   ]
  },
  {
   "cell_type": "code",
   "execution_count": 118,
   "metadata": {},
   "outputs": [
    {
     "name": "stdout",
     "output_type": "stream",
     "text": [
      "True\n",
      "True\n",
      "True\n",
      "True\n"
     ]
    }
   ],
   "source": [
    "# Test part 1\n",
    "for string, expected in pt1_test.items():\n",
    "    test = HexMessage(string)\n",
    "    print(test.return_part_one() == expected)\n",
    "    \n",
    "    "
   ]
  },
  {
   "cell_type": "code",
   "execution_count": 119,
   "metadata": {},
   "outputs": [
    {
     "data": {
      "text/plain": [
       "54"
      ]
     },
     "execution_count": 119,
     "metadata": {},
     "output_type": "execute_result"
    }
   ],
   "source": [
    "test.packet.value"
   ]
  },
  {
   "cell_type": "code",
   "execution_count": 120,
   "metadata": {},
   "outputs": [],
   "source": [
    "prd = HexMessage(problem)"
   ]
  },
  {
   "cell_type": "code",
   "execution_count": 123,
   "metadata": {},
   "outputs": [
    {
     "data": {
      "text/plain": [
       "1002"
      ]
     },
     "execution_count": 123,
     "metadata": {},
     "output_type": "execute_result"
    },
    {
     "data": {
      "text/plain": [
       "1673210814091"
      ]
     },
     "execution_count": 123,
     "metadata": {},
     "output_type": "execute_result"
    }
   ],
   "source": [
    "prd.return_part_one()\n",
    "prd.return_part_two()"
   ]
  },
  {
   "cell_type": "code",
   "execution_count": null,
   "metadata": {},
   "outputs": [],
   "source": []
  }
 ],
 "metadata": {
  "kernelspec": {
   "display_name": "Python 3",
   "language": "python",
   "name": "python3"
  },
  "language_info": {
   "codemirror_mode": {
    "name": "ipython",
    "version": 3
   },
   "file_extension": ".py",
   "mimetype": "text/x-python",
   "name": "python",
   "nbconvert_exporter": "python",
   "pygments_lexer": "ipython3",
   "version": "3.9.1rc1"
  }
 },
 "nbformat": 4,
 "nbformat_minor": 5
}
