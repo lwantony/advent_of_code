{
 "cells": [
  {
   "cell_type": "code",
   "execution_count": 1,
   "metadata": {},
   "outputs": [],
   "source": [
    "from IPython.core.interactiveshell import InteractiveShell\n",
    "InteractiveShell.ast_node_interactivity = \"all\""
   ]
  },
  {
   "cell_type": "markdown",
   "metadata": {},
   "source": [
    "# Day 19"
   ]
  },
  {
   "cell_type": "code",
   "execution_count": 2,
   "metadata": {},
   "outputs": [],
   "source": [
    "class Scanner:\n",
    "    def __init__(self, idx, locations):\n",
    "        self.index = idx\n",
    "        self.beacons = [ tuple([int(i) for i in l.split(',')]) for l in locations]\n",
    "        self.scanner_location = [0,0,0]\n",
    "    \n",
    "    def get_beacons(self):\n",
    "        return self.beacons\n",
    "    \n",
    "    def set_scanner_location(self, location):\n",
    "        self.scanner_location = location\n",
    "    \n",
    "    def rotate_beacons(self, rot_type=0):\n",
    "        self.beacons = self.perform_rotation(rot_type)\n",
    "        \n",
    "    def shift_beacons(self, shift):\n",
    "        beacons = self.beacons\n",
    "        self.beacons = [ tuple([i[0] - i[1] for i in zip(loc,shift)]) for loc in beacons]\n",
    "        \n",
    "    def perform_rotation(self, rot_type=0):\n",
    "        rotations = {\n",
    "                    # rotate around x with X Face\n",
    "                    0 : lambda x,y,z : [x, y, z] , \n",
    "                    1 : lambda x,y,z : [x,-z, y] , \n",
    "                    2 : lambda x,y,z : [x,-y,-z] ,\n",
    "                    3 : lambda x,y,z : [x, z,-y] ,\n",
    "                    # Negative X\n",
    "                    4 : lambda x,y,z : [-x, y, -z] , \n",
    "                    5 : lambda x,y,z : [-x, z, y] , \n",
    "                    6 : lambda x,y,z : [-x,-y, z] ,\n",
    "                    7 : lambda x,y,z : [-x,-z,-y] ,\n",
    "    \n",
    "                    # rotate around y with Y Face\n",
    "                    8 : lambda x,y,z : [y, z, x] , \n",
    "                    9 : lambda x,y,z : [y,-x, z] , \n",
    "                   10 : lambda x,y,z : [y,-z,-x] ,\n",
    "                   11 : lambda x,y,z : [y, x,-z] ,\n",
    "                    # Negative Y\n",
    "                   12 : lambda x,y,z : [-y, z, -x] , \n",
    "                   13 : lambda x,y,z : [-y, x, z] , \n",
    "                   14 : lambda x,y,z : [-y,-z, x] ,\n",
    "                   15 : lambda x,y,z : [-y,-x,-z] ,\n",
    "    \n",
    "                    # rotate around y with Z Face\n",
    "                   16 : lambda x,y,z : [z, x, y] , \n",
    "                   17 : lambda x,y,z : [z,-y, x] , \n",
    "                   18 : lambda x,y,z : [z,-x,-y] ,\n",
    "                   19 : lambda x,y,z : [z, y,-x] ,\n",
    "                    # Negative Z\n",
    "                   20 : lambda x,y,z : [-z, x,-y] , \n",
    "                   21 : lambda x,y,z : [-z, y, x] , \n",
    "                   22 : lambda x,y,z : [-z,-x, y] ,\n",
    "                   23 : lambda x,y,z : [-z,-y,-x] ,\n",
    "        }    \n",
    "        locs = self.beacons\n",
    "        rotated_locs = [ tuple(rotations[rot_type](*loc)) for loc in locs  ]\n",
    "        return rotated_locs"
   ]
  },
  {
   "cell_type": "code",
   "execution_count": 9,
   "metadata": {},
   "outputs": [],
   "source": [
    "import re\n",
    "from copy import deepcopy\n",
    "\n",
    "def read_in_scanners(filepath):\n",
    "    scanners = []\n",
    "    with open(filepath, 'r') as f:\n",
    "        for line in f.readlines():\n",
    "            line = line.strip()\n",
    "            if len(line) < 2:\n",
    "                scanners.append(Scanner(idx=idx, locations=elements))\n",
    "                continue\n",
    "            if line[:3] == '---':\n",
    "                m =re.search('--- scanner (\\d+) ---',line)\n",
    "                idx = int(m.group(1))\n",
    "                elements = []\n",
    "                continue\n",
    "            elements.append(line.strip())\n",
    "    \n",
    "    scanners.append(Scanner(idx=idx, locations=elements))\n",
    "    return scanners\n",
    "\n",
    "def shift_beacons(beacons, shift):\n",
    "    return [ tuple([i[0] - i[1] for i in zip(loc,shift)]) for loc in beacons]\n",
    "    \n",
    "def align_pair_scanner(ref, other, critical_number = 12):\n",
    "    ref_beacons = ref.get_beacons()\n",
    "    break_flag = False\n",
    "    max_align = 0\n",
    "    \n",
    "    for ref_pt in ref_beacons[:-11]:\n",
    "        for rotation in range(24):\n",
    "            rotated_beacons = other.perform_rotation(rotation)\n",
    "            for other_pt in rotated_beacons:\n",
    "                \n",
    "                shift = [ i[0] - i[1] for i in zip(other_pt,ref_pt)]\n",
    "                shifted_locs = shift_beacons(rotated_beacons, shift)\n",
    "                \n",
    "                aligned_count = len(set(ref_beacons).intersection(shifted_locs))\n",
    "                max_align = max(max_align, aligned_count)\n",
    "                \n",
    "                if aligned_count >= critical_number:\n",
    "                    break_flag = True\n",
    "                    break\n",
    "            if break_flag:\n",
    "                break\n",
    "        if break_flag:\n",
    "            break\n",
    "            \n",
    "    if break_flag:\n",
    "        return rotation, shift, aligned_count \n",
    "    else:\n",
    "        return max_align\n",
    "\n",
    "def align_all_scanners(input_scanners):\n",
    "    scanners = deepcopy(input_scanners)\n",
    "    aligned_set = [0]\n",
    "    jumbled = [ i for i in range(1,len(scanners))]\n",
    "   \n",
    "    ref_idx =0\n",
    "    \n",
    "    while len(jumbled) > 0:\n",
    "        scan_num = aligned_set[ref_idx]\n",
    "        ref_scanner = scanners[scan_num]\n",
    "        for idx in jumbled:\n",
    "            other_scanner = scanners[idx]\n",
    "            out_put = align_pair_scanner(ref_scanner, other_scanner )\n",
    "            if type(out_put) == int:\n",
    "                continue\n",
    "            else:\n",
    "                other_scanner.rotate_beacons(out_put[0])\n",
    "                other_scanner.shift_beacons(out_put[1])\n",
    "                other_scanner.set_scanner_location(out_put[1])\n",
    "                aligned_set.append(idx)\n",
    "                jumbled = [i for i in range(len(scanners)) if i not in aligned_set]\n",
    "        ref_idx+=1\n",
    "    return scanners\n",
    "\n",
    "def count_beacons_and_dist(input_scanners):\n",
    "    aligned_scanners = align_all_scanners(input_scanners)\n",
    "    beacons = set([])\n",
    "    for i in aligned_scanners:\n",
    "        beacons = beacons.union(i.get_beacons())\n",
    "    max_dist =0\n",
    "    for i in aligned_scanners[:-1]:\n",
    "        for j in aligned_scanners[1:]:\n",
    "            man_dist = sum([abs(dim[0]-dim[1]) for dim in  zip(i.scanner_location,j.scanner_location)  ] )\n",
    "            max_dist = max(max_dist, man_dist)\n",
    "            \n",
    "    return len(beacons), max_dist\n",
    "    "
   ]
  },
  {
   "cell_type": "code",
   "execution_count": 10,
   "metadata": {},
   "outputs": [],
   "source": [
    "test_scanners = read_in_scanners('data/test_19.txt')"
   ]
  },
  {
   "cell_type": "code",
   "execution_count": 11,
   "metadata": {},
   "outputs": [],
   "source": [
    "aligned_test = align_all_scanners(test_scanners)"
   ]
  },
  {
   "cell_type": "code",
   "execution_count": 12,
   "metadata": {},
   "outputs": [
    {
     "name": "stdout",
     "output_type": "stream",
     "text": [
      "CPU times: user 627 ms, sys: 2.65 ms, total: 630 ms\n",
      "Wall time: 628 ms\n"
     ]
    },
    {
     "data": {
      "text/plain": [
       "(79, 3621)"
      ]
     },
     "execution_count": 12,
     "metadata": {},
     "output_type": "execute_result"
    }
   ],
   "source": [
    "%%time\n",
    "count_beacons_and_dist(test_scanners)"
   ]
  },
  {
   "cell_type": "code",
   "execution_count": 13,
   "metadata": {},
   "outputs": [],
   "source": [
    "prod_scanners = read_in_scanners('data/input_19.txt')"
   ]
  },
  {
   "cell_type": "code",
   "execution_count": 14,
   "metadata": {},
   "outputs": [
    {
     "name": "stdout",
     "output_type": "stream",
     "text": [
      "CPU times: user 48.3 s, sys: 108 ms, total: 48.4 s\n",
      "Wall time: 48.4 s\n"
     ]
    },
    {
     "data": {
      "text/plain": [
       "(425, 13354)"
      ]
     },
     "execution_count": 14,
     "metadata": {},
     "output_type": "execute_result"
    }
   ],
   "source": [
    "%%time\n",
    "count_beacons_and_dist(prod_scanners)"
   ]
  },
  {
   "cell_type": "code",
   "execution_count": null,
   "metadata": {},
   "outputs": [],
   "source": []
  }
 ],
 "metadata": {
  "kernelspec": {
   "display_name": "Python 3",
   "language": "python",
   "name": "python3"
  },
  "language_info": {
   "codemirror_mode": {
    "name": "ipython",
    "version": 3
   },
   "file_extension": ".py",
   "mimetype": "text/x-python",
   "name": "python",
   "nbconvert_exporter": "python",
   "pygments_lexer": "ipython3",
   "version": "3.9.1rc1"
  }
 },
 "nbformat": 4,
 "nbformat_minor": 5
}
