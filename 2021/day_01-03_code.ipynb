{
 "cells": [
  {
   "cell_type": "code",
   "execution_count": 1,
   "metadata": {},
   "outputs": [],
   "source": [
    "import pandas as pd"
   ]
  },
  {
   "cell_type": "code",
   "execution_count": 57,
   "metadata": {},
   "outputs": [],
   "source": [
    "depths = pd.read_csv('data/input_1.txt',names=['depths'])"
   ]
  },
  {
   "cell_type": "code",
   "execution_count": 58,
   "metadata": {},
   "outputs": [
    {
     "data": {
      "text/plain": [
       "1292"
      ]
     },
     "execution_count": 58,
     "metadata": {},
     "output_type": "execute_result"
    }
   ],
   "source": [
    "sum(depths['depths'].diff(1).dropna() > 0)\n"
   ]
  },
  {
   "cell_type": "code",
   "execution_count": 59,
   "metadata": {},
   "outputs": [
    {
     "data": {
      "text/plain": [
       "1262"
      ]
     },
     "execution_count": 59,
     "metadata": {},
     "output_type": "execute_result"
    }
   ],
   "source": [
    "sum(depths['depths'].rolling(3).sum().dropna().diff(1).dropna() > 0)"
   ]
  },
  {
   "cell_type": "code",
   "execution_count": 60,
   "metadata": {},
   "outputs": [],
   "source": [
    "tmp = list(depths['depths'])"
   ]
  },
  {
   "cell_type": "code",
   "execution_count": 61,
   "metadata": {
    "scrolled": true
   },
   "outputs": [],
   "source": [
    "cnt=0\n",
    "for i in range(len(tmp)-3):\n",
    "    cnt+=int( tmp[i] < tmp[i+3])"
   ]
  },
  {
   "cell_type": "code",
   "execution_count": 62,
   "metadata": {},
   "outputs": [
    {
     "data": {
      "text/plain": [
       "1262"
      ]
     },
     "execution_count": 62,
     "metadata": {},
     "output_type": "execute_result"
    }
   ],
   "source": [
    "cnt"
   ]
  },
  {
   "cell_type": "markdown",
   "metadata": {},
   "source": [
    "# Day 2"
   ]
  },
  {
   "cell_type": "code",
   "execution_count": 1,
   "metadata": {},
   "outputs": [],
   "source": [
    "with open('data/input_2.txt', 'r') as f :\n",
    "    m = f.readlines()\n",
    "    m = [ x.strip('\\n').split() for x in m]"
   ]
  },
  {
   "cell_type": "code",
   "execution_count": 2,
   "metadata": {},
   "outputs": [],
   "source": [
    "pos = [0,0]\n",
    "direction={\n",
    "    'forward' : [1,0],\n",
    "    'down' : [0,1],\n",
    "    'up' : [0,-1],\n",
    "}\n",
    "def add_directions(cur_pos, direct,x):\n",
    "    direct = [ x*direct[i] for i in range (2)]\n",
    "    return [cur_pos[i]+direct[i] for i in range(2)]\n",
    "\n",
    "for change in m:\n",
    "    pos = add_directions(pos, direction[change[0]], int(change[1]) )\n"
   ]
  },
  {
   "cell_type": "code",
   "execution_count": 3,
   "metadata": {},
   "outputs": [
    {
     "data": {
      "text/plain": [
       "1635930"
      ]
     },
     "execution_count": 3,
     "metadata": {},
     "output_type": "execute_result"
    }
   ],
   "source": [
    "pos[0]*pos[1]"
   ]
  },
  {
   "cell_type": "raw",
   "metadata": {},
   "source": [
    "-down X increases your aim by X units.\n",
    "-up X decreases your aim by X units.\n",
    "-forward X does two things:\n",
    " - It increases your horizontal position by X units.\n",
    " - It increases your depth by your aim multiplied by X."
   ]
  },
  {
   "cell_type": "code",
   "execution_count": 4,
   "metadata": {},
   "outputs": [],
   "source": [
    "pos_aim = [0,0,0]\n",
    "\n",
    "for change in m:\n",
    "    if change[0] == 'forward':\n",
    "        pos_aim[0] += int(change[1])\n",
    "        pos_aim[1] += int(change[1])*pos_aim[2]\n",
    "        \n",
    "    elif change[0] == 'down':\n",
    "        pos_aim[2] += int(change[1])\n",
    "    elif change[0] == 'up':\n",
    "        pos_aim[2] -= int(change[1])"
   ]
  },
  {
   "cell_type": "code",
   "execution_count": 5,
   "metadata": {},
   "outputs": [
    {
     "data": {
      "text/plain": [
       "1781819478"
      ]
     },
     "execution_count": 5,
     "metadata": {},
     "output_type": "execute_result"
    }
   ],
   "source": [
    "pos_aim[0]*pos_aim[1]"
   ]
  },
  {
   "cell_type": "code",
   "execution_count": 8,
   "metadata": {},
   "outputs": [],
   "source": [
    "### Another approach, but ended up being more code to write -_-\n",
    "\n",
    "pos_aim = [0,0,0]\n",
    "\n",
    "new_directives={\n",
    "    'forward' : lambda pos, x : [pos[0]+x, pos[1]+pos[2]*x ,pos[2]] ,\n",
    "    'down' : lambda pos, x : [pos[0], pos[1] ,pos[2]+x] ,\n",
    "    'up' : lambda pos, x : [pos[0], pos[1] ,pos[2]-x],\n",
    "}\n",
    "\n",
    "for change in m:\n",
    "    pos_aim = new_directives[change[0]](pos_aim, int(change[1]))\n"
   ]
  },
  {
   "cell_type": "code",
   "execution_count": 9,
   "metadata": {},
   "outputs": [
    {
     "data": {
      "text/plain": [
       "1781819478"
      ]
     },
     "execution_count": 9,
     "metadata": {},
     "output_type": "execute_result"
    }
   ],
   "source": [
    "pos_aim[0]*pos_aim[1]"
   ]
  },
  {
   "cell_type": "code",
   "execution_count": null,
   "metadata": {},
   "outputs": [],
   "source": []
  },
  {
   "cell_type": "markdown",
   "metadata": {},
   "source": [
    "# Day 3"
   ]
  },
  {
   "cell_type": "code",
   "execution_count": 1,
   "metadata": {},
   "outputs": [],
   "source": [
    "with open('data/input_3.txt', 'r') as f :\n",
    "    counts = []\n",
    "    tot = 0\n",
    "    for i,line in enumerate(f.readlines()):\n",
    "        line = line.strip('\\n')\n",
    "        if i ==0:\n",
    "            counts = [ 0 for x in range(len(line))]\n",
    "        counts = [counts[x]+int(line[x]) for x in range(len(line))]\n",
    "        tot=i+1\n"
   ]
  },
  {
   "cell_type": "code",
   "execution_count": 2,
   "metadata": {},
   "outputs": [],
   "source": [
    "binary_gamma = [ int(val/float(tot) >=0.5) for val in counts]\n",
    "binary_epsilon = [ 1 if val == 0 else 0 for val in binary_gamma]"
   ]
  },
  {
   "cell_type": "code",
   "execution_count": 3,
   "metadata": {},
   "outputs": [
    {
     "data": {
      "text/plain": [
       "[0, 1, 0, 0, 0, 1, 1, 1, 0, 1, 1, 1]"
      ]
     },
     "execution_count": 3,
     "metadata": {},
     "output_type": "execute_result"
    }
   ],
   "source": [
    "binary_gamma"
   ]
  },
  {
   "cell_type": "code",
   "execution_count": 4,
   "metadata": {},
   "outputs": [
    {
     "data": {
      "text/plain": [
       "[1, 0, 1, 1, 1, 0, 0, 0, 1, 0, 0, 0]"
      ]
     },
     "execution_count": 4,
     "metadata": {},
     "output_type": "execute_result"
    }
   ],
   "source": [
    "binary_epsilon"
   ]
  },
  {
   "cell_type": "code",
   "execution_count": 5,
   "metadata": {},
   "outputs": [],
   "source": [
    "def calc_decimal_from_binary_array(int_array):\n",
    "    max_pow = len(int_array)-1\n",
    "    val =0 \n",
    "    for i,b in enumerate(int_array):\n",
    "        val += 2**(max_pow-i)*b\n",
    "    return val\n",
    "    "
   ]
  },
  {
   "cell_type": "code",
   "execution_count": 6,
   "metadata": {},
   "outputs": [
    {
     "data": {
      "text/plain": [
       "3374136"
      ]
     },
     "execution_count": 6,
     "metadata": {},
     "output_type": "execute_result"
    }
   ],
   "source": [
    "calc_decimal_from_binary_array(binary_gamma)*calc_decimal_from_binary_array(binary_epsilon)"
   ]
  },
  {
   "cell_type": "code",
   "execution_count": 7,
   "metadata": {},
   "outputs": [],
   "source": [
    "diagnostics=[]\n",
    "with open('data/input_3.txt', 'r') as f :\n",
    "    diagnostics = [line.strip('\\n') for line in f.readlines()]"
   ]
  },
  {
   "cell_type": "code",
   "execution_count": 8,
   "metadata": {},
   "outputs": [],
   "source": [
    "test=['00100',\n",
    "'11110',\n",
    "'10110',\n",
    "'10111',\n",
    "'10101',\n",
    "'01111',\n",
    "'00111',\n",
    "'11100',\n",
    "'10000',\n",
    "'11001',\n",
    "'00010',\n",
    "'01010',]\n"
   ]
  },
  {
   "cell_type": "code",
   "execution_count": 22,
   "metadata": {},
   "outputs": [],
   "source": [
    "def diag_search_common(diag, common='', popular=True):\n",
    "    idx = len(common)\n",
    "#    print(common)\n",
    "    matches = [line for line in diag if line[:idx]==common]\n",
    "    tot= len(matches)\n",
    "    if tot == 1:\n",
    "        val = matches[0]\n",
    "        decimal = calc_decimal_from_binary_array([int(i) for i in val])\n",
    "        return val, decimal\n",
    "    else:\n",
    "        n_ones = sum([int(line[idx]) for line in matches])\n",
    "#        print(matches,n_ones/float(tot))\n",
    "        if popular:\n",
    "            common = common+str(int(n_ones/float(tot) >= 0.5))\n",
    "        else: \n",
    "            common = common+str(int(n_ones/float(tot) < 0.5))\n",
    "        return diag_search_common(matches, common, popular)"
   ]
  },
  {
   "cell_type": "code",
   "execution_count": 24,
   "metadata": {},
   "outputs": [
    {
     "data": {
      "text/plain": [
       "('10111', 23)"
      ]
     },
     "execution_count": 24,
     "metadata": {},
     "output_type": "execute_result"
    }
   ],
   "source": [
    "diag_search_common(test, '')"
   ]
  },
  {
   "cell_type": "code",
   "execution_count": 25,
   "metadata": {},
   "outputs": [
    {
     "data": {
      "text/plain": [
       "('01010', 10)"
      ]
     },
     "execution_count": 25,
     "metadata": {},
     "output_type": "execute_result"
    }
   ],
   "source": [
    "diag_search_common(test, '', popular=False)"
   ]
  },
  {
   "cell_type": "code",
   "execution_count": 13,
   "metadata": {},
   "outputs": [
    {
     "data": {
      "text/plain": [
       "('011101110101', 1909)"
      ]
     },
     "execution_count": 13,
     "metadata": {},
     "output_type": "execute_result"
    }
   ],
   "source": [
    "diag_search_common(diagnostics, '')"
   ]
  },
  {
   "cell_type": "code",
   "execution_count": 28,
   "metadata": {},
   "outputs": [
    {
     "data": {
      "text/plain": [
       "('100100010010', 2322)"
      ]
     },
     "execution_count": 28,
     "metadata": {},
     "output_type": "execute_result"
    }
   ],
   "source": [
    "diag_search_common(diagnostics, '',False)"
   ]
  },
  {
   "cell_type": "code",
   "execution_count": 27,
   "metadata": {},
   "outputs": [
    {
     "data": {
      "text/plain": [
       "4432698"
      ]
     },
     "execution_count": 27,
     "metadata": {},
     "output_type": "execute_result"
    }
   ],
   "source": [
    "diag_search_common(diagnostics, '')[1]* diag_search_common(diagnostics, '', False)[1]"
   ]
  },
  {
   "cell_type": "code",
   "execution_count": null,
   "metadata": {},
   "outputs": [],
   "source": []
  }
 ],
 "metadata": {
  "kernelspec": {
   "display_name": "cop_env",
   "language": "python",
   "name": "cop_env"
  },
  "language_info": {
   "codemirror_mode": {
    "name": "ipython",
    "version": 3
   },
   "file_extension": ".py",
   "mimetype": "text/x-python",
   "name": "python",
   "nbconvert_exporter": "python",
   "pygments_lexer": "ipython3",
   "version": "3.7.8"
  }
 },
 "nbformat": 4,
 "nbformat_minor": 4
}
