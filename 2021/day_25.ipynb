{
 "cells": [
  {
   "cell_type": "code",
   "execution_count": 2,
   "metadata": {},
   "outputs": [],
   "source": [
    "from IPython.core.interactiveshell import InteractiveShell\n",
    "InteractiveShell.ast_node_interactivity = \"all\""
   ]
  },
  {
   "cell_type": "code",
   "execution_count": 31,
   "metadata": {},
   "outputs": [],
   "source": [
    "from copy import deepcopy\n",
    "class SeaCucumbers:\n",
    "    def __init__(self,file_path):\n",
    "        self.grid, self.right_move, self.down_move = self._read_file(file_path)\n",
    "        \n",
    "    def _read_file(self, file_path):\n",
    "        grid=[]\n",
    "        right=[]\n",
    "        down=[]\n",
    "        with open(file_path,'r') as f:\n",
    "            for rindex, line in enumerate(f.readlines()):\n",
    "                row =  list(line.strip())\n",
    "                for lindex, val in enumerate(row):\n",
    "                    if val =='>':\n",
    "                        right.append( (rindex,lindex))\n",
    "                    elif val =='v':\n",
    "                        down.append( (rindex,lindex))\n",
    "                \n",
    "                grid.append(row)\n",
    "        return grid, right, down\n",
    "    \n",
    "    def create_string(self, grid):\n",
    "        return '\\n'.join([''.join(row) for row in grid])\n",
    "    \n",
    "    def run_single_step(self, grid, right_movers, down_movers):\n",
    "        nxt_grid = deepcopy(grid)\n",
    "        bmax, rmax= len(grid), len(grid[0])\n",
    "        \n",
    "        for i,sc_r  in enumerate(right_movers):\n",
    "            if grid[sc_r[0]][(sc_r[1]+1)%rmax] == '.':\n",
    "                nxt_grid[sc_r[0]][sc_r[1]] = '.'\n",
    "                nxt_grid[sc_r[0]][(sc_r[1]+1)%rmax] = '>'\n",
    "                right_movers[i] = (sc_r[0],(sc_r[1]+1)%rmax)\n",
    "        grid = deepcopy(nxt_grid)\n",
    "        \n",
    "        for i,sc_d in enumerate(down_movers):\n",
    "            if grid[(sc_d[0]+1)%bmax][sc_d[1]] == '.':\n",
    "                nxt_grid[sc_d[0]][sc_d[1]] = '.'\n",
    "                nxt_grid[(sc_d[0]+1)%bmax][sc_d[1]] = 'v'\n",
    "                down_movers[i] = ((sc_d[0]+1)%bmax,sc_d[1])\n",
    "        \n",
    "        return nxt_grid, right_movers, down_movers\n",
    "    \n",
    "    def go_to_stable(self):\n",
    "        grid = self.grid.copy()\n",
    "        right_movers = self.right_move.copy()\n",
    "        down_movers = self.down_move.copy()\n",
    "        \n",
    "        \n",
    "        cur_str = self.create_string(grid)\n",
    "        prev_str = ''\n",
    "       \n",
    "        iters = 0\n",
    "        while cur_str != prev_str:\n",
    "            prev_str = cur_str\n",
    "            grid, right_movers, down_movers=self.run_single_step(grid,right_movers, down_movers)\n",
    "            iters+=1\n",
    "            cur_str = self.create_string(grid)\n",
    "        \n",
    "        return iters"
   ]
  },
  {
   "cell_type": "code",
   "execution_count": 32,
   "metadata": {},
   "outputs": [],
   "source": [
    "test = SeaCucumbers('data/test_25.txt')"
   ]
  },
  {
   "cell_type": "code",
   "execution_count": 33,
   "metadata": {},
   "outputs": [
    {
     "data": {
      "text/plain": [
       "58"
      ]
     },
     "execution_count": 33,
     "metadata": {},
     "output_type": "execute_result"
    }
   ],
   "source": [
    "test.go_to_stable()"
   ]
  },
  {
   "cell_type": "code",
   "execution_count": 34,
   "metadata": {},
   "outputs": [],
   "source": [
    "prod = SeaCucumbers('data/input_25.txt')"
   ]
  },
  {
   "cell_type": "code",
   "execution_count": 35,
   "metadata": {},
   "outputs": [
    {
     "name": "stdout",
     "output_type": "stream",
     "text": [
      "CPU times: user 5.37 s, sys: 12 ms, total: 5.38 s\n",
      "Wall time: 5.39 s\n"
     ]
    },
    {
     "data": {
      "text/plain": [
       "513"
      ]
     },
     "execution_count": 35,
     "metadata": {},
     "output_type": "execute_result"
    }
   ],
   "source": [
    "%%time\n",
    "prod.go_to_stable()"
   ]
  },
  {
   "cell_type": "code",
   "execution_count": null,
   "metadata": {},
   "outputs": [],
   "source": []
  }
 ],
 "metadata": {
  "kernelspec": {
   "display_name": "Python 3",
   "language": "python",
   "name": "python3"
  },
  "language_info": {
   "codemirror_mode": {
    "name": "ipython",
    "version": 3
   },
   "file_extension": ".py",
   "mimetype": "text/x-python",
   "name": "python",
   "nbconvert_exporter": "python",
   "pygments_lexer": "ipython3",
   "version": "3.9.1rc1"
  }
 },
 "nbformat": 4,
 "nbformat_minor": 5
}
