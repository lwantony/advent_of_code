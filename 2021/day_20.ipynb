{
 "cells": [
  {
   "cell_type": "code",
   "execution_count": 3,
   "metadata": {},
   "outputs": [],
   "source": [
    "from IPython.core.interactiveshell import InteractiveShell\n",
    "InteractiveShell.ast_node_interactivity = \"all\""
   ]
  },
  {
   "cell_type": "code",
   "execution_count": 10,
   "metadata": {},
   "outputs": [],
   "source": [
    "enhancement_string = ('..#.#..#####.#.#.#.###.##.....###.##.#..###.####..#####..#....#..#..##..##'\n",
    "+'#..######.###...####..#..#####..##..#.#####...##.#.#..#.##..#.#......#.###'\n",
    "+'.######.###.####...#.##.##..#..#..#####.....#.#....###..#.##......#.....#.'\n",
    "+'.#..#..##..#...##.######.####.####.#.#...#.......#..#.#.#...####.##.#.....'\n",
    "+'.#..#...##.#.##..#...##.#.##..###.#......#.#.......#.#.#.####.###.##...#..'\n",
    "+'...####.#..#..#.##.#....##..#.####....##...##..#...#......#.#.......#.....'\n",
    "+'..##..####..#...#.#.#...##..#.#..###..#####........#..####......#..#')"
   ]
  },
  {
   "cell_type": "code",
   "execution_count": 40,
   "metadata": {},
   "outputs": [
    {
     "data": {
      "text/plain": [
       "'..#.#..#####.#.#.#.###.##.....###.##.#..###.####..#####..#....#..#..##..###..######.###...####..#..#####..##..#.#####...##.#.#..#.##..#.#......#.###.######.###.####...#.##.##..#..#..#####.....#.#....###..#.##......#.....#..#..#..##..#...##.######.####.####.#.#...#.......#..#.#.#...####.##.#......#..#...##.#.##..#...##.#.##..###.#......#.#.......#.#.#.####.###.##...#.....####.#..#..#.##.#....##..#.####....##...##..#...#......#.#.......#.......##..####..#...#.#.#...##..#.#..###..#####........#..####......#..#'"
      ]
     },
     "execution_count": 40,
     "metadata": {},
     "output_type": "execute_result"
    }
   ],
   "source": [
    "enhancement_string"
   ]
  },
  {
   "cell_type": "code",
   "execution_count": 11,
   "metadata": {},
   "outputs": [],
   "source": [
    "test = ['...............',\n",
    "        '...............',\n",
    "        '...............',\n",
    "        '...............',\n",
    "        '...............',\n",
    "        '.....#..#......',\n",
    "        '.....#.........',\n",
    "        '.....##..#.....',\n",
    "        '.......#.......',\n",
    "        '.......###.....',\n",
    "        '...............',\n",
    "        '...............',\n",
    "        '...............',\n",
    "        '...............',\n",
    "        '...............',]"
   ]
  },
  {
   "cell_type": "code",
   "execution_count": 101,
   "metadata": {},
   "outputs": [],
   "source": [
    "def grab_binary(pt, input_image, blank_image='.'):\n",
    "    def grab_columns(row, y, ncol):\n",
    "        string = ''\n",
    "        for c in range(y-1, y+2):\n",
    "            if c < 0 or c>= len(row):\n",
    "                string+=blank_image\n",
    "            else:\n",
    "                string+=row[c]\n",
    "        return string\n",
    "        \n",
    "    ncol, nrow = len(input_image[0]), len(input_image)\n",
    "    binary_string=''\n",
    "    for r in range(pt[0]-1, pt[0]+2):\n",
    "        if r < 0 or r >= nrow:\n",
    "            binary_string+=blank_image*3\n",
    "        else:\n",
    "            binary_string+= grab_columns(input_image[r], pt[1], ncol)\n",
    "    \n",
    "    binary_string = binary_string.replace('.', '0').replace('#','1')\n",
    "    return int(binary_string, 2)"
   ]
  },
  {
   "cell_type": "code",
   "execution_count": 102,
   "metadata": {},
   "outputs": [],
   "source": [
    "def enhance_image_step(input_image, enhance_image, blank_image='.'):\n",
    "    ncol, nrow = len(input_image[0]), len(input_image)\n",
    "    output_image = [ ['.' for c in range(ncol)] for r in range(nrow)]\n",
    "    for r in range(nrow):\n",
    "        for c in range(ncol):\n",
    "            enhance_idx =grab_binary((r,c), input_image,blank_image)\n",
    "            output_image[r][c] = enhance_image[enhance_idx]\n",
    "    return output_image\n",
    "\n",
    "\n",
    "def perform_multiple_steps(input_image, enhance_image, nsteps):\n",
    "    image = input_image\n",
    "    for i in range(nsteps):\n",
    "        image = enhance_image_step(image, enhance_image, image[0][0])\n",
    "    return image"
   ]
  },
  {
   "cell_type": "code",
   "execution_count": 103,
   "metadata": {},
   "outputs": [],
   "source": [
    "def add_buffer(image, size=10):\n",
    "    ncol, nrow = len(image[0]), len(image)\n",
    "    new_image =[]\n",
    "    for _ in range(size):\n",
    "        new_image.append('.'*(size*2+ncol))\n",
    "    for row in image:\n",
    "        new_image.append('.'*size+row+'.'*size)\n",
    "    for _ in range(size):\n",
    "        new_image.append('.'*(size*2+ncol))\n",
    "    return new_image\n",
    "    \n",
    "    "
   ]
  },
  {
   "cell_type": "code",
   "execution_count": 104,
   "metadata": {},
   "outputs": [],
   "source": [
    "def count_white_spots(image):\n",
    "    total=0\n",
    "    for row in image:\n",
    "        total+= row.count('#')\n",
    "    return total"
   ]
  },
  {
   "cell_type": "code",
   "execution_count": 105,
   "metadata": {},
   "outputs": [
    {
     "name": "stdout",
     "output_type": "stream",
     "text": [
      "...............\n",
      "...............\n",
      "...............\n",
      "...............\n",
      ".....##.##.....\n",
      "....#..#.#.....\n",
      "....##.#..#....\n",
      "....####..#....\n",
      ".....#..##.....\n",
      "......##..#....\n",
      ".......#.#.....\n",
      "...............\n",
      "...............\n",
      "...............\n",
      "...............\n"
     ]
    }
   ],
   "source": [
    "out=enhance_image_step(test, enhancement_string)\n",
    "print('\\n'.join([''.join(row) for row in out]))"
   ]
  },
  {
   "cell_type": "code",
   "execution_count": 106,
   "metadata": {},
   "outputs": [
    {
     "name": "stdout",
     "output_type": "stream",
     "text": [
      "...............\n",
      "...............\n",
      "...............\n",
      "..........#....\n",
      "....#..#.#.....\n",
      "...#.#...###...\n",
      "...#...##.#....\n",
      "...#.....#.#...\n",
      "....#.#####....\n",
      ".....#.#####...\n",
      "......##.##....\n",
      ".......###.....\n",
      "...............\n",
      "...............\n",
      "...............\n"
     ]
    },
    {
     "data": {
      "text/plain": [
       "35"
      ]
     },
     "execution_count": 106,
     "metadata": {},
     "output_type": "execute_result"
    }
   ],
   "source": [
    "out=perform_multiple_steps(test, enhancement_string,2)\n",
    "print('\\n'.join([''.join(row) for row in out]))\n",
    "count_white_spots(out)"
   ]
  },
  {
   "cell_type": "code",
   "execution_count": 107,
   "metadata": {},
   "outputs": [],
   "source": [
    "def run_production_image_part_one(file_path):\n",
    "    enhance_str =''\n",
    "    image =[]\n",
    "    with open(file_path, 'r') as f:\n",
    "        enhance_str = f.readline().strip()\n",
    "        line=f.readline()\n",
    "        while line:\n",
    "            line=f.readline().strip()\n",
    "            if len(line) > 1:\n",
    "                image.append(line)\n",
    "            \n",
    "    buffed_image = add_buffer(image, 15)\n",
    "    \n",
    "    output = perform_multiple_steps(buffed_image, enhance_str, 2)\n",
    "    with open('tmp_test','w') as f:\n",
    "        #print('\\n'.join([''.join(row) for row in image]),file=f)\n",
    "        print('\\n'.join([''.join(row) for row in output]),file=f)\n",
    "    return count_white_spots(output)\n",
    "    "
   ]
  },
  {
   "cell_type": "code",
   "execution_count": 108,
   "metadata": {},
   "outputs": [
    {
     "data": {
      "text/plain": [
       "5475"
      ]
     },
     "execution_count": 108,
     "metadata": {},
     "output_type": "execute_result"
    }
   ],
   "source": [
    "run_production_image_part_one('data/input_20.txt')"
   ]
  },
  {
   "cell_type": "code",
   "execution_count": 112,
   "metadata": {},
   "outputs": [],
   "source": [
    "def run_production_image_part_two(file_path):\n",
    "    enhance_str =''\n",
    "    image =[]\n",
    "    with open(file_path, 'r') as f:\n",
    "        enhance_str = f.readline().strip()\n",
    "        line=f.readline()\n",
    "        while line:\n",
    "            line=f.readline().strip()\n",
    "            if len(line) > 1:\n",
    "                image.append(line)\n",
    "            \n",
    "    buffed_image = add_buffer(image, 60)\n",
    "    \n",
    "    output = perform_multiple_steps(buffed_image, enhance_str, 50)\n",
    "    with open('tmp_test','w') as f:\n",
    "        #print('\\n'.join([''.join(row) for row in image]),file=f)\n",
    "        print('\\n'.join([''.join(row) for row in output]),file=f)\n",
    "    return count_white_spots(output)\n",
    "    "
   ]
  },
  {
   "cell_type": "code",
   "execution_count": 113,
   "metadata": {},
   "outputs": [
    {
     "data": {
      "text/plain": [
       "3351"
      ]
     },
     "execution_count": 113,
     "metadata": {},
     "output_type": "execute_result"
    }
   ],
   "source": [
    "run_production_image_part_two('data/test_20.txt')"
   ]
  },
  {
   "cell_type": "code",
   "execution_count": 114,
   "metadata": {},
   "outputs": [
    {
     "data": {
      "text/plain": [
       "17548"
      ]
     },
     "execution_count": 114,
     "metadata": {},
     "output_type": "execute_result"
    }
   ],
   "source": [
    "run_production_image_part_two('data/input_20.txt')"
   ]
  },
  {
   "cell_type": "code",
   "execution_count": null,
   "metadata": {},
   "outputs": [],
   "source": []
  },
  {
   "cell_type": "code",
   "execution_count": null,
   "metadata": {},
   "outputs": [],
   "source": []
  },
  {
   "cell_type": "code",
   "execution_count": null,
   "metadata": {},
   "outputs": [],
   "source": []
  }
 ],
 "metadata": {
  "kernelspec": {
   "display_name": "Python 3",
   "language": "python",
   "name": "python3"
  },
  "language_info": {
   "codemirror_mode": {
    "name": "ipython",
    "version": 3
   },
   "file_extension": ".py",
   "mimetype": "text/x-python",
   "name": "python",
   "nbconvert_exporter": "python",
   "pygments_lexer": "ipython3",
   "version": "3.9.1rc1"
  }
 },
 "nbformat": 4,
 "nbformat_minor": 5
}
