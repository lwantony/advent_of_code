{
 "cells": [
  {
   "cell_type": "code",
   "execution_count": 2,
   "metadata": {},
   "outputs": [],
   "source": [
    "from IPython.core.interactiveshell import InteractiveShell\n",
    "InteractiveShell.ast_node_interactivity = \"all\""
   ]
  },
  {
   "cell_type": "raw",
   "metadata": {},
   "source": [
    "# Puzzle\n",
    "Player 1 starting position: 10\n",
    "Player 2 starting position: 3"
   ]
  },
  {
   "cell_type": "raw",
   "metadata": {},
   "source": [
    "# Test\n",
    "Player 1 starting position: 4\n",
    "Player 2 starting position: 8"
   ]
  },
  {
   "cell_type": "code",
   "execution_count": 20,
   "metadata": {},
   "outputs": [],
   "source": [
    "class Player:\n",
    "    def __init__(self, position, score=0):\n",
    "        self.position = position\n",
    "        self.score = score\n",
    "    def update_position(self, moves):\n",
    "        pos = (self.position + sum(moves))%10 \n",
    "        pos = 10 if pos ==0 else pos\n",
    "        self.position = pos\n",
    "        \n",
    "    def update_score(self):\n",
    "        self.score += self.position\n",
    "        \n",
    "        "
   ]
  },
  {
   "cell_type": "code",
   "execution_count": 29,
   "metadata": {},
   "outputs": [],
   "source": []
  },
  {
   "cell_type": "code",
   "execution_count": 37,
   "metadata": {},
   "outputs": [],
   "source": [
    "\n",
    "def play_dirac_dice(init_positions):\n",
    "    \n",
    "    def dice_roll(total_roll):\n",
    "        rolls=[]\n",
    "        for _ in range(3):\n",
    "            total_roll+=1\n",
    "            val = total_roll%100\n",
    "            val = 100 if val == 0 else val\n",
    "            rolls.append(val)\n",
    "        return rolls, total_roll\n",
    "    \n",
    "    players= [ Player(i,0) for i in init_positions]\n",
    "    tot_roll = 0\n",
    "    while players[0].score < 1000 and players[1].score < 1000:\n",
    "        rolls,tot_roll=dice_roll(tot_roll)\n",
    "        players[0].update_position(rolls)\n",
    "        players[0].update_score()\n",
    "        if players[0].score >=1000:\n",
    "            break\n",
    "        rolls,tot_roll=dice_roll(tot_roll)\n",
    "        players[1].update_position(rolls)\n",
    "        players[1].update_score()\n",
    "        \n",
    "    return min(players[0].score,players[1].score)*tot_roll"
   ]
  },
  {
   "cell_type": "code",
   "execution_count": 38,
   "metadata": {},
   "outputs": [
    {
     "data": {
      "text/plain": [
       "739785"
      ]
     },
     "execution_count": 38,
     "metadata": {},
     "output_type": "execute_result"
    }
   ],
   "source": [
    "play_dirac_dice([4,8])"
   ]
  },
  {
   "cell_type": "code",
   "execution_count": 39,
   "metadata": {},
   "outputs": [
    {
     "data": {
      "text/plain": [
       "742257"
      ]
     },
     "execution_count": 39,
     "metadata": {},
     "output_type": "execute_result"
    }
   ],
   "source": [
    "play_dirac_dice([10,3])"
   ]
  },
  {
   "cell_type": "markdown",
   "metadata": {},
   "source": [
    "# Part 2 \n",
    "## Quantum splitting"
   ]
  },
  {
   "cell_type": "code",
   "execution_count": 41,
   "metadata": {},
   "outputs": [],
   "source": [
    "sum_counts = [0 for _ in range(10)]\n",
    "for i in range(1,4):\n",
    "    for j in range(1,4):\n",
    "        for k in range(1,4):\n",
    "            sum_counts[i+j+k]+=1"
   ]
  },
  {
   "cell_type": "code",
   "execution_count": 43,
   "metadata": {},
   "outputs": [
    {
     "data": {
      "text/plain": [
       "2"
      ]
     },
     "execution_count": 43,
     "metadata": {},
     "output_type": "execute_result"
    }
   ],
   "source": [
    "len( {'1':2, '2':3})"
   ]
  },
  {
   "cell_type": "code",
   "execution_count": 230,
   "metadata": {},
   "outputs": [],
   "source": [
    "class QuantumDice:\n",
    "    \n",
    "    def __init__(self, init_positions):\n",
    "        players = [ (p,0) for p in init_positions]\n",
    "       \n",
    "        key = self._create_key(players)\n",
    "        self.games_in_flight={\n",
    "           (key) : 1 \n",
    "        }\n",
    "        \n",
    "        self.player_one_games = 0\n",
    "        self.player_two_games = 0\n",
    "        self.dice_sum_cnts = [ \n",
    "                          (3,1), \n",
    "                          (4,3), \n",
    "                          (5,6), \n",
    "                          (6,7),  \n",
    "                          (7,6), \n",
    "                          (8,3), \n",
    "                          (9,1) ]\n",
    "        self.MAX = 21\n",
    "        \n",
    "    def _create_key(self, players):\n",
    "        return '|'.join(['_'.join([str(i) for i in p]) for p in players])\n",
    "    \n",
    "    def _read_key(self, key):\n",
    "        players = key.split('|')\n",
    "        return [ [int(i) for i in p.split('_')] for p in players]\n",
    "        \n",
    "    \n",
    "    def _calc_new_pos(self,pos, roll):\n",
    "        new_pos = (pos+roll)%10\n",
    "        return 10 if new_pos == 0 else new_pos\n",
    "        \n",
    "    def run_games(self):\n",
    "        in_flight = self.games_in_flight.copy()\n",
    "        \n",
    "        while len(in_flight) >0:\n",
    "            next_round={}\n",
    "            for players, game_cnt in in_flight.items():\n",
    "                players = self._read_key(players)\n",
    "                \n",
    "                for roll, dice_count in self.dice_sum_cnts:\n",
    "                    p1_n_universes = game_cnt*dice_count\n",
    "                    player_one = players[0]\n",
    "                    pos_one = self._calc_new_pos(player_one[0], roll)\n",
    "                    new_score_one = player_one[1] + pos_one\n",
    "                    \n",
    "                    if new_score_one >=self.MAX :\n",
    "                        self.player_one_games += p1_n_universes\n",
    "                        continue\n",
    "                        \n",
    "                    new_player_one= (pos_one,new_score_one)\n",
    "                    \n",
    "                    for roll_2, dice_count_2 in self.dice_sum_cnts:\n",
    "                        p2_n_universes = p1_n_universes*dice_count_2\n",
    "                        \n",
    "                        player_two = players[1]\n",
    "                        pos_two = self._calc_new_pos(player_two[0], roll_2)\n",
    "                        new_score_two = player_two[1] + pos_two\n",
    "                        \n",
    "                        if new_score_two >=self.MAX :\n",
    "                            self.player_two_games += p2_n_universes \n",
    "                            continue\n",
    "                        new_player_two= (pos_two,new_score_two)\n",
    "                        \n",
    "                        new_key = self._create_key([new_player_one,new_player_two])\n",
    "                        try:\n",
    "                            next_round[new_key] = next_round[new_key]+ p2_n_universes \n",
    "                        except:\n",
    "                            next_round[new_key] = p2_n_universes\n",
    "            \n",
    "            in_flight = next_round.copy()\n",
    "                        \n",
    "        self.games_in_flight = in_flight\n",
    "                        \n",
    "    def get_winner(self):\n",
    "        self.player_one_games = 0\n",
    "        self.player_two_games = 0\n",
    "        self.run_games()\n",
    "        \n",
    "        return max(self.player_one_games, self.player_two_games)\n",
    "        \n",
    "                        \n",
    "                    \n",
    "                    "
   ]
  },
  {
   "cell_type": "code",
   "execution_count": 231,
   "metadata": {},
   "outputs": [],
   "source": [
    "test = QuantumDice([4,8])"
   ]
  },
  {
   "cell_type": "code",
   "execution_count": 232,
   "metadata": {},
   "outputs": [],
   "source": [
    "test.run_games()"
   ]
  },
  {
   "cell_type": "code",
   "execution_count": 233,
   "metadata": {},
   "outputs": [
    {
     "data": {
      "text/plain": [
       "444356092776315"
      ]
     },
     "execution_count": 233,
     "metadata": {},
     "output_type": "execute_result"
    }
   ],
   "source": [
    "test.player_one_games"
   ]
  },
  {
   "cell_type": "code",
   "execution_count": 234,
   "metadata": {},
   "outputs": [
    {
     "data": {
      "text/plain": [
       "341960390180808"
      ]
     },
     "execution_count": 234,
     "metadata": {},
     "output_type": "execute_result"
    }
   ],
   "source": [
    "test.player_two_games"
   ]
  },
  {
   "cell_type": "code",
   "execution_count": 235,
   "metadata": {},
   "outputs": [],
   "source": [
    "prod = QuantumDice([10,3])"
   ]
  },
  {
   "cell_type": "code",
   "execution_count": 236,
   "metadata": {},
   "outputs": [
    {
     "data": {
      "text/plain": [
       "93726416205179"
      ]
     },
     "execution_count": 236,
     "metadata": {},
     "output_type": "execute_result"
    }
   ],
   "source": [
    "prod.get_winner()"
   ]
  },
  {
   "cell_type": "code",
   "execution_count": null,
   "metadata": {},
   "outputs": [],
   "source": []
  }
 ],
 "metadata": {
  "kernelspec": {
   "display_name": "Python 3",
   "language": "python",
   "name": "python3"
  },
  "language_info": {
   "codemirror_mode": {
    "name": "ipython",
    "version": 3
   },
   "file_extension": ".py",
   "mimetype": "text/x-python",
   "name": "python",
   "nbconvert_exporter": "python",
   "pygments_lexer": "ipython3",
   "version": "3.9.1rc1"
  }
 },
 "nbformat": 4,
 "nbformat_minor": 5
}
