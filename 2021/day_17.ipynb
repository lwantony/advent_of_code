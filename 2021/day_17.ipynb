{
 "cells": [
  {
   "cell_type": "code",
   "execution_count": 6,
   "metadata": {},
   "outputs": [],
   "source": [
    "from IPython.core.interactiveshell import InteractiveShell\n",
    "InteractiveShell.ast_node_interactivity = \"all\""
   ]
  },
  {
   "cell_type": "code",
   "execution_count": 3,
   "metadata": {},
   "outputs": [],
   "source": [
    "from math import sqrt"
   ]
  },
  {
   "cell_type": "code",
   "execution_count": 2,
   "metadata": {},
   "outputs": [],
   "source": [
    "#test\n",
    "test = [ [20,30], [-10,-5] ]\n",
    "\n",
    "#'target area: x=241..275, y=-75..-49'\n",
    "production =[[241,275], [-75,-49]] "
   ]
  },
  {
   "cell_type": "code",
   "execution_count": 129,
   "metadata": {},
   "outputs": [],
   "source": [
    "def calc_end_y(ini_velo, limit):\n",
    "    max_val=0\n",
    "    yval = 0\n",
    "    step=0\n",
    "\n",
    "    prev_yval=0\n",
    "    while yval > limit[1]:\n",
    "        prev_yval= yval\n",
    "        yval += ini_velo-step\n",
    "        max_val =max(max_val, yval)\n",
    "        step+=1\n",
    "    if yval >= limit[0]:\n",
    "        return max_val, step\n",
    "    \n",
    "    return None,step, \n",
    "    "
   ]
  },
  {
   "cell_type": "code",
   "execution_count": 133,
   "metadata": {},
   "outputs": [
    {
     "data": {
      "text/plain": [
       "[(0, (0, 4)),\n",
       " (1, (1, 5)),\n",
       " (2, (3, 7)),\n",
       " (3, (6, 9)),\n",
       " (4, (10, 10)),\n",
       " (5, (15, 12)),\n",
       " (6, (21, 14)),\n",
       " (7, (28, 16)),\n",
       " (8, (36, 18)),\n",
       " (9, (45, 20))]"
      ]
     },
     "execution_count": 133,
     "metadata": {},
     "output_type": "execute_result"
    }
   ],
   "source": [
    "[ (i, calc_end_y(i, test[1])) for i in range(0,101) if calc_end_y(i, test[1])[0] is not None]"
   ]
  },
  {
   "cell_type": "code",
   "execution_count": 130,
   "metadata": {},
   "outputs": [
    {
     "data": {
      "text/plain": [
       "[(0, (0, 11)),\n",
       " (1, (1, 12)),\n",
       " (2, (3, 13)),\n",
       " (3, (6, 14)),\n",
       " (4, (10, 16)),\n",
       " (5, (15, 17)),\n",
       " (6, (21, 19)),\n",
       " (7, (28, 20)),\n",
       " (8, (36, 22)),\n",
       " (9, (45, 24)),\n",
       " (10, (55, 25)),\n",
       " (11, (66, 27)),\n",
       " (12, (78, 29)),\n",
       " (13, (91, 31)),\n",
       " (14, (105, 33)),\n",
       " (15, (120, 34)),\n",
       " (16, (136, 36)),\n",
       " (17, (153, 38)),\n",
       " (18, (171, 40)),\n",
       " (19, (190, 42)),\n",
       " (20, (210, 44)),\n",
       " (21, (231, 46)),\n",
       " (22, (253, 48)),\n",
       " (23, (276, 49)),\n",
       " (24, (300, 51)),\n",
       " (25, (325, 53)),\n",
       " (26, (351, 55)),\n",
       " (27, (378, 57)),\n",
       " (28, (406, 59)),\n",
       " (29, (435, 61)),\n",
       " (30, (465, 63)),\n",
       " (31, (496, 65)),\n",
       " (32, (528, 67)),\n",
       " (33, (561, 69)),\n",
       " (34, (595, 71)),\n",
       " (35, (630, 73)),\n",
       " (36, (666, 75)),\n",
       " (48, (1176, 98)),\n",
       " (49, (1225, 100)),\n",
       " (50, (1275, 102)),\n",
       " (51, (1326, 104)),\n",
       " (52, (1378, 106)),\n",
       " (53, (1431, 108)),\n",
       " (54, (1485, 110)),\n",
       " (55, (1540, 112)),\n",
       " (56, (1596, 114)),\n",
       " (57, (1653, 116)),\n",
       " (58, (1711, 118)),\n",
       " (59, (1770, 120)),\n",
       " (60, (1830, 122)),\n",
       " (61, (1891, 124)),\n",
       " (62, (1953, 126)),\n",
       " (63, (2016, 128)),\n",
       " (64, (2080, 130)),\n",
       " (65, (2145, 132)),\n",
       " (66, (2211, 134)),\n",
       " (67, (2278, 136)),\n",
       " (68, (2346, 138)),\n",
       " (69, (2415, 140)),\n",
       " (70, (2485, 142)),\n",
       " (71, (2556, 144)),\n",
       " (72, (2628, 146)),\n",
       " (73, (2701, 148)),\n",
       " (74, (2775, 150))]"
      ]
     },
     "execution_count": 130,
     "metadata": {},
     "output_type": "execute_result"
    }
   ],
   "source": [
    "[ (i, calc_end_y(i, production[1])) for i in range(0,101) if calc_end_y(i, production[1])[0] is not None]"
   ]
  },
  {
   "cell_type": "code",
   "execution_count": 131,
   "metadata": {},
   "outputs": [],
   "source": [
    "# S = V*(1+V)/2 \n",
    "def calculate_min_xvelocity(xlim):\n",
    "    #X = sqrt(1+2*S) -1\n",
    "    range_xlim = [ sqrt(1+2*lim) -1 for lim in xlim]\n",
    "    return range_xlim\n",
    "    \n",
    "    \n",
    "def calc_steps_x_hit(velo, lim):\n",
    "    max_val = velo*(1+velo)/2\n",
    "    \n",
    "    if max_val < lim[0]:\n",
    "        return None\n",
    "    \n",
    "    step=0\n",
    "    xval=0\n",
    "    while xval < lim[0] and (velo-step) >=0:\n",
    "        xval+=velo-step\n",
    "        step+=1\n",
    "    \n",
    "    if xval >= lim[0] and xval <= lim[1]:\n",
    "        return step\n",
    "    \n",
    "    return None"
   ]
  },
  {
   "cell_type": "code",
   "execution_count": null,
   "metadata": {},
   "outputs": [],
   "source": []
  },
  {
   "cell_type": "code",
   "execution_count": 119,
   "metadata": {},
   "outputs": [
    {
     "data": {
      "text/plain": [
       "[20.97726097583591, 22.473389188611005]"
      ]
     },
     "execution_count": 119,
     "metadata": {},
     "output_type": "execute_result"
    }
   ],
   "source": [
    "calculate_min_xvelocity(production[0])"
   ]
  },
  {
   "cell_type": "code",
   "execution_count": 120,
   "metadata": {},
   "outputs": [],
   "source": [
    "calc_steps_x_hit(21,production[0])"
   ]
  },
  {
   "cell_type": "code",
   "execution_count": 123,
   "metadata": {},
   "outputs": [],
   "source": [
    "def calc_steps_needed_y(ini_velo, lim):\n",
    "    estimates = []\n",
    "    for l in lim:\n",
    "        if ini_velo**2-2*l+ ini_velo > 0:\n",
    "            val =ini_velo+sqrt(ini_velo**2-2*l+ ini_velo)\n",
    "            estimates.append(val)\n",
    "    return estimates"
   ]
  },
  {
   "cell_type": "code",
   "execution_count": 126,
   "metadata": {},
   "outputs": [],
   "source": [
    "    "
   ]
  },
  {
   "cell_type": "code",
   "execution_count": 127,
   "metadata": {},
   "outputs": [
    {
     "data": {
      "text/plain": [
       "[(6, 5),\n",
       " (7, 4),\n",
       " (8, 3),\n",
       " (9, 3),\n",
       " (10, 3),\n",
       " (11, 2),\n",
       " (12, 2),\n",
       " (13, 2),\n",
       " (14, 2),\n",
       " (15, 2),\n",
       " (20, 1),\n",
       " (21, 1),\n",
       " (22, 1),\n",
       " (23, 1),\n",
       " (24, 1),\n",
       " (25, 1),\n",
       " (26, 1),\n",
       " (27, 1),\n",
       " (28, 1),\n",
       " (29, 1),\n",
       " (30, 1)]"
      ]
     },
     "execution_count": 127,
     "metadata": {},
     "output_type": "execute_result"
    }
   ],
   "source": [
    "get_possible_x_vals(test[0])"
   ]
  },
  {
   "cell_type": "code",
   "execution_count": 151,
   "metadata": {},
   "outputs": [
    {
     "data": {
      "text/plain": [
       "21"
      ]
     },
     "execution_count": 151,
     "metadata": {},
     "output_type": "execute_result"
    }
   ],
   "source": [
    "sum([i for i in range(0,7)])"
   ]
  },
  {
   "cell_type": "code",
   "execution_count": 158,
   "metadata": {},
   "outputs": [],
   "source": [
    "def get_possible_x_vals(limit):\n",
    "    lower = calculate_min_xvelocity(limit)\n",
    "    x_vals = [ (i, calc_steps_x_hit(i,limit)) for i in range(int(lower[0]), limit[1]+1) if calc_steps_x_hit(i,limit) is not None]\n",
    "    return x_vals\n",
    "\n",
    "\n",
    "def run_simulation(ini_velos, limits):\n",
    "    step=0\n",
    "    cur_pt = [0,0]\n",
    "    prev_pt = cur_pt.copy()\n",
    "    while  cur_pt[0] <= limits[0][1] and cur_pt[1] >= limits[1][0]:\n",
    "        prev_pt = cur_pt.copy()\n",
    "        cur_pt[0] += max(0, ini_velos[0]-step)\n",
    "        cur_pt[1] += ini_velos[1]-step\n",
    "        step+=1\n",
    "    \n",
    "    if ( prev_pt[0] <= limits[0][1] and prev_pt[0] >= limits[0][0] \n",
    "         and prev_pt[1] <= limits[1][1] and prev_pt[1] >= limits[1][0] \n",
    "       ):\n",
    "        return True\n",
    "    \n",
    "    return False\n",
    "\n",
    "def get_all_pairs(limits):\n",
    "    y_max =max([ i for i in range(0,101) if calc_end_y(i, limits[1])[0] is not None])\n",
    "    x_vals = [ x[0] for x in get_possible_x_vals(limits[0])]\n",
    "    \n",
    "    pairs=0\n",
    "    for x in x_vals:\n",
    "        for y in range(limits[1][0], y_max+1):\n",
    "            if run_simulation((x,y), limits):\n",
    "                pairs+=1\n",
    "    return pairs\n",
    "    \n",
    "    \n",
    "    \n",
    "    "
   ]
  },
  {
   "cell_type": "code",
   "execution_count": 159,
   "metadata": {},
   "outputs": [
    {
     "data": {
      "text/plain": [
       "112"
      ]
     },
     "execution_count": 159,
     "metadata": {},
     "output_type": "execute_result"
    }
   ],
   "source": [
    "get_all_pairs(test)"
   ]
  },
  {
   "cell_type": "code",
   "execution_count": 160,
   "metadata": {},
   "outputs": [
    {
     "data": {
      "text/plain": [
       "1566"
      ]
     },
     "execution_count": 160,
     "metadata": {},
     "output_type": "execute_result"
    }
   ],
   "source": [
    "get_all_pairs(production)"
   ]
  },
  {
   "cell_type": "code",
   "execution_count": null,
   "metadata": {},
   "outputs": [],
   "source": []
  }
 ],
 "metadata": {
  "kernelspec": {
   "display_name": "Python 3",
   "language": "python",
   "name": "python3"
  },
  "language_info": {
   "codemirror_mode": {
    "name": "ipython",
    "version": 3
   },
   "file_extension": ".py",
   "mimetype": "text/x-python",
   "name": "python",
   "nbconvert_exporter": "python",
   "pygments_lexer": "ipython3",
   "version": "3.9.1rc1"
  }
 },
 "nbformat": 4,
 "nbformat_minor": 5
}
