{
 "cells": [
  {
   "cell_type": "code",
   "execution_count": 1,
   "metadata": {},
   "outputs": [],
   "source": [
    "from IPython.core.interactiveshell import InteractiveShell\n",
    "InteractiveShell.ast_node_interactivity = \"all\""
   ]
  },
  {
   "cell_type": "markdown",
   "metadata": {},
   "source": [
    "# Part One \n",
    "- not trackable for part 2, but first thought "
   ]
  },
  {
   "cell_type": "code",
   "execution_count": 2,
   "metadata": {},
   "outputs": [],
   "source": [
    "class CubeDirection:\n",
    "    def __init__(self,line):\n",
    "        light, dimensions = line.strip().split()\n",
    "        \n",
    "        if light == 'on':\n",
    "            on = True\n",
    "        else:\n",
    "            on=False\n",
    "        self.is_on = on\n",
    "        \n",
    "        dims = dimensions.split(',')\n",
    "        self.x_limits = [int(i) for i in dims[0][2:].split('..')]\n",
    "        self.y_limits = [int(i) for i in dims[1][2:].split('..')]\n",
    "        self.z_limits = [int(i) for i in dims[2][2:].split('..')]\n",
    "    \n",
    "    def calculate_size(self,):\n",
    "        x_length = self.x_limits[1] - self.x_limits[0]+1\n",
    "        y_length = self.y_limits[1] - self.y_limits[0]+1\n",
    "        z_length = self.z_limits[1] - self.z_limits[0]+1\n",
    "\n",
    "        return x_length * y_length* z_length\n",
    "    def give_internal_elements(self, part_one=True):\n",
    "        def cap_fifty(element):\n",
    "            return min(max(-50, element), 50)\n",
    "        \n",
    "        x_lims = self.x_limits\n",
    "        y_lims = self.y_limits\n",
    "        z_lims = self.z_limits\n",
    "        \n",
    "        elements = []\n",
    "        if part_one:\n",
    "            if x_lims[1] < -50 or y_lims[1] < -50 or z_lims[1] < -50:\n",
    "                return elements\n",
    "            if x_lims[0] > 50 or y_lims[0] >  50 or z_lims[0] > 50:\n",
    "                return elements\n",
    "            x_lims = [ cap_fifty(i) for i in x_lims ]\n",
    "            y_lims = [ cap_fifty(i) for i in y_lims ]\n",
    "            z_lims = [ cap_fifty(i) for i in z_lims ]\n",
    "       \n",
    "        for x in range(x_lims[0], x_lims[1]+1):\n",
    "            for y in range(y_lims[0], y_lims[1]+1):\n",
    "                for z in range(z_lims[0], z_lims[1]+1):\n",
    "                    elements.append(f'{x},{y},{z}')\n",
    "                    \n",
    "        return elements"
   ]
  },
  {
   "cell_type": "code",
   "execution_count": 3,
   "metadata": {},
   "outputs": [],
   "source": [
    "def read_directions(file_path):\n",
    "    cube_directions =[]\n",
    "    with open(file_path, 'r') as f:\n",
    "        cube_directions = f.readlines()\n",
    "        cube_directions = [ line.strip() for line in cube_directions]\n",
    "        \n",
    "    on_lights = set([])\n",
    "    for line in cube_directions:\n",
    "        cube = CubeDirection(line)\n",
    "        if cube.is_on:\n",
    "            on_lights = on_lights.union(cube.give_internal_elements())\n",
    "        else:\n",
    "            remove = cube.give_internal_elements()\n",
    "            on_lights = on_lights - set(remove)\n",
    "    \n",
    "    \n",
    "    return len(on_lights)\n",
    "        "
   ]
  },
  {
   "cell_type": "code",
   "execution_count": 4,
   "metadata": {},
   "outputs": [
    {
     "data": {
      "text/plain": [
       "590784"
      ]
     },
     "execution_count": 4,
     "metadata": {},
     "output_type": "execute_result"
    },
    {
     "data": {
      "text/plain": [
       "474140"
      ]
     },
     "execution_count": 4,
     "metadata": {},
     "output_type": "execute_result"
    }
   ],
   "source": [
    "read_directions('data/test_22.txt')\n",
    "#read_directions('data/test_22_1.txt')"
   ]
  },
  {
   "cell_type": "code",
   "execution_count": 5,
   "metadata": {},
   "outputs": [
    {
     "name": "stdout",
     "output_type": "stream",
     "text": [
      "CPU times: user 5.63 s, sys: 565 ms, total: 6.2 s\n",
      "Wall time: 6.2 s\n"
     ]
    },
    {
     "data": {
      "text/plain": [
       "609563"
      ]
     },
     "execution_count": 5,
     "metadata": {},
     "output_type": "execute_result"
    }
   ],
   "source": [
    "%%time\n",
    "read_directions('data/input_22.txt')"
   ]
  },
  {
   "cell_type": "markdown",
   "metadata": {},
   "source": [
    "# Part two"
   ]
  },
  {
   "cell_type": "code",
   "execution_count": 64,
   "metadata": {},
   "outputs": [],
   "source": [
    "class Cuboid:\n",
    "    def __init__(self,\n",
    "                 line=None,\n",
    "                 on=True,\n",
    "                 x_limits=None,\n",
    "                 y_limits=None,\n",
    "                 z_limits=None,\n",
    "                ):\n",
    "        if line is not None:\n",
    "            light, dimensions = line.strip().split()\n",
    "            \n",
    "            if light == 'on':\n",
    "                on = True\n",
    "            else:\n",
    "                on=False\n",
    "            self.is_on = on\n",
    "            \n",
    "            dims = dimensions.split(',')\n",
    "            self.x_limits = [int(i) for i in dims[0][2:].split('..')]\n",
    "            self.y_limits = [int(i) for i in dims[1][2:].split('..')]\n",
    "            self.z_limits = [int(i) for i in dims[2][2:].split('..')]\n",
    "            \n",
    "        else:\n",
    "            self.is_on = on\n",
    "            self.x_limits = x_limits\n",
    "            self.y_limits = y_limits\n",
    "            self.z_limits = z_limits\n",
    "            \n",
    "        self.size = self.calculate_size()\n",
    "        \n",
    "    def __str__(self):\n",
    "        dims = [self.x_limits,\n",
    "                self.y_limits,\n",
    "                self.z_limits]\n",
    "        return ',  '.join([ ' to '.join([str(p) for p in d]) for d in dims]) \n",
    "    \n",
    "    def calculate_size(self):\n",
    "        x_length = self.x_limits[1] - self.x_limits[0]+1\n",
    "        y_length = self.y_limits[1] - self.y_limits[0]+1\n",
    "        z_length = self.z_limits[1] - self.z_limits[0]+1\n",
    "\n",
    "        return x_length * y_length* z_length\n",
    "    \n",
    "    def check_disjoint(self, other):\n",
    "        x_out = (    (self.x_limits[0] > other.x_limits[1])\n",
    "                  or (other.x_limits[0] > self.x_limits[1])\n",
    "                )\n",
    "        y_out = (    (self.y_limits[0] > other.y_limits[1])\n",
    "                  or (other.y_limits[0] > self.y_limits[1])\n",
    "                )\n",
    "        z_out = (    (self.z_limits[0] > other.z_limits[1])\n",
    "                  or (other.z_limits[0] > self.z_limits[1])\n",
    "                )\n",
    "        return (x_out or y_out or z_out)\n",
    "    \n",
    "    def get_dimension_interction(self, s_dim, o_dim):\n",
    "        return [max(s_dim[0], o_dim[0]), min(s_dim[1], o_dim[1]) ]\n",
    "\n",
    "        \n",
    "    def __add__(self, other):\n",
    "        disjoint = self.check_disjoint(other)\n",
    "        if disjoint:\n",
    "            return None\n",
    "        \n",
    "        return Cuboid(\n",
    "                       x_limits=self.get_dimension_interction(self.x_limits,other.x_limits),\n",
    "                       y_limits=self.get_dimension_interction(self.y_limits,other.y_limits),\n",
    "                       z_limits=self.get_dimension_interction(self.z_limits,other.z_limits),\n",
    "                    )\n",
    "        \n",
    "    def exclude_region(self, dim, exclusion):\n",
    "        ranges = []\n",
    "        if dim[0] < exclusion[0]:\n",
    "            ranges.append( [ dim[0], min(exclusion[0]-1, dim[1]) ])\n",
    "        if dim[1] > exclusion[1]:\n",
    "            ranges.append( [ max(exclusion[1]+1,dim[0]), dim[1] ])\n",
    "        return ranges\n",
    "    \n",
    "    def __sub__(self, other):\n",
    "        disjoint = self.check_disjoint(other)\n",
    "        if disjoint:\n",
    "            return [self]\n",
    "        \n",
    "        intersection = self+other\n",
    "        \n",
    "        cuboids=[]\n",
    "        for xlims in self.exclude_region(self.x_limits, intersection.x_limits):\n",
    "            cuboids.append(\n",
    "                Cuboid(\n",
    "                        x_limits=xlims,\n",
    "                        y_limits=self.y_limits,\n",
    "                        z_limits=self.z_limits,\n",
    "                    )\n",
    "            )\n",
    "            \n",
    "        for ylims in self.exclude_region(self.y_limits, intersection.y_limits):\n",
    "            cuboids.append(\n",
    "                Cuboid(\n",
    "                        x_limits=intersection.x_limits,\n",
    "                        y_limits=ylims,\n",
    "                        z_limits=self.z_limits,\n",
    "                    )\n",
    "            )\n",
    "        for zlims in self.exclude_region(self.z_limits, intersection.z_limits):\n",
    "            cuboids.append(\n",
    "                Cuboid(\n",
    "                        x_limits=intersection.x_limits,\n",
    "                        y_limits=intersection.y_limits,\n",
    "                        z_limits=zlims,\n",
    "                    )\n",
    "            )\n",
    "        return cuboids\n"
   ]
  },
  {
   "cell_type": "code",
   "execution_count": 65,
   "metadata": {},
   "outputs": [],
   "source": [
    "def read_directions_part2(file_path):\n",
    "    cube_directions =[]\n",
    "    with open(file_path, 'r') as f:\n",
    "        cube_directions = f.readlines()\n",
    "        cube_directions = [ line.strip() for line in cube_directions]\n",
    "        \n",
    "    cuboids = [Cuboid(line=cube_directions[0])]\n",
    "    \n",
    "    for i,line in enumerate(cube_directions[1:]):\n",
    "        new_cuboid = Cuboid(line=line)\n",
    "        \n",
    "        next_cuboids = []\n",
    "        for cube in cuboids:\n",
    "            next_cuboids.extend( cube-new_cuboid )\n",
    "                    \n",
    "        if new_cuboid.is_on:\n",
    "            next_cuboids.append(new_cuboid)\n",
    "                    \n",
    "        cuboids = next_cuboids.copy()\n",
    "    \n",
    "    total=0\n",
    "    for cube in cuboids:\n",
    "        total += cube.size\n",
    "    \n",
    "    return total\n",
    "        "
   ]
  },
  {
   "cell_type": "code",
   "execution_count": 66,
   "metadata": {},
   "outputs": [
    {
     "name": "stdout",
     "output_type": "stream",
     "text": [
      "CPU times: user 27.5 ms, sys: 1.75 ms, total: 29.2 ms\n",
      "Wall time: 29.1 ms\n"
     ]
    },
    {
     "data": {
      "text/plain": [
       "2758514936282235"
      ]
     },
     "execution_count": 66,
     "metadata": {},
     "output_type": "execute_result"
    }
   ],
   "source": [
    "%%time\n",
    "read_directions_part2('data/test_22_1.txt')"
   ]
  },
  {
   "cell_type": "code",
   "execution_count": 67,
   "metadata": {},
   "outputs": [
    {
     "name": "stdout",
     "output_type": "stream",
     "text": [
      "CPU times: user 306 ms, sys: 2.29 ms, total: 308 ms\n",
      "Wall time: 309 ms\n"
     ]
    },
    {
     "data": {
      "text/plain": [
       "1234650223944734"
      ]
     },
     "execution_count": 67,
     "metadata": {},
     "output_type": "execute_result"
    }
   ],
   "source": [
    "%%time\n",
    "read_directions_part2('data/input_22.txt')"
   ]
  },
  {
   "cell_type": "code",
   "execution_count": null,
   "metadata": {},
   "outputs": [],
   "source": []
  }
 ],
 "metadata": {
  "kernelspec": {
   "display_name": "Python 3",
   "language": "python",
   "name": "python3"
  },
  "language_info": {
   "codemirror_mode": {
    "name": "ipython",
    "version": 3
   },
   "file_extension": ".py",
   "mimetype": "text/x-python",
   "name": "python",
   "nbconvert_exporter": "python",
   "pygments_lexer": "ipython3",
   "version": "3.9.1rc1"
  }
 },
 "nbformat": 4,
 "nbformat_minor": 4
}
