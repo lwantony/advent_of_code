{
 "cells": [
  {
   "cell_type": "code",
   "execution_count": 1,
   "id": "meaningful-finish",
   "metadata": {},
   "outputs": [],
   "source": [
    "from IPython.core.interactiveshell import InteractiveShell\n",
    "InteractiveShell.ast_node_interactivity = \"all\""
   ]
  },
  {
   "cell_type": "code",
   "execution_count": 64,
   "id": "injured-supplier",
   "metadata": {},
   "outputs": [],
   "source": [
    "class TransparentPaper:\n",
    "    \n",
    "    \n",
    "    def __init__(self, path_to_instructions):\n",
    "        self._dots, self._instructions =  self._read_file(path_to_instructions)\n",
    "        \n",
    "    def _read_file(self, file):\n",
    "        dot_locations=[]\n",
    "        instructions=[]\n",
    "        with open(file, 'r') as f :\n",
    "            read_dots =True\n",
    "            for line in f.readlines():\n",
    "                line = line.strip()\n",
    "                if len(line) == 0:\n",
    "                    read_dots = False\n",
    "                    continue\n",
    "                if read_dots:\n",
    "                    dot = [int(e) for e in line.split(',')]\n",
    "                    dot_locations.append(f'{dot[0]}_{dot[1]}')\n",
    "                else:\n",
    "                    instruct = line.split()[-1]\n",
    "                    axis, val = instruct.split('=')\n",
    "                    axis = 0 if axis == 'x' else 1\n",
    "                    val = int(val)\n",
    "                    instructions.append((axis, val))\n",
    "        return dot_locations, instructions \n",
    "    \n",
    "    def apply_nfolds(self, num_folds=1):\n",
    "        dots = self._dots.copy()\n",
    "        new_dots = []\n",
    "        for f in range(min(num_folds,len(self._instructions))):\n",
    "            axis, val = self._instructions[f]\n",
    "            for dot in dots:\n",
    "                dot = [int(x) for x in dot.split('_')]\n",
    "                \n",
    "                if dot[axis] > val:\n",
    "                    dot[axis] = 2*val - dot[axis]\n",
    "                \n",
    "                if f'{dot[0]}_{dot[1]}' not in new_dots:\n",
    "                    new_dots.append(f'{dot[0]}_{dot[1]}')\n",
    "                    \n",
    "        return len(new_dots)\n",
    "                    \n",
    "    def print_code(self):\n",
    "        dots = self._dots.copy()\n",
    "        for f in self._instructions:\n",
    "            axis, val = f\n",
    "            new_dots = []\n",
    "            for dot in dots:\n",
    "                dot = [int(x) for x in dot.split('_')]\n",
    "                \n",
    "                if dot[axis] > val:\n",
    "                    dot[axis] = 2*val - dot[axis]\n",
    "                \n",
    "                if f'{dot[0]}_{dot[1]}' not in new_dots:\n",
    "                    new_dots.append(f'{dot[0]}_{dot[1]}')\n",
    "            dots = new_dots.copy()\n",
    "        \n",
    "        final_dots =dots\n",
    "        lower_right = [0,0]\n",
    "        for d in final_dots:\n",
    "            d= [int(x) for x in d.split('_')]\n",
    "            lower_right = [ max(lower_right[i], d[i]) for i in range(2)]\n",
    "        \n",
    "        template = [ [' ' for x in range(lower_right[0]+1)] for y in range(lower_right[1]+1)]\n",
    "        for d in final_dots:\n",
    "            d= [int(x) for x in d.split('_')]\n",
    "            template[d[1]][d[0]] = '#'\n",
    "                    \n",
    "        return '\\n'.join([ ''.join(row) for row in template])\n"
   ]
  },
  {
   "cell_type": "code",
   "execution_count": null,
   "id": "concrete-advocate",
   "metadata": {},
   "outputs": [],
   "source": []
  },
  {
   "cell_type": "code",
   "execution_count": 65,
   "id": "robust-moisture",
   "metadata": {},
   "outputs": [],
   "source": [
    "prod_paper = TransparentPaper('data/input_13.txt')"
   ]
  },
  {
   "cell_type": "code",
   "execution_count": 66,
   "id": "fatty-complaint",
   "metadata": {},
   "outputs": [
    {
     "data": {
      "text/plain": [
       "850"
      ]
     },
     "execution_count": 66,
     "metadata": {},
     "output_type": "execute_result"
    }
   ],
   "source": [
    "prod_paper.apply_nfolds()"
   ]
  },
  {
   "cell_type": "code",
   "execution_count": 67,
   "id": "light-issue",
   "metadata": {},
   "outputs": [
    {
     "name": "stdout",
     "output_type": "stream",
     "text": [
      " ##  #  #  ##   ##  ###   ##   ##  #  #\n",
      "#  # #  # #  # #  # #  # #  # #  # #  #\n",
      "#  # #### #    #    #  # #    #  # #  #\n",
      "#### #  # # ## #    ###  # ## #### #  #\n",
      "#  # #  # #  # #  # #    #  # #  # #  #\n",
      "#  # #  #  ###  ##  #     ### #  #  ## \n"
     ]
    }
   ],
   "source": [
    "print(prod_paper.print_code())"
   ]
  },
  {
   "cell_type": "code",
   "execution_count": 26,
   "id": "improving-things",
   "metadata": {},
   "outputs": [
    {
     "data": {
      "text/plain": [
       "18"
      ]
     },
     "execution_count": 26,
     "metadata": {},
     "output_type": "execute_result"
    }
   ],
   "source": [
    "len(test_paper._dots)"
   ]
  },
  {
   "cell_type": "code",
   "execution_count": null,
   "id": "systematic-wisconsin",
   "metadata": {},
   "outputs": [],
   "source": []
  }
 ],
 "metadata": {
  "kernelspec": {
   "display_name": "Python 3",
   "language": "python",
   "name": "python3"
  },
  "language_info": {
   "codemirror_mode": {
    "name": "ipython",
    "version": 3
   },
   "file_extension": ".py",
   "mimetype": "text/x-python",
   "name": "python",
   "nbconvert_exporter": "python",
   "pygments_lexer": "ipython3",
   "version": "3.8.5"
  }
 },
 "nbformat": 4,
 "nbformat_minor": 5
}
