{
 "cells": [
  {
   "cell_type": "code",
   "execution_count": 1,
   "metadata": {},
   "outputs": [],
   "source": [
    "import pandas as pd"
   ]
  },
  {
   "cell_type": "code",
   "execution_count": 57,
   "metadata": {},
   "outputs": [],
   "source": [
    "depths = pd.read_csv('data/input_1.txt',names=['depths'])"
   ]
  },
  {
   "cell_type": "code",
   "execution_count": 58,
   "metadata": {},
   "outputs": [
    {
     "data": {
      "text/plain": [
       "1292"
      ]
     },
     "execution_count": 58,
     "metadata": {},
     "output_type": "execute_result"
    }
   ],
   "source": [
    "sum(depths['depths'].diff(1).dropna() > 0)\n"
   ]
  },
  {
   "cell_type": "code",
   "execution_count": 59,
   "metadata": {},
   "outputs": [
    {
     "data": {
      "text/plain": [
       "1262"
      ]
     },
     "execution_count": 59,
     "metadata": {},
     "output_type": "execute_result"
    }
   ],
   "source": [
    "sum(depths['depths'].rolling(3).sum().dropna().diff(1).dropna() > 0)"
   ]
  },
  {
   "cell_type": "code",
   "execution_count": 60,
   "metadata": {},
   "outputs": [],
   "source": [
    "tmp = list(depths['depths'])"
   ]
  },
  {
   "cell_type": "code",
   "execution_count": 61,
   "metadata": {
    "scrolled": true
   },
   "outputs": [],
   "source": [
    "cnt=0\n",
    "for i in range(len(tmp)-3):\n",
    "    cnt+=int( tmp[i] < tmp[i+3])"
   ]
  },
  {
   "cell_type": "code",
   "execution_count": 62,
   "metadata": {},
   "outputs": [
    {
     "data": {
      "text/plain": [
       "1262"
      ]
     },
     "execution_count": 62,
     "metadata": {},
     "output_type": "execute_result"
    }
   ],
   "source": [
    "cnt"
   ]
  },
  {
   "cell_type": "markdown",
   "metadata": {},
   "source": [
    "# Day 2"
   ]
  },
  {
   "cell_type": "code",
   "execution_count": 63,
   "metadata": {},
   "outputs": [],
   "source": [
    "with open('data/input_2.txt', 'r') as f :\n",
    "    m = f.readlines()\n",
    "    m = [ x.strip('\\n').split() for x in m]"
   ]
  },
  {
   "cell_type": "code",
   "execution_count": 64,
   "metadata": {},
   "outputs": [],
   "source": [
    "pos = [0,0]\n",
    "direction={\n",
    "    'forward' : [1,0],\n",
    "    'down' : [0,1],\n",
    "    'up' : [0,-1],\n",
    "}\n",
    "def add_directions(cur_pos, direct,x):\n",
    "    direct = [ x*direct[i] for i in range (2)]\n",
    "    return [cur_pos[i]+direct[i] for i in range(2)]\n",
    "\n",
    "for change in m:\n",
    "    pos = add_directions(pos, direction[change[0]], int(change[1]) )\n"
   ]
  },
  {
   "cell_type": "code",
   "execution_count": 65,
   "metadata": {},
   "outputs": [
    {
     "data": {
      "text/plain": [
       "1635930"
      ]
     },
     "execution_count": 65,
     "metadata": {},
     "output_type": "execute_result"
    }
   ],
   "source": [
    "pos[0]*pos[1]"
   ]
  },
  {
   "cell_type": "raw",
   "metadata": {},
   "source": [
    "-down X increases your aim by X units.\n",
    "-up X decreases your aim by X units.\n",
    "-forward X does two things:\n",
    " - It increases your horizontal position by X units.\n",
    " - It increases your depth by your aim multiplied by X."
   ]
  },
  {
   "cell_type": "code",
   "execution_count": 52,
   "metadata": {},
   "outputs": [],
   "source": [
    "pos_aim = [0,0,0]\n",
    "\n",
    "for change in m:\n",
    "    if change[0] == 'forward':\n",
    "        pos_aim[0] += int(change[1])\n",
    "        pos_aim[1] += int(change[1])*pos_aim[2]\n",
    "        \n",
    "    elif change[0] == 'down':\n",
    "        pos_aim[2] += int(change[1])\n",
    "    elif change[0] == 'up':\n",
    "        pos_aim[2] -= int(change[1])"
   ]
  },
  {
   "cell_type": "code",
   "execution_count": 54,
   "metadata": {},
   "outputs": [
    {
     "data": {
      "text/plain": [
       "1781819478"
      ]
     },
     "execution_count": 54,
     "metadata": {},
     "output_type": "execute_result"
    }
   ],
   "source": [
    "pos_aim[0]*pos_aim[1]"
   ]
  },
  {
   "cell_type": "code",
   "execution_count": 66,
   "metadata": {},
   "outputs": [],
   "source": [
    "### Another approach, but ended up being more code to write -_-\n",
    "\n",
    "pos_aim = [0,0,0]\n",
    "\n",
    "def forward_funct(cur_pos, x):\n",
    "    cur_pos[0] += x\n",
    "    cur_pos[1] += x*cur_pos[2]\n",
    "    return cur_pos\n",
    "\n",
    "def down_funct(cur_pos, x):\n",
    "    cur_pos[2] += x\n",
    "    return cur_pos\n",
    "\n",
    "def up_funct(cur_pos, x):\n",
    "    cur_pos[2] -= x\n",
    "    return cur_pos\n",
    "\n",
    "new_directives={\n",
    "    'forward' : forward_funct,\n",
    "    'down' : down_funct,\n",
    "    'up' : up_funct,\n",
    "}\n",
    "\n",
    "for change in m:\n",
    "    pos_aim = new_directives[change[0]](pos_aim, int(change[1]))\n"
   ]
  },
  {
   "cell_type": "code",
   "execution_count": 68,
   "metadata": {},
   "outputs": [
    {
     "data": {
      "text/plain": [
       "1781819478"
      ]
     },
     "execution_count": 68,
     "metadata": {},
     "output_type": "execute_result"
    }
   ],
   "source": [
    "pos_aim[0]*pos_aim[1]"
   ]
  },
  {
   "cell_type": "code",
   "execution_count": null,
   "metadata": {},
   "outputs": [],
   "source": []
  }
 ],
 "metadata": {
  "kernelspec": {
   "display_name": "work_env",
   "language": "python",
   "name": "work_env"
  },
  "language_info": {
   "codemirror_mode": {
    "name": "ipython",
    "version": 3
   },
   "file_extension": ".py",
   "mimetype": "text/x-python",
   "name": "python",
   "nbconvert_exporter": "python",
   "pygments_lexer": "ipython3",
   "version": "3.9.1rc1"
  }
 },
 "nbformat": 4,
 "nbformat_minor": 4
}
