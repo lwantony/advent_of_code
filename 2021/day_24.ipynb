{
 "cells": [
  {
   "cell_type": "code",
   "execution_count": 1,
   "metadata": {},
   "outputs": [],
   "source": [
    "from IPython.core.interactiveshell import InteractiveShell\n",
    "InteractiveShell.ast_node_interactivity = \"all\""
   ]
  },
  {
   "cell_type": "markdown",
   "metadata": {},
   "source": [
    "# ALU"
   ]
  },
  {
   "cell_type": "code",
   "execution_count": 2,
   "metadata": {},
   "outputs": [],
   "source": [
    "import string\n",
    "\n",
    "class ALU:\n",
    "    def __init__(self,file_path):\n",
    "        self.instructions = self._read_file(file_path)\n",
    "        \n",
    "    def _read_file(self, file_path):\n",
    "        instructions=[]\n",
    "        with open(file_path,'r') as f:\n",
    "            for line in f.readlines():\n",
    "                instructions.append(line.strip().split())\n",
    "        return instructions\n",
    "    \n",
    "    def verify_model(self, model_number):\n",
    "        number_list = [ int(i) for i in str(model_number)]\n",
    "        number_list.reverse()\n",
    "        \n",
    "        variables = { 'w': 0,\n",
    "                      'x': 0, \n",
    "                      'y': 0, \n",
    "                      'z': 0, \n",
    "                    }\n",
    "        functions ={\n",
    "            'mul' : lambda a, b : a*b,\n",
    "            'add' : lambda a, b : a+b,\n",
    "            'div' : lambda a, b : int(a//b) if b != 0 else None,\n",
    "            'mod' : lambda a, b : a%b ,\n",
    "            'eql' : lambda a, b : int(a == b), \n",
    "        }\n",
    "        \n",
    "        for direction in self.instructions:\n",
    "            func = direction[0]\n",
    "            a =  direction[1]\n",
    "            if func == 'inp':\n",
    "                variables[a] = number_list.pop()\n",
    "                print(variables['z'])\n",
    "            else:\n",
    "                b =direction[2] \n",
    "                if b in ['w', 'x', 'y', 'z']:\n",
    "                    variables[a] = functions[func](variables[a], variables[b])   \n",
    "                else:\n",
    "                    variables[a] = functions[func](variables[a], int(b))   \n",
    "        return variables['z']\n",
    "                \n",
    "    def function_check(self):\n",
    "        number_list = [ i for i in string.ascii_lowercase]\n",
    "        number_list.reverse()\n",
    "        \n",
    "        variables = { 'w': '0',\n",
    "                      'x': '0', \n",
    "                      'y': '0', \n",
    "                      'z': '0', \n",
    "                    }\n",
    "        functions ={\n",
    "            'mul' : (lambda a, b : \n",
    "                     '0' if a=='0' or b== '0' \n",
    "                     else str(int(a)*int(b)) if a.lstrip('-').isdigit() and b.lstrip('-').isdigit()\n",
    "                     else a  if  b=='1' \n",
    "                     else b   if a=='1'\n",
    "                     else f'({a}*{b})'\n",
    "                    )\n",
    "                     ,\n",
    "            'add' : (lambda a, b : a if  b== '0' \n",
    "                                 else b if a =='0' \n",
    "                                 else str(int(a)+int(b)) if a.lstrip('-').isdigit() and b.lstrip('-').isdigit()  \n",
    "                                 else f'[{a}+{b}]'\n",
    "                    ),\n",
    "            'div' : (lambda a, b : a if  b== '1' \n",
    "                                   else str(int(a)//int(b)) if a.lstrip('-').isdigit() and b.lstrip('-').isdigit()  \n",
    "                                   else f'({a}/{b})'),\n",
    "            'mod' : lambda a, b : '0' if a == '0' else str(int(a)%int(b)) if a.isdigit() and b.isdigit()  else f'({a}%{b})',\n",
    "            'eql' : lambda a, b : str(int(a==b)) if a.lstrip('-').isdigit() and b.lstrip('-').isdigit() else f'({a}=={b})',\n",
    "        }\n",
    "       \n",
    "        pops=0\n",
    "        for i,direction in enumerate(self.instructions):\n",
    "            func = direction[0]\n",
    "            a =  direction[1]\n",
    "            if func == 'inp':\n",
    "                print(variables['z'].replace('+-','-'))\n",
    "                variables['z'] = variables['z'] if variables['z'].isdigit() else f'z_{pops}' \n",
    "                pops+=1\n",
    "                variables[a] = number_list.pop()\n",
    "            else:\n",
    "                b =direction[2] \n",
    "                if b in ['w', 'x', 'y', 'z']:\n",
    "                    variables[a] = functions[func](variables[a], variables[b])   \n",
    "                else:\n",
    "                    variables[a] = functions[func](variables[a], b)   \n",
    "        return variables['z'].replace('+-','-')\n",
    "                \n",
    "        "
   ]
  },
  {
   "cell_type": "code",
   "execution_count": 3,
   "metadata": {},
   "outputs": [],
   "source": [
    "prod = ALU('data/input_24.txt')"
   ]
  },
  {
   "cell_type": "code",
   "execution_count": 7,
   "metadata": {},
   "outputs": [
    {
     "name": "stdout",
     "output_type": "stream",
     "text": [
      "0\n",
      "3\n",
      "90\n",
      "2349\n",
      "61082\n",
      "1588147\n",
      "61082\n",
      "2349\n",
      "61089\n",
      "2349\n",
      "61087\n",
      "2349\n",
      "90\n",
      "3\n"
     ]
    },
    {
     "data": {
      "text/plain": [
       "0"
      ]
     },
     "execution_count": 7,
     "metadata": {},
     "output_type": "execute_result"
    }
   ],
   "source": [
    "prod.verify_model(\n",
    "#99429795993929\n",
    "18113181571611\n",
    ")"
   ]
  },
  {
   "cell_type": "code",
   "execution_count": 5,
   "metadata": {},
   "outputs": [
    {
     "name": "stdout",
     "output_type": "stream",
     "text": [
      "0\n",
      "([a+2]*((10==a)==0))\n",
      "[(z_1*[(25*(([(z_1%26)+10]==b)==0))+1])+([b+4]*(([(z_1%26)+10]==b)==0))]\n",
      "[(z_2*[(25*(([(z_2%26)+14]==c)==0))+1])+([c+8]*(([(z_2%26)+14]==c)==0))]\n",
      "[(z_3*[(25*(([(z_3%26)+11]==d)==0))+1])+([d+7]*(([(z_3%26)+11]==d)==0))]\n",
      "[(z_4*[(25*(([(z_4%26)+14]==e)==0))+1])+([e+12]*(([(z_4%26)+14]==e)==0))]\n",
      "[((z_5/26)*[(25*(([(z_5%26)-14]==f)==0))+1])+([f+7]*(([(z_5%26)-14]==f)==0))]\n",
      "[((z_6/26)*[(25*(((z_6%26)==g)==0))+1])+([g+10]*(((z_6%26)==g)==0))]\n",
      "[(z_7*[(25*(([(z_7%26)+10]==h)==0))+1])+([h+14]*(([(z_7%26)+10]==h)==0))]\n",
      "[((z_8/26)*[(25*(([(z_8%26)-10]==i)==0))+1])+([i+2]*(([(z_8%26)-10]==i)==0))]\n",
      "[(z_9*[(25*(([(z_9%26)+13]==j)==0))+1])+([j+6]*(([(z_9%26)+13]==j)==0))]\n",
      "[((z_10/26)*[(25*(([(z_10%26)-12]==k)==0))+1])+([k+8]*(([(z_10%26)-12]==k)==0))]\n",
      "[((z_11/26)*[(25*(([(z_11%26)-3]==l)==0))+1])+([l+11]*(([(z_11%26)-3]==l)==0))]\n",
      "[((z_12/26)*[(25*(([(z_12%26)-11]==m)==0))+1])+([m+5]*(([(z_12%26)-11]==m)==0))]\n"
     ]
    },
    {
     "data": {
      "text/plain": [
       "'[((z_13/26)*[(25*(([(z_13%26)-2]==n)==0))+1])+([n+11]*(([(z_13%26)-2]==n)==0))]'"
      ]
     },
     "execution_count": 5,
     "metadata": {},
     "output_type": "execute_result"
    }
   ],
   "source": [
    "prod.function_check()"
   ]
  },
  {
   "cell_type": "code",
   "execution_count": null,
   "metadata": {},
   "outputs": [],
   "source": [
    "abcdefghijklmn\n",
    "99429795993929"
   ]
  },
  {
   "cell_type": "code",
   "execution_count": null,
   "metadata": {},
   "outputs": [],
   "source": [
    "abcdefghijklmn\n",
    "18113181571611"
   ]
  },
  {
   "cell_type": "code",
   "execution_count": null,
   "metadata": {},
   "outputs": [],
   "source": [
    "z_1  = [a+2]\n",
    "z_2  = z_1*26+[b+4]\n",
    "z_3  = z_2*26+[c+8]\n",
    "z_4  = z_3*26+[d+7]\n",
    "z_5  = z_4*26+[e+12]\n",
    "z_6  = (z_4) if e-2 == f  \n",
    "     = (z_4)*26 +[f+7]\n",
    "\n",
    "z_7  = (z_3)           if d+7 == g and e-2 == f  \n",
    "     = (z_3)*26+[g+10] if e-2 == f and d+7 != g\n",
    "     = (z_4)           if f+7 == g and e-2 != f \n",
    "     = (z_4)*26+[g+10] if f+7 != g and e-2 != f\n",
    "    \n",
    "z_8  = z_7*26+[h+14] ### always true\n",
    "   \n",
    "z_9  = z_3  if h+4 == i \n",
    "\n",
    "z_10 = z_9*26+[j+6] ### always true\n",
    "        \n",
    "z_11 = z_3 if j-6==k\n",
    "z_12 = z_2 if c+5 == l\n",
    "z_13 = z_1 if b-7 ==m\n",
    "z_14 = 0 if a==n \n",
    "\n",
    "######\n",
    "z_6  = [((z_5/26)*[(25*(([(z_5%26)-14]==f)==0))+1])+([f+7]*(([(z_5%26)-14]==f)==0))]\n",
    "z_7  = [((z_6/26)*[(25*(((z_6%26)==g)==0))+1])+([g+10]*(((z_6%26)==g)==0))]\n",
    "z_8  = [(z_7*[(25*(([(z_7%26)+10]==h)==0))+1])+([h+14]*(([(z_7%26)+10]==h)==0))]\n",
    "z_9  = [((z_8/26)*[(25*(([(z_8%26)-10]==i)==0))+1])+([i+2]*(([(z_8%26)-10]==i)==0))]\n",
    "z_10 = [(z_9*[(25*(([(z_9%26)+13]==j)==0))+1])+([j+6]*(([(z_9%26)+13]==j)==0))]\n",
    "z_11 = [((z_10/26)*[(25*(([(z_10%26)-12]==k)==0))+1])+([k+8]*(([(z_10%26)-12]==k)==0))]\n",
    "z_12 = [((z_11/26)*[(25*(([(z_11%26)-3]==l)==0))+1])+([l+11]*(([(z_11%26)-3]==l)==0))]\n",
    "z_13 = [((z_12/26)*[(25*(([(z_12%26)-11]==m)==0))+1])+([m+5]*(([(z_12%26)-11]==m)==0))]\n",
    "z_14 = [((z_13/26)*[(25*(([(z_13%26)-2]==n)==0))+1])+([n+11]*(([(z_13%26)-2]==n)==0))]"
   ]
  },
  {
   "cell_type": "code",
   "execution_count": null,
   "metadata": {},
   "outputs": [],
   "source": []
  },
  {
   "cell_type": "code",
   "execution_count": null,
   "metadata": {},
   "outputs": [],
   "source": []
  }
 ],
 "metadata": {
  "kernelspec": {
   "display_name": "Python 3",
   "language": "python",
   "name": "python3"
  },
  "language_info": {
   "codemirror_mode": {
    "name": "ipython",
    "version": 3
   },
   "file_extension": ".py",
   "mimetype": "text/x-python",
   "name": "python",
   "nbconvert_exporter": "python",
   "pygments_lexer": "ipython3",
   "version": "3.9.1rc1"
  }
 },
 "nbformat": 4,
 "nbformat_minor": 5
}
