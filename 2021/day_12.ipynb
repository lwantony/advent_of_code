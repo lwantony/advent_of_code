{
 "cells": [
  {
   "cell_type": "code",
   "execution_count": 1,
   "id": "computational-fifth",
   "metadata": {},
   "outputs": [],
   "source": [
    "from IPython.core.interactiveshell import InteractiveShell\n",
    "InteractiveShell.ast_node_interactivity = \"all\""
   ]
  },
  {
   "cell_type": "code",
   "execution_count": 2,
   "id": "gross-trial",
   "metadata": {},
   "outputs": [],
   "source": [
    "import numpy as np"
   ]
  },
  {
   "cell_type": "code",
   "execution_count": 3,
   "id": "administrative-union",
   "metadata": {},
   "outputs": [],
   "source": [
    "test_1 = ['start-A',\n",
    "          'start-b',\n",
    "          'A-c',\n",
    "          'A-b',\n",
    "          'b-d',\n",
    "          'A-end',\n",
    "          'b-end']"
   ]
  },
  {
   "cell_type": "code",
   "execution_count": 4,
   "id": "single-worker",
   "metadata": {},
   "outputs": [],
   "source": [
    "test_2=['dc-end',\n",
    "        'HN-start',\n",
    "        'start-kj',\n",
    "        'dc-start',\n",
    "        'dc-HN',\n",
    "        'LN-dc',\n",
    "        'HN-end',\n",
    "        'kj-sa',\n",
    "        'kj-HN',\n",
    "        'kj-dc',\n",
    "       ]"
   ]
  },
  {
   "cell_type": "code",
   "execution_count": 5,
   "id": "built-tractor",
   "metadata": {},
   "outputs": [],
   "source": [
    "test_3 = ['fs-end',\n",
    "          'he-DX',\n",
    "          'fs-he',\n",
    "          'start-DX',\n",
    "          'pj-DX',\n",
    "          'end-zg',\n",
    "          'zg-sl',\n",
    "          'zg-pj',\n",
    "          'pj-he',\n",
    "          'RW-he',\n",
    "          'fs-DX',\n",
    "          'pj-RW',\n",
    "          'zg-RW',\n",
    "          'start-pj',\n",
    "          'he-WI',\n",
    "          'zg-he',\n",
    "          'pj-fs',\n",
    "          'start-RW',]"
   ]
  },
  {
   "cell_type": "code",
   "execution_count": 6,
   "id": "introductory-output",
   "metadata": {},
   "outputs": [],
   "source": [
    "def create_edge_dictionay(connections):\n",
    "    edges={}\n",
    "    for e in connections:\n",
    "        n1, n2 = e.strip().split('-')\n",
    "        try:\n",
    "            edges[n1].append(n2)\n",
    "        except:\n",
    "            edges[n1] = [n2]\n",
    "        try:\n",
    "            edges[n2].append(n1)\n",
    "        except:\n",
    "            edges[n2] = [n1]\n",
    "    return edges"
   ]
  },
  {
   "cell_type": "code",
   "execution_count": 33,
   "id": "micro-crossing",
   "metadata": {},
   "outputs": [],
   "source": [
    "\n",
    "def walk_the_graph(edges, rule_pt2=False):\n",
    "    \n",
    "    def add_to_path(cur_node, path, allow_little =rule_pt2 ): \n",
    "        \n",
    "        new_path = path.copy()\n",
    "        if cur_node == 'end':\n",
    "            new_path.append('end')\n",
    "            return 1\n",
    "        if cur_node == 'start' and len(path) > 0:\n",
    "            return 0\n",
    "        \n",
    "        \n",
    "        seen_lower = [ l for l in new_path if l.lower() == l]\n",
    "        \n",
    "        new_path.append(cur_node)\n",
    "        \n",
    "        return sum([ add_to_path(n,new_path, (allow_little and n not in seen_lower)) for n in edges[cur_node] if n not in seen_lower or allow_little])\n",
    "    \n",
    "    return add_to_path('start', [])\n",
    "        "
   ]
  },
  {
   "cell_type": "code",
   "execution_count": 64,
   "id": "skilled-possible",
   "metadata": {},
   "outputs": [],
   "source": [
    "# Wanted to figure out how to do the recursion and preserve the paths created\n",
    "# don't really understand why it works, but it does. \n",
    "def walk_the_graph_path(edges, rule_pt2=False):\n",
    "    \n",
    "    def add_to_path(cur_node, path, allow_little =rule_pt2, seen_paths=[] ): \n",
    "        \n",
    "        new_path = path.copy()\n",
    "        if cur_node == 'end':\n",
    "            new_path.append('end')\n",
    "            seen_paths.append(new_path)\n",
    "            return seen_paths\n",
    "        \n",
    "        if cur_node == 'start' and len(path) > 0:\n",
    "            return \n",
    "        \n",
    "        \n",
    "        seen_lower = [ l for l in new_path if l.lower() == l]\n",
    "        \n",
    "        new_path.append(cur_node)\n",
    "        \n",
    "        for n in edges[cur_node]:\n",
    "            if n not in seen_lower or allow_little:\n",
    "                child_path = add_to_path(n,new_path, (allow_little and n not in seen_lower), seen_paths)\n",
    "        return seen_paths\n",
    "    \n",
    "    return add_to_path('start', [])\n",
    "        "
   ]
  },
  {
   "cell_type": "code",
   "execution_count": 54,
   "id": "welsh-sleeve",
   "metadata": {},
   "outputs": [
    {
     "name": "stdout",
     "output_type": "stream",
     "text": [
      "10\n",
      "19\n",
      "226\n",
      "CPU times: user 2.59 ms, sys: 172 µs, total: 2.76 ms\n",
      "Wall time: 2.68 ms\n"
     ]
    }
   ],
   "source": [
    "%%time\n",
    "print(walk_the_graph(create_edge_dictionay(test_1)))\n",
    "print(walk_the_graph(create_edge_dictionay(test_2)))\n",
    "print(walk_the_graph(create_edge_dictionay(test_3)))"
   ]
  },
  {
   "cell_type": "code",
   "execution_count": 35,
   "id": "colonial-twist",
   "metadata": {},
   "outputs": [
    {
     "name": "stdout",
     "output_type": "stream",
     "text": [
      "36\n",
      "103\n",
      "3509\n",
      "CPU times: user 39.6 ms, sys: 2.34 ms, total: 41.9 ms\n",
      "Wall time: 41 ms\n"
     ]
    }
   ],
   "source": [
    "%%time\n",
    "print(walk_the_graph(create_edge_dictionay(test_1),True))\n",
    "print(walk_the_graph(create_edge_dictionay(test_2),True))\n",
    "print(walk_the_graph(create_edge_dictionay(test_3),True))"
   ]
  },
  {
   "cell_type": "code",
   "execution_count": 20,
   "id": "sorted-carter",
   "metadata": {},
   "outputs": [],
   "source": [
    "prod_12 = []\n",
    "with open('data/input_12.txt','r') as f:\n",
    "    prod_12 = [ l.strip() for l in f]"
   ]
  },
  {
   "cell_type": "code",
   "execution_count": 37,
   "id": "bibliographic-classroom",
   "metadata": {},
   "outputs": [
    {
     "name": "stdout",
     "output_type": "stream",
     "text": [
      "CPU times: user 33.1 ms, sys: 2.44 ms, total: 35.5 ms\n",
      "Wall time: 34.1 ms\n"
     ]
    },
    {
     "data": {
      "text/plain": [
       "4775"
      ]
     },
     "execution_count": 37,
     "metadata": {},
     "output_type": "execute_result"
    }
   ],
   "source": [
    "%%time\n",
    "walk_the_graph(create_edge_dictionay(prod_12))"
   ]
  },
  {
   "cell_type": "code",
   "execution_count": 36,
   "id": "exposed-beverage",
   "metadata": {},
   "outputs": [
    {
     "name": "stdout",
     "output_type": "stream",
     "text": [
      "CPU times: user 938 ms, sys: 6.42 ms, total: 945 ms\n",
      "Wall time: 945 ms\n"
     ]
    },
    {
     "data": {
      "text/plain": [
       "152480"
      ]
     },
     "execution_count": 36,
     "metadata": {},
     "output_type": "execute_result"
    }
   ],
   "source": [
    "%%time\n",
    "walk_the_graph(create_edge_dictionay(prod_12), True)"
   ]
  },
  {
   "cell_type": "code",
   "execution_count": null,
   "id": "breathing-review",
   "metadata": {},
   "outputs": [],
   "source": []
  },
  {
   "cell_type": "code",
   "execution_count": null,
   "id": "architectural-creek",
   "metadata": {},
   "outputs": [],
   "source": []
  },
  {
   "cell_type": "code",
   "execution_count": 63,
   "id": "entitled-student",
   "metadata": {},
   "outputs": [
    {
     "data": {
      "text/plain": [
       "3509"
      ]
     },
     "execution_count": 63,
     "metadata": {},
     "output_type": "execute_result"
    }
   ],
   "source": [
    "len(walk_the_graph_path(create_edge_dictionay(test_3),True))"
   ]
  },
  {
   "cell_type": "code",
   "execution_count": null,
   "id": "protective-shooting",
   "metadata": {},
   "outputs": [],
   "source": []
  }
 ],
 "metadata": {
  "kernelspec": {
   "display_name": "Python 3",
   "language": "python",
   "name": "python3"
  },
  "language_info": {
   "codemirror_mode": {
    "name": "ipython",
    "version": 3
   },
   "file_extension": ".py",
   "mimetype": "text/x-python",
   "name": "python",
   "nbconvert_exporter": "python",
   "pygments_lexer": "ipython3",
   "version": "3.8.5"
  }
 },
 "nbformat": 4,
 "nbformat_minor": 5
}
