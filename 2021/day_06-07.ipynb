{
 "cells": [
  {
   "cell_type": "code",
   "execution_count": 1,
   "metadata": {},
   "outputs": [],
   "source": [
    "from IPython.core.interactiveshell import InteractiveShell\n",
    "InteractiveShell.ast_node_interactivity = \"all\""
   ]
  },
  {
   "cell_type": "code",
   "execution_count": 2,
   "metadata": {},
   "outputs": [],
   "source": [
    "prod_fish = []\n",
    "with open('data/input_6.txt') as f:\n",
    "    line = f.readline() \n",
    "    prod_fish = [ int(x) for x in line.strip('\\n').split(',') ]\n",
    "        "
   ]
  },
  {
   "cell_type": "code",
   "execution_count": 5,
   "metadata": {},
   "outputs": [],
   "source": [
    "init_fish = [3,4,3,1,2]"
   ]
  },
  {
   "cell_type": "code",
   "execution_count": 6,
   "metadata": {},
   "outputs": [
    {
     "data": {
      "text/plain": [
       "[3, 4, 3, 1, 2]"
      ]
     },
     "execution_count": 6,
     "metadata": {},
     "output_type": "execute_result"
    }
   ],
   "source": [
    "init_fish"
   ]
  },
  {
   "cell_type": "code",
   "execution_count": 17,
   "metadata": {},
   "outputs": [],
   "source": [
    "def run_num_days(init_fishies, numdays=1):\n",
    "    fishies =init_fishies.copy()\n",
    "    for day in range(numdays):\n",
    "        num_newborns = 0\n",
    "        \n",
    "        for i,fish in enumerate(fishies):\n",
    "            if fish-1 == -1 :\n",
    "                num_newborns+=1\n",
    "                fishies[i] = 6\n",
    "            else:\n",
    "                fishies[i] -= 1\n",
    "                \n",
    "        for baby in range(num_newborns):\n",
    "            fishies.append(8)\n",
    "            \n",
    "    return fishies\n",
    "            "
   ]
  },
  {
   "cell_type": "code",
   "execution_count": 126,
   "metadata": {},
   "outputs": [
    {
     "data": {
      "text/plain": [
       "350917"
      ]
     },
     "execution_count": 126,
     "metadata": {},
     "output_type": "execute_result"
    }
   ],
   "source": [
    "len(run_num_days(prod_fish, 80))"
   ]
  },
  {
   "cell_type": "markdown",
   "metadata": {},
   "source": [
    "# Alrighty -- smart way to actually do thise"
   ]
  },
  {
   "cell_type": "raw",
   "metadata": {},
   "source": [
    "### Took 287 microseconds, deque took 70 microsecs \n",
    "\n",
    "def count_fish_at_day(init_fish, tot_day=10):\n",
    "    fish_at_age_idx = [0 for i in range(9)]\n",
    "    for fish in init_fish:\n",
    "        fish_at_age_idx[fish] += 1\n",
    "#    print(fish_at_age_idx)\n",
    "    for day in range(0,tot_day):\n",
    "        new_fish_at_age = [ fish_at_age_idx[i] for i in range(1,9)]\n",
    "        new_fish_at_age[6] += fish_at_age_idx[0]\n",
    "        new_fish_at_age.append(fish_at_age_idx[0])\n",
    "    \n",
    "        fish_at_age_idx = new_fish_at_age\n",
    "#        print(fish_at_age_idx)\n",
    "    return sum(fish_at_age_idx)\n",
    "\n"
   ]
  },
  {
   "cell_type": "code",
   "execution_count": 13,
   "metadata": {},
   "outputs": [],
   "source": [
    "from collections import deque \n",
    "\n",
    "def count_fish_at_day(init_fish, tot_day=10):\n",
    "    fish_at_age_idx = deque([0 for i in range(9)])\n",
    "    for fish in init_fish:\n",
    "        fish_at_age_idx[fish] += 1\n",
    "#    print(fish_at_age_idx)\n",
    "    for day in range(0,tot_day):\n",
    "        spawning_fish = fish_at_age_idx.popleft()\n",
    "        fish_at_age_idx.append(spawning_fish)\n",
    "        fish_at_age_idx[6] += spawning_fish\n",
    "        \n",
    "#        print(fish_at_age_idx)\n",
    "    return sum(fish_at_age_idx)\n",
    "\n"
   ]
  },
  {
   "cell_type": "code",
   "execution_count": 7,
   "metadata": {},
   "outputs": [
    {
     "data": {
      "text/plain": [
       "5934"
      ]
     },
     "execution_count": 7,
     "metadata": {},
     "output_type": "execute_result"
    }
   ],
   "source": [
    "count_fish_at_day(init_fish,80)"
   ]
  },
  {
   "cell_type": "code",
   "execution_count": 8,
   "metadata": {},
   "outputs": [
    {
     "data": {
      "text/plain": [
       "350917"
      ]
     },
     "execution_count": 8,
     "metadata": {},
     "output_type": "execute_result"
    }
   ],
   "source": [
    "count_fish_at_day(prod_fish,80)"
   ]
  },
  {
   "cell_type": "code",
   "execution_count": 14,
   "metadata": {},
   "outputs": [
    {
     "name": "stdout",
     "output_type": "stream",
     "text": [
      "CPU times: user 68 µs, sys: 1 µs, total: 69 µs\n",
      "Wall time: 69.9 µs\n"
     ]
    },
    {
     "data": {
      "text/plain": [
       "1592918715629"
      ]
     },
     "execution_count": 14,
     "metadata": {},
     "output_type": "execute_result"
    }
   ],
   "source": [
    "%%time\n",
    "count_fish_at_day(prod_fish,256)"
   ]
  },
  {
   "cell_type": "code",
   "execution_count": null,
   "metadata": {},
   "outputs": [],
   "source": []
  },
  {
   "cell_type": "code",
   "execution_count": null,
   "metadata": {},
   "outputs": [],
   "source": []
  },
  {
   "cell_type": "markdown",
   "metadata": {},
   "source": [
    "# Day 7"
   ]
  },
  {
   "cell_type": "code",
   "execution_count": 8,
   "metadata": {},
   "outputs": [],
   "source": [
    "# Calculate the median \n",
    "def median_val(crab_list):\n",
    "    crab_list.sort()\n",
    "    tot = len(crab_list)\n",
    "    if tot%2 ==1 :\n",
    "        return crab_list[tot//2]\n",
    "    else:\n",
    "        return (crab_list[tot//2]+crab_list[tot//2+1])/2\n",
    "\n",
    "def calc_residual(crab_list, med):\n",
    "    csum=0\n",
    "    for crab in crab_list:\n",
    "        csum+=abs(crab-med)\n",
    "    return csum\n",
    "\n",
    "\n",
    "def find_min_value(crab_list):\n",
    "    value = median_val(crab_list)\n",
    "    score = calc_residual(crab_list, value)\n",
    "    search = True\n",
    "    \n",
    "    while search:\n",
    "        test_before = calc_residual(crab_list, value-1)\n",
    "        if test_before < score:\n",
    "            value=value-1\n",
    "            score=test_before\n",
    "            continue\n",
    "        test_after= calc_residual(crab_list, value+1)\n",
    "        if test_after < score:\n",
    "            value=value+1\n",
    "            score=test_after\n",
    "            continue\n",
    "        if test_after > score and test_before > score:\n",
    "            search = False\n",
    "            return value, score"
   ]
  },
  {
   "cell_type": "code",
   "execution_count": null,
   "metadata": {},
   "outputs": [],
   "source": []
  },
  {
   "cell_type": "code",
   "execution_count": 9,
   "metadata": {},
   "outputs": [],
   "source": [
    "test = [16,1,2,0,4,2,7,1,2,14]"
   ]
  },
  {
   "cell_type": "code",
   "execution_count": 10,
   "metadata": {},
   "outputs": [
    {
     "data": {
      "text/plain": [
       "(2.0, 37.0)"
      ]
     },
     "execution_count": 10,
     "metadata": {},
     "output_type": "execute_result"
    }
   ],
   "source": [
    "find_min_value(test)"
   ]
  },
  {
   "cell_type": "code",
   "execution_count": 11,
   "metadata": {},
   "outputs": [],
   "source": [
    "prod_7 =[]\n",
    "with open('data/input_7.txt','r') as f:\n",
    "    m = f.readline().strip('\\n').split(',')\n",
    "    prod_7 = [int(x) for x in m]"
   ]
  },
  {
   "cell_type": "code",
   "execution_count": 12,
   "metadata": {},
   "outputs": [
    {
     "data": {
      "text/plain": [
       "(358.0, 344138.0)"
      ]
     },
     "execution_count": 12,
     "metadata": {},
     "output_type": "execute_result"
    }
   ],
   "source": [
    "find_min_value(prod_7)"
   ]
  },
  {
   "cell_type": "code",
   "execution_count": 30,
   "metadata": {},
   "outputs": [
    {
     "name": "stdout",
     "output_type": "stream",
     "text": [
      "357 344140\n",
      "358 344138\n",
      "359 344142\n"
     ]
    }
   ],
   "source": [
    "for i in range(357,360):\n",
    "    print(i, calc_score(prod_7,i))"
   ]
  },
  {
   "cell_type": "code",
   "execution_count": null,
   "metadata": {},
   "outputs": [],
   "source": []
  },
  {
   "cell_type": "code",
   "execution_count": null,
   "metadata": {},
   "outputs": [],
   "source": []
  },
  {
   "cell_type": "code",
   "execution_count": null,
   "metadata": {},
   "outputs": [],
   "source": []
  },
  {
   "cell_type": "code",
   "execution_count": 21,
   "metadata": {},
   "outputs": [],
   "source": [
    "def part_two_init_guess(crab_list):\n",
    "    N= len(crab_list)\n",
    "    tot = sum(crab_list)\n",
    "    \n",
    "    return (N+2*tot)/(2*N)\n",
    "\n",
    "def calc_residual_part2(crab_list, med):\n",
    "    csum=0\n",
    "    for crab in crab_list:\n",
    "        diff=abs(crab-med)\n",
    "        newdiff = (diff+1)*diff/2\n",
    "        csum+=newdiff\n",
    "    return int(csum)\n",
    "\n",
    "\n",
    "def find_min_value_pt2(crab_list):\n",
    "    value = int(part_two_init_guess(crab_list))\n",
    "    score = calc_residual_part2(crab_list, value)\n",
    "    search = True\n",
    "    \n",
    "    while search:\n",
    "        test_before = calc_residual_part2(crab_list, value-1)\n",
    "        if test_before < score:\n",
    "            value=value-1\n",
    "            score=test_before\n",
    "            continue\n",
    "        test_after= calc_residual_part2(crab_list, value+1)\n",
    "        if test_after < score:\n",
    "            value=value+1\n",
    "            score=test_after\n",
    "            continue\n",
    "        if test_after > score and test_before > score:\n",
    "            search = False\n",
    "            return value, score"
   ]
  },
  {
   "cell_type": "code",
   "execution_count": 22,
   "metadata": {},
   "outputs": [
    {
     "data": {
      "text/plain": [
       "206"
      ]
     },
     "execution_count": 22,
     "metadata": {},
     "output_type": "execute_result"
    }
   ],
   "source": [
    "calc_residual_part2(test, 2)"
   ]
  },
  {
   "cell_type": "code",
   "execution_count": 23,
   "metadata": {},
   "outputs": [
    {
     "data": {
      "text/plain": [
       "(482, 94862124)"
      ]
     },
     "execution_count": 23,
     "metadata": {},
     "output_type": "execute_result"
    }
   ],
   "source": [
    "find_min_value_pt2(prod_7)"
   ]
  },
  {
   "cell_type": "code",
   "execution_count": null,
   "metadata": {},
   "outputs": [],
   "source": []
  },
  {
   "cell_type": "code",
   "execution_count": 13,
   "metadata": {},
   "outputs": [],
   "source": []
  },
  {
   "cell_type": "code",
   "execution_count": 24,
   "metadata": {},
   "outputs": [
    {
     "data": {
      "text/plain": [
       "483.096"
      ]
     },
     "execution_count": 24,
     "metadata": {},
     "output_type": "execute_result"
    }
   ],
   "source": [
    "part_two_init_guess(prod_7)"
   ]
  },
  {
   "cell_type": "code",
   "execution_count": null,
   "metadata": {},
   "outputs": [],
   "source": []
  }
 ],
 "metadata": {
  "kernelspec": {
   "display_name": "cop_env",
   "language": "python",
   "name": "cop_env"
  },
  "language_info": {
   "codemirror_mode": {
    "name": "ipython",
    "version": 3
   },
   "file_extension": ".py",
   "mimetype": "text/x-python",
   "name": "python",
   "nbconvert_exporter": "python",
   "pygments_lexer": "ipython3",
   "version": "3.7.8"
  }
 },
 "nbformat": 4,
 "nbformat_minor": 4
}
