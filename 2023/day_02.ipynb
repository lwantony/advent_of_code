{
 "cells": [
  {
   "cell_type": "code",
   "execution_count": 2,
   "id": "3b0eb4ec-c64b-48ed-a516-5da62ac4387d",
   "metadata": {},
   "outputs": [],
   "source": [
    "from IPython.core.interactiveshell import InteractiveShell\n",
    "InteractiveShell.ast_node_interactivity = \"all\""
   ]
  },
  {
   "cell_type": "markdown",
   "id": "dfccab11-e94e-4201-88db-0c5e7b09ec4d",
   "metadata": {},
   "source": [
    "# Part 1"
   ]
  },
  {
   "cell_type": "code",
   "execution_count": 3,
   "id": "0f96be11-f914-44dd-8899-21f21cb0d80f",
   "metadata": {
    "tags": []
   },
   "outputs": [],
   "source": []
  },
  {
   "cell_type": "code",
   "execution_count": 20,
   "id": "550afb37-821d-4041-8833-d15d2557467a",
   "metadata": {
    "tags": []
   },
   "outputs": [],
   "source": [
    "max_possible={\n",
    "       'red': 12, \n",
    "       'green': 13,\n",
    "       'blue': 14 \n",
    "}\n",
    "def process_game_possible(line):\n",
    "    game,cubes = line.strip().split(':')\n",
    "    game_number =int(game.split()[1])\n",
    "    \n",
    "    max_observed = {'red': 0, 'green': 0, 'blue':0}\n",
    "    \n",
    "    rounds = cubes.split(';')\n",
    "    for r in rounds:\n",
    "        for color in r.split(','):\n",
    "            n,c = color.split()\n",
    "            max_observed[c] = max(max_observed[c], int(n))\n",
    "            \n",
    "    if any( [ max_possible[c] < max_observed[c] for c in max_possible.keys()]):\n",
    "        return 0\n",
    "    return game_number\n",
    "    \n",
    "    "
   ]
  },
  {
   "cell_type": "code",
   "execution_count": 23,
   "id": "27175cb6-7045-4ef0-ad19-ab6e336ac53b",
   "metadata": {},
   "outputs": [
    {
     "name": "stdout",
     "output_type": "stream",
     "text": [
      "2149\n"
     ]
    }
   ],
   "source": [
    "with open('input_data/day_02.txt','r') as f:\n",
    "    total_pts=0\n",
    "    for line in f.readlines():\n",
    "        total_pts+=process_game_possible(line)\n",
    "    print(total_pts)"
   ]
  },
  {
   "cell_type": "markdown",
   "id": "aa876976-0b26-4f23-a673-7ed38cca66d0",
   "metadata": {
    "tags": []
   },
   "source": [
    "# Part 2"
   ]
  },
  {
   "cell_type": "code",
   "execution_count": 24,
   "id": "ee9bb191-d9cb-4797-8851-8fff28738406",
   "metadata": {
    "tags": []
   },
   "outputs": [],
   "source": [
    "def game_power(line):\n",
    "    game,cubes = line.strip().split(':')\n",
    "    game_number =int(game.split()[1])\n",
    "    \n",
    "    max_observed = {'red': 0, 'green': 0, 'blue':0}\n",
    "    \n",
    "    rounds = cubes.split(';')\n",
    "    for r in rounds:\n",
    "        for color in r.split(','):\n",
    "            n,c = color.split()\n",
    "            max_observed[c] = max(max_observed[c], int(n))\n",
    "            \n",
    "    power=1\n",
    "    for p in max_observed.values():\n",
    "        power*=p\n",
    "    return power\n",
    "    \n",
    "    "
   ]
  },
  {
   "cell_type": "code",
   "execution_count": 27,
   "id": "41c6d0ce-1a03-46fb-9b0d-ec420a6fc46a",
   "metadata": {},
   "outputs": [
    {
     "name": "stdout",
     "output_type": "stream",
     "text": [
      "71274\n"
     ]
    }
   ],
   "source": [
    "with open('input_data/day_02.txt','r') as f:\n",
    "    total_pts=0\n",
    "    for line in f.readlines():\n",
    "        total_pts+=game_power(line)\n",
    "    print(total_pts)"
   ]
  },
  {
   "cell_type": "code",
   "execution_count": null,
   "id": "62d081f5-9a8e-4e1b-9f80-0b32c5897d22",
   "metadata": {},
   "outputs": [],
   "source": []
  }
 ],
 "metadata": {
  "kernelspec": {
   "display_name": "work_env",
   "language": "python",
   "name": "work_env"
  },
  "language_info": {
   "codemirror_mode": {
    "name": "ipython",
    "version": 3
   },
   "file_extension": ".py",
   "mimetype": "text/x-python",
   "name": "python",
   "nbconvert_exporter": "python",
   "pygments_lexer": "ipython3",
   "version": "3.11.6"
  }
 },
 "nbformat": 4,
 "nbformat_minor": 5
}
