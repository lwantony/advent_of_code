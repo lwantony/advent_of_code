{
 "cells": [
  {
   "cell_type": "code",
   "execution_count": 1,
   "id": "3b0eb4ec-c64b-48ed-a516-5da62ac4387d",
   "metadata": {},
   "outputs": [],
   "source": [
    "from IPython.core.interactiveshell import InteractiveShell\n",
    "InteractiveShell.ast_node_interactivity = \"all\""
   ]
  },
  {
   "cell_type": "markdown",
   "id": "dfccab11-e94e-4201-88db-0c5e7b09ec4d",
   "metadata": {},
   "source": [
    "# Part 1"
   ]
  },
  {
   "cell_type": "code",
   "execution_count": 30,
   "id": "550afb37-821d-4041-8833-d15d2557467a",
   "metadata": {
    "tags": []
   },
   "outputs": [],
   "source": [
    "def check_symbol_adjacent(pos,grid):\n",
    "    r_max = len(grid)\n",
    "    c_max = len(grid[0])\n",
    "   \n",
    "    for r in [-1,0,1]:\n",
    "        for c in [-1,0,1]:\n",
    "            if (r==0 and c==0):\n",
    "                continue\n",
    "            new_r = pos[0]+r\n",
    "            new_c = pos[1]+c\n",
    "            if new_r < 0 or new_r == r_max  :\n",
    "                continue\n",
    "            if new_c < 0 or new_c == c_max  :\n",
    "                continue\n",
    "            if not grid[new_r][new_c].isdigit() and grid[new_r][new_c] != '.':\n",
    "                return True\n",
    "    return False\n",
    "                "
   ]
  },
  {
   "cell_type": "code",
   "execution_count": 34,
   "id": "27175cb6-7045-4ef0-ad19-ab6e336ac53b",
   "metadata": {},
   "outputs": [
    {
     "name": "stdout",
     "output_type": "stream",
     "text": [
      "507214\n"
     ]
    }
   ],
   "source": [
    "with open('input_data/day_03.txt','r') as f:\n",
    "    total_pts=0\n",
    "    grid = [ l.strip() for l in f.readlines()]\n",
    "    rows=len(grid)\n",
    "    cols=len(grid[0])\n",
    "   \n",
    "    number=''\n",
    "    keep=False\n",
    "    total =0\n",
    "    for r in range(rows):\n",
    "        for c in range(cols):\n",
    "            if grid[r][c].isdigit():\n",
    "                number+=grid[r][c]\n",
    "                keep = any([keep, check_symbol_adjacent((r,c),grid)])\n",
    "            if not grid[r][c].isdigit():\n",
    "                if number != '' and keep :\n",
    "                    total+=  int(number)\n",
    "                number=''\n",
    "                keep=False\n",
    "    print(total)"
   ]
  },
  {
   "cell_type": "markdown",
   "id": "aa876976-0b26-4f23-a673-7ed38cca66d0",
   "metadata": {
    "tags": []
   },
   "source": [
    "# Part 2"
   ]
  },
  {
   "cell_type": "code",
   "execution_count": 48,
   "id": "17352528-9602-4a2d-925b-7d3549ef38ed",
   "metadata": {
    "tags": []
   },
   "outputs": [],
   "source": [
    "def get_whole_number(pos,grid):\n",
    "    c = pos[1]\n",
    "    r=pos[0]\n",
    "    \n",
    "    while c-1 > -1 and grid[r][c-1].isdigit():\n",
    "        c-=1\n",
    "        \n",
    "    num=''\n",
    "    idx= f'{r}_{c}'\n",
    "    while c < len(grid[0]) and grid[r][c].isdigit():\n",
    "        num+=grid[r][c]\n",
    "        c+=1\n",
    "    return idx, int(num)\n",
    "\n",
    "def get_numbers_near(pos,grid):\n",
    "    r_max = len(grid)\n",
    "    c_max = len(grid[0])\n",
    "  \n",
    "    gear_nums={}\n",
    "    for r in [-1,0,1]:\n",
    "        for c in [-1,0,1]:\n",
    "            if (r==0 and c==0):\n",
    "                continue\n",
    "            new_r = pos[0]+r\n",
    "            new_c = pos[1]+c\n",
    "            if new_r < 0 or new_r == r_max  :\n",
    "                continue\n",
    "            if new_c < 0 or new_c == c_max  :\n",
    "                continue\n",
    "            if  grid[new_r][new_c].isdigit():\n",
    "                idx,num = get_whole_number((new_r,new_c),grid)\n",
    "                gear_nums[idx] = num\n",
    "    if len(gear_nums.values()) ==2 :\n",
    "        vals = list(gear_nums.values())\n",
    "        return vals[0]*vals[1]\n",
    "    return 0\n",
    "                "
   ]
  },
  {
   "cell_type": "code",
   "execution_count": 51,
   "id": "d2ca1ec5-e867-48ac-8e3d-d8653c95044b",
   "metadata": {},
   "outputs": [
    {
     "name": "stdout",
     "output_type": "stream",
     "text": [
      "72553319\n"
     ]
    }
   ],
   "source": [
    "with open('input_data/day_03.txt','r') as f:\n",
    "    total_pts=0\n",
    "    grid = [ l.strip() for l in f.readlines()]\n",
    "    rows=len(grid)\n",
    "    cols=len(grid[0])\n",
    "    \n",
    "    total = 0 \n",
    "    for r in range(rows):\n",
    "        for c in range(cols):\n",
    "            if grid[r][c] == '*':\n",
    "                total+= get_numbers_near((r,c),grid)\n",
    "    print(total)"
   ]
  },
  {
   "cell_type": "code",
   "execution_count": null,
   "id": "eac7734c-ecec-4ec3-8617-bce82ab7f907",
   "metadata": {},
   "outputs": [],
   "source": []
  }
 ],
 "metadata": {
  "kernelspec": {
   "display_name": "work_env",
   "language": "python",
   "name": "work_env"
  },
  "language_info": {
   "codemirror_mode": {
    "name": "ipython",
    "version": 3
   },
   "file_extension": ".py",
   "mimetype": "text/x-python",
   "name": "python",
   "nbconvert_exporter": "python",
   "pygments_lexer": "ipython3",
   "version": "3.11.6"
  }
 },
 "nbformat": 4,
 "nbformat_minor": 5
}
