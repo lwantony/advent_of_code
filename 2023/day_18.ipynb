{
 "cells": [
  {
   "cell_type": "code",
   "execution_count": 2,
   "id": "2efe433c-ccbf-4b0a-8653-f0824059fd6f",
   "metadata": {
    "tags": []
   },
   "outputs": [],
   "source": [
    "from IPython.core.interactiveshell import InteractiveShell\n",
    "InteractiveShell.ast_node_interactivity = \"all\""
   ]
  },
  {
   "cell_type": "markdown",
   "id": "ff944d02-8a60-417e-888a-54e4e5141bbf",
   "metadata": {
    "tags": []
   },
   "source": [
    "# Part 1"
   ]
  },
  {
   "cell_type": "code",
   "execution_count": 3,
   "id": "a3b28f3c-99d5-4755-aa5e-965d9657d910",
   "metadata": {},
   "outputs": [
    {
     "data": {
      "text/plain": [
       "'R 6 (#70c710)'"
      ]
     },
     "execution_count": 3,
     "metadata": {},
     "output_type": "execute_result"
    }
   ],
   "source": [
    "'R 6 (#70c710)'"
   ]
  },
  {
   "cell_type": "code",
   "execution_count": 4,
   "id": "40a751ef-d127-49a7-976b-b3773ee31c23",
   "metadata": {},
   "outputs": [
    {
     "data": {
      "text/plain": [
       "461937"
      ]
     },
     "execution_count": 4,
     "metadata": {},
     "output_type": "execute_result"
    }
   ],
   "source": [
    "int(\"70c71\", 16)\n"
   ]
  },
  {
   "cell_type": "code",
   "execution_count": 28,
   "id": "6f28a08b-bbc6-4a0f-8363-a3e17f3012aa",
   "metadata": {
    "tags": []
   },
   "outputs": [],
   "source": [
    "import numpy as np\n",
    "\n",
    "class Edge:\n",
    "    def __init__(self, cur_loc, direction, steps, color):\n",
    "        self.color = color.replace(')','').replace('(','')\n",
    "        changes = {\n",
    "            'U' : np.array([-1,0]),\n",
    "            'D' : np.array([1,0]),\n",
    "            'R' : np.array([0,1]),\n",
    "            'L' : np.array([0,-1]),\n",
    "        }\n",
    "        self.start = cur_loc\n",
    "        self.end = np.array(cur_loc) +(changes[direction] * int(steps))\n",
    "        \n",
    "        self.direction = direction\n",
    "        self.steps = int(steps)\n",
    "        \n",
    "    def __repr__(self):\n",
    "        return f'{self.start} -> {self.end}'"
   ]
  },
  {
   "cell_type": "code",
   "execution_count": 29,
   "id": "5436e699-c761-49b9-b355-3f3bd479ab57",
   "metadata": {
    "tags": []
   },
   "outputs": [],
   "source": [
    "from collections import deque\n",
    "\n",
    "def find_dimensions(edges):\n",
    "    x_range = [0,0]\n",
    "    y_range = [0,0]\n",
    "    \n",
    "    for e in edges:\n",
    "        for loc in [e.start, e.end]:\n",
    "            if loc[0] < y_range[0] :\n",
    "                y_range[0] = loc[0]\n",
    "            if loc[0] > y_range[1] :\n",
    "                y_range[1] = loc[0]\n",
    "            if loc[1] < x_range[0] :\n",
    "                x_range[0] = loc[1]\n",
    "            if loc[1] > x_range[1] :\n",
    "                x_range[1] = loc[1]\n",
    "    return x_range, y_range\n",
    "\n",
    "def create_grid(edges):\n",
    "    xr,yr = find_dimensions(edges)\n",
    "    \n",
    "    grid = np.zeros( (yr[1]-yr[0]+3,xr[1]-xr[0]+3))\n",
    "    \n",
    "    yshift = -1*yr[0]+1\n",
    "    xshift = -1*xr[0]+1\n",
    "    \n",
    "    for e in edges:\n",
    "        if e.direction == 'R':\n",
    "            for x in range(e.start[1]+xshift,e.end[1]+xshift+1,1):\n",
    "                grid[e.start[0]+yshift][x] =1\n",
    "        if e.direction == 'L':\n",
    "            for x in range(e.end[1]+xshift,e.start[1]+xshift+1,1):\n",
    "                grid[e.start[0]+yshift][x] =1\n",
    "        \n",
    "        if e.direction == 'D':\n",
    "            for x in range(e.start[0]+yshift,e.end[0]+yshift+1,1):\n",
    "                grid[x][e.start[1]+xshift] =1\n",
    "        \n",
    "        if e.direction == 'U':\n",
    "            for x in range(e.end[0]+yshift,e.start[0]+yshift+1,1):\n",
    "                grid[x][e.start[1]+xshift] =1\n",
    "    return grid\n",
    "\n",
    "def fill_grid(grid):\n",
    "    nR, nC = grid.shape\n",
    "    \n",
    "    def give_neighbors(loc):\n",
    "        dirs = [ (0,1), (0,-1),\n",
    "                 (1,0), (-1,0)]\n",
    "        neighs = []\n",
    "        for c in dirs:\n",
    "            new_loc = [ i+j for i,j in zip(loc,c)]\n",
    "            if (new_loc[0]>=0 and new_loc[0] < nR\n",
    "                and new_loc[1]>=0 and new_loc[1] < nC):\n",
    "                neighs.append(new_loc)\n",
    "                \n",
    "        return neighs\n",
    "                \n",
    "    \n",
    "    search = deque([(0,0)])\n",
    "    grid[0][0]=2\n",
    "    \n",
    "    while len(search) >0:\n",
    "        cur = search.popleft()\n",
    "        for n in give_neighbors(cur):\n",
    "            if grid[n[0]][n[1]] ==0:\n",
    "                search.append(n)\n",
    "                grid[n[0]][n[1]] =2\n",
    "                \n",
    "    return grid\n",
    "        \n",
    "    \n"
   ]
  },
  {
   "cell_type": "code",
   "execution_count": 30,
   "id": "3be9e68d-9124-41f2-95f0-468444d0f98e",
   "metadata": {
    "tags": []
   },
   "outputs": [],
   "source": [
    "def do_part_one(file_path, show=True):\n",
    "    edges=[]\n",
    "    with open(file_path,'r') as f:\n",
    "        cur_loc = (0,0)\n",
    "        for line in f.readlines():\n",
    "            line = line.strip()\n",
    "            d,s,c = line.split()\n",
    "            edges.append(Edge(cur_loc, d, s, c))\n",
    "            \n",
    "            cur_loc = edges[-1].end\n",
    "            \n",
    "    grid = create_grid(edges)\n",
    "    grid = fill_grid(grid)\n",
    "    \n",
    "    if show:\n",
    "        print('\\n'.join([''.join([ '#' if x<2 else '.' for x in row]) for row in grid]))\n",
    "\n",
    "    \n",
    "    return int((grid<2).sum())"
   ]
  },
  {
   "cell_type": "code",
   "execution_count": 31,
   "id": "c0f07f59-ae05-4bf1-b809-3ff543222d31",
   "metadata": {
    "scrolled": true,
    "tags": []
   },
   "outputs": [
    {
     "name": "stdout",
     "output_type": "stream",
     "text": [
      "62.0\n",
      ".........\n",
      ".#######.\n",
      ".#######.\n",
      ".#######.\n",
      "...#####.\n",
      "...#####.\n",
      ".#######.\n",
      ".#####...\n",
      ".#######.\n",
      "..######.\n",
      "..######.\n",
      ".........\n",
      "CPU times: user 1.46 ms, sys: 1.2 ms, total: 2.66 ms\n",
      "Wall time: 2.14 ms\n"
     ]
    },
    {
     "data": {
      "text/plain": [
       "62"
      ]
     },
     "execution_count": 31,
     "metadata": {},
     "output_type": "execute_result"
    }
   ],
   "source": [
    "%%time\n",
    "do_part_one('input_data/test_18.txt')"
   ]
  },
  {
   "cell_type": "code",
   "execution_count": 9,
   "id": "fb6325c0-56ed-4ef5-b0cc-194b342aad5b",
   "metadata": {
    "scrolled": true,
    "tags": []
   },
   "outputs": [
    {
     "name": "stdout",
     "output_type": "stream",
     "text": [
      "CPU times: user 143 ms, sys: 7.93 ms, total: 150 ms\n",
      "Wall time: 148 ms\n"
     ]
    },
    {
     "data": {
      "text/plain": [
       "47139"
      ]
     },
     "execution_count": 9,
     "metadata": {},
     "output_type": "execute_result"
    }
   ],
   "source": [
    "%%time\n",
    "do_part_one('input_data/day_18.txt',show=False)"
   ]
  },
  {
   "cell_type": "markdown",
   "id": "fb57e954-d588-406e-9c3c-6d012b1abc0e",
   "metadata": {
    "tags": []
   },
   "source": [
    "# Part 2"
   ]
  },
  {
   "cell_type": "code",
   "execution_count": 10,
   "id": "47f1c93d-b4dc-4e88-aa84-0ab781361bda",
   "metadata": {
    "tags": []
   },
   "outputs": [],
   "source": [
    "import numpy as np\n",
    "\n",
    "class EdgeHex:\n",
    "    def __init__(self, cur_loc, hex_code):\n",
    "        code = hex_code.replace(')','').replace('(#','')\n",
    "        steps = int(code[:5], 16)\n",
    "        dirs = ['R', 'D', 'L','U']\n",
    "        direction = dirs[int(code[-1])] \n",
    "                 \n",
    "        changes = {\n",
    "            'U' : np.array([-1,0]),\n",
    "            'D' : np.array([1,0]),\n",
    "            'R' : np.array([0,1]),\n",
    "            'L' : np.array([0,-1]),\n",
    "        }\n",
    "        self.start = cur_loc\n",
    "        self.end = np.array(cur_loc) +(changes[direction] * int(steps))\n",
    "        \n",
    "        self.steps = steps\n",
    "        \n",
    "        self.direction = direction\n",
    "        \n",
    "    def __repr__(self):\n",
    "        return f'{self.start} -> {self.end}'"
   ]
  },
  {
   "cell_type": "code",
   "execution_count": 20,
   "id": "ca42ed30-7499-4e22-bc3c-6e2f87d8819a",
   "metadata": {
    "tags": []
   },
   "outputs": [],
   "source": [
    "def shoelace_algo_trap(edges):\n",
    "    area=0\n",
    "    for p1,p2  in zip(edges, edges[1:]+[edges[0]]) :\n",
    "        area+= (p1.start[0] + p2.start[0])*(p1.start[1] - p2.start[1])\n",
    "    return area*0.5\n",
    "            "
   ]
  },
  {
   "cell_type": "code",
   "execution_count": 32,
   "id": "e0c96716-bd5d-477e-b342-e16a07ab089d",
   "metadata": {
    "tags": []
   },
   "outputs": [],
   "source": [
    "# Use shoelace formula and Picks Theorem \n",
    "\n",
    "def do_part_two(file_path, show=True):\n",
    "    edges=[]\n",
    "    with open(file_path,'r') as f:\n",
    "        cur_loc = (0,0)\n",
    "        for line in f.readlines():\n",
    "            line = line.strip()\n",
    "            d,s,c = line.split()\n",
    "            edges.append(EdgeHex(cur_loc, c))\n",
    "            cur_loc = edges[-1].end\n",
    "    \n",
    "    shoelace = shoelace_algo_trap(edges)\n",
    "    pick = sum([ e.steps for e in edges])\n",
    "            \n",
    "    return int(shoelace + pick/2 +1)"
   ]
  },
  {
   "cell_type": "code",
   "execution_count": 34,
   "id": "553ffca9-6633-4533-a62e-99df6f98021d",
   "metadata": {
    "scrolled": true,
    "tags": []
   },
   "outputs": [
    {
     "name": "stdout",
     "output_type": "stream",
     "text": [
      "CPU times: user 718 µs, sys: 590 µs, total: 1.31 ms\n",
      "Wall time: 837 µs\n"
     ]
    },
    {
     "data": {
      "text/plain": [
       "952408144115"
      ]
     },
     "execution_count": 34,
     "metadata": {},
     "output_type": "execute_result"
    }
   ],
   "source": [
    "%%time\n",
    "do_part_two('input_data/test_18.txt')\n",
    "           "
   ]
  },
  {
   "cell_type": "code",
   "execution_count": 35,
   "id": "1e69b266-bd37-4af6-99e1-48f061f36f06",
   "metadata": {
    "scrolled": true,
    "tags": []
   },
   "outputs": [
    {
     "name": "stdout",
     "output_type": "stream",
     "text": [
      "CPU times: user 9.87 ms, sys: 5.64 ms, total: 15.5 ms\n",
      "Wall time: 11.4 ms\n"
     ]
    },
    {
     "data": {
      "text/plain": [
       "173152345887206"
      ]
     },
     "execution_count": 35,
     "metadata": {},
     "output_type": "execute_result"
    }
   ],
   "source": [
    "%%time\n",
    "do_part_two('input_data/day_18.txt')\n",
    "           "
   ]
  },
  {
   "cell_type": "code",
   "execution_count": null,
   "id": "f58f313b-466d-4d98-8368-35468f2db101",
   "metadata": {},
   "outputs": [],
   "source": []
  }
 ],
 "metadata": {
  "kernelspec": {
   "display_name": "work_env",
   "language": "python",
   "name": "work_env"
  },
  "language_info": {
   "codemirror_mode": {
    "name": "ipython",
    "version": 3
   },
   "file_extension": ".py",
   "mimetype": "text/x-python",
   "name": "python",
   "nbconvert_exporter": "python",
   "pygments_lexer": "ipython3",
   "version": "3.11.6"
  }
 },
 "nbformat": 4,
 "nbformat_minor": 5
}
