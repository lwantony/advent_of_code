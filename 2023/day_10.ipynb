{
 "cells": [
  {
   "cell_type": "code",
   "execution_count": 2,
   "id": "2efe433c-ccbf-4b0a-8653-f0824059fd6f",
   "metadata": {
    "tags": []
   },
   "outputs": [],
   "source": [
    "from IPython.core.interactiveshell import InteractiveShell\n",
    "InteractiveShell.ast_node_interactivity = \"all\""
   ]
  },
  {
   "cell_type": "markdown",
   "id": "ff944d02-8a60-417e-888a-54e4e5141bbf",
   "metadata": {},
   "source": [
    "# Part 1\n",
    "- | is a vertical pipe connecting north and south.\n",
    "- `-` is a horizontal pipe connecting east and west.\n",
    "- L is a 90-degree bend connecting north and east.\n",
    "- J is a 90-degree bend connecting north and west.\n",
    "- 7 is a 90-degree bend connecting south and west.\n",
    "- F is a 90-degree bend connecting south and east.\n",
    "- . is ground; there is no pipe in this tile.\n",
    "- S is the starting position of the animal; there is a pipe on this tile, but your sketch doesn't show what shape the pipe has."
   ]
  },
  {
   "cell_type": "code",
   "execution_count": 84,
   "id": "058068ce-84b3-42dd-938d-19b77f54afa1",
   "metadata": {
    "tags": []
   },
   "outputs": [],
   "source": [
    "class Pipe:\n",
    "    def __init__(self, ptype, move_set):\n",
    "        self.type = ptype\n",
    "        self.move_set = move_set\n",
    "        \n",
    "    def viable_step(self, coming_from, loc):\n",
    "        change = tuple([i-j for j,i in zip(loc,coming_from)])\n",
    "        if change in self.move_set :\n",
    "            return True\n",
    "        return False\n",
    "    \n",
    "    def next_step(self, prev_loc, loc):\n",
    "        for c in self.move_set:\n",
    "            tentative = tuple([ i+j for i,j in zip(c,loc)])\n",
    "            if tentative != tuple(prev_loc):\n",
    "                return tentative\n",
    "            "
   ]
  },
  {
   "cell_type": "code",
   "execution_count": 85,
   "id": "9ffd67a6-5ae8-4bd9-bc76-36ad4227e29d",
   "metadata": {
    "tags": []
   },
   "outputs": [],
   "source": [
    "# when reading the lines it'll be (-y,x) since \n",
    "piping={\n",
    "    '|' : Pipe('|', [(1,0),(-1,0)]),\n",
    "    '-' : Pipe('-', [(0,1),(0,-1)]),\n",
    "    'L' : Pipe('L', [(0,1),(-1,0)]),\n",
    "    'J' : Pipe('J', [(0,-1),(-1,0)]),\n",
    "    '7' : Pipe('7', [(0,-1),(1,0)]),\n",
    "    'F' : Pipe('F', [(0,1),(1,0)]),\n",
    "}"
   ]
  },
  {
   "cell_type": "code",
   "execution_count": 86,
   "id": "858568dc-729f-4132-b3ee-7bfa09f82c7a",
   "metadata": {
    "tags": []
   },
   "outputs": [
    {
     "data": {
      "text/plain": [
       "False"
      ]
     },
     "execution_count": 86,
     "metadata": {},
     "output_type": "execute_result"
    },
    {
     "data": {
      "text/plain": [
       "[(1, 0), (-1, 0)]"
      ]
     },
     "execution_count": 86,
     "metadata": {},
     "output_type": "execute_result"
    }
   ],
   "source": [
    "piping['|'].viable_step([10,10],[10,9])\n",
    "piping['|'].move_set"
   ]
  },
  {
   "cell_type": "code",
   "execution_count": 98,
   "id": "12f67ba2-5727-45ef-a6a7-69e1f6170e2b",
   "metadata": {
    "tags": []
   },
   "outputs": [],
   "source": [
    "def locate_start(pipe_map):\n",
    "    for i,row in enumerate(pipe_map):\n",
    "        if 'S' in row:\n",
    "            return (i, row.rfind('S'))\n",
    "\n",
    "def find_start_exits(start,pipe_map,piping):\n",
    "    dim =( len(pipe_map),len(pipe_map[0]))\n",
    "    check = [(1,0),\n",
    "             (0,1),\n",
    "             (-1,0),\n",
    "             (0,-1)]\n",
    "    npipe =[]\n",
    "    for c in check:\n",
    "        next_loc = [ s+c for s,c in zip(start,c)]\n",
    "        if next_loc[0] <0 or next_loc[1] <0:\n",
    "            continue\n",
    "        if next_loc[0] == dim[0] or next_loc[1] == dim[1]:\n",
    "            continue\n",
    "            \n",
    "        ptype = pipe_map[next_loc[0]][next_loc[1]]\n",
    "        if ptype == '.':\n",
    "            continue\n",
    "        if piping[ptype].viable_step(start,next_loc):\n",
    "            npipe.append(next_loc)\n",
    "    return npipe\n",
    "    \n",
    "    \n",
    "    "
   ]
  },
  {
   "cell_type": "code",
   "execution_count": 103,
   "id": "c0f07f59-ae05-4bf1-b809-3ff543222d31",
   "metadata": {
    "scrolled": true,
    "tags": []
   },
   "outputs": [],
   "source": [
    "with open('input_data/day_10.txt','r') as f:\n",
    "    pipe_map = [ line.strip() for line in f.readlines()]\n"
   ]
  },
  {
   "cell_type": "code",
   "execution_count": 104,
   "id": "e1c5fbcb-018b-4e2f-b8c7-fb5b828a51a2",
   "metadata": {
    "tags": []
   },
   "outputs": [],
   "source": [
    "start = locate_start(pipe_map)\n",
    "next_exits = find_start_exits(start, pipe_map,piping)\n",
    "step=1\n",
    "loc=next_exits[0]\n",
    "prev_loc=start\n",
    "while pipe_map[loc[0]][loc[1]] !='S':\n",
    "    ptype= pipe_map[loc[0]][loc[1]]\n",
    "    next_loc = piping[ptype].next_step(prev_loc,loc)\n",
    "    prev_loc = loc\n",
    "    loc = next_loc\n",
    "    step+=1\n",
    "    "
   ]
  },
  {
   "cell_type": "code",
   "execution_count": 105,
   "id": "68edc66b-728b-4820-84d8-f467b6fc62a7",
   "metadata": {
    "tags": []
   },
   "outputs": [
    {
     "data": {
      "text/plain": [
       "6697"
      ]
     },
     "execution_count": 105,
     "metadata": {},
     "output_type": "execute_result"
    }
   ],
   "source": [
    "step//2"
   ]
  },
  {
   "cell_type": "markdown",
   "id": "fb57e954-d588-406e-9c3c-6d012b1abc0e",
   "metadata": {},
   "source": [
    "# Part 2"
   ]
  },
  {
   "cell_type": "code",
   "execution_count": null,
   "id": "b581619d-7a26-414e-8d3d-316ac396d37a",
   "metadata": {},
   "outputs": [],
   "source": []
  },
  {
   "cell_type": "code",
   "execution_count": null,
   "id": "dfd358ae-38bb-4dc3-965d-d4a437cb384f",
   "metadata": {},
   "outputs": [],
   "source": []
  }
 ],
 "metadata": {
  "kernelspec": {
   "display_name": "work_env",
   "language": "python",
   "name": "work_env"
  },
  "language_info": {
   "codemirror_mode": {
    "name": "ipython",
    "version": 3
   },
   "file_extension": ".py",
   "mimetype": "text/x-python",
   "name": "python",
   "nbconvert_exporter": "python",
   "pygments_lexer": "ipython3",
   "version": "3.11.6"
  }
 },
 "nbformat": 4,
 "nbformat_minor": 5
}
