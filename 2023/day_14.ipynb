{
 "cells": [
  {
   "cell_type": "code",
   "execution_count": 2,
   "id": "2efe433c-ccbf-4b0a-8653-f0824059fd6f",
   "metadata": {
    "tags": []
   },
   "outputs": [],
   "source": [
    "from IPython.core.interactiveshell import InteractiveShell\n",
    "InteractiveShell.ast_node_interactivity = \"all\""
   ]
  },
  {
   "cell_type": "markdown",
   "id": "ff944d02-8a60-417e-888a-54e4e5141bbf",
   "metadata": {
    "tags": []
   },
   "source": [
    "# Part 1"
   ]
  },
  {
   "cell_type": "code",
   "execution_count": 1,
   "id": "aea8441f-6524-4dcf-98c2-6004242d8803",
   "metadata": {
    "tags": []
   },
   "outputs": [],
   "source": [
    "def calc_load_column(col):\n",
    "    total_load = len(col)\n",
    "    cur_load = total_load\n",
    "    load = 0\n",
    "    for idx, char in enumerate(col):\n",
    "        if char == 'O':\n",
    "            load += cur_load\n",
    "            cur_load -=1\n",
    "        if char == '#':\n",
    "            cur_load = total_load - (idx+1)\n",
    "    return  load\n",
    "            "
   ]
  },
  {
   "cell_type": "code",
   "execution_count": 5,
   "id": "3be9e68d-9124-41f2-95f0-468444d0f98e",
   "metadata": {
    "tags": []
   },
   "outputs": [],
   "source": [
    "def do_part_one(file_path):\n",
    "    with open(file_path,'r') as f:\n",
    "        platform=[l.strip() for l in f.readlines()]\n",
    "        \n",
    "    load=0\n",
    "    for c in range(len(platform[0])):\n",
    "        col = [ r[c] for r in platform]\n",
    "        load += calc_load_column(col)\n",
    "        \n",
    "    return load"
   ]
  },
  {
   "cell_type": "code",
   "execution_count": 7,
   "id": "c0f07f59-ae05-4bf1-b809-3ff543222d31",
   "metadata": {
    "scrolled": true,
    "tags": []
   },
   "outputs": [
    {
     "name": "stdout",
     "output_type": "stream",
     "text": [
      "CPU times: user 2.37 ms, sys: 1.21 ms, total: 3.59 ms\n",
      "Wall time: 3.07 ms\n"
     ]
    },
    {
     "data": {
      "text/plain": [
       "113525"
      ]
     },
     "execution_count": 7,
     "metadata": {},
     "output_type": "execute_result"
    }
   ],
   "source": [
    "%%time\n",
    "do_part_one('input_data/day_14.txt')"
   ]
  },
  {
   "cell_type": "code",
   "execution_count": 10,
   "id": "4611cea7-d8de-4397-a783-5963f460e0b5",
   "metadata": {
    "tags": []
   },
   "outputs": [
    {
     "data": {
      "text/plain": [
       "''"
      ]
     },
     "execution_count": 10,
     "metadata": {},
     "output_type": "execute_result"
    }
   ],
   "source": [
    "test[3:]"
   ]
  },
  {
   "cell_type": "markdown",
   "id": "fb57e954-d588-406e-9c3c-6d012b1abc0e",
   "metadata": {},
   "source": [
    "# Part 2"
   ]
  },
  {
   "cell_type": "code",
   "execution_count": 20,
   "id": "9101a6c7-85fa-4e1a-ac83-b3b01783dc90",
   "metadata": {
    "tags": []
   },
   "outputs": [],
   "source": [
    "def tilt_row(col):\n",
    "    rocks ={}\n",
    "    blank = ['.']*len(col)\n",
    "    \n",
    "    rock_idx = 0\n",
    "    \n",
    "    for idx, char in enumerate(col):\n",
    "        if char == 'O':\n",
    "            try:\n",
    "                rocks[rock_idx] +=1\n",
    "            except:\n",
    "                rocks[rock_idx] =1\n",
    "        if char == '#':\n",
    "            blank[idx] = '#'\n",
    "            rock_idx=idx+1\n",
    "            \n",
    "    for start,nrock in rocks.items():\n",
    "        for i in range(nrock):\n",
    "            idx=start+i\n",
    "            blank[idx] ='O'\n",
    "            \n",
    "    return  list(blank)\n",
    "\n",
    "def execute_cycle(rock_grid):\n",
    "    ## North Tilt\n",
    "    for c in range(len(rock_grid[0])):\n",
    "        col = [ r[c] for r in rock_grid]\n",
    "        new_col = tilt_row(col)\n",
    "        for r in range(len(rock_grid)):\n",
    "            rock_grid[r][c] = new_col[r]\n",
    "            \n",
    "    ## West Tilt\n",
    "    for r, row in enumerate(rock_grid):\n",
    "        new_row = tilt_row(row)\n",
    "        for c,char in enumerate(new_row):\n",
    "            rock_grid[r][c] = char\n",
    "\n",
    "    ## South Tilt\n",
    "    for c in range(len(rock_grid[0])):\n",
    "        col = [ r[c] for r in rock_grid]\n",
    "        col.reverse()\n",
    "        new_col = tilt_row(col)\n",
    "        new_col.reverse()\n",
    "        for r in range(len(rock_grid)):\n",
    "            rock_grid[r][c] = new_col[r]\n",
    "    \n",
    "            \n",
    "    ## East Tilt\n",
    "    for r, row in enumerate(rock_grid):\n",
    "        row.reverse()\n",
    "        new_row = tilt_row(row)\n",
    "        new_row.reverse()\n",
    "        for c,char in enumerate(new_row):\n",
    "            rock_grid[r][c] = char\n",
    "    return rock_grid"
   ]
  },
  {
   "cell_type": "code",
   "execution_count": 77,
   "id": "a9df86d8-51ca-4400-924e-e1e206f70c0d",
   "metadata": {
    "tags": []
   },
   "outputs": [],
   "source": [
    "def calculate_load(platform):\n",
    "    load=0\n",
    "    total = len(platform)\n",
    "    for i,row in enumerate(platform):\n",
    "        load += sum([ x=='O' for x in row])*total\n",
    "        total -=1\n",
    "    return load"
   ]
  },
  {
   "cell_type": "code",
   "execution_count": 153,
   "id": "adfca88b-ad57-496d-9633-7d131f87233d",
   "metadata": {
    "tags": []
   },
   "outputs": [],
   "source": [
    "def do_part_two(file_path):\n",
    "    with open(file_path,'r') as f:\n",
    "        platform=[list(l.strip()) for l in f.readlines()]\n",
    "        \n",
    "    mixes={}\n",
    "    loads =[]\n",
    "    key=None\n",
    "    for i in range (1000000):\n",
    "        platform = execute_cycle(platform)\n",
    "        key = ''.join([ ''.join(row) for row in platform])\n",
    "        l = calculate_load(platform)\n",
    "        loads.append(l)\n",
    "        try :\n",
    "            mixes[key].append(i)\n",
    "        except:\n",
    "            mixes[key] =[i]\n",
    "        if len(mixes[key]) > 1:\n",
    "            break\n",
    "            \n",
    "    steps = mixes[key]\n",
    "    cycle = steps[1]-steps[0]\n",
    "    \n",
    "    steps_left = (1000000000 - (steps[0]))%cycle\n",
    "    \n",
    "    print(loads[steps[0]+steps_left-1], cycle)\n",
    "    \n",
    "    \n",
    "    \n",
    "    return  mixes,loads"
   ]
  },
  {
   "cell_type": "code",
   "execution_count": 154,
   "id": "553ffca9-6633-4533-a62e-99df6f98021d",
   "metadata": {
    "scrolled": true,
    "tags": []
   },
   "outputs": [
    {
     "name": "stdout",
     "output_type": "stream",
     "text": [
      "101292 84\n",
      "CPU times: user 826 ms, sys: 3.41 ms, total: 830 ms\n",
      "Wall time: 838 ms\n"
     ]
    }
   ],
   "source": [
    "%%time\n",
    "mix, tmp = do_part_two('input_data/day_14.txt')"
   ]
  },
  {
   "cell_type": "code",
   "execution_count": 130,
   "id": "9b7ec992-ba09-4b6e-a6f0-fe29a7351de7",
   "metadata": {
    "tags": []
   },
   "outputs": [
    {
     "data": {
      "text/plain": [
       "[<matplotlib.lines.Line2D at 0x1659d4fd0>]"
      ]
     },
     "execution_count": 130,
     "metadata": {},
     "output_type": "execute_result"
    },
    {
     "data": {
      "image/png": "[encoded data removed]",
      "text/plain": [
       "<Figure size 640x640 with 1 Axes>"
      ]
     },
     "metadata": {},
     "output_type": "display_data"
    }
   ],
   "source": [
    "import matplotlib.pyplot as plt\n",
    "plt.style.use('lucas')\n",
    "\n",
    "plt.plot(tmp[:160], marker='.')"
   ]
  },
  {
   "cell_type": "code",
   "execution_count": null,
   "id": "3b84b0f7-a3d1-4a5a-96c8-c8aad3c0311f",
   "metadata": {},
   "outputs": [],
   "source": []
  }
 ],
 "metadata": {
  "kernelspec": {
   "display_name": "work_env",
   "language": "python",
   "name": "work_env"
  },
  "language_info": {
   "codemirror_mode": {
    "name": "ipython",
    "version": 3
   },
   "file_extension": ".py",
   "mimetype": "text/x-python",
   "name": "python",
   "nbconvert_exporter": "python",
   "pygments_lexer": "ipython3",
   "version": "3.11.6"
  }
 },
 "nbformat": 4,
 "nbformat_minor": 5
}
