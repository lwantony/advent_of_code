{
 "cells": [
  {
   "cell_type": "code",
   "execution_count": 1,
   "id": "2efe433c-ccbf-4b0a-8653-f0824059fd6f",
   "metadata": {
    "tags": []
   },
   "outputs": [],
   "source": [
    "from IPython.core.interactiveshell import InteractiveShell\n",
    "InteractiveShell.ast_node_interactivity = \"all\""
   ]
  },
  {
   "cell_type": "markdown",
   "id": "ff944d02-8a60-417e-888a-54e4e5141bbf",
   "metadata": {},
   "source": [
    "# part 1"
   ]
  },
  {
   "cell_type": "code",
   "execution_count": 2,
   "id": "f01e4b08-00f6-47c0-9b44-7477f8bde458",
   "metadata": {
    "tags": []
   },
   "outputs": [
    {
     "data": {
      "text/plain": [
       "389056265"
      ]
     },
     "execution_count": 2,
     "metadata": {},
     "output_type": "execute_result"
    }
   ],
   "source": [
    "def find_destination(val, ranges):\n",
    "    for (start,n), start_dest in ranges.items():\n",
    "        if  val >= start and val < start+n:\n",
    "            return start_dest + (val - start)\n",
    "    return val\n",
    "\n",
    "def find_location(val,resources):\n",
    "    order = ['seed-soil', 'soil-fertilizer', 'fertilizer-water', 'water-light', 'light-temperature', 'temperature-humidity', 'humidity-location']\n",
    "    for step in order :\n",
    "        val = find_destination( val, resources[step])\n",
    "        \n",
    "    return val \n",
    "        \n",
    "with open('input_data/day_05.txt') as f:\n",
    "    seeds = f.readline().strip().replace('seeds: ','').split()\n",
    "    line=f.readline()\n",
    "    resources ={}\n",
    "    while line:\n",
    "       \n",
    "        line=f.readline()\n",
    "        \n",
    "        source, dest = line.strip().replace(' map:','').split('-to-')\n",
    "        ranges ={}\n",
    "        line=f.readline()\n",
    "        while len(line) > 1:\n",
    "            ds,ss, n = [int(i) for i in line.split()]\n",
    "            \n",
    "            ranges[(ss,n)] = ds\n",
    "            line= f.readline()\n",
    "            \n",
    "        resources['-'.join([source,dest])] = ranges\n",
    "        \n",
    "    min([ find_location(int(s),resources) for s in seeds])"
   ]
  },
  {
   "cell_type": "markdown",
   "id": "ac9d2789-5f58-4013-b587-c7776d7a2a43",
   "metadata": {},
   "source": [
    "# part 2"
   ]
  },
  {
   "cell_type": "code",
   "execution_count": 15,
   "id": "a4b98028-990b-4041-acdc-663a10236d28",
   "metadata": {
    "tags": []
   },
   "outputs": [],
   "source": [
    "from collections import deque"
   ]
  },
  {
   "cell_type": "code",
   "execution_count": 20,
   "id": "2d4b249f-91d6-47be-b4e7-4ee3e1e991dd",
   "metadata": {
    "tags": []
   },
   "outputs": [],
   "source": [
    "def find_destination_intervals(intervals, ranges):\n",
    "    unmapped=intervals.copy()\n",
    "    mapped_intervals =[]\n",
    "   \n",
    "    for (start,n), start_dest in ranges.items():\n",
    "        cur_unmapped = []\n",
    "        while len(unmapped) > 0 :\n",
    "            ival = unmapped.pop()\n",
    "            \n",
    "            if ival[0] < start+n and ival[1] >= start:\n",
    "                mapping = start_dest - start\n",
    "                \n",
    "                overlap = [ max(ival[0],start), min(start+n-1, ival[1])]\n",
    "                \n",
    "                mapped_intervals.append([ overlap[0]+mapping, overlap[1]+mapping])\n",
    "                \n",
    "                if ival[0] < overlap[0]:\n",
    "                    cur_unmapped.append( [ ival[0], overlap[0] -1 ])\n",
    "                    \n",
    "                if ival[1] >  overlap[1]:\n",
    "                    cur_unmapped.append( [overlap[1]+1 , ival[1] ])\n",
    "                \n",
    "            else:\n",
    "                cur_unmapped.append(ival)\n",
    "                \n",
    "        unmapped = cur_unmapped.copy()\n",
    "        \n",
    "    return mapped_intervals+unmapped\n",
    "                \n",
    "            \n",
    "\n",
    "def find_location_intervals(intervals,resources):\n",
    "    order = ['seed-soil', 'soil-fertilizer', 'fertilizer-water', 'water-light', 'light-temperature', 'temperature-humidity', 'humidity-location']\n",
    "    for step in order :\n",
    "        intervals = find_destination_intervals( intervals, resources[step])\n",
    "        \n",
    "    return min([ x[0] for x in intervals])\n",
    "        "
   ]
  },
  {
   "cell_type": "code",
   "execution_count": 22,
   "id": "da9a56db-84c6-4ac6-94a1-50d479c7d8f3",
   "metadata": {
    "tags": []
   },
   "outputs": [
    {
     "data": {
      "text/plain": [
       "137516820"
      ]
     },
     "execution_count": 22,
     "metadata": {},
     "output_type": "execute_result"
    }
   ],
   "source": [
    "## intervals\n",
    "\n",
    "with open('input_data/day_05.txt') as f:\n",
    "    seeds = f.readline().strip().replace('seeds: ','').split()\n",
    "    line=f.readline()\n",
    "    resources ={}\n",
    "    while line:\n",
    "       \n",
    "        line=f.readline()\n",
    "        \n",
    "        source, dest = line.strip().replace(' map:','').split('-to-')\n",
    "        ranges ={}\n",
    "        line=f.readline()\n",
    "        while len(line) > 1:\n",
    "            ds,ss, n = [int(i) for i in line.split()]\n",
    "            \n",
    "            ranges[(ss,n)] = ds\n",
    "            line= f.readline()\n",
    "            \n",
    "        resources['-'.join([source,dest])] = ranges\n",
    "        \n",
    "    seed_ranges = []\n",
    "    for i in range(len(seeds)//2):\n",
    "        seed_ranges.append( [int(seeds[2*i]), int(seeds[2*i]) + int(seeds[2*i+1])-1])\n",
    "        \n",
    "    find_location_intervals(seed_ranges, resources)\n"
   ]
  },
  {
   "cell_type": "code",
   "execution_count": null,
   "id": "c128410c-231b-4dcf-8609-adaff42584c8",
   "metadata": {},
   "outputs": [],
   "source": []
  }
 ],
 "metadata": {
  "kernelspec": {
   "display_name": "work_env",
   "language": "python",
   "name": "work_env"
  },
  "language_info": {
   "codemirror_mode": {
    "name": "ipython",
    "version": 3
   },
   "file_extension": ".py",
   "mimetype": "text/x-python",
   "name": "python",
   "nbconvert_exporter": "python",
   "pygments_lexer": "ipython3",
   "version": "3.11.6"
  }
 },
 "nbformat": 4,
 "nbformat_minor": 5
}
