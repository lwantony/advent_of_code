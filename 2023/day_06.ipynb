{
 "cells": [
  {
   "cell_type": "code",
   "execution_count": 1,
   "id": "2efe433c-ccbf-4b0a-8653-f0824059fd6f",
   "metadata": {
    "tags": []
   },
   "outputs": [],
   "source": [
    "from IPython.core.interactiveshell import InteractiveShell\n",
    "InteractiveShell.ast_node_interactivity = \"all\""
   ]
  },
  {
   "cell_type": "code",
   "execution_count": 8,
   "id": "6caaa1e8-3349-42d2-b40f-12b2886e5ea7",
   "metadata": {
    "tags": []
   },
   "outputs": [],
   "source": [
    "from math import sqrt,floor,ceil"
   ]
  },
  {
   "cell_type": "markdown",
   "id": "ff944d02-8a60-417e-888a-54e4e5141bbf",
   "metadata": {},
   "source": [
    "# Part 1"
   ]
  },
  {
   "cell_type": "code",
   "execution_count": null,
   "id": "ac18cdf3-6d5d-4578-b878-174af5289c9a",
   "metadata": {},
   "outputs": [],
   "source": [
    "# hold**2 - total_time*hold +dist =0"
   ]
  },
  {
   "cell_type": "code",
   "execution_count": 20,
   "id": "c5f66a36-9294-4204-b578-7a8f8176af57",
   "metadata": {
    "tags": []
   },
   "outputs": [
    {
     "name": "stdout",
     "output_type": "stream",
     "text": [
      "252000\n"
     ]
    }
   ],
   "source": [
    "def quadratic_formula(a,b,c):\n",
    "    quad = sqrt(b**2 - 4*a*c)\n",
    "    lower, upper = ceil((-b-quad)/(2*a)), floor((-b+quad)/(2*a))\n",
    "    \n",
    "    if lower**2 + b*lower +c == 0 :\n",
    "        lower+=1\n",
    "    if upper**2 + b*upper +c == 0 :\n",
    "        upper-=1\n",
    "    \n",
    "    return lower, upper\n",
    "\n",
    "with open('input_data/day_06.txt','r') as f:\n",
    "    times = f.readline().split(':')[1].strip()\n",
    "    dist = f.readline().split(':')[1].strip()\n",
    "    \n",
    "    times = [ int(t) for t in times.split()]\n",
    "    dist = [ int(d) for d in dist.split()]\n",
    "    \n",
    "    beat_pow=1\n",
    "    for t,d in zip(times,dist):\n",
    "        first, last = quadratic_formula(1,-1*t ,d)       \n",
    "        beat_pow *= last-first+1\n",
    "    print(beat_pow)\n",
    "    \n"
   ]
  },
  {
   "cell_type": "markdown",
   "id": "fb57e954-d588-406e-9c3c-6d012b1abc0e",
   "metadata": {},
   "source": [
    "# Part 2"
   ]
  },
  {
   "cell_type": "code",
   "execution_count": 22,
   "id": "c128410c-231b-4dcf-8609-adaff42584c8",
   "metadata": {},
   "outputs": [
    {
     "name": "stdout",
     "output_type": "stream",
     "text": [
      "36992486\n"
     ]
    }
   ],
   "source": [
    "with open('input_data/day_06.txt','r') as f:\n",
    "    times = f.readline().split(':')[1].strip()\n",
    "    dist = f.readline().split(':')[1].strip()\n",
    "    \n",
    "    time = int(''.join(times.split()))\n",
    "    dist = int(''.join(dist.split()))\n",
    "    \n",
    "    first, last = quadratic_formula(1,-1*time ,dist)       \n",
    "    print(last-first+1)\n",
    "    "
   ]
  },
  {
   "cell_type": "code",
   "execution_count": null,
   "id": "aaeba2aa-fa27-413b-9a9b-a5d97639a656",
   "metadata": {},
   "outputs": [],
   "source": []
  }
 ],
 "metadata": {
  "kernelspec": {
   "display_name": "work_env",
   "language": "python",
   "name": "work_env"
  },
  "language_info": {
   "codemirror_mode": {
    "name": "ipython",
    "version": 3
   },
   "file_extension": ".py",
   "mimetype": "text/x-python",
   "name": "python",
   "nbconvert_exporter": "python",
   "pygments_lexer": "ipython3",
   "version": "3.11.6"
  }
 },
 "nbformat": 4,
 "nbformat_minor": 5
}
