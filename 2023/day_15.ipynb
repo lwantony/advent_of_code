{
 "cells": [
  {
   "cell_type": "code",
   "execution_count": 1,
   "id": "2efe433c-ccbf-4b0a-8653-f0824059fd6f",
   "metadata": {
    "tags": []
   },
   "outputs": [],
   "source": [
    "from IPython.core.interactiveshell import InteractiveShell\n",
    "InteractiveShell.ast_node_interactivity = \"all\""
   ]
  },
  {
   "cell_type": "markdown",
   "id": "ff944d02-8a60-417e-888a-54e4e5141bbf",
   "metadata": {
    "tags": []
   },
   "source": [
    "# Part 1"
   ]
  },
  {
   "cell_type": "code",
   "execution_count": 2,
   "id": "aea8441f-6524-4dcf-98c2-6004242d8803",
   "metadata": {
    "tags": []
   },
   "outputs": [],
   "source": [
    "test = 'rn=1,cm-,qp=3,cm=2,qp-,pc=4,ot=9,ab=5,pc-,pc=6,ot=7'"
   ]
  },
  {
   "cell_type": "code",
   "execution_count": 3,
   "id": "8faa0aed-9ce2-4483-9508-14488f2b5949",
   "metadata": {
    "tags": []
   },
   "outputs": [],
   "source": [
    "def give_HASH_value(chars):\n",
    "    hash_val=0\n",
    "    for c in chars:\n",
    "        hash_val += ord(c)\n",
    "        hash_val *= 17\n",
    "        hash_val = hash_val%256\n",
    "    return hash_val"
   ]
  },
  {
   "cell_type": "code",
   "execution_count": 4,
   "id": "c86b4aee-a770-4bc3-ba87-df44d8d3d64a",
   "metadata": {
    "tags": []
   },
   "outputs": [
    {
     "data": {
      "text/plain": [
       "1320"
      ]
     },
     "execution_count": 4,
     "metadata": {},
     "output_type": "execute_result"
    }
   ],
   "source": [
    "sum([ give_HASH_value(seg) for seg in test.split(',')])"
   ]
  },
  {
   "cell_type": "code",
   "execution_count": 5,
   "id": "3be9e68d-9124-41f2-95f0-468444d0f98e",
   "metadata": {
    "tags": []
   },
   "outputs": [],
   "source": [
    "def do_part_one(file_path):\n",
    "    with open(file_path,'r') as f:\n",
    "        values=f.readline().strip()\n",
    "        \n",
    "    total = sum([ give_HASH_value(seg) for seg in values.split(',')])       \n",
    "        \n",
    "    return total"
   ]
  },
  {
   "cell_type": "code",
   "execution_count": 6,
   "id": "c0f07f59-ae05-4bf1-b809-3ff543222d31",
   "metadata": {
    "scrolled": true,
    "tags": []
   },
   "outputs": [
    {
     "name": "stdout",
     "output_type": "stream",
     "text": [
      "CPU times: user 4.83 ms, sys: 1.36 ms, total: 6.19 ms\n",
      "Wall time: 5.74 ms\n"
     ]
    },
    {
     "data": {
      "text/plain": [
       "511343"
      ]
     },
     "execution_count": 6,
     "metadata": {},
     "output_type": "execute_result"
    }
   ],
   "source": [
    "%%time\n",
    "do_part_one('input_data/day_15.txt')"
   ]
  },
  {
   "cell_type": "markdown",
   "id": "fb57e954-d588-406e-9c3c-6d012b1abc0e",
   "metadata": {},
   "source": [
    "# Part 2"
   ]
  },
  {
   "cell_type": "code",
   "execution_count": 7,
   "id": "4a40c0f2-0254-42c2-ae67-995dd187aee7",
   "metadata": {
    "tags": []
   },
   "outputs": [],
   "source": [
    "class Lense:\n",
    "    def __init__(self,label,power):\n",
    "        self.label = label\n",
    "        self.power = power\n",
    "        \n",
    "    def change_power(self,power):\n",
    "        self.power = power\n",
    "        "
   ]
  },
  {
   "cell_type": "code",
   "execution_count": 8,
   "id": "7ebd2514-9882-4c9f-9c1a-a8c8a8ece15f",
   "metadata": {
    "tags": []
   },
   "outputs": [],
   "source": [
    "def add_to_box(box, label,power):\n",
    "    if len(box) > 0:\n",
    "        found=False\n",
    "        for lense in box:\n",
    "            if lense.label == label:\n",
    "                lense.change_power(power)\n",
    "                found = True\n",
    "                break\n",
    "        if not found:\n",
    "            box.append(Lense(label,power))\n",
    "    else:\n",
    "        box.append(Lense(label,power))\n",
    "    return box\n",
    "                \n",
    "    \n",
    "def remove_from_box(box, label):\n",
    "    if len(box) > 0:\n",
    "        for idx, lense in enumerate(box):\n",
    "            if lense.label == label :\n",
    "                _=box.pop(idx)\n",
    "                break\n",
    "    return box\n",
    "                \n",
    "    "
   ]
  },
  {
   "cell_type": "code",
   "execution_count": 9,
   "id": "3d8529ef-4f90-4099-b1da-8fb08a810149",
   "metadata": {
    "tags": []
   },
   "outputs": [
    {
     "data": {
      "text/plain": [
       "3"
      ]
     },
     "execution_count": 9,
     "metadata": {},
     "output_type": "execute_result"
    }
   ],
   "source": [
    "give_HASH_value('ab')"
   ]
  },
  {
   "cell_type": "code",
   "execution_count": 28,
   "id": "adfca88b-ad57-496d-9633-7d131f87233d",
   "metadata": {
    "tags": []
   },
   "outputs": [],
   "source": [
    "def do_part_two(file_path):\n",
    "    with open(file_path,'r') as f:\n",
    "        values=f.readline().strip()\n",
    "    boxes={}\n",
    "        \n",
    "    for step in values.split(','):\n",
    "        if '=' in step:\n",
    "            label, power = step.split('=')\n",
    "            power = int(power)\n",
    "            box = give_HASH_value(label)\n",
    "            if box in boxes.keys():\n",
    "                boxes[box] = add_to_box(boxes[box], label, power)\n",
    "            else:\n",
    "                boxes[box] = [Lense(label,power)]\n",
    "                \n",
    "        if '-' in step:\n",
    "            label, _ = step.split('-')\n",
    "            box = give_HASH_value(label)\n",
    "            if box in boxes.keys():\n",
    "                boxes[box] = remove_from_box(boxes[box], label)\n",
    "    score = 0\n",
    "    for box_number, lenses in boxes.items():\n",
    "        box_number+=1\n",
    "        for i,l in enumerate(lenses):\n",
    "            focal_pow = box_number * (i+1) * l.power\n",
    "            score+=focal_pow\n",
    "    return  score"
   ]
  },
  {
   "cell_type": "code",
   "execution_count": 29,
   "id": "553ffca9-6633-4533-a62e-99df6f98021d",
   "metadata": {
    "scrolled": true,
    "tags": []
   },
   "outputs": [
    {
     "name": "stdout",
     "output_type": "stream",
     "text": [
      "CPU times: user 12.1 ms, sys: 2.8 ms, total: 14.9 ms\n",
      "Wall time: 12.8 ms\n"
     ]
    },
    {
     "data": {
      "text/plain": [
       "294474"
      ]
     },
     "execution_count": 29,
     "metadata": {},
     "output_type": "execute_result"
    }
   ],
   "source": [
    "%%time\n",
    "do_part_two('input_data/day_15.txt')\n",
    "           "
   ]
  },
  {
   "cell_type": "code",
   "execution_count": null,
   "id": "3b84b0f7-a3d1-4a5a-96c8-c8aad3c0311f",
   "metadata": {},
   "outputs": [],
   "source": []
  }
 ],
 "metadata": {
  "kernelspec": {
   "display_name": "work_env",
   "language": "python",
   "name": "work_env"
  },
  "language_info": {
   "codemirror_mode": {
    "name": "ipython",
    "version": 3
   },
   "file_extension": ".py",
   "mimetype": "text/x-python",
   "name": "python",
   "nbconvert_exporter": "python",
   "pygments_lexer": "ipython3",
   "version": "3.11.6"
  }
 },
 "nbformat": 4,
 "nbformat_minor": 5
}
