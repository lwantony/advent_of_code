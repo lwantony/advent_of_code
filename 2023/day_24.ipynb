{
 "cells": [
  {
   "cell_type": "code",
   "execution_count": 2,
   "id": "2efe433c-ccbf-4b0a-8653-f0824059fd6f",
   "metadata": {
    "tags": []
   },
   "outputs": [],
   "source": [
    "from IPython.core.interactiveshell import InteractiveShell\n",
    "InteractiveShell.ast_node_interactivity = \"all\""
   ]
  },
  {
   "cell_type": "markdown",
   "id": "ff944d02-8a60-417e-888a-54e4e5141bbf",
   "metadata": {
    "tags": []
   },
   "source": [
    "# Part 1"
   ]
  },
  {
   "cell_type": "code",
   "execution_count": null,
   "id": "25e4c9ce-efa3-4c4b-b66d-88aec983539a",
   "metadata": {},
   "outputs": [],
   "source": [
    "Hailstone A: 19, 13, 30 @ -2, 1, -2\n",
    "Hailstone B: 20, 19, 15 @ 1, -5, -3"
   ]
  },
  {
   "cell_type": "code",
   "execution_count": 18,
   "id": "dfa3ed59-1d98-429a-825a-8fa107deb120",
   "metadata": {
    "tags": []
   },
   "outputs": [],
   "source": [
    "import numpy as np\n",
    "\n",
    "class HailStone:\n",
    "    def __init__(self,line):\n",
    "        line = line.strip()\n",
    "        pos, vel = line.split('@')\n",
    "        \n",
    "        self.position = [ int(i) for i in pos.split(',')]\n",
    "        self.velocity = [ int(i) for i in vel.split(',')]\n",
    "    \n",
    "    def find_intersection(self, other, lower=7, upper=27):\n",
    "        if len(set(np.divide(self.velocity, other.velocity))) == 1:\n",
    "            return False\n",
    "        \n",
    "        A = np.array( [ [ self.velocity[0], -1*other.velocity[0]],\n",
    "                        [ self.velocity[1], -1*other.velocity[1]],\n",
    "                      ])\n",
    "        b= np.array([ other.position[0]-self.position[0],\n",
    "                      other.position[1]-self.position[1]\n",
    "                    ])\n",
    "        times = np.linalg.solve(A, b)\n",
    "        \n",
    "        if any(times < 0 ) :\n",
    "            return False\n",
    "        \n",
    "        point = np.add( np.array(self.position), np.array(self.velocity)*times[0])\n",
    "        \n",
    "        if any( point[:2] < lower) or any( point[:2] > upper):\n",
    "            return False\n",
    "        \n",
    "        return True"
   ]
  },
  {
   "cell_type": "code",
   "execution_count": 28,
   "id": "3be9e68d-9124-41f2-95f0-468444d0f98e",
   "metadata": {
    "tags": []
   },
   "outputs": [],
   "source": [
    "import numpy as np\n",
    "def do_part_one(file_path,lower=7,upper=27):\n",
    "    \n",
    "    with open(file_path,'r') as f:\n",
    "        hailstones = [HailStone(l)  for l in f.readlines()]\n",
    "        \n",
    "    crossed =0\n",
    "    for i, ih in enumerate(hailstones[:-1]):\n",
    "        for jh in hailstones[i+1:]:\n",
    "            crossed+=int(ih.find_intersection(jh,lower=lower,upper=upper))\n",
    "        \n",
    "    return crossed"
   ]
  },
  {
   "cell_type": "code",
   "execution_count": 29,
   "id": "c0f07f59-ae05-4bf1-b809-3ff543222d31",
   "metadata": {
    "scrolled": true,
    "tags": []
   },
   "outputs": [
    {
     "name": "stdout",
     "output_type": "stream",
     "text": [
      "CPU times: user 2.22 ms, sys: 1.78 ms, total: 4 ms\n",
      "Wall time: 2.68 ms\n"
     ]
    },
    {
     "data": {
      "text/plain": [
       "2"
      ]
     },
     "execution_count": 29,
     "metadata": {},
     "output_type": "execute_result"
    }
   ],
   "source": [
    "%%time\n",
    "do_part_one('input_data/test_24.txt')\n"
   ]
  },
  {
   "cell_type": "code",
   "execution_count": 30,
   "id": "a5d866a7-a349-4f04-964b-50129720b8fb",
   "metadata": {
    "scrolled": true,
    "tags": []
   },
   "outputs": [
    {
     "name": "stdout",
     "output_type": "stream",
     "text": [
      "CPU times: user 473 ms, sys: 4.72 ms, total: 478 ms\n",
      "Wall time: 478 ms\n"
     ]
    },
    {
     "data": {
      "text/plain": [
       "17906"
      ]
     },
     "execution_count": 30,
     "metadata": {},
     "output_type": "execute_result"
    }
   ],
   "source": [
    "%%time\n",
    "do_part_one('input_data/day_24.txt',lower=200000000000000 ,upper= 400000000000000)"
   ]
  },
  {
   "cell_type": "markdown",
   "id": "fb57e954-d588-406e-9c3c-6d012b1abc0e",
   "metadata": {
    "tags": []
   },
   "source": [
    "# Part 2"
   ]
  },
  {
   "cell_type": "code",
   "execution_count": 35,
   "id": "41c1b8c1-d82f-4ba3-b2d3-2ba7e93c82f4",
   "metadata": {
    "tags": []
   },
   "outputs": [],
   "source": [
    "import sympy as sp\n",
    "\n",
    "def find_rock_path(hailstones):\n",
    "    \n",
    "    unknowns = sp.symbols('X, Y, Z, vx, vy, vz, t1, t2, t3')\n",
    "    \n",
    "    pos = unknowns[:3]\n",
    "    vel = unknowns[3:6]\n",
    "    times = unknowns[6:]\n",
    "    \n",
    "    equations = []\n",
    "    for i,stone in enumerate(hailstones[:3]):\n",
    "        stone_pos = stone.position\n",
    "        stone_vel = stone.velocity\n",
    "        for x in range(3):\n",
    "            equations.append(sp.Eq(pos[x] + vel[x]*times[i], \n",
    "                                   stone_pos[x] + stone_vel[x]*times[i])\n",
    "                            )\n",
    "    \n",
    "    \n",
    "    solution = sp.solve(equations, unknowns).pop()\n",
    "    \n",
    "    return sum(solution[:3]) "
   ]
  },
  {
   "cell_type": "code",
   "execution_count": 36,
   "id": "747f56f0-ec1e-4d76-8329-8fda6fedd252",
   "metadata": {
    "tags": []
   },
   "outputs": [],
   "source": [
    "import numpy as np\n",
    "def do_part_two(file_path):\n",
    "    \n",
    "    with open(file_path,'r') as f:\n",
    "        hailstones = [HailStone(l)  for l in f.readlines()]\n",
    "        \n",
    "    sum_pos = find_rock_path(hailstones)\n",
    "    return sum_pos"
   ]
  },
  {
   "cell_type": "code",
   "execution_count": 37,
   "id": "553ffca9-6633-4533-a62e-99df6f98021d",
   "metadata": {
    "scrolled": true,
    "tags": []
   },
   "outputs": [
    {
     "name": "stdout",
     "output_type": "stream",
     "text": [
      "CPU times: user 139 ms, sys: 17.5 ms, total: 156 ms\n",
      "Wall time: 182 ms\n"
     ]
    },
    {
     "data": {
      "text/latex": [
       "$\\displaystyle 47$"
      ],
      "text/plain": [
       "47"
      ]
     },
     "execution_count": 37,
     "metadata": {},
     "output_type": "execute_result"
    }
   ],
   "source": [
    "%%time\n",
    "do_part_two('input_data/test_24.txt')\n",
    "           "
   ]
  },
  {
   "cell_type": "code",
   "execution_count": 38,
   "id": "1e69b266-bd37-4af6-99e1-48f061f36f06",
   "metadata": {
    "scrolled": true,
    "tags": []
   },
   "outputs": [
    {
     "name": "stdout",
     "output_type": "stream",
     "text": [
      "CPU times: user 69.6 ms, sys: 3.06 ms, total: 72.6 ms\n",
      "Wall time: 74 ms\n"
     ]
    },
    {
     "data": {
      "text/latex": [
       "$\\displaystyle 571093786416929$"
      ],
      "text/plain": [
       "571093786416929"
      ]
     },
     "execution_count": 38,
     "metadata": {},
     "output_type": "execute_result"
    }
   ],
   "source": [
    "%%time\n",
    "do_part_two('input_data/day_24.txt')"
   ]
  },
  {
   "cell_type": "code",
   "execution_count": null,
   "id": "be488331-06bf-4a53-aafa-881a7c3a89ac",
   "metadata": {},
   "outputs": [],
   "source": []
  }
 ],
 "metadata": {
  "kernelspec": {
   "display_name": "work_env",
   "language": "python",
   "name": "work_env"
  },
  "language_info": {
   "codemirror_mode": {
    "name": "ipython",
    "version": 3
   },
   "file_extension": ".py",
   "mimetype": "text/x-python",
   "name": "python",
   "nbconvert_exporter": "python",
   "pygments_lexer": "ipython3",
   "version": "3.11.6"
  }
 },
 "nbformat": 4,
 "nbformat_minor": 5
}
