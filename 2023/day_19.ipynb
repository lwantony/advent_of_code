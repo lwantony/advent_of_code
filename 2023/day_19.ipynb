{
 "cells": [
  {
   "cell_type": "code",
   "execution_count": 1,
   "id": "2efe433c-ccbf-4b0a-8653-f0824059fd6f",
   "metadata": {
    "tags": []
   },
   "outputs": [],
   "source": [
    "from IPython.core.interactiveshell import InteractiveShell\n",
    "InteractiveShell.ast_node_interactivity = \"all\""
   ]
  },
  {
   "cell_type": "markdown",
   "id": "ff944d02-8a60-417e-888a-54e4e5141bbf",
   "metadata": {
    "tags": []
   },
   "source": [
    "# Part 1"
   ]
  },
  {
   "cell_type": "code",
   "execution_count": 2,
   "id": "a3b28f3c-99d5-4755-aa5e-965d9657d910",
   "metadata": {},
   "outputs": [],
   "source": [
    "test_inst = 'px{a<2006:qkq,m>2090:A,rfg}'\n",
    "test_part = '{x=787,m=2655,a=1222,s=2876}'"
   ]
  },
  {
   "cell_type": "code",
   "execution_count": 9,
   "id": "38fb0366-9ff3-4c2e-be34-2f36db08b254",
   "metadata": {
    "tags": []
   },
   "outputs": [],
   "source": [
    "def process_part(part_str):\n",
    "    part_str =part_str.replace('=',':')\n",
    "    for l in list('xmas'):\n",
    "        part_str = part_str.replace(l,f\"'{l}'\")\n",
    "    part_dict = eval(part_str)\n",
    "    return part_dict"
   ]
  },
  {
   "cell_type": "code",
   "execution_count": 87,
   "id": "1f1d0a79-3c2f-457a-8594-05af2610e146",
   "metadata": {
    "tags": []
   },
   "outputs": [],
   "source": [
    "class Rule:\n",
    "    def work_part(self,part_dict):\n",
    "        x=part_dict['x']\n",
    "        m=part_dict['m']\n",
    "        a=part_dict['a']\n",
    "        s=part_dict['s']\n",
    "        \n",
    "        for rule in self.rules:\n",
    "            if ':' not in rule:\n",
    "                return rule\n",
    "            \n",
    "            condition, dest = rule.split(':')\n",
    "            if eval(condition) :\n",
    "                return dest\n",
    "    \n",
    "    \n",
    "    def __init__(self, process):\n",
    "        name, process = process.split('{')\n",
    "        process = process.replace('}','')\n",
    "        self.name = name\n",
    "        self.rules = process.split(',')\n",
    "        \n",
    "        conditions =[]\n",
    "        destinations =[]\n",
    "        \n",
    "        for rule in self.rules:\n",
    "            if ':' not in rule:\n",
    "                conditions.append('')\n",
    "                destinations.append(rule)\n",
    "            else:\n",
    "                condition, dest = rule.split(':')\n",
    "                conditions.append(condition)\n",
    "                destinations.append(dest)\n",
    "        self.conditions = conditions\n",
    "        self.destinations = destinations\n",
    "        \n",
    "        \n",
    "        "
   ]
  },
  {
   "cell_type": "code",
   "execution_count": 88,
   "id": "83d55fb0-6fde-49a6-be76-a2536829b431",
   "metadata": {
    "tags": []
   },
   "outputs": [],
   "source": [
    "test_work = Rule(test_inst)"
   ]
  },
  {
   "cell_type": "code",
   "execution_count": 89,
   "id": "ebb039a6-4017-4d23-96eb-01921382f963",
   "metadata": {
    "tags": []
   },
   "outputs": [
    {
     "data": {
      "text/plain": [
       "'qkq'"
      ]
     },
     "execution_count": 89,
     "metadata": {},
     "output_type": "execute_result"
    }
   ],
   "source": [
    "test_work.work_part(process_part(test_part))"
   ]
  },
  {
   "cell_type": "code",
   "execution_count": 90,
   "id": "3be9e68d-9124-41f2-95f0-468444d0f98e",
   "metadata": {
    "tags": []
   },
   "outputs": [],
   "source": [
    "def do_part_one(file_path):\n",
    "    work_flows = {}\n",
    "    parts = []\n",
    "    \n",
    "    with open(file_path,'r') as f:\n",
    "        process_rules=True\n",
    "        for line in f.readlines():\n",
    "            line = line.strip()\n",
    "            if len(line) < 1:\n",
    "                process_rules = False\n",
    "                continue\n",
    "                \n",
    "            if process_rules:\n",
    "                r = Rule(line)\n",
    "                work_flows[r.name] = r\n",
    "            else:\n",
    "                parts.append(process_part(line))\n",
    "    \n",
    "    total = 0 \n",
    "    for part in parts:\n",
    "        dest = 'in'\n",
    "        while dest not in [ 'R', 'A']:\n",
    "            dest = work_flows[dest].work_part(part)\n",
    "        if dest == 'A':\n",
    "            total += sum(part.values())\n",
    "        \n",
    "                \n",
    "    \n",
    "    return total"
   ]
  },
  {
   "cell_type": "code",
   "execution_count": 91,
   "id": "c0f07f59-ae05-4bf1-b809-3ff543222d31",
   "metadata": {
    "scrolled": true,
    "tags": []
   },
   "outputs": [
    {
     "name": "stdout",
     "output_type": "stream",
     "text": [
      "CPU times: user 2.28 ms, sys: 1.85 ms, total: 4.13 ms\n",
      "Wall time: 2.59 ms\n"
     ]
    },
    {
     "data": {
      "text/plain": [
       "19114"
      ]
     },
     "execution_count": 91,
     "metadata": {},
     "output_type": "execute_result"
    }
   ],
   "source": [
    "%%time\n",
    "do_part_one('input_data/test_19.txt')"
   ]
  },
  {
   "cell_type": "code",
   "execution_count": 92,
   "id": "fb6325c0-56ed-4ef5-b0cc-194b342aad5b",
   "metadata": {
    "scrolled": true,
    "tags": []
   },
   "outputs": [
    {
     "name": "stdout",
     "output_type": "stream",
     "text": [
      "CPU times: user 31.9 ms, sys: 1.49 ms, total: 33.4 ms\n",
      "Wall time: 33.1 ms\n"
     ]
    },
    {
     "data": {
      "text/plain": [
       "333263"
      ]
     },
     "execution_count": 92,
     "metadata": {},
     "output_type": "execute_result"
    }
   ],
   "source": [
    "%%time\n",
    "do_part_one('input_data/day_19.txt')"
   ]
  },
  {
   "cell_type": "markdown",
   "id": "fb57e954-d588-406e-9c3c-6d012b1abc0e",
   "metadata": {
    "tags": []
   },
   "source": [
    "# Part 2"
   ]
  },
  {
   "cell_type": "code",
   "execution_count": 145,
   "id": "090d6fd6-58a5-4899-932e-69b2e88d9a5c",
   "metadata": {
    "tags": []
   },
   "outputs": [],
   "source": [
    "\n",
    "def finding_accepted_paths(workflows):\n",
    "    paths=[]\n",
    "    def add_pathes(cur, path_str,paths ):\n",
    "        if cur =='A':\n",
    "            paths.append(path_str)\n",
    "            \n",
    "        else:\n",
    "            for dest in workflows[cur].destinations:\n",
    "                if dest !='R':\n",
    "                    new_path= path_str+'->'+dest\n",
    "                    add_pathes(dest, new_path, paths)\n",
    "                \n",
    "    \n",
    "    add_pathes('in', 'in', paths)\n",
    "    return paths\n",
    "    "
   ]
  },
  {
   "cell_type": "code",
   "execution_count": 159,
   "id": "8b66c6ea-3592-4dd4-a8be-2877c790776c",
   "metadata": {
    "tags": []
   },
   "outputs": [],
   "source": [
    "def get_path_possibility(path,workflows):\n",
    "    bounds = {l: [1,4000] for l in list('xmas')}\n",
    "    dests = path.split('->')\n",
    "    for i in range(len(dests)-1):\n",
    "        cur = dests[i]\n",
    "        desired = dests[i+1]\n",
    "        process = workflows[cur]\n",
    "       \n",
    "        possible = sum([ d==desired for d in process.destinations])\n",
    "        \n",
    "        for cond, dest in zip(process.conditions,process.destinations):\n",
    "            if dest == desired:\n",
    "                if '<' in cond: \n",
    "                    letter, val = cond.split('<')\n",
    "                    if bounds[letter][1] >= int(val):\n",
    "                        bounds[letter][1] = int(val)-1\n",
    "                if '>' in cond: \n",
    "                    letter, val = cond.split('>')\n",
    "                    if bounds[letter][0] <= int(val):\n",
    "                        bounds[letter][0] = int(val)+1\n",
    "                break\n",
    "                \n",
    "            else:\n",
    "                if '<' in cond: \n",
    "                    letter, val = cond.split('<')\n",
    "                    if bounds[letter][0] < int(val):\n",
    "                        bounds[letter][0] = int(val)\n",
    "                if '>' in cond: \n",
    "                    letter, val = cond.split('>')\n",
    "                    if bounds[letter][1] > int(val):\n",
    "                        bounds[letter][1] = int(val)\n",
    "                    \n",
    "    total=1\n",
    "    for rang in bounds.values():\n",
    "        if rang[1] < rang[0] :\n",
    "            return 0 \n",
    "        total*=(rang[1] - rang[0])+1\n",
    "        \n",
    "    print(bounds, total)\n",
    "    return  total"
   ]
  },
  {
   "cell_type": "code",
   "execution_count": 182,
   "id": "5678b7bb-b3f3-42da-9f9f-1b3c70c20c77",
   "metadata": {
    "tags": []
   },
   "outputs": [],
   "source": [
    "from copy import deepcopy\n",
    "\n",
    "def finding_accepted_paths(workflows):\n",
    "    def find_number_combo_paths(cur, bounds):\n",
    "        if cur =='A':\n",
    "            number_to=1\n",
    "            for rang in bounds.values():\n",
    "                if rang[1] < rang[0] :\n",
    "                    number_to = 0 \n",
    "                    break\n",
    "                number_to*=(rang[1] - rang[0])+1\n",
    "            return number_to\n",
    "        if cur == 'R':\n",
    "            return 0\n",
    "            \n",
    "        elif cur != 'R':\n",
    "            process = workflows[cur]\n",
    "            totals = []\n",
    "            for cond, dest in zip(process.conditions,process.destinations):\n",
    "                stop_bounds = deepcopy(bounds)\n",
    "                if '<' in cond: \n",
    "                    letter, val = cond.split('<')\n",
    "                    if stop_bounds[letter][1] >= int(val):\n",
    "                        stop_bounds[letter][1] = int(val)-1\n",
    "                        \n",
    "                    if bounds[letter][0] < int(val):\n",
    "                        bounds[letter][0] = int(val)\n",
    "                        \n",
    "                        \n",
    "                if '>' in cond: \n",
    "                    letter, val = cond.split('>')\n",
    "                    if stop_bounds[letter][0] <= int(val):\n",
    "                        stop_bounds[letter][0] = int(val)+1\n",
    "                        \n",
    "                    if bounds[letter][1] > int(val):\n",
    "                        bounds[letter][1] = int(val)\n",
    "                        \n",
    "                totals.append(find_number_combo_paths(dest,stop_bounds))\n",
    "            return sum(totals)\n",
    "                \n",
    "                \n",
    "    bounds = {l: [1,4000] for l in list('xmas')}\n",
    "    total =0\n",
    "    total = find_number_combo_paths('in', bounds)\n",
    "    return total\n",
    "    "
   ]
  },
  {
   "cell_type": "code",
   "execution_count": 183,
   "id": "69ad6446-e030-4e92-8f45-ea264c2472ac",
   "metadata": {
    "tags": []
   },
   "outputs": [],
   "source": [
    "def do_part_two(file_path):\n",
    "    work_flows = {}\n",
    "    \n",
    "    with open(file_path,'r') as f:\n",
    "        \n",
    "        for line in f.readlines():\n",
    "            line = line.strip()\n",
    "            if len(line) < 1:\n",
    "                break\n",
    "                \n",
    "            r = Rule(line)\n",
    "            work_flows[r.name] = r\n",
    "                \n",
    "    return finding_accepted_paths(work_flows)\n",
    "    paths = set(finding_accepted_paths(work_flows))\n",
    "    paths = list(paths)\n",
    "    total=0 \n",
    "    for p in paths:\n",
    "        print(p)\n",
    "        total+=get_path_possibility(p, work_flows)\n",
    "        \n",
    "    return total"
   ]
  },
  {
   "cell_type": "code",
   "execution_count": 185,
   "id": "553ffca9-6633-4533-a62e-99df6f98021d",
   "metadata": {
    "scrolled": true,
    "tags": []
   },
   "outputs": [
    {
     "name": "stdout",
     "output_type": "stream",
     "text": [
      "True 167409079868000\n",
      "CPU times: user 2.31 ms, sys: 1.78 ms, total: 4.1 ms\n",
      "Wall time: 2.7 ms\n"
     ]
    }
   ],
   "source": [
    "%%time\n",
    "test = do_part_two('input_data/test_19.txt')\n",
    "print (test == 167409079868000,test)\n"
   ]
  },
  {
   "cell_type": "code",
   "execution_count": 187,
   "id": "8cc38db0-d913-4105-8d5e-b7358d8d5446",
   "metadata": {
    "scrolled": true,
    "tags": []
   },
   "outputs": [
    {
     "name": "stdout",
     "output_type": "stream",
     "text": [
      "CPU times: user 25.9 ms, sys: 2.06 ms, total: 28 ms\n",
      "Wall time: 26.7 ms\n"
     ]
    },
    {
     "data": {
      "text/plain": [
       "130745440937650"
      ]
     },
     "execution_count": 187,
     "metadata": {},
     "output_type": "execute_result"
    }
   ],
   "source": [
    "%%time\n",
    "do_part_two('input_data/day_19.txt')\n",
    "\n",
    "           "
   ]
  },
  {
   "cell_type": "code",
   "execution_count": null,
   "id": "f58f313b-466d-4d98-8368-35468f2db101",
   "metadata": {},
   "outputs": [],
   "source": []
  }
 ],
 "metadata": {
  "kernelspec": {
   "display_name": "work_env",
   "language": "python",
   "name": "work_env"
  },
  "language_info": {
   "codemirror_mode": {
    "name": "ipython",
    "version": 3
   },
   "file_extension": ".py",
   "mimetype": "text/x-python",
   "name": "python",
   "nbconvert_exporter": "python",
   "pygments_lexer": "ipython3",
   "version": "3.11.6"
  }
 },
 "nbformat": 4,
 "nbformat_minor": 5
}
