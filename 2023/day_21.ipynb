{
 "cells": [
  {
   "cell_type": "code",
   "execution_count": 1,
   "id": "2efe433c-ccbf-4b0a-8653-f0824059fd6f",
   "metadata": {
    "tags": []
   },
   "outputs": [],
   "source": [
    "from IPython.core.interactiveshell import InteractiveShell\n",
    "InteractiveShell.ast_node_interactivity = \"all\""
   ]
  },
  {
   "cell_type": "markdown",
   "id": "ff944d02-8a60-417e-888a-54e4e5141bbf",
   "metadata": {
    "tags": []
   },
   "source": [
    "# Part 1"
   ]
  },
  {
   "cell_type": "raw",
   "id": "0b8ac537-0e1b-4554-9f09-6061b479b1d0",
   "metadata": {
    "tags": []
   },
   "source": [
    "import heapq\n",
    "\n",
    "class PriorityQueue:\n",
    "    def __init__(self):\n",
    "        self.elements: list[tuple[float, PathState]] = []\n",
    "    \n",
    "    def empty(self) -> bool:\n",
    "        return not self.elements\n",
    "    \n",
    "    def put(self, item: PathState, priority: float):\n",
    "        heapq.heappush(self.elements, (priority, item))\n",
    "    \n",
    "    def get(self) -> PathState:\n",
    "        return heapq.heappop(self.elements)[1]"
   ]
  },
  {
   "cell_type": "code",
   "execution_count": 70,
   "id": "5ea82c1d-8520-42d3-be0a-2ee13c259b72",
   "metadata": {
    "tags": []
   },
   "outputs": [],
   "source": [
    "import numpy as np\n",
    "from copy import deepcopy\n",
    "\n",
    "class PathState:\n",
    "    def __init__(self,loc,steps):\n",
    "        self.loc = loc\n",
    "        self.steps = steps\n",
    "\n",
    "    def give_neighbors(self,garden):\n",
    "        neighs=[]\n",
    "        nR,nC = len(garden),len(garden[0])\n",
    "        \n",
    "        changes = [ (-1,0), (1,0), (0,1), (0,-1) ]\n",
    "        for xc in changes:\n",
    "            new_loc = tuple([ i+j for i,j in zip(xc,self.loc)])\n",
    "        \n",
    "            if (new_loc[0] > -1 and new_loc[1] > -1  \n",
    "                and new_loc[0] < nR and new_loc[1] < nC):\n",
    "                \n",
    "                if garden[new_loc[0]][new_loc[1]] != '#':\n",
    "                    neighs.append(PathState(new_loc, self.steps+1))\n",
    "        \n",
    "        return neighs\n",
    "                   \n",
    "    def __repr__(self):\n",
    "        return f'{self.loc[0]}-{self.loc[1]}:{self.steps}'\n",
    "    \n",
    "    def __str__(self):\n",
    "        return f'{self.loc[0]}-{self.loc[1]}:{self.steps}'\n",
    "    \n",
    "    "
   ]
  },
  {
   "cell_type": "code",
   "execution_count": 71,
   "id": "8e78aea9-46a6-4cff-95ae-4af5de01bb6f",
   "metadata": {
    "tags": []
   },
   "outputs": [],
   "source": [
    "from collections import deque\n",
    "total=64\n",
    "def perform_breadth_first(garden):\n",
    "    frontier = deque()\n",
    "    start = None\n",
    "    for ir, r in enumerate(garden):\n",
    "        if \"S\" in r:\n",
    "            ic = r.find('S')\n",
    "            start = (ir, ic) \n",
    "            break\n",
    "    \n",
    "    print(start)\n",
    "    frontier.append(PathState(start,0))\n",
    "    \n",
    "    \n",
    "    reached_req =[]\n",
    "    seen =[]\n",
    "    \n",
    "    while len(frontier) > 0  :\n",
    "        cur_loc = frontier.popleft()\n",
    "        if cur_loc.steps ==total:\n",
    "            reached_req.append(cur_loc.loc)\n",
    "        \n",
    "        else:\n",
    "            for n_loc in cur_loc.give_neighbors(garden):\n",
    "                if str(n_loc) not in seen:\n",
    "                    seen.append(str(n_loc))\n",
    "                    frontier.append(n_loc)\n",
    "                    \n",
    "    return len(set(reached_req))"
   ]
  },
  {
   "cell_type": "code",
   "execution_count": 72,
   "id": "3be9e68d-9124-41f2-95f0-468444d0f98e",
   "metadata": {
    "tags": []
   },
   "outputs": [],
   "source": [
    "def do_part_one(file_path):\n",
    "    with open(file_path,'r') as f:\n",
    "        garden = [l.strip() for l in f.readlines()]\n",
    "    \n",
    "    nlocs = perform_breadth_first(garden)\n",
    "    return nlocs"
   ]
  },
  {
   "cell_type": "code",
   "execution_count": 73,
   "id": "c0f07f59-ae05-4bf1-b809-3ff543222d31",
   "metadata": {
    "scrolled": true,
    "tags": []
   },
   "outputs": [
    {
     "name": "stdout",
     "output_type": "stream",
     "text": [
      "(5, 5)\n",
      "CPU times: user 108 ms, sys: 2.41 ms, total: 111 ms\n",
      "Wall time: 113 ms\n"
     ]
    },
    {
     "data": {
      "text/plain": [
       "42"
      ]
     },
     "execution_count": 73,
     "metadata": {},
     "output_type": "execute_result"
    }
   ],
   "source": [
    "%%time\n",
    "tmp = do_part_one('input_data/test_21.txt')\n",
    "tmp"
   ]
  },
  {
   "cell_type": "code",
   "execution_count": 74,
   "id": "a5d866a7-a349-4f04-964b-50129720b8fb",
   "metadata": {
    "scrolled": true,
    "tags": []
   },
   "outputs": [
    {
     "name": "stdout",
     "output_type": "stream",
     "text": [
      "(65, 65)\n",
      "CPU times: user 1min 22s, sys: 29 ms, total: 1min 22s\n",
      "Wall time: 1min 23s\n"
     ]
    },
    {
     "data": {
      "text/plain": [
       "3651"
      ]
     },
     "execution_count": 74,
     "metadata": {},
     "output_type": "execute_result"
    }
   ],
   "source": [
    "%%time\n",
    "do_part_one('input_data/day_21.txt')"
   ]
  },
  {
   "cell_type": "markdown",
   "id": "fb57e954-d588-406e-9c3c-6d012b1abc0e",
   "metadata": {
    "tags": []
   },
   "source": [
    "# Part 2"
   ]
  },
  {
   "cell_type": "code",
   "execution_count": 85,
   "id": "710ff16a-a547-4117-a436-6f55346010b1",
   "metadata": {
    "tags": []
   },
   "outputs": [],
   "source": [
    "def do_part_two(file_path):\n",
    "    with open(file_path,'r') as f:\n",
    "        heat_loss = [ [int(i) for i in l.strip()] for l in f.readlines()]\n",
    "    \n",
    "    heat = ultimate_path(heat_loss)\n",
    "    nR,nC = len(heat_loss), len(heat_loss[0])\n",
    "                                          \n",
    "    blank = [ ['.']*nC for r in range(nR)]\n",
    "\n",
    "    spot = heat\n",
    "    while spot is not None:\n",
    "        loc = spot.loc\n",
    "        blank[loc[0]][loc[1]] = spot.direction\n",
    "        spot = spot.came_from\n",
    "    \n",
    "    \n",
    "    print('\\n'.join([ ''.join(row) for row in blank]))\n",
    " #   \n",
    "    return heat"
   ]
  },
  {
   "cell_type": "code",
   "execution_count": null,
   "id": "553ffca9-6633-4533-a62e-99df6f98021d",
   "metadata": {
    "scrolled": true,
    "tags": []
   },
   "outputs": [],
   "source": [
    "%%time\n",
    "do_part_two('input_data/test_17.txt')\n",
    "           "
   ]
  },
  {
   "cell_type": "code",
   "execution_count": null,
   "id": "1e69b266-bd37-4af6-99e1-48f061f36f06",
   "metadata": {
    "scrolled": true,
    "tags": []
   },
   "outputs": [],
   "source": [
    "%%time\n",
    "do_part_two('input_data/day_17.txt')\n",
    "           "
   ]
  },
  {
   "cell_type": "code",
   "execution_count": null,
   "id": "f58f313b-466d-4d98-8368-35468f2db101",
   "metadata": {},
   "outputs": [],
   "source": []
  }
 ],
 "metadata": {
  "kernelspec": {
   "display_name": "work_env",
   "language": "python",
   "name": "work_env"
  },
  "language_info": {
   "codemirror_mode": {
    "name": "ipython",
    "version": 3
   },
   "file_extension": ".py",
   "mimetype": "text/x-python",
   "name": "python",
   "nbconvert_exporter": "python",
   "pygments_lexer": "ipython3",
   "version": "3.11.6"
  }
 },
 "nbformat": 4,
 "nbformat_minor": 5
}
