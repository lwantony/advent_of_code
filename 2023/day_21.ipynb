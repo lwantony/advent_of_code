{
 "cells": [
  {
   "cell_type": "code",
   "execution_count": 1,
   "id": "2efe433c-ccbf-4b0a-8653-f0824059fd6f",
   "metadata": {
    "tags": []
   },
   "outputs": [],
   "source": [
    "from IPython.core.interactiveshell import InteractiveShell\n",
    "InteractiveShell.ast_node_interactivity = \"all\""
   ]
  },
  {
   "cell_type": "markdown",
   "id": "ff944d02-8a60-417e-888a-54e4e5141bbf",
   "metadata": {
    "tags": []
   },
   "source": [
    "# Part 1"
   ]
  },
  {
   "cell_type": "raw",
   "id": "0b8ac537-0e1b-4554-9f09-6061b479b1d0",
   "metadata": {
    "tags": []
   },
   "source": [
    "import heapq\n",
    "\n",
    "class PriorityQueue:\n",
    "    def __init__(self):\n",
    "        self.elements: list[tuple[float, PathState]] = []\n",
    "    \n",
    "    def empty(self) -> bool:\n",
    "        return not self.elements\n",
    "    \n",
    "    def put(self, item: PathState, priority: float):\n",
    "        heapq.heappush(self.elements, (priority, item))\n",
    "    \n",
    "    def get(self) -> PathState:\n",
    "        return heapq.heappop(self.elements)[1]"
   ]
  },
  {
   "cell_type": "code",
   "execution_count": 81,
   "id": "5ea82c1d-8520-42d3-be0a-2ee13c259b72",
   "metadata": {
    "tags": []
   },
   "outputs": [],
   "source": [
    "import numpy as np\n",
    "from copy import deepcopy\n",
    "\n",
    "class PathState:\n",
    "    def __init__(self,loc,steps):\n",
    "        self.loc = loc\n",
    "        self.steps = steps\n",
    "\n",
    "    def give_neighbors(self,garden,infinite=False ):\n",
    "        neighs=[]\n",
    "        nR,nC = len(garden),len(garden[0])\n",
    "        \n",
    "        changes = [ (-1,0), (1,0), (0,1), (0,-1) ]\n",
    "        for xc in changes:\n",
    "            new_loc = tuple([ i+j for i,j in zip(xc,self.loc)])\n",
    "            if infinite:\n",
    "                check = tuple([ new_loc[0]%nR, new_loc[1]%nC ])\n",
    "            else:\n",
    "                check = new_loc\n",
    "        \n",
    "            if (check[0] > -1 and check[1] > -1  \n",
    "                and check[0] < nR and check[1] < nC):\n",
    "                \n",
    "                if garden[check[0]][check[1]] != '#':\n",
    "                    neighs.append(PathState(new_loc, self.steps+1))\n",
    "        \n",
    "        return neighs\n",
    "                   \n",
    "    def __repr__(self):\n",
    "        return f'{self.loc[0]}-{self.loc[1]}:{self.steps}'\n",
    "    \n",
    "    def __str__(self):\n",
    "        return f'{self.loc[0]}-{self.loc[1]}'#:{self.steps}'\n",
    "    \n"
   ]
  },
  {
   "cell_type": "code",
   "execution_count": 97,
   "id": "8e78aea9-46a6-4cff-95ae-4af5de01bb6f",
   "metadata": {
    "tags": []
   },
   "outputs": [],
   "source": [
    "from collections import deque\n",
    "\n",
    "def perform_breadth_first(garden,total=64, infinite=False):\n",
    "    frontier = deque()\n",
    "    start = None\n",
    "    for ir, r in enumerate(garden):\n",
    "        if \"S\" in r:\n",
    "            ic = r.find('S')\n",
    "            start = (ir, ic) \n",
    "            break\n",
    "    \n",
    "#    print(start)\n",
    "    frontier.append(PathState(start,0))\n",
    "    \n",
    "    \n",
    "    seen =[]\n",
    "    count=0\n",
    "    while len(frontier) > 0  :\n",
    "        cur_loc = frontier.popleft()\n",
    "        \n",
    "        if cur_loc.steps%2 == total%2 and cur_loc.steps>0:\n",
    "            count+=1\n",
    "            \n",
    "        if cur_loc.steps ==total:\n",
    "            continue\n",
    "        for n_loc in cur_loc.give_neighbors(garden, infinite=infinite):\n",
    "            if str(n_loc) not in seen:\n",
    "                seen.append(str(n_loc))\n",
    "                frontier.append(n_loc)\n",
    "                    \n",
    "    return count"
   ]
  },
  {
   "cell_type": "code",
   "execution_count": 83,
   "id": "3be9e68d-9124-41f2-95f0-468444d0f98e",
   "metadata": {
    "tags": []
   },
   "outputs": [],
   "source": [
    "def do_part_one(file_path,total=64):\n",
    "    with open(file_path,'r') as f:\n",
    "        garden = [l.strip() for l in f.readlines()]\n",
    "    \n",
    "    nlocs = perform_breadth_first(garden,total)\n",
    "    return nlocs"
   ]
  },
  {
   "cell_type": "code",
   "execution_count": 84,
   "id": "c0f07f59-ae05-4bf1-b809-3ff543222d31",
   "metadata": {
    "scrolled": true,
    "tags": []
   },
   "outputs": [
    {
     "name": "stdout",
     "output_type": "stream",
     "text": [
      "(5, 5)\n",
      "CPU times: user 3.06 ms, sys: 2.2 ms, total: 5.25 ms\n",
      "Wall time: 3.74 ms\n"
     ]
    },
    {
     "data": {
      "text/plain": [
       "42"
      ]
     },
     "execution_count": 84,
     "metadata": {},
     "output_type": "execute_result"
    }
   ],
   "source": [
    "%%time\n",
    "tmp = do_part_one('input_data/test_21.txt')\n",
    "tmp"
   ]
  },
  {
   "cell_type": "code",
   "execution_count": 61,
   "id": "a5d866a7-a349-4f04-964b-50129720b8fb",
   "metadata": {
    "scrolled": true,
    "tags": []
   },
   "outputs": [
    {
     "name": "stdout",
     "output_type": "stream",
     "text": [
      "(65, 65)\n",
      "CPU times: user 728 ms, sys: 2.3 ms, total: 731 ms\n",
      "Wall time: 733 ms\n"
     ]
    },
    {
     "data": {
      "text/plain": [
       "3651"
      ]
     },
     "execution_count": 61,
     "metadata": {},
     "output_type": "execute_result"
    }
   ],
   "source": [
    "%%time\n",
    "do_part_one('input_data/day_21.txt')"
   ]
  },
  {
   "cell_type": "markdown",
   "id": "fb57e954-d588-406e-9c3c-6d012b1abc0e",
   "metadata": {
    "tags": []
   },
   "source": [
    "# Part 2"
   ]
  },
  {
   "cell_type": "code",
   "execution_count": 161,
   "id": "e80cb809-e422-4971-923f-46ecf736c704",
   "metadata": {
    "tags": []
   },
   "outputs": [],
   "source": [
    "def do_part_two(file_path):\n",
    "    goal=26501365\n",
    "    \n",
    "    with open(file_path,'r') as f:\n",
    "        garden = [l.strip() for l in f.readlines()]\n",
    "        \n",
    "    edge_size = len(garden)\n",
    "    half_edge = edge_size//2\n",
    "    points = [ half_edge+i*edge_size for i in range(3)]\n",
    "#    points = np.arange(65,100,1)\n",
    "    nlocs = [ perform_breadth_first(garden,t, infinite=True)  for t in points]\n",
    "    \n",
    "    \n",
    "    model =np.poly1d(np.polyfit([0,1,2],nlocs,2))\n",
    "    \n",
    "    x = (goal - half_edge)//edge_size\n",
    "    \n",
    "    return model, int(model(x))"
   ]
  },
  {
   "cell_type": "code",
   "execution_count": 162,
   "id": "553ffca9-6633-4533-a62e-99df6f98021d",
   "metadata": {
    "scrolled": true,
    "tags": []
   },
   "outputs": [
    {
     "name": "stdout",
     "output_type": "stream",
     "text": [
      "CPU times: user 31.9 ms, sys: 2.54 ms, total: 34.4 ms\n",
      "Wall time: 34.7 ms\n"
     ]
    },
    {
     "data": {
      "text/plain": [
       "(poly1d([91., 25., 13.]), 528192461129798)"
      ]
     },
     "execution_count": 162,
     "metadata": {},
     "output_type": "execute_result"
    }
   ],
   "source": [
    "%%time\n",
    "do_part_two('input_data/test_21.txt')\n",
    "           "
   ]
  },
  {
   "cell_type": "code",
   "execution_count": 163,
   "id": "1e69b266-bd37-4af6-99e1-48f061f36f06",
   "metadata": {
    "scrolled": true,
    "tags": []
   },
   "outputs": [
    {
     "name": "stdout",
     "output_type": "stream",
     "text": [
      "CPU times: user 8min 31s, sys: 118 ms, total: 8min 31s\n",
      "Wall time: 8min 32s\n"
     ]
    }
   ],
   "source": [
    "%%time\n",
    "model, t = do_part_two('input_data/day_21.txt')\n"
   ]
  },
  {
   "cell_type": "code",
   "execution_count": 164,
   "id": "ccfeb69f-e911-4d27-a2ba-2e67691cbd93",
   "metadata": {
    "tags": []
   },
   "outputs": [
    {
     "data": {
      "text/plain": [
       "607334325965750"
      ]
     },
     "execution_count": 164,
     "metadata": {},
     "output_type": "execute_result"
    }
   ],
   "source": [
    "t"
   ]
  },
  {
   "cell_type": "code",
   "execution_count": 165,
   "id": "588c5830-7e83-4b42-97de-1c3ba44fcefa",
   "metadata": {
    "tags": []
   },
   "outputs": [
    {
     "data": {
      "text/plain": [
       "poly1d([14840., 14940.,  3751.])"
      ]
     },
     "execution_count": 165,
     "metadata": {},
     "output_type": "execute_result"
    }
   ],
   "source": [
    "model"
   ]
  },
  {
   "cell_type": "code",
   "execution_count": null,
   "id": "be488331-06bf-4a53-aafa-881a7c3a89ac",
   "metadata": {},
   "outputs": [],
   "source": []
  }
 ],
 "metadata": {
  "kernelspec": {
   "display_name": "work_env",
   "language": "python",
   "name": "work_env"
  },
  "language_info": {
   "codemirror_mode": {
    "name": "ipython",
    "version": 3
   },
   "file_extension": ".py",
   "mimetype": "text/x-python",
   "name": "python",
   "nbconvert_exporter": "python",
   "pygments_lexer": "ipython3",
   "version": "3.11.6"
  }
 },
 "nbformat": 4,
 "nbformat_minor": 5
}
