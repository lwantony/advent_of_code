{
 "cells": [
  {
   "cell_type": "code",
   "execution_count": 1,
   "id": "2efe433c-ccbf-4b0a-8653-f0824059fd6f",
   "metadata": {
    "tags": []
   },
   "outputs": [],
   "source": [
    "from IPython.core.interactiveshell import InteractiveShell\n",
    "InteractiveShell.ast_node_interactivity = \"all\""
   ]
  },
  {
   "cell_type": "markdown",
   "id": "ff944d02-8a60-417e-888a-54e4e5141bbf",
   "metadata": {
    "tags": []
   },
   "source": [
    "# Part 1"
   ]
  },
  {
   "cell_type": "raw",
   "id": "0b8ac537-0e1b-4554-9f09-6061b479b1d0",
   "metadata": {
    "tags": []
   },
   "source": [
    "import heapq\n",
    "\n",
    "class PriorityQueue:\n",
    "    def __init__(self):\n",
    "        self.elements: list[tuple[float, PathState]] = []\n",
    "    \n",
    "    def empty(self) -> bool:\n",
    "        return not self.elements\n",
    "    \n",
    "    def put(self, item: PathState, priority: float):\n",
    "        heapq.heappush(self.elements, (priority, item))\n",
    "    \n",
    "    def get(self) -> PathState:\n",
    "        return heapq.heappop(self.elements)[1]"
   ]
  },
  {
   "cell_type": "code",
   "execution_count": 35,
   "id": "5ea82c1d-8520-42d3-be0a-2ee13c259b72",
   "metadata": {
    "tags": []
   },
   "outputs": [],
   "source": [
    "import numpy as np\n",
    "from copy import deepcopy\n",
    "\n",
    "class PathState:\n",
    "    def __init__(self,loc,steps,came_from = None):\n",
    "        self.loc = tuple(loc)\n",
    "        self.steps = steps\n",
    "        self.came_from =came_from\n",
    "\n",
    "    def give_neighbors(self, forest_map, slip = True ):\n",
    "        neighs=[]\n",
    "        nR,nC = len(forest_map),len(forest_map[0])\n",
    "        \n",
    "        \n",
    "        cf = self.came_from\n",
    "        prev = []\n",
    "        while cf is not None:\n",
    "            prev.append(cf.loc)\n",
    "            cf=cf.came_from\n",
    "            \n",
    "        changes = [ (-1,0), (1,0), (0,1), (0,-1) ]\n",
    "        \n",
    "        is_slope = forest_map[self.loc[0]][self.loc[1]]\n",
    "       \n",
    "        if slip:\n",
    "            if  is_slope == '>':\n",
    "                changes=[ (0,1) ]\n",
    "            elif  is_slope == '<':\n",
    "                changes=[ (0,-1) ]\n",
    "            elif  is_slope == '^':\n",
    "                changes=[ (-1,0) ]\n",
    "            elif  is_slope == 'v':\n",
    "                changes=[ (1,0) ]\n",
    "        \n",
    "        for xc in changes:\n",
    "            new_loc = tuple([ i+j for i,j in zip(xc,self.loc)])\n",
    "        \n",
    "            if (new_loc[0] > -1 and new_loc[1] > -1 \n",
    "                and new_loc[0] < nR and new_loc[1] < nC\n",
    "                and new_loc not in prev):\n",
    "                \n",
    "                if forest_map[new_loc[0]][new_loc[1]] != '#':\n",
    "                    neighs.append(PathState(new_loc, self.steps+1, came_from=self))\n",
    "        \n",
    "        return neighs\n",
    "                   \n",
    "    def __repr__(self):\n",
    "        return f'{self.loc[0]}-{self.loc[1]}'\n",
    "    \n",
    "    def __str__(self):\n",
    "        return f'{self.loc[0]}-{self.loc[1]}'\n",
    "    \n"
   ]
  },
  {
   "cell_type": "code",
   "execution_count": 22,
   "id": "8e78aea9-46a6-4cff-95ae-4af5de01bb6f",
   "metadata": {
    "tags": []
   },
   "outputs": [],
   "source": [
    "from collections import deque\n",
    "\n",
    "def perform_breadth_first(forest_map):\n",
    "    frontier = deque()\n",
    "    start = (0,1)\n",
    "    \n",
    "    frontier.append(PathState(start,0))\n",
    "    \n",
    "    nR, nC = len(forest_map),len(forest_map[0])\n",
    "    end = (nR-1, nC-2)\n",
    "    \n",
    "    total_steps = []\n",
    "    while len(frontier) > 0  :\n",
    "        cur_loc = frontier.popleft()\n",
    "    \n",
    "        if cur_loc.loc == end:\n",
    "            total_steps.append(cur_loc)\n",
    "            continue\n",
    "            \n",
    "        for n_loc in cur_loc.give_neighbors(forest_map):\n",
    "            frontier.append(n_loc)\n",
    "                    \n",
    "    return total_steps"
   ]
  },
  {
   "cell_type": "code",
   "execution_count": 29,
   "id": "3be9e68d-9124-41f2-95f0-468444d0f98e",
   "metadata": {
    "tags": []
   },
   "outputs": [],
   "source": [
    "def do_part_one(file_path):\n",
    "    with open(file_path,'r') as f:\n",
    "        forest_map = [l.strip() for l in f.readlines()]\n",
    "    \n",
    "    steps = perform_breadth_first(forest_map)\n",
    "    \n",
    "    return max([ s.steps for s  in steps])"
   ]
  },
  {
   "cell_type": "code",
   "execution_count": 30,
   "id": "c0f07f59-ae05-4bf1-b809-3ff543222d31",
   "metadata": {
    "scrolled": true,
    "tags": []
   },
   "outputs": [
    {
     "name": "stdout",
     "output_type": "stream",
     "text": [
      "CPU times: user 8.54 ms, sys: 1.46 ms, total: 10 ms\n",
      "Wall time: 9.2 ms\n"
     ]
    },
    {
     "data": {
      "text/plain": [
       "94"
      ]
     },
     "execution_count": 30,
     "metadata": {},
     "output_type": "execute_result"
    }
   ],
   "source": [
    "%%time\n",
    "tmp = do_part_one('input_data/test_23.txt')\n",
    "tmp"
   ]
  },
  {
   "cell_type": "code",
   "execution_count": 31,
   "id": "a5d866a7-a349-4f04-964b-50129720b8fb",
   "metadata": {
    "scrolled": true,
    "tags": []
   },
   "outputs": [
    {
     "name": "stdout",
     "output_type": "stream",
     "text": [
      "CPU times: user 13.5 s, sys: 26.3 ms, total: 13.5 s\n",
      "Wall time: 13.6 s\n"
     ]
    },
    {
     "data": {
      "text/plain": [
       "2170"
      ]
     },
     "execution_count": 31,
     "metadata": {},
     "output_type": "execute_result"
    }
   ],
   "source": [
    "%%time\n",
    "do_part_one('input_data/day_23.txt')"
   ]
  },
  {
   "cell_type": "markdown",
   "id": "fb57e954-d588-406e-9c3c-6d012b1abc0e",
   "metadata": {
    "tags": []
   },
   "source": [
    "# Part 2"
   ]
  },
  {
   "cell_type": "code",
   "execution_count": 46,
   "id": "36db3662-9b8f-4848-8d2a-1b557ffb88c1",
   "metadata": {
    "tags": []
   },
   "outputs": [],
   "source": [
    "class Node:\n",
    "    def __init__(self,loc,steps):\n",
    "        self.loc = tuple(loc)\n",
    "        self.connected ={}\n",
    "        self.steps=steps\n",
    "\n",
    "    def add_connection(self,next_node,steps):\n",
    "        self.connected[next_node.loc] = steps"
   ]
  },
  {
   "cell_type": "code",
   "execution_count": 64,
   "id": "ff4987c5-c2a5-41d3-a1dd-6b01b01e8252",
   "metadata": {
    "tags": []
   },
   "outputs": [],
   "source": [
    "class PathStateV2(PathState):\n",
    "    \n",
    "    def __init__(self,loc,steps,last_node,came_from = None):\n",
    "        PathState.__init__(self,loc,steps,came_from )\n",
    "        self.last_node = last_node\n",
    "        \n",
    "    def give_neighbors(self, forest_map):\n",
    "        neighs=[]\n",
    "        nR,nC = len(forest_map),len(forest_map[0])\n",
    "        \n",
    "        \n",
    "        prev_loc = self.came_from.loc if self.came_from is not None else (-1,-1)\n",
    "            \n",
    "        changes = [ (-1,0), (1,0), (0,1), (0,-1) ]\n",
    "        \n",
    "        for xc in changes:\n",
    "            new_loc = tuple([ i+j for i,j in zip(xc,self.loc)])\n",
    "        \n",
    "            if (new_loc[0] > -1 and new_loc[1] > -1 \n",
    "                and new_loc[0] < nR and new_loc[1] < nC\n",
    "                and new_loc != prev_loc):\n",
    "                \n",
    "                if forest_map[new_loc[0]][new_loc[1]] != '#':\n",
    "                    neighs.append(PathStateV2(new_loc, self.steps+1,self.last_node, came_from=self))\n",
    "        \n",
    "        return neighs\n"
   ]
  },
  {
   "cell_type": "code",
   "execution_count": 123,
   "id": "54d187ab-361e-4f74-8fc8-fcf9f7d483a0",
   "metadata": {
    "tags": []
   },
   "outputs": [],
   "source": [
    "from collections import deque\n",
    "\n",
    "def perform_breadth_first_noslip(forest_map):\n",
    "    frontier = deque()\n",
    "    start = (0,1)\n",
    "    graph ={ start : Node(start,0)}\n",
    "    \n",
    "    frontier.append(PathStateV2(start,0, graph[start]))\n",
    "    \n",
    "    nR, nC = len(forest_map),len(forest_map[0])\n",
    "    end = (nR-1, nC-2)\n",
    "    \n",
    "    graph[end] = Node(end,0)\n",
    "    \n",
    "    while len(frontier) > 0  :\n",
    "        cur_loc = frontier.popleft()\n",
    "        \n",
    "        neighs = cur_loc.give_neighbors(forest_map)\n",
    "        if len(neighs) > 1 :\n",
    "            if cur_loc.loc not in graph.keys():\n",
    "                graph[cur_loc.loc] = Node(cur_loc.loc, cur_loc.steps)\n",
    "        \n",
    "            dist = abs(cur_loc.steps - cur_loc.last_node.steps) \n",
    "            \n",
    "            graph[cur_loc.loc].add_connection(cur_loc.last_node,dist)\n",
    "            graph[cur_loc.last_node.loc].add_connection(graph[cur_loc.loc],dist)\n",
    "            \n",
    "            for n in neighs: \n",
    "                n.last_node = graph[cur_loc.loc]\n",
    "            \n",
    "        for n_loc in neighs:\n",
    "            \n",
    "            if n_loc.loc in graph.keys():\n",
    "                dist = abs(n_loc.steps - n_loc.last_node.steps) \n",
    "                \n",
    "                graph[n_loc.loc].add_connection(n_loc.last_node,dist)\n",
    "                graph[n_loc.last_node.loc].add_connection(graph[n_loc.loc],dist)\n",
    "                \n",
    "            if n_loc.loc not in graph.keys():\n",
    "                frontier.append(n_loc)\n",
    "                    \n",
    "    return graph"
   ]
  },
  {
   "cell_type": "code",
   "execution_count": 124,
   "id": "4a959f1c-075a-4e42-90b3-212c98c2f3a6",
   "metadata": {
    "tags": []
   },
   "outputs": [],
   "source": [
    "def find_max_path(graph, cur_node, visted, end,steps=0):\n",
    "    if cur_node.loc == end:\n",
    "        return steps\n",
    "    \n",
    "    neighs = cur_node.connected.keys()\n",
    "    possible = list(set(neighs) - set(visted))\n",
    "    \n",
    "    if len(possible) > 0 :\n",
    "        return max([ find_max_path(graph, graph[n], visted +[n], end, steps+ cur_node.connected[n]) for n in possible])\n",
    "    else:\n",
    "        return 0"
   ]
  },
  {
   "cell_type": "code",
   "execution_count": 128,
   "id": "05bb3d69-7d9e-4a36-8503-ce7441e7a249",
   "metadata": {
    "tags": []
   },
   "outputs": [],
   "source": [
    "def do_part_two(file_path, show = False):\n",
    "    with open(file_path,'r') as f:\n",
    "        forest_map = [l.strip() for l in f.readlines()]\n",
    "    \n",
    "    graph = perform_breadth_first_noslip(forest_map)\n",
    "    \n",
    "    start = (0,1)\n",
    "    nR, nC = len(forest_map),len(forest_map[0])\n",
    "    end = (nR-1, nC-2)\n",
    "    \n",
    "    max_path = find_max_path(graph, graph[start], [start],end)\n",
    "   \n",
    "    if show : \n",
    "        forest_map = [list(l) for l in forest_map]\n",
    "        for node in graph.keys():\n",
    "            forest_map[node[0]][node[1]] = 'O'\n",
    "            \n",
    "        print('\\n'.join([ ''.join(l) for l in forest_map]))\n",
    "    \n",
    "    \n",
    "    return max_path"
   ]
  },
  {
   "cell_type": "code",
   "execution_count": 129,
   "id": "553ffca9-6633-4533-a62e-99df6f98021d",
   "metadata": {
    "scrolled": true,
    "tags": []
   },
   "outputs": [
    {
     "name": "stdout",
     "output_type": "stream",
     "text": [
      "#O#####################\n",
      "#.......#########...###\n",
      "#######.#########.#.###\n",
      "###.....#.>O>.###.#.###\n",
      "###v#####.#v#.###.#.###\n",
      "###O>...#.#.#.....#...#\n",
      "###v###.#.#.#########.#\n",
      "###...#.#.#.......#...#\n",
      "#####.#.#.#######.#.###\n",
      "#.....#.#.#.......#...#\n",
      "#.#####.#.#.#########v#\n",
      "#.#...#...#...###...>O#\n",
      "#.#.#v#######v###.###v#\n",
      "#...#O>.#...>O>.#.###.#\n",
      "#####v#.#.###v#.#.###.#\n",
      "#.....#...#...#.#.#...#\n",
      "#.#########.###.#.#.###\n",
      "#...###...#...#...#.###\n",
      "###.###.#.###v#####v###\n",
      "#...#...#.#.>O>.#.>O###\n",
      "#.###.###.#.###.#.#v###\n",
      "#.....###...###...#...#\n",
      "#####################O#\n",
      "CPU times: user 3.76 ms, sys: 991 µs, total: 4.75 ms\n",
      "Wall time: 4.01 ms\n"
     ]
    },
    {
     "data": {
      "text/plain": [
       "154"
      ]
     },
     "execution_count": 129,
     "metadata": {},
     "output_type": "execute_result"
    }
   ],
   "source": [
    "%%time\n",
    "do_part_two('input_data/test_23.txt',show=True)\n",
    "           "
   ]
  },
  {
   "cell_type": "code",
   "execution_count": 41,
   "id": "1e69b266-bd37-4af6-99e1-48f061f36f06",
   "metadata": {
    "scrolled": true,
    "tags": []
   },
   "outputs": [
    {
     "name": "stderr",
     "output_type": "stream",
     "text": [
      "\n",
      "KeyboardInterrupt\n",
      "\n"
     ]
    }
   ],
   "source": [
    "%%time\n",
    "do_part_two('input_data/day_23.txt')\n"
   ]
  },
  {
   "cell_type": "code",
   "execution_count": null,
   "id": "be488331-06bf-4a53-aafa-881a7c3a89ac",
   "metadata": {},
   "outputs": [],
   "source": []
  }
 ],
 "metadata": {
  "kernelspec": {
   "display_name": "work_env",
   "language": "python",
   "name": "work_env"
  },
  "language_info": {
   "codemirror_mode": {
    "name": "ipython",
    "version": 3
   },
   "file_extension": ".py",
   "mimetype": "text/x-python",
   "name": "python",
   "nbconvert_exporter": "python",
   "pygments_lexer": "ipython3",
   "version": "3.11.6"
  }
 },
 "nbformat": 4,
 "nbformat_minor": 5
}
