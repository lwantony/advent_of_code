{
 "cells": [
  {
   "cell_type": "code",
   "execution_count": 1,
   "id": "2efe433c-ccbf-4b0a-8653-f0824059fd6f",
   "metadata": {
    "tags": []
   },
   "outputs": [],
   "source": [
    "from IPython.core.interactiveshell import InteractiveShell\n",
    "InteractiveShell.ast_node_interactivity = \"all\""
   ]
  },
  {
   "cell_type": "markdown",
   "id": "ff944d02-8a60-417e-888a-54e4e5141bbf",
   "metadata": {
    "tags": []
   },
   "source": [
    "# Part 1"
   ]
  },
  {
   "cell_type": "code",
   "execution_count": 11,
   "id": "dffa102e-63a7-4c57-8cb8-950dd7869748",
   "metadata": {
    "tags": []
   },
   "outputs": [],
   "source": [
    "def find_reflection_points(line, reflect_pts=None ):\n",
    "    \n",
    "    def check_reflection(line, idx):\n",
    "        front_ref = line[:idx][::-1]\n",
    "        back = line[idx:]\n",
    "        s_len = min( len(front_ref), len(back))\n",
    "        return front_ref[:s_len] == back[:s_len]\n",
    "    \n",
    "    if reflect_pts is None:\n",
    "        reflect_pts = []\n",
    "        for i in range(1,len(line)):\n",
    "            if check_reflection(line,i):\n",
    "                reflect_pts.append(i)\n",
    "        return reflect_pts\n",
    "    new_pts =[]\n",
    "    while len(reflect_pts) > 0 : \n",
    "        i = reflect_pts.pop()\n",
    "        if check_reflection(line,i):\n",
    "            new_pts.append(i)\n",
    "    return new_pts\n",
    "        "
   ]
  },
  {
   "cell_type": "code",
   "execution_count": 17,
   "id": "36732c13-1949-4d95-b67d-751d40f6c9a7",
   "metadata": {
    "tags": []
   },
   "outputs": [],
   "source": [
    "def process_image(image_grid):\n",
    "    # check for vertical reflection\n",
    "    reflect_pts = find_reflection_points( image_grid[0]) \n",
    "    if len(reflect_pts) > 0 :\n",
    "        for row in image_grid[1:]:\n",
    "            reflect_pts = find_reflection_points(row, reflect_pts)\n",
    "            if len(reflect_pts) < 1 :\n",
    "                break\n",
    "    \n",
    "    #check horizontal\n",
    "    \n",
    "    col=''.join([ r[0] for r in image_grid])\n",
    "    col_pts = find_reflection_points(col ) \n",
    "    if len(col_pts) > 0 :\n",
    "        for c in range(1,len(image_grid[0])):\n",
    "            col=''.join([ r[c] for r in image_grid])\n",
    "            col_pts = find_reflection_points(col, col_pts)\n",
    "            if len(col_pts) < 1 :\n",
    "                break\n",
    "    score =0\n",
    "#    print(reflect_pts, col_pts)\n",
    "    for c in reflect_pts:\n",
    "        score+=c\n",
    "    for r in col_pts:\n",
    "        score+=100*r\n",
    "    return score"
   ]
  },
  {
   "cell_type": "code",
   "execution_count": 33,
   "id": "217dc9e1-32ac-4ddb-bbc2-009982ba4390",
   "metadata": {
    "tags": []
   },
   "outputs": [],
   "source": [
    "def locate_differences(line, ref):\n",
    "    front_ref = line[:ref][::-1]\n",
    "    back = line[ref:]\n",
    "    s_len = min( len(front_ref), len(back))\n",
    "    dif = sum( [ i!=j for i,j in zip(front_ref[:s_len],back[:s_len]) ])\n",
    "    return dif == 1\n",
    "\n",
    "def find_smudge(image_grid):\n",
    "    # check for vertical reflection\n",
    "    r_counts = {}\n",
    "    for ir, row in enumerate(image_grid):\n",
    "        reflect_pts = find_reflection_points(row)\n",
    "        for r in reflect_pts:\n",
    "            try: \n",
    "                r_counts[r].append(ir)\n",
    "            except:\n",
    "                r_counts[r] =[ir]\n",
    "    new_reflect=[]\n",
    "    r_total = len(image_grid)\n",
    "    for ref, rows in r_counts.items():\n",
    "        if len(rows) == r_total-1:\n",
    "            missing = set(range(r_total))-set(rows)\n",
    "            ridx = list(missing)[0]\n",
    "            if locate_differences( image_grid[ridx], ref):\n",
    "                new_reflect.append(ref)\n",
    "            \n",
    "    \n",
    "    #check horizontal\n",
    "    c_counts={}\n",
    "    for c in range(len(image_grid[0])):\n",
    "        col=''.join([ r[c] for r in image_grid])\n",
    "        col_pts = find_reflection_points(col)\n",
    "        for ic in col_pts:\n",
    "            try: \n",
    "                c_counts[ic].append(c)\n",
    "            except:\n",
    "                c_counts[ic] =[c]\n",
    "                \n",
    "    col_reflect=[]\n",
    "    c_total = len(image_grid[0])\n",
    "    for ref, cols in c_counts.items():\n",
    "        if len(cols) == c_total-1:\n",
    "            missing = set(range(c_total))-set(cols)\n",
    "            cidx = list(missing)[0]\n",
    "            \n",
    "            col=''.join([ r[cidx] for r in image_grid])\n",
    "            \n",
    "            if locate_differences( col, ref):\n",
    "                col_reflect.append(ref)\n",
    "        \n",
    "    score =0\n",
    "#    print(reflect_pts, col_pts)\n",
    "    for c in new_reflect:\n",
    "        score+=c\n",
    "    for r in col_reflect:\n",
    "        score+=100*r\n",
    "    return score"
   ]
  },
  {
   "cell_type": "code",
   "execution_count": 34,
   "id": "3be9e68d-9124-41f2-95f0-468444d0f98e",
   "metadata": {
    "tags": []
   },
   "outputs": [],
   "source": [
    "def do_part_one(file_path):\n",
    "    \n",
    "    images=[]\n",
    "    with open(file_path,'r') as f:\n",
    "        image =[]\n",
    "        for line in f.readlines():\n",
    "            line =line.strip()\n",
    "            if len(line) < 2:\n",
    "                images.append(image.copy())\n",
    "                image = []\n",
    "            else:\n",
    "                image.append(line)\n",
    "        images.append(image)\n",
    "        \n",
    "    total = 0\n",
    "    for im in images:\n",
    "        total+=process_image(im)\n",
    "    return total"
   ]
  },
  {
   "cell_type": "code",
   "execution_count": 19,
   "id": "c0f07f59-ae05-4bf1-b809-3ff543222d31",
   "metadata": {
    "scrolled": true,
    "tags": []
   },
   "outputs": [
    {
     "name": "stdout",
     "output_type": "stream",
     "text": [
      "CPU times: user 12.9 ms, sys: 1.96 ms, total: 14.8 ms\n",
      "Wall time: 13 ms\n"
     ]
    },
    {
     "data": {
      "text/plain": [
       "27505"
      ]
     },
     "execution_count": 19,
     "metadata": {},
     "output_type": "execute_result"
    }
   ],
   "source": [
    "%%time\n",
    "do_part_one('input_data/day_13.txt')"
   ]
  },
  {
   "cell_type": "markdown",
   "id": "fb57e954-d588-406e-9c3c-6d012b1abc0e",
   "metadata": {},
   "source": [
    "# Part 2"
   ]
  },
  {
   "cell_type": "code",
   "execution_count": 35,
   "id": "e7a5c410-90b2-4275-9348-f71ea6046bfb",
   "metadata": {
    "tags": []
   },
   "outputs": [],
   "source": [
    "def do_part_two(file_path):\n",
    "    \n",
    "    images=[]\n",
    "    with open(file_path,'r') as f:\n",
    "        image =[]\n",
    "        for line in f.readlines():\n",
    "            line =line.strip()\n",
    "            if len(line) < 2:\n",
    "                images.append(image.copy())\n",
    "                image = []\n",
    "            else:\n",
    "                image.append(line)\n",
    "        images.append(image)\n",
    "        \n",
    "    total = 0\n",
    "    for im in images:\n",
    "        total+=find_smudge(im)\n",
    "    return total"
   ]
  },
  {
   "cell_type": "code",
   "execution_count": 37,
   "id": "553ffca9-6633-4533-a62e-99df6f98021d",
   "metadata": {
    "scrolled": true,
    "tags": []
   },
   "outputs": [
    {
     "name": "stdout",
     "output_type": "stream",
     "text": [
      "CPU times: user 34.8 ms, sys: 2.59 ms, total: 37.4 ms\n",
      "Wall time: 37.4 ms\n"
     ]
    },
    {
     "data": {
      "text/plain": [
       "22906"
      ]
     },
     "execution_count": 37,
     "metadata": {},
     "output_type": "execute_result"
    }
   ],
   "source": [
    "%%time\n",
    "do_part_two('input_data/day_13.txt')"
   ]
  },
  {
   "cell_type": "code",
   "execution_count": null,
   "id": "2ac51a82-a6d3-43ef-ab77-e26ffd4d5dae",
   "metadata": {},
   "outputs": [],
   "source": []
  }
 ],
 "metadata": {
  "kernelspec": {
   "display_name": "work_env",
   "language": "python",
   "name": "work_env"
  },
  "language_info": {
   "codemirror_mode": {
    "name": "ipython",
    "version": 3
   },
   "file_extension": ".py",
   "mimetype": "text/x-python",
   "name": "python",
   "nbconvert_exporter": "python",
   "pygments_lexer": "ipython3",
   "version": "3.11.6"
  }
 },
 "nbformat": 4,
 "nbformat_minor": 5
}
