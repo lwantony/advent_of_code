{
 "cells": [
  {
   "cell_type": "code",
   "execution_count": 1,
   "id": "2efe433c-ccbf-4b0a-8653-f0824059fd6f",
   "metadata": {
    "tags": []
   },
   "outputs": [],
   "source": [
    "from IPython.core.interactiveshell import InteractiveShell\n",
    "InteractiveShell.ast_node_interactivity = \"all\""
   ]
  },
  {
   "cell_type": "markdown",
   "id": "ff944d02-8a60-417e-888a-54e4e5141bbf",
   "metadata": {
    "tags": []
   },
   "source": [
    "# Part 1"
   ]
  },
  {
   "cell_type": "raw",
   "id": "b49431b2-ebc4-42d2-8a1e-8f6810512a9d",
   "metadata": {
    "tags": []
   },
   "source": [
    "from collections import deque\n",
    "from copy import deepcopy\n",
    "\n",
    "class Partitioning:\n",
    "    def __init__(self,graph,start_node=None):\n",
    "        \n",
    "        if start_node is None:\n",
    "            test_node = list(graph.keys())[0]\n",
    "            distances = calculate_distance(test_node, graph)\n",
    "            max_dist = max( distances.values())\n",
    "            for n, d in distances.items():\n",
    "                if d == max_dist:\n",
    "                    start_node = n\n",
    "                    break\n",
    "            \n",
    "        self.group = [ start_node ]\n",
    "        self.graph = graph\n",
    "    \n",
    "    def connected_nodes_out(self):\n",
    "        graph = self.graph\n",
    "        union = set([])\n",
    "        for n in self.group:\n",
    "            union = union.union(graph[n])\n",
    "        \n",
    "        n_out = list( union - set(self.group) )\n",
    "        \n",
    "        return n_out\n",
    "    \n",
    "    def add_node(self, new_node):\n",
    "        self.group.append(new_node)\n",
    "        \n",
    "        \n",
    "\n",
    "def get_cut(graph,start=None):\n",
    "    init_part = Partitioning(graph,start_node=start)\n",
    "    frontier = deque([init_part])\n",
    "    \n",
    "    seen = []\n",
    "    while len(frontier) > 0 :\n",
    "        cur = frontier.popleft()\n",
    "        outer = cur.connected_nodes_out()\n",
    "        if len(outer) == 3:\n",
    "            return cur\n",
    "        \n",
    "        \n",
    "        for neigh in outer:\n",
    "            new_part = deepcopy(cur)\n",
    "            new_part.add_node(neigh)\n",
    "            \n",
    "            if set(new_part.group) not in seen: \n",
    "            \n",
    "                frontier.append(new_part)\n",
    "                seen.append(set(new_part.group))\n",
    "            \n",
    "    return "
   ]
  },
  {
   "cell_type": "code",
   "execution_count": 2,
   "id": "76d59960-d7fe-4c9d-8d1e-a73896c9e460",
   "metadata": {
    "tags": []
   },
   "outputs": [],
   "source": [
    "from collections import deque\n",
    "def calculate_distance(node, graph):\n",
    "    start =(node, 0)\n",
    "    frontier = deque([ start])\n",
    "    \n",
    "    distances = {}\n",
    "    while len(frontier) > 0 :\n",
    "        cur, steps = frontier.popleft()\n",
    "        for neigh in graph[cur]:\n",
    "            if neigh not in distances.keys():\n",
    "                distances[neigh] = steps+1\n",
    "                frontier.append((neigh,steps+1))\n",
    "    return distances\n",
    "    "
   ]
  },
  {
   "cell_type": "code",
   "execution_count": 39,
   "id": "3be9e68d-9124-41f2-95f0-468444d0f98e",
   "metadata": {
    "tags": []
   },
   "outputs": [],
   "source": [
    "import networkx as nx\n",
    "def do_part_one(file_path):\n",
    "    \n",
    "    connectors ={}\n",
    "    with open(file_path,'r') as f:\n",
    "        for line in f.readlines():\n",
    "            line = line.strip()\n",
    "            node, ends = line.split(':')\n",
    "            ends = set(ends.strip().split())\n",
    "            \n",
    "            if node in connectors.keys():\n",
    "                connectors[node] = connectors[node].union(ends)\n",
    "            else:\n",
    "                connectors[node] = ends\n",
    "            \n",
    "            for e in list(ends):\n",
    "                if e in connectors.keys():\n",
    "                    connectors[e].add(node)\n",
    "                else:\n",
    "                    connectors[e] = set([ node])\n",
    "        \n",
    "    graph = nx.from_dict_of_lists(connectors)\n",
    "    nx.set_edge_attributes(graph, 1, 'capacity')\n",
    "    \n",
    "    ### take a source and sink far apart\n",
    "    start = list(calculate_distance(list(connectors.keys())[0], connectors).keys())[-1]\n",
    "    end = list(calculate_distance(start, connectors).keys())[-1]\n",
    "    \n",
    "    cut, partitions = nx.minimum_cut(graph, start,end)\n",
    "    \n",
    "    return len(partitions[0])*len(partitions[1])"
   ]
  },
  {
   "cell_type": "code",
   "execution_count": 40,
   "id": "c0f07f59-ae05-4bf1-b809-3ff543222d31",
   "metadata": {
    "scrolled": true,
    "tags": []
   },
   "outputs": [
    {
     "name": "stdout",
     "output_type": "stream",
     "text": [
      "CPU times: user 2.69 ms, sys: 544 µs, total: 3.23 ms\n",
      "Wall time: 2.93 ms\n"
     ]
    },
    {
     "data": {
      "text/plain": [
       "54"
      ]
     },
     "execution_count": 40,
     "metadata": {},
     "output_type": "execute_result"
    }
   ],
   "source": [
    "%%time\n",
    "do_part_one('input_data/test_25.txt')\n"
   ]
  },
  {
   "cell_type": "code",
   "execution_count": 41,
   "id": "a5d866a7-a349-4f04-964b-50129720b8fb",
   "metadata": {
    "scrolled": true,
    "tags": []
   },
   "outputs": [
    {
     "name": "stdout",
     "output_type": "stream",
     "text": [
      "CPU times: user 51.4 ms, sys: 2.9 ms, total: 54.3 ms\n",
      "Wall time: 53.5 ms\n"
     ]
    },
    {
     "data": {
      "text/plain": [
       "543834"
      ]
     },
     "execution_count": 41,
     "metadata": {},
     "output_type": "execute_result"
    }
   ],
   "source": [
    "%%time\n",
    "do_part_one('input_data/day_25.txt')"
   ]
  },
  {
   "cell_type": "code",
   "execution_count": 35,
   "id": "41c1b8c1-d82f-4ba3-b2d3-2ba7e93c82f4",
   "metadata": {
    "tags": []
   },
   "outputs": [],
   "source": [
    "import sympy as sp\n",
    "\n",
    "def find_rock_path(hailstones):\n",
    "    \n",
    "    unknowns = sp.symbols('X, Y, Z, vx, vy, vz, t1, t2, t3')\n",
    "    \n",
    "    pos = unknowns[:3]\n",
    "    vel = unknowns[3:6]\n",
    "    times = unknowns[6:]\n",
    "    \n",
    "    equations = []\n",
    "    for i,stone in enumerate(hailstones[:3]):\n",
    "        stone_pos = stone.position\n",
    "        stone_vel = stone.velocity\n",
    "        for x in range(3):\n",
    "            equations.append(sp.Eq(pos[x] + vel[x]*times[i], \n",
    "                                   stone_pos[x] + stone_vel[x]*times[i])\n",
    "                            )\n",
    "    \n",
    "    \n",
    "    solution = sp.solve(equations, unknowns).pop()\n",
    "    \n",
    "    return sum(solution[:3]) "
   ]
  },
  {
   "cell_type": "code",
   "execution_count": 36,
   "id": "747f56f0-ec1e-4d76-8329-8fda6fedd252",
   "metadata": {
    "tags": []
   },
   "outputs": [],
   "source": [
    "import numpy as np\n",
    "def do_part_two(file_path):\n",
    "    \n",
    "    with open(file_path,'r') as f:\n",
    "        hailstones = [HailStone(l)  for l in f.readlines()]\n",
    "        \n",
    "    sum_pos = find_rock_path(hailstones)\n",
    "    return sum_pos"
   ]
  },
  {
   "cell_type": "code",
   "execution_count": 37,
   "id": "553ffca9-6633-4533-a62e-99df6f98021d",
   "metadata": {
    "scrolled": true,
    "tags": []
   },
   "outputs": [
    {
     "name": "stdout",
     "output_type": "stream",
     "text": [
      "CPU times: user 139 ms, sys: 17.5 ms, total: 156 ms\n",
      "Wall time: 182 ms\n"
     ]
    },
    {
     "data": {
      "text/latex": [
       "$\\displaystyle 47$"
      ],
      "text/plain": [
       "47"
      ]
     },
     "execution_count": 37,
     "metadata": {},
     "output_type": "execute_result"
    }
   ],
   "source": [
    "%%time\n",
    "do_part_two('input_data/test_24.txt')\n",
    "           "
   ]
  },
  {
   "cell_type": "code",
   "execution_count": 38,
   "id": "1e69b266-bd37-4af6-99e1-48f061f36f06",
   "metadata": {
    "scrolled": true,
    "tags": []
   },
   "outputs": [
    {
     "name": "stdout",
     "output_type": "stream",
     "text": [
      "CPU times: user 69.6 ms, sys: 3.06 ms, total: 72.6 ms\n",
      "Wall time: 74 ms\n"
     ]
    },
    {
     "data": {
      "text/latex": [
       "$\\displaystyle 571093786416929$"
      ],
      "text/plain": [
       "571093786416929"
      ]
     },
     "execution_count": 38,
     "metadata": {},
     "output_type": "execute_result"
    }
   ],
   "source": [
    "%%time\n",
    "do_part_two('input_data/day_24.txt')"
   ]
  },
  {
   "cell_type": "code",
   "execution_count": null,
   "id": "be488331-06bf-4a53-aafa-881a7c3a89ac",
   "metadata": {},
   "outputs": [],
   "source": []
  }
 ],
 "metadata": {
  "kernelspec": {
   "display_name": "work_env",
   "language": "python",
   "name": "work_env"
  },
  "language_info": {
   "codemirror_mode": {
    "name": "ipython",
    "version": 3
   },
   "file_extension": ".py",
   "mimetype": "text/x-python",
   "name": "python",
   "nbconvert_exporter": "python",
   "pygments_lexer": "ipython3",
   "version": "3.11.6"
  }
 },
 "nbformat": 4,
 "nbformat_minor": 5
}
