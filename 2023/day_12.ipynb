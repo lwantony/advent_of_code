{
 "cells": [
  {
   "cell_type": "code",
   "execution_count": 1,
   "id": "2efe433c-ccbf-4b0a-8653-f0824059fd6f",
   "metadata": {
    "tags": []
   },
   "outputs": [],
   "source": [
    "from IPython.core.interactiveshell import InteractiveShell\n",
    "InteractiveShell.ast_node_interactivity = \"all\""
   ]
  },
  {
   "cell_type": "markdown",
   "id": "ff944d02-8a60-417e-888a-54e4e5141bbf",
   "metadata": {},
   "source": [
    "# Part 1"
   ]
  },
  {
   "cell_type": "code",
   "execution_count": 2,
   "id": "57ad74fc-dea1-466e-abcd-56e0a505736a",
   "metadata": {
    "tags": []
   },
   "outputs": [],
   "source": [
    "def process_damage_log(log_line):\n",
    "    springs, contig = log_line.split()\n",
    "    contig = [ int(i) for i in contig.split(',')]\n",
    "    unknown = []\n",
    "    for i,c in enumerate(springs):\n",
    "        if c == '?':\n",
    "            unknown.append(i)\n",
    "    return springs, unknown, contig"
   ]
  },
  {
   "cell_type": "code",
   "execution_count": 3,
   "id": "618c9535-b022-4ff3-a17c-c9443afe2bc8",
   "metadata": {
    "tags": []
   },
   "outputs": [],
   "source": [
    "def calculate_continguous(spring):\n",
    "    groups=[]\n",
    "    in_group=False\n",
    "    cnt=0\n",
    "    for c in spring:\n",
    "        if c == '#' and not in_group:\n",
    "            cnt=1\n",
    "            in_group =True\n",
    "        elif c == '#' and in_group:\n",
    "            cnt+=1\n",
    "        elif c == '.' and in_group:\n",
    "            groups.append(cnt)\n",
    "            cnt=0\n",
    "            in_group =False\n",
    "    if cnt >0:\n",
    "        groups.append(cnt)\n",
    "    return groups"
   ]
  },
  {
   "cell_type": "code",
   "execution_count": 4,
   "id": "c5220d09-ca94-41b8-a1b7-d585d82cbc1d",
   "metadata": {
    "tags": []
   },
   "outputs": [],
   "source": [
    "from itertools import combinations\n",
    "\n",
    "def produce_trial_configs(springs, unknown, contig):\n",
    "    n_needed = sum(contig) - sum([ i=='#' for i in springs])\n",
    "    valid_ways=0\n",
    "    for switch in combinations(unknown, n_needed):\n",
    "        trial_string = springs\n",
    "        for c in switch:\n",
    "            trial_string = trial_string[:c]+'#'+trial_string[c+1:]\n",
    "        trial_string = trial_string.replace('?','.')\n",
    "#        print(trial_string, calculate_continguous(trial_string))\n",
    "        if tuple(contig) == tuple(calculate_continguous(trial_string)):\n",
    "            valid_ways+=1\n",
    "        \n",
    "    return valid_ways"
   ]
  },
  {
   "cell_type": "code",
   "execution_count": 5,
   "id": "a4e58a92-9e8c-49b7-a43a-a8cbc25d72b0",
   "metadata": {
    "tags": []
   },
   "outputs": [
    {
     "data": {
      "text/plain": [
       "1"
      ]
     },
     "execution_count": 5,
     "metadata": {},
     "output_type": "execute_result"
    }
   ],
   "source": [
    "test='???.### 1,1,3'\n",
    "spring, unk, contig=process_damage_log(test)\n",
    "produce_trial_configs(spring, unk, contig)"
   ]
  },
  {
   "cell_type": "code",
   "execution_count": 6,
   "id": "3be9e68d-9124-41f2-95f0-468444d0f98e",
   "metadata": {
    "tags": []
   },
   "outputs": [],
   "source": [
    "def do_part_one(file_path):\n",
    "    \n",
    "    with open(file_path,'r') as f:\n",
    "        spring_log = [ line.strip() for line in f.readlines()]\n",
    "\n",
    "    ways=0\n",
    "    for proc_line in spring_log:\n",
    "        spring, unk, contig = process_damage_log(proc_line)\n",
    "        cur_ways = produce_trial_configs(spring, unk, contig)\n",
    "#        print(spring, unk, contig,cur_ways)\n",
    "        ways+=cur_ways\n",
    "        \n",
    "    print(ways)"
   ]
  },
  {
   "cell_type": "code",
   "execution_count": 7,
   "id": "c0f07f59-ae05-4bf1-b809-3ff543222d31",
   "metadata": {
    "scrolled": true,
    "tags": []
   },
   "outputs": [
    {
     "name": "stdout",
     "output_type": "stream",
     "text": [
      "7653\n",
      "CPU times: user 1.55 s, sys: 1.9 ms, total: 1.55 s\n",
      "Wall time: 1.56 s\n"
     ]
    }
   ],
   "source": [
    "%%time\n",
    "do_part_one('input_data/day_12.txt')"
   ]
  },
  {
   "cell_type": "markdown",
   "id": "fb57e954-d588-406e-9c3c-6d012b1abc0e",
   "metadata": {},
   "source": [
    "# Part 2"
   ]
  },
  {
   "cell_type": "code",
   "execution_count": 68,
   "id": "e951570d-ed42-43f8-9959-50ac8b7e6d40",
   "metadata": {
    "tags": []
   },
   "outputs": [],
   "source": [
    "from functools import cache\n",
    "def check_if_block(spring_data, blocks):\n",
    "    size = blocks[0]\n",
    "    obs = sum([ c !='.' for c in spring_data[:size] ])\n",
    "    if len(spring_data) == size:\n",
    "        return (obs == size)\n",
    "    return (obs == size) and ( spring_data[size] != '#')\n",
    "\n",
    "@cache\n",
    "def trial_configs_recursive(springs, contig):\n",
    "    \n",
    "    total_needed = sum(contig) \n",
    "    known = sum([ c=='#' for c in springs])\n",
    "    possible = sum([ c!='.' for c in springs])\n",
    "    \n",
    "    if total_needed <  known or possible < total_needed:\n",
    "        return 0 \n",
    "    if total_needed ==0 or len(contig) == 0:\n",
    "        return 1\n",
    "    \n",
    "    if springs[0] == '.': \n",
    "        return trial_configs_recursive(springs[1:], contig)\n",
    "    \n",
    "    if springs[0] == '#': \n",
    "        if check_if_block( springs, contig):\n",
    "            size = contig[0]\n",
    "            if len(springs) == size:\n",
    "                return 1 \n",
    "            else:\n",
    "                return trial_configs_recursive(springs[size+1:], tuple(contig[1:]))\n",
    "        else:\n",
    "            return 0\n",
    "        \n",
    "    new_spring = '#'+springs[1:]\n",
    "    return trial_configs_recursive(springs[1:],contig) + trial_configs_recursive(new_spring,contig)\n",
    "    \n",
    "\n",
    "def do_part_two(file_path):\n",
    "    \n",
    "    with open(file_path,'r') as f:\n",
    "        spring_log = [ line.strip() for line in f.readlines()]\n",
    "\n",
    "    ways=0\n",
    "    for proc_line in spring_log:\n",
    "        springs, unk, contig = process_damage_log(proc_line)\n",
    "        \n",
    "        springs = '?'.join([springs]*5)\n",
    "        contig = tuple((contig*5).copy())\n",
    "        \n",
    "        springs = springs.strip('.')\n",
    "        cur_ways = trial_configs_recursive(springs,contig)\n",
    "        ways+= cur_ways\n",
    "        \n",
    "    print('\\n',ways)"
   ]
  },
  {
   "cell_type": "code",
   "execution_count": 69,
   "id": "553ffca9-6633-4533-a62e-99df6f98021d",
   "metadata": {
    "scrolled": true,
    "tags": []
   },
   "outputs": [
    {
     "name": "stdout",
     "output_type": "stream",
     "text": [
      "\n",
      " 60681419004564\n",
      "CPU times: user 962 ms, sys: 9.1 ms, total: 971 ms\n",
      "Wall time: 973 ms\n"
     ]
    }
   ],
   "source": [
    "%%time\n",
    "do_part_two('input_data/day_12.txt')"
   ]
  },
  {
   "cell_type": "code",
   "execution_count": null,
   "id": "2ac51a82-a6d3-43ef-ab77-e26ffd4d5dae",
   "metadata": {},
   "outputs": [],
   "source": []
  }
 ],
 "metadata": {
  "kernelspec": {
   "display_name": "work_env",
   "language": "python",
   "name": "work_env"
  },
  "language_info": {
   "codemirror_mode": {
    "name": "ipython",
    "version": 3
   },
   "file_extension": ".py",
   "mimetype": "text/x-python",
   "name": "python",
   "nbconvert_exporter": "python",
   "pygments_lexer": "ipython3",
   "version": "3.11.6"
  }
 },
 "nbformat": 4,
 "nbformat_minor": 5
}
