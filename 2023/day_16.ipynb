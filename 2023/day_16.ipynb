{
 "cells": [
  {
   "cell_type": "code",
   "execution_count": 1,
   "id": "2efe433c-ccbf-4b0a-8653-f0824059fd6f",
   "metadata": {
    "tags": []
   },
   "outputs": [],
   "source": [
    "from IPython.core.interactiveshell import InteractiveShell\n",
    "InteractiveShell.ast_node_interactivity = \"all\""
   ]
  },
  {
   "cell_type": "markdown",
   "id": "ff944d02-8a60-417e-888a-54e4e5141bbf",
   "metadata": {
    "tags": []
   },
   "source": [
    "# Part 1"
   ]
  },
  {
   "cell_type": "code",
   "execution_count": 16,
   "id": "2870f70f-fcea-42ef-a81e-77cc0aa4e248",
   "metadata": {
    "tags": []
   },
   "outputs": [],
   "source": [
    "import numpy as np\n",
    "from copy import deepcopy"
   ]
  },
  {
   "cell_type": "code",
   "execution_count": 32,
   "id": "f432163c-6345-4667-a575-3800990cd5fc",
   "metadata": {
    "tags": []
   },
   "outputs": [],
   "source": [
    "class Beam:\n",
    "    def __init__(self,row,col, direction):\n",
    "        self.row = row\n",
    "        self.col = col\n",
    "        self.direction = direction\n",
    "    \n",
    "    def move(self):\n",
    "        if self.direction == '^':\n",
    "            self.row -= 1\n",
    "        elif self.direction == 'v':\n",
    "            self.row += 1\n",
    "        elif self.direction == '>':\n",
    "            self.col += 1\n",
    "        elif self.direction == '<':\n",
    "            self.col -= 1\n",
    "        return self.row, self.col"
   ]
  },
  {
   "cell_type": "code",
   "execution_count": 85,
   "id": "e2d19a41-09a6-4162-8993-6cc3962d9967",
   "metadata": {
    "tags": []
   },
   "outputs": [],
   "source": [
    "def explore_cave(cave, start_row=0, start_col=-1, start_dir = '>'):\n",
    "    nR,nC = len(cave), len(cave[0])\n",
    "    energized = np.zeros((len(cave),len(cave[0])))\n",
    "    \n",
    "    beams = [ Beam(start_row,start_col,start_dir) ]\n",
    "   \n",
    "    seen = []\n",
    "    while len(beams) > 0:\n",
    "        new_beams = []\n",
    "        for b in beams:\n",
    "            obs = f'{b.row}_{b.col}_{b.direction}'\n",
    "            if obs in seen:\n",
    "                continue\n",
    "            seen.append(obs)\n",
    "            \n",
    "            r,c = b.move()\n",
    "            \n",
    "            if (r < 0 or c < 0 or r == nR or c == nC) :\n",
    "                continue\n",
    "                \n",
    "            energized[r][c] = 1\n",
    "            char = cave[r][c] \n",
    "            \n",
    "            if b.direction == '>' and char == '\\\\':\n",
    "                b.direction = 'v'\n",
    "            elif b.direction == '>' and char == '/':\n",
    "                b.direction = '^'\n",
    "            elif b.direction == '<' and char == '/':\n",
    "                b.direction = 'v'\n",
    "            elif b.direction == '<' and char == '\\\\':\n",
    "                b.direction = '^'\n",
    "                \n",
    "            elif b.direction == '^' and char == '\\\\':\n",
    "                b.direction = '<'\n",
    "            elif b.direction == 'v' and char == '\\\\':\n",
    "                b.direction = '>'\n",
    "            elif b.direction == '^' and char == '/':\n",
    "                b.direction = '>'\n",
    "            elif b.direction == 'v' and char == '/':\n",
    "                b.direction = '<'\n",
    "                \n",
    "                \n",
    "            if char == '|' and b.direction in ['>','<']:\n",
    "                new_beams.append(Beam(r,c,'v'))\n",
    "                new_beams.append(Beam(r,c,'^'))\n",
    "                                     \n",
    "            elif char == '-' and b.direction in ['^','v']:\n",
    "                new_beams.append(Beam(r,c,'>'))\n",
    "                new_beams.append(Beam(r,c,'<'))\n",
    "            else:\n",
    "                \n",
    "                new_beams.append(b)\n",
    "        beams = deepcopy(new_beams)\n",
    "\n",
    "    #print('\\n'.join([ ''.join( ['#' if i==1 else '.' for i in row]) for row in energized]))\n",
    "        \n",
    "    return int(energized.sum())\n"
   ]
  },
  {
   "cell_type": "code",
   "execution_count": 80,
   "id": "3be9e68d-9124-41f2-95f0-468444d0f98e",
   "metadata": {
    "tags": []
   },
   "outputs": [],
   "source": [
    "def do_part_one(file_path):\n",
    "    with open(file_path,'r') as f:\n",
    "        cave = [list(l.strip()) for l in f.readlines()]\n",
    "        \n",
    "    return explore_cave(cave)"
   ]
  },
  {
   "cell_type": "code",
   "execution_count": 81,
   "id": "c0f07f59-ae05-4bf1-b809-3ff543222d31",
   "metadata": {
    "scrolled": true,
    "tags": []
   },
   "outputs": [
    {
     "name": "stdout",
     "output_type": "stream",
     "text": [
      "CPU times: user 649 ms, sys: 2.76 ms, total: 652 ms\n",
      "Wall time: 659 ms\n"
     ]
    },
    {
     "data": {
      "text/plain": [
       "7632"
      ]
     },
     "execution_count": 81,
     "metadata": {},
     "output_type": "execute_result"
    }
   ],
   "source": [
    "%%time\n",
    "do_part_one('input_data/day_16.txt')"
   ]
  },
  {
   "cell_type": "code",
   "execution_count": 56,
   "id": "2fc6d2b9-3255-4a7a-b439-f914a30a23d3",
   "metadata": {
    "tags": []
   },
   "outputs": [],
   "source": [
    "\n",
    "with open('input_data/test_16.txt','r') as f:\n",
    "    cave = [list(l.strip()) for l in f.readlines()]"
   ]
  },
  {
   "cell_type": "code",
   "execution_count": 57,
   "id": "f605c57f-c476-4b41-874f-665f1a1dbdc3",
   "metadata": {
    "tags": []
   },
   "outputs": [
    {
     "name": "stdout",
     "output_type": "stream",
     "text": [
      ".|...\\....\n",
      "|.-.\\.....\n",
      ".....|-...\n",
      "........|.\n",
      "..........\n",
      ".........\\\n",
      "..../.\\\\..\n",
      ".-.-/..|..\n",
      ".|....-|.\\\n",
      "..//.|....\n"
     ]
    }
   ],
   "source": [
    "print('\\n'.join([''.join(row) for row in cave]))"
   ]
  },
  {
   "cell_type": "markdown",
   "id": "fb57e954-d588-406e-9c3c-6d012b1abc0e",
   "metadata": {},
   "source": [
    "# Part 2"
   ]
  },
  {
   "cell_type": "code",
   "execution_count": 86,
   "id": "adfca88b-ad57-496d-9633-7d131f87233d",
   "metadata": {
    "tags": []
   },
   "outputs": [],
   "source": [
    "def do_part_two(file_path):\n",
    "    with open(file_path,'r') as f:\n",
    "        cave = [list(l.strip()) for l in f.readlines()]\n",
    "        \n",
    "    pos_energize=[]\n",
    "    nR,nC = len(cave),len(cave[0])\n",
    "    for c in range(nC):\n",
    "        sum_ener = explore_cave(cave, -1, c, start_dir = 'v')\n",
    "        pos_energize.append(sum_ener)\n",
    "        sum_ener = explore_cave(cave, nR, c, start_dir = '^')\n",
    "        pos_energize.append(sum_ener)\n",
    "    \n",
    "    for r in range(nR):\n",
    "        pos_energize.append(explore_cave(cave, r, -1, start_dir = '>'))\n",
    "        pos_energize.append(explore_cave(cave, r, nC, start_dir = '<'))\n",
    "        \n",
    "    return max(pos_energize)"
   ]
  },
  {
   "cell_type": "code",
   "execution_count": 88,
   "id": "553ffca9-6633-4533-a62e-99df6f98021d",
   "metadata": {
    "scrolled": true,
    "tags": []
   },
   "outputs": [
    {
     "name": "stdout",
     "output_type": "stream",
     "text": [
      "CPU times: user 2min 54s, sys: 21.9 ms, total: 2min 54s\n",
      "Wall time: 2min 54s\n"
     ]
    },
    {
     "data": {
      "text/plain": [
       "8023"
      ]
     },
     "execution_count": 88,
     "metadata": {},
     "output_type": "execute_result"
    }
   ],
   "source": [
    "%%time\n",
    "do_part_two('input_data/day_16.txt')\n",
    "           "
   ]
  },
  {
   "cell_type": "code",
   "execution_count": null,
   "id": "3b84b0f7-a3d1-4a5a-96c8-c8aad3c0311f",
   "metadata": {},
   "outputs": [],
   "source": []
  }
 ],
 "metadata": {
  "kernelspec": {
   "display_name": "work_env",
   "language": "python",
   "name": "work_env"
  },
  "language_info": {
   "codemirror_mode": {
    "name": "ipython",
    "version": 3
   },
   "file_extension": ".py",
   "mimetype": "text/x-python",
   "name": "python",
   "nbconvert_exporter": "python",
   "pygments_lexer": "ipython3",
   "version": "3.11.6"
  }
 },
 "nbformat": 4,
 "nbformat_minor": 5
}
