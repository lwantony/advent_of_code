{
 "cells": [
  {
   "cell_type": "code",
   "execution_count": 2,
   "id": "2efe433c-ccbf-4b0a-8653-f0824059fd6f",
   "metadata": {
    "tags": []
   },
   "outputs": [],
   "source": [
    "from IPython.core.interactiveshell import InteractiveShell\n",
    "InteractiveShell.ast_node_interactivity = \"all\""
   ]
  },
  {
   "cell_type": "markdown",
   "id": "ff944d02-8a60-417e-888a-54e4e5141bbf",
   "metadata": {},
   "source": [
    "# Part 1"
   ]
  },
  {
   "cell_type": "code",
   "execution_count": 43,
   "id": "c0f07f59-ae05-4bf1-b809-3ff543222d31",
   "metadata": {
    "scrolled": true,
    "tags": []
   },
   "outputs": [
    {
     "data": {
      "text/plain": [
       "12643"
      ]
     },
     "execution_count": 43,
     "metadata": {},
     "output_type": "execute_result"
    }
   ],
   "source": [
    "import re\n",
    "\n",
    "def process_location(line):\n",
    "    line= line.strip()\n",
    "    loc, neighbors = line.split(' = ')\n",
    "    left_right = re.findall('\\w{3}',neighbors)\n",
    "    return loc, left_right\n",
    "\n",
    "def steps_to_ZZZ(graph,directions):\n",
    "    steps =0\n",
    "    cur_loc ='AAA'\n",
    "    \n",
    "    N = len(directions)\n",
    "    \n",
    "    while cur_loc != 'ZZZ':\n",
    "        cur_loc = graph[cur_loc][directions[steps%N]]\n",
    "        steps+=1\n",
    "    return steps\n",
    "\n",
    "\n",
    "with open('input_data/day_08.txt','r') as f:\n",
    "    directions = f.readline().strip()\n",
    "    directions = directions.replace(\"L\",'0').replace(\"R\",'1')\n",
    "    directions = [int(i) for i in directions]\n",
    "    line=f.readline()\n",
    "    line=f.readline()\n",
    "    \n",
    "    graph ={} \n",
    "    start=None\n",
    "    while line :\n",
    "        loc, next_loc = process_location(line)\n",
    "        line = f.readline()\n",
    "        graph[loc] = next_loc\n",
    "        start = loc if start is None else start\n",
    "        \n",
    "steps_to_ZZZ(graph,directions)"
   ]
  },
  {
   "cell_type": "markdown",
   "id": "fb57e954-d588-406e-9c3c-6d012b1abc0e",
   "metadata": {},
   "source": [
    "# Part 2"
   ]
  },
  {
   "cell_type": "code",
   "execution_count": 60,
   "id": "868b0be1-d9ae-4a0f-9aa9-e5179e2f5c7b",
   "metadata": {
    "tags": []
   },
   "outputs": [],
   "source": [
    "def check_cyles(graph,directions):\n",
    "    \n",
    "    def check_all_Z(locs):\n",
    "        return [ loc.endswith('Z') for loc in locs]\n",
    "    \n",
    "    \n",
    "    cur_locs = [ n for n in graph.keys() if n.endswith('A')]\n",
    "    \n",
    "    N = len(directions)\n",
    "   # while not all(check_all_Z(cur_locs)):\n",
    "\n",
    "    cycles=[]\n",
    "    for cur_loc in cur_locs:\n",
    "        ends =[]\n",
    "        steps =0\n",
    "        searching=True\n",
    "        while  searching:\n",
    "            next_step=directions[steps%N]\n",
    "            cur_loc = graph[cur_loc][next_step]\n",
    "            steps+=1\n",
    "            if cur_loc.endswith('Z'):\n",
    "                cycles.append(steps)\n",
    "                searching=False\n",
    "    return cycles"
   ]
  },
  {
   "cell_type": "code",
   "execution_count": 61,
   "id": "a7a5b78e-7d14-4e7b-bb75-c532a0c512ff",
   "metadata": {
    "tags": []
   },
   "outputs": [
    {
     "data": {
      "text/plain": [
       "13133452426987"
      ]
     },
     "execution_count": 61,
     "metadata": {},
     "output_type": "execute_result"
    }
   ],
   "source": [
    "from math import lcm \n",
    "\n",
    "with open('input_data/day_08.txt','r') as f:\n",
    "    directions = f.readline().strip()\n",
    "    directions = directions.replace(\"L\",'0').replace(\"R\",'1')\n",
    "    directions = [int(i) for i in directions]\n",
    "    line=f.readline()\n",
    "    line=f.readline()\n",
    "    \n",
    "    graph ={} \n",
    "    start=None\n",
    "    while line :\n",
    "        loc, next_loc = process_location(line)\n",
    "        line = f.readline()\n",
    "        graph[loc] = next_loc\n",
    "        start = loc if start is None else start\n",
    "    cycles = check_cyles(graph,directions)\n",
    "    \n",
    "    lcm( *cycles)"
   ]
  },
  {
   "cell_type": "code",
   "execution_count": 54,
   "id": "69f91d91-2720-409f-80dd-c96750cebab0",
   "metadata": {},
   "outputs": [],
   "source": []
  },
  {
   "cell_type": "code",
   "execution_count": null,
   "id": "c4e1e2c6-d845-4029-8e51-e4216b702038",
   "metadata": {},
   "outputs": [],
   "source": []
  }
 ],
 "metadata": {
  "kernelspec": {
   "display_name": "work_env",
   "language": "python",
   "name": "work_env"
  },
  "language_info": {
   "codemirror_mode": {
    "name": "ipython",
    "version": 3
   },
   "file_extension": ".py",
   "mimetype": "text/x-python",
   "name": "python",
   "nbconvert_exporter": "python",
   "pygments_lexer": "ipython3",
   "version": "3.11.6"
  }
 },
 "nbformat": 4,
 "nbformat_minor": 5
}
