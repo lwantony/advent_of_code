{
 "cells": [
  {
   "cell_type": "code",
   "execution_count": 1,
   "id": "2efe433c-ccbf-4b0a-8653-f0824059fd6f",
   "metadata": {
    "tags": []
   },
   "outputs": [],
   "source": [
    "from IPython.core.interactiveshell import InteractiveShell\n",
    "InteractiveShell.ast_node_interactivity = \"all\""
   ]
  },
  {
   "cell_type": "markdown",
   "id": "ff944d02-8a60-417e-888a-54e4e5141bbf",
   "metadata": {
    "tags": []
   },
   "source": [
    "# Part 1\n",
    "Flip-flop modules (prefix %) are either on or off; they are initially off. If a flip-flop module receives a high pulse, it is ignored and nothing happens. However, if a flip-flop module receives a low pulse, it flips between on and off. If it was off, it turns on and sends a high pulse. If it was on, it turns off and sends a low pulse.\n",
    "\n",
    "Conjunction modules (prefix &) remember the type of the most recent pulse received from each of their connected input modules; they initially default to remembering a low pulse for each input. When a pulse is received, the conjunction module first updates its memory for that input. Then, if it remembers high pulses for all inputs, it sends a low pulse; otherwise, it sends a high pulse.\n",
    "\n",
    "There is a single broadcast module (named broadcaster). When it receives a pulse, it sends the same pulse to all of its destination modules."
   ]
  },
  {
   "cell_type": "code",
   "execution_count": 2,
   "id": "1f1d0a79-3c2f-457a-8594-05af2610e146",
   "metadata": {
    "tags": []
   },
   "outputs": [],
   "source": [
    "class Module:\n",
    "    def __init__(self, input_line):\n",
    "        input_line = input_line.strip()\n",
    "        \n",
    "        if '->' in input_line:\n",
    "            name, targets = input_line.split(' -> ')\n",
    "            if '%' in name:\n",
    "                self.type = 'flip_flop'\n",
    "                self.name = name[1:]\n",
    "            elif '&' in name:\n",
    "                self.type = 'conjunction'\n",
    "                self.name = name[1:]\n",
    "            else:\n",
    "                self.type = ''\n",
    "                self.name = name\n",
    "            self.targets = [ t.strip() for t in targets.split(',') ]\n",
    "        else:\n",
    "            self.type = ''\n",
    "            self.name = input_line.strip()\n",
    "            self.targets = []\n",
    "                \n",
    "        self.mode = 0\n",
    "        self.input_mods = {}\n",
    "    \n",
    "    def gets_signal(self, from_name, signal ):\n",
    "        \n",
    "        if from_name != '':\n",
    "            self.input_mods[from_name] = signal\n",
    "        \n",
    "        if self.type == 'flip_flop':\n",
    "            if signal == 0:\n",
    "                if self.mode == 0:\n",
    "                    self.mode = 1\n",
    "                    return [ (self.name, dest, 1) for dest in self.targets]\n",
    "                \n",
    "                if self.mode == 1:\n",
    "                    self.mode = 0\n",
    "                    return [ (self.name, dest, 0) for dest in self.targets]\n",
    "                \n",
    "        elif self.type == 'conjunction':\n",
    "            total_in = len(self.input_mods.keys())\n",
    "            if sum(self.input_mods.values()) == total_in:\n",
    "                send = 0\n",
    "            else:\n",
    "                send = 1\n",
    "            return [ (self.name, dest, send) for dest in self.targets]\n",
    "            \n",
    "        else:\n",
    "            return [ (self.name, dest, signal) for dest in self.targets]\n"
   ]
  },
  {
   "cell_type": "code",
   "execution_count": 3,
   "id": "4217ecdd-b0ed-4488-bb9a-ec6150cf6855",
   "metadata": {
    "tags": []
   },
   "outputs": [],
   "source": [
    "from collections import deque\n",
    "\n",
    "def hit_broadcast(module_dict, counts=[0,0]):\n",
    "    counts[0] += 1\n",
    "    pulses = deque(module_dict['broadcaster'].gets_signal('',0))\n",
    "    idx = 0\n",
    "    while len(pulses) > 0 :\n",
    "        pulse = pulses.popleft()\n",
    "        counts[pulse[2]] += 1\n",
    "        new_pulses = module_dict[pulse[1]].gets_signal(pulse[0],pulse[2])\n",
    "        if new_pulses is not None and len(new_pulses) > 0 :\n",
    "            pulses.extend(new_pulses)\n",
    "#        print (pulse)\n",
    "    return counts"
   ]
  },
  {
   "cell_type": "code",
   "execution_count": 4,
   "id": "3be9e68d-9124-41f2-95f0-468444d0f98e",
   "metadata": {
    "tags": []
   },
   "outputs": [],
   "source": [
    "def do_part_one(file_path):\n",
    "    modules = {}\n",
    "    \n",
    "    with open(file_path,'r') as f:\n",
    "        for line in f.readlines():\n",
    "            m = Module(line)\n",
    "            modules[m.name] = m\n",
    "    \n",
    "    defined = list(modules.keys())\n",
    "    moms = list(modules.values())\n",
    "    for im in moms: \n",
    "        for t in im.targets:\n",
    "            if t not in defined :\n",
    "                modules[t] = Module(f'{t}')\n",
    "                \n",
    "            modules[t].input_mods[im.name] =0\n",
    "    cnts=[0,0]\n",
    "    for i in range(1000):\n",
    "        cnts = hit_broadcast(modules,cnts)\n",
    "        \n",
    "    return cnts[0]*cnts[1]"
   ]
  },
  {
   "cell_type": "code",
   "execution_count": 5,
   "id": "c0f07f59-ae05-4bf1-b809-3ff543222d31",
   "metadata": {
    "scrolled": true,
    "tags": []
   },
   "outputs": [
    {
     "name": "stdout",
     "output_type": "stream",
     "text": [
      "CPU times: user 11.6 ms, sys: 1.41 ms, total: 13 ms\n",
      "Wall time: 11.9 ms\n"
     ]
    },
    {
     "data": {
      "text/plain": [
       "11687500"
      ]
     },
     "execution_count": 5,
     "metadata": {},
     "output_type": "execute_result"
    }
   ],
   "source": [
    "%%time\n",
    "do_part_one('input_data/test_20-0.txt')\n"
   ]
  },
  {
   "cell_type": "code",
   "execution_count": 6,
   "id": "fb6325c0-56ed-4ef5-b0cc-194b342aad5b",
   "metadata": {
    "scrolled": true,
    "tags": []
   },
   "outputs": [
    {
     "name": "stdout",
     "output_type": "stream",
     "text": [
      "CPU times: user 54.3 ms, sys: 2.13 ms, total: 56.5 ms\n",
      "Wall time: 55.6 ms\n"
     ]
    },
    {
     "data": {
      "text/plain": [
       "763500168"
      ]
     },
     "execution_count": 6,
     "metadata": {},
     "output_type": "execute_result"
    }
   ],
   "source": [
    "%%time\n",
    "do_part_one('input_data/day_20.txt')"
   ]
  },
  {
   "cell_type": "markdown",
   "id": "fb57e954-d588-406e-9c3c-6d012b1abc0e",
   "metadata": {
    "tags": []
   },
   "source": [
    "# Part 2"
   ]
  },
  {
   "cell_type": "code",
   "execution_count": 37,
   "id": "23df9ba4-e195-4bea-9184-91b685d9d32b",
   "metadata": {
    "tags": []
   },
   "outputs": [],
   "source": [
    "from collections import deque\n",
    "\n",
    "def hit_broadcast_pt2(module_dict):\n",
    "    high_cnt ={ m : 0 for m in module_dict['dh'].input_mods.keys()}\n",
    "    \n",
    "    pulses = deque(module_dict['broadcaster'].gets_signal('',0))\n",
    "    rx_low = 0\n",
    "    \n",
    "    while len(pulses) > 0 :\n",
    "        pulse = pulses.popleft()\n",
    "        new_pulses = module_dict[pulse[1]].gets_signal(pulse[0],pulse[2])\n",
    "        if new_pulses is not None and len(new_pulses) > 0 :\n",
    "            pulses.extend(new_pulses)\n",
    "        if pulse[1] == 'dh' and pulse[2] == 1 :\n",
    "            high_cnt[pulse[0]] +=1\n",
    "    return high_cnt"
   ]
  },
  {
   "cell_type": "code",
   "execution_count": 50,
   "id": "584f2ac9-929e-45c9-a882-0105a5714b11",
   "metadata": {
    "tags": []
   },
   "outputs": [],
   "source": [
    "from math import lcm\n",
    "def do_part_two(file_path):\n",
    "    modules = {}\n",
    "    \n",
    "    with open(file_path,'r') as f:\n",
    "        for line in f.readlines():\n",
    "            m = Module(line)\n",
    "            modules[m.name] = m\n",
    "    \n",
    "    defined = list(modules.keys())\n",
    "    moms = list(modules.values())\n",
    "    for im in moms: \n",
    "        for t in im.targets:\n",
    "            if t not in defined :\n",
    "                modules[t] = Module(f'{t}')\n",
    "                \n",
    "            modules[t].input_mods[im.name] =0\n",
    "    rnds = 0\n",
    "    rx_low = 0\n",
    "    \n",
    "    \n",
    "    high_sent = { m : [] for m in modules['dh'].input_mods.keys()}\n",
    "    \n",
    "    while rx_low == 0 :\n",
    "        high_cnt = hit_broadcast_pt2(modules)\n",
    "        rnds += 1\n",
    "        for m,cnt in high_cnt.items():\n",
    "            if cnt > 0 :\n",
    "                high_sent[m].append(rnds)\n",
    "        if sum([ len(x) > 0 for x in high_sent.values()]) == len(high_sent):\n",
    "            break\n",
    "    \n",
    "    \n",
    "    return lcm(*[ x[0] for x in high_sent.values()])"
   ]
  },
  {
   "cell_type": "code",
   "execution_count": 51,
   "id": "8cc38db0-d913-4105-8d5e-b7358d8d5446",
   "metadata": {
    "scrolled": true,
    "tags": []
   },
   "outputs": [
    {
     "name": "stdout",
     "output_type": "stream",
     "text": [
      "CPU times: user 124 ms, sys: 2.24 ms, total: 127 ms\n",
      "Wall time: 127 ms\n"
     ]
    },
    {
     "data": {
      "text/plain": [
       "207652583562007"
      ]
     },
     "execution_count": 51,
     "metadata": {},
     "output_type": "execute_result"
    }
   ],
   "source": [
    "%%time\n",
    "do_part_two('input_data/day_20.txt')"
   ]
  },
  {
   "cell_type": "code",
   "execution_count": 47,
   "id": "1fdcd2cf-02f8-48d2-8d2a-062a59b049dc",
   "metadata": {
    "tags": []
   },
   "outputs": [
    {
     "data": {
      "text/plain": [
       "{'tr': [3739], 'xm': [3761], 'dr': [3797], 'nh': [3889]}"
      ]
     },
     "execution_count": 47,
     "metadata": {},
     "output_type": "execute_result"
    }
   ],
   "source": [
    "tmp"
   ]
  },
  {
   "cell_type": "code",
   "execution_count": null,
   "id": "2441a916-731c-44cc-997a-a0231eafcbb8",
   "metadata": {},
   "outputs": [],
   "source": []
  }
 ],
 "metadata": {
  "kernelspec": {
   "display_name": "work_env",
   "language": "python",
   "name": "work_env"
  },
  "language_info": {
   "codemirror_mode": {
    "name": "ipython",
    "version": 3
   },
   "file_extension": ".py",
   "mimetype": "text/x-python",
   "name": "python",
   "nbconvert_exporter": "python",
   "pygments_lexer": "ipython3",
   "version": "3.11.6"
  }
 },
 "nbformat": 4,
 "nbformat_minor": 5
}
