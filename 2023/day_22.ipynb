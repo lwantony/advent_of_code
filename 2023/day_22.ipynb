{
 "cells": [
  {
   "cell_type": "code",
   "execution_count": 2,
   "id": "2efe433c-ccbf-4b0a-8653-f0824059fd6f",
   "metadata": {
    "tags": []
   },
   "outputs": [],
   "source": [
    "from IPython.core.interactiveshell import InteractiveShell\n",
    "InteractiveShell.ast_node_interactivity = \"all\""
   ]
  },
  {
   "cell_type": "markdown",
   "id": "ff944d02-8a60-417e-888a-54e4e5141bbf",
   "metadata": {
    "tags": []
   },
   "source": [
    "# Part 1"
   ]
  },
  {
   "cell_type": "code",
   "execution_count": 35,
   "id": "5ea82c1d-8520-42d3-be0a-2ee13c259b72",
   "metadata": {
    "tags": []
   },
   "outputs": [],
   "source": [
    "class Brick:\n",
    "    def __init__(self,line):\n",
    "        line = line.strip()\n",
    "        start,end = line.split('~')\n",
    "        \n",
    "        self.start = [ int(i) for i in start.split(',')]\n",
    "        self.end = [ int(i) for i in end.split(',')]\n",
    "        self.idx = None\n",
    "    \n",
    "    def __repr__(self):\n",
    "        return f'{self.start} to {self.end}'\n",
    "    \n",
    "    \n",
    "    def put_brick_grid(self, grid):\n",
    "        if self.idx is None: \n",
    "            val = grid.max() +1\n",
    "            self.idx = val\n",
    "        else:\n",
    "            val = self.idx\n",
    "        \n",
    "        for x in range(self.start[0],self.end[0]+1):\n",
    "            for y in range(self.start[1],self.end[1]+1):\n",
    "                for z in range(self.start[2],self.end[2]+1):\n",
    "                    grid[x][y][z] = val\n",
    "                    \n",
    "        return grid\n",
    "            \n",
    "        "
   ]
  },
  {
   "cell_type": "code",
   "execution_count": 160,
   "id": "0009a3bb-dbe0-4c14-8ff2-1ff2b2cdddcd",
   "metadata": {
    "tags": []
   },
   "outputs": [],
   "source": [
    "def drop_bricks(bricks,grid):\n",
    "    bidx =0\n",
    "    while bidx < len(bricks):\n",
    "        b = bricks[bidx]\n",
    "        \n",
    "        z_below = b.start[2]-1\n",
    "        xs,ys = b.start[:2]\n",
    "        xe,ye = b.end[:2]\n",
    "        slide =0\n",
    "        while grid[xs:xe+1,ys:ye+1,z_below+slide].sum() == 0:\n",
    "            slide += -1\n",
    "        \n",
    "        if slide != 0 :\n",
    "            b.start[2] += slide\n",
    "            b.end[2] += slide\n",
    "            grid = np.multiply((grid != b.idx).astype(int),grid)\n",
    "            b.put_brick_grid(grid)\n",
    "            bidx = 0\n",
    "        else:\n",
    "            bidx += 1\n",
    "            \n",
    "    return bricks, grid"
   ]
  },
  {
   "cell_type": "code",
   "execution_count": 172,
   "id": "fd1d643b-7114-424a-8d27-1bcbe0ecb00c",
   "metadata": {
    "tags": []
   },
   "outputs": [],
   "source": [
    "def nonsupport_blocks(bricks, grid):\n",
    "    possible = [ i for i in range(1,int(grid.max())+1)]\n",
    "    \n",
    "    for b in bricks:\n",
    "        \n",
    "        z_below = b.start[2]-1\n",
    "        xs,ys = b.start[:2]\n",
    "        xe,ye = b.end[:2]\n",
    "        sub_grid = grid[xs:xe+1,ys:ye+1,z_below]\n",
    "        under = set(sub_grid[sub_grid>0].ravel())\n",
    "        if len(under) == 1:\n",
    "            val = list(under)[0]\n",
    "            if val in possible:\n",
    "                possible.remove(val)\n",
    "                \n",
    "    return possible"
   ]
  },
  {
   "cell_type": "code",
   "execution_count": 175,
   "id": "3be9e68d-9124-41f2-95f0-468444d0f98e",
   "metadata": {
    "tags": []
   },
   "outputs": [],
   "source": [
    "import numpy as np\n",
    "def do_part_one(file_path):\n",
    "    xmax, ymax, zmax = 0,0,0\n",
    "    \n",
    "    with open(file_path,'r') as f:\n",
    "        bricks = [Brick(l)  for l in f.readlines()]\n",
    "        \n",
    "    for b in bricks:\n",
    "        xmax = max(xmax, b.end[0])\n",
    "        ymax = max(ymax, b.end[1])\n",
    "        zmax = max(zmax, b.end[2])\n",
    "    \n",
    "    grid = np.zeros((xmax+1, ymax+1, zmax+1))\n",
    "    for x in range(0,xmax+1):\n",
    "        for y in range(0,ymax+1):\n",
    "            grid[x,y,0] = -1 \n",
    "    \n",
    "    \n",
    "    for b in bricks:\n",
    "        b.put_brick_grid(grid)\n",
    "    bricks, grid = drop_bricks(bricks, grid)\n",
    "    \n",
    "    pos = nonsupport_blocks(bricks, grid)\n",
    "    \n",
    "    return len(pos)"
   ]
  },
  {
   "cell_type": "code",
   "execution_count": 176,
   "id": "c0f07f59-ae05-4bf1-b809-3ff543222d31",
   "metadata": {
    "scrolled": true,
    "tags": []
   },
   "outputs": [
    {
     "name": "stdout",
     "output_type": "stream",
     "text": [
      "CPU times: user 1.42 ms, sys: 1.08 ms, total: 2.5 ms\n",
      "Wall time: 1.62 ms\n"
     ]
    },
    {
     "data": {
      "text/plain": [
       "5"
      ]
     },
     "execution_count": 176,
     "metadata": {},
     "output_type": "execute_result"
    }
   ],
   "source": [
    "%%time\n",
    "do_part_one('input_data/test_22.txt')\n"
   ]
  },
  {
   "cell_type": "code",
   "execution_count": 177,
   "id": "a5d866a7-a349-4f04-964b-50129720b8fb",
   "metadata": {
    "scrolled": true,
    "tags": []
   },
   "outputs": [
    {
     "name": "stdout",
     "output_type": "stream",
     "text": [
      "CPU times: user 6.1 s, sys: 3.52 ms, total: 6.1 s\n",
      "Wall time: 6.11 s\n"
     ]
    },
    {
     "data": {
      "text/plain": [
       "389"
      ]
     },
     "execution_count": 177,
     "metadata": {},
     "output_type": "execute_result"
    }
   ],
   "source": [
    "%%time\n",
    "do_part_one('input_data/day_22.txt')"
   ]
  },
  {
   "cell_type": "markdown",
   "id": "fb57e954-d588-406e-9c3c-6d012b1abc0e",
   "metadata": {
    "tags": []
   },
   "source": [
    "# Part 2"
   ]
  },
  {
   "cell_type": "code",
   "execution_count": 195,
   "id": "d30e4807-3f6d-4c25-a048-1751a65e8c1f",
   "metadata": {
    "tags": []
   },
   "outputs": [],
   "source": [
    "from copy import deepcopy\n",
    "\n",
    "def disintegrate_brick(orig_bricks,orig_grid, bi):\n",
    "    val= orig_bricks[bi].idx\n",
    "    bricks = deepcopy(orig_bricks[:bi] + orig_bricks[bi+1:])\n",
    "    grid = deepcopy(np.multiply((orig_grid != val).astype(int),orig_grid))\n",
    "    \n",
    "    bidx =0\n",
    "    moved =[]\n",
    "    while bidx < len(bricks):\n",
    "        b = bricks[bidx]\n",
    "        \n",
    "        z_below = b.start[2]-1\n",
    "        xs,ys = b.start[:2]\n",
    "        xe,ye = b.end[:2]\n",
    "        slide =0\n",
    "        while grid[xs:xe+1,ys:ye+1,z_below+slide].sum() == 0:\n",
    "            slide += -1\n",
    "        \n",
    "        if slide != 0 :\n",
    "            moved.append(bidx)\n",
    "            b.start[2] += slide\n",
    "            b.end[2] += slide\n",
    "            grid = np.multiply((grid != b.idx).astype(int),grid)\n",
    "            b.put_brick_grid(grid)\n",
    "            bidx = 0\n",
    "        else:\n",
    "            bidx += 1\n",
    "            \n",
    "    return len(set(moved))"
   ]
  },
  {
   "cell_type": "code",
   "execution_count": 196,
   "id": "e80cb809-e422-4971-923f-46ecf736c704",
   "metadata": {
    "tags": []
   },
   "outputs": [],
   "source": [
    "def do_part_two(file_path):\n",
    "    xmax, ymax, zmax = 0,0,0\n",
    "    \n",
    "    with open(file_path,'r') as f:\n",
    "        bricks = [Brick(l)  for l in f.readlines()]\n",
    "        \n",
    "    for b in bricks:\n",
    "        xmax = max(xmax, b.end[0])\n",
    "        ymax = max(ymax, b.end[1])\n",
    "        zmax = max(zmax, b.end[2])\n",
    "    \n",
    "    grid = np.zeros((xmax+1, ymax+1, zmax+1))\n",
    "    for x in range(0,xmax+1):\n",
    "        for y in range(0,ymax+1):\n",
    "            grid[x,y,0] = -1 \n",
    "    \n",
    "    \n",
    "    for b in bricks:\n",
    "        b.put_brick_grid(grid)\n",
    "    bricks, grid = drop_bricks(bricks, grid)\n",
    "    \n",
    "    total = sum([ disintegrate_brick(bricks,grid, bi) for bi in range(len(bricks))]) \n",
    "    return total"
   ]
  },
  {
   "cell_type": "code",
   "execution_count": 197,
   "id": "553ffca9-6633-4533-a62e-99df6f98021d",
   "metadata": {
    "scrolled": true,
    "tags": []
   },
   "outputs": [
    {
     "name": "stdout",
     "output_type": "stream",
     "text": [
      "CPU times: user 4.64 ms, sys: 2.02 ms, total: 6.66 ms\n",
      "Wall time: 5.6 ms\n"
     ]
    },
    {
     "data": {
      "text/plain": [
       "7"
      ]
     },
     "execution_count": 197,
     "metadata": {},
     "output_type": "execute_result"
    }
   ],
   "source": [
    "%%time\n",
    "do_part_two('input_data/test_22.txt')\n",
    "           "
   ]
  },
  {
   "cell_type": "code",
   "execution_count": 198,
   "id": "1e69b266-bd37-4af6-99e1-48f061f36f06",
   "metadata": {
    "scrolled": true,
    "tags": []
   },
   "outputs": [
    {
     "name": "stdout",
     "output_type": "stream",
     "text": [
      "CPU times: user 1min 23s, sys: 102 ms, total: 1min 23s\n",
      "Wall time: 1min 23s\n"
     ]
    },
    {
     "data": {
      "text/plain": [
       "70609"
      ]
     },
     "execution_count": 198,
     "metadata": {},
     "output_type": "execute_result"
    }
   ],
   "source": [
    "%%time\n",
    "do_part_two('input_data/day_22.txt')\n",
    "# 88851 is too high"
   ]
  },
  {
   "cell_type": "code",
   "execution_count": null,
   "id": "be488331-06bf-4a53-aafa-881a7c3a89ac",
   "metadata": {},
   "outputs": [],
   "source": []
  }
 ],
 "metadata": {
  "kernelspec": {
   "display_name": "work_env",
   "language": "python",
   "name": "work_env"
  },
  "language_info": {
   "codemirror_mode": {
    "name": "ipython",
    "version": 3
   },
   "file_extension": ".py",
   "mimetype": "text/x-python",
   "name": "python",
   "nbconvert_exporter": "python",
   "pygments_lexer": "ipython3",
   "version": "3.11.6"
  }
 },
 "nbformat": 4,
 "nbformat_minor": 5
}
