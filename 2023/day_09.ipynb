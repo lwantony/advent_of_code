{
 "cells": [
  {
   "cell_type": "code",
   "execution_count": 1,
   "id": "2efe433c-ccbf-4b0a-8653-f0824059fd6f",
   "metadata": {
    "tags": []
   },
   "outputs": [],
   "source": [
    "from IPython.core.interactiveshell import InteractiveShell\n",
    "InteractiveShell.ast_node_interactivity = \"all\""
   ]
  },
  {
   "cell_type": "markdown",
   "id": "ff944d02-8a60-417e-888a-54e4e5141bbf",
   "metadata": {},
   "source": [
    "# Part 1"
   ]
  },
  {
   "cell_type": "code",
   "execution_count": 7,
   "id": "058068ce-84b3-42dd-938d-19b77f54afa1",
   "metadata": {
    "tags": []
   },
   "outputs": [],
   "source": [
    "def find_next_value(seq):\n",
    "    history = [seq]\n",
    "    while any([ s != 0 for s in seq]) :\n",
    "        seq = [ j-i for i,j in zip(seq,seq[1:])]\n",
    "        history.append(seq)\n",
    "    return sum([ x[-1] for x in history])"
   ]
  },
  {
   "cell_type": "code",
   "execution_count": 11,
   "id": "c0f07f59-ae05-4bf1-b809-3ff543222d31",
   "metadata": {
    "scrolled": true,
    "tags": []
   },
   "outputs": [
    {
     "name": "stdout",
     "output_type": "stream",
     "text": [
      "2098530125\n"
     ]
    }
   ],
   "source": [
    "with open('input_data/day_09.txt','r') as f:\n",
    "    sequences = []\n",
    "    for line in f.readlines():\n",
    "        sequences.append( [int(i) for i in line.strip().split()])\n",
    "\n",
    "    print( sum([find_next_value(s) for s in sequences]))"
   ]
  },
  {
   "cell_type": "markdown",
   "id": "fb57e954-d588-406e-9c3c-6d012b1abc0e",
   "metadata": {},
   "source": [
    "# Part 2"
   ]
  },
  {
   "cell_type": "code",
   "execution_count": 12,
   "id": "7ed54072-0b21-422b-8787-3d64f8568a25",
   "metadata": {
    "tags": []
   },
   "outputs": [],
   "source": [
    "def find_first_val(seq):\n",
    "    history = [seq]\n",
    "    while any([ s != 0 for s in seq]) :\n",
    "        seq = [ j-i for i,j in zip(seq,seq[1:])]\n",
    "        history.append(seq)\n",
    "    val =0\n",
    "    for s in history[::-1]:\n",
    "        val = s[0]-val\n",
    "    return val"
   ]
  },
  {
   "cell_type": "code",
   "execution_count": 14,
   "id": "50fc9a18-e4b1-487d-b994-c409f59a24cf",
   "metadata": {
    "scrolled": true,
    "tags": []
   },
   "outputs": [
    {
     "name": "stdout",
     "output_type": "stream",
     "text": [
      "1016\n"
     ]
    }
   ],
   "source": [
    "with open('input_data/day_09.txt','r') as f:\n",
    "    sequences = []\n",
    "    for line in f.readlines():\n",
    "        sequences.append( [int(i) for i in line.strip().split()])\n",
    "\n",
    "    print( sum([find_first_val(s) for s in sequences]))"
   ]
  },
  {
   "cell_type": "code",
   "execution_count": null,
   "id": "c4e1e2c6-d845-4029-8e51-e4216b702038",
   "metadata": {},
   "outputs": [],
   "source": []
  }
 ],
 "metadata": {
  "kernelspec": {
   "display_name": "work_env",
   "language": "python",
   "name": "work_env"
  },
  "language_info": {
   "codemirror_mode": {
    "name": "ipython",
    "version": 3
   },
   "file_extension": ".py",
   "mimetype": "text/x-python",
   "name": "python",
   "nbconvert_exporter": "python",
   "pygments_lexer": "ipython3",
   "version": "3.11.6"
  }
 },
 "nbformat": 4,
 "nbformat_minor": 5
}
