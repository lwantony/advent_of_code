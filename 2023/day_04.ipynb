{
 "cells": [
  {
   "cell_type": "code",
   "execution_count": 1,
   "id": "3b0eb4ec-c64b-48ed-a516-5da62ac4387d",
   "metadata": {},
   "outputs": [],
   "source": [
    "from IPython.core.interactiveshell import InteractiveShell\n",
    "InteractiveShell.ast_node_interactivity = \"all\""
   ]
  },
  {
   "cell_type": "markdown",
   "id": "dfccab11-e94e-4201-88db-0c5e7b09ec4d",
   "metadata": {},
   "source": [
    "# Part 1"
   ]
  },
  {
   "cell_type": "code",
   "execution_count": 7,
   "id": "550afb37-821d-4041-8833-d15d2557467a",
   "metadata": {
    "tags": []
   },
   "outputs": [],
   "source": [
    "def get_winners(line):\n",
    "    card, numbers = line.split(':')\n",
    "    winners, yours = numbers.split('|')\n",
    "    winners = [int(i) for i in winners.split()]\n",
    "    yours = [int(i) for i in yours.split()]\n",
    "    \n",
    "    number_right = len(set(winners).intersection(yours))\n",
    "    \n",
    "    if number_right ==0:\n",
    "        return 0 \n",
    "    return 2**(number_right-1)\n",
    "    \n"
   ]
  },
  {
   "cell_type": "code",
   "execution_count": 8,
   "id": "27175cb6-7045-4ef0-ad19-ab6e336ac53b",
   "metadata": {},
   "outputs": [
    {
     "name": "stdout",
     "output_type": "stream",
     "text": [
      "25231\n"
     ]
    }
   ],
   "source": [
    "with open('input_data/day_04.txt','r') as f:\n",
    "    total_pts=0\n",
    "    for line in f.readlines():\n",
    "        total_pts+=get_winners(line.strip())\n",
    "print(total_pts)\n"
   ]
  },
  {
   "cell_type": "markdown",
   "id": "aa876976-0b26-4f23-a673-7ed38cca66d0",
   "metadata": {
    "tags": []
   },
   "source": [
    "# Part 2"
   ]
  },
  {
   "cell_type": "code",
   "execution_count": 9,
   "id": "e8f35e0e-4889-4ee5-9c5e-2128678cf552",
   "metadata": {
    "tags": []
   },
   "outputs": [],
   "source": [
    "def scratch_cards(line,card_counts):\n",
    "    card, numbers = line.split(':')\n",
    "    _,card_num = card.strip().split()\n",
    "    \n",
    "    card_num = int(card_num)\n",
    "    \n",
    "    winners, yours = numbers.split('|')\n",
    "    \n",
    "    winners = [int(i) for i in winners.split()]\n",
    "    yours = [int(i) for i in yours.split()]\n",
    "    \n",
    "    number_right = len(set(winners).intersection(yours))\n",
    "    \n",
    "    try:\n",
    "        card_counts[card_num] +=1\n",
    "    except:\n",
    "        card_counts[card_num] =1\n",
    "    \n",
    "    for i in range(1,number_right+1):\n",
    "        try:\n",
    "            card_counts[card_num+i] += card_counts[card_num]\n",
    "        except:\n",
    "            card_counts[card_num+i] = card_counts[card_num]\n",
    "    \n",
    "    \n",
    "    \n"
   ]
  },
  {
   "cell_type": "code",
   "execution_count": 16,
   "id": "3b037901-bb40-47f3-bf29-fd04d541caba",
   "metadata": {},
   "outputs": [
    {
     "name": "stdout",
     "output_type": "stream",
     "text": [
      "9721255\n"
     ]
    }
   ],
   "source": [
    "\n",
    "with open('input_data/day_04.txt','r') as f:\n",
    "    card_cnts ={}\n",
    "    for line in f.readlines():\n",
    "        scratch_cards(line.strip(), card_cnts)\n",
    "print(sum(card_cnts.values()))\n"
   ]
  },
  {
   "cell_type": "code",
   "execution_count": null,
   "id": "c4614fda-8e2b-40ef-b44b-066f996f8e06",
   "metadata": {},
   "outputs": [],
   "source": []
  }
 ],
 "metadata": {
  "kernelspec": {
   "display_name": "work_env",
   "language": "python",
   "name": "work_env"
  },
  "language_info": {
   "codemirror_mode": {
    "name": "ipython",
    "version": 3
   },
   "file_extension": ".py",
   "mimetype": "text/x-python",
   "name": "python",
   "nbconvert_exporter": "python",
   "pygments_lexer": "ipython3",
   "version": "3.11.6"
  }
 },
 "nbformat": 4,
 "nbformat_minor": 5
}
