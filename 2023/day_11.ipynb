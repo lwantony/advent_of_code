{
 "cells": [
  {
   "cell_type": "code",
   "execution_count": 1,
   "id": "2efe433c-ccbf-4b0a-8653-f0824059fd6f",
   "metadata": {
    "tags": []
   },
   "outputs": [],
   "source": [
    "from IPython.core.interactiveshell import InteractiveShell\n",
    "InteractiveShell.ast_node_interactivity = \"all\""
   ]
  },
  {
   "cell_type": "markdown",
   "id": "ff944d02-8a60-417e-888a-54e4e5141bbf",
   "metadata": {},
   "source": [
    "# Part 1"
   ]
  },
  {
   "cell_type": "code",
   "execution_count": 37,
   "id": "3be9e68d-9124-41f2-95f0-468444d0f98e",
   "metadata": {
    "tags": []
   },
   "outputs": [],
   "source": [
    "from copy import deepcopy\n",
    "def check_expansion(galaxy_map):\n",
    "    columns=[]\n",
    "    rows=[]\n",
    "   \n",
    "    for r,row in enumerate(galaxy_map):\n",
    "        if  '#' not in row:\n",
    "            rows.append(r)\n",
    "    for c in range(len(galaxy_map[0])):\n",
    "        col = [ row[c] for row in galaxy_map]\n",
    "        if '#' not in col:\n",
    "            columns.append(c)\n",
    "    return rows,columns\n",
    "\n",
    "def expand_universe(galaxy_map,in_rows,in_columns):\n",
    "    rows = deepcopy(in_rows)\n",
    "    columns = deepcopy(in_columns)\n",
    "    \n",
    "    while len(rows) > 0:\n",
    "        r = rows.pop(0)\n",
    "        galaxy_map = deepcopy(galaxy_map[:r]+[galaxy_map[r]]+galaxy_map[r:])\n",
    "        rows = deepcopy([ ir+1 for ir in rows])\n",
    "        \n",
    "        \n",
    "    while len(columns) > 0:\n",
    "        c = columns.pop(0)\n",
    "        galaxy_map = [ row[:c]+row[c]+row[c:] for row in galaxy_map]\n",
    "        columns = deepcopy([ ic+1 for ic in columns])\n",
    "    return galaxy_map\n",
    "\n",
    "def find_galaxy_locs(galaxy_map):\n",
    "    locs = []\n",
    "    for r, row in enumerate(galaxy_map):\n",
    "        for c,char in enumerate(row):\n",
    "            if char == '#':\n",
    "                locs.append( (r,c))\n",
    "    return locs\n",
    "            \n",
    "    \n",
    "def get_shortest_distances(locs):\n",
    "    N = len(locs)\n",
    "    distances = []\n",
    "    for x in range(N):\n",
    "        iloc= locs[x]\n",
    "        for jloc in locs[x+1:]:\n",
    "            distances.append( sum([ abs(i-j) for i,j in zip(iloc,jloc)]))\n",
    "    return distances\n",
    "\n",
    "\n",
    "def get_shortest_distances_pt2(locs,rows,cols,age=1000000):\n",
    "    N = len(locs)\n",
    "    distances = []\n",
    "    for x in range(N):\n",
    "        iloc= locs[x]\n",
    "        for jloc in locs[x+1:]:\n",
    "            dist =sum([ abs(i-j) for i,j in zip(iloc,jloc)])\n",
    "            for r in rows :\n",
    "                lower, upper = sorted([iloc[0],jloc[0]])\n",
    "                if r>lower and r< upper:\n",
    "                    dist+=age-1\n",
    "            for c in cols :\n",
    "                lower, upper = sorted([iloc[1],jloc[1]])\n",
    "                if c>lower and c< upper:\n",
    "                    dist+=age-1\n",
    "            distances.append(dist)\n",
    "    return distances\n",
    "\n",
    "\n",
    "def do_part_one(file_path):\n",
    "    \n",
    "    with open(file_path,'r') as f:\n",
    "        galaxy_map = [ line.strip() for line in f.readlines()]\n",
    "        \n",
    "    rows,cols = check_expansion(galaxy_map)\n",
    "    \n",
    "    expanded_galaxy = expand_universe(galaxy_map,rows,cols)\n",
    "    \n",
    "    locations = find_galaxy_locs(expanded_galaxy)\n",
    "    orig_locs = find_galaxy_locs(galaxy_map)\n",
    "    \n",
    "    \n",
    "    print(sum(get_shortest_distances(locations)))\n",
    "    print(sum(get_shortest_distances_pt2(orig_locs,rows,cols)))"
   ]
  },
  {
   "cell_type": "code",
   "execution_count": 39,
   "id": "c0f07f59-ae05-4bf1-b809-3ff543222d31",
   "metadata": {
    "scrolled": true,
    "tags": []
   },
   "outputs": [
    {
     "name": "stdout",
     "output_type": "stream",
     "text": [
      "9536038\n",
      "447744640566\n"
     ]
    }
   ],
   "source": [
    "do_part_one('input_data/day_11.txt')"
   ]
  },
  {
   "cell_type": "markdown",
   "id": "fb57e954-d588-406e-9c3c-6d012b1abc0e",
   "metadata": {},
   "source": [
    "# Part 2"
   ]
  },
  {
   "cell_type": "code",
   "execution_count": 4,
   "id": "b581619d-7a26-414e-8d3d-316ac396d37a",
   "metadata": {},
   "outputs": [
    {
     "data": {
      "text/plain": [
       "[0, 1]"
      ]
     },
     "execution_count": 4,
     "metadata": {},
     "output_type": "execute_result"
    }
   ],
   "source": []
  },
  {
   "cell_type": "code",
   "execution_count": null,
   "id": "dfd358ae-38bb-4dc3-965d-d4a437cb384f",
   "metadata": {},
   "outputs": [],
   "source": []
  }
 ],
 "metadata": {
  "kernelspec": {
   "display_name": "work_env",
   "language": "python",
   "name": "work_env"
  },
  "language_info": {
   "codemirror_mode": {
    "name": "ipython",
    "version": 3
   },
   "file_extension": ".py",
   "mimetype": "text/x-python",
   "name": "python",
   "nbconvert_exporter": "python",
   "pygments_lexer": "ipython3",
   "version": "3.11.6"
  }
 },
 "nbformat": 4,
 "nbformat_minor": 5
}
