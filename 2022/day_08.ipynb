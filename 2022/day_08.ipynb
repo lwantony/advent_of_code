{
 "cells": [
  {
   "cell_type": "code",
   "execution_count": 2,
   "id": "3b0eb4ec-c64b-48ed-a516-5da62ac4387d",
   "metadata": {},
   "outputs": [],
   "source": [
    "from IPython.core.interactiveshell import InteractiveShell\n",
    "InteractiveShell.ast_node_interactivity = \"all\""
   ]
  },
  {
   "cell_type": "code",
   "execution_count": 1,
   "id": "359359d6-9134-4171-b4dd-b77413ffbb19",
   "metadata": {},
   "outputs": [],
   "source": [
    "import numpy as np"
   ]
  },
  {
   "cell_type": "markdown",
   "id": "dfccab11-e94e-4201-88db-0c5e7b09ec4d",
   "metadata": {},
   "source": [
    "# Part 1"
   ]
  },
  {
   "cell_type": "code",
   "execution_count": 106,
   "id": "8ebfd783-ea3f-41a9-92bc-3764dd6a3ae4",
   "metadata": {},
   "outputs": [],
   "source": [
    "tree_grid = None \n",
    "\n",
    "with open('input/day_08.txt','r') as f:\n",
    "    for  line in f.readlines():\n",
    "        row=np.array([np.array(list(line.strip()))],dtype=int)\n",
    "        tree_grid = np.append(tree_grid, row ,axis=0) if tree_grid is not None else row"
   ]
  },
  {
   "cell_type": "code",
   "execution_count": 107,
   "id": "6afcac7a-a118-4233-8e4d-73ee6206d21f",
   "metadata": {},
   "outputs": [],
   "source": [
    "def part_one_visible_trees(tree_grid):\n",
    "    visible_set =set([])\n",
    "    \n",
    "    for ir,row in enumerate(tree_grid):\n",
    "        highest=-1\n",
    "        for ic, tree in enumerate(row):\n",
    "            if tree > highest:\n",
    "                visible_set.add((ir,ic))\n",
    "                highest = tree\n",
    "    \n",
    "    for ic,col in enumerate(tree_grid.T):\n",
    "        highest=-1\n",
    "        for ir, tree in enumerate(col):\n",
    "            if tree > highest:\n",
    "                visible_set.add((ir,ic))\n",
    "                highest = tree\n",
    "                \n",
    "    for ir,row in enumerate(tree_grid):\n",
    "        highest=-1\n",
    "        total=len(row)\n",
    "        for ic in range(total-1,-1,-1):\n",
    "            tree = row[ic]\n",
    "            if tree > highest:\n",
    "                visible_set.add((ir,ic))\n",
    "                highest = tree\n",
    "    \n",
    "    for ic,col in enumerate(tree_grid.T):\n",
    "        highest=-1\n",
    "        total=len(col)\n",
    "        for ir in range(total-1,-1,-1):\n",
    "            tree = col[ir]\n",
    "            if tree > highest:\n",
    "                visible_set.add((ir,ic))\n",
    "                highest = tree\n",
    "                \n",
    "    return len(visible_set)\n",
    "            \n",
    "    \n",
    "    "
   ]
  },
  {
   "cell_type": "code",
   "execution_count": 111,
   "id": "b17054b0-a01f-4099-8229-2b9b2c7226c6",
   "metadata": {},
   "outputs": [],
   "source": [
    "def part_two_visibility_score(tree_grid):\n",
    "    nrows, ncols = tree_grid.shape\n",
    "    max_score = -1\n",
    "    for ir in range(1,nrows-1):\n",
    "        for ic in range(1,ncols-1):\n",
    "            scores = np.zeros(4)\n",
    "            tree = tree_grid[ir,ic]\n",
    "            \n",
    "            #look left\n",
    "            for l in range(ic-1,-1,-1):\n",
    "                tmp_tree = tree_grid[ir,l]\n",
    "                scores[0]+=1\n",
    "                if tmp_tree >=tree:\n",
    "                    break\n",
    "                    \n",
    "            #look right\n",
    "            for r in range(ic+1,ncols):\n",
    "                tmp_tree = tree_grid[ir,r]\n",
    "                scores[1]+=1\n",
    "                if tmp_tree >=tree:\n",
    "                    break\n",
    "                    \n",
    "            #look up\n",
    "            for u in range(ir-1,-1,-1):\n",
    "                tmp_tree = tree_grid[u,ic]\n",
    "                scores[2]+=1\n",
    "                if tmp_tree >=tree:\n",
    "                    break\n",
    "                    \n",
    "            #look down\n",
    "            for d in range(ir+1,nrows):\n",
    "                tmp_tree = tree_grid[d,ic]\n",
    "                scores[3]+=1\n",
    "                if tmp_tree >=tree:\n",
    "                    break\n",
    "                    \n",
    "                    \n",
    "            stree = 1\n",
    "            for s in scores:\n",
    "                stree *= s\n",
    "            max_score = max(max_score,stree)\n",
    "    return int(max_score)\n",
    "    "
   ]
  },
  {
   "cell_type": "code",
   "execution_count": 112,
   "id": "9478da65-f0f8-4878-9a4f-89f5280faa65",
   "metadata": {},
   "outputs": [
    {
     "data": {
      "text/plain": [
       "1647"
      ]
     },
     "execution_count": 112,
     "metadata": {},
     "output_type": "execute_result"
    }
   ],
   "source": [
    "part_one_visible_trees(tree_grid)"
   ]
  },
  {
   "cell_type": "code",
   "execution_count": 113,
   "id": "6e13e0f4-7b0c-4a88-a51b-4f5883da74c7",
   "metadata": {},
   "outputs": [
    {
     "data": {
      "text/plain": [
       "392080"
      ]
     },
     "execution_count": 113,
     "metadata": {},
     "output_type": "execute_result"
    }
   ],
   "source": [
    "part_two_visibility_score(tree_grid)"
   ]
  },
  {
   "cell_type": "code",
   "execution_count": null,
   "id": "7c96d87d-0e49-4ce0-8ca2-87dfad920851",
   "metadata": {},
   "outputs": [],
   "source": []
  }
 ],
 "metadata": {
  "kernelspec": {
   "display_name": "work_env",
   "language": "python",
   "name": "work_env"
  },
  "language_info": {
   "codemirror_mode": {
    "name": "ipython",
    "version": 3
   },
   "file_extension": ".py",
   "mimetype": "text/x-python",
   "name": "python",
   "nbconvert_exporter": "python",
   "pygments_lexer": "ipython3",
   "version": "3.9.1rc1"
  }
 },
 "nbformat": 4,
 "nbformat_minor": 5
}
