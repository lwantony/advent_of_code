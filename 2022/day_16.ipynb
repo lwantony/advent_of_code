{
 "cells": [
  {
   "cell_type": "code",
   "execution_count": 1,
   "id": "3b0eb4ec-c64b-48ed-a516-5da62ac4387d",
   "metadata": {},
   "outputs": [],
   "source": [
    "from IPython.core.interactiveshell import InteractiveShell\n",
    "InteractiveShell.ast_node_interactivity = \"all\""
   ]
  },
  {
   "cell_type": "markdown",
   "id": "dfccab11-e94e-4201-88db-0c5e7b09ec4d",
   "metadata": {
    "tags": []
   },
   "source": [
    "# Part 1"
   ]
  },
  {
   "cell_type": "code",
   "execution_count": 2,
   "id": "e5454825-0d05-4e19-ab39-18dce111462a",
   "metadata": {},
   "outputs": [],
   "source": [
    "import re\n",
    "class Valve:\n",
    "    def __init__(self, name, flow, connections):\n",
    "        self.name = name\n",
    "        self.flow = int(flow)\n",
    "        self.connections = connections\n",
    "        if int(flow) == 0:\n",
    "            self.valve_on = True\n",
    "        else:\n",
    "            self.valve_on = False\n",
    "        \n",
    "    def __str__(self):\n",
    "        return f'{self.name} flow {self.flow} and goes to {\",\".join(self.connections)}'"
   ]
  },
  {
   "cell_type": "code",
   "execution_count": 55,
   "id": "b7cb82d4-09e5-401b-9271-948f698d9d3d",
   "metadata": {},
   "outputs": [],
   "source": [
    "from copy import deepcopy\n",
    "\n",
    "class ValveState:\n",
    "    def __init__(self, location, valves, time_left=30):\n",
    "        self.cur_loc = location\n",
    "        self.time_left = time_left\n",
    "        self.valves = valves\n",
    "        self.cost_map =  self._create_paths(valves)\n",
    "        self.total_flow=0\n",
    "        self.cur_flow=0\n",
    "        \n",
    "        self.releases = []\n",
    "        self.nvalves_open = sum([s.valve_on for s  in valves.values()])\n",
    "        self.valves_closed = [s.name for s  in valves.values() if not s.valve_on]\n",
    "        \n",
    "        \n",
    "    def _get_minutes_transition(self, start,end, valves):\n",
    "        search = deque([start])\n",
    "        steps_so_far = {start : 0}\n",
    "        \n",
    "        while len(search) > 0 :\n",
    "            current = search.popleft()\n",
    "            \n",
    "            if current == end:\n",
    "                return steps_so_far[end]\n",
    "            \n",
    "            for next_state in valves[current].connections:\n",
    "                nsteps = steps_so_far[current]+1\n",
    "                \n",
    "                if next_state not in steps_so_far.keys() or nsteps < steps_so_far[next_state]:\n",
    "                    steps_so_far[next_state] = nsteps\n",
    "                    search.append(next_state)\n",
    "                    \n",
    "    def _create_paths(self,valves):\n",
    "        cost_to_traverse = {}\n",
    "        for s in valves.keys():\n",
    "            cost_to_traverse[s] = {}\n",
    "            for e in valves.keys():\n",
    "                if s==e:\n",
    "                    continue\n",
    "                cost_to_traverse[s][e] = self._get_minutes_transition(s,e,valves)\n",
    "        return cost_to_traverse\n",
    "    \n",
    "    def is_state_complete(self):\n",
    "        remaining = self.valves_closed\n",
    "        if len(remaining) <1:\n",
    "            return True\n",
    "        icur =  self.cur_loc\n",
    "        itime = self.time_left\n",
    "        \n",
    "        if (itime < min([self.cost_map[icur][e]+1 for e in remaining])):\n",
    "            return True\n",
    "        return False\n",
    "    \n",
    "    \n",
    "    def next_possible_states(self):\n",
    "        neigh = deepcopy(self)\n",
    "        remaining = self.valves_closed\n",
    "        if len(remaining)<1:\n",
    "            return []\n",
    "        \n",
    "        itime = self.time_left\n",
    "        icur =  self.cur_loc\n",
    "       \n",
    "        neighbor_states =[]\n",
    "        if itime < min([self.cost_map[icur][e]+1 for e in remaining]):\n",
    "            return []\n",
    "                \n",
    "        for imove in remaining:\n",
    "            if itime < self.cost_map[icur][imove]+1 :\n",
    "                continue\n",
    "            n=deepcopy(neigh)\n",
    "            n.valves[imove].valve_on = True\n",
    "            n.nvalves_open +=1  \n",
    "            n.valves_closed.remove(imove)\n",
    "            i_new_time = itime - self.cost_map[icur][imove] -1\n",
    "            n.total_flow  += n.valves[imove].flow * (i_new_time)\n",
    "            n.releases.append((n.valves[imove].flow , (i_new_time)))\n",
    "            n.cur_loc = imove\n",
    "            n.time_left = i_new_time\n",
    "            neighbor_states.append(n)\n",
    "        return neighbor_states\n",
    "        \n",
    "    def __lt__(self, other):\n",
    "        return (self.time_left,-1*self.total_flow) < (other.time_left,-1*other.total_flow)\n",
    "        "
   ]
  },
  {
   "cell_type": "code",
   "execution_count": 13,
   "id": "9831fec9-ac74-4995-8300-71664f51b9ab",
   "metadata": {},
   "outputs": [],
   "source": [
    "import heapq\n",
    "\n",
    "class PriorityQueue:\n",
    "    def __init__(self):\n",
    "        self.elements: list[tuple[float, ValveState]] = []\n",
    "    \n",
    "    def empty(self) -> bool:\n",
    "        return not self.elements\n",
    "    \n",
    "    def put(self, item: ValveState, priority: float):\n",
    "        heapq.heappush(self.elements, (priority, item))\n",
    "    \n",
    "    def get(self) -> ValveState:\n",
    "        return heapq.heappop(self.elements)[1]"
   ]
  },
  {
   "cell_type": "code",
   "execution_count": 140,
   "id": "81fd10cd-c1de-4dc7-95e7-de1d9502711b",
   "metadata": {},
   "outputs": [],
   "source": [
    "from collections import deque\n",
    "\n",
    "def create_paths_one(initial_state):\n",
    "    frontier = PriorityQueue()\n",
    "    \n",
    "    seen =set([])\n",
    "    ends=[]\n",
    "    total_valvs = len(initial_state.valves)\n",
    "    frontier.put(initial_state,0)\n",
    "    \n",
    "    while not frontier.empty():\n",
    "        current = frontier.get()\n",
    "        \n",
    "        if current.is_state_complete() or current.nvalves_open == total_valvs :\n",
    "            ends.append(current)\n",
    "        \n",
    "        for next_state in current.next_possible_states():\n",
    "            \n",
    "            tag = (next_state.total_flow,next_state.nvalves_open, )\n",
    "            if tag not in seen:\n",
    "                seen.add(tag)\n",
    "                priority = 1 # (sum([next_state.valves[v].flow for v in next_state.valves_closed]))\n",
    "                frontier.put(next_state, priority)\n",
    "    \n",
    "    max_rel = max([ e.total_flow for e in ends])\n",
    "    for e in ends:\n",
    "        if max_rel == e.total_flow :\n",
    "            return max_rel, e\n",
    "#    return [ e.total_flow for e in ends]"
   ]
  },
  {
   "cell_type": "code",
   "execution_count": 141,
   "id": "ed69ab59-6f99-48d3-a3e5-03b296b9dc98",
   "metadata": {},
   "outputs": [],
   "source": [
    "def read_file(filename):\n",
    "    str_format= 'Valve (\\w+) has flow rate=(\\d+); tunnels? leads? to valves? (.*)'\n",
    "    valves={}\n",
    "    with open(filename, 'r') as f :\n",
    "        for line in f.readlines():\n",
    "            m = re.match(str_format,line)\n",
    "            vals = m.groups()\n",
    "            neighs = [x.strip() for x in vals[2].split(',')]\n",
    "            valves[vals[0]] = Valve(vals[0], vals[1], neighs)\n",
    "    return valves"
   ]
  },
  {
   "cell_type": "code",
   "execution_count": 142,
   "id": "1caa506c-864a-4f06-bf5f-1f8bcabec868",
   "metadata": {},
   "outputs": [],
   "source": [
    "def part_one(filename):\n",
    "    initial_valves = read_file(filename)\n",
    "    initial_state = ValveState( 'AA', initial_valves)\n",
    "    max_rel, e = create_paths_one(initial_state )\n",
    "    return max_rel"
   ]
  },
  {
   "cell_type": "code",
   "execution_count": 143,
   "id": "860c51cc-bba0-43f1-af46-07861a9ea7b9",
   "metadata": {},
   "outputs": [
    {
     "name": "stdout",
     "output_type": "stream",
     "text": [
      "CPU times: user 319 ms, sys: 3.69 ms, total: 323 ms\n",
      "Wall time: 323 ms\n"
     ]
    },
    {
     "data": {
      "text/plain": [
       "1651"
      ]
     },
     "execution_count": 143,
     "metadata": {},
     "output_type": "execute_result"
    }
   ],
   "source": [
    "%%time \n",
    "part_one('input/test_16.txt')"
   ]
  },
  {
   "cell_type": "code",
   "execution_count": 144,
   "id": "669a04b3-e9e3-4083-8c8d-b1de61512d8a",
   "metadata": {},
   "outputs": [
    {
     "name": "stdout",
     "output_type": "stream",
     "text": [
      "CPU times: user 25.5 s, sys: 95 ms, total: 25.6 s\n",
      "Wall time: 25.6 s\n"
     ]
    },
    {
     "data": {
      "text/plain": [
       "1751"
      ]
     },
     "execution_count": 144,
     "metadata": {},
     "output_type": "execute_result"
    }
   ],
   "source": [
    "%%time \n",
    "part_one('input/day_16.txt')"
   ]
  },
  {
   "cell_type": "markdown",
   "id": "482e9bc2-551c-4683-9f40-99997c348506",
   "metadata": {
    "tags": []
   },
   "source": [
    "# Part 2"
   ]
  },
  {
   "cell_type": "code",
   "execution_count": 12,
   "id": "ffa4a357-8849-4917-9006-5e6c9cdaa729",
   "metadata": {},
   "outputs": [],
   "source": [
    "from copy import deepcopy\n",
    "from collections import deque\n",
    "\n",
    "class ValveStateElephant:\n",
    "    def __init__(self, location, valves, time_left=26):\n",
    "        self.cur_loc = [location,location]\n",
    "        self.time_left = [time_left, time_left]\n",
    "        \n",
    "        \n",
    "        self.valves = valves\n",
    "        \n",
    "        self.cost_map =  self._create_paths(valves)\n",
    "        self.total_flow=0\n",
    "        self.cur_flow=0\n",
    "        \n",
    "        self.releases = []\n",
    "        self.nvalves_open = sum([s.valve_on for s  in valves.values()])\n",
    "        self.valves_closed = [s.name for s  in valves.values() if not s.valve_on]\n",
    "        \n",
    "        \n",
    "    def _get_minutes_transition(self, start,end, valves):\n",
    "        search = deque([start])\n",
    "        steps_so_far = {start : 0}\n",
    "        \n",
    "        while len(search) > 0 :\n",
    "            current = search.popleft()\n",
    "            \n",
    "            if current == end:\n",
    "                return steps_so_far[end]\n",
    "            \n",
    "            for next_state in valves[current].connections:\n",
    "                nsteps = steps_so_far[current]+1\n",
    "                \n",
    "                if next_state not in steps_so_far.keys() or nsteps < steps_so_far[next_state]:\n",
    "                    steps_so_far[next_state] = nsteps\n",
    "                    search.append(next_state)\n",
    "                    \n",
    "    def _create_paths(self,valves):\n",
    "        cost_to_traverse = {}\n",
    "        for s in valves.keys():\n",
    "            cost_to_traverse[s] = {}\n",
    "            for e in valves.keys():\n",
    "                if s==e:\n",
    "                    continue\n",
    "                cost_to_traverse[s][e] = self._get_minutes_transition(s,e,valves)\n",
    "        return cost_to_traverse\n",
    "                \n",
    "        \n",
    "    def set_state(self,iloc, jloc):\n",
    "        self.cur_loc[0] = iloc\n",
    "        self.cur_loc[1] = jloc\n",
    "    \n",
    "    def is_state_complete(self):\n",
    "        remaining = self.valves_closed\n",
    "        if len(remaining) <1:\n",
    "            return True\n",
    "        icur =  self.cur_loc[0]\n",
    "        jcur =  self.cur_loc[1]\n",
    "        itime = self.time_left[0]\n",
    "        jtime = self.time_left[1]\n",
    "        \n",
    "        if ((itime < min([self.cost_map[icur][e]+1 for e in remaining]))\n",
    "            and (jtime < min([self.cost_map[jcur][e]+1 for e in remaining]) )):\n",
    "            return True\n",
    "        return False\n",
    "        \n",
    "        \n",
    "    def next_possible_states(self):\n",
    "        neigh = deepcopy(self)\n",
    "        remaining = self.valves_closed\n",
    "        if len(remaining)<1:\n",
    "            return []\n",
    "        \n",
    "        itime = self.time_left[0]\n",
    "        jtime = self.time_left[1]\n",
    "        \n",
    "        icur =  self.cur_loc[0]\n",
    "        jcur =  self.cur_loc[1]\n",
    "       \n",
    "        neighbor_states =[]\n",
    "        if itime < min([self.cost_map[icur][e]+1 for e in remaining]):\n",
    "            imove=icur\n",
    "            for jmove in remaining:\n",
    "                if jtime < self.cost_map[jcur][jmove]+1 :\n",
    "                    continue\n",
    "                n = deepcopy(neigh)\n",
    "                n.valves[jmove].valve_on = True\n",
    "                n.nvalves_open +=1  \n",
    "                n.valves_closed.remove(jmove)\n",
    "                new_time = jtime- self.cost_map[jcur][jmove] -1\n",
    "                n.total_flow  += n.valves[jmove].flow * (new_time)\n",
    "                n.releases.append((n.valves[jmove].flow , (new_time)))\n",
    "                n.set_state(imove, jmove)\n",
    "                n.time_left = [itime, new_time ] \n",
    "                neighbor_states.append(n)\n",
    "                \n",
    "        for imove in remaining:\n",
    "            if itime < self.cost_map[icur][imove]+1 :\n",
    "                continue\n",
    "            n=deepcopy(neigh)\n",
    "            n.valves[imove].valve_on = True\n",
    "            n.nvalves_open +=1  \n",
    "            n.valves_closed.remove(imove)\n",
    "            i_new_time = itime- self.cost_map[icur][imove] -1\n",
    "            n.total_flow  += n.valves[imove].flow * (i_new_time)\n",
    "            n.releases.append((n.valves[imove].flow , (i_new_time)))\n",
    "            \n",
    "            if jtime < min([self.cost_map[jcur][e]+1 for e in remaining]):\n",
    "                n.set_state(imove, jcur)\n",
    "                n.time_left = [i_new_time, jtime ] \n",
    "                neighbor_states.append(n)\n",
    "                continue\n",
    "                \n",
    "            for jmove in remaining:\n",
    "                if jmove == imove:\n",
    "                    continue\n",
    "                    \n",
    "                if jtime < self.cost_map[jcur][jmove]+1 :\n",
    "                    continue\n",
    "            \n",
    "                nn = deepcopy(n)\n",
    "                nn.valves[jmove].valve_on = True\n",
    "                nn.nvalves_open +=1  \n",
    "                nn.valves_closed.remove(jmove)\n",
    "                j_new_time = jtime- self.cost_map[jcur][jmove] -1\n",
    "                nn.total_flow  += nn.valves[jmove].flow * (j_new_time)\n",
    "                nn.releases.append((nn.valves[jmove].flow , (j_new_time)))\n",
    "                nn.set_state(imove, jmove)\n",
    "                nn.time_left = [i_new_time, j_new_time ] \n",
    "                neighbor_states.append(nn)\n",
    "                \n",
    "        return neighbor_states\n",
    "                    \n",
    "                    \n",
    "        \n",
    "    def __lt__(self, other):\n",
    "        return self.total_flow > other.total_flow\n",
    "        "
   ]
  },
  {
   "cell_type": "code",
   "execution_count": 13,
   "id": "9779da0c-69a5-40bf-94f5-02402e1c83c8",
   "metadata": {},
   "outputs": [],
   "source": [
    "import heapq\n",
    "\n",
    "class PriorityQueue:\n",
    "    def __init__(self):\n",
    "        self.elements: list[tuple[float, ValveStateElephant]] = []\n",
    "    \n",
    "    def empty(self) -> bool:\n",
    "        return not self.elements\n",
    "    \n",
    "    def put(self, item: ValveStateElephant, priority: float):\n",
    "        heapq.heappush(self.elements, (priority, item))\n",
    "    \n",
    "    def get(self) -> ValveStateElephant:\n",
    "        return heapq.heappop(self.elements)[1]"
   ]
  },
  {
   "cell_type": "code",
   "execution_count": 182,
   "id": "165cadd1-84d1-487f-892c-f9753e84aac6",
   "metadata": {},
   "outputs": [],
   "source": [
    "from collections import deque\n",
    "\n",
    "def create_paths_two(initial_state):\n",
    "#    frontier = deque([]) \n",
    "    \n",
    "    frontier = PriorityQueue()\n",
    "    \n",
    "    seen =set([])\n",
    "    ends=[]\n",
    "    total_valvs = len(initial_state.valves)\n",
    "#    frontier.append(initial_state)\n",
    "    frontier.put(initial_state,0)\n",
    "    \n",
    "#    while len(frontier)>0:\n",
    "    while not frontier.empty():\n",
    "#        current = frontier.popleft()\n",
    "        current = frontier.get()\n",
    "        \n",
    "        if current.is_state_complete() or current.nvalves_open == total_valvs :\n",
    "            ends.append(current)\n",
    "            break\n",
    "        \n",
    "        for next_state in current.next_possible_states():\n",
    "            \n",
    "            tag = (next_state.total_flow,next_state.nvalves_open)\n",
    "            if tag not in seen:\n",
    "                seen.add(tag)\n",
    "                \n",
    "                left =sum([s.flow for s in  next_state.valves.values() if not s.valve_on])\n",
    "                \n",
    "                priority = -1*(next_state.total_flow + left*(sum(next_state.time_left)/4))\n",
    "#                priority = -1*(next_state.total_flow+ left*(sum(next_state.time_left)))\n",
    "                \n",
    "                frontier.put(next_state, priority)\n",
    "#                frontier.append(next_state)\n",
    "    \n",
    "    max_rel = max([ e.total_flow for e in ends])\n",
    "    for e in ends:\n",
    "        if max_rel == e.total_flow :\n",
    "            return max_rel, e\n",
    "#    return [ e.total_flow for e in ends]"
   ]
  },
  {
   "cell_type": "code",
   "execution_count": 183,
   "id": "43ddb84a-d876-4f81-90d4-27a14f472600",
   "metadata": {},
   "outputs": [],
   "source": [
    "def part_two(filename):\n",
    "    initial_valves = read_file(filename)\n",
    "    initial_state = ValveStateElephant( 'AA', initial_valves)\n",
    "    max_rel = create_paths_two(initial_state )\n",
    "    return max_rel"
   ]
  },
  {
   "cell_type": "code",
   "execution_count": 184,
   "id": "3acf7d28-72ab-451d-93f8-9f07936b9df9",
   "metadata": {},
   "outputs": [
    {
     "name": "stdout",
     "output_type": "stream",
     "text": [
      "CPU times: user 26.6 ms, sys: 1.4 ms, total: 28 ms\n",
      "Wall time: 27.8 ms\n"
     ]
    },
    {
     "data": {
      "text/plain": [
       "1707"
      ]
     },
     "execution_count": 184,
     "metadata": {},
     "output_type": "execute_result"
    }
   ],
   "source": [
    "%%time\n",
    "t,e = part_two('input/test_16.txt')\n",
    "t\n",
    "#1707"
   ]
  },
  {
   "cell_type": "code",
   "execution_count": 185,
   "id": "3a190d37-fe6a-4f08-ac52-9a434828ec85",
   "metadata": {},
   "outputs": [
    {
     "name": "stdout",
     "output_type": "stream",
     "text": [
      "CPU times: user 58.2 s, sys: 323 ms, total: 58.6 s\n",
      "Wall time: 58.6 s\n"
     ]
    },
    {
     "data": {
      "text/plain": [
       "2207"
      ]
     },
     "execution_count": 185,
     "metadata": {},
     "output_type": "execute_result"
    }
   ],
   "source": [
    "%%time\n",
    "t,e = part_two('input/day_16.txt')\n",
    "t"
   ]
  },
  {
   "cell_type": "code",
   "execution_count": null,
   "id": "4c505b62-dc69-4a36-ae24-e2bf091f6d25",
   "metadata": {},
   "outputs": [],
   "source": [
    "#1837 is wrong :/ \n",
    "#2154 is too low as well -_- "
   ]
  }
 ],
 "metadata": {
  "kernelspec": {
   "display_name": "work_env",
   "language": "python",
   "name": "work_env"
  },
  "language_info": {
   "codemirror_mode": {
    "name": "ipython",
    "version": 3
   },
   "file_extension": ".py",
   "mimetype": "text/x-python",
   "name": "python",
   "nbconvert_exporter": "python",
   "pygments_lexer": "ipython3",
   "version": "3.9.1rc1"
  }
 },
 "nbformat": 4,
 "nbformat_minor": 5
}
