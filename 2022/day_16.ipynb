{
 "cells": [
  {
   "cell_type": "code",
   "execution_count": 1,
   "id": "3b0eb4ec-c64b-48ed-a516-5da62ac4387d",
   "metadata": {},
   "outputs": [],
   "source": [
    "from IPython.core.interactiveshell import InteractiveShell\n",
    "InteractiveShell.ast_node_interactivity = \"all\""
   ]
  },
  {
   "cell_type": "markdown",
   "id": "dfccab11-e94e-4201-88db-0c5e7b09ec4d",
   "metadata": {
    "tags": []
   },
   "source": [
    "# Part 1"
   ]
  },
  {
   "cell_type": "code",
   "execution_count": 2,
   "id": "4ffe2a7d-c723-432e-bb12-d6cf5f0d2e11",
   "metadata": {},
   "outputs": [],
   "source": [
    "import re\n",
    "class Valve:\n",
    "    def __init__(self, name, flow, connections):\n",
    "        self.name = name\n",
    "        self.flow = int(flow)\n",
    "        self.connections = connections\n",
    "        if int(flow) == 0:\n",
    "            self.valve_on = True\n",
    "        else:\n",
    "            self.valve_on = False\n",
    "        \n",
    "    def __str__(self):\n",
    "        return f'{self.name} flow {self.flow} and goes to {\",\".join(self.connections)}'"
   ]
  },
  {
   "cell_type": "code",
   "execution_count": 3,
   "id": "89de05b1-3bb9-4e28-9c73-a56204edbca4",
   "metadata": {},
   "outputs": [],
   "source": [
    "from copy import deepcopy\n",
    "\n",
    "class ValveState:\n",
    "    def __init__(self, location, valves, time_left=30):\n",
    "        self.cur_loc = location\n",
    "        self.time_left = time_left\n",
    "        self.valves = valves\n",
    "        self.total_flow=0\n",
    "        self.cur_flow=0\n",
    "        self.relief_per_min = 0\n",
    "        \n",
    "        self.releases = []\n",
    "        self.nvalves_open = sum([s.valve_on for s  in valves.values()])\n",
    "        \n",
    "    def decrement_min(self):\n",
    "        self.cur_flow += self.relief_per_min\n",
    "        self.time_left -= 1\n",
    "        \n",
    "    def cost_of_state(self):\n",
    "        cost =0\n",
    "        for valv in self.valves.values():\n",
    "            if not valv.valve_on:\n",
    "                cost +=valv.flow\n",
    "        return cost + (30-self.time_left)\n",
    "        \n",
    "    def next_possible_states(self):\n",
    "        neigh = deepcopy(self)\n",
    "        \n",
    "        neigh.decrement_min()\n",
    "        neighbor_states=[]\n",
    "        \n",
    "        if not neigh.valves[neigh.cur_loc].valve_on:\n",
    "            neigh.valves[neigh.cur_loc].valve_on = True\n",
    "            neigh.nvalves_open +=1  \n",
    "            neigh.relief_per_min  += neigh.valves[neigh.cur_loc].flow\n",
    "            neigh.total_flow  += neigh.valves[neigh.cur_loc].flow * (self.time_left-1)\n",
    "            neigh.releases.append((neigh.valves[neigh.cur_loc].flow , (self.time_left-1)))\n",
    "#            neigh.total_flow  += neigh.valves[neigh.cur_loc].flow * (self.time_left-1)\n",
    "            neighbor_states.append(neigh)\n",
    "        \n",
    "        next_tunnels = self.valves[self.cur_loc].connections\n",
    "        for loc in next_tunnels:\n",
    "            new_neigh = deepcopy(self)\n",
    "            new_neigh.decrement_min()\n",
    "            new_neigh.cur_loc = loc\n",
    "            neighbor_states.append(new_neigh)\n",
    "        return neighbor_states\n",
    "        \n",
    "    def __lt__(self, other):\n",
    "        return (self.time_left,-1*self.total_flow) < (other.time_left,-1*other.total_flow)\n",
    "        "
   ]
  },
  {
   "cell_type": "code",
   "execution_count": 4,
   "id": "9b390c4c",
   "metadata": {},
   "outputs": [],
   "source": [
    "import heapq\n",
    "class PriorityQueue:\n",
    "    def __init__(self):\n",
    "        self.elements: list[tuple[float, ValveState]] = []\n",
    "    \n",
    "    def empty(self) -> bool:\n",
    "        return not self.elements\n",
    "    \n",
    "    def put(self, item: ValveState, priority: float):\n",
    "        heapq.heappush(self.elements, (priority, item))\n",
    "    \n",
    "    def get(self) -> tuple:\n",
    "        return heapq.heappop(self.elements)[1]"
   ]
  },
  {
   "cell_type": "code",
   "execution_count": null,
   "id": "641d48d7-82b0-43fa-8f64-185439deb31e",
   "metadata": {},
   "outputs": [],
   "source": []
  },
  {
   "cell_type": "code",
   "execution_count": 17,
   "id": "25e322e2-27d9-4667-98e3-736214b932e6",
   "metadata": {},
   "outputs": [],
   "source": [
    "from collections import deque\n",
    "\n",
    "def create_paths(initial_state):\n",
    "    frontier = deque([]) \n",
    "    \n",
    "    seen =set([])\n",
    "    ends=[]\n",
    "    total_valvs = len(initial_state.valves)\n",
    "    frontier.append(initial_state)\n",
    "    \n",
    "    while len(frontier)>0:\n",
    "        current = frontier.popleft()\n",
    "        \n",
    "        if current.time_left == 0 or current.nvalves_open == total_valvs :\n",
    "            ends.append(current)\n",
    "#            break\n",
    "        \n",
    "        for next_state in current.next_possible_states():\n",
    "            \n",
    "            tag = (next_state.cur_loc, next_state.relief_per_min,next_state.nvalves_open)\n",
    "            if tag not in seen:\n",
    "                seen.add(tag)\n",
    "                frontier.append(next_state)\n",
    "    \n",
    "    max_rel = max([ e.total_flow for e in ends])\n",
    "    for e in ends:\n",
    "        if max_rel == e.total_flow :\n",
    "            return max_rel, e\n",
    "#    return [ e.total_flow for e in ends]"
   ]
  },
  {
   "cell_type": "code",
   "execution_count": 18,
   "id": "1361cff3-2f4d-4a68-8bfe-14ef9789f0e1",
   "metadata": {},
   "outputs": [],
   "source": [
    "def read_file(filename):\n",
    "    str_format= 'Valve (\\w+) has flow rate=(\\d+); tunnels? leads? to valves? (.*)'\n",
    "    valves={}\n",
    "    with open(filename, 'r') as f :\n",
    "        for line in f.readlines():\n",
    "            m = re.match(str_format,line)\n",
    "            vals = m.groups()\n",
    "            neighs = [x.strip() for x in vals[2].split(',')]\n",
    "            valves[vals[0]] = Valve(vals[0], vals[1], neighs)\n",
    "    return valves"
   ]
  },
  {
   "cell_type": "code",
   "execution_count": 19,
   "id": "315a46f2-77c1-4820-84d1-1fc291e4822c",
   "metadata": {},
   "outputs": [],
   "source": [
    "def part_one(filename):\n",
    "    initial_valves = read_file(filename)\n",
    "    initial_state = ValveState( 'AA', initial_valves)\n",
    "    max_rel, e = create_paths(initial_state )\n",
    "    return max_rel"
   ]
  },
  {
   "cell_type": "code",
   "execution_count": 20,
   "id": "d474072d-f459-4918-85a1-58b6fc9af253",
   "metadata": {},
   "outputs": [
    {
     "name": "stdout",
     "output_type": "stream",
     "text": [
      "CPU times: user 148 ms, sys: 5.11 ms, total: 154 ms\n",
      "Wall time: 153 ms\n"
     ]
    },
    {
     "data": {
      "text/plain": [
       "1631"
      ]
     },
     "execution_count": 20,
     "metadata": {},
     "output_type": "execute_result"
    }
   ],
   "source": [
    "%%time \n",
    "part_one('input/test_16.txt')"
   ]
  },
  {
   "cell_type": "code",
   "execution_count": 9,
   "id": "babf78cc-15bb-46b6-b2dd-16c8389dbf73",
   "metadata": {},
   "outputs": [
    {
     "name": "stdout",
     "output_type": "stream",
     "text": [
      "CPU times: user 1min 5s, sys: 134 ms, total: 1min 5s\n",
      "Wall time: 1min 5s\n"
     ]
    },
    {
     "data": {
      "text/plain": [
       "1751"
      ]
     },
     "execution_count": 9,
     "metadata": {},
     "output_type": "execute_result"
    }
   ],
   "source": [
    "%%time \n",
    "part_one('input/day_16.txt')"
   ]
  },
  {
   "cell_type": "markdown",
   "id": "482e9bc2-551c-4683-9f40-99997c348506",
   "metadata": {
    "tags": []
   },
   "source": [
    "# Part 2"
   ]
  },
  {
   "cell_type": "code",
   "execution_count": 50,
   "id": "ef85c91f-57d0-4b87-87ac-c6db362fc357",
   "metadata": {},
   "outputs": [],
   "source": [
    "from copy import deepcopy\n",
    "\n",
    "class ValveStateElephant:\n",
    "    def __init__(self, location, valves, time_left=26):\n",
    "        self.cur_loc = [location,location]\n",
    "        self.time_left = time_left\n",
    "        self.valves = valves\n",
    "        self.total_flow=0\n",
    "        self.cur_flow=0\n",
    "        self.relief_per_min = 0\n",
    "        \n",
    "        self.releases = []\n",
    "        self.nvalves_open = sum([s.valve_on for s  in valves.values()])\n",
    "        \n",
    "    def decrement_min(self):\n",
    "        self.cur_flow += self.relief_per_min\n",
    "        self.time_left -= 1\n",
    "        \n",
    "    def set_state(self,iloc, jloc):\n",
    "        self.cur_loc[0] = iloc\n",
    "        self.cur_loc[1] = jloc\n",
    "        \n",
    "    def get_priority(self):\n",
    "        potential = sum([s.flow for s in self.valves.values() if not s.valve_on])\n",
    "        return potential/(self.time_left+1)\n",
    "        \n",
    "    def next_possible_states(self):\n",
    "        neigh = deepcopy(self)\n",
    "        \n",
    "        neigh.decrement_min()\n",
    "        neighbor_states=[]\n",
    "        next_tunnels_i = self.valves[neigh.cur_loc[0]].connections\n",
    "        next_tunnels_j = self.valves[neigh.cur_loc[1]].connections\n",
    "        if not neigh.valves[neigh.cur_loc[0]].valve_on:\n",
    "            next_tunnels_i.append(neigh.cur_loc[0])\n",
    "            \n",
    "        if not neigh.valves[neigh.cur_loc[1]].valve_on:\n",
    "            next_tunnels_j.append(neigh.cur_loc[1])\n",
    "            \n",
    "            \n",
    "        for iloc in next_tunnels_i:\n",
    "            n = deepcopy(neigh)\n",
    "            if iloc == neigh.cur_loc[0]:\n",
    "                n.valves[iloc].valve_on = True\n",
    "                n.nvalves_open +=1  \n",
    "                n.relief_per_min  += n.valves[iloc].flow\n",
    "                n.total_flow  += n.valves[iloc].flow * (self.time_left-1)\n",
    "                n.releases.append((n.valves[iloc].flow , (self.time_left-1)))\n",
    "            \n",
    "            for jloc in next_tunnels_j:\n",
    "                nn= deepcopy(n)\n",
    "                if (iloc == jloc) and (self.cur_loc[0]==self.cur_loc[1])  and (iloc == self.cur_loc[0]): \n",
    "                    continue\n",
    "                    \n",
    "                if jloc == neigh.cur_loc[1]:\n",
    "                    nn.valves[jloc].valve_on = True\n",
    "                    nn.nvalves_open +=1  \n",
    "                    nn.relief_per_min  += nn.valves[jloc].flow\n",
    "                    nn.total_flow  += nn.valves[jloc].flow * (self.time_left-1)\n",
    "                    nn.releases.append((nn.valves[jloc].flow , (self.time_left-1)))\n",
    "                    \n",
    "                nn.set_state(iloc,jloc)\n",
    "                neighbor_states.append(nn)\n",
    "                \n",
    "        return neighbor_states\n",
    "    \n",
    "    def __lt__(self, other):\n",
    "        return (-1*self.relief_per_min/self.time_left,-1*self.total_flow) < (-1*other.relief_per_min/other.time_left,-1*other.total_flow)\n",
    "        "
   ]
  },
  {
   "cell_type": "code",
   "execution_count": 51,
   "id": "381ce43e-7938-441a-8a96-fc874b6cc80a",
   "metadata": {},
   "outputs": [],
   "source": [
    "from collections import deque\n",
    "\n",
    "def create_paths_two(initial_state):\n",
    "    frontier = PriorityQueue() \n",
    "    \n",
    "    seen =set([])\n",
    "    ends=[]\n",
    "    total_valvs = len(initial_state.valves)\n",
    "#    frontier.append(initial_state)\n",
    "    frontier.put(initial_state,0)\n",
    "    \n",
    "    while not frontier.empty():\n",
    "#        current = frontier.popleft()\n",
    "        current = frontier.get()\n",
    "        \n",
    "        if current.time_left == 0 or current.nvalves_open == total_valvs :\n",
    "            return current.total_flow\n",
    "            ends.append(current)\n",
    "        \n",
    "        for next_state in current.next_possible_states():\n",
    "            tag = ('-'.join(next_state.cur_loc), next_state.relief_per_min,next_state.nvalves_open)\n",
    "            if tag not in seen:\n",
    "                seen.add(tag)\n",
    "#                frontier.append(next_state)\n",
    "                priority = next_state.get_priority()\n",
    "                frontier.put(next_state,priority)\n",
    "    \n",
    "    max_rel = max([ e.total_flow for e in ends])\n",
    "    for e in ends:\n",
    "        if max_rel == e.total_flow :\n",
    "            return max_rel, e\n",
    "#    return [ e.total_flow for e in ends], None"
   ]
  },
  {
   "cell_type": "code",
   "execution_count": 52,
   "id": "dfe02a05-e055-4fb8-b088-f02943779622",
   "metadata": {},
   "outputs": [],
   "source": [
    "def part_two(filename):\n",
    "    initial_valves = read_file(filename)\n",
    "    initial_state = ValveStateElephant( 'AA', initial_valves)\n",
    "    max_rel = create_paths_two(initial_state )\n",
    "    return max_rel"
   ]
  },
  {
   "cell_type": "code",
   "execution_count": 53,
   "id": "4ad0277a-a679-4c71-be36-990b99555471",
   "metadata": {},
   "outputs": [
    {
     "name": "stdout",
     "output_type": "stream",
     "text": [
      "CPU times: user 71.3 ms, sys: 2.48 ms, total: 73.8 ms\n",
      "Wall time: 73.6 ms\n"
     ]
    },
    {
     "data": {
      "text/plain": [
       "1572"
      ]
     },
     "execution_count": 53,
     "metadata": {},
     "output_type": "execute_result"
    }
   ],
   "source": [
    "%%time\n",
    "part_two('input/test_16.txt')\n",
    "#1707"
   ]
  },
  {
   "cell_type": "code",
   "execution_count": null,
   "id": "0fa252dc-76d2-460d-89bb-1a42ee53f13a",
   "metadata": {},
   "outputs": [],
   "source": [
    "%%time\n",
    "part_two('input/day_16.txt')"
   ]
  },
  {
   "cell_type": "code",
   "execution_count": null,
   "id": "0876694c-2472-4eab-9d5a-5c55558cf16b",
   "metadata": {},
   "outputs": [],
   "source": []
  }
 ],
 "metadata": {
  "kernelspec": {
   "display_name": "work_env",
   "language": "python",
   "name": "work_env"
  },
  "language_info": {
   "codemirror_mode": {
    "name": "ipython",
    "version": 3
   },
   "file_extension": ".py",
   "mimetype": "text/x-python",
   "name": "python",
   "nbconvert_exporter": "python",
   "pygments_lexer": "ipython3",
   "version": "3.9.1rc1"
  }
 },
 "nbformat": 4,
 "nbformat_minor": 5
}
