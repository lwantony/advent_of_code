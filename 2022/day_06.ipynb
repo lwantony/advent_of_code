{
 "cells": [
  {
   "cell_type": "code",
   "execution_count": 1,
   "id": "3b0eb4ec-c64b-48ed-a516-5da62ac4387d",
   "metadata": {},
   "outputs": [],
   "source": [
    "from IPython.core.interactiveshell import InteractiveShell\n",
    "InteractiveShell.ast_node_interactivity = \"all\""
   ]
  },
  {
   "cell_type": "markdown",
   "id": "dfccab11-e94e-4201-88db-0c5e7b09ec4d",
   "metadata": {},
   "source": [
    "# Part 1"
   ]
  },
  {
   "cell_type": "code",
   "execution_count": 2,
   "id": "2754a2d6-305c-4281-b4fd-7704af0c5b61",
   "metadata": {},
   "outputs": [],
   "source": [
    "test_str='bvwbjplbgvbhsrlpgdmjqwftvncz'"
   ]
  },
  {
   "cell_type": "code",
   "execution_count": 8,
   "id": "b2cbdaf3-1bf3-4313-aecc-801f4e0ed801",
   "metadata": {},
   "outputs": [],
   "source": [
    "def find_start_index(string,size=4):\n",
    "    tot=len(string)\n",
    "    start=size\n",
    "    while start<tot:\n",
    "        chunk=string[start-size:start]\n",
    "        if len(set(list(chunk))) == size:\n",
    "            return start\n",
    "        start+=1\n",
    "    return tot\n"
   ]
  },
  {
   "cell_type": "code",
   "execution_count": 6,
   "id": "7f0e795b-25f6-4ce3-b33d-97d64f7b59cc",
   "metadata": {},
   "outputs": [
    {
     "data": {
      "text/plain": [
       "5"
      ]
     },
     "execution_count": 6,
     "metadata": {},
     "output_type": "execute_result"
    }
   ],
   "source": [
    "find_start_index(test_str)"
   ]
  },
  {
   "cell_type": "code",
   "execution_count": 9,
   "id": "84cf784d-bcc3-4b24-ba38-99632941e2bc",
   "metadata": {},
   "outputs": [
    {
     "name": "stdout",
     "output_type": "stream",
     "text": [
      "1531 2518\n"
     ]
    }
   ],
   "source": [
    "with open('input/day_06.txt','r') as f:\n",
    "    line=f.readline().strip()\n",
    "    p1 = find_start_index(line,4)\n",
    "    p2 = find_start_index(line,14)\n",
    "    print(p1,p2)\n",
    "    \n"
   ]
  },
  {
   "cell_type": "markdown",
   "id": "aa876976-0b26-4f23-a673-7ed38cca66d0",
   "metadata": {},
   "source": [
    "# Part 2"
   ]
  },
  {
   "cell_type": "code",
   "execution_count": 75,
   "id": "ef6d870d-6a55-4485-8336-88008c9c83a1",
   "metadata": {},
   "outputs": [],
   "source": [
    "def perform_move_order_retain(instruction, crates):\n",
    "    m=re.match('move (\\d+) from (\\d) to (\\d)',instruction )\n",
    "    if m is None:\n",
    "        return crates\n",
    "    \n",
    "    nmove = int(m.groups()[0])\n",
    "    from_crate = m.groups()[1]\n",
    "    to_crate = m.groups()[2]\n",
    "    \n",
    "    move=crates[from_crate][-nmove:]\n",
    "    crates[from_crate]=crates[from_crate][:-nmove]\n",
    "    crates[to_crate].extend(move)\n",
    "    \n",
    "    return crates \n",
    "        "
   ]
  },
  {
   "cell_type": "code",
   "execution_count": 76,
   "id": "046cfb97-8425-4872-9543-392eb6d3c305",
   "metadata": {},
   "outputs": [
    {
     "data": {
      "text/plain": [
       "{'1': ['V', 'C', 'D', 'R', 'Z', 'G', 'B', 'W'],\n",
       " '2': ['G', 'W', 'F', 'C', 'B', 'S', 'T', 'V'],\n",
       " '3': ['C', 'B', 'S', 'N', 'W'],\n",
       " '4': ['Q', 'G', 'M', 'N', 'J', 'V', 'C', 'P'],\n",
       " '5': ['T', 'S', 'L', 'F', 'D', 'H', 'B'],\n",
       " '6': ['J', 'V', 'T', 'W', 'M', 'N'],\n",
       " '7': ['P', 'F', 'L', 'C', 'S', 'T', 'G'],\n",
       " '8': ['B', 'D', 'Z'],\n",
       " '9': ['M', 'N', 'Z', 'W']}"
      ]
     },
     "execution_count": 76,
     "metadata": {},
     "output_type": "execute_result"
    },
    {
     "data": {
      "text/plain": [
       "{'1': ['V', 'C', 'D', 'R', 'Z', 'G', 'B', 'W'],\n",
       " '2': ['G', 'W', 'F', 'C', 'B', 'S', 'T', 'V'],\n",
       " '3': ['C', 'B', 'S', 'N', 'W'],\n",
       " '4': ['Q', 'G', 'M', 'N', 'J', 'V', 'C', 'P', 'D', 'Z'],\n",
       " '5': ['T', 'S', 'L', 'F', 'D', 'H', 'B'],\n",
       " '6': ['J', 'V', 'T', 'W', 'M', 'N'],\n",
       " '7': ['P', 'F', 'L', 'C', 'S', 'T', 'G'],\n",
       " '8': ['B'],\n",
       " '9': ['M', 'N', 'Z', 'W']}"
      ]
     },
     "execution_count": 76,
     "metadata": {},
     "output_type": "execute_result"
    }
   ],
   "source": [
    "start = build_deques(initial_state)\n",
    "start\n",
    "perform_move_order_retain(test_instruct,start)"
   ]
  },
  {
   "cell_type": "code",
   "execution_count": 77,
   "id": "8c357241-3c5c-4d43-90a1-9801aa4f464a",
   "metadata": {},
   "outputs": [
    {
     "name": "stdout",
     "output_type": "stream",
     "text": [
      "VLCWHTDSZ\n"
     ]
    }
   ],
   "source": [
    "\n",
    "#initial_state=[]\n",
    "with open('input/day_05.txt','r') as f:\n",
    "    initial_state=[]\n",
    "    crates=None\n",
    "    read_state = True\n",
    "    for line in f.readlines():\n",
    "        line=line.strip('\\n')\n",
    "        if len(line) ==0:\n",
    "            read_state=False\n",
    "            crates = build_deques(initial_state)\n",
    "            continue\n",
    "        if read_state:\n",
    "            initial_state.append(line)\n",
    "        \n",
    "        else:\n",
    "            crates = perform_move_order_retain(line, crates)\n",
    "        \n",
    "    final_string=''\n",
    "    for c in crates.values():\n",
    "        final_string+=c[-1]\n",
    "    print(final_string)\n",
    "            \n",
    "        "
   ]
  },
  {
   "cell_type": "code",
   "execution_count": null,
   "id": "56755ac5-103f-4903-81b9-c97964cdfd7f",
   "metadata": {},
   "outputs": [],
   "source": []
  }
 ],
 "metadata": {
  "kernelspec": {
   "display_name": "work_env",
   "language": "python",
   "name": "work_env"
  },
  "language_info": {
   "codemirror_mode": {
    "name": "ipython",
    "version": 3
   },
   "file_extension": ".py",
   "mimetype": "text/x-python",
   "name": "python",
   "nbconvert_exporter": "python",
   "pygments_lexer": "ipython3",
   "version": "3.9.1rc1"
  }
 },
 "nbformat": 4,
 "nbformat_minor": 5
}
