{
 "cells": [
  {
   "cell_type": "code",
   "execution_count": 44,
   "id": "3b0eb4ec-c64b-48ed-a516-5da62ac4387d",
   "metadata": {},
   "outputs": [],
   "source": [
    "from IPython.core.interactiveshell import InteractiveShell\n",
    "InteractiveShell.ast_node_interactivity = \"all\""
   ]
  },
  {
   "cell_type": "markdown",
   "id": "dfccab11-e94e-4201-88db-0c5e7b09ec4d",
   "metadata": {
    "tags": []
   },
   "source": [
    "# Part 1"
   ]
  },
  {
   "cell_type": "code",
   "execution_count": 58,
   "id": "1cded870-0b38-444e-abbb-2cc6304f88f2",
   "metadata": {},
   "outputs": [],
   "source": [
    "class Monkey:\n",
    "    def __init__(self, \n",
    "                 starting_items,\n",
    "                 function_string,\n",
    "                 test_num,\n",
    "                 true_pass,\n",
    "                 false_pass):\n",
    "        \n",
    "        self.num_inspections = 0\n",
    "        self.items = starting_items\n",
    "        self.test_number = test_num\n",
    "        self.true_pass = true_pass\n",
    "        self.false_pass = false_pass\n",
    "        \n",
    "        self.operation = lambda old : eval(function_string)\n",
    "    \n",
    "    def add_item(self, val):\n",
    "        self.items.append(val)\n",
    "    \n",
    "    def inspect_round(self, monkey_list, worry_reduce=3, correct_factor=1):\n",
    "        for item in self.items :\n",
    "            new = self.operation(item)//worry_reduce\n",
    "            if new%self.test_number ==0:\n",
    "                monkey_list[self.true_pass].add_item(new%correct_factor)\n",
    "            else:\n",
    "                monkey_list[self.false_pass].add_item(new%correct_factor)\n",
    "            self.num_inspections+=1\n",
    "        self.items = []"
   ]
  },
  {
   "cell_type": "code",
   "execution_count": 16,
   "id": "cf64d234-3e26-4667-9c44-eab2bfe8d607",
   "metadata": {},
   "outputs": [],
   "source": [
    "def initialize_monkeys(file_path):\n",
    "    with open(file_path, 'r') as f :\n",
    "        monkeys = []\n",
    "        \n",
    "        items = []\n",
    "        operation=''\n",
    "        test=None\n",
    "        mtrue = None\n",
    "        mfalse = None\n",
    "        \n",
    "        for line in f.readlines():\n",
    "            line = line.strip()\n",
    "            if line.startswith('Starting'):\n",
    "                item_list = line.split(':')[1]\n",
    "                items = [int(i) for i in item_list.split(',')]\n",
    "            \n",
    "            elif line.startswith('Operation'):\n",
    "                operation = line.split('=')[1]\n",
    "                \n",
    "            elif line.startswith('Test'):\n",
    "                test = int(line.split('by')[1])\n",
    "                \n",
    "            elif 'If true' in line:\n",
    "                mtrue = int(line.split('monkey')[1])\n",
    "                \n",
    "            elif 'If false' in line:\n",
    "                mfalse = int(line.split('monkey')[1])\n",
    "                \n",
    "            elif len(line) == 0:\n",
    "                monk = Monkey(items,\n",
    "                              operation,\n",
    "                              test,\n",
    "                              mtrue,\n",
    "                              mfalse)\n",
    "                monkeys.append(monk)\n",
    "        \n",
    "        monk = Monkey(items,\n",
    "                              operation,\n",
    "                              test,\n",
    "                              mtrue,\n",
    "                              mfalse)\n",
    "        monkeys.append(monk)\n",
    "    return monkeys"
   ]
  },
  {
   "cell_type": "code",
   "execution_count": 66,
   "id": "87fc8775-0821-4558-b9d2-623b053edd9b",
   "metadata": {},
   "outputs": [],
   "source": [
    "def part_one(monkeys):\n",
    "    \n",
    "    factor = 1\n",
    "    for m in monkeys:\n",
    "        factor *= m.test_number\n",
    "    \n",
    "    for r in range(20):\n",
    "        for monk in monkeys:\n",
    "            monk.inspect_round(monkeys,correct_factor=factor)\n",
    "\n",
    "    inspections = [ m.num_inspections for m in monkeys]\n",
    "    inspections.sort()\n",
    "    inspections.reverse()\n",
    "   \n",
    "    return inspections[0]*inspections[1]\n",
    "    \n",
    "\n",
    "def part_two(monkeys):\n",
    "    factor = 1\n",
    "    for m in monkeys:\n",
    "        factor *= m.test_number\n",
    "    \n",
    "    for r in range(10000):\n",
    "        for monk in monkeys:\n",
    "            monk.inspect_round(monkeys,worry_reduce=1,correct_factor=factor)\n",
    "        \n",
    "                      \n",
    "    inspections = [ m.num_inspections for m in monkeys]\n",
    "    inspections.sort()\n",
    "    inspections.reverse()\n",
    "   \n",
    "    return inspections[0]*inspections[1]\n",
    "    "
   ]
  },
  {
   "cell_type": "code",
   "execution_count": 67,
   "id": "6fd2d76d-4402-44c2-8994-554e58366145",
   "metadata": {},
   "outputs": [
    {
     "data": {
      "text/plain": [
       "66802"
      ]
     },
     "execution_count": 67,
     "metadata": {},
     "output_type": "execute_result"
    }
   ],
   "source": [
    "monkeys = initialize_monkeys('input/day_11.txt')\n",
    "part_one(monkeys)"
   ]
  },
  {
   "cell_type": "code",
   "execution_count": 69,
   "id": "fe55ec5d-c67a-42a7-8a53-9d2234237898",
   "metadata": {},
   "outputs": [
    {
     "data": {
      "text/plain": [
       "21800916620"
      ]
     },
     "execution_count": 69,
     "metadata": {},
     "output_type": "execute_result"
    }
   ],
   "source": [
    "monkeys = initialize_monkeys('input/day_11.txt')\n",
    "part_two(monkeys)"
   ]
  },
  {
   "cell_type": "code",
   "execution_count": null,
   "id": "2d14bc9d-0c53-404a-b5fb-95b5760d97c6",
   "metadata": {},
   "outputs": [],
   "source": []
  },
  {
   "cell_type": "code",
   "execution_count": null,
   "id": "be2340f3-9706-49fc-892e-a1f39532c1fa",
   "metadata": {},
   "outputs": [],
   "source": []
  }
 ],
 "metadata": {
  "kernelspec": {
   "display_name": "work_env",
   "language": "python",
   "name": "work_env"
  },
  "language_info": {
   "codemirror_mode": {
    "name": "ipython",
    "version": 3
   },
   "file_extension": ".py",
   "mimetype": "text/x-python",
   "name": "python",
   "nbconvert_exporter": "python",
   "pygments_lexer": "ipython3",
   "version": "3.9.1rc1"
  }
 },
 "nbformat": 4,
 "nbformat_minor": 5
}
