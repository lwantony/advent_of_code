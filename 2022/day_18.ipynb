{
 "cells": [
  {
   "cell_type": "code",
   "execution_count": 2,
   "id": "3b0eb4ec-c64b-48ed-a516-5da62ac4387d",
   "metadata": {},
   "outputs": [],
   "source": [
    "from IPython.core.interactiveshell import InteractiveShell\n",
    "InteractiveShell.ast_node_interactivity = \"all\""
   ]
  },
  {
   "cell_type": "markdown",
   "id": "6c1a1c22-ff0b-47e9-8c7b-a6a3376e9d4a",
   "metadata": {
    "tags": []
   },
   "source": [
    "# Part 1"
   ]
  },
  {
   "cell_type": "code",
   "execution_count": 3,
   "id": "c172bc76-b684-4c67-b368-b1b027a3328a",
   "metadata": {},
   "outputs": [],
   "source": [
    "class CubeSurface:\n",
    "    def __init__(self, pos):\n",
    "        self.exposed = 6\n",
    "        self.pos = pos\n",
    "    \n",
    "    def faces(self):\n",
    "        pos = self.pos\n",
    "        neigh=[]\n",
    "        for i in (-1,1):\n",
    "            for ch in [ (i,0,0),\n",
    "                        (0,i,0),\n",
    "                        (0,0,i) ]:\n",
    "                neigh.append(tuple([pos[j]+ch[j] for j in range(3)]))\n",
    "        return neigh\n",
    "    \n",
    "    def dec_exposed(self):\n",
    "         self.exposed -=1\n",
    "            "
   ]
  },
  {
   "cell_type": "code",
   "execution_count": 4,
   "id": "fde5f734-c1ac-406a-bfe1-ded2758ae333",
   "metadata": {},
   "outputs": [],
   "source": [
    "def part_one(filename):\n",
    "    cubes={}\n",
    "    with open(filename, 'r') as f :\n",
    "        for line in f.readlines():\n",
    "            line =line.strip()\n",
    "            pos = tuple([ int(xi) for xi in line.split(',')])\n",
    "            cubes[pos] = CubeSurface(pos)\n",
    "            for n in cubes[pos].faces():\n",
    "                if n in cubes.keys():\n",
    "                    cubes[pos].dec_exposed()\n",
    "                    cubes[n].dec_exposed()\n",
    "                        \n",
    "    return sum([i.exposed for i in cubes.values()])\n",
    "            "
   ]
  },
  {
   "cell_type": "code",
   "execution_count": 5,
   "id": "4b1310fa-ffa1-4cc3-b87a-88305cb02750",
   "metadata": {},
   "outputs": [
    {
     "name": "stdout",
     "output_type": "stream",
     "text": [
      "CPU times: user 693 µs, sys: 1.09 ms, total: 1.79 ms\n",
      "Wall time: 1.6 ms\n"
     ]
    },
    {
     "data": {
      "text/plain": [
       "64"
      ]
     },
     "execution_count": 5,
     "metadata": {},
     "output_type": "execute_result"
    }
   ],
   "source": [
    "%%time\n",
    "part_one('input/test_18.txt')"
   ]
  },
  {
   "cell_type": "code",
   "execution_count": 6,
   "id": "216de6c2-3400-4c63-9b73-90816836dbdd",
   "metadata": {},
   "outputs": [
    {
     "name": "stdout",
     "output_type": "stream",
     "text": [
      "CPU times: user 25.3 ms, sys: 1.73 ms, total: 27 ms\n",
      "Wall time: 26.6 ms\n"
     ]
    },
    {
     "data": {
      "text/plain": [
       "3662"
      ]
     },
     "execution_count": 6,
     "metadata": {},
     "output_type": "execute_result"
    }
   ],
   "source": [
    "%%time\n",
    "part_one('input/day_18.txt')"
   ]
  },
  {
   "cell_type": "markdown",
   "id": "482e9bc2-551c-4683-9f40-99997c348506",
   "metadata": {
    "tags": []
   },
   "source": [
    "# Part 2"
   ]
  },
  {
   "cell_type": "code",
   "execution_count": 7,
   "id": "fccb9563-aff3-425f-88d0-50d27712268c",
   "metadata": {},
   "outputs": [],
   "source": [
    "def get_boxed_neighbors(pos, min_box, max_box):\n",
    "    neigh=[]\n",
    "    for i in (-1,1):\n",
    "        for ch in [ (i,0,0),\n",
    "                    (0,i,0),\n",
    "                    (0,0,i) ]:\n",
    "            n = tuple([pos[j]+ch[j] for j in range(3)])\n",
    "            if ( (n[0] >= min_box[0] and n[0] <= max_box[0])\n",
    "                &(n[1] >= min_box[1] and n[1] <= max_box[1])\n",
    "                &(n[2] >= min_box[2] and n[2] <= max_box[2])\n",
    "               ):\n",
    "                neigh.append(n)\n",
    "    return neigh"
   ]
  },
  {
   "cell_type": "code",
   "execution_count": 8,
   "id": "639ad68e-c998-4e21-ab71-3a14195ad877",
   "metadata": {},
   "outputs": [],
   "source": [
    "from collections import deque\n",
    "def flood_fill(cubes, min_box, max_box):\n",
    "    min_box = [ m-1 for m in min_box]\n",
    "    max_box = [ m+1 for m in max_box]\n",
    "   \n",
    "    search = deque([max_box])\n",
    "    seen = set([])\n",
    "    nexposed = 0\n",
    "    \n",
    "    while len(search) > 0 :\n",
    "        \n",
    "        curpoint= tuple(search.popleft())\n",
    "        if curpoint in seen:\n",
    "            continue\n",
    "            \n",
    "        seen.add(curpoint)\n",
    "        for n in get_boxed_neighbors(curpoint,min_box, max_box):\n",
    "            if n in cubes.keys():\n",
    "                nexposed+=1\n",
    "        \n",
    "        for n in get_boxed_neighbors(curpoint,min_box, max_box):\n",
    "            if n not in cubes.keys():\n",
    "                search.append(n)\n",
    "                    \n",
    "    return nexposed\n"
   ]
  },
  {
   "cell_type": "code",
   "execution_count": 9,
   "id": "f3cd77ed-2175-4564-a8f5-9b04a99f8f70",
   "metadata": {},
   "outputs": [],
   "source": [
    "def part_two(filename):\n",
    "    cubes={}\n",
    "    min_box=[float('inf'),float('inf'),float('inf')]\n",
    "    max_box=[0,0,0]\n",
    "    \n",
    "    with open(filename, 'r') as f :\n",
    "        for line in f.readlines():\n",
    "            line =line.strip()\n",
    "            pos = tuple([ int(xi) for xi in line.split(',')])\n",
    "            \n",
    "            for i,x in enumerate(pos):\n",
    "                if min_box[i] > x:\n",
    "                    min_box[i] = x\n",
    "                if max_box[i] < x:\n",
    "                    max_box[i] = x\n",
    "            \n",
    "            \n",
    "            cubes[pos] = CubeSurface(pos)\n",
    "            for n in cubes[pos].faces():\n",
    "                if n in cubes.keys():\n",
    "                    cubes[pos].dec_exposed()\n",
    "                    cubes[n].dec_exposed()\n",
    "    print(min_box, max_box)\n",
    "    cnt = flood_fill(cubes, min_box, max_box)\n",
    "                        \n",
    "    return cnt"
   ]
  },
  {
   "cell_type": "code",
   "execution_count": 10,
   "id": "d9eee1b1-e598-4a73-8895-1fabb2a79108",
   "metadata": {
    "scrolled": true,
    "tags": []
   },
   "outputs": [
    {
     "name": "stdout",
     "output_type": "stream",
     "text": [
      "[1, 1, 1] [3, 3, 6]\n",
      "CPU times: user 9.72 ms, sys: 893 µs, total: 10.6 ms\n",
      "Wall time: 9.93 ms\n"
     ]
    },
    {
     "data": {
      "text/plain": [
       "58"
      ]
     },
     "execution_count": 10,
     "metadata": {},
     "output_type": "execute_result"
    }
   ],
   "source": [
    "%%time\n",
    "t = part_two('input/test_18.txt')\n",
    "t"
   ]
  },
  {
   "cell_type": "code",
   "execution_count": 11,
   "id": "bc1ba548-7520-4d86-8f63-3b3eee73f5b5",
   "metadata": {},
   "outputs": [
    {
     "name": "stdout",
     "output_type": "stream",
     "text": [
      "[0, 0, 1] [19, 19, 19]\n",
      "CPU times: user 115 ms, sys: 2.51 ms, total: 117 ms\n",
      "Wall time: 117 ms\n"
     ]
    },
    {
     "data": {
      "text/plain": [
       "2060"
      ]
     },
     "execution_count": 11,
     "metadata": {},
     "output_type": "execute_result"
    }
   ],
   "source": [
    "%%time\n",
    "t = part_two('input/day_18.txt')\n",
    "t"
   ]
  },
  {
   "cell_type": "code",
   "execution_count": null,
   "id": "e04e3867-a842-4b79-af03-bef38265f149",
   "metadata": {},
   "outputs": [],
   "source": []
  },
  {
   "cell_type": "code",
   "execution_count": null,
   "id": "204ec138-5218-4406-bf33-e2c5e00c3023",
   "metadata": {},
   "outputs": [],
   "source": []
  }
 ],
 "metadata": {
  "kernelspec": {
   "display_name": "work_env",
   "language": "python",
   "name": "work_env"
  },
  "language_info": {
   "codemirror_mode": {
    "name": "ipython",
    "version": 3
   },
   "file_extension": ".py",
   "mimetype": "text/x-python",
   "name": "python",
   "nbconvert_exporter": "python",
   "pygments_lexer": "ipython3",
   "version": "3.9.1rc1"
  }
 },
 "nbformat": 4,
 "nbformat_minor": 5
}
