{
 "cells": [
  {
   "cell_type": "code",
   "execution_count": 64,
   "id": "3b0eb4ec-c64b-48ed-a516-5da62ac4387d",
   "metadata": {},
   "outputs": [],
   "source": [
    "from IPython.core.interactiveshell import InteractiveShell\n",
    "InteractiveShell.ast_node_interactivity = \"all\""
   ]
  },
  {
   "cell_type": "markdown",
   "id": "dfccab11-e94e-4201-88db-0c5e7b09ec4d",
   "metadata": {},
   "source": [
    "# Part 1"
   ]
  },
  {
   "cell_type": "code",
   "execution_count": 49,
   "id": "78e88f1e-cb06-458a-922a-0807cb45afed",
   "metadata": {},
   "outputs": [],
   "source": [
    "from copy import deepcopy\n",
    "import re"
   ]
  },
  {
   "cell_type": "code",
   "execution_count": 63,
   "id": "2e8a5e1a-535d-411c-9692-e3ab7de59ee4",
   "metadata": {},
   "outputs": [],
   "source": [
    "def build_deques(initial_text):\n",
    "    initial = deepcopy(initial_text)\n",
    "    mapping={}\n",
    "    crate_nums = initial.pop()\n",
    "    crates={}\n",
    "    for i,c in enumerate(crate_nums):\n",
    "        if c.isdigit():\n",
    "            mapping[c]=i\n",
    "    while len(initial) > 0:\n",
    "        cur_level = initial.pop()\n",
    "        for i,pos in mapping.items():\n",
    "            value = cur_level[pos]\n",
    "            if value != ' ':\n",
    "                try:\n",
    "                    crates[i].append(value)\n",
    "                except:\n",
    "                    crates[i] = [value]\n",
    "    return crates \n",
    "\n",
    "def perform_move(instruction, crates):\n",
    "    m=re.match('move (\\d+) from (\\d) to (\\d)',instruction )\n",
    "    if m is None:\n",
    "        return crates\n",
    "    \n",
    "    nmove = int(m.groups()[0])\n",
    "    from_crate = m.groups()[1]\n",
    "    to_crate = m.groups()[2]\n",
    "    \n",
    "    for i in range(nmove):\n",
    "        crates[to_crate].append(crates[from_crate].pop())\n",
    "    \n",
    "    return crates \n",
    "        "
   ]
  },
  {
   "cell_type": "code",
   "execution_count": 65,
   "id": "80dd2716-bb1c-4b13-9b05-95a74ba52a17",
   "metadata": {},
   "outputs": [],
   "source": [
    "test_instruct='move 2 from 8 to 4'"
   ]
  },
  {
   "cell_type": "code",
   "execution_count": 66,
   "id": "43f61a22-acad-4e4b-961d-45754b0bef9c",
   "metadata": {},
   "outputs": [
    {
     "data": {
      "text/plain": [
       "{'1': ['V', 'C', 'D', 'R', 'Z', 'G', 'B', 'W'],\n",
       " '2': ['G', 'W', 'F', 'C', 'B', 'S', 'T', 'V'],\n",
       " '3': ['C', 'B', 'S', 'N', 'W'],\n",
       " '4': ['Q', 'G', 'M', 'N', 'J', 'V', 'C', 'P'],\n",
       " '5': ['T', 'S', 'L', 'F', 'D', 'H', 'B'],\n",
       " '6': ['J', 'V', 'T', 'W', 'M', 'N'],\n",
       " '7': ['P', 'F', 'L', 'C', 'S', 'T', 'G'],\n",
       " '8': ['B', 'D', 'Z'],\n",
       " '9': ['M', 'N', 'Z', 'W']}"
      ]
     },
     "execution_count": 66,
     "metadata": {},
     "output_type": "execute_result"
    },
    {
     "data": {
      "text/plain": [
       "{'1': ['V', 'C', 'D', 'R', 'Z', 'G', 'B', 'W'],\n",
       " '2': ['G', 'W', 'F', 'C', 'B', 'S', 'T', 'V'],\n",
       " '3': ['C', 'B', 'S', 'N', 'W'],\n",
       " '4': ['Q', 'G', 'M', 'N', 'J', 'V', 'C', 'P', 'Z', 'D'],\n",
       " '5': ['T', 'S', 'L', 'F', 'D', 'H', 'B'],\n",
       " '6': ['J', 'V', 'T', 'W', 'M', 'N'],\n",
       " '7': ['P', 'F', 'L', 'C', 'S', 'T', 'G'],\n",
       " '8': ['B'],\n",
       " '9': ['M', 'N', 'Z', 'W']}"
      ]
     },
     "execution_count": 66,
     "metadata": {},
     "output_type": "execute_result"
    }
   ],
   "source": [
    "start = build_deques(initial_state)\n",
    "start\n",
    "perform_move(test_instruct,start)"
   ]
  },
  {
   "cell_type": "code",
   "execution_count": 71,
   "id": "84cf784d-bcc3-4b24-ba38-99632941e2bc",
   "metadata": {},
   "outputs": [
    {
     "name": "stdout",
     "output_type": "stream",
     "text": [
      "TBVFVDZPN\n"
     ]
    }
   ],
   "source": [
    "\n",
    "#initial_state=[]\n",
    "with open('input/day_05.txt','r') as f:\n",
    "    initial_state=[]\n",
    "    crates=None\n",
    "    read_state = True\n",
    "    for line in f.readlines():\n",
    "        line=line.strip('\\n')\n",
    "        if len(line) ==0:\n",
    "            read_state=False\n",
    "            crates = build_deques(initial_state)\n",
    "            continue\n",
    "        if read_state:\n",
    "            initial_state.append(line)\n",
    "        \n",
    "        else:\n",
    "            crates = perform_move(line, crates)\n",
    "        \n",
    "    final_string=''\n",
    "    for c in crates.values():\n",
    "        final_string+=c[-1]\n",
    "    print(final_string)\n",
    "            \n",
    "        "
   ]
  },
  {
   "cell_type": "markdown",
   "id": "aa876976-0b26-4f23-a673-7ed38cca66d0",
   "metadata": {},
   "source": [
    "# Part 2"
   ]
  },
  {
   "cell_type": "code",
   "execution_count": 75,
   "id": "ef6d870d-6a55-4485-8336-88008c9c83a1",
   "metadata": {},
   "outputs": [],
   "source": [
    "def perform_move_order_retain(instruction, crates):\n",
    "    m=re.match('move (\\d+) from (\\d) to (\\d)',instruction )\n",
    "    if m is None:\n",
    "        return crates\n",
    "    \n",
    "    nmove = int(m.groups()[0])\n",
    "    from_crate = m.groups()[1]\n",
    "    to_crate = m.groups()[2]\n",
    "    \n",
    "    move=crates[from_crate][-nmove:]\n",
    "    crates[from_crate]=crates[from_crate][:-nmove]\n",
    "    crates[to_crate].extend(move)\n",
    "    \n",
    "    return crates \n",
    "        "
   ]
  },
  {
   "cell_type": "code",
   "execution_count": 76,
   "id": "046cfb97-8425-4872-9543-392eb6d3c305",
   "metadata": {},
   "outputs": [
    {
     "data": {
      "text/plain": [
       "{'1': ['V', 'C', 'D', 'R', 'Z', 'G', 'B', 'W'],\n",
       " '2': ['G', 'W', 'F', 'C', 'B', 'S', 'T', 'V'],\n",
       " '3': ['C', 'B', 'S', 'N', 'W'],\n",
       " '4': ['Q', 'G', 'M', 'N', 'J', 'V', 'C', 'P'],\n",
       " '5': ['T', 'S', 'L', 'F', 'D', 'H', 'B'],\n",
       " '6': ['J', 'V', 'T', 'W', 'M', 'N'],\n",
       " '7': ['P', 'F', 'L', 'C', 'S', 'T', 'G'],\n",
       " '8': ['B', 'D', 'Z'],\n",
       " '9': ['M', 'N', 'Z', 'W']}"
      ]
     },
     "execution_count": 76,
     "metadata": {},
     "output_type": "execute_result"
    },
    {
     "data": {
      "text/plain": [
       "{'1': ['V', 'C', 'D', 'R', 'Z', 'G', 'B', 'W'],\n",
       " '2': ['G', 'W', 'F', 'C', 'B', 'S', 'T', 'V'],\n",
       " '3': ['C', 'B', 'S', 'N', 'W'],\n",
       " '4': ['Q', 'G', 'M', 'N', 'J', 'V', 'C', 'P', 'D', 'Z'],\n",
       " '5': ['T', 'S', 'L', 'F', 'D', 'H', 'B'],\n",
       " '6': ['J', 'V', 'T', 'W', 'M', 'N'],\n",
       " '7': ['P', 'F', 'L', 'C', 'S', 'T', 'G'],\n",
       " '8': ['B'],\n",
       " '9': ['M', 'N', 'Z', 'W']}"
      ]
     },
     "execution_count": 76,
     "metadata": {},
     "output_type": "execute_result"
    }
   ],
   "source": [
    "start = build_deques(initial_state)\n",
    "start\n",
    "perform_move_order_retain(test_instruct,start)"
   ]
  },
  {
   "cell_type": "code",
   "execution_count": 77,
   "id": "8c357241-3c5c-4d43-90a1-9801aa4f464a",
   "metadata": {},
   "outputs": [
    {
     "name": "stdout",
     "output_type": "stream",
     "text": [
      "VLCWHTDSZ\n"
     ]
    }
   ],
   "source": [
    "\n",
    "#initial_state=[]\n",
    "with open('input/day_05.txt','r') as f:\n",
    "    initial_state=[]\n",
    "    crates=None\n",
    "    read_state = True\n",
    "    for line in f.readlines():\n",
    "        line=line.strip('\\n')\n",
    "        if len(line) ==0:\n",
    "            read_state=False\n",
    "            crates = build_deques(initial_state)\n",
    "            continue\n",
    "        if read_state:\n",
    "            initial_state.append(line)\n",
    "        \n",
    "        else:\n",
    "            crates = perform_move_order_retain(line, crates)\n",
    "        \n",
    "    final_string=''\n",
    "    for c in crates.values():\n",
    "        final_string+=c[-1]\n",
    "    print(final_string)\n",
    "            \n",
    "        "
   ]
  },
  {
   "cell_type": "code",
   "execution_count": null,
   "id": "56755ac5-103f-4903-81b9-c97964cdfd7f",
   "metadata": {},
   "outputs": [],
   "source": []
  }
 ],
 "metadata": {
  "kernelspec": {
   "display_name": "work_env",
   "language": "python",
   "name": "work_env"
  },
  "language_info": {
   "codemirror_mode": {
    "name": "ipython",
    "version": 3
   },
   "file_extension": ".py",
   "mimetype": "text/x-python",
   "name": "python",
   "nbconvert_exporter": "python",
   "pygments_lexer": "ipython3",
   "version": "3.9.1rc1"
  }
 },
 "nbformat": 4,
 "nbformat_minor": 5
}
