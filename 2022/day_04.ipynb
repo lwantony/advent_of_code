{
 "cells": [
  {
   "cell_type": "code",
   "execution_count": 21,
   "id": "3b0eb4ec-c64b-48ed-a516-5da62ac4387d",
   "metadata": {},
   "outputs": [],
   "source": [
    "from IPython.core.interactiveshell import InteractiveShell\n",
    "InteractiveShell.ast_node_interactivity = \"all\""
   ]
  },
  {
   "cell_type": "markdown",
   "id": "dfccab11-e94e-4201-88db-0c5e7b09ec4d",
   "metadata": {},
   "source": [
    "# Part 1"
   ]
  },
  {
   "cell_type": "code",
   "execution_count": null,
   "id": "febb756f-21fc-4c07-b24b-ef8205f42826",
   "metadata": {},
   "outputs": [],
   "source": []
  },
  {
   "cell_type": "code",
   "execution_count": 12,
   "id": "78e88f1e-cb06-458a-922a-0807cb45afed",
   "metadata": {},
   "outputs": [],
   "source": [
    "from string import ascii_lowercase,ascii_uppercase\n",
    "\n",
    "def get_letter_priority(l):\n",
    "    return (ascii_lowercase+ascii_uppercase).index(l)+1"
   ]
  },
  {
   "cell_type": "markdown",
   "id": "aa876976-0b26-4f23-a673-7ed38cca66d0",
   "metadata": {},
   "source": [
    "# Part 2"
   ]
  },
  {
   "cell_type": "code",
   "execution_count": 42,
   "id": "62d081f5-9a8e-4e1b-9f80-0b32c5897d22",
   "metadata": {},
   "outputs": [],
   "source": [
    "test_string='51-69,40-50'\n"
   ]
  },
  {
   "cell_type": "code",
   "execution_count": 13,
   "id": "3b6fcd9c-cdda-4113-b39c-ea96db9a4026",
   "metadata": {},
   "outputs": [],
   "source": [
    "def split_elves(pairs):\n",
    "    sep_pairs = pairs.split(',')\n",
    "    sep_pairs=[ p.split('-') for p in sep_pairs]\n",
    "    for i in range(2):\n",
    "        for j in range(2):\n",
    "            sep_pairs[i][j]=int(sep_pairs[i][j])\n",
    "    return  sep_pairs"
   ]
  },
  {
   "cell_type": "code",
   "execution_count": 30,
   "id": "dda5f2a1-3f7e-474b-ad21-ef8294b45327",
   "metadata": {},
   "outputs": [],
   "source": [
    "def check_containment(pairing):\n",
    "    if (pairing[0][0] >= pairing[1][0])&(pairing[0][1] <= pairing[1][1]):\n",
    "        return 1\n",
    "    if (pairing[1][0] >= pairing[0][0])&(pairing[1][1] <= pairing[0][1]):\n",
    "        return 1\n",
    "    return 0"
   ]
  },
  {
   "cell_type": "code",
   "execution_count": 34,
   "id": "a4757415-b116-404f-8f77-ba0d6739dd5b",
   "metadata": {},
   "outputs": [],
   "source": [
    "def check_overlap(pairing):\n",
    "    p1, p2 = pairing if pairing[0][0]<=pairing[1][0] else (pairing[1],pairing[0])\n",
    "    if p1[1] < p2[0]:\n",
    "        return 0\n",
    "    return 1\n",
    "    \n"
   ]
  },
  {
   "cell_type": "code",
   "execution_count": 31,
   "id": "29e032b7-a23d-41e2-bcac-74e7d0f3880c",
   "metadata": {},
   "outputs": [
    {
     "data": {
      "text/plain": [
       "[[50, 68], [51, 69]]"
      ]
     },
     "execution_count": 31,
     "metadata": {},
     "output_type": "execute_result"
    },
    {
     "data": {
      "text/plain": [
       "0"
      ]
     },
     "execution_count": 31,
     "metadata": {},
     "output_type": "execute_result"
    }
   ],
   "source": [
    "split_elves(test_string)\n",
    "check_containment(split_elves(test_string))"
   ]
  },
  {
   "cell_type": "code",
   "execution_count": 33,
   "id": "cb1b8de2-120e-4681-b7fb-5cdb00b86c0d",
   "metadata": {},
   "outputs": [
    {
     "name": "stdout",
     "output_type": "stream",
     "text": [
      "498\n"
     ]
    }
   ],
   "source": [
    "with open('input/day_04.txt','r') as f:\n",
    "    overlaps=0\n",
    "    for line in f.readlines():\n",
    "        line=line.strip()\n",
    "        overlaps+=check_containment(split_elves(line))\n",
    "    print(overlaps)"
   ]
  },
  {
   "cell_type": "code",
   "execution_count": 44,
   "id": "463e4560-074d-4f1d-bdb5-fd9bf04983f3",
   "metadata": {},
   "outputs": [
    {
     "name": "stdout",
     "output_type": "stream",
     "text": [
      "859\n"
     ]
    }
   ],
   "source": [
    "with open('input/day_04.txt','r') as f:\n",
    "    overlaps=0\n",
    "    for line in f.readlines():\n",
    "        line=line.strip()\n",
    "        overlaps+=check_overlap(split_elves(line))\n",
    "    print(overlaps)"
   ]
  },
  {
   "cell_type": "code",
   "execution_count": null,
   "id": "ef6d870d-6a55-4485-8336-88008c9c83a1",
   "metadata": {},
   "outputs": [],
   "source": []
  }
 ],
 "metadata": {
  "kernelspec": {
   "display_name": "work_env",
   "language": "python",
   "name": "work_env"
  },
  "language_info": {
   "codemirror_mode": {
    "name": "ipython",
    "version": 3
   },
   "file_extension": ".py",
   "mimetype": "text/x-python",
   "name": "python",
   "nbconvert_exporter": "python",
   "pygments_lexer": "ipython3",
   "version": "3.9.1rc1"
  }
 },
 "nbformat": 4,
 "nbformat_minor": 5
}
