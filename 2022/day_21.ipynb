{
 "cells": [
  {
   "cell_type": "code",
   "execution_count": 1,
   "id": "3b0eb4ec-c64b-48ed-a516-5da62ac4387d",
   "metadata": {},
   "outputs": [],
   "source": [
    "from IPython.core.interactiveshell import InteractiveShell\n",
    "InteractiveShell.ast_node_interactivity = \"all\""
   ]
  },
  {
   "cell_type": "markdown",
   "id": "6c1a1c22-ff0b-47e9-8c7b-a6a3376e9d4a",
   "metadata": {
    "tags": []
   },
   "source": [
    "# Part 1"
   ]
  },
  {
   "cell_type": "code",
   "execution_count": 2,
   "id": "7a3f19e3-984b-438b-887a-5583cd8369ff",
   "metadata": {},
   "outputs": [],
   "source": [
    "import re"
   ]
  },
  {
   "cell_type": "code",
   "execution_count": 3,
   "id": "38e546b4-9dcd-4dd4-ba25-b5101465d175",
   "metadata": {},
   "outputs": [],
   "source": [
    "def read_input(filename):\n",
    "    data={}\n",
    "    with open(filename,'r') as f:\n",
    "        for line in f.readlines():\n",
    "            line=line.strip()\n",
    "            ele = line.split(':')\n",
    "            if ele[1].strip().isdigit():\n",
    "                data[ele[0].strip()] = int(ele[1].strip())\n",
    "            else:\n",
    "                data[ele[0].strip()] = ele[1].strip()\n",
    "    return data"
   ]
  },
  {
   "cell_type": "code",
   "execution_count": 4,
   "id": "b81e028a-4e18-4827-b53e-fcf926b402a2",
   "metadata": {},
   "outputs": [],
   "source": [
    "def find_value(monks, key='root'):\n",
    "    pattern='(\\w+) ([+-/*]) (\\w+)'\n",
    "    \n",
    "    if type(monks[key]) == int:\n",
    "        return monks[key]\n",
    "    \n",
    "    parse = re.findall(pattern, monks[key])\n",
    "    v1 = find_value(monks,parse[0][0])\n",
    "    v2 = find_value(monks,parse[0][2])\n",
    "    \n",
    "    return eval(f'{v1} {parse[0][1]} {v2}')\n",
    "    "
   ]
  },
  {
   "cell_type": "code",
   "execution_count": 5,
   "id": "073aa522-0d56-4a33-8395-81f6a7b867f9",
   "metadata": {},
   "outputs": [],
   "source": [
    "def part_one(filename):\n",
    "    monkeys = read_input(filename)\n",
    "    root = find_value(monkeys)\n",
    "    return root"
   ]
  },
  {
   "cell_type": "code",
   "execution_count": 6,
   "id": "8085a34b-fa17-4756-8fcd-e3e98172c2a3",
   "metadata": {},
   "outputs": [
    {
     "name": "stdout",
     "output_type": "stream",
     "text": [
      "CPU times: user 949 µs, sys: 1.12 ms, total: 2.07 ms\n",
      "Wall time: 1.78 ms\n"
     ]
    },
    {
     "data": {
      "text/plain": [
       "152.0"
      ]
     },
     "execution_count": 6,
     "metadata": {},
     "output_type": "execute_result"
    }
   ],
   "source": [
    "%%time \n",
    "part_one('input/test_21.txt')"
   ]
  },
  {
   "cell_type": "code",
   "execution_count": 7,
   "id": "01a869cd-76ec-4d86-bca6-c720448b3cff",
   "metadata": {},
   "outputs": [
    {
     "name": "stdout",
     "output_type": "stream",
     "text": [
      "CPU times: user 17.6 ms, sys: 2.73 ms, total: 20.3 ms\n",
      "Wall time: 19 ms\n"
     ]
    },
    {
     "data": {
      "text/plain": [
       "194058098264286.0"
      ]
     },
     "execution_count": 7,
     "metadata": {},
     "output_type": "execute_result"
    }
   ],
   "source": [
    "%%time \n",
    "part_one('input/day_21.txt')"
   ]
  },
  {
   "cell_type": "markdown",
   "id": "482e9bc2-551c-4683-9f40-99997c348506",
   "metadata": {
    "tags": []
   },
   "source": [
    "# Part 2"
   ]
  },
  {
   "cell_type": "code",
   "execution_count": 18,
   "id": "db531b77-b0ee-475f-87ae-7c4a90bc7d66",
   "metadata": {},
   "outputs": [],
   "source": [
    "from sympy import symbols, solve\n",
    "\n",
    "def find_value_pt2(monks, key='root'):\n",
    "    pattern='(\\w+) ([+-/*]) (\\w+)'\n",
    "    \n",
    "    if key=='root':\n",
    "        parse = re.findall(pattern, monks[key])\n",
    "        v1 = find_value_pt2(monks,parse[0][0])\n",
    "        v2 = find_value_pt2(monks,parse[0][2])\n",
    "        X = symbols('X')\n",
    "        ans = solve(eval(f'{v1}-{v2}'))[0]\n",
    "        return int(round(ans,0))\n",
    "        \n",
    "    \n",
    "    if type(monks[key]) == int or monks[key]=='X':\n",
    "        return monks[key]\n",
    "    \n",
    "    parse = re.findall(pattern, monks[key])\n",
    "    v1 = find_value_pt2(monks,parse[0][0])\n",
    "    v2 = find_value_pt2(monks,parse[0][2])\n",
    "   \n",
    "    total =f'({v1} {parse[0][1]} {v2})'\n",
    "    if 'X' in total:\n",
    "        return total\n",
    "    return eval(total)"
   ]
  },
  {
   "cell_type": "code",
   "execution_count": 19,
   "id": "37aaf047-943f-4921-92da-8f0f0bf7e29e",
   "metadata": {},
   "outputs": [],
   "source": [
    "def part_two(filename):\n",
    "    monkeys = read_input(filename)\n",
    "    monkeys['humn'] = 'X'\n",
    "    root = find_value_pt2(monkeys)\n",
    "    return root"
   ]
  },
  {
   "cell_type": "code",
   "execution_count": 20,
   "id": "7280d1b6-2b41-4780-8d3e-1927a0b1edb0",
   "metadata": {},
   "outputs": [
    {
     "name": "stdout",
     "output_type": "stream",
     "text": [
      "301\n",
      "CPU times: user 3.52 ms, sys: 2.12 ms, total: 5.64 ms\n",
      "Wall time: 4.24 ms\n"
     ]
    }
   ],
   "source": [
    "%%time\n",
    "print(part_two('input/test_21.txt'))"
   ]
  },
  {
   "cell_type": "code",
   "execution_count": 21,
   "id": "4c6337d2-bb29-4149-9f23-1f16c2bf8e95",
   "metadata": {},
   "outputs": [
    {
     "name": "stdout",
     "output_type": "stream",
     "text": [
      "3592056845086.00\n",
      "CPU times: user 24.6 ms, sys: 2.22 ms, total: 26.8 ms\n",
      "Wall time: 25.7 ms\n"
     ]
    }
   ],
   "source": [
    "%%time\n",
    "print(part_two('input/day_21.txt'))"
   ]
  },
  {
   "cell_type": "code",
   "execution_count": 11,
   "id": "9fba5170-a55d-468c-bcf8-2737d3016e90",
   "metadata": {},
   "outputs": [],
   "source": []
  },
  {
   "cell_type": "code",
   "execution_count": 12,
   "id": "e331bc6f-6fad-424a-9d53-2ac331399384",
   "metadata": {},
   "outputs": [],
   "source": []
  },
  {
   "cell_type": "code",
   "execution_count": null,
   "id": "ec1a91b9-7485-482f-9e84-84de1696c04e",
   "metadata": {},
   "outputs": [],
   "source": []
  }
 ],
 "metadata": {
  "kernelspec": {
   "display_name": "work_env",
   "language": "python",
   "name": "work_env"
  },
  "language_info": {
   "codemirror_mode": {
    "name": "ipython",
    "version": 3
   },
   "file_extension": ".py",
   "mimetype": "text/x-python",
   "name": "python",
   "nbconvert_exporter": "python",
   "pygments_lexer": "ipython3",
   "version": "3.9.1rc1"
  }
 },
 "nbformat": 4,
 "nbformat_minor": 5
}
