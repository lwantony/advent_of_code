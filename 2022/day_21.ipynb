{
 "cells": [
  {
   "cell_type": "code",
   "execution_count": 1,
   "id": "3b0eb4ec-c64b-48ed-a516-5da62ac4387d",
   "metadata": {},
   "outputs": [],
   "source": [
    "from IPython.core.interactiveshell import InteractiveShell\n",
    "InteractiveShell.ast_node_interactivity = \"all\""
   ]
  },
  {
   "cell_type": "markdown",
   "id": "6c1a1c22-ff0b-47e9-8c7b-a6a3376e9d4a",
   "metadata": {
    "tags": []
   },
   "source": [
    "# Part 1"
   ]
  },
  {
   "cell_type": "code",
   "execution_count": 6,
   "id": "7a3f19e3-984b-438b-887a-5583cd8369ff",
   "metadata": {},
   "outputs": [],
   "source": [
    "import re"
   ]
  },
  {
   "cell_type": "code",
   "execution_count": 78,
   "id": "38e546b4-9dcd-4dd4-ba25-b5101465d175",
   "metadata": {},
   "outputs": [],
   "source": [
    "def read_input(filename):\n",
    "    data={}\n",
    "    with open(filename,'r') as f:\n",
    "        for line in f.readlines():\n",
    "            line=line.strip()\n",
    "            ele = line.split(':')\n",
    "            if ele[1].strip().isdigit():\n",
    "                data[ele[0].strip()] = int(ele[1].strip())\n",
    "            else:\n",
    "                data[ele[0].strip()] = ele[1].strip()\n",
    "    return data"
   ]
  },
  {
   "cell_type": "code",
   "execution_count": 81,
   "id": "b81e028a-4e18-4827-b53e-fcf926b402a2",
   "metadata": {},
   "outputs": [],
   "source": [
    "def find_value(monks, key='root'):\n",
    "    pattern='(\\w+) ([+-/*]) (\\w+)'\n",
    "    \n",
    "    if type(monks[key]) == int:\n",
    "        return monks[key]\n",
    "    \n",
    "    parse = re.findall(pattern, monks[key])\n",
    "    v1 = find_value(monks,parse[0][0])\n",
    "    v2 = find_value(monks,parse[0][2])\n",
    "    \n",
    "    return eval(f'{v1} {parse[0][1]} {v2}')\n",
    "    "
   ]
  },
  {
   "cell_type": "code",
   "execution_count": 84,
   "id": "073aa522-0d56-4a33-8395-81f6a7b867f9",
   "metadata": {},
   "outputs": [],
   "source": [
    "def part_one(filename):\n",
    "    monkeys = read_input(filename)\n",
    "    root = find_value(monkeys)\n",
    "    return root"
   ]
  },
  {
   "cell_type": "code",
   "execution_count": 85,
   "id": "8085a34b-fa17-4756-8fcd-e3e98172c2a3",
   "metadata": {},
   "outputs": [
    {
     "name": "stdout",
     "output_type": "stream",
     "text": [
      "CPU times: user 819 µs, sys: 1.54 ms, total: 2.36 ms\n",
      "Wall time: 1.28 ms\n"
     ]
    },
    {
     "data": {
      "text/plain": [
       "152.0"
      ]
     },
     "execution_count": 85,
     "metadata": {},
     "output_type": "execute_result"
    }
   ],
   "source": [
    "%%time \n",
    "part_one('input/test_21.txt')"
   ]
  },
  {
   "cell_type": "code",
   "execution_count": 86,
   "id": "01a869cd-76ec-4d86-bca6-c720448b3cff",
   "metadata": {},
   "outputs": [
    {
     "name": "stdout",
     "output_type": "stream",
     "text": [
      "CPU times: user 18.8 ms, sys: 2.01 ms, total: 20.8 ms\n",
      "Wall time: 20.2 ms\n"
     ]
    },
    {
     "data": {
      "text/plain": [
       "194058098264286.0"
      ]
     },
     "execution_count": 86,
     "metadata": {},
     "output_type": "execute_result"
    }
   ],
   "source": [
    "%%time \n",
    "part_one('input/day_21.txt')"
   ]
  },
  {
   "cell_type": "markdown",
   "id": "482e9bc2-551c-4683-9f40-99997c348506",
   "metadata": {
    "tags": []
   },
   "source": [
    "# Part 2"
   ]
  },
  {
   "cell_type": "code",
   "execution_count": null,
   "id": "7280d1b6-2b41-4780-8d3e-1927a0b1edb0",
   "metadata": {},
   "outputs": [],
   "source": []
  },
  {
   "cell_type": "code",
   "execution_count": null,
   "id": "0b5b231d-f37b-4d23-b954-0e028142c340",
   "metadata": {},
   "outputs": [],
   "source": []
  },
  {
   "cell_type": "code",
   "execution_count": null,
   "id": "9fba5170-a55d-468c-bcf8-2737d3016e90",
   "metadata": {},
   "outputs": [],
   "source": []
  }
 ],
 "metadata": {
  "kernelspec": {
   "display_name": "work_env",
   "language": "python",
   "name": "work_env"
  },
  "language_info": {
   "codemirror_mode": {
    "name": "ipython",
    "version": 3
   },
   "file_extension": ".py",
   "mimetype": "text/x-python",
   "name": "python",
   "nbconvert_exporter": "python",
   "pygments_lexer": "ipython3",
   "version": "3.9.1rc1"
  }
 },
 "nbformat": 4,
 "nbformat_minor": 5
}
