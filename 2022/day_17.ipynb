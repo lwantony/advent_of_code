{
 "cells": [
  {
   "cell_type": "code",
   "execution_count": 5,
   "id": "3b0eb4ec-c64b-48ed-a516-5da62ac4387d",
   "metadata": {},
   "outputs": [],
   "source": [
    "from IPython.core.interactiveshell import InteractiveShell\n",
    "InteractiveShell.ast_node_interactivity = \"all\""
   ]
  },
  {
   "cell_type": "raw",
   "id": "68e71609-e03c-42e0-a921-f38ac01c978a",
   "metadata": {},
   "source": [
    "The tall, vertical chamber is exactly seven units wide. Each rock appears so that its left edge is two units away from the left wall and its bottom edge is three units above the highest rock in the room (or the floor, if there isn't one).\n",
    "\n",
    "After a rock appears, it alternates between being pushed by a jet of hot gas one unit (in the direction indicated by the next symbol in the jet pattern) and then falling one unit down. If any movement would cause any part of the rock to move into the walls, floor, or a stopped rock, the movement instead does not occur. If a downward movement would have caused a falling rock to move into the floor or an already-fallen rock, the falling rock stops where it is (having landed on something) and a new rock immediately begins falling."
   ]
  },
  {
   "cell_type": "raw",
   "id": "220ca2d8-77de-4f25-a925-357442e41a23",
   "metadata": {},
   "source": [
    "####\n",
    "\n",
    ".#.\n",
    "###\n",
    ".#.\n",
    "\n",
    "..#\n",
    "..#\n",
    "###\n",
    "\n",
    "#\n",
    "#\n",
    "#\n",
    "#\n",
    "\n",
    "##\n",
    "##"
   ]
  },
  {
   "cell_type": "markdown",
   "id": "dfccab11-e94e-4201-88db-0c5e7b09ec4d",
   "metadata": {
    "tags": []
   },
   "source": [
    "# Part 1"
   ]
  },
  {
   "cell_type": "code",
   "execution_count": 33,
   "id": "36c27b91-6adf-4d88-bea6-ec4209b14e3e",
   "metadata": {},
   "outputs": [],
   "source": [
    "from copy import deepcopy\n",
    "\n",
    "class Rock:\n",
    "    def __init__(self, positions, final_pos):\n",
    "        max_y = max(final_pos.keys())\n",
    "        min_x = min([ i[0] for i in positions])\n",
    "        shift_right = 2-min_x\n",
    "        shift_up = max_y+4\n",
    "        \n",
    "        self.pos = [ (i[0]+shift_right, i[1]+shift_up) for i in positions]\n",
    "        \n",
    "    \n",
    "    def move_down(self, final_pos):\n",
    "        new_pos = []\n",
    "        reject=False\n",
    "        for x in self.pos:\n",
    "            nx = [x[0], x[1]-1]\n",
    "            if nx[1] in final_pos.keys() and nx[0] in final_pos[nx[1]]:\n",
    "                reject =True\n",
    "                break\n",
    "            new_pos.append(nx)\n",
    "        if reject:\n",
    "            for x in self.pos:\n",
    "                try:\n",
    "                    final_pos[x[1]].append(x[0])\n",
    "                except:\n",
    "                    final_pos[x[1]] = [x[0]]\n",
    "                    \n",
    "            return True, final_pos\n",
    "        \n",
    "        self.pos = new_pos\n",
    "        return False, final_pos\n",
    "                \n",
    "    def move_jet(self,jet,final_pos):\n",
    "        push = -1 if jet == '<' else 1 \n",
    "        new_pos = []\n",
    "        reject=False\n",
    "        for x in self.pos:\n",
    "            nx = [x[0]+push, x[1]]\n",
    "            if nx[0] <0 or nx[0] > 6:\n",
    "                reject =True\n",
    "                break\n",
    "            if nx[1] in final_pos.keys() and nx[0] in final_pos[nx[1]]:\n",
    "                reject =True\n",
    "                break\n",
    "            new_pos.append(nx)\n",
    "            \n",
    "        if reject:\n",
    "            return \n",
    "        self.pos = new_pos\n",
    "                "
   ]
  },
  {
   "cell_type": "code",
   "execution_count": 34,
   "id": "333116ba-45fd-44af-a037-7c976478d408",
   "metadata": {},
   "outputs": [],
   "source": [
    "rocks = [  [(i,0) for i in range(4)],\n",
    "           [(1,2),(0,1),(1,1),(2,1),(1,0)],\n",
    "           [(0,0),(1,0),(2,0),(2,1),(2,2)],\n",
    "           [(0,i) for i in range(4)],\n",
    "           [(0,0),(1,0),(0,1),(1,1)]\n",
    "        ]\n",
    "         "
   ]
  },
  {
   "cell_type": "code",
   "execution_count": 35,
   "id": "f81e1246-0ab1-40e8-b49b-f5a2c7f18875",
   "metadata": {},
   "outputs": [],
   "source": [
    "def read_jetstream(filename):\n",
    "    with open(filename,'r') as f:\n",
    "        line = f.readline()\n",
    "        line = line.strip()\n",
    "        return line\n",
    "        \n",
    "    "
   ]
  },
  {
   "cell_type": "code",
   "execution_count": 45,
   "id": "8ab82551-0f1f-443e-b3b5-15473765cd9c",
   "metadata": {},
   "outputs": [],
   "source": [
    "def run_part_one(filename):\n",
    "    jets = read_jetstream(filename)\n",
    "    ljets = len(jets)\n",
    "    nrocks = 0 \n",
    "    ij=0\n",
    "    \n",
    "    rock_settled = True \n",
    "    settled={ 0 : [ i for i in range(7)]}\n",
    "    \n",
    "    while nrocks < 2022:\n",
    "        if rock_settled :\n",
    "            rock = Rock(rocks[nrocks%5],settled)\n",
    "            rock_settled = False\n",
    "        while not rock_settled :\n",
    "            rock.move_jet(jets[ij%ljets], settled)\n",
    "            ij+=1\n",
    "            rock_settled, settled =rock.move_down( settled)\n",
    "        nrocks+=1\n",
    "        \n",
    "                        \n",
    "            \n",
    "    return max(settled.keys())\n",
    "    "
   ]
  },
  {
   "cell_type": "code",
   "execution_count": 46,
   "id": "64621da2-c371-4fc7-9308-5a359f54be8d",
   "metadata": {},
   "outputs": [
    {
     "name": "stdout",
     "output_type": "stream",
     "text": [
      "CPU times: user 98 ms, sys: 2.59 ms, total: 101 ms\n",
      "Wall time: 100 ms\n"
     ]
    },
    {
     "data": {
      "text/plain": [
       "3068"
      ]
     },
     "execution_count": 46,
     "metadata": {},
     "output_type": "execute_result"
    }
   ],
   "source": [
    "%%time\n",
    "run_part_one('input/test_17.txt')"
   ]
  },
  {
   "cell_type": "code",
   "execution_count": 47,
   "id": "2293ff5f-eaf7-47c5-80a0-566ea18509ef",
   "metadata": {},
   "outputs": [
    {
     "name": "stdout",
     "output_type": "stream",
     "text": [
      "CPU times: user 97.2 ms, sys: 3.06 ms, total: 100 ms\n",
      "Wall time: 99.7 ms\n"
     ]
    },
    {
     "data": {
      "text/plain": [
       "3059"
      ]
     },
     "execution_count": 47,
     "metadata": {},
     "output_type": "execute_result"
    }
   ],
   "source": [
    "%%time\n",
    "run_part_one('input/day_17.txt')"
   ]
  },
  {
   "cell_type": "markdown",
   "id": "482e9bc2-551c-4683-9f40-99997c348506",
   "metadata": {
    "tags": []
   },
   "source": [
    "# Part 2"
   ]
  },
  {
   "cell_type": "code",
   "execution_count": 193,
   "id": "7d632511-866f-4009-a076-f9a1f0b783b2",
   "metadata": {},
   "outputs": [],
   "source": [
    "def run_part_two(filename,trocks= 1000000000000, hstr=20, start=35,above=15):\n",
    "    jets = read_jetstream(filename)\n",
    "    ljets = len(jets)\n",
    "    nrocks = 0 \n",
    "    ij=0\n",
    "    \n",
    "    rock_settled = True \n",
    "    settled={ 0 : [ i for i in range(7)]}\n",
    "   \n",
    "    low_level = 0 \n",
    "    seen={}\n",
    "    prev=0\n",
    "    start_level=None\n",
    "    while nrocks <trocks:\n",
    "        if rock_settled :\n",
    "            rock = Rock(rocks[nrocks%5],settled)\n",
    "            rock_settled = False\n",
    "        while not rock_settled :\n",
    "            rock.move_jet(jets[ij%ljets], settled)\n",
    "            ij+=1\n",
    "            rock_settled, settled =rock.move_down( settled)\n",
    "        nrocks+=1\n",
    "        \n",
    "        level= max(settled.keys()) \n",
    "        if nrocks%start == 0 and  nrocks>1:\n",
    "            print(level -prev)\n",
    "            prev=level\n",
    "        if nrocks == start:\n",
    "            start_level = level\n",
    "        if  nrocks == start + above:\n",
    "            print (f'add {level-start_level}')\n",
    "        \n",
    "        if nrocks%start == 0 and  nrocks>1 and nrocks/start > 5 :\n",
    "            return\n",
    "            \n",
    "        if False:# level > hstr:\n",
    "            hash_str = ''\n",
    "            for i in range(hstr):\n",
    "                blank = list('.......')\n",
    "                for r in  settled[level-i]:\n",
    "                    blank[r]='#'\n",
    "                hash_str+=''.join(blank)\n",
    "            state = (nrocks%5, ij%ljets, hash_str)\n",
    "            if state in seen.keys():\n",
    "                print (seen[state], level, nrocks, nrocks-seen[state][1]) \n",
    "                return nrocks-seen[state][1]\n",
    "#               break\n",
    "            else:\n",
    "                seen[state] = (level, nrocks)\n",
    "                        \n",
    "            \n",
    "    return level\n",
    "    "
   ]
  },
  {
   "cell_type": "code",
   "execution_count": 200,
   "id": "8196daa8-ab82-4b7d-bb6f-4b90f10726d6",
   "metadata": {},
   "outputs": [],
   "source": [
    "def run_part_two_find_repeat(filename,trocks= 1000000, hstr=20, ):\n",
    "    jets = read_jetstream(filename)\n",
    "    ljets = len(jets)\n",
    "    nrocks = 0 \n",
    "    ij=0\n",
    "    \n",
    "    rock_settled = True \n",
    "    settled={ 0 : [ i for i in range(7)]}\n",
    "   \n",
    "    low_level = 0 \n",
    "    seen={}\n",
    "    while nrocks <trocks:\n",
    "        if rock_settled :\n",
    "            rock = Rock(rocks[nrocks%5],settled)\n",
    "            rock_settled = False\n",
    "        while not rock_settled :\n",
    "            rock.move_jet(jets[ij%ljets], settled)\n",
    "            ij+=1\n",
    "            rock_settled, settled =rock.move_down( settled)\n",
    "        nrocks+=1\n",
    "        \n",
    "        level= max(settled.keys()) \n",
    "        if  level > hstr:\n",
    "            hash_str = ''\n",
    "            for i in range(hstr):\n",
    "                blank = list('.......')\n",
    "                for r in  settled[level-i]:\n",
    "                    blank[r]='#'\n",
    "                hash_str+=''.join(blank)\n",
    "            state = (nrocks%5, ij%ljets, hash_str)\n",
    "            if state in seen.keys():\n",
    "                print (seen[state], level, nrocks, nrocks-seen[state][1]) \n",
    "                return nrocks-seen[state][1]\n",
    "            else:\n",
    "                seen[state] = (level, nrocks)\n",
    "                        \n",
    "            \n",
    "    return level\n",
    "    "
   ]
  },
  {
   "cell_type": "code",
   "execution_count": 201,
   "id": "d1ae101f-23b1-4d35-a775-ce5ee670cfb4",
   "metadata": {},
   "outputs": [
    {
     "data": {
      "text/plain": [
       "1514285714270.0"
      ]
     },
     "execution_count": 201,
     "metadata": {},
     "output_type": "execute_result"
    }
   ],
   "source": [
    "(1e12//35 - 1)*53+60 "
   ]
  },
  {
   "cell_type": "code",
   "execution_count": 202,
   "id": "8af90950-6a69-4910-bb34-db4821f0fa1c",
   "metadata": {},
   "outputs": [
    {
     "data": {
      "text/plain": [
       "15.0"
      ]
     },
     "execution_count": 202,
     "metadata": {},
     "output_type": "execute_result"
    }
   ],
   "source": [
    "1e12%35"
   ]
  },
  {
   "cell_type": "code",
   "execution_count": 203,
   "id": "d53f4026-21df-4501-b965-88a7c88c290e",
   "metadata": {},
   "outputs": [
    {
     "name": "stdout",
     "output_type": "stream",
     "text": [
      "60\n",
      "add 18\n",
      "53\n",
      "53\n",
      "53\n",
      "53\n",
      "53\n",
      "CPU times: user 13.3 ms, sys: 2.63 ms, total: 15.9 ms\n",
      "Wall time: 14.5 ms\n"
     ]
    }
   ],
   "source": [
    "%%time\n",
    "run_part_two('input/test_17.txt',10005, hstr=20)"
   ]
  },
  {
   "cell_type": "code",
   "execution_count": 204,
   "id": "edd52e17-d3f1-436d-9f7a-f044ab8a5a4a",
   "metadata": {},
   "outputs": [
    {
     "name": "stdout",
     "output_type": "stream",
     "text": [
      "60\n",
      "add 18\n",
      "53\n",
      "53\n",
      "53\n",
      "53\n",
      "CPU times: user 13.3 ms, sys: 2.4 ms, total: 15.8 ms\n",
      "Wall time: 14.1 ms\n"
     ]
    },
    {
     "data": {
      "text/plain": [
       "316"
      ]
     },
     "execution_count": 204,
     "metadata": {},
     "output_type": "execute_result"
    }
   ],
   "source": [
    "%%time\n",
    "run_part_two('input/test_17.txt',205, hstr=20)"
   ]
  },
  {
   "cell_type": "code",
   "execution_count": 209,
   "id": "37cd28cc-2fa0-4957-88e7-9c3bf45018bb",
   "metadata": {},
   "outputs": [
    {
     "name": "stdout",
     "output_type": "stream",
     "text": [
      "(549, 347) 3123 2062 1715\n"
     ]
    },
    {
     "data": {
      "text/plain": [
       "1715"
      ]
     },
     "execution_count": 209,
     "metadata": {},
     "output_type": "execute_result"
    }
   ],
   "source": [
    "run_part_two_find_repeat('input/day_17.txt',20000000, hstr=100)"
   ]
  },
  {
   "cell_type": "code",
   "execution_count": 206,
   "id": "cd34942f-8be1-4346-903a-769fb66b531b",
   "metadata": {},
   "outputs": [
    {
     "data": {
      "text/plain": [
       "15.0"
      ]
     },
     "execution_count": 206,
     "metadata": {},
     "output_type": "execute_result"
    }
   ],
   "source": [
    "1e12%1715"
   ]
  },
  {
   "cell_type": "code",
   "execution_count": 207,
   "id": "e5032e9f-21b8-41f2-a65e-9b6c7280dda4",
   "metadata": {
    "scrolled": true,
    "tags": []
   },
   "outputs": [
    {
     "name": "stdout",
     "output_type": "stream",
     "text": [
      "2592\n",
      "add 23\n",
      "2574\n",
      "2574\n",
      "2574\n",
      "2574\n",
      "2574\n",
      "CPU times: user 2.08 s, sys: 5.48 ms, total: 2.08 s\n",
      "Wall time: 2.08 s\n"
     ]
    }
   ],
   "source": [
    "%%time\n",
    "run_part_two('input/day_17.txt',100005, hstr=100,start=1715,above=15)"
   ]
  },
  {
   "cell_type": "code",
   "execution_count": 208,
   "id": "61db121f-c958-4acb-95b6-b1d14ea645af",
   "metadata": {},
   "outputs": [
    {
     "data": {
      "text/plain": [
       "1500874635587.0"
      ]
     },
     "execution_count": 208,
     "metadata": {},
     "output_type": "execute_result"
    }
   ],
   "source": [
    "(1e12//1715 - 1)*2574+2592 +23"
   ]
  },
  {
   "cell_type": "code",
   "execution_count": null,
   "id": "83423cb8-e3e0-407b-8a97-d404f12d0414",
   "metadata": {},
   "outputs": [],
   "source": []
  }
 ],
 "metadata": {
  "kernelspec": {
   "display_name": "work_env",
   "language": "python",
   "name": "work_env"
  },
  "language_info": {
   "codemirror_mode": {
    "name": "ipython",
    "version": 3
   },
   "file_extension": ".py",
   "mimetype": "text/x-python",
   "name": "python",
   "nbconvert_exporter": "python",
   "pygments_lexer": "ipython3",
   "version": "3.9.1rc1"
  }
 },
 "nbformat": 4,
 "nbformat_minor": 5
}
