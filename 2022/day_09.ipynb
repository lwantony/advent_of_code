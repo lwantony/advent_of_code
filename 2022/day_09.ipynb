{
 "cells": [
  {
   "cell_type": "code",
   "execution_count": 61,
   "id": "3b0eb4ec-c64b-48ed-a516-5da62ac4387d",
   "metadata": {},
   "outputs": [],
   "source": [
    "from IPython.core.interactiveshell import InteractiveShell\n",
    "InteractiveShell.ast_node_interactivity = \"all\""
   ]
  },
  {
   "cell_type": "markdown",
   "id": "dfccab11-e94e-4201-88db-0c5e7b09ec4d",
   "metadata": {},
   "source": [
    "# Part 1"
   ]
  },
  {
   "cell_type": "code",
   "execution_count": 136,
   "id": "43539860-192d-4527-916b-938060bcd5c5",
   "metadata": {},
   "outputs": [],
   "source": [
    "def update_tail(hpt, tpt):\n",
    "    xdiff = hpt[0]-tpt[0]\n",
    "    ydiff = hpt[1]-tpt[1]\n",
    "    if abs(xdiff) <2 and abs(ydiff) < 2:\n",
    "        return tpt\n",
    "    \n",
    "    if xdiff == 0:\n",
    "        ychange = (-1)**(int(ydiff<0)) * (abs(ydiff)-1)\n",
    "        return (tpt[0],tpt[1]+ychange)\n",
    "        \n",
    "    if ydiff == 0:\n",
    "        xchange = (-1)**(int(xdiff<0)) * (abs(xdiff)-1)\n",
    "        return (tpt[0]+xchange,tpt[1])\n",
    "\n",
    "    ychange = (-1)**(int(ydiff<0)) * (1)\n",
    "    xchange = (-1)**(int(xdiff<0)) * (1)\n",
    "    \n",
    "    return (tpt[0]+xchange,tpt[1]+ychange)\n",
    "\n",
    "def read_head_movement( line, head, tail, tail_set):\n",
    "    directs={\n",
    "        'R' : ( 1, 0),\n",
    "        'L' : (-1, 0),\n",
    "        'U' : ( 0, 1),\n",
    "        'D' : ( 0,-1),\n",
    "    }\n",
    "    \n",
    "    d,times = line.strip().split()\n",
    "    times =int(times)\n",
    "    move = directs[d]\n",
    "    \n",
    "    for t in range(times):\n",
    "        head = (head[0]+move[0],\n",
    "                head[1]+move[1])\n",
    "        prv_tail = tail\n",
    "        tail = update_tail(head, tail)\n",
    "        if tail != prv_tail:\n",
    "            tail_set.add(tail)\n",
    "            \n",
    "    return head, tail, tail_set\n",
    "    \n",
    "    \n"
   ]
  },
  {
   "cell_type": "code",
   "execution_count": 137,
   "id": "7da86968-174e-44db-a9c2-8de4f673eed0",
   "metadata": {},
   "outputs": [
    {
     "name": "stdout",
     "output_type": "stream",
     "text": [
      "5695\n"
     ]
    }
   ],
   "source": [
    "with open('input/day_09.txt','r') as f:\n",
    "    head=(0,0)\n",
    "    tail=(0,0)\n",
    "    tail_pos = set([tail])\n",
    "    for line in f.readlines():\n",
    "        head, tail, tail_pos =  read_head_movement(line,head, tail, tail_pos)\n",
    "    \n",
    "    print(len(tail_pos))\n",
    "        "
   ]
  },
  {
   "cell_type": "markdown",
   "id": "cfb7bb9e-2036-43a1-93e2-1199c3e0ef31",
   "metadata": {},
   "source": [
    "# Part 2"
   ]
  },
  {
   "cell_type": "code",
   "execution_count": 146,
   "id": "7c96d87d-0e49-4ce0-8ca2-87dfad920851",
   "metadata": {},
   "outputs": [
    {
     "name": "stdout",
     "output_type": "stream",
     "text": [
      "2434\n"
     ]
    }
   ],
   "source": [
    "\n",
    "def read_head_movement_chain( line, chain, tail_set):\n",
    "    directs={\n",
    "        'R' : ( 1, 0),\n",
    "        'L' : (-1, 0),\n",
    "        'U' : ( 0, 1),\n",
    "        'D' : ( 0,-1),\n",
    "    }\n",
    "    \n",
    "    d,times = line.strip().split()\n",
    "    times =int(times)\n",
    "    move = directs[d]\n",
    "    \n",
    "    for t in range(times):\n",
    "        chain[0] = (chain[0][0]+move[0],\n",
    "                    chain[0][1]+move[1])\n",
    "        for idx in range(9):\n",
    "            chain[idx+1] =  update_tail(chain[idx], chain[idx+1])\n",
    "            \n",
    "        tail_set.add(chain[9])\n",
    "        \n",
    "    return chain, tail_set\n",
    "    \n",
    "    \n",
    "    \n",
    "    \n",
    "with open('input/day_09.txt','r') as f:\n",
    "    chain = []\n",
    "    for i in range(10):\n",
    "        chain.append((0,0))\n",
    "    tail_pos = set([chain[9]])\n",
    "    for line in f.readlines():\n",
    "        chain, tail_pos =  read_head_movement_chain(line,chain,  tail_pos)\n",
    "    \n",
    "    print(len(tail_pos))\n",
    "        "
   ]
  },
  {
   "cell_type": "code",
   "execution_count": 147,
   "id": "3a54c658-3bd7-472a-bccf-9a0a2a331561",
   "metadata": {},
   "outputs": [],
   "source": [
    "min_pts=[0,0]\n",
    "max_pts=[0,0]\n",
    "\n",
    "for pos in tail_pos:\n",
    "    min_pts = (min(min_pts[0], pos[0]),\n",
    "               min(min_pts[1], pos[1]),\n",
    "              )\n",
    "\n",
    "    max_pts = (max(max_pts[0], pos[0]),\n",
    "               max(max_pts[1], pos[1]),\n",
    "              )"
   ]
  },
  {
   "cell_type": "code",
   "execution_count": 148,
   "id": "c42ea5c6-cd36-4d4c-abfd-83ead3851c9d",
   "metadata": {},
   "outputs": [],
   "source": [
    "row = '.'*(max_pts[0]-min_pts[0]+1)"
   ]
  },
  {
   "cell_type": "code",
   "execution_count": 149,
   "id": "4d1e7679-5e51-4d8f-b760-9a3a4f068c47",
   "metadata": {},
   "outputs": [],
   "source": [
    "grid=[list(row)]*(max_pts[1]-min_pts[1]+1)"
   ]
  },
  {
   "cell_type": "code",
   "execution_count": 150,
   "id": "7b83f14e-17ca-4254-b3e6-9130463f68fe",
   "metadata": {},
   "outputs": [],
   "source": [
    "grid=[]\n",
    "for i in range(max_pts[1]-min_pts[1]+1):\n",
    "    grid.append(list(row))"
   ]
  },
  {
   "cell_type": "code",
   "execution_count": 151,
   "id": "828cc135-8ac2-4ec7-8606-fb4be803cd71",
   "metadata": {},
   "outputs": [],
   "source": [
    "for i, p in enumerate(tail_pos):\n",
    "    grid[max_pts[1]-p[1]][p[0]-min_pts[0]] = '#'\n",
    "    \n",
    "grid[max_pts[1]][-1*min_pts[0]] = 's'"
   ]
  },
  {
   "cell_type": "code",
   "execution_count": 153,
   "id": "4eb73fd9-f29d-4184-bad7-3398a545e696",
   "metadata": {},
   "outputs": [],
   "source": [
    "with open('tmp.txt','w') as f :\n",
    "    print('\\n'.join([ ''.join(row) for row in grid]), file=f)"
   ]
  }
 ],
 "metadata": {
  "kernelspec": {
   "display_name": "work_env",
   "language": "python",
   "name": "work_env"
  },
  "language_info": {
   "codemirror_mode": {
    "name": "ipython",
    "version": 3
   },
   "file_extension": ".py",
   "mimetype": "text/x-python",
   "name": "python",
   "nbconvert_exporter": "python",
   "pygments_lexer": "ipython3",
   "version": "3.9.1rc1"
  }
 },
 "nbformat": 4,
 "nbformat_minor": 5
}
