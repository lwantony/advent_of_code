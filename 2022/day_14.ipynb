{
 "cells": [
  {
   "cell_type": "code",
   "execution_count": 1,
   "id": "3b0eb4ec-c64b-48ed-a516-5da62ac4387d",
   "metadata": {},
   "outputs": [],
   "source": [
    "from IPython.core.interactiveshell import InteractiveShell\n",
    "InteractiveShell.ast_node_interactivity = \"all\""
   ]
  },
  {
   "cell_type": "markdown",
   "id": "dfccab11-e94e-4201-88db-0c5e7b09ec4d",
   "metadata": {
    "tags": []
   },
   "source": [
    "# Part 1"
   ]
  },
  {
   "cell_type": "code",
   "execution_count": 20,
   "id": "2965fce2-3482-4c98-aadc-959b29d048d7",
   "metadata": {},
   "outputs": [],
   "source": [
    "def add_wall_points(line, occupied_pts={}, max_level=float('inf')):\n",
    "    line = line.strip()\n",
    "    points = [ i.split(',') for i in  line.split(' -> ')]\n",
    "    points = [ (int(x[0]),int(x[1])) for x in points] \n",
    "    \n",
    "    max_y = max([p[1] for p in points])\n",
    "    max_level = max(max_y,max_level)\n",
    "    \n",
    "    for p1,p2 in zip(points[:-1], points[1:]):\n",
    "        xdiff = p1[0] - p2[0]\n",
    "        ydiff = p1[1] - p2[1]\n",
    "        if xdiff != 0:\n",
    "            if xdiff < 0 :\n",
    "                for  i in range(abs(xdiff) +1):\n",
    "                    occupied_pts[(p1[0]+i,p1[1])] = \"#\"\n",
    "            else:\n",
    "                for  i in range(abs(xdiff) +1):\n",
    "                    occupied_pts[(p1[0]-i,p1[1])] = \"#\"\n",
    "        if ydiff != 0:\n",
    "            if ydiff < 0 :\n",
    "                for  i in range(abs(ydiff) +1):\n",
    "                    occupied_pts[(p1[0],p1[1]+i)] = \"#\"\n",
    "            else:\n",
    "                for i in range(abs(ydiff) +1):\n",
    "                    occupied_pts[(p1[0],p1[1]-i)] = \"#\"\n",
    "                \n",
    "    return occupied_pts, max_level"
   ]
  },
  {
   "cell_type": "code",
   "execution_count": 21,
   "id": "efa8b341-da42-4795-9b82-60cb3fcb77b4",
   "metadata": {},
   "outputs": [],
   "source": [
    "def read_file(filename):\n",
    "    occupied_pts={}\n",
    "    max_level=0\n",
    "    with open(filename, 'r') as f:\n",
    "        for line in f.readlines():\n",
    "            occupied_pts, max_level = add_wall_points(line,occupied_pts, max_level)\n",
    "    return occupied_pts, max_level"
   ]
  },
  {
   "cell_type": "code",
   "execution_count": 37,
   "id": "da87ddd9-d48e-4f8c-ac18-fa487d6d05bc",
   "metadata": {},
   "outputs": [],
   "source": [
    "def move_sand(occupied_pts,max_level):\n",
    "    hit_bottom =False\n",
    "    while not hit_bottom:\n",
    "        x,y= 500,0\n",
    "        move_down=True\n",
    "        while move_down:\n",
    "            if (x,y+1) in occupied_pts.keys():\n",
    "                if (x-1,y+1) in occupied_pts.keys():\n",
    "                    if (x+1,y+1) in occupied_pts.keys():\n",
    "                        occupied_pts[(x,y)] = 'o'\n",
    "                        move_down=False\n",
    "                        break\n",
    "                    else:\n",
    "                        x+=1\n",
    "                        y+=1\n",
    "                else:\n",
    "                    x-=1\n",
    "                    y+=1\n",
    "            else:\n",
    "                y+=1\n",
    "            if y > max_level:\n",
    "                hit_bottom = True\n",
    "                move_down=False\n",
    "                break\n",
    "        \n",
    "    return sum([ v=='o' for v in occupied_pts.values()])"
   ]
  },
  {
   "cell_type": "code",
   "execution_count": 43,
   "id": "3485a77e-76ed-4a98-91c5-8987fdd14cc2",
   "metadata": {},
   "outputs": [],
   "source": [
    "def part_one(filename):\n",
    "    occupied_dict, max_pt = read_file(filename)\n",
    "    sands = move_sand(occupied_dict, max_pt)\n",
    "    return sands"
   ]
  },
  {
   "cell_type": "code",
   "execution_count": 44,
   "id": "a44b07ed-6623-4918-9779-04ffdd4dc2fb",
   "metadata": {},
   "outputs": [
    {
     "data": {
      "text/plain": [
       "24"
      ]
     },
     "execution_count": 44,
     "metadata": {},
     "output_type": "execute_result"
    }
   ],
   "source": [
    "part_one('input/test_14.txt')"
   ]
  },
  {
   "cell_type": "code",
   "execution_count": 45,
   "id": "537475a4-6b96-4bb5-88cb-238e70acd03d",
   "metadata": {},
   "outputs": [
    {
     "name": "stdout",
     "output_type": "stream",
     "text": [
      "CPU times: user 35.4 ms, sys: 2 ms, total: 37.4 ms\n",
      "Wall time: 37.8 ms\n"
     ]
    },
    {
     "data": {
      "text/plain": [
       "665"
      ]
     },
     "execution_count": 45,
     "metadata": {},
     "output_type": "execute_result"
    }
   ],
   "source": [
    "%%time\n",
    "part_one('input/day_14.txt')"
   ]
  },
  {
   "cell_type": "markdown",
   "id": "482e9bc2-551c-4683-9f40-99997c348506",
   "metadata": {
    "tags": []
   },
   "source": [
    "# Part 2"
   ]
  },
  {
   "cell_type": "code",
   "execution_count": 46,
   "id": "da1ff4e7-163e-449c-969f-d1ca9680d7f7",
   "metadata": {},
   "outputs": [
    {
     "ename": "SyntaxError",
     "evalue": "invalid syntax (<ipython-input-46-4a2f0c676359>, line 13)",
     "output_type": "error",
     "traceback": [
      "\u001b[0;36m  File \u001b[0;32m\"<ipython-input-46-4a2f0c676359>\"\u001b[0;36m, line \u001b[0;32m13\u001b[0m\n\u001b[0;31m    if (x,y) == (500,0)\u001b[0m\n\u001b[0m                       ^\u001b[0m\n\u001b[0;31mSyntaxError\u001b[0m\u001b[0;31m:\u001b[0m invalid syntax\n"
     ]
    }
   ],
   "source": [
    "def move_sand_floor(occupied_pts,max_level):\n",
    "    floor=max_level+2\n",
    "    hit_top =False\n",
    "    while not hit_top:\n",
    "        x,y= 500,0\n",
    "        move_down=True\n",
    "        while move_down:\n",
    "            if (x,y+1) in occupied_pts.keys() or y+1 == floor:\n",
    "                if (x-1,y+1) in occupied_pts.keys() or y+1 == floor:\n",
    "                    if (x+1,y+1) in occupied_pts.keys() or y+1 == floor:\n",
    "                        occupied_pts[(x,y)] = 'o'\n",
    "                        move_down=False\n",
    "                        if (x,y) == (500,0)\n",
    "                        hit_top = True\n",
    "                        break\n",
    "                    else:\n",
    "                        x+=1\n",
    "                        y+=1\n",
    "                else:\n",
    "                    x-=1\n",
    "                    y+=1\n",
    "            else:\n",
    "                y+=1\n",
    "        \n",
    "    return sum([ v=='o' for v in occupied_pts.values()])"
   ]
  },
  {
   "cell_type": "code",
   "execution_count": null,
   "id": "3d05c8d0-66a6-4539-9c26-d1a5878a72e0",
   "metadata": {},
   "outputs": [],
   "source": []
  }
 ],
 "metadata": {
  "kernelspec": {
   "display_name": "work_env",
   "language": "python",
   "name": "work_env"
  },
  "language_info": {
   "codemirror_mode": {
    "name": "ipython",
    "version": 3
   },
   "file_extension": ".py",
   "mimetype": "text/x-python",
   "name": "python",
   "nbconvert_exporter": "python",
   "pygments_lexer": "ipython3",
   "version": "3.9.1rc1"
  }
 },
 "nbformat": 4,
 "nbformat_minor": 5
}
