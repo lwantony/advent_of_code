{
 "cells": [
  {
   "cell_type": "code",
   "execution_count": 1,
   "id": "3b0eb4ec-c64b-48ed-a516-5da62ac4387d",
   "metadata": {},
   "outputs": [],
   "source": [
    "from IPython.core.interactiveshell import InteractiveShell\n",
    "InteractiveShell.ast_node_interactivity = \"all\""
   ]
  },
  {
   "cell_type": "markdown",
   "id": "dfccab11-e94e-4201-88db-0c5e7b09ec4d",
   "metadata": {},
   "source": [
    "# Part 1"
   ]
  },
  {
   "cell_type": "code",
   "execution_count": 7,
   "id": "443aa889-0ad3-4f6a-8427-4565a0073937",
   "metadata": {},
   "outputs": [],
   "source": [
    "def increase_cycle( cycles, next_time, key_times, key_times_vals, X):\n",
    "    cycles+=1\n",
    "    if cycles == next_time:\n",
    "        key_times_vals[next_time] = next_time*X\n",
    "        if len(key_times) > 0 :\n",
    "            next_time = key_times.pop()\n",
    "        else:\n",
    "            next_time = float('inf')\n",
    "            \n",
    "    return  cycles, next_time, key_times, key_times_vals\n",
    "\n",
    "\n",
    "def calc_score(instructions):\n",
    "    key_times_vals={}\n",
    "    key_times = [i for i in range(220,-20,-40)]\n",
    "    X=1\n",
    "    cycles=0\n",
    "    next_time = key_times.pop()\n",
    "    \n",
    "    for command in instructions:\n",
    "        if command.startswith('noop'):\n",
    "            (cycles, next_time, \n",
    "             key_times, key_times_vals) = increase_cycle( cycles, next_time, key_times, key_times_vals, X)\n",
    "        if command.startswith('addx'):\n",
    "            val=int(command.strip().split()[1])\n",
    "            for t in range(2):\n",
    "                (cycles, next_time, \n",
    "                key_times, key_times_vals) = increase_cycle( cycles, next_time, key_times, key_times_vals, X)\n",
    "            X+=val\n",
    "            \n",
    "    return key_times_vals\n",
    "        \n"
   ]
  },
  {
   "cell_type": "code",
   "execution_count": 10,
   "id": "bd72d318-83ba-4702-a34b-c138b8e9fb3b",
   "metadata": {},
   "outputs": [
    {
     "data": {
      "text/plain": [
       "15220"
      ]
     },
     "execution_count": 10,
     "metadata": {},
     "output_type": "execute_result"
    }
   ],
   "source": [
    "with open('input/day_10.txt','r') as f:\n",
    "    scores =calc_score(f.readlines())\n",
    "    sum(scores.values())"
   ]
  },
  {
   "cell_type": "markdown",
   "id": "cfb7bb9e-2036-43a1-93e2-1199c3e0ef31",
   "metadata": {},
   "source": [
    "# Part 2"
   ]
  },
  {
   "cell_type": "code",
   "execution_count": 55,
   "id": "640b0a22-8fb2-42ef-85f6-8112090de414",
   "metadata": {},
   "outputs": [],
   "source": [
    "def increase_cycle_sprite( cycles, X, hashed_positions):\n",
    "    \n",
    "    ## The off by one issue for python indexing at 0 \n",
    "    if X-1<=cycles%40 and cycles%40<X+2:\n",
    "        hashed_positions.append(cycles)\n",
    "    \n",
    "    cycles+=1\n",
    "    return  cycles, hashed_positions\n",
    "\n",
    "\n",
    "def get_hashed_screen(instructions):\n",
    "    X=1\n",
    "    cycles=0\n",
    "    hashed_positions=[]\n",
    "    \n",
    "    for command in instructions:\n",
    "        command = command.strip()\n",
    "        if command.startswith('noop'):\n",
    "             cycles, hashed_positions = increase_cycle_sprite( cycles, X, hashed_positions)\n",
    "        if command.startswith('addx'):\n",
    "            val=int(command.strip().split()[1])\n",
    "            for t in range(2):\n",
    "                cycles, hashed_positions = increase_cycle_sprite( cycles, X, hashed_positions)\n",
    "            X+=val\n",
    "            \n",
    "    return hashed_positions"
   ]
  },
  {
   "cell_type": "code",
   "execution_count": 56,
   "id": "3a08ba98-f2fc-4fec-90cc-636f35c7e1ff",
   "metadata": {},
   "outputs": [
    {
     "name": "stdout",
     "output_type": "stream",
     "text": [
      "###..####.####.####.#..#.###..####..##..\n",
      "#..#.#.......#.#....#.#..#..#.#....#..#.\n",
      "#..#.###....#..###..##...###..###..#..#.\n",
      "###..#.....#...#....#.#..#..#.#....####.\n",
      "#.#..#....#....#....#.#..#..#.#....#..#.\n",
      "#..#.#....####.####.#..#.###..#....#..#.\n",
      "\n"
     ]
    }
   ],
   "source": [
    "with open('input/day_10.txt','r') as f:\n",
    "    \n",
    "    hashs= get_hashed_screen(f.readlines())\n",
    "    \n",
    "    string=['.' for i in range(240)]\n",
    "    for i in hashs:\n",
    "        string[i] = '#'\n",
    "    full=''\n",
    "    for str_range in range(40,280,40):\n",
    "        full+=''.join(string[str_range-40:str_range])+'\\n'\n",
    "    print(full)\n",
    "        \n"
   ]
  },
  {
   "cell_type": "code",
   "execution_count": null,
   "id": "3c7d7607-6dd6-4c14-b792-61f78c0b5061",
   "metadata": {},
   "outputs": [],
   "source": [
    "RFZEKBFA"
   ]
  }
 ],
 "metadata": {
  "kernelspec": {
   "display_name": "work_env",
   "language": "python",
   "name": "work_env"
  },
  "language_info": {
   "codemirror_mode": {
    "name": "ipython",
    "version": 3
   },
   "file_extension": ".py",
   "mimetype": "text/x-python",
   "name": "python",
   "nbconvert_exporter": "python",
   "pygments_lexer": "ipython3",
   "version": "3.9.1rc1"
  }
 },
 "nbformat": 4,
 "nbformat_minor": 5
}
