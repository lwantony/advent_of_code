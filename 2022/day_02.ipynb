{
 "cells": [
  {
   "cell_type": "code",
   "execution_count": 1,
   "id": "3b0eb4ec-c64b-48ed-a516-5da62ac4387d",
   "metadata": {},
   "outputs": [],
   "source": [
    "from IPython.core.interactiveshell import InteractiveShell\n",
    "InteractiveShell.ast_node_interactivity = \"all\""
   ]
  },
  {
   "cell_type": "markdown",
   "id": "dfccab11-e94e-4201-88db-0c5e7b09ec4d",
   "metadata": {},
   "source": [
    "# Part 1"
   ]
  },
  {
   "cell_type": "code",
   "execution_count": 8,
   "id": "64ae0c2a-6660-4f2e-9172-1bd107293c40",
   "metadata": {},
   "outputs": [],
   "source": [
    "def rock_paper_scissor(opponent, you):\n",
    "    element_point={\n",
    "        'r':1,\n",
    "        'p':2,\n",
    "        's':3,\n",
    "    }\n",
    "    score=element_point[you]\n",
    "    if opponent == you:\n",
    "        return score+3\n",
    "    wins =((opponent=='r')&(you=='p'))|((opponent=='s')&(you=='r'))|((opponent=='p')&(you=='s'))\n",
    "    outcome = 6 if (wins) else 0\n",
    "    \n",
    "    return score+outcome\n",
    "\n",
    "def read_round(line):\n",
    "    op_map={'A':'r',\n",
    "            'B':'p',\n",
    "            'C':'s',\n",
    "           }\n",
    "    strat_map={'X':'r',\n",
    "               'Y':'p',\n",
    "               'Z':'s',\n",
    "               }\n",
    "    op,you = line.strip().split()\n",
    "\n",
    "    points = rock_paper_scissor(op_map[op], strat_map[you])\n",
    "    return points\n",
    "    "
   ]
  },
  {
   "cell_type": "code",
   "execution_count": 10,
   "id": "27175cb6-7045-4ef0-ad19-ab6e336ac53b",
   "metadata": {},
   "outputs": [
    {
     "name": "stdout",
     "output_type": "stream",
     "text": [
      "12855\n"
     ]
    }
   ],
   "source": [
    "with open('input/day_02.txt','r') as f:\n",
    "    total_pts=0\n",
    "    for line in f.readlines():\n",
    "        total_pts+=read_round(line)\n",
    "    print(total_pts)"
   ]
  },
  {
   "cell_type": "markdown",
   "id": "aa876976-0b26-4f23-a673-7ed38cca66d0",
   "metadata": {},
   "source": [
    "# Part 2"
   ]
  },
  {
   "cell_type": "code",
   "execution_count": 11,
   "id": "71337ff7-ae79-4931-9999-d34589fdbb97",
   "metadata": {},
   "outputs": [],
   "source": [
    "def read_round_part_2(line):\n",
    "    op_map={'A':'r',\n",
    "            'B':'p',\n",
    "            'C':'s',\n",
    "           }\n",
    "    element_point={\n",
    "        'r':1,\n",
    "        'p':2,\n",
    "        's':3,\n",
    "    }\n",
    "    strat_map={'X': 0,\n",
    "               'Y': 3,\n",
    "               'Z': 6,\n",
    "               }\n",
    "    #key is your opponent, value is point of element\n",
    "    loss_map={'r':element_point['s'],\n",
    "              'p':element_point['r'],\n",
    "              's':element_point['p']}\n",
    "    \n",
    "    win_map= {'r':element_point['p'],\n",
    "              'p':element_point['s'],\n",
    "              's':element_point['r']}\n",
    "    \n",
    "    op,strat = line.strip().split()\n",
    "    \n",
    "    op_element= op_map[op]\n",
    "    score = strat_map[strat]\n",
    "    \n",
    "    if score == 3:\n",
    "        return score+ element_point[op_element]\n",
    "    \n",
    "    if score == 0:\n",
    "        return score+ loss_map[op_element]\n",
    "    \n",
    "    if score == 6:\n",
    "        return score+ win_map[op_element]\n",
    "\n",
    "    return None\n",
    "    "
   ]
  },
  {
   "cell_type": "code",
   "execution_count": 12,
   "id": "4585e871-fb4b-44f0-8ac8-7d925b7c4f28",
   "metadata": {},
   "outputs": [
    {
     "name": "stdout",
     "output_type": "stream",
     "text": [
      "13726\n"
     ]
    }
   ],
   "source": [
    "with open('input/day_02.txt','r') as f:\n",
    "    total_pts=0\n",
    "    for line in f.readlines():\n",
    "        total_pts+=read_round_part_2(line)\n",
    "    print(total_pts)"
   ]
  },
  {
   "cell_type": "code",
   "execution_count": null,
   "id": "62d081f5-9a8e-4e1b-9f80-0b32c5897d22",
   "metadata": {},
   "outputs": [],
   "source": []
  }
 ],
 "metadata": {
  "kernelspec": {
   "display_name": "work_env",
   "language": "python",
   "name": "work_env"
  },
  "language_info": {
   "codemirror_mode": {
    "name": "ipython",
    "version": 3
   },
   "file_extension": ".py",
   "mimetype": "text/x-python",
   "name": "python",
   "nbconvert_exporter": "python",
   "pygments_lexer": "ipython3",
   "version": "3.9.1rc1"
  }
 },
 "nbformat": 4,
 "nbformat_minor": 5
}
