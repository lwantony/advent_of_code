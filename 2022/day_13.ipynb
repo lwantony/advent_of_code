{
 "cells": [
  {
   "cell_type": "code",
   "execution_count": 1,
   "id": "3b0eb4ec-c64b-48ed-a516-5da62ac4387d",
   "metadata": {},
   "outputs": [],
   "source": [
    "from IPython.core.interactiveshell import InteractiveShell\n",
    "InteractiveShell.ast_node_interactivity = \"all\""
   ]
  },
  {
   "cell_type": "markdown",
   "id": "dfccab11-e94e-4201-88db-0c5e7b09ec4d",
   "metadata": {
    "tags": []
   },
   "source": [
    "# Part 1"
   ]
  },
  {
   "cell_type": "code",
   "execution_count": 4,
   "id": "c5cdf7eb-7dd4-4223-a1f9-6d37e7853e79",
   "metadata": {},
   "outputs": [],
   "source": [
    "class Pairing:\n",
    "    def __init__(self, left_str, right_str, index):\n",
    "        self.left = eval(left_str)\n",
    "        self.right = eval(right_str)\n",
    "        self.index = index"
   ]
  },
  {
   "cell_type": "code",
   "execution_count": 7,
   "id": "be2340f3-9706-49fc-892e-a1f39532c1fa",
   "metadata": {},
   "outputs": [],
   "source": [
    "def read_in_pairs(filepath):\n",
    "    idx=1\n",
    "    pairs=[]\n",
    "    with open(filepath,'r') as f:\n",
    "        p1=f.readline().strip()\n",
    "        p2=f.readline().strip()\n",
    "        b=f.readline()\n",
    "        pairs.append(Pairing(p1,p2,idx))\n",
    "        while b:\n",
    "            p1=f.readline().strip()\n",
    "            p2=f.readline().strip()\n",
    "            b=f.readline()\n",
    "            idx+=1\n",
    "            pairs.append(Pairing(p1,p2,idx))\n",
    "    return pairs"
   ]
  },
  {
   "cell_type": "code",
   "execution_count": 76,
   "id": "ab40554a-ea06-4734-8b4c-e88621192599",
   "metadata": {},
   "outputs": [],
   "source": [
    "from copy import deepcopy\n",
    "\n",
    "def compare(l,r):\n",
    "    left = deepcopy(l)\n",
    "    right = deepcopy(r)\n",
    "    if type(left) is list and type(right) is list:\n",
    "        for i in range(min(len(left),len(right))):\n",
    "            out  = compare(left[i], right[i])\n",
    "            if out!=0:\n",
    "                return out\n",
    "            \n",
    "        if len(left) > len(right):\n",
    "            return -1\n",
    "        elif len(left) < len(right):\n",
    "            return  1\n",
    "        return 0\n",
    "        \n",
    "    if type(left) is int and type(right) is int:\n",
    "        if left < right:\n",
    "            return 1\n",
    "        elif left == right:\n",
    "            return 0\n",
    "        else:\n",
    "            return -1\n",
    "        \n",
    "    if type(left) is list and type(right) is int:\n",
    "        right = [right]\n",
    "        for i in range(min(len(left),len(right))):\n",
    "            out  = compare(left[i], right[i])\n",
    "            if out != 0:\n",
    "                return out\n",
    "        if len(left) > len(right):\n",
    "            return -1\n",
    "        elif len(left) < len(right):\n",
    "            return  1\n",
    "        return 0\n",
    "        \n",
    "    if type(left) is int and type(right) is list:\n",
    "        left = [left]\n",
    "        for i in range(min(len(left),len(right))):\n",
    "            out  = compare(left[i], right[i])\n",
    "            if out != 0:\n",
    "                return out\n",
    "        if len(left) > len(right):\n",
    "            return -1\n",
    "        elif len(left) < len(right):\n",
    "            return  1\n",
    "        return 0\n",
    "\n",
    "    #print(left,right)"
   ]
  },
  {
   "cell_type": "code",
   "execution_count": 82,
   "id": "9f1d5aa2-e2b9-49ec-93ce-955e20250d42",
   "metadata": {},
   "outputs": [],
   "source": [
    "def run_part_one(filename):\n",
    "    pairs = read_in_pairs(filename)\n",
    "   \n",
    "    scores=[]\n",
    "    for p in pairs:\n",
    "        out=compare(p.left,p.right)\n",
    "        scores.append(int(out>0)*p.index)\n",
    "    return sum(scores)"
   ]
  },
  {
   "cell_type": "code",
   "execution_count": 83,
   "id": "b840e298-3cb7-4ede-8ef3-5a41d1232617",
   "metadata": {},
   "outputs": [
    {
     "data": {
      "text/plain": [
       "13"
      ]
     },
     "execution_count": 83,
     "metadata": {},
     "output_type": "execute_result"
    }
   ],
   "source": [
    "run_part_one('input/test_13.txt')"
   ]
  },
  {
   "cell_type": "code",
   "execution_count": 84,
   "id": "2c32c2f5-4295-4f86-9084-7bc3edc9803c",
   "metadata": {},
   "outputs": [
    {
     "data": {
      "text/plain": [
       "5390"
      ]
     },
     "execution_count": 84,
     "metadata": {},
     "output_type": "execute_result"
    }
   ],
   "source": [
    "run_part_one('input/day_13.txt')"
   ]
  },
  {
   "cell_type": "markdown",
   "id": "482e9bc2-551c-4683-9f40-99997c348506",
   "metadata": {
    "tags": []
   },
   "source": [
    "# Part 2"
   ]
  },
  {
   "cell_type": "code",
   "execution_count": 85,
   "id": "aef46e82-74c3-464d-8017-5e418ff03f1b",
   "metadata": {},
   "outputs": [],
   "source": [
    "def read_part_two(filepath):\n",
    "    messages=[\n",
    "        [[2]],\n",
    "        [[6]]\n",
    "    ]\n",
    "    \n",
    "    with open(filepath,'r') as f:\n",
    "        for line in f.readlines():\n",
    "            line = line.strip()\n",
    "            if len(line) ==0:\n",
    "                continue\n",
    "            messages.append(eval(line))\n",
    "    return messages"
   ]
  },
  {
   "cell_type": "code",
   "execution_count": 96,
   "id": "7cad365b-782f-41d8-9400-b57a7f2b3b9b",
   "metadata": {},
   "outputs": [],
   "source": [
    "def sort_messages(messages):\n",
    "    num=len(messages)\n",
    "    for i in range(num):\n",
    "        for j in range(0, num-i-1):\n",
    "            check = compare(messages[j], messages[j+1])\n",
    "            if check == -1:\n",
    "                messages[j+1], messages[j] = messages[j], messages[j+1]\n",
    "\n",
    "    return messages\n",
    "    "
   ]
  },
  {
   "cell_type": "code",
   "execution_count": 101,
   "id": "172fdab2-1a00-4f1e-8a0e-684f0f94e487",
   "metadata": {},
   "outputs": [],
   "source": [
    "def run_part_two(filename):\n",
    "    messages = read_part_two(filename)\n",
    "    sort_mess = sort_messages(messages)\n",
    "    return (sort_mess.index([[6]])+1)*(sort_mess.index([[2]])+1)"
   ]
  },
  {
   "cell_type": "code",
   "execution_count": null,
   "id": "7b8ccf00-83cb-4910-9650-15dd12b55351",
   "metadata": {},
   "outputs": [],
   "source": []
  }
 ],
 "metadata": {
  "kernelspec": {
   "display_name": "work_env",
   "language": "python",
   "name": "work_env"
  },
  "language_info": {
   "codemirror_mode": {
    "name": "ipython",
    "version": 3
   },
   "file_extension": ".py",
   "mimetype": "text/x-python",
   "name": "python",
   "nbconvert_exporter": "python",
   "pygments_lexer": "ipython3",
   "version": "3.9.1rc1"
  }
 },
 "nbformat": 4,
 "nbformat_minor": 5
}
