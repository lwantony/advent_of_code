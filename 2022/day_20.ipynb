{
 "cells": [
  {
   "cell_type": "code",
   "execution_count": 1,
   "id": "3b0eb4ec-c64b-48ed-a516-5da62ac4387d",
   "metadata": {},
   "outputs": [],
   "source": [
    "from IPython.core.interactiveshell import InteractiveShell\n",
    "InteractiveShell.ast_node_interactivity = \"all\""
   ]
  },
  {
   "cell_type": "markdown",
   "id": "6c1a1c22-ff0b-47e9-8c7b-a6a3376e9d4a",
   "metadata": {
    "tags": []
   },
   "source": [
    "# Part 1"
   ]
  },
  {
   "cell_type": "code",
   "execution_count": 2,
   "id": "d2b3a441-dec9-48f3-920a-7e08c8e4bd43",
   "metadata": {},
   "outputs": [],
   "source": [
    "class Node:\n",
    "    def __init__(self, num, neigh_back=None, neigh_forward=None):\n",
    "        self.num=num\n",
    "        self.before=neigh_back\n",
    "        self.after=neigh_forward\n",
    "        \n",
    "    def move_number(self, size):\n",
    "        num = self.num\n",
    "        \n",
    "        if num == 0:\n",
    "            return\n",
    "        \n",
    "        steps = abs(num)%(size-1)\n",
    "        if steps==0:\n",
    "            return\n",
    "        \n",
    "        self.before.after = self.after\n",
    "        self.after.before = self.before\n",
    "        \n",
    "        if self.num > 0:\n",
    "            other=self.after\n",
    "            for i in range(1,steps):\n",
    "                other = other.after\n",
    "                \n",
    "            self.before.after = self.after\n",
    "            self.after.before = self.before\n",
    "            \n",
    "            ot_after  = other.after\n",
    "            \n",
    "            other.after = self\n",
    "            self.before = other\n",
    "            self.after = ot_after\n",
    "            ot_after.before = self\n",
    "            \n",
    "                \n",
    "        else:\n",
    "            other=self.before\n",
    "            for i in range(1,steps):\n",
    "                other = other.before\n",
    "            \n",
    "            ot_before  = other.before\n",
    "            \n",
    "            other.before = self\n",
    "            self.after = other\n",
    "            self.before = ot_before\n",
    "            ot_before.after = self"
   ]
  },
  {
   "cell_type": "code",
   "execution_count": 3,
   "id": "d1a248c7-bd15-43c8-aba8-c09a0d297b1b",
   "metadata": {},
   "outputs": [],
   "source": [
    "def read_file(filename):\n",
    "    nodes=[]\n",
    "    zero = None\n",
    "    with open(filename, 'r') as f:\n",
    "        for i,line in enumerate(f.readlines()):\n",
    "            line=line.strip()\n",
    "            num= int(line)\n",
    "            if len(nodes) == 0:\n",
    "                nodes.append(Node(num=num))\n",
    "            else:\n",
    "                nodes.append(Node(num=num,neigh_back=nodes[-1]))\n",
    "                nodes[-2].after = nodes[-1]\n",
    "            if num == 0:\n",
    "                zero = nodes[-1]\n",
    "                \n",
    "    nodes[-1].after = nodes[0]\n",
    "    nodes[0].before = nodes[-1]\n",
    "    \n",
    "    return nodes,zero"
   ]
  },
  {
   "cell_type": "code",
   "execution_count": 4,
   "id": "e13da481-044e-42f0-8369-19212ca09003",
   "metadata": {},
   "outputs": [],
   "source": [
    "def check_numbers(nodes):\n",
    "    tot_len = len(set([n.num for n in nodes]))\n",
    "    \n",
    "    tot = len(nodes)\n",
    "    ot=nodes[0]\n",
    "    nums=[]\n",
    "    for i in range(tot):\n",
    "        nums.append(str(ot.num))\n",
    "        ot=ot.after\n",
    "    print(f'{tot_len} - {len(set(nums))}')"
   ]
  },
  {
   "cell_type": "code",
   "execution_count": 5,
   "id": "0654099c-9d7c-48f9-9663-82bd7bddcea0",
   "metadata": {},
   "outputs": [],
   "source": [
    "def part_one(filename):\n",
    "    nodes,zero = read_file(filename)\n",
    "    \n",
    "    for i,n in enumerate(nodes):\n",
    "        n.move_number(len(nodes))\n",
    "#        print(give_node_str(nodes))\n",
    "\n",
    "    check_numbers(nodes)\n",
    "    indicators=[]\n",
    "    for tot in [1000,2000,3000]:\n",
    "        ot = zero\n",
    "        for i in range(tot):\n",
    "            ot = ot.after\n",
    "        indicators.append(ot.num)\n",
    "#    print(indicators)\n",
    "    return sum(indicators)"
   ]
  },
  {
   "cell_type": "code",
   "execution_count": 6,
   "id": "4d5b4d05-5401-451d-a11e-499d753cc363",
   "metadata": {},
   "outputs": [
    {
     "name": "stdout",
     "output_type": "stream",
     "text": [
      "7 - 7\n",
      "CPU times: user 514 µs, sys: 635 µs, total: 1.15 ms\n",
      "Wall time: 814 µs\n"
     ]
    },
    {
     "data": {
      "text/plain": [
       "3"
      ]
     },
     "execution_count": 6,
     "metadata": {},
     "output_type": "execute_result"
    }
   ],
   "source": [
    "%%time\n",
    "part_one('input/test_20.txt')"
   ]
  },
  {
   "cell_type": "code",
   "execution_count": 7,
   "id": "861cd080-6ff0-4283-bccd-6d00b5cc084a",
   "metadata": {
    "scrolled": true,
    "tags": []
   },
   "outputs": [
    {
     "name": "stdout",
     "output_type": "stream",
     "text": [
      "3628 - 3628\n",
      "CPU times: user 362 ms, sys: 4.14 ms, total: 366 ms\n",
      "Wall time: 369 ms\n"
     ]
    },
    {
     "data": {
      "text/plain": [
       "7225"
      ]
     },
     "execution_count": 7,
     "metadata": {},
     "output_type": "execute_result"
    }
   ],
   "source": [
    "%%time\n",
    "part_one('input/day_20.txt')"
   ]
  },
  {
   "cell_type": "markdown",
   "id": "482e9bc2-551c-4683-9f40-99997c348506",
   "metadata": {
    "tags": []
   },
   "source": [
    "# Part 2"
   ]
  },
  {
   "cell_type": "code",
   "execution_count": 11,
   "id": "64d2ee7e-14d0-4561-8d09-7fe5706d3698",
   "metadata": {},
   "outputs": [],
   "source": [
    "def part_two(filename):\n",
    "    nodes,zero = read_file(filename)\n",
    "   \n",
    "    key=811589153\n",
    "    for i in range(len(nodes)):\n",
    "        nodes[i].num*=key\n",
    "    \n",
    "    \n",
    "    for i in range(10):\n",
    "        for i,n in enumerate(nodes):\n",
    "            n.move_number(len(nodes))\n",
    "    #        print(give_node_str(nodes))\n",
    "\n",
    "    check_numbers(nodes)\n",
    "    indicators=[]\n",
    "    for tot in [1000,2000,3000]:\n",
    "        ot = zero\n",
    "        for i in range(tot):\n",
    "            ot = ot.after\n",
    "        indicators.append(ot.num)\n",
    "#    print(indicators)\n",
    "    return sum(indicators)"
   ]
  },
  {
   "cell_type": "code",
   "execution_count": 12,
   "id": "4531c35f-bdd8-450b-8a05-34187c559b8b",
   "metadata": {},
   "outputs": [
    {
     "name": "stdout",
     "output_type": "stream",
     "text": [
      "7 - 7\n",
      "CPU times: user 1.83 ms, sys: 2 ms, total: 3.83 ms\n",
      "Wall time: 2.46 ms\n"
     ]
    },
    {
     "data": {
      "text/plain": [
       "1623178306"
      ]
     },
     "execution_count": 12,
     "metadata": {},
     "output_type": "execute_result"
    }
   ],
   "source": [
    "%%time\n",
    "part_two('input/test_20.txt')\n",
    "# 1623178306 is target"
   ]
  },
  {
   "cell_type": "code",
   "execution_count": 13,
   "id": "b75bf7b4-53cc-458b-8278-715996d11787",
   "metadata": {},
   "outputs": [
    {
     "name": "stdout",
     "output_type": "stream",
     "text": [
      "3628 - 3628\n",
      "CPU times: user 3.68 s, sys: 9.22 ms, total: 3.69 s\n",
      "Wall time: 3.7 s\n"
     ]
    },
    {
     "data": {
      "text/plain": [
       "548634267428"
      ]
     },
     "execution_count": 13,
     "metadata": {},
     "output_type": "execute_result"
    }
   ],
   "source": [
    "%%time\n",
    "part_two('input/day_20.txt')"
   ]
  },
  {
   "cell_type": "code",
   "execution_count": null,
   "id": "821dc16d-3ea6-49c9-b28e-b96e1f74265d",
   "metadata": {},
   "outputs": [],
   "source": []
  }
 ],
 "metadata": {
  "kernelspec": {
   "display_name": "work_env",
   "language": "python",
   "name": "work_env"
  },
  "language_info": {
   "codemirror_mode": {
    "name": "ipython",
    "version": 3
   },
   "file_extension": ".py",
   "mimetype": "text/x-python",
   "name": "python",
   "nbconvert_exporter": "python",
   "pygments_lexer": "ipython3",
   "version": "3.9.1rc1"
  }
 },
 "nbformat": 4,
 "nbformat_minor": 5
}
