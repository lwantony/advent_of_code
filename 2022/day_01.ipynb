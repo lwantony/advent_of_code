{
 "cells": [
  {
   "cell_type": "code",
   "execution_count": 1,
   "id": "f01e4b08-00f6-47c0-9b44-7477f8bde458",
   "metadata": {},
   "outputs": [
    {
     "name": "stdout",
     "output_type": "stream",
     "text": [
      "69883\n"
     ]
    }
   ],
   "source": [
    "with open('input/day_01.txt') as f:\n",
    "    max_cal=0\n",
    "    tot=0\n",
    "    for line in f.readlines():\n",
    "        line=line.strip()\n",
    "        if len(line) > 0:\n",
    "            tot+=int(line)\n",
    "        else:\n",
    "            max_cal = max(max_cal, tot)\n",
    "            tot=0\n",
    "    print(max_cal)\n",
    "        "
   ]
  },
  {
   "cell_type": "code",
   "execution_count": 3,
   "id": "2ff34948-6055-4697-8b2b-715371e5ead6",
   "metadata": {},
   "outputs": [
    {
     "name": "stdout",
     "output_type": "stream",
     "text": [
      "[69727, 67966, 69883]\n",
      "207576\n"
     ]
    }
   ],
   "source": [
    "\n",
    "with open('input/day_01.txt') as f:\n",
    "    max_cals=[0,0,0]\n",
    "    tot=0\n",
    "    for line in f.readlines():\n",
    "        line=line.strip()\n",
    "        if len(line) > 0:\n",
    "            tot+=int(line)\n",
    "        else:\n",
    "            if tot > min(max_cals):\n",
    "                max_cals.remove(min(max_cals))\n",
    "                max_cals.append(tot)\n",
    "            tot=0\n",
    "            \n",
    "    print(max_cals)\n",
    "    print(sum(max_cals))\n",
    "        "
   ]
  },
  {
   "cell_type": "code",
   "execution_count": null,
   "id": "64ae0c2a-6660-4f2e-9172-1bd107293c40",
   "metadata": {},
   "outputs": [],
   "source": []
  }
 ],
 "metadata": {
  "kernelspec": {
   "display_name": "work_env",
   "language": "python",
   "name": "work_env"
  },
  "language_info": {
   "codemirror_mode": {
    "name": "ipython",
    "version": 3
   },
   "file_extension": ".py",
   "mimetype": "text/x-python",
   "name": "python",
   "nbconvert_exporter": "python",
   "pygments_lexer": "ipython3",
   "version": "3.9.1rc1"
  }
 },
 "nbformat": 4,
 "nbformat_minor": 5
}
