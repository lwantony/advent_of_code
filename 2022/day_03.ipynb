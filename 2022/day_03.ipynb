{
 "cells": [
  {
   "cell_type": "code",
   "execution_count": 1,
   "id": "3b0eb4ec-c64b-48ed-a516-5da62ac4387d",
   "metadata": {},
   "outputs": [],
   "source": [
    "from IPython.core.interactiveshell import InteractiveShell\n",
    "InteractiveShell.ast_node_interactivity = \"all\""
   ]
  },
  {
   "cell_type": "markdown",
   "id": "dfccab11-e94e-4201-88db-0c5e7b09ec4d",
   "metadata": {},
   "source": [
    "# Part 1"
   ]
  },
  {
   "cell_type": "code",
   "execution_count": 12,
   "id": "78e88f1e-cb06-458a-922a-0807cb45afed",
   "metadata": {},
   "outputs": [],
   "source": [
    "from string import ascii_lowercase,ascii_uppercase\n",
    "\n",
    "def get_letter_priority(l):\n",
    "    return (ascii_lowercase+ascii_uppercase).index(l)+1"
   ]
  },
  {
   "cell_type": "code",
   "execution_count": 2,
   "id": "d586eee1-2d06-48ce-b787-071d7068939e",
   "metadata": {},
   "outputs": [],
   "source": [
    "test='vJrwpWtwJgWrhcsFMMfFFhFp'"
   ]
  },
  {
   "cell_type": "code",
   "execution_count": 18,
   "id": "c7f8883f-5cdc-46a4-be96-e4ae69b1bafe",
   "metadata": {},
   "outputs": [
    {
     "name": "stdout",
     "output_type": "stream",
     "text": [
      "7850\n"
     ]
    }
   ],
   "source": [
    "with open('input/day_03.txt','r') as f:\n",
    "    total=0\n",
    "    for line in f.readlines():\n",
    "        line=line.strip()\n",
    "        mpoint=len(line)//2\n",
    "        shared=set(line[:mpoint]).intersection(line[mpoint:]).pop()\n",
    "        total+=get_letter_priority(shared)\n",
    "    print(total)"
   ]
  },
  {
   "cell_type": "markdown",
   "id": "aa876976-0b26-4f23-a673-7ed38cca66d0",
   "metadata": {},
   "source": [
    "# Part 2"
   ]
  },
  {
   "cell_type": "code",
   "execution_count": 19,
   "id": "2c89ef2b-ae85-411e-98d8-9512df84388b",
   "metadata": {},
   "outputs": [
    {
     "name": "stdout",
     "output_type": "stream",
     "text": [
      "2581\n"
     ]
    }
   ],
   "source": [
    "with open('input/day_03.txt','r') as f:\n",
    "    total=0\n",
    "    group = []\n",
    "    for i,line in enumerate(f.readlines()):\n",
    "        line=line.strip()\n",
    "        group.append(line)\n",
    "        if i%3==2:\n",
    "            shared=set(group[0]).intersection(group[1]).intersection(group[2]).pop()\n",
    "            total+=get_letter_priority(shared)\n",
    "            group = []\n",
    "    print(total)"
   ]
  },
  {
   "cell_type": "code",
   "execution_count": null,
   "id": "62d081f5-9a8e-4e1b-9f80-0b32c5897d22",
   "metadata": {},
   "outputs": [],
   "source": []
  }
 ],
 "metadata": {
  "kernelspec": {
   "display_name": "work_env",
   "language": "python",
   "name": "work_env"
  },
  "language_info": {
   "codemirror_mode": {
    "name": "ipython",
    "version": 3
   },
   "file_extension": ".py",
   "mimetype": "text/x-python",
   "name": "python",
   "nbconvert_exporter": "python",
   "pygments_lexer": "ipython3",
   "version": "3.9.1rc1"
  }
 },
 "nbformat": 4,
 "nbformat_minor": 5
}
