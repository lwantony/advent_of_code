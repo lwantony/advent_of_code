{
 "cells": [
  {
   "cell_type": "code",
   "execution_count": 1,
   "id": "3b0eb4ec-c64b-48ed-a516-5da62ac4387d",
   "metadata": {},
   "outputs": [],
   "source": [
    "from IPython.core.interactiveshell import InteractiveShell\n",
    "InteractiveShell.ast_node_interactivity = \"all\""
   ]
  },
  {
   "cell_type": "markdown",
   "id": "6c1a1c22-ff0b-47e9-8c7b-a6a3376e9d4a",
   "metadata": {
    "tags": []
   },
   "source": [
    "# Part 1"
   ]
  },
  {
   "cell_type": "code",
   "execution_count": 3,
   "id": "d0e80021-cb7c-4863-adbb-9bd53806746a",
   "metadata": {},
   "outputs": [],
   "source": [
    "bp=\"Blueprint (\\d+)\"\n",
    "ore=\"Each ore robot costs (\\d+) ore.\"\n",
    "clay=\"Each clay robot costs (\\d+) ore.\"\n",
    "obs=\"Each obsidian robot costs (\\d+) ore and (\\d+) clay.\"\n",
    "geode=\"Each geode robot costs (\\d+) ore and (\\d+) obsidian.\""
   ]
  },
  {
   "cell_type": "code",
   "execution_count": null,
   "id": "5b201e5f-85c7-430e-a9eb-17cdb02086d1",
   "metadata": {},
   "outputs": [],
   "source": [
    "import re\n",
    "    m=re.match('move (\\d+) from (\\d) to (\\d)',instruction )"
   ]
  },
  {
   "cell_type": "code",
   "execution_count": null,
   "id": "1b718aa8-ba27-4ed8-9665-b7f0099927d7",
   "metadata": {},
   "outputs": [],
   "source": []
  },
  {
   "cell_type": "markdown",
   "id": "482e9bc2-551c-4683-9f40-99997c348506",
   "metadata": {
    "tags": []
   },
   "source": [
    "# Part 2"
   ]
  },
  {
   "cell_type": "code",
   "execution_count": null,
   "id": "e04e3867-a842-4b79-af03-bef38265f149",
   "metadata": {},
   "outputs": [],
   "source": []
  },
  {
   "cell_type": "code",
   "execution_count": null,
   "id": "204ec138-5218-4406-bf33-e2c5e00c3023",
   "metadata": {},
   "outputs": [],
   "source": []
  }
 ],
 "metadata": {
  "kernelspec": {
   "display_name": "work_env",
   "language": "python",
   "name": "work_env"
  },
  "language_info": {
   "codemirror_mode": {
    "name": "ipython",
    "version": 3
   },
   "file_extension": ".py",
   "mimetype": "text/x-python",
   "name": "python",
   "nbconvert_exporter": "python",
   "pygments_lexer": "ipython3",
   "version": "3.11.6"
  }
 },
 "nbformat": 4,
 "nbformat_minor": 5
}
