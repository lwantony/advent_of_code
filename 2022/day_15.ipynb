{
 "cells": [
  {
   "cell_type": "code",
   "execution_count": 1,
   "id": "3b0eb4ec-c64b-48ed-a516-5da62ac4387d",
   "metadata": {},
   "outputs": [],
   "source": [
    "from IPython.core.interactiveshell import InteractiveShell\n",
    "InteractiveShell.ast_node_interactivity = \"all\""
   ]
  },
  {
   "cell_type": "markdown",
   "id": "dfccab11-e94e-4201-88db-0c5e7b09ec4d",
   "metadata": {
    "tags": []
   },
   "source": [
    "# Part 1"
   ]
  },
  {
   "cell_type": "code",
   "execution_count": 207,
   "id": "a29241c8-e619-4f2c-b23f-2285819ab22f",
   "metadata": {},
   "outputs": [],
   "source": [
    "import re\n",
    "\n",
    "class Sensor:\n",
    "    def _parse_line(self,line):\n",
    "        str_format = 'x=(-?\\d+), y=(-?\\d+)'\n",
    "        sensor, beacon = re.findall(str_format, line)\n",
    "        sensor = (int(sensor[0]), int(sensor[1]) )\n",
    "        beacon = (int(beacon[0]), int(beacon[1]) )\n",
    "        return sensor, beacon\n",
    "        \n",
    "    def __init__(self, line):\n",
    "        line=line.strip()\n",
    "        self.sensor, self.beacon = self._parse_line(line) \n",
    "        self.distance  = (abs(self.sensor[0]-self.beacon[0])\n",
    "                         +abs(self.sensor[1]-self.beacon[1]))\n",
    "        \n",
    "    def blocked_points_for_row(self, row):\n",
    "        \n",
    "        d = abs(self.sensor[1] - row)\n",
    "        if d > self.distance:\n",
    "            return []\n",
    "        xvals = [self.sensor[0]]\n",
    "        if d == 0 :\n",
    "            return xvals\n",
    "        \n",
    "        for i in range(1,self.distance -d +1 ):\n",
    "            xvals.extend([self.sensor[0]-i,self.sensor[0]+i])\n",
    "        return xvals\n",
    "    \n",
    "\n",
    "    def capped_blocked_interval(self, row, cap):\n",
    "        d = abs(self.sensor[1] - row)\n",
    "        if d > self.distance:\n",
    "            return []\n",
    "        diff=self.distance -d\n",
    "        return [max(self.sensor[0]-diff, 0),min(self.sensor[0]+diff, cap)]\n",
    "    \n",
    "    \n",
    "    def walk_edges(self,cap):\n",
    "        sx,sy = self.sensor\n",
    "        check_points =[]\n",
    "        dist=self.distance\n",
    "        for i in range(0,dist+1):\n",
    "            xshift=i\n",
    "            yshift=dist-i\n",
    "            new=[(sx+xshift+1, sy+yshift),\n",
    "                 (sx-xshift-1, sy+yshift),\n",
    "                 (sx-xshift-1, sy-yshift),\n",
    "                 (sx+xshift+1, sy-yshift),\n",
    "                ]\n",
    "            new = [ p for p in new if (p[0] >=0 and p[0] <=cap and p[1] >=0 and p[1] <=cap)]\n",
    "            check_points.extend(new)\n",
    "            \n",
    "        new = [(sx, sy-dist-1),(sx, sy+dist+1) ]\n",
    "        new = [ p for p in new if (p[0] >=0 and p[0] <=cap and p[1] >=0 and p[1] <=cap)]\n",
    "        check_points.extend(new)\n",
    "        return check_points\n",
    "            \n",
    "    def point_in_range(self,pt):\n",
    "        dist = abs(self.sensor[0]-pt[0])+abs(self.sensor[1]-pt[1])\n",
    "        if dist <= self.distance:\n",
    "            return 1\n",
    "        return 0\n",
    "        \n"
   ]
  },
  {
   "cell_type": "code",
   "execution_count": 203,
   "id": "1f3d95d8-3907-469e-87c0-a81649739f12",
   "metadata": {},
   "outputs": [],
   "source": [
    "def part_one(filename, row_number):\n",
    "    sensors = read_file(filename)\n",
    "    \n",
    "    row_vals = []\n",
    "    beacons = []\n",
    "    for s in sensors:\n",
    "        blocked = s.blocked_points_for_row(row_number)\n",
    "        if s.beacon[1] == row_number:\n",
    "            beacons.append(s.beacon[1])\n",
    "        if len(blocked) > 0:\n",
    "            row_vals.extend(blocked)\n",
    "            \n",
    "    row_vals = set(row_vals) - set(beacons)\n",
    "    return len(row_vals)\n",
    " "
   ]
  },
  {
   "cell_type": "code",
   "execution_count": 204,
   "id": "efa8b341-da42-4795-9b82-60cb3fcb77b4",
   "metadata": {},
   "outputs": [],
   "source": [
    "def read_file(filename):\n",
    "    sensors = []\n",
    "    with open(filename, 'r') as f:\n",
    "        for line in f.readlines():\n",
    "            sensors.append(Sensor(line))\n",
    "    return sensors"
   ]
  },
  {
   "cell_type": "code",
   "execution_count": 170,
   "id": "950bb1dd-996d-45f5-91a9-8e303426ee51",
   "metadata": {},
   "outputs": [
    {
     "data": {
      "text/plain": [
       "26"
      ]
     },
     "execution_count": 170,
     "metadata": {},
     "output_type": "execute_result"
    }
   ],
   "source": [
    "part_one('input/test_15.txt', 10)"
   ]
  },
  {
   "cell_type": "code",
   "execution_count": 171,
   "id": "9e7664d5-3009-4c10-aa9f-e165c26d1ee6",
   "metadata": {},
   "outputs": [
    {
     "name": "stdout",
     "output_type": "stream",
     "text": [
      "CPU times: user 1.05 s, sys: 273 ms, total: 1.33 s\n",
      "Wall time: 1.51 s\n"
     ]
    },
    {
     "data": {
      "text/plain": [
       "4883971"
      ]
     },
     "execution_count": 171,
     "metadata": {},
     "output_type": "execute_result"
    }
   ],
   "source": [
    "%%time\n",
    "part_one('input/day_15.txt', 2000000)"
   ]
  },
  {
   "cell_type": "markdown",
   "id": "482e9bc2-551c-4683-9f40-99997c348506",
   "metadata": {
    "tags": []
   },
   "source": [
    "# Part 2"
   ]
  },
  {
   "cell_type": "code",
   "execution_count": 205,
   "id": "613df91d-1c74-4d56-bf36-d9b364979455",
   "metadata": {},
   "outputs": [],
   "source": [
    "test = read_file('input/test_15.txt')"
   ]
  },
  {
   "cell_type": "code",
   "execution_count": 206,
   "id": "89ac2b84-cbb6-4cdf-84b1-2143e7d796f5",
   "metadata": {},
   "outputs": [
    {
     "data": {
      "text/plain": [
       "[(1, 11),\n",
       " (3, 11),\n",
       " (0, 12),\n",
       " (4, 12),\n",
       " (5, 13),\n",
       " (6, 14),\n",
       " (7, 15),\n",
       " (8, 20),\n",
       " (8, 16),\n",
       " (9, 19),\n",
       " (9, 17),\n",
       " (10, 18),\n",
       " (10, 18),\n",
       " (2, 10)]"
      ]
     },
     "execution_count": 206,
     "metadata": {},
     "output_type": "execute_result"
    }
   ],
   "source": [
    "test[0].walk_edges(20)"
   ]
  },
  {
   "cell_type": "code",
   "execution_count": 210,
   "id": "91e050ad-5202-4545-a01d-900397ba1fe3",
   "metadata": {},
   "outputs": [],
   "source": [
    "def part_two(filename,cap):\n",
    "    sensors = read_file(filename)\n",
    "    for s in sensors:\n",
    "        check_pts = s.walk_edges(cap)\n",
    "        for pt in check_pts:\n",
    "            within_range = sum([ ns.point_in_range(pt) for ns in sensors])\n",
    "            if within_range == 0:\n",
    "                return  4000000*pt[0]+pt[1]\n",
    "        \n",
    "    \n",
    "    "
   ]
  },
  {
   "cell_type": "code",
   "execution_count": 209,
   "id": "d1a369ef-ea92-4f26-883f-0e3123e986f3",
   "metadata": {},
   "outputs": [
    {
     "name": "stdout",
     "output_type": "stream",
     "text": [
      "56000011\n",
      "CPU times: user 2.54 ms, sys: 2.59 ms, total: 5.12 ms\n",
      "Wall time: 3.29 ms\n"
     ]
    },
    {
     "data": {
      "text/plain": [
       "(14, 11)"
      ]
     },
     "execution_count": 209,
     "metadata": {},
     "output_type": "execute_result"
    }
   ],
   "source": [
    "%%time\n",
    "part_two('input/test_15.txt', 20)"
   ]
  },
  {
   "cell_type": "code",
   "execution_count": 214,
   "id": "e244286c-87f2-4025-937e-f993d1bb33e6",
   "metadata": {},
   "outputs": [
    {
     "name": "stdout",
     "output_type": "stream",
     "text": [
      "CPU times: user 21.2 s, sys: 282 ms, total: 21.5 s\n",
      "Wall time: 21.6 s\n"
     ]
    },
    {
     "data": {
      "text/plain": [
       "12691026767556"
      ]
     },
     "execution_count": 214,
     "metadata": {},
     "output_type": "execute_result"
    }
   ],
   "source": [
    "%%time\n",
    "part_two('input/day_15.txt', 4e6)"
   ]
  },
  {
   "cell_type": "code",
   "execution_count": null,
   "id": "ffa4a357-8849-4917-9006-5e6c9cdaa729",
   "metadata": {},
   "outputs": [],
   "source": []
  }
 ],
 "metadata": {
  "kernelspec": {
   "display_name": "work_env",
   "language": "python",
   "name": "work_env"
  },
  "language_info": {
   "codemirror_mode": {
    "name": "ipython",
    "version": 3
   },
   "file_extension": ".py",
   "mimetype": "text/x-python",
   "name": "python",
   "nbconvert_exporter": "python",
   "pygments_lexer": "ipython3",
   "version": "3.9.1rc1"
  }
 },
 "nbformat": 4,
 "nbformat_minor": 5
}
