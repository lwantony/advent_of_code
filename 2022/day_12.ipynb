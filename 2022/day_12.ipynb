{
 "cells": [
  {
   "cell_type": "code",
   "execution_count": 1,
   "id": "3b0eb4ec-c64b-48ed-a516-5da62ac4387d",
   "metadata": {},
   "outputs": [],
   "source": [
    "from IPython.core.interactiveshell import InteractiveShell\n",
    "InteractiveShell.ast_node_interactivity = \"all\""
   ]
  },
  {
   "cell_type": "markdown",
   "id": "dfccab11-e94e-4201-88db-0c5e7b09ec4d",
   "metadata": {
    "tags": []
   },
   "source": [
    "# Part 1"
   ]
  },
  {
   "cell_type": "code",
   "execution_count": 3,
   "id": "1824f6ea-1a0b-44e1-abaf-c4285b565c5c",
   "metadata": {},
   "outputs": [],
   "source": [
    "from collections import deque\n",
    "from string import ascii_lowercase"
   ]
  },
  {
   "cell_type": "code",
   "execution_count": 6,
   "id": "c4b8b763-97d0-46cc-b6e0-106962b1b293",
   "metadata": {},
   "outputs": [],
   "source": [
    "def read_grid(file_path):\n",
    "    heights=[]\n",
    "    initial=None\n",
    "    end=None\n",
    "    \n",
    "    with open(file_path, 'r') as f:\n",
    "        for i,line in enumerate(f.readlines()):\n",
    "            line=line.strip()\n",
    "            row=[]\n",
    "            for j,l in enumerate(line):\n",
    "                if l == 'S':\n",
    "                    initial=(i,j)\n",
    "                    row.append(0)\n",
    "                elif l == \"E\":\n",
    "                    end=(i,j)\n",
    "                    highest = ascii_lowercase.index('z')\n",
    "                    row.append(highest)\n",
    "                else:\n",
    "                    row.append(ascii_lowercase.index(l))\n",
    "            heights.append(row)\n",
    "    return heights, initial, end"
   ]
  },
  {
   "cell_type": "code",
   "execution_count": 25,
   "id": "07d4bfc2-1f7f-49ef-9118-798564ce111e",
   "metadata": {},
   "outputs": [],
   "source": [
    "def get_neighbors(grid,pt):\n",
    "    nrows = len(grid)\n",
    "    ncols = len(grid[0])\n",
    "    cur_height = grid[pt[0]][pt[1]]\n",
    "    \n",
    "    moves = [ (0,1), (1,0), (0,-1), (-1,0)]\n",
    "    neighbors = []\n",
    "    for m in moves:\n",
    "        neighbor =  (pt[0]+m[0], pt[1]+m[1])\n",
    "        if neighbor[0] > -1 and neighbor[0] < nrows:\n",
    "            if neighbor[1] > -1 and neighbor[1] < ncols:\n",
    "                next_hgt = grid[neighbor[0]][neighbor[1]]\n",
    "                if next_hgt - cur_height < 2 :\n",
    "                    neighbors.append(neighbor)\n",
    "    return neighbors\n",
    "    \n",
    "\n",
    "def breadth_first_search(grid, start, end):\n",
    "    search_points = deque([start])\n",
    "    came_from = {start:None}\n",
    "    \n",
    "    while len(search_points) > 0:\n",
    "        cur_pt = search_points.popleft()\n",
    "        \n",
    "        if cur_pt == end:\n",
    "            break\n",
    "        \n",
    "        for n in get_neighbors(grid, cur_pt):\n",
    "            try:\n",
    "                test = came_from[n]\n",
    "            except:\n",
    "                came_from[n] = cur_pt\n",
    "                search_points.append(n) \n",
    "                \n",
    "    path = [end]\n",
    "    pt = end\n",
    "    \n",
    "    try: \n",
    "        while  came_from[pt] is not None:\n",
    "            pt = came_from[pt]\n",
    "            path.append(pt)\n",
    "        path.reverse()\n",
    "        return path\n",
    "    except:\n",
    "        None"
   ]
  },
  {
   "cell_type": "code",
   "execution_count": 26,
   "id": "e604e9e2-ecb3-408e-8930-bd64d6a45665",
   "metadata": {},
   "outputs": [],
   "source": [
    "def run_part_one(file_path):\n",
    "    hgt_grid, start, end = read_grid(file_path)\n",
    "    path = breadth_first_search(hgt_grid, start, end )\n",
    "    return len(path)-1"
   ]
  },
  {
   "cell_type": "code",
   "execution_count": 27,
   "id": "389734fa-258d-42bb-bd95-67c7eb111445",
   "metadata": {},
   "outputs": [
    {
     "data": {
      "text/plain": [
       "472"
      ]
     },
     "execution_count": 27,
     "metadata": {},
     "output_type": "execute_result"
    }
   ],
   "source": [
    "run_part_one('input/day_12.txt')"
   ]
  },
  {
   "cell_type": "code",
   "execution_count": 28,
   "id": "9ed325aa-1dfc-4ad9-82ac-d469270119d8",
   "metadata": {},
   "outputs": [],
   "source": [
    "def run_part_two(file_path):\n",
    "    hgt_grid, start, end = read_grid(file_path)\n",
    "   \n",
    "    start_pts =[]\n",
    "    for r, row in enumerate(hgt_grid):\n",
    "        for c, ele in enumerate(row):\n",
    "            if ele == 0:\n",
    "                start_pts.append( (r,c) )\n",
    "            \n",
    "    min_path= float('inf')\n",
    "    \n",
    "    for init in start_pts:\n",
    "        path = breadth_first_search(hgt_grid, init, end )\n",
    "        if path is None:\n",
    "            continue\n",
    "        \n",
    "        min_path = min( min_path, len(path)-1 )\n",
    "        \n",
    "    return min_path"
   ]
  },
  {
   "cell_type": "code",
   "execution_count": 30,
   "id": "2d14bc9d-0c53-404a-b5fb-95b5760d97c6",
   "metadata": {},
   "outputs": [
    {
     "data": {
      "text/plain": [
       "465"
      ]
     },
     "execution_count": 30,
     "metadata": {},
     "output_type": "execute_result"
    }
   ],
   "source": [
    "run_part_two('input/day_12.txt')"
   ]
  },
  {
   "cell_type": "code",
   "execution_count": null,
   "id": "be2340f3-9706-49fc-892e-a1f39532c1fa",
   "metadata": {},
   "outputs": [],
   "source": []
  }
 ],
 "metadata": {
  "kernelspec": {
   "display_name": "work_env",
   "language": "python",
   "name": "work_env"
  },
  "language_info": {
   "codemirror_mode": {
    "name": "ipython",
    "version": 3
   },
   "file_extension": ".py",
   "mimetype": "text/x-python",
   "name": "python",
   "nbconvert_exporter": "python",
   "pygments_lexer": "ipython3",
   "version": "3.9.1rc1"
  }
 },
 "nbformat": 4,
 "nbformat_minor": 5
}
