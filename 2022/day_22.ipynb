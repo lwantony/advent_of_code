{
 "cells": [
  {
   "cell_type": "code",
   "execution_count": 1,
   "id": "3b0eb4ec-c64b-48ed-a516-5da62ac4387d",
   "metadata": {},
   "outputs": [],
   "source": [
    "from IPython.core.interactiveshell import InteractiveShell\n",
    "InteractiveShell.ast_node_interactivity = \"all\""
   ]
  },
  {
   "cell_type": "markdown",
   "id": "6c1a1c22-ff0b-47e9-8c7b-a6a3376e9d4a",
   "metadata": {
    "tags": []
   },
   "source": [
    "# Part 1"
   ]
  },
  {
   "cell_type": "code",
   "execution_count": 2,
   "id": "051c1bfc-e80e-47bc-b5ad-cdcbd67a0416",
   "metadata": {},
   "outputs": [],
   "source": [
    "def read_file(filename):\n",
    "    mapping=[]\n",
    "    directions=None\n",
    "    get_dir=False\n",
    "    with open(filename,'r') as f:\n",
    "        for line in f.readlines():\n",
    "            if not get_dir:\n",
    "                line = line.strip('\\n')\n",
    "                if len(line) > 0:\n",
    "                    mapping.append(list(line))\n",
    "                else: \n",
    "                    get_dir=True\n",
    "                    continue\n",
    "            else:\n",
    "                directions=line.strip()\n",
    "                \n",
    "    return mapping, directions"
   ]
  },
  {
   "cell_type": "code",
   "execution_count": 3,
   "id": "8cb95fac-e880-455a-8332-df69fcb24561",
   "metadata": {},
   "outputs": [],
   "source": [
    "def get_init_pos(mp):\n",
    "    max_row=len(mp)\n",
    "    i=0\n",
    "    while mp[-1][i] != '.':\n",
    "        i+=1\n",
    "    return (max_row-1, i)\n",
    "    "
   ]
  },
  {
   "cell_type": "code",
   "execution_count": 8,
   "id": "0fc5b598-042c-44ae-8155-4e7231d93c48",
   "metadata": {},
   "outputs": [],
   "source": [
    "def read_directions(direction):\n",
    "    rotate=[]\n",
    "    turns =[]\n",
    "    for i,c in enumerate(direction):\n",
    "        if not c.isdigit():\n",
    "            rotate.append(i)\n",
    "            turns.append(-1 if c == 'L' else 1)\n",
    "        \n",
    "    steps=[]\n",
    "    for s,e  in zip([-1]+rotate, rotate+[len(direction)]):\n",
    "        steps.append(int(direction[s+1:e]))\n",
    "    return steps,turns"
   ]
  },
  {
   "cell_type": "code",
   "execution_count": 83,
   "id": "163540ea-4a82-4e55-b21d-84e9d88aac9a",
   "metadata": {},
   "outputs": [],
   "source": [
    "def move_position(steps, bearing, mapping, pos):\n",
    "    rc, cc = bearing\n",
    "    ir,ic = pos\n",
    "    wrap=0\n",
    "    new_row=None\n",
    "    new_col=None\n",
    "    \n",
    "    max_row=len(mapping)\n",
    "    max_col=len(mapping[ir])\n",
    "    \n",
    "    prev_pos=pos\n",
    "    for i in range(1,steps+1):\n",
    "        \n",
    "        new_row=(ir+rc*(i+wrap))%max_row\n",
    "        new_col=(ic+cc*(i+wrap))%max_col\n",
    "        \n",
    "        #if new_col >= max_col or mapping[new_row][new_col] not in ['.','#']:\n",
    "        \n",
    "        while (new_col >= max_col \n",
    "              or new_col >= len(mapping[new_row])\n",
    "              or mapping[new_row][new_col] not in ['.','#']):\n",
    "            wrap+=1\n",
    "            new_row=(ir+rc*(i+wrap))%max_row\n",
    "            new_col=(ic+cc*(i+wrap))%max_col\n",
    "        \n",
    "        if mapping[new_row][new_col] == '#':\n",
    "            return prev_pos\n",
    "        \n",
    "        if mapping[new_row][new_col] == '.':\n",
    "            prev_pos=[new_row,new_col]\n",
    "        \n",
    "                \n",
    "        \n",
    "    pos = [new_row,new_col]\n",
    "    return pos"
   ]
  },
  {
   "cell_type": "code",
   "execution_count": 84,
   "id": "26715ffb-0747-43b3-aebe-478b450a499a",
   "metadata": {},
   "outputs": [],
   "source": [
    "from collections import deque\n",
    "\n",
    "bearing=[ (0,1),\n",
    "          (-1,0),\n",
    "          (0,-1),\n",
    "          (1,0),\n",
    "        ]\n",
    "\n",
    "def part_one(filename):\n",
    "    mp, d = read_file(filename)\n",
    "    mp.reverse()\n",
    "    \n",
    "    steps, turns = read_directions(d)\n",
    "    pos = get_init_pos(mp)\n",
    "    b=0\n",
    "   \n",
    "    p = 0\n",
    "    t = 0\n",
    "    while p < len(turns):\n",
    "        pos = move_position(steps[p], bearing[b], mp, pos)\n",
    "        b = (b + turns[t])%4\n",
    "        p+=1\n",
    "        t+=1\n",
    "    \n",
    "    pos = move_position(steps[-1], bearing[b], mp, pos)\n",
    "    print(pos)\n",
    "    return (len(mp)-pos[0])*1000 + 4*(pos[1]+1) + b\n",
    "        \n",
    "    "
   ]
  },
  {
   "cell_type": "code",
   "execution_count": 85,
   "id": "d7cbdb1a-e04b-485a-9707-68d8eb2428ae",
   "metadata": {},
   "outputs": [
    {
     "name": "stdout",
     "output_type": "stream",
     "text": [
      "[6, 7]\n",
      "CPU times: user 627 µs, sys: 1.22 ms, total: 1.85 ms\n",
      "Wall time: 1.7 ms\n"
     ]
    },
    {
     "data": {
      "text/plain": [
       "6032"
      ]
     },
     "execution_count": 85,
     "metadata": {},
     "output_type": "execute_result"
    }
   ],
   "source": [
    "%%time\n",
    "part_one('input/test_22.txt')"
   ]
  },
  {
   "cell_type": "code",
   "execution_count": 86,
   "id": "acf18bf3-d3fc-4cdb-8997-33853aadd7c8",
   "metadata": {},
   "outputs": [
    {
     "name": "stdout",
     "output_type": "stream",
     "text": [
      "[107, 55]\n",
      "CPU times: user 25.1 ms, sys: 2.61 ms, total: 27.7 ms\n",
      "Wall time: 27.5 ms\n"
     ]
    },
    {
     "data": {
      "text/plain": [
       "93226"
      ]
     },
     "execution_count": 86,
     "metadata": {},
     "output_type": "execute_result"
    }
   ],
   "source": [
    "%%time\n",
    "part_one('input/day_22.txt')"
   ]
  },
  {
   "cell_type": "code",
   "execution_count": 66,
   "id": "cf2b6f97-ede7-4987-bcf8-220f1f47fe7d",
   "metadata": {},
   "outputs": [],
   "source": [
    "# 150166 is too high"
   ]
  },
  {
   "cell_type": "markdown",
   "id": "482e9bc2-551c-4683-9f40-99997c348506",
   "metadata": {
    "tags": []
   },
   "source": [
    "# Part 2"
   ]
  },
  {
   "cell_type": "code",
   "execution_count": null,
   "id": "e04e3867-a842-4b79-af03-bef38265f149",
   "metadata": {},
   "outputs": [],
   "source": []
  },
  {
   "cell_type": "code",
   "execution_count": null,
   "id": "204ec138-5218-4406-bf33-e2c5e00c3023",
   "metadata": {},
   "outputs": [],
   "source": []
  }
 ],
 "metadata": {
  "kernelspec": {
   "display_name": "work_env",
   "language": "python",
   "name": "work_env"
  },
  "language_info": {
   "codemirror_mode": {
    "name": "ipython",
    "version": 3
   },
   "file_extension": ".py",
   "mimetype": "text/x-python",
   "name": "python",
   "nbconvert_exporter": "python",
   "pygments_lexer": "ipython3",
   "version": "3.9.7"
  }
 },
 "nbformat": 4,
 "nbformat_minor": 5
}
