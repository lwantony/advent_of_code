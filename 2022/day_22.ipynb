{
 "cells": [
  {
   "cell_type": "code",
   "execution_count": 1,
   "id": "3b0eb4ec-c64b-48ed-a516-5da62ac4387d",
   "metadata": {},
   "outputs": [],
   "source": [
    "from IPython.core.interactiveshell import InteractiveShell\n",
    "InteractiveShell.ast_node_interactivity = \"all\""
   ]
  },
  {
   "cell_type": "markdown",
   "id": "6c1a1c22-ff0b-47e9-8c7b-a6a3376e9d4a",
   "metadata": {
    "tags": []
   },
   "source": [
    "# Part 1"
   ]
  },
  {
   "cell_type": "code",
   "execution_count": 6,
   "id": "051c1bfc-e80e-47bc-b5ad-cdcbd67a0416",
   "metadata": {},
   "outputs": [],
   "source": [
    "def read_file(filename):\n",
    "    mapping=[]\n",
    "    directions=None\n",
    "    get_dir=False\n",
    "    with open(filename,'r') as f:\n",
    "        for line in f.readlines():\n",
    "            if not get_dir:\n",
    "                line = line.strip('\\n')\n",
    "                if len(line) > 0:\n",
    "                    mapping.append(list(line))\n",
    "                else: \n",
    "                    get_dir=True\n",
    "                    continue\n",
    "            else:\n",
    "                directions=line.strip()\n",
    "                \n",
    "    return mapping, directions"
   ]
  },
  {
   "cell_type": "code",
   "execution_count": 27,
   "id": "8cb95fac-e880-455a-8332-df69fcb24561",
   "metadata": {},
   "outputs": [],
   "source": [
    "def get_init_pos(mp):\n",
    "    max_row=len(mp)\n",
    "    i=0\n",
    "    while mp[-1][i] != '.':\n",
    "        i+=1\n",
    "    return (max_row-1, i)\n",
    "    "
   ]
  },
  {
   "cell_type": "code",
   "execution_count": 40,
   "id": "0fc5b598-042c-44ae-8155-4e7231d93c48",
   "metadata": {},
   "outputs": [],
   "source": [
    "def read_directions(direction):\n",
    "    rotate=[]\n",
    "    turns =[]\n",
    "    for i,c in enumerate(d):\n",
    "        if not c.isdigit():\n",
    "            rotate.append(i)\n",
    "            turns.append(-1 if c == 'L' else 1)\n",
    "        \n",
    "    steps=[]\n",
    "    for s,e  in zip([-1]+rotate, rotate+[len(d)]):\n",
    "        steps.append(int(d[s+1:e]))\n",
    "    return steps,turns"
   ]
  },
  {
   "cell_type": "code",
   "execution_count": 74,
   "id": "163540ea-4a82-4e55-b21d-84e9d88aac9a",
   "metadata": {},
   "outputs": [],
   "source": [
    "def move_position(steps, bearing, mapping, pos):\n",
    "    max_row=len(mapping)\n",
    "    max_col=len(mapping[1])\n",
    "    rc, cc = bearing\n",
    "    ir,ic = pos\n",
    "    wrap=0\n",
    "    new_row=None\n",
    "    new_col=None\n",
    "    \n",
    "    for i in range(1,steps+1):\n",
    "        new_row=(ir+rc*(i+wrap))%max_row\n",
    "        new_col=(ic+cc*(i+wrap))%max_col\n",
    "        print(new_row,new_col,max_col)\n",
    "        if mapping[new_row][new_col] == '#':\n",
    "            ### Problem with the wrapping on this\n",
    "            new_row=(ir+rc*(i+wrap-1))%max_row\n",
    "            new_col=(ic+cc*(i+wrap-1))%max_col\n",
    "            pos = [new_row,new_col]\n",
    "            return pos\n",
    "        \n",
    "        if mapping[new_row][new_col] == '':\n",
    "            while mapping[new_row][new_col] == '':\n",
    "                wrap+=1\n",
    "                new_row=(ir+rc*(i+wrap))%max_row\n",
    "                new_col=(ic+cc*(i+wrap))%max_col\n",
    "        \n",
    "    pos = [new_row,new_col]\n",
    "    return pos"
   ]
  },
  {
   "cell_type": "code",
   "execution_count": 75,
   "id": "26715ffb-0747-43b3-aebe-478b450a499a",
   "metadata": {},
   "outputs": [],
   "source": [
    "from collections import deque\n",
    "\n",
    "bearing=[ (0,1),\n",
    "          (-1,0),\n",
    "          (0,-1),\n",
    "          (1,0),\n",
    "        ]\n",
    "\n",
    "def part_one(filename):\n",
    "    mp, d = read_file(filename)\n",
    "    mp.reverse()\n",
    "    \n",
    "    steps, turns = read_directions(d)\n",
    "    pos = get_init_pos(mp)\n",
    "    b=0\n",
    "   \n",
    "    p = 0\n",
    "    t = 0\n",
    "    while p < len(turns):\n",
    "        pos = move_position(steps[p], bearing[b], mp, pos)\n",
    "        b = (b + turns[t])%4\n",
    "        p+=1\n",
    "        t+=1\n",
    "    \n",
    "    pos = move_position(steps[-1], bearing[b], mp, pos)\n",
    "    \n",
    "    return (len(mp)-pos[0])*1000 + 4*(pos[1]+1) + b\n",
    "        \n",
    "    "
   ]
  },
  {
   "cell_type": "code",
   "execution_count": 76,
   "id": "d7cbdb1a-e04b-485a-9707-68d8eb2428ae",
   "metadata": {},
   "outputs": [
    {
     "name": "stdout",
     "output_type": "stream",
     "text": [
      "11 9 16\n",
      "11 10 16\n",
      "11 11 16\n",
      "10 10 16\n",
      "9 10 16\n",
      "8 10 16\n",
      "7 10 16\n",
      "6 10 16\n",
      "6 11 16\n",
      "6 12 16\n"
     ]
    },
    {
     "ename": "IndexError",
     "evalue": "list index out of range",
     "output_type": "error",
     "traceback": [
      "\u001b[0;31m---------------------------------------------------------------------------\u001b[0m",
      "\u001b[0;31mIndexError\u001b[0m                                Traceback (most recent call last)",
      "\u001b[0;32m<timed eval>\u001b[0m in \u001b[0;36m<module>\u001b[0;34m\u001b[0m\n",
      "\u001b[0;32m<ipython-input-75-294a2874b4af>\u001b[0m in \u001b[0;36mpart_one\u001b[0;34m(filename)\u001b[0m\n\u001b[1;32m     18\u001b[0m     \u001b[0mt\u001b[0m \u001b[0;34m=\u001b[0m \u001b[0;36m0\u001b[0m\u001b[0;34m\u001b[0m\u001b[0;34m\u001b[0m\u001b[0m\n\u001b[1;32m     19\u001b[0m     \u001b[0;32mwhile\u001b[0m \u001b[0mp\u001b[0m \u001b[0;34m<\u001b[0m \u001b[0mlen\u001b[0m\u001b[0;34m(\u001b[0m\u001b[0mturns\u001b[0m\u001b[0;34m)\u001b[0m\u001b[0;34m:\u001b[0m\u001b[0;34m\u001b[0m\u001b[0;34m\u001b[0m\u001b[0m\n\u001b[0;32m---> 20\u001b[0;31m         \u001b[0mpos\u001b[0m \u001b[0;34m=\u001b[0m \u001b[0mmove_position\u001b[0m\u001b[0;34m(\u001b[0m\u001b[0msteps\u001b[0m\u001b[0;34m[\u001b[0m\u001b[0mp\u001b[0m\u001b[0;34m]\u001b[0m\u001b[0;34m,\u001b[0m \u001b[0mbearing\u001b[0m\u001b[0;34m[\u001b[0m\u001b[0mb\u001b[0m\u001b[0;34m]\u001b[0m\u001b[0;34m,\u001b[0m \u001b[0mmp\u001b[0m\u001b[0;34m,\u001b[0m \u001b[0mpos\u001b[0m\u001b[0;34m)\u001b[0m\u001b[0;34m\u001b[0m\u001b[0;34m\u001b[0m\u001b[0m\n\u001b[0m\u001b[1;32m     21\u001b[0m         \u001b[0mb\u001b[0m \u001b[0;34m=\u001b[0m \u001b[0;34m(\u001b[0m\u001b[0mb\u001b[0m \u001b[0;34m+\u001b[0m \u001b[0mturns\u001b[0m\u001b[0;34m[\u001b[0m\u001b[0mt\u001b[0m\u001b[0;34m]\u001b[0m\u001b[0;34m)\u001b[0m\u001b[0;34m%\u001b[0m\u001b[0;36m4\u001b[0m\u001b[0;34m\u001b[0m\u001b[0;34m\u001b[0m\u001b[0m\n\u001b[1;32m     22\u001b[0m         \u001b[0mp\u001b[0m\u001b[0;34m+=\u001b[0m\u001b[0;36m1\u001b[0m\u001b[0;34m\u001b[0m\u001b[0;34m\u001b[0m\u001b[0m\n",
      "\u001b[0;32m<ipython-input-74-e38d6705a439>\u001b[0m in \u001b[0;36mmove_position\u001b[0;34m(steps, bearing, mapping, pos)\u001b[0m\n\u001b[1;32m     12\u001b[0m         \u001b[0mnew_col\u001b[0m\u001b[0;34m=\u001b[0m\u001b[0;34m(\u001b[0m\u001b[0mic\u001b[0m\u001b[0;34m+\u001b[0m\u001b[0mcc\u001b[0m\u001b[0;34m*\u001b[0m\u001b[0;34m(\u001b[0m\u001b[0mi\u001b[0m\u001b[0;34m+\u001b[0m\u001b[0mwrap\u001b[0m\u001b[0;34m)\u001b[0m\u001b[0;34m)\u001b[0m\u001b[0;34m%\u001b[0m\u001b[0mmax_col\u001b[0m\u001b[0;34m\u001b[0m\u001b[0;34m\u001b[0m\u001b[0m\n\u001b[1;32m     13\u001b[0m         \u001b[0mprint\u001b[0m\u001b[0;34m(\u001b[0m\u001b[0mnew_row\u001b[0m\u001b[0;34m,\u001b[0m\u001b[0mnew_col\u001b[0m\u001b[0;34m,\u001b[0m\u001b[0mmax_col\u001b[0m\u001b[0;34m)\u001b[0m\u001b[0;34m\u001b[0m\u001b[0;34m\u001b[0m\u001b[0m\n\u001b[0;32m---> 14\u001b[0;31m         \u001b[0;32mif\u001b[0m \u001b[0mmapping\u001b[0m\u001b[0;34m[\u001b[0m\u001b[0mnew_row\u001b[0m\u001b[0;34m]\u001b[0m\u001b[0;34m[\u001b[0m\u001b[0mnew_col\u001b[0m\u001b[0;34m]\u001b[0m \u001b[0;34m==\u001b[0m \u001b[0;34m'#'\u001b[0m\u001b[0;34m:\u001b[0m\u001b[0;34m\u001b[0m\u001b[0;34m\u001b[0m\u001b[0m\n\u001b[0m\u001b[1;32m     15\u001b[0m             \u001b[0;31m### Problem with the wrapping on this\u001b[0m\u001b[0;34m\u001b[0m\u001b[0;34m\u001b[0m\u001b[0m\n\u001b[1;32m     16\u001b[0m             \u001b[0mnew_row\u001b[0m\u001b[0;34m=\u001b[0m\u001b[0;34m(\u001b[0m\u001b[0mir\u001b[0m\u001b[0;34m+\u001b[0m\u001b[0mrc\u001b[0m\u001b[0;34m*\u001b[0m\u001b[0;34m(\u001b[0m\u001b[0mi\u001b[0m\u001b[0;34m+\u001b[0m\u001b[0mwrap\u001b[0m\u001b[0;34m-\u001b[0m\u001b[0;36m1\u001b[0m\u001b[0;34m)\u001b[0m\u001b[0;34m)\u001b[0m\u001b[0;34m%\u001b[0m\u001b[0mmax_row\u001b[0m\u001b[0;34m\u001b[0m\u001b[0;34m\u001b[0m\u001b[0m\n",
      "\u001b[0;31mIndexError\u001b[0m: list index out of range"
     ]
    }
   ],
   "source": [
    "%%time\n",
    "part_one('input/test_22.txt')"
   ]
  },
  {
   "cell_type": "code",
   "execution_count": 73,
   "id": "acf18bf3-d3fc-4cdb-8997-33853aadd7c8",
   "metadata": {},
   "outputs": [
    {
     "name": "stdout",
     "output_type": "stream",
     "text": [
      "199 1 50\n",
      "199 2 50\n",
      "199 3 50\n",
      "199 4 50\n",
      "199 5 50\n",
      "199 6 50\n",
      "199 7 50\n",
      "199 8 50\n",
      "199 9 50\n",
      "199 10 50\n",
      "198 10 50\n",
      "197 10 50\n",
      "196 10 50\n",
      "195 10 50\n",
      "194 10 50\n",
      "194 11 50\n",
      "194 12 50\n",
      "194 13 50\n",
      "194 14 50\n",
      "194 15 50\n",
      "193 15 50\n",
      "192 15 50\n",
      "191 15 50\n",
      "190 15 50\n",
      "189 15 50\n",
      "188 15 50\n",
      "187 15 50\n",
      "186 15 50\n",
      "185 15 50\n",
      "184 15 50\n",
      "184 16 50\n",
      "184 17 50\n",
      "184 18 50\n",
      "184 19 50\n",
      "183 19 50\n",
      "182 19 50\n",
      "181 19 50\n",
      "180 19 50\n",
      "179 19 50\n",
      "179 20 50\n",
      "179 21 50\n",
      "179 22 50\n",
      "179 23 50\n",
      "179 24 50\n",
      "CPU times: user 5.04 ms, sys: 4.04 ms, total: 9.07 ms\n",
      "Wall time: 7.13 ms\n"
     ]
    },
    {
     "data": {
      "text/plain": [
       "21100"
      ]
     },
     "execution_count": 73,
     "metadata": {},
     "output_type": "execute_result"
    }
   ],
   "source": [
    "%%time\n",
    "part_one('input/day_22.txt')"
   ]
  },
  {
   "cell_type": "code",
   "execution_count": 66,
   "id": "cf2b6f97-ede7-4987-bcf8-220f1f47fe7d",
   "metadata": {},
   "outputs": [],
   "source": [
    "# 9264 is too low"
   ]
  },
  {
   "cell_type": "markdown",
   "id": "482e9bc2-551c-4683-9f40-99997c348506",
   "metadata": {
    "tags": []
   },
   "source": [
    "# Part 2"
   ]
  },
  {
   "cell_type": "code",
   "execution_count": null,
   "id": "e04e3867-a842-4b79-af03-bef38265f149",
   "metadata": {},
   "outputs": [],
   "source": []
  },
  {
   "cell_type": "code",
   "execution_count": null,
   "id": "204ec138-5218-4406-bf33-e2c5e00c3023",
   "metadata": {},
   "outputs": [],
   "source": []
  }
 ],
 "metadata": {
  "kernelspec": {
   "display_name": "work_env",
   "language": "python",
   "name": "work_env"
  },
  "language_info": {
   "codemirror_mode": {
    "name": "ipython",
    "version": 3
   },
   "file_extension": ".py",
   "mimetype": "text/x-python",
   "name": "python",
   "nbconvert_exporter": "python",
   "pygments_lexer": "ipython3",
   "version": "3.9.7"
  }
 },
 "nbformat": 4,
 "nbformat_minor": 5
}
