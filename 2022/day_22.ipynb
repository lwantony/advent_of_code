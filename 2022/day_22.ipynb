{
 "cells": [
  {
   "cell_type": "code",
   "execution_count": 1,
   "id": "3b0eb4ec-c64b-48ed-a516-5da62ac4387d",
   "metadata": {},
   "outputs": [],
   "source": [
    "from IPython.core.interactiveshell import InteractiveShell\n",
    "InteractiveShell.ast_node_interactivity = \"all\""
   ]
  },
  {
   "cell_type": "markdown",
   "id": "6c1a1c22-ff0b-47e9-8c7b-a6a3376e9d4a",
   "metadata": {
    "tags": []
   },
   "source": [
    "# Part 1"
   ]
  },
  {
   "cell_type": "code",
   "execution_count": 2,
   "id": "051c1bfc-e80e-47bc-b5ad-cdcbd67a0416",
   "metadata": {},
   "outputs": [],
   "source": [
    "def read_file(filename):\n",
    "    mapping=[]\n",
    "    directions=None\n",
    "    get_dir=False\n",
    "    with open(filename,'r') as f:\n",
    "        for line in f.readlines():\n",
    "            if not get_dir:\n",
    "                line = line.strip('\\n')\n",
    "                if len(line) > 0:\n",
    "                    mapping.append(list(line))\n",
    "                else: \n",
    "                    get_dir=True\n",
    "                    continue\n",
    "            else:\n",
    "                directions=line.strip()\n",
    "                \n",
    "    return mapping, directions"
   ]
  },
  {
   "cell_type": "code",
   "execution_count": 3,
   "id": "8cb95fac-e880-455a-8332-df69fcb24561",
   "metadata": {},
   "outputs": [],
   "source": [
    "def get_init_pos(mp):\n",
    "    max_row=len(mp)\n",
    "    i=0\n",
    "    while mp[-1][i] != '.':\n",
    "        i+=1\n",
    "    return (max_row-1, i)\n",
    "    "
   ]
  },
  {
   "cell_type": "code",
   "execution_count": 8,
   "id": "0fc5b598-042c-44ae-8155-4e7231d93c48",
   "metadata": {},
   "outputs": [],
   "source": [
    "def read_directions(direction):\n",
    "    rotate=[]\n",
    "    turns =[]\n",
    "    for i,c in enumerate(direction):\n",
    "        if not c.isdigit():\n",
    "            rotate.append(i)\n",
    "            turns.append(-1 if c == 'L' else 1)\n",
    "        \n",
    "    steps=[]\n",
    "    for s,e  in zip([-1]+rotate, rotate+[len(direction)]):\n",
    "        steps.append(int(direction[s+1:e]))\n",
    "    return steps,turns"
   ]
  },
  {
   "cell_type": "code",
   "execution_count": 83,
   "id": "163540ea-4a82-4e55-b21d-84e9d88aac9a",
   "metadata": {},
   "outputs": [],
   "source": [
    "def move_position(steps, bearing, mapping, pos):\n",
    "    rc, cc = bearing\n",
    "    ir,ic = pos\n",
    "    wrap=0\n",
    "    new_row=None\n",
    "    new_col=None\n",
    "    \n",
    "    max_row=len(mapping)\n",
    "    max_col=len(mapping[ir])\n",
    "    \n",
    "    prev_pos=pos\n",
    "    for i in range(1,steps+1):\n",
    "        \n",
    "        new_row=(ir+rc*(i+wrap))%max_row\n",
    "        new_col=(ic+cc*(i+wrap))%max_col\n",
    "        \n",
    "        #if new_col >= max_col or mapping[new_row][new_col] not in ['.','#']:\n",
    "        \n",
    "        while (new_col >= max_col \n",
    "              or new_col >= len(mapping[new_row])\n",
    "              or mapping[new_row][new_col] not in ['.','#']):\n",
    "            wrap+=1\n",
    "            new_row=(ir+rc*(i+wrap))%max_row\n",
    "            new_col=(ic+cc*(i+wrap))%max_col\n",
    "        \n",
    "        if mapping[new_row][new_col] == '#':\n",
    "            return prev_pos\n",
    "        \n",
    "        if mapping[new_row][new_col] == '.':\n",
    "            prev_pos=[new_row,new_col]\n",
    "        \n",
    "                \n",
    "        \n",
    "    pos = [new_row,new_col]\n",
    "    return pos"
   ]
  },
  {
   "cell_type": "code",
   "execution_count": 84,
   "id": "26715ffb-0747-43b3-aebe-478b450a499a",
   "metadata": {},
   "outputs": [],
   "source": [
    "from collections import deque\n",
    "\n",
    "bearing=[ (0,1),\n",
    "          (-1,0),\n",
    "          (0,-1),\n",
    "          (1,0),\n",
    "        ]\n",
    "\n",
    "def part_one(filename):\n",
    "    mp, d = read_file(filename)\n",
    "    mp.reverse()\n",
    "    \n",
    "    steps, turns = read_directions(d)\n",
    "    pos = get_init_pos(mp)\n",
    "    b=0\n",
    "   \n",
    "    p = 0\n",
    "    t = 0\n",
    "    while p < len(turns):\n",
    "        pos = move_position(steps[p], bearing[b], mp, pos)\n",
    "        b = (b + turns[t])%4\n",
    "        p+=1\n",
    "        t+=1\n",
    "    \n",
    "    pos = move_position(steps[-1], bearing[b], mp, pos)\n",
    "    print(pos)\n",
    "    return (len(mp)-pos[0])*1000 + 4*(pos[1]+1) + b\n",
    "        \n",
    "    "
   ]
  },
  {
   "cell_type": "code",
   "execution_count": 85,
   "id": "d7cbdb1a-e04b-485a-9707-68d8eb2428ae",
   "metadata": {},
   "outputs": [
    {
     "name": "stdout",
     "output_type": "stream",
     "text": [
      "[6, 7]\n",
      "CPU times: user 627 µs, sys: 1.22 ms, total: 1.85 ms\n",
      "Wall time: 1.7 ms\n"
     ]
    },
    {
     "data": {
      "text/plain": [
       "6032"
      ]
     },
     "execution_count": 85,
     "metadata": {},
     "output_type": "execute_result"
    }
   ],
   "source": [
    "%%time\n",
    "part_one('input/test_22.txt')"
   ]
  },
  {
   "cell_type": "code",
   "execution_count": 86,
   "id": "acf18bf3-d3fc-4cdb-8997-33853aadd7c8",
   "metadata": {},
   "outputs": [
    {
     "name": "stdout",
     "output_type": "stream",
     "text": [
      "[107, 55]\n",
      "CPU times: user 25.1 ms, sys: 2.61 ms, total: 27.7 ms\n",
      "Wall time: 27.5 ms\n"
     ]
    },
    {
     "data": {
      "text/plain": [
       "93226"
      ]
     },
     "execution_count": 86,
     "metadata": {},
     "output_type": "execute_result"
    }
   ],
   "source": [
    "%%time\n",
    "part_one('input/day_22.txt')"
   ]
  },
  {
   "cell_type": "markdown",
   "id": "482e9bc2-551c-4683-9f40-99997c348506",
   "metadata": {
    "tags": []
   },
   "source": [
    "# Part 2"
   ]
  },
  {
   "cell_type": "raw",
   "id": "5630c53a-f641-4d1b-b4ee-5596bdb3433c",
   "metadata": {},
   "source": [
    "        ...#\n",
    "        .#..\n",
    "        #...\n",
    "        ....\n",
    "...#.......#\n",
    "........#...\n",
    "..#....#....\n",
    "..........#.\n",
    "        ...#....\n",
    "        .....#..\n",
    "        .#......\n",
    "        ......#.\n",
    "\n",
    "# (0,2) : > (2,3,<) ; ^(1,0,V)  ; < (1,1,V)\n",
    "# (0,2) : > (2,3,<) ; ^(1,0,V)  ; < (1,1,V)"
   ]
  },
  {
   "cell_type": "code",
   "execution_count": 125,
   "id": "204ec138-5218-4406-bf33-e2c5e00c3023",
   "metadata": {},
   "outputs": [],
   "source": [
    "class CubeFace:\n",
    "    def __init__(self, coord, size=50):\n",
    "        self.coord = coord\n",
    "        self.size=size\n",
    "        self.map = None\n",
    "        \n",
    "        self.neighbors=[None,None,None,None]\n",
    "        \n",
    "    def set_map(self, layout):\n",
    "        self.map = layout\n",
    "        \n",
    "    def __str__(self):\n",
    "        return '\\n'.join([ ''.join(r) for r in self.map])\n",
    "    \n",
    "    def set_neighbors(self,neighs):\n",
    "        self.neighbors = neighs"
   ]
  },
  {
   "cell_type": "code",
   "execution_count": 126,
   "id": "50b43e6b-f21f-4268-9080-7064487afb8d",
   "metadata": {},
   "outputs": [],
   "source": [
    "def set_up_faces(layout, size):\n",
    "    layout.reverse()\n",
    "    \n",
    "    nrows = len(layout)//size\n",
    "    faces = []\n",
    "    for r in range(nrows):\n",
    "        nc = len(layout[r*size])//size\n",
    "        for c in range(nc):\n",
    "            if layout[r*size][c*size] in ['.','#']:\n",
    "                face = CubeFace((r,c), size=size)\n",
    "                seg = layout[r*size:r*size+size].copy()\n",
    "                new_seg = [ i[c*size:c*size+size].copy() for i in seg]\n",
    "                face.set_map(new_seg)\n",
    "                faces.append(face)\n",
    "    \n",
    "    return faces"
   ]
  },
  {
   "cell_type": "code",
   "execution_count": 127,
   "id": "2690e0d3-9d45-491d-b743-a2a328987da9",
   "metadata": {},
   "outputs": [],
   "source": [
    "tmap, tdir = read_file('input/test_22.txt')"
   ]
  },
  {
   "cell_type": "code",
   "execution_count": 128,
   "id": "eb3dd28d-c092-4070-bace-adf778118456",
   "metadata": {},
   "outputs": [],
   "source": [
    "tfaces = set_up_faces(tmap, 4)"
   ]
  },
  {
   "cell_type": "code",
   "execution_count": 133,
   "id": "ebcf7907-7a98-4c99-9129-e6d21c5e8029",
   "metadata": {},
   "outputs": [
    {
     "name": "stdout",
     "output_type": "stream",
     "text": [
      "....\n",
      ".#..\n",
      "....\n",
      "...#\n",
      "\n",
      "\n",
      "..#.\n",
      "....\n",
      ".#..\n",
      "....\n",
      "\n",
      "\n",
      "....\n",
      "..#.\n",
      "....\n",
      "...#\n",
      "\n",
      "\n",
      "....\n",
      "...#\n",
      "....\n",
      "....\n",
      "\n",
      "\n",
      "..#.\n",
      "....\n",
      "#...\n",
      "...#\n",
      "\n",
      "\n",
      "....\n",
      "#...\n",
      ".#..\n",
      "...#\n",
      "\n",
      "\n"
     ]
    }
   ],
   "source": [
    "for f in tfaces:\n",
    "    print(f)\n",
    "    print('\\n')\n",
    "   "
   ]
  },
  {
   "cell_type": "code",
   "execution_count": null,
   "id": "feff5b46-3049-44a1-be90-5e8d311ef1c5",
   "metadata": {},
   "outputs": [],
   "source": []
  }
 ],
 "metadata": {
  "kernelspec": {
   "display_name": "work_env",
   "language": "python",
   "name": "work_env"
  },
  "language_info": {
   "codemirror_mode": {
    "name": "ipython",
    "version": 3
   },
   "file_extension": ".py",
   "mimetype": "text/x-python",
   "name": "python",
   "nbconvert_exporter": "python",
   "pygments_lexer": "ipython3",
   "version": "3.9.7"
  }
 },
 "nbformat": 4,
 "nbformat_minor": 5
}
