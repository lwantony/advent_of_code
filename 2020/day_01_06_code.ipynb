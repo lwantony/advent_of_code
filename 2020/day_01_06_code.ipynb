{
 "cells": [
  {
   "cell_type": "code",
   "execution_count": 1,
   "metadata": {},
   "outputs": [],
   "source": [
    "import numpy as np"
   ]
  },
  {
   "cell_type": "code",
   "execution_count": 2,
   "metadata": {},
   "outputs": [],
   "source": [
    "import pandas as pd"
   ]
  },
  {
   "cell_type": "code",
   "execution_count": 7,
   "metadata": {},
   "outputs": [],
   "source": [
    "nums_df = pd.read_csv('input_day1.txt',header=None)"
   ]
  },
  {
   "cell_type": "code",
   "execution_count": 11,
   "metadata": {},
   "outputs": [],
   "source": [
    "nums_df.sort_values(by=0,inplace=True)"
   ]
  },
  {
   "cell_type": "code",
   "execution_count": 18,
   "metadata": {},
   "outputs": [
    {
     "data": {
      "text/plain": [
       "30      285\n",
       "61      332\n",
       "19      639\n",
       "141     685\n",
       "144     687\n",
       "       ... \n",
       "184    1992\n",
       "182    1993\n",
       "42     2001\n",
       "84     2004\n",
       "113    2005\n",
       "Name: 0, Length: 199, dtype: int64"
      ]
     },
     "execution_count": 18,
     "metadata": {},
     "output_type": "execute_result"
    }
   ],
   "source": [
    "nums_df.iloc[:-1,0]"
   ]
  },
  {
   "cell_type": "code",
   "execution_count": 21,
   "metadata": {},
   "outputs": [
    {
     "name": "stdout",
     "output_type": "stream",
     "text": [
      "796*1224 = 974304\n"
     ]
    }
   ],
   "source": [
    "for i,inum in enumerate(nums_df.iloc[:-1,0]):\n",
    "    for jnum in nums_df.iloc[i+1:,0]:\n",
    "        if inum+jnum == 2020:\n",
    "            print(f'{inum}*{jnum} = {inum*jnum}')\n",
    "        elif inum+jnum > 2020:\n",
    "            break\n",
    "    "
   ]
  },
  {
   "cell_type": "code",
   "execution_count": 22,
   "metadata": {},
   "outputs": [
    {
     "name": "stdout",
     "output_type": "stream",
     "text": [
      "332*830*858 = 236430480\n",
      "332*858*830 = 236430480\n",
      "830*858*332 = 236430480\n"
     ]
    }
   ],
   "source": [
    "for i,inum in enumerate(nums_df.iloc[:-1,0]):\n",
    "    for j,jnum in enumerate(nums_df.iloc[i+1:,0]):\n",
    "        for k,knum in enumerate(nums_df.iloc[j+1:,0]):\n",
    "            if inum+jnum+knum == 2020:\n",
    "                print(f'{inum}*{jnum}*{knum} = {inum*jnum*knum}')\n",
    "            elif inum+jnum+knum > 2020:\n",
    "                break\n",
    "        "
   ]
  },
  {
   "cell_type": "markdown",
   "metadata": {},
   "source": [
    "# Day 2"
   ]
  },
  {
   "cell_type": "code",
   "execution_count": 27,
   "metadata": {},
   "outputs": [],
   "source": [
    "import re"
   ]
  },
  {
   "cell_type": "code",
   "execution_count": 54,
   "metadata": {},
   "outputs": [],
   "source": [
    "m=re.match('(v)','vvvvw')"
   ]
  },
  {
   "cell_type": "code",
   "execution_count": 57,
   "metadata": {},
   "outputs": [
    {
     "data": {
      "text/plain": [
       "0"
      ]
     },
     "execution_count": 57,
     "metadata": {},
     "output_type": "execute_result"
    }
   ],
   "source": [
    "'s'.count('v')"
   ]
  },
  {
   "cell_type": "code",
   "execution_count": 61,
   "metadata": {},
   "outputs": [
    {
     "name": "stdout",
     "output_type": "stream",
     "text": [
      "607\n",
      "321\n"
     ]
    }
   ],
   "source": [
    "valid=0\n",
    "valid_2=0\n",
    "with open('input_day2.txt','r') as f:\n",
    "    for line in f.readlines():\n",
    "        m = re.search('(\\d+)-(\\d+) (\\w):\\s+(\\w+)', line)\n",
    "        lmin = int(m.groups()[0])\n",
    "        lmax = int(m.groups()[1])\n",
    "        letter = m.groups()[2]\n",
    "        password = m.groups()[3]\n",
    "        \n",
    "        count=password.count(letter)\n",
    "        if lmin <= count <= lmax:\n",
    "            valid+=1\n",
    "            yes=count\n",
    "       \n",
    "        is_valid_2 = 0\n",
    "        if password[lmax-1] != password[lmin-1]:\n",
    "            if password[lmax-1] == letter or password[lmin-1] == letter:\n",
    "                is_valid_2=1\n",
    "        valid_2 += is_valid_2    \n",
    "        \n",
    "print(valid)\n",
    "print(valid_2)"
   ]
  },
  {
   "cell_type": "markdown",
   "metadata": {},
   "source": [
    "# Day 3"
   ]
  },
  {
   "cell_type": "code",
   "execution_count": 64,
   "metadata": {},
   "outputs": [],
   "source": [
    "slopes={}\n",
    "for slope in [1,3,5,7]:\n",
    "    ntrees =0\n",
    "    with open('input_day3.txt','r') as f:\n",
    "        for i,line in enumerate(f.readlines()):\n",
    "            line = line.strip()\n",
    "            nchars = len(line)\n",
    "            ntrees += 1 if line[i*slope%31] == '#' else 0\n",
    "    slopes[str(slope)] = ntrees"
   ]
  },
  {
   "cell_type": "code",
   "execution_count": 65,
   "metadata": {},
   "outputs": [
    {
     "data": {
      "text/plain": [
       "{'1': 88, '3': 145, '5': 71, '7': 90}"
      ]
     },
     "execution_count": 65,
     "metadata": {},
     "output_type": "execute_result"
    }
   ],
   "source": [
    "slopes"
   ]
  },
  {
   "cell_type": "code",
   "execution_count": 79,
   "metadata": {},
   "outputs": [
    {
     "name": "stdout",
     "output_type": "stream",
     "text": [
      "42\n"
     ]
    }
   ],
   "source": [
    "ntrees =0\n",
    "slope=1\n",
    "with open('input_day3.txt','r') as f:\n",
    "    for i,line in enumerate(f.readlines()):\n",
    "        if i%2==1:\n",
    "            continue\n",
    "        line = line.strip()\n",
    "        nchars = len(line)\n",
    "        ntrees += 1 if line[i//2*slope%31] == '#' else 0\n",
    "print(ntrees)"
   ]
  },
  {
   "cell_type": "code",
   "execution_count": 80,
   "metadata": {},
   "outputs": [],
   "source": [
    "multiple=ntrees\n",
    "for val in slopes.values():\n",
    "    multiple*=val"
   ]
  },
  {
   "cell_type": "code",
   "execution_count": 81,
   "metadata": {},
   "outputs": [
    {
     "data": {
      "text/plain": [
       "3424528800"
      ]
     },
     "execution_count": 81,
     "metadata": {},
     "output_type": "execute_result"
    }
   ],
   "source": [
    "multiple"
   ]
  },
  {
   "cell_type": "markdown",
   "metadata": {},
   "source": [
    "# Day 4"
   ]
  },
  {
   "cell_type": "code",
   "execution_count": 91,
   "metadata": {},
   "outputs": [],
   "source": [
    "passports=[]\n",
    "with open('input_day4.txt','r') as f:\n",
    "    curr_passport=None\n",
    "    for i,line in enumerate(f.readlines()):\n",
    "        line=line.strip()\n",
    "        if len(line)==0:\n",
    "            passports.append(curr_passport)\n",
    "            curr_passport=None\n",
    "            continue\n",
    "        \n",
    "        curr_passport = line.split(' ') if curr_passport is None else curr_passport+line.split(' ')\n",
    "    passports.append(curr_passport)"
   ]
  },
  {
   "cell_type": "code",
   "execution_count": 140,
   "metadata": {},
   "outputs": [],
   "source": [
    "valid_pass = 0\n",
    "for pp in passports:\n",
    "    if len(pp)< 7:\n",
    "        continue\n",
    "    \n",
    "    if len(pp) ==8:\n",
    "        valid_pass+=1 \n",
    "    \n",
    "    elif len(pp) == 7 :\n",
    "        fields = [ char.split(':')[0] for char in pp ]\n",
    "        if 'cid' not in fields:\n",
    "            valid_pass+=1\n"
   ]
  },
  {
   "cell_type": "code",
   "execution_count": 141,
   "metadata": {},
   "outputs": [
    {
     "data": {
      "text/plain": [
       "228"
      ]
     },
     "execution_count": 141,
     "metadata": {},
     "output_type": "execute_result"
    }
   ],
   "source": [
    "valid_pass"
   ]
  },
  {
   "cell_type": "code",
   "execution_count": 146,
   "metadata": {},
   "outputs": [],
   "source": [
    "def check_if_number(val):\n",
    "    try:\n",
    "        val = int(val)\n",
    "        return True\n",
    "    except ValueError :\n",
    "        return False\n",
    "\n",
    "\n",
    "def birthday_check(val):\n",
    "    is_number= check_if_number(val)\n",
    "    if is_number:\n",
    "        val = int(val)\n",
    "        if 1920<= val <=2002:\n",
    "            return True\n",
    "        else:\n",
    "            return False\n",
    "    else:\n",
    "        return False\n",
    "        \n",
    "        \n",
    "def issue_year(val):\n",
    "    is_number= check_if_number(val)\n",
    "    if is_number:\n",
    "        val = int(val)\n",
    "        if 2010<= val <=2020:\n",
    "            return True\n",
    "        else:\n",
    "            return False\n",
    "    else:\n",
    "        return False\n",
    "    \n",
    "def expire_year(val):\n",
    "    is_number= check_if_number(val)\n",
    "    if is_number:\n",
    "        val = int(val)\n",
    "        if 2020<= val <=2030:\n",
    "            return True\n",
    "        else:\n",
    "            return False\n",
    "    else:\n",
    "        return False\n",
    "    \n",
    "def check_height(val):\n",
    "    val =val.strip()\n",
    "    m = re.search('(\\d+)([ic][nm])',val)\n",
    "    \n",
    "    if m is None:\n",
    "        return False\n",
    "    if val == m.groups()[0]+m.groups()[1]:\n",
    "        num = int(m.groups()[0])\n",
    "        measure = m.groups()[1]\n",
    "        if measure == 'in':\n",
    "            if 59 <= num <=76:\n",
    "                return True\n",
    "        elif measure == 'cm':\n",
    "            if 150 <= num <= 193:\n",
    "                return True\n",
    "        \n",
    "    return False\n",
    "            \n",
    "def check_haircolor(val):\n",
    "    val =val.strip()\n",
    "    m = re.search('#([0-9a-f]{6})$',val)\n",
    "    if m is None:\n",
    "        return False\n",
    "    return True\n",
    "\n",
    "def check_eye(val):\n",
    "    if val in ['amb','blu','brn','gry','grn','hzl','oth']:\n",
    "        return True\n",
    "    else:\n",
    "        return False\n",
    "    \n",
    "def check_pid(val):\n",
    "    val =val.strip()\n",
    "    m = re.search('^([0-9]{9})$',val)\n",
    "    if m is None:\n",
    "        return False\n",
    "    return True\n",
    "\n",
    "def ignore_cid(val):\n",
    "    return False\n",
    "\n",
    "funct_dict = {\n",
    "'byr': birthday_check,\n",
    "'iyr': issue_year,\n",
    "'eyr': expire_year,\n",
    "'hgt': check_height,\n",
    "'hcl': check_haircolor,\n",
    "'ecl': check_eye,\n",
    "'pid': check_pid,\n",
    "'cid': ignore_cid,\n",
    "}\n",
    "            "
   ]
  },
  {
   "cell_type": "code",
   "execution_count": 148,
   "metadata": {},
   "outputs": [
    {
     "name": "stdout",
     "output_type": "stream",
     "text": [
      "175\n"
     ]
    }
   ],
   "source": [
    "valid_pass = 0\n",
    "for pp in passports:\n",
    "    if len(pp)< 7:\n",
    "        continue\n",
    "    \n",
    "    checks_passed = sum([ funct_dict[char.split(':')[0]](char.split(':')[1]) for char in pp ])\n",
    "    if checks_passed == 7:\n",
    "        valid_pass+=1\n",
    "print(valid_pass)"
   ]
  },
  {
   "cell_type": "markdown",
   "metadata": {},
   "source": [
    "# Day 5"
   ]
  },
  {
   "cell_type": "code",
   "execution_count": 153,
   "metadata": {},
   "outputs": [
    {
     "data": {
      "text/plain": [
       "44"
      ]
     },
     "execution_count": 153,
     "metadata": {},
     "output_type": "execute_result"
    }
   ],
   "source": [
    "int('FBFBBFF'.replace('F','0').replace('B','1'),2)"
   ]
  },
  {
   "cell_type": "code",
   "execution_count": 158,
   "metadata": {},
   "outputs": [],
   "source": [
    "max_val =0\n",
    "seat_taken = []\n",
    "with open('input_day5.txt','r') as f:\n",
    "    for line in f.readlines():\n",
    "        line=line.strip()\n",
    "        row=line[:7]\n",
    "        col=line[7:]\n",
    "        \n",
    "        row_num = int(row.replace('F','0').replace('B','1'),2)\n",
    "        col_num = int(col.replace('L','0').replace('R','1'),2)\n",
    "       \n",
    "        seat_num = row_num*8 + col_num\n",
    "        seat_taken.append(seat_num)\n",
    "        max_val = max(seat_num, max_val)\n",
    "        \n",
    "        "
   ]
  },
  {
   "cell_type": "code",
   "execution_count": 157,
   "metadata": {},
   "outputs": [
    {
     "data": {
      "text/plain": [
       "848"
      ]
     },
     "execution_count": 157,
     "metadata": {},
     "output_type": "execute_result"
    }
   ],
   "source": [
    "max_val"
   ]
  },
  {
   "cell_type": "code",
   "execution_count": 159,
   "metadata": {},
   "outputs": [],
   "source": [
    "seat_taken.sort()"
   ]
  },
  {
   "cell_type": "code",
   "execution_count": 162,
   "metadata": {},
   "outputs": [],
   "source": [
    "seat_taken = np.asarray(seat_taken)"
   ]
  },
  {
   "cell_type": "code",
   "execution_count": 169,
   "metadata": {},
   "outputs": [
    {
     "name": "stdout",
     "output_type": "stream",
     "text": [
      "[683]\n",
      "[681]\n"
     ]
    }
   ],
   "source": [
    "print(seat_taken[1:][seat_taken[1:] -  seat_taken[:-1]   !=1])\n",
    "print(seat_taken[0:-1][seat_taken[1:] -  seat_taken[:-1]   !=1])"
   ]
  },
  {
   "cell_type": "markdown",
   "metadata": {},
   "source": [
    "# Day 6"
   ]
  },
  {
   "cell_type": "code",
   "execution_count": 176,
   "metadata": {},
   "outputs": [],
   "source": [
    "custom_len =[]\n",
    "with open('input_day6.txt','r') as f:\n",
    "    curr_questions=None\n",
    "    for i,line in enumerate(f.readlines()):\n",
    "        line=line.strip()\n",
    "        if len(line)==0:\n",
    "            custom_len.append(len(set(curr_questions)))\n",
    "            curr_questions=None\n",
    "            continue\n",
    "        \n",
    "        curr_questions = list(line) if curr_questions is None else curr_questions+list(line)\n",
    "    custom_len.append(len(set(curr_questions)))"
   ]
  },
  {
   "cell_type": "code",
   "execution_count": 179,
   "metadata": {},
   "outputs": [
    {
     "data": {
      "text/plain": [
       "6596"
      ]
     },
     "execution_count": 179,
     "metadata": {},
     "output_type": "execute_result"
    }
   ],
   "source": [
    "sum(custom_len)"
   ]
  },
  {
   "cell_type": "code",
   "execution_count": 186,
   "metadata": {},
   "outputs": [],
   "source": [
    "consensus =[]\n",
    "with open('input_day6.txt','r') as f:\n",
    "    curr_questions=None\n",
    "    for i,line in enumerate(f.readlines()):\n",
    "        line=line.strip()\n",
    "        if len(line)==0:\n",
    "            consensus.append(len(set(curr_questions)))\n",
    "            curr_questions=None\n",
    "            continue\n",
    "        \n",
    "        curr_questions = set(line) if curr_questions is None else curr_questions.intersection(set(line))\n",
    "    consensus.append(len(set(curr_questions)))"
   ]
  },
  {
   "cell_type": "code",
   "execution_count": 187,
   "metadata": {},
   "outputs": [
    {
     "data": {
      "text/plain": [
       "3219"
      ]
     },
     "execution_count": 187,
     "metadata": {},
     "output_type": "execute_result"
    }
   ],
   "source": [
    "sum(consensus)"
   ]
  },
  {
   "cell_type": "code",
   "execution_count": 184,
   "metadata": {},
   "outputs": [],
   "source": [
    "tmp= set('abc')"
   ]
  },
  {
   "cell_type": "code",
   "execution_count": 185,
   "metadata": {},
   "outputs": [
    {
     "data": {
      "text/plain": [
       "{'b', 'c'}"
      ]
     },
     "execution_count": 185,
     "metadata": {},
     "output_type": "execute_result"
    }
   ],
   "source": [
    "tmp.intersection(list('efbc'))"
   ]
  },
  {
   "cell_type": "code",
   "execution_count": null,
   "metadata": {},
   "outputs": [],
   "source": []
  }
 ],
 "metadata": {
  "kernelspec": {
   "display_name": "work_env",
   "language": "python",
   "name": "work_env"
  },
  "language_info": {
   "codemirror_mode": {
    "name": "ipython",
    "version": 3
   },
   "file_extension": ".py",
   "mimetype": "text/x-python",
   "name": "python",
   "nbconvert_exporter": "python",
   "pygments_lexer": "ipython3",
   "version": "3.9.1rc1"
  }
 },
 "nbformat": 4,
 "nbformat_minor": 4
}
