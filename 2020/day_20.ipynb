{
 "cells": [
  {
   "cell_type": "code",
   "execution_count": 1,
   "metadata": {},
   "outputs": [],
   "source": [
    "from IPython.core.interactiveshell import InteractiveShell\n",
    "InteractiveShell.ast_node_interactivity = \"all\""
   ]
  },
  {
   "cell_type": "code",
   "execution_count": 2,
   "metadata": {},
   "outputs": [],
   "source": [
    "import re"
   ]
  },
  {
   "cell_type": "code",
   "execution_count": 3,
   "metadata": {},
   "outputs": [],
   "source": [
    "from copy import deepcopy\n",
    "from collections import deque\n",
    "\n",
    "class Tile:\n",
    "    def __init__(self,tile_number,grid):\n",
    "        self.number = tile_number\n",
    "        self.grid = grid\n",
    "        self.sides = self._get_sides(grid)\n",
    "        self.matched = deque([ None for _ in range(4)])\n",
    "        self.unmatched = [i for i in range(4)]\n",
    "    \n",
    "    def _get_sides(self,grid):\n",
    "        top=grid[0]\n",
    "        bottom=grid[-1]\n",
    "        left = ''.join([ r[0] for r in grid])\n",
    "        right= ''.join([ r[-1] for r in grid])\n",
    "        \n",
    "        return [top, right, bottom, left]\n",
    "    \n",
    "    def get_unmatched(self):\n",
    "        indices = self.unmatched.copy()\n",
    "        edges =  [ self.sides[e] for e in indices]\n",
    "        return indices, edges\n",
    "    \n",
    "    def update_match(self,side_index, other_tile):\n",
    "        self.matched[side_index] = other_tile\n",
    "        self.unmatched.remove(side_index)\n",
    "        \n",
    "    def get_matching_edge(self, other_tile):\n",
    "        for i, tile in enumerate(self.matched):\n",
    "            if tile == other_tile:\n",
    "                return self.sides[i]\n",
    "        return None\n",
    "        \n",
    "    def align_image(self,other_edge,other_tile, edge_idx):\n",
    "        matching_grid = [2,3,0,1]\n",
    "        matched = self.matched.copy()\n",
    "        \n",
    "        this_edge = ''    \n",
    "        for it, otile in enumerate(matched):\n",
    "            if otile == other_tile:\n",
    "                this_edge = self.sides[it]\n",
    "        match_idx = matching_grid[edge_idx]\n",
    "        \n",
    "        grid = self.grid.copy()\n",
    "        cgrid = [ [r for r in row ] for row in grid]\n",
    "        \n",
    "        new_grid = grid.copy()\n",
    "        \n",
    "        while matched[match_idx] !=  other_tile:\n",
    "            new_grid = [''.join([ cgrid[9-j][i] for j in range(10)]) for i in range(10)]\n",
    "            cgrid = [[r for r in row ] for row in new_grid]\n",
    "            last = matched.pop()\n",
    "            matched.appendleft(last)\n",
    "        \n",
    "        if sum([x==y for x,y in zip(this_edge, other_edge)]) ==10:\n",
    "            edges = self._get_sides(new_grid)\n",
    "            self.grid = new_grid\n",
    "            self.sides = edges\n",
    "            self.matched = matched\n",
    "        \n",
    "            return\n",
    "        \n",
    "        if sum([x==y for x,y in zip(reversed(this_edge), other_edge)]) ==10:\n",
    "            if match_idx%2 == 0:\n",
    "                new_grid = self.flip_y_axis(new_grid.copy())\n",
    "                tmp= deepcopy(matched[1])\n",
    "                matched[1]=matched[3]\n",
    "                matched[3]=tmp\n",
    "                \n",
    "            else:\n",
    "                new_grid = self.flip_x_axis(new_grid.copy())\n",
    "                tmp= deepcopy(matched[0])\n",
    "                matched[0]=matched[2]\n",
    "                matched[2]=tmp\n",
    "            \n",
    "            edges = self._get_sides(new_grid)\n",
    "            self.grid = new_grid\n",
    "            self.sides = edges\n",
    "            self.matched = matched\n",
    "            return\n",
    "        \n",
    "        \n",
    "    def __str__(self):\n",
    "        return '\\n'.join(self.grid)\n",
    "    \n",
    "        \n",
    "    def flip_x_axis(self,grid):\n",
    "        new_grid = [ grid[i] for i in range(9,-1,-1)]\n",
    "        return new_grid\n",
    "        \n",
    "    def flip_y_axis(self,grid):\n",
    "        new_grid = [ row[::-1] for row in grid]\n",
    "        return new_grid \n",
    "        \n",
    "        "
   ]
  },
  {
   "cell_type": "code",
   "execution_count": 4,
   "metadata": {},
   "outputs": [],
   "source": [
    "tiles = {}\n",
    "\n",
    "with open('data/input_day20.txt', 'r') as f:\n",
    "#with open('test_20.txt', 'r') as f:\n",
    "    line = True\n",
    "    while line:\n",
    "        line = f.readline()\n",
    "        m=re.match('Tile (\\d+):', line)\n",
    "        number = int(m.groups()[0])\n",
    "        grid=[ f.readline().strip() for _ in range(10)]\n",
    "        \n",
    "        tiles[number]=(Tile(number, grid))\n",
    "            \n",
    "        line = f.readline()\n",
    "        \n",
    "        "
   ]
  },
  {
   "cell_type": "code",
   "execution_count": 5,
   "metadata": {},
   "outputs": [],
   "source": [
    "def get_corner_tiles(tile_list):\n",
    "    for i,orig_tile in enumerate(tile_list[:-1]):\n",
    "        orig_idx, orig_edges = orig_tile.get_unmatched()\n",
    "        for other_tile in tile_list[i+1:]:\n",
    "            if len(orig_idx) ==0:\n",
    "                break\n",
    "            other_idx, other_edges = other_tile.get_unmatched()\n",
    "            if len(other_idx) ==0:\n",
    "                continue\n",
    "            \n",
    "            matched = False\n",
    "            for ref_i in range(len(orig_idx)):\n",
    "                for other_i in range(len(other_idx)):\n",
    "                    matching = sum([x ==y for x,y in zip(orig_edges[ref_i], other_edges[other_i])])\n",
    "                    if matching == 10:\n",
    "                        o_idx = other_idx.pop(other_i)\n",
    "                        o_ed = other_edges.pop(other_i)\n",
    "                        r_idx = orig_idx.pop(ref_i)\n",
    "                        r_ed = orig_edges.pop(ref_i)\n",
    "                        \n",
    "                        other_tile.update_match(o_idx, orig_tile.number)\n",
    "                        orig_tile.update_match(r_idx, other_tile.number)\n",
    "                        matched = True\n",
    "                        break\n",
    "                        \n",
    "                    reverse_matching = sum([x==y for x,y in zip(orig_edges[ref_i], reversed(other_edges[other_i]))])\n",
    "                    if reverse_matching == 10:\n",
    "                        o_idx = other_idx.pop(other_i)\n",
    "                        o_ed = other_edges.pop(other_i)\n",
    "                        r_idx = orig_idx.pop(ref_i)\n",
    "                        r_ed = orig_edges.pop(ref_i)\n",
    "                        \n",
    "                        other_tile.update_match(o_idx, orig_tile.number)\n",
    "                        orig_tile.update_match(r_idx, other_tile.number)\n",
    "                        matched = True\n",
    "                        break\n",
    "                if matched:\n",
    "                    break\n",
    "\n",
    "def get_part_one(tile_list):\n",
    "    get_corner_tiles(tile_list)\n",
    "    \n",
    "    corners = [ t.number for t in tiles.values() if len(t.unmatched) == 2]\n",
    "    t=1\n",
    "    for c in corners:\n",
    "        t*=c\n",
    "    return t"
   ]
  },
  {
   "cell_type": "code",
   "execution_count": 6,
   "metadata": {},
   "outputs": [
    {
     "data": {
      "text/plain": [
       "17148689442341"
      ]
     },
     "execution_count": 6,
     "metadata": {},
     "output_type": "execute_result"
    }
   ],
   "source": [
    "get_part_one(list(tiles.values()))"
   ]
  },
  {
   "cell_type": "code",
   "execution_count": 7,
   "metadata": {},
   "outputs": [],
   "source": [
    "corners = [ t.number for t in tiles.values() if len(t.unmatched) == 2]"
   ]
  },
  {
   "cell_type": "code",
   "execution_count": 8,
   "metadata": {},
   "outputs": [
    {
     "data": {
      "text/plain": [
       "[3181, 2543, 1453, 1459]"
      ]
     },
     "execution_count": 8,
     "metadata": {},
     "output_type": "execute_result"
    }
   ],
   "source": [
    "corners"
   ]
  },
  {
   "cell_type": "code",
   "execution_count": 9,
   "metadata": {},
   "outputs": [
    {
     "data": {
      "text/plain": [
       "[(3181, [2, 3]), (2543, [2, 3]), (1453, [0, 3]), (1459, [1, 2])]"
      ]
     },
     "execution_count": 9,
     "metadata": {},
     "output_type": "execute_result"
    }
   ],
   "source": [
    "[ (t,tiles[t].unmatched) for t in corners]"
   ]
  },
  {
   "cell_type": "code",
   "execution_count": 10,
   "metadata": {},
   "outputs": [],
   "source": [
    "def running_row(starting_number, tiles_dict):\n",
    "    \n",
    "    idx = starting_number \n",
    "    cnt=0\n",
    "    \n",
    "    whole_grid=[]\n",
    "    while tiles_dict[idx].matched[2] is not None :\n",
    "        row=[tiles_dict[idx]]\n",
    "        while tiles_dict[idx].matched[1] is not None :\n",
    "            next_index = tiles_dict[idx].matched[1]\n",
    "            \n",
    "            this_side=tiles_dict[idx].sides[1]\n",
    "            \n",
    "            tiles_dict[next_index].align_image(tiles_dict[idx].sides[1],idx, 1)\n",
    "            row.append(tiles_dict[next_index])\n",
    "            idx = next_index\n",
    "        whole_grid.append(row)\n",
    "        \n",
    "        below_idx = row[0].matched[2]\n",
    "        tiles_dict[below_idx].align_image(row[0].sides[2],row[0].number,2)\n",
    "        idx=below_idx\n",
    "    row=[tiles_dict[idx]]\n",
    "    while tiles_dict[idx].matched[1] is not None :\n",
    "        next_index = tiles_dict[idx].matched[1]\n",
    "        \n",
    "        this_side=tiles_dict[idx].sides[1]\n",
    "        \n",
    "        tiles_dict[next_index].align_image(tiles_dict[idx].sides[1],idx, 1)\n",
    "        row.append(tiles_dict[next_index])\n",
    "        idx = next_index\n",
    "    whole_grid.append(row)\n",
    "    \n",
    "    return whole_grid\n",
    "\n",
    "def aligning_jigsaw(tiles_dict, starting_idx):\n",
    "    row = []"
   ]
  },
  {
   "cell_type": "code",
   "execution_count": 11,
   "metadata": {},
   "outputs": [],
   "source": [
    "for _ in range(5):\n",
    "    test =running_row(1453, tiles)"
   ]
  },
  {
   "cell_type": "code",
   "execution_count": 12,
   "metadata": {},
   "outputs": [],
   "source": [
    "row = test[0]\n",
    "with open('tmp.txt','w') as f:\n",
    "    for row in test:\n",
    "        for i in range(10):\n",
    "            print('\\t'.join([ t.grid[i] for t in row]),file=f)\n",
    "        print('\\n',file=f)\n",
    "    "
   ]
  },
  {
   "cell_type": "code",
   "execution_count": 13,
   "metadata": {},
   "outputs": [],
   "source": [
    "jigsaw=[]\n",
    "for row in test:\n",
    "    cur_row = [ ''.join([ t.grid[r][1:-1] for t in row]) for r in range(1,9)]\n",
    "    jigsaw.extend(cur_row)"
   ]
  },
  {
   "cell_type": "code",
   "execution_count": 14,
   "metadata": {},
   "outputs": [
    {
     "data": {
      "text/plain": [
       "12"
      ]
     },
     "execution_count": 14,
     "metadata": {},
     "output_type": "execute_result"
    },
    {
     "data": {
      "text/plain": [
       "12"
      ]
     },
     "execution_count": 14,
     "metadata": {},
     "output_type": "execute_result"
    }
   ],
   "source": [
    "len(test)\n",
    "len(test[0])"
   ]
  },
  {
   "cell_type": "code",
   "execution_count": 15,
   "metadata": {},
   "outputs": [
    {
     "data": {
      "text/plain": [
       "96"
      ]
     },
     "execution_count": 15,
     "metadata": {},
     "output_type": "execute_result"
    },
    {
     "data": {
      "text/plain": [
       "96"
      ]
     },
     "execution_count": 15,
     "metadata": {},
     "output_type": "execute_result"
    }
   ],
   "source": [
    "len(jigsaw)\n",
    "len(jigsaw[0])"
   ]
  },
  {
   "cell_type": "code",
   "execution_count": 16,
   "metadata": {},
   "outputs": [],
   "source": [
    "def check_for_sea_monsters(grid):\n",
    "    \n",
    "    def check_cur_spot(new_grid, loc):\n",
    "        if sum([ (new_grid[loc[0]+i][loc[1]+j] == '#' \n",
    "                  or new_grid[loc[0]+i][loc[1]+j] == 'O')  \n",
    "                for i,j in monster_indices ]) == len(monster_indices):\n",
    "            for x,y in monster_indices :\n",
    "                new_grid[loc[0]+x][loc[1]+y] = 'O'\n",
    "        return new_grid\n",
    "    \n",
    "    check_grid = deepcopy(grid)\n",
    "    check_grid = [[r for r in row ] for row in check_grid]\n",
    "    sea_monster = [\n",
    "    '                  # ',\n",
    "    '#    ##    ##    ###',\n",
    "    ' #  #  #  #  #  #   ',\n",
    "    ]\n",
    "\n",
    "    monster_indices = []\n",
    "    for i,row in enumerate(sea_monster) :\n",
    "        for j,symbol in enumerate(row)  :\n",
    "            if symbol=='#':\n",
    "                monster_indices.append((i,j))\n",
    "    filter_size = (len(sea_monster),len(sea_monster[0]))\n",
    "    \n",
    "    \n",
    "    max_row = len(grid) - filter_size[0]+1\n",
    "    max_col = len(grid[0]) - filter_size[1]+1\n",
    "    \n",
    "    for r in range(max_row):\n",
    "        for c in range(max_col):\n",
    "            check_grid = check_cur_spot(check_grid, (r,c))\n",
    "            \n",
    "    return [''.join(row) for row in check_grid ]\n",
    "        \n",
    "    "
   ]
  },
  {
   "cell_type": "code",
   "execution_count": 17,
   "metadata": {},
   "outputs": [],
   "source": [
    "def flip_x_axis(grid):\n",
    "    row_count = len(grid)\n",
    "    new_grid = [ grid[i] for i in range(row_count-1,-1,-1)]\n",
    "    return new_grid\n",
    "    \n",
    "def flip_y_axis(grid):\n",
    "    new_grid = [ row[::-1] for row in grid]\n",
    "    return new_grid \n",
    "\n",
    "def part_two_monsters(jig_saw):\n",
    "    jgrid = [[r for r in row ] for row in jig_saw]\n",
    "    \n",
    "    for _ in range(4):\n",
    "        j_rows = len(jgrid)\n",
    "        j_cols = len(jgrid[0])\n",
    "        \n",
    "        new_grid = [''.join([ jgrid[j_rows-1-j][i] for j in range(j_rows)]) for i in range(j_cols)]\n",
    "        jgrid = [[r for r in row ] for row in new_grid]\n",
    "        \n",
    "        marked = check_for_sea_monsters(new_grid)\n",
    "\n",
    "        if ''.join(marked).count('O') != 0:\n",
    "            return ''.join(marked).count('#'), marked\n",
    "     \n",
    "        flipped_grid = flip_x_axis(new_grid)\n",
    "        marked = check_for_sea_monsters(flipped_grid)\n",
    "        if ''.join(marked).count('O') != 0:\n",
    "            return ''.join(marked).count('#'), marked\n",
    "        \n",
    "        flipped_grid = flip_y_axis(new_grid)\n",
    "        marked = check_for_sea_monsters(flipped_grid)\n",
    "        if ''.join(marked).count('O') != 0:\n",
    "            return ''.join(marked).count('#'), marked"
   ]
  },
  {
   "cell_type": "code",
   "execution_count": 18,
   "metadata": {},
   "outputs": [],
   "source": [
    "count, marked = part_two_monsters(jigsaw)"
   ]
  },
  {
   "cell_type": "code",
   "execution_count": 19,
   "metadata": {},
   "outputs": [
    {
     "data": {
      "text/plain": [
       "2009"
      ]
     },
     "execution_count": 19,
     "metadata": {},
     "output_type": "execute_result"
    }
   ],
   "source": [
    "count"
   ]
  },
  {
   "cell_type": "code",
   "execution_count": 20,
   "metadata": {},
   "outputs": [],
   "source": [
    "temp = [ r.replace('.', ' ') for r in marked]"
   ]
  },
  {
   "cell_type": "code",
   "execution_count": 21,
   "metadata": {},
   "outputs": [
    {
     "data": {
      "text/plain": [
       "['  #  #   ##  # #      ## #    ##   #####    # # ### #     ##          # #         #     #       ',\n",
       " '          ####    #          #   # #            #  #   ##   ###     ##          # ##          # ',\n",
       " '#    #   # #    #  #     ##     #              #      O # #     #  ###  ###      #       O#   # ',\n",
       " ' #     #       ###      #  #   #   #O  # OO##  OO##  OOO   ###  # #   #O    OO   #OO ## OOO     ',\n",
       " ' #     #    # # ##      O #  ## # #  O #O  O  O# O  O        #   # #  # O #O  O  O #O  O        ',\n",
       " '#     O # #OO#   OO    OOO #    #         #  # #           #     # #      ###            #   ## ',\n",
       " ' ## #  O  O# O# O #O  O    # #   ##     #  # #   #             ##  #    #    # # #   #   #      ',\n",
       " '###                #      # #    #      ##       #  #            #O   #  #   #   # #        #   ',\n",
       " '        #              # #   #    #  # #   ## # O# # OO    OO    OOO #  #  # #     #  #         ',\n",
       " '## # # ## #           #     #  #    #  #   #  # #O  O #O  O  O  O #    #  ##       ##  #      # ',\n",
       " '#                # #  #     #     ####  #   #   ####        ##    #  #         ## ##     ##   # ',\n",
       " '    ### #   ##  #   #  #        #           ##  #  ## # #       ##    # ###  # # ##  ##        #',\n",
       " '  ### #    #          #           ##  ## # #  #         # #       ##    #  ## ##  #        #   #',\n",
       " '# # #  #          ##  ##  ###    # ####  #   #  #  #  #  # ##        #             #     #    # ',\n",
       " '    # # # # #        ##O #        #              #   #   #     #         # #   O#   #         ##',\n",
       " '     O  # OO  # OO    OOO    #      #       #    #        #  O #  OO    OO    OOO #  #     ## ##',\n",
       " '   #  O  O  O  O  O  O  ## #    #   ###    #           ##    #O# O #O  O #O  O#                 ',\n",
       " ' #  ##  #       #     # #  # # #   #         #   O       #   #  # #         # ##           # #  ',\n",
       " '  #        #    # ###  #  #   #O    OO    OO    OOO   #    #    # #    #   #  #        #        ',\n",
       " '  # #   ###  #     #        # ##O #O  O  O  O  O  #            #   #   #   O    #     #         ',\n",
       " '             #       #   #  ##    #####   #####   #      O# ##OO #  OO    OOO            # ## ##',\n",
       " '       #          ### #  # #    #   ###         ##        O  O #O #O #O  O####                  ',\n",
       " '   #  #      # #                       #  O   # #     #        # #     # #    # #  #  #    ## # ',\n",
       " '  #   #        ### #### O  # OO  ##OO    OOO#    #       #   #      #  #    ##  #  # #     # #  ',\n",
       " '#  #   # #    #  #    ## O# O# O  O  O  O             #       #  #     ### # #   ##       O  ## ',\n",
       " '#             #    # #       ##       ###   #      #    #       #   # # O#   OO#   OO    OOO ## ',\n",
       " '  #       # #             # #   # #  # #    # # #       ### # ##  #      O  O# O #O #O  O #     ',\n",
       " '     #  ###           #   #         #O ###      # #                   #  #  #   # #     ##    # ',\n",
       " '  #      #   #   # O#  #OO# # OO    OOO###   #       # #   ##  ##  #            # #   ##        ',\n",
       " '    ##  #           O  O  O  O# O  O       # ##     #  ##### #    # #     ##      # #        ## ',\n",
       " '     ##  # ####   # # ## #    ##     #             #           # #        # O     #       #   # ',\n",
       " '  # #      #  #    #      ##  #   #  #      # #    #   # #O  # OO #  OO#  #OOO#        ####    #',\n",
       " '#          #     #    # # # #    #  #            # #       O# O #O  O  O  O  #  # #          #  ',\n",
       " '       #     # #  #   # #    #   #    #     ### #     #        ##  #       #  #  # #  # ## #    ',\n",
       " '  # ##    ## #     #       # #      #          ##      # #   #   #    #       #  #   #     #    ',\n",
       " '  #       # #  #     #   # ##   O   ##   ##  #     ##    # # #  ##   #   # #    ##              ',\n",
       " '  #  #       #O ## OO #  OO    OOO# #    #  #     #  ## # #    #    #    O #    #   #    #    # ',\n",
       " ' #            #O  O  O #O# O  O ##   #    #   #        O  # OO## #OO ## OOO#  #  ###       ## ##',\n",
       " '#   #   #  ##             ## #  #     # # # # ####    # O  O  O  O #O# O    ##                 #',\n",
       " '     #    #            #   ###      # #  ## ###                     #   #       #   ##  #       ',\n",
       " ' #     #            # #             ##            ## # # #       ## #            #             #',\n",
       " '#    ###  #  #    #        # # ####           #  #     O #  # ###         #  #   #  ###       # ',\n",
       " ' ## #      # #     ## #  # #  #   #  O    OO    OO ## OOO #    #      # ##        O #      # #  ',\n",
       " ' # #    ##          #      #     #    O# O  O  O  O #O    #  # #O#   OO    OO    OOO # #      # ',\n",
       " ' #    ###      # #   #   #    #   #    #     #   #       #      #O  O  O #O #O  O  #    ##      ',\n",
       " '  # # #      #  ##   #  #       #      # #   ##  #   #          #                        # #   #',\n",
       " ' #   #     #        #       # #         #   #                       #   #   #      # ## #       ',\n",
       " '     #     #       # #   #  ##   ###   # ## ###   #   ##   #     #        # #  # #    ## #    # ',\n",
       " '#  #      ##      #        #O   #    ## #      ##      ##       #    #     #  # #        ##     ',\n",
       " '       # #O   #OO    OO    OOO        #  # #      #   #  ##   #  #    O  # #              # #   ',\n",
       " '  ##  #   #O  O #O #O  O  O            # ##   # # # O # #OO    OO    OOO#    #  ##      #       ',\n",
       " '          #  ## #            # #             #   ## #O# O  O# O  O  O            ##   ##       #',\n",
       " '    #    #      #      # #         #        ###   # #    #   ##          #    # #    # #       #',\n",
       " '#    #  # #     #   #         #  #     #      # #      #      # # #      #  #      #  #         ',\n",
       " ' #    #    #   ###         #  ##O  ### #    # #   ##   ##       # ##   #    #   ## ## ## #    # ',\n",
       " '#       ## #  O    OO  # OO    OOO   ## # #     #      #  ##   #  #                   ###  #    ',\n",
       " ' #   #  #      O# O  O  O##O  O            #  ##   #    #  #      ##  # #  ## #  #  #  # #  #   ',\n",
       " ' # ## #    ## # #    #                      #        #         #        #O    #    #    #       ',\n",
       " ' #   ##     #     #   #      #  #      ##    #     #  #O    OO   #OO##  OOO######    ##    #  # ',\n",
       " '              # ### #             #  #    #  ##       ##O# O  O  O# O  O###                #  # ',\n",
       " '    ##    # # ###            #     #  #          #      #        #      #   #   ##   # ##   ##  ',\n",
       " '#       #    # #       #        ## #  ###    #    #   # #       # ##   #          #  ##        #',\n",
       " '      # ##  # ##  #  #         #  #  # ##      #        #  #    #          ##         #      #  ',\n",
       " ' # #               # ## # #   ##           #    ##    #        O #                       #  #  #',\n",
       " '#       #      #    #    # ###             # O  # OO#   OO    OOO  ##          ## # # #     #   ',\n",
       " ' # ##      #  #                 #   #       ##O #O #O# O #O# O   #   # #        #   # #    ## # ',\n",
       " '       #   # #  #      #     #                    #  ###    # #    #   #   # #    #  #   #      ',\n",
       " '       #  #          #   # O   # #  # # #   #  #    #    # #     #     #       ###    #         ',\n",
       " '   #  # #O #  OO   #OO   #OOO           #      #      ###  ##O###     #   #   #                #',\n",
       " '       #  O  O##O #O  O  O   # # #  ##  #  O    OO  # OO    OOO###      #    #                  ',\n",
       " ' #           ##  ##   #     #        ## #  #O  O  O  O  O# O #    #    # ##              #      ',\n",
       " '   ## #   # ## #  # ## #  # #   #        #      ##  # # #                   #        ##       # ',\n",
       " ' #     #  #  #   #    #               #    #   # #  # #   ### #   # ##      #    #  #      #  # ',\n",
       " '#   ###       # #      # #    #   ##  ## #     # # ##  O     #  #  ##  #       # # ## ##  # #   ',\n",
       " ' #         #  # #            # # #   O    OO#   OO  # OOO##    #            # ##   #    #      #',\n",
       " '#            #         # #       #    O  O  O  O  O #O#   ##                 O   #              ',\n",
       " '#     #     ##  #  #       ##    #     # #   ##   ## #     O  # OO    OO    OOO # ##       #    ',\n",
       " '     # # #  #  ##    #  #   ## #       #       # # #       #O# O  O# O# O  O    ##              ',\n",
       " '    #  #  # # #    O   #     #  #   ##  #    #    #     #   #           #  #  #   #   #  #      ',\n",
       " '#O  # OO   #OO    OOO  #           #          #     #        ####               #     #  #   #  ',\n",
       " '# O  O  O  O #O #O #  #          # #     #       #    #   #        O     #   #               ## ',\n",
       " '#    # # #  #   #    #           #    #     ##  #O # #OO ###OO    OOO ##     #    #  #     #  # ',\n",
       " '               #  #           #          ##   #   O# O  O# O  O# O ##    # #            # #     ',\n",
       " '  #   #  # #   ##    #      #  #            # # #  #          ## # ##          # #  # #     #   ',\n",
       " ' #   #  ##  #      #   #   #                         ##        #   ##       #        #        ##',\n",
       " '  #      #        # #   #      # ##   ##  ##   ## #              #  # #         # O  ## #       ',\n",
       " '         # #  #                #   #   #            #  #      ##O##  OO # #OO    OOO      #     ',\n",
       " ' # #      #  #             # #   ##      #              #   #    O  O  O##O #O  O#  ##    #  #  ',\n",
       " '   #    # ####         #         ##  #  #  # #          #        ##  # #      #   ## # #  ###   ',\n",
       " ' #   #  #    #                   # #  # #  #   #  ##  # #  # #   #   ##      #      #     # ##  ',\n",
       " '       #  #   #   #  #      O      ##  # #   # ##      #       #   ##   #  # # #  #        #   #',\n",
       " '       # #O #  OO#   OO   #OOO     #        #    ##  ##         #  #  #  ##  #   #  ##         #',\n",
       " '##         O #O #O  O #O  O    #      # # # #        ##           # #    # #                   #',\n",
       " '   #        ##   # #         #     #   #  # #       #    # #       #  #         #               ',\n",
       " '#     #     ###   # ## #  #  #          # # #      ##   #        # # # #        #   #           ',\n",
       " '    #       # #  # # #   ##   ###       # #     #      ##      #   ##  ##     #  #           ###']"
      ]
     },
     "execution_count": 21,
     "metadata": {},
     "output_type": "execute_result"
    }
   ],
   "source": [
    "temp"
   ]
  },
  {
   "cell_type": "code",
   "execution_count": null,
   "metadata": {},
   "outputs": [],
   "source": []
  }
 ],
 "metadata": {
  "kernelspec": {
   "display_name": "work_env",
   "language": "python",
   "name": "work_env"
  },
  "language_info": {
   "codemirror_mode": {
    "name": "ipython",
    "version": 3
   },
   "file_extension": ".py",
   "mimetype": "text/x-python",
   "name": "python",
   "nbconvert_exporter": "python",
   "pygments_lexer": "ipython3",
   "version": "3.9.1rc1"
  }
 },
 "nbformat": 4,
 "nbformat_minor": 4
}
