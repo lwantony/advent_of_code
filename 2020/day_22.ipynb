{
 "cells": [
  {
   "cell_type": "code",
   "execution_count": 1,
   "metadata": {},
   "outputs": [],
   "source": [
    "from IPython.core.interactiveshell import InteractiveShell\n",
    "InteractiveShell.ast_node_interactivity = \"all\""
   ]
  },
  {
   "cell_type": "code",
   "execution_count": 2,
   "metadata": {},
   "outputs": [],
   "source": [
    "import re\n",
    "from collections import deque"
   ]
  },
  {
   "cell_type": "code",
   "execution_count": 3,
   "metadata": {},
   "outputs": [],
   "source": [
    "player_decks = {}\n",
    "\n",
    "with open('data/input_day22.txt', 'r') as f :\n",
    "    for line in f.readlines():\n",
    "        line = line.strip().replace(':','')\n",
    "        if 'Player' in line:\n",
    "            player=line\n",
    "            player_decks[player] = deque([])\n",
    "        elif len(line) < 1: \n",
    "            continue\n",
    "        else:\n",
    "            player_decks[player].append(int(line))\n",
    "        \n",
    "        "
   ]
  },
  {
   "cell_type": "code",
   "execution_count": 9,
   "metadata": {},
   "outputs": [],
   "source": [
    "while (len(player_decks['Player 1'])>0) and (len(player_decks['Player 2'])>0):\n",
    "    p1 = player_decks['Player 1'].popleft()\n",
    "    p2 = player_decks['Player 2'].popleft()\n",
    "    \n",
    "    if p1 > p2:\n",
    "        player_decks['Player 1'].extend([p1,p2])\n",
    "    if p2 > p1:\n",
    "        player_decks['Player 2'].extend([p2,p1])\n",
    "        "
   ]
  },
  {
   "cell_type": "code",
   "execution_count": 22,
   "metadata": {},
   "outputs": [],
   "source": [
    "def score_deck(deck):\n",
    "    score_deck = deck.copy()\n",
    "    multiplier=1\n",
    "    score=0\n",
    "    while len(score_deck) > 0:\n",
    "        card = score_deck.pop()\n",
    "        score += card*multiplier\n",
    "        multiplier +=1\n",
    "    return score"
   ]
  },
  {
   "cell_type": "code",
   "execution_count": 23,
   "metadata": {},
   "outputs": [
    {
     "data": {
      "text/plain": [
       "6341"
      ]
     },
     "execution_count": 23,
     "metadata": {},
     "output_type": "execute_result"
    }
   ],
   "source": [
    "score_deck(player_decks['Player 1'])"
   ]
  },
  {
   "cell_type": "markdown",
   "metadata": {},
   "source": [
    "# Recursive War"
   ]
  },
  {
   "cell_type": "code",
   "execution_count": 24,
   "metadata": {},
   "outputs": [],
   "source": [
    "from copy import deepcopy"
   ]
  },
  {
   "cell_type": "code",
   "execution_count": 29,
   "metadata": {},
   "outputs": [],
   "source": [
    "def create_string(deck_dictionary):\n",
    "    string = 'p1_'+'_'.join([str(i) for i in deck_dictionary['Player 1']])\n",
    "    string +='_p2_'+'_'.join([str(i) for i in deck_dictionary['Player 2']])\n",
    "    return string\n",
    "\n",
    "def play_war_recurse(deck_dictionary ):\n",
    "    round_strings=[]\n",
    "    winner=None\n",
    "    \n",
    "    while (winner is None):\n",
    "        deck_str = create_string(deck_dictionary)\n",
    "        if  deck_str in round_strings:\n",
    "            winner = 'Player 1'\n",
    "            break\n",
    "        round_strings.append(deck_str)\n",
    "        \n",
    "        p1 = deck_dictionary['Player 1'].popleft()\n",
    "        p2 = deck_dictionary['Player 2'].popleft()\n",
    "        \n",
    "        if (   (p1 > len(deck_dictionary['Player 1']))\n",
    "            or (p2 > len(deck_dictionary['Player 2'])) ):\n",
    "            \n",
    "            if p1 > p2:\n",
    "                deck_dictionary['Player 1'].extend([p1,p2])\n",
    "            if p2 > p1:\n",
    "                deck_dictionary['Player 2'].extend([p2,p1])\n",
    "            \n",
    "            if len(deck_dictionary['Player 2'])==0:\n",
    "                winner ='Player 1'\n",
    "                break\n",
    "            if len(deck_dictionary['Player 1'])==0:\n",
    "                winner ='Player 2'\n",
    "                break\n",
    "        else:\n",
    "            sub_game = {\n",
    "                'Player 1' : deque(list(deck_dictionary['Player 1'])[:p1]),\n",
    "                'Player 2' : deque(list(deck_dictionary['Player 2'])[:p2]),\n",
    "            }\n",
    "            round_winner, _ = play_war_recurse(sub_game)\n",
    "            \n",
    "            if round_winner == 'Player 1':\n",
    "                deck_dictionary['Player 1'].extend([p1,p2])\n",
    "            else:\n",
    "                deck_dictionary['Player 2'].extend([p2,p1])\n",
    "            \n",
    "            if len(deck_dictionary['Player 2'])==0:\n",
    "                winner ='Player 1'\n",
    "                break\n",
    "            if len(deck_dictionary['Player 1'])==0:\n",
    "                winner ='Player 2'\n",
    "                break\n",
    "    return winner, deck_dictionary[winner]\n",
    "    "
   ]
  },
  {
   "cell_type": "code",
   "execution_count": 30,
   "metadata": {},
   "outputs": [],
   "source": [
    "test_deck = {\n",
    "    'Player 1': deque([9,2,6,3,1]),\n",
    "    'Player 2': deque([5,8,4,7,10]),\n",
    "}\n",
    "\n",
    "\n",
    "#test_deck = {\n",
    "#    'Player 1': deque([43,19]),\n",
    "#    'Player 2': deque([2,29,14]),\n",
    "#}"
   ]
  },
  {
   "cell_type": "code",
   "execution_count": 31,
   "metadata": {},
   "outputs": [
    {
     "data": {
      "text/plain": [
       "291"
      ]
     },
     "execution_count": 31,
     "metadata": {},
     "output_type": "execute_result"
    }
   ],
   "source": [
    "winner, deck = play_war_recurse(deepcopy(test_deck))\n",
    "score_deck(deck)"
   ]
  },
  {
   "cell_type": "code",
   "execution_count": 32,
   "metadata": {},
   "outputs": [
    {
     "name": "stdout",
     "output_type": "stream",
     "text": [
      "CPU times: user 12 s, sys: 26.3 ms, total: 12 s\n",
      "Wall time: 12 s\n"
     ]
    },
    {
     "data": {
      "text/plain": [
       "29177"
      ]
     },
     "execution_count": 32,
     "metadata": {},
     "output_type": "execute_result"
    }
   ],
   "source": [
    "%%time\n",
    "winner, deck = play_war_recurse(deepcopy(player_decks))\n",
    "score_deck(deck)"
   ]
  },
  {
   "cell_type": "code",
   "execution_count": null,
   "metadata": {},
   "outputs": [],
   "source": []
  }
 ],
 "metadata": {
  "kernelspec": {
   "display_name": "work_env",
   "language": "python",
   "name": "work_env"
  },
  "language_info": {
   "codemirror_mode": {
    "name": "ipython",
    "version": 3
   },
   "file_extension": ".py",
   "mimetype": "text/x-python",
   "name": "python",
   "nbconvert_exporter": "python",
   "pygments_lexer": "ipython3",
   "version": "3.9.1rc1"
  }
 },
 "nbformat": 4,
 "nbformat_minor": 4
}
