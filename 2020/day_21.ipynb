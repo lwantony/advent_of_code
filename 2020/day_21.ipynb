{
 "cells": [
  {
   "cell_type": "code",
   "execution_count": 2,
   "metadata": {},
   "outputs": [],
   "source": [
    "from IPython.core.interactiveshell import InteractiveShell\n",
    "InteractiveShell.ast_node_interactivity = \"all\""
   ]
  },
  {
   "cell_type": "code",
   "execution_count": 1,
   "metadata": {},
   "outputs": [],
   "source": [
    "import re"
   ]
  },
  {
   "cell_type": "code",
   "execution_count": 3,
   "metadata": {},
   "outputs": [],
   "source": [
    "test_string = 'tbhvhts svgvj tzrr ntf ztxcfk cbtj dqm fqxrnb vffrd bng gzdd hsksz mbqjp hqgqj dslsr ltnn nphgmvq zztxx fmpgn gngsj khcpbp pvj rgzxvmm spl qzbdrdld nvxmt kbsvnrg gqq lszzpd blsbfm jmdvns sfkjp znpdll hmf mrvfl qnhmtl fxzrtc jzdxnfz tpnnkc lsqdbr qxhgg rrkxhrk vhxv lrjd plhdqp glqp rnnbl xchh kkckj ddzfclp hrshrqc ldzm qzzzf zvcj zqgvjdzl jqgq jdgq pjgfv szjksv kdnkc xlhpmb cjlsr rznqft sp ltqp gzmzct bnnbt jqp zglx (contains sesame, eggs)'"
   ]
  },
  {
   "cell_type": "code",
   "execution_count": 11,
   "metadata": {},
   "outputs": [],
   "source": [
    "def get_ingredients_allergens(string):\n",
    "    string = string.strip()\n",
    "    if '(' in string:\n",
    "        ingredients, allergens = string.split('(')\n",
    "        allergens = allergens.replace('contains','').replace(')','')\n",
    "        ingredients = ingredients.strip().split(' ')\n",
    "        allergens = [ x.replace(' ','') for x in allergens.split(',')]\n",
    "        return ingredients, allergens\n",
    "    else:\n",
    "        ingredients = string.split(' ')\n",
    "        return ingredients, []"
   ]
  },
  {
   "cell_type": "code",
   "execution_count": 12,
   "metadata": {},
   "outputs": [
    {
     "data": {
      "text/plain": [
       "(['dkfd', 'dkfj'], [])"
      ]
     },
     "execution_count": 12,
     "metadata": {},
     "output_type": "execute_result"
    }
   ],
   "source": [
    "get_ingredients_allergens('dkfd dkfj')"
   ]
  },
  {
   "cell_type": "code",
   "execution_count": 18,
   "metadata": {},
   "outputs": [],
   "source": [
    "food_list=[]\n",
    "with open('data/input_day21.txt', 'r') as f :\n",
    "    for line in f.readlines():\n",
    "        ingred, aller = get_ingredients_allergens(line)\n",
    "        food_list.append([ingred, aller])"
   ]
  },
  {
   "cell_type": "code",
   "execution_count": 21,
   "metadata": {},
   "outputs": [],
   "source": [
    "all_ingredients = set([])\n",
    "allergen_list = {}\n",
    "for ingred, allergens in food_list:\n",
    "    all_ingredients=all_ingredients.union(ingred)\n",
    "    for alg in allergens:\n",
    "    \n",
    "        try:\n",
    "            allergen_list[alg] = set(allergen_list[alg]).intersection(ingred)\n",
    "        except:\n",
    "            allergen_list[alg] = set(ingred)"
   ]
  },
  {
   "cell_type": "code",
   "execution_count": 26,
   "metadata": {},
   "outputs": [],
   "source": [
    "not_allergen = all_ingredients.copy()\n",
    "\n",
    "for ingreds in allergen_list.values():\n",
    "    not_allergen = not_allergen - ingreds"
   ]
  },
  {
   "cell_type": "code",
   "execution_count": 30,
   "metadata": {},
   "outputs": [],
   "source": [
    "count_non_allergen=0\n",
    "for dish in food_list:\n",
    "    count_non_allergen += len(not_allergen.intersection(dish[0]))"
   ]
  },
  {
   "cell_type": "code",
   "execution_count": 31,
   "metadata": {},
   "outputs": [
    {
     "data": {
      "text/plain": [
       "2324"
      ]
     },
     "execution_count": 31,
     "metadata": {},
     "output_type": "execute_result"
    }
   ],
   "source": [
    "count_non_allergen"
   ]
  },
  {
   "cell_type": "code",
   "execution_count": 34,
   "metadata": {},
   "outputs": [
    {
     "data": {
      "text/plain": [
       "{'sesame': {'qzzzf', 'tpnnkc'},\n",
       " 'eggs': {'hqgqj', 'sp', 'tpnnkc'},\n",
       " 'fish': {'hsksz', 'qzzzf', 'sp', 'spl'},\n",
       " 'shellfish': {'fmpgn', 'hsksz'},\n",
       " 'peanuts': {'hsksz', 'spl'},\n",
       " 'dairy': {'bxjvzk', 'hsksz'},\n",
       " 'nuts': {'spl'},\n",
       " 'soy': {'spl', 'tpnnkc'}}"
      ]
     },
     "execution_count": 34,
     "metadata": {},
     "output_type": "execute_result"
    }
   ],
   "source": [
    "allergen_list"
   ]
  },
  {
   "cell_type": "code",
   "execution_count": 44,
   "metadata": {},
   "outputs": [],
   "source": [
    "final_allergen={}\n",
    "while len(final_allergen) < len(allergen_list):\n",
    "    for al, ingred in allergen_list.items():\n",
    "        if al not in final_allergen.keys():\n",
    "            remaining = ingred - set(final_allergen.values())\n",
    "            if len(remaining) == 1:\n",
    "                final_allergen[al] = list(remaining)[0]"
   ]
  },
  {
   "cell_type": "code",
   "execution_count": 53,
   "metadata": {},
   "outputs": [
    {
     "data": {
      "text/plain": [
       "'bxjvzk,hqgqj,sp,spl,hsksz,qzzzf,fmpgn,tpnnkc'"
      ]
     },
     "execution_count": 53,
     "metadata": {},
     "output_type": "execute_result"
    }
   ],
   "source": [
    "','.join([ i for a,i in sorted(final_allergen.items(), key= lambda item : item[0])])"
   ]
  },
  {
   "cell_type": "code",
   "execution_count": 28,
   "metadata": {},
   "outputs": [
    {
     "data": {
      "text/plain": [
       "192"
      ]
     },
     "execution_count": 28,
     "metadata": {},
     "output_type": "execute_result"
    }
   ],
   "source": [
    "len(all_ingredients) - len(allergen_list.keys())"
   ]
  },
  {
   "cell_type": "code",
   "execution_count": 29,
   "metadata": {},
   "outputs": [
    {
     "data": {
      "text/plain": [
       "200"
      ]
     },
     "execution_count": 29,
     "metadata": {},
     "output_type": "execute_result"
    }
   ],
   "source": [
    "len(all_ingredients)"
   ]
  },
  {
   "cell_type": "code",
   "execution_count": null,
   "metadata": {},
   "outputs": [],
   "source": []
  }
 ],
 "metadata": {
  "kernelspec": {
   "display_name": "work_env",
   "language": "python",
   "name": "work_env"
  },
  "language_info": {
   "codemirror_mode": {
    "name": "ipython",
    "version": 3
   },
   "file_extension": ".py",
   "mimetype": "text/x-python",
   "name": "python",
   "nbconvert_exporter": "python",
   "pygments_lexer": "ipython3",
   "version": "3.9.1rc1"
  }
 },
 "nbformat": 4,
 "nbformat_minor": 4
}
