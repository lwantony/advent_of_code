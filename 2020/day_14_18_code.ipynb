{
 "cells": [
  {
   "cell_type": "code",
   "execution_count": 1,
   "metadata": {},
   "outputs": [],
   "source": [
    "import numpy as np\n",
    "import re"
   ]
  },
  {
   "cell_type": "code",
   "execution_count": 2,
   "metadata": {},
   "outputs": [],
   "source": [
    "mask = 'X'*36"
   ]
  },
  {
   "cell_type": "code",
   "execution_count": 26,
   "metadata": {},
   "outputs": [],
   "source": [
    "def convert_num_to_binary(num):\n",
    "    return f'{int(bin(num)[2:]):036d}'\n",
    "\n",
    "def apply_mask(binary, mask):\n",
    "    num = list(binary)\n",
    "    mask_list = list(mask)\n",
    "    new_binary = ''.join([num[i] \n",
    "                          if mask_list[i] == 'X'\n",
    "                          else mask_list[i] \n",
    "                          for i in range(36)\n",
    "                         ])\n",
    "    return int(new_binary, 2)\n"
   ]
  },
  {
   "cell_type": "code",
   "execution_count": 31,
   "metadata": {},
   "outputs": [],
   "source": [
    "mem_address = {}\n",
    "\n",
    "with open('input_day14.txt', 'r') as f:\n",
    "    for line in f.readlines():\n",
    "        line=line.strip()\n",
    "        \n",
    "        if line.startswith('mask'):\n",
    "            mask = line.split(' ')[2]\n",
    "        else:\n",
    "            m = re.search('mem\\[(\\d+)\\] = (\\d+)', line)\n",
    "            mem = m.groups()[0]\n",
    "            binary = convert_num_to_binary(int(m.groups()[1]))\n",
    "            mem_address[mem] = apply_mask(binary, mask)\n",
    "            "
   ]
  },
  {
   "cell_type": "code",
   "execution_count": 33,
   "metadata": {},
   "outputs": [
    {
     "data": {
      "text/plain": [
       "10035335144067"
      ]
     },
     "execution_count": 33,
     "metadata": {},
     "output_type": "execute_result"
    }
   ],
   "source": [
    "sum(mem_address.values())"
   ]
  },
  {
   "cell_type": "code",
   "execution_count": 62,
   "metadata": {},
   "outputs": [],
   "source": [
    "import itertools\n",
    "\n",
    "def get_all_combos(a_list):\n",
    "    all_combinations = []\n",
    "    for r in range(len(a_list) + 1):\n",
    "    \n",
    "        combinations_object = itertools.combinations(a_list, r)\n",
    "        combinations_list = list(combinations_object)\n",
    "        all_combinations += combinations_list\n",
    "    return all_combinations\n",
    "\n",
    "def apply_mask_mem(mem_num, mask):\n",
    "    mask_list = list(mask)\n",
    "    locs_xs = [ i for i,val in enumerate(mask_list) if val == 'X']\n",
    "    \n",
    "    mem_bin = convert_num_to_binary(int(mem_num))\n",
    "    \n",
    "    mem_bin = ''.join([ '1' if mask_list[i] == '1' else val for i,val in enumerate(list(mem_bin)) ])\n",
    "   \n",
    "    locations=[]\n",
    "    for combo in get_all_combos(locs_xs):\n",
    "        new_bin = [ val \n",
    "                    if i not in locs_xs\n",
    "                    else  '0'  if i in combo\n",
    "                    else '1'\n",
    "                    for i,val in enumerate(mem_bin)\n",
    "                  ]\n",
    "       \n",
    "        new_bin = ''.join(new_bin)\n",
    "        locations.append(int(new_bin,2))\n",
    "    return locations\n",
    "        \n",
    "    "
   ]
  },
  {
   "cell_type": "code",
   "execution_count": 66,
   "metadata": {},
   "outputs": [],
   "source": [
    "mem_address_pt2 = {}\n",
    "\n",
    "with open('input_day14.txt', 'r') as f:\n",
    "    for line in f.readlines():\n",
    "        line=line.strip()\n",
    "        \n",
    "        if line.startswith('mask'):\n",
    "            mask = line.split(' ')[2]\n",
    "        else:\n",
    "            m = re.search('mem\\[(\\d+)\\] = (\\d+)', line)\n",
    "            mem = m.groups()[0]\n",
    "            num = m.groups()[1]\n",
    "            for locs in apply_mask_mem(mem, mask):\n",
    "                mem_address_pt2[str(locs)] = int(num)\n",
    "            "
   ]
  },
  {
   "cell_type": "code",
   "execution_count": 67,
   "metadata": {},
   "outputs": [
    {
     "data": {
      "text/plain": [
       "3817372618036"
      ]
     },
     "execution_count": 67,
     "metadata": {},
     "output_type": "execute_result"
    }
   ],
   "source": [
    "sum(mem_address_pt2.values())"
   ]
  },
  {
   "cell_type": "markdown",
   "metadata": {},
   "source": [
    "# Day 15"
   ]
  },
  {
   "cell_type": "code",
   "execution_count": 72,
   "metadata": {},
   "outputs": [],
   "source": [
    "start_numbers = [0,13,16,17,1,10,6]\n",
    "#start_numbers = [3,1,2]"
   ]
  },
  {
   "cell_type": "code",
   "execution_count": 77,
   "metadata": {},
   "outputs": [],
   "source": [
    "i=len(start_numbers)+1\n",
    "last_val = str(start_numbers[-1])\n",
    "\n",
    "number_dict = {str(val):i+1 for i,val in enumerate(start_numbers)}\n",
    "\n",
    "while i < 30000001:\n",
    "    if last_val in number_dict.keys():\n",
    "        old_iter = number_dict[str(last_val)]\n",
    "        number_dict[str(last_val)] = i - 1\n",
    "        last_val = str(i - old_iter-1)\n",
    "    else:\n",
    "        number_dict[str(last_val)] = i-1\n",
    "        last_val = '0'\n",
    "    i+=1\n",
    "    \n",
    "        \n"
   ]
  },
  {
   "cell_type": "code",
   "execution_count": 78,
   "metadata": {},
   "outputs": [
    {
     "data": {
      "text/plain": [
       "'31916'"
      ]
     },
     "execution_count": 78,
     "metadata": {},
     "output_type": "execute_result"
    }
   ],
   "source": [
    "last_val"
   ]
  },
  {
   "cell_type": "code",
   "execution_count": 76,
   "metadata": {},
   "outputs": [
    {
     "data": {
      "text/plain": [
       "375"
      ]
     },
     "execution_count": 76,
     "metadata": {},
     "output_type": "execute_result"
    }
   ],
   "source": [
    "len(number_dict)"
   ]
  },
  {
   "cell_type": "markdown",
   "metadata": {},
   "source": [
    "# Day 16"
   ]
  },
  {
   "cell_type": "code",
   "execution_count": 26,
   "metadata": {},
   "outputs": [],
   "source": [
    "import re"
   ]
  },
  {
   "cell_type": "code",
   "execution_count": 7,
   "metadata": {},
   "outputs": [],
   "source": [
    "rules = {}\n",
    "with open('input_day16.txt', 'r') as f:\n",
    "    for line in f.readlines():\n",
    "        line=line.strip()\n",
    "        if len(line)==0:\n",
    "            break\n",
    "        field_str = line.split(':')[0]\n",
    "        val_str = line.split(':')[1].split(' or ')\n",
    "        val_str = [ [ int(j) for j in i.split('-')] for i in val_str]\n",
    "        \n",
    "        rules[field_str] = val_str\n",
    "        \n",
    "        "
   ]
  },
  {
   "cell_type": "code",
   "execution_count": 16,
   "metadata": {},
   "outputs": [],
   "source": [
    "def check_rules(value, rules):\n",
    "    for field, limits in rules.items():\n",
    "        for limit in limits:\n",
    "            if  limit[0] <= value <= limit[1]:\n",
    "                return True\n",
    "    return False \n",
    "            "
   ]
  },
  {
   "cell_type": "code",
   "execution_count": 24,
   "metadata": {},
   "outputs": [],
   "source": [
    "bad_vals=[]\n",
    "with open('input_day16.txt', 'r') as f:\n",
    "    read_ind = False\n",
    "    for line in f.readlines():\n",
    "        if line.startswith('nearby tickets'):\n",
    "            read_ind =True\n",
    "            continue\n",
    "            \n",
    "        if read_ind:\n",
    "            values =line.strip().split(',')\n",
    "            \n",
    "            cur_vals = [ int(i) for i in values if not check_rules(int(i), rules)]\n",
    "            bad_vals += cur_vals\n",
    "        "
   ]
  },
  {
   "cell_type": "code",
   "execution_count": 25,
   "metadata": {},
   "outputs": [
    {
     "data": {
      "text/plain": [
       "27802"
      ]
     },
     "execution_count": 25,
     "metadata": {},
     "output_type": "execute_result"
    }
   ],
   "source": [
    "sum(bad_vals)"
   ]
  },
  {
   "cell_type": "code",
   "execution_count": 27,
   "metadata": {},
   "outputs": [],
   "source": [
    "tickets = []\n",
    "\n",
    "with open('input_day16.txt', 'r') as f:\n",
    "    for line in f.readlines():\n",
    "        m = re.search(',', line)\n",
    "        if m is None:\n",
    "            continue\n",
    "            \n",
    "        values =[ int(i) for i in line.strip().split(',') ]\n",
    "        cur_vals = [ i for i in values if not check_rules(i, rules)]\n",
    "        if len(cur_vals)  == 0:\n",
    "            tickets.append(values)\n",
    "        "
   ]
  },
  {
   "cell_type": "code",
   "execution_count": 30,
   "metadata": {},
   "outputs": [],
   "source": [
    "def get_fields(value, rules):\n",
    "    applicable_fields = []\n",
    "    for field, limits in rules.items():\n",
    "        for limit in limits:\n",
    "            if  limit[0] <= value <= limit[1]:\n",
    "                applicable_fields.append(field)\n",
    "                \n",
    "    return set(applicable_fields)\n",
    "            "
   ]
  },
  {
   "cell_type": "code",
   "execution_count": 31,
   "metadata": {},
   "outputs": [],
   "source": [
    "possible_fields = [ get_fields(i, rules) for i in tickets[0]]"
   ]
  },
  {
   "cell_type": "code",
   "execution_count": 34,
   "metadata": {},
   "outputs": [],
   "source": [
    "for ticket in tickets[1:]:\n",
    "    possible_fields = [possible_fields[i].intersection(get_fields(value, rules))\n",
    "                       for i,value in enumerate(ticket)\n",
    "                      ]"
   ]
  },
  {
   "cell_type": "code",
   "execution_count": 45,
   "metadata": {},
   "outputs": [
    {
     "data": {
      "text/plain": [
       "20"
      ]
     },
     "execution_count": 45,
     "metadata": {},
     "output_type": "execute_result"
    }
   ],
   "source": [
    "len(possible_fields)"
   ]
  },
  {
   "cell_type": "code",
   "execution_count": 84,
   "metadata": {},
   "outputs": [],
   "source": [
    "known_locs = {}\n",
    "cnt = 0\n",
    "while len(known_locs) < 20 and cnt < 30:\n",
    "    \n",
    "    for field in set(rules.keys()) - set(known_locs.keys()):\n",
    "        truth_array = [ field in (fset - set(known_locs.keys())) for fset in possible_fields]\n",
    "        \n",
    "        if sum(truth_array) == 1:\n",
    "            known_locs[field] = truth_array.index(True)\n",
    "        \n",
    "    for i,(features, poss_len) in enumerate([ (fset - set(known_locs.keys()), \n",
    "                                               len(fset - set(known_locs.keys())) ) for fset in possible_fields]):\n",
    "        if poss_len == 1:\n",
    "            if list(features)[0] not in known_locs.keys():\n",
    "                known_locs[list(features)[0]]= i\n",
    "    cnt+=1\n",
    "    "
   ]
  },
  {
   "cell_type": "code",
   "execution_count": 88,
   "metadata": {},
   "outputs": [
    {
     "data": {
      "text/plain": [
       "{'row': 3,\n",
       " 'arrival station': 12,\n",
       " 'train': 4,\n",
       " 'duration': 15,\n",
       " 'route': 7,\n",
       " 'wagon': 0,\n",
       " 'zone': 2,\n",
       " 'class': 19,\n",
       " 'arrival track': 18,\n",
       " 'arrival platform': 10,\n",
       " 'departure time': 8,\n",
       " 'departure date': 17,\n",
       " 'departure platform': 14,\n",
       " 'departure track': 11,\n",
       " 'departure location': 1,\n",
       " 'departure station': 6,\n",
       " 'price': 9,\n",
       " 'seat': 16,\n",
       " 'type': 5,\n",
       " 'arrival location': 3}"
      ]
     },
     "execution_count": 88,
     "metadata": {},
     "output_type": "execute_result"
    }
   ],
   "source": [
    "known_locs"
   ]
  },
  {
   "cell_type": "code",
   "execution_count": 89,
   "metadata": {},
   "outputs": [],
   "source": [
    "my_ticket = tickets[0]"
   ]
  },
  {
   "cell_type": "code",
   "execution_count": 92,
   "metadata": {},
   "outputs": [],
   "source": [
    "multiple_val = 1\n",
    "for i in [ my_ticket[known_locs[field]] for field in known_locs.keys() if field.startswith('departure')]:\n",
    "    multiple_val *= i"
   ]
  },
  {
   "cell_type": "code",
   "execution_count": 93,
   "metadata": {},
   "outputs": [
    {
     "data": {
      "text/plain": [
       "279139880759"
      ]
     },
     "execution_count": 93,
     "metadata": {},
     "output_type": "execute_result"
    }
   ],
   "source": [
    "multiple_val"
   ]
  },
  {
   "cell_type": "markdown",
   "metadata": {},
   "source": [
    "# Day 17"
   ]
  },
  {
   "cell_type": "code",
   "execution_count": 56,
   "metadata": {},
   "outputs": [],
   "source": [
    "import numpy as np"
   ]
  },
  {
   "cell_type": "code",
   "execution_count": 57,
   "metadata": {},
   "outputs": [],
   "source": [
    "def check_neighbors(loc, grid):\n",
    "    count_active = 0\n",
    "    status = grid[loc]\n",
    "    for i in range(-1,2):\n",
    "        for j in range(-1,2):\n",
    "            for k in range(-1,2):\n",
    "                if i==j==k==0 :\n",
    "                    continue\n",
    "                count_active += grid[loc[0]+i, loc[1]+j, loc[2]+k ]\n",
    "    if status ==1:\n",
    "        if 1 < count_active < 4:\n",
    "            return 1\n",
    "        else:\n",
    "            return 0\n",
    "    if status == 0:\n",
    "        if count_active == 3:\n",
    "            return 1\n",
    "        else:\n",
    "            return 0"
   ]
  },
  {
   "cell_type": "code",
   "execution_count": 58,
   "metadata": {},
   "outputs": [],
   "source": [
    "init_grid = np.zeros((30,30,20))"
   ]
  },
  {
   "cell_type": "code",
   "execution_count": 59,
   "metadata": {},
   "outputs": [],
   "source": [
    "with open('input_day17.txt', 'r') as f:\n",
    "    for i,line in enumerate(f.readlines()):\n",
    "        line = line.strip()\n",
    "        elements = list(line)\n",
    "        for j,sym in  enumerate(elements):\n",
    "            if sym=='#':\n",
    "                init_grid[10+i, 10+j, 10] = 1\n"
   ]
  },
  {
   "cell_type": "code",
   "execution_count": 60,
   "metadata": {},
   "outputs": [
    {
     "data": {
      "text/plain": [
       "array([[0., 1., 0., 1., 0., 1., 0., 0., 0.],\n",
       "       [0., 0., 1., 0., 0., 0., 0., 1., 0.],\n",
       "       [1., 1., 1., 1., 1., 0., 0., 1., 0.],\n",
       "       [1., 1., 1., 1., 1., 0., 0., 1., 0.],\n",
       "       [1., 1., 1., 1., 1., 0., 0., 1., 0.],\n",
       "       [1., 1., 1., 0., 0., 1., 0., 1., 0.],\n",
       "       [1., 0., 0., 1., 1., 0., 1., 1., 0.],\n",
       "       [1., 0., 1., 0., 1., 1., 1., 1., 0.],\n",
       "       [0., 0., 0., 0., 0., 0., 0., 0., 0.]])"
      ]
     },
     "execution_count": 60,
     "metadata": {},
     "output_type": "execute_result"
    }
   ],
   "source": [
    "init_grid[10:19,10:19,10]"
   ]
  },
  {
   "cell_type": "code",
   "execution_count": 61,
   "metadata": {},
   "outputs": [],
   "source": [
    "for step in range(6):\n",
    "    next_grid = init_grid.copy()\n",
    "    for x in range(1,29):\n",
    "        for y in range(1,29):\n",
    "            for z in range(1,19):\n",
    "                next_grid[x,y,z] = check_neighbors((x,y,z), init_grid)\n",
    "    init_grid = next_grid.copy()"
   ]
  },
  {
   "cell_type": "code",
   "execution_count": 62,
   "metadata": {},
   "outputs": [
    {
     "data": {
      "text/plain": [
       "375.0"
      ]
     },
     "execution_count": 62,
     "metadata": {},
     "output_type": "execute_result"
    }
   ],
   "source": [
    "init_grid.sum()"
   ]
  },
  {
   "cell_type": "code",
   "execution_count": null,
   "metadata": {},
   "outputs": [],
   "source": []
  },
  {
   "cell_type": "code",
   "execution_count": 64,
   "metadata": {},
   "outputs": [],
   "source": [
    "def check_neighbors_4d(loc, grid):\n",
    "    count_active = 0\n",
    "    status = grid[loc]\n",
    "    for i in range(-1,2):\n",
    "        for j in range(-1,2):\n",
    "            for k in range(-1,2):\n",
    "                for l in range(-1,2):\n",
    "                    if i==j==k==l==0 :\n",
    "                        continue\n",
    "                    count_active += grid[loc[0]+i, loc[1]+j, loc[2]+k ,loc[3]+l ]\n",
    "    if status ==1:\n",
    "        if 1 < count_active < 4:\n",
    "            return 1\n",
    "        else:\n",
    "            return 0\n",
    "    if status == 0:\n",
    "        if count_active == 3:\n",
    "            return 1\n",
    "        else:\n",
    "            return 0"
   ]
  },
  {
   "cell_type": "code",
   "execution_count": 65,
   "metadata": {},
   "outputs": [],
   "source": [
    "init_grid = np.zeros((30,30,16,16))"
   ]
  },
  {
   "cell_type": "code",
   "execution_count": 66,
   "metadata": {},
   "outputs": [],
   "source": [
    "with open('input_day17.txt', 'r') as f:\n",
    "    for i,line in enumerate(f.readlines()):\n",
    "        line = line.strip()\n",
    "        elements = list(line)\n",
    "        for j,sym in  enumerate(elements):\n",
    "            if sym=='#':\n",
    "                init_grid[10+i, 10+j, 8,8] = 1\n"
   ]
  },
  {
   "cell_type": "code",
   "execution_count": 67,
   "metadata": {},
   "outputs": [
    {
     "data": {
      "text/plain": [
       "array([[0., 1., 0., 1., 0., 1., 0., 0., 0.],\n",
       "       [0., 0., 1., 0., 0., 0., 0., 1., 0.],\n",
       "       [1., 1., 1., 1., 1., 0., 0., 1., 0.],\n",
       "       [1., 1., 1., 1., 1., 0., 0., 1., 0.],\n",
       "       [1., 1., 1., 1., 1., 0., 0., 1., 0.],\n",
       "       [1., 1., 1., 0., 0., 1., 0., 1., 0.],\n",
       "       [1., 0., 0., 1., 1., 0., 1., 1., 0.],\n",
       "       [1., 0., 1., 0., 1., 1., 1., 1., 0.],\n",
       "       [0., 0., 0., 0., 0., 0., 0., 0., 0.]])"
      ]
     },
     "execution_count": 67,
     "metadata": {},
     "output_type": "execute_result"
    }
   ],
   "source": [
    "init_grid[10:19,10:19,8,8]"
   ]
  },
  {
   "cell_type": "code",
   "execution_count": 68,
   "metadata": {},
   "outputs": [],
   "source": [
    "for step in range(6):\n",
    "    next_grid = init_grid.copy()\n",
    "    for x in range(1,29):\n",
    "        for y in range(1,29):\n",
    "            for z in range(1,15):\n",
    "                for w in range(1,15):\n",
    "                    next_grid[x,y,z,w] = check_neighbors_4d((x,y,z,w), init_grid)\n",
    "    init_grid = next_grid.copy()"
   ]
  },
  {
   "cell_type": "code",
   "execution_count": 69,
   "metadata": {},
   "outputs": [
    {
     "data": {
      "text/plain": [
       "2192.0"
      ]
     },
     "execution_count": 69,
     "metadata": {},
     "output_type": "execute_result"
    }
   ],
   "source": [
    "init_grid.sum()"
   ]
  },
  {
   "cell_type": "markdown",
   "metadata": {},
   "source": [
    "# Day 18"
   ]
  },
  {
   "cell_type": "code",
   "execution_count": 32,
   "metadata": {},
   "outputs": [],
   "source": [
    "def add_ints(x,y):\n",
    "    return int(x)+int(y)\n",
    "\n",
    "def multi_ints(x,y):\n",
    "    return int(x)*int(y)\n",
    "\n",
    "ops_func = {'+': add_ints,\n",
    "       '*': multi_ints,\n",
    "      }"
   ]
  },
  {
   "cell_type": "code",
   "execution_count": 1,
   "metadata": {},
   "outputs": [],
   "source": [
    "test_line = '((5 + 7 * 2 * 9) + (2 + 3 * 6 + 2 * 5 * 8) * 8 * (8 + 8 * 6) + 5 * (7 * 9)) + 7 * 9 * (6 + 8)'"
   ]
  },
  {
   "cell_type": "code",
   "execution_count": 25,
   "metadata": {},
   "outputs": [],
   "source": [
    "test_line = test_line.replace(' ','')"
   ]
  },
  {
   "cell_type": "code",
   "execution_count": 62,
   "metadata": {},
   "outputs": [],
   "source": [
    "def evaluate_line(line):\n",
    "    line = '(' + line + ')'\n",
    "    ops = []\n",
    "    vals =[]\n",
    "    \n",
    "    i=0\n",
    "    while i <len(line):\n",
    "        if line[i] in ('(', '+', '*'):\n",
    "            ops.append(line[i])\n",
    "        \n",
    "        elif line[i].isdigit() :\n",
    "            j=i\n",
    "            while line[i:j+1].isdigit() :\n",
    "                j+=1\n",
    "            vals.append(int(line[i:j]))\n",
    "            i=j-1\n",
    "        \n",
    "        elif line[i] == ')':\n",
    "            tmp_ops = []\n",
    "            tmp_vals = []\n",
    "            \n",
    "            tmp_ops.append(ops.pop())\n",
    "            tmp_vals.append(vals.pop())\n",
    "            tmp_vals.append(vals.pop())\n",
    "            \n",
    "            old_op = ops.pop()\n",
    "            \n",
    "            while old_op != '(':\n",
    "                tmp_vals.append(vals.pop())\n",
    "                tmp_ops.append(old_op)\n",
    "                old_op = ops.pop()\n",
    "                \n",
    "            while len(tmp_ops) != 0:\n",
    "                val1 = tmp_vals.pop()\n",
    "                val2 = tmp_vals.pop()\n",
    "                oper = tmp_ops.pop()\n",
    "                tmp_vals.append(ops_func[oper](val1,val2))\n",
    "            vals.append(tmp_vals.pop())\n",
    "        i+=1\n",
    "        \n",
    "    if len(ops) > 0:\n",
    "        ops.reverse()\n",
    "        vals.reverse()\n",
    "        \n",
    "        while len(ops) != 0:\n",
    "            val1 = vals.pop()\n",
    "            val2 = vals.pop()\n",
    "            oper = ops.pop()\n",
    "            vals.append(ops_func[oper](val1,val2))\n",
    "    return vals[0]\n",
    "        "
   ]
  },
  {
   "cell_type": "code",
   "execution_count": 63,
   "metadata": {},
   "outputs": [
    {
     "data": {
      "text/plain": [
       "11"
      ]
     },
     "execution_count": 63,
     "metadata": {},
     "output_type": "execute_result"
    }
   ],
   "source": [
    "evaluate_line('8+3')"
   ]
  },
  {
   "cell_type": "code",
   "execution_count": 64,
   "metadata": {},
   "outputs": [
    {
     "data": {
      "text/plain": [
       "9120231036"
      ]
     },
     "execution_count": 64,
     "metadata": {},
     "output_type": "execute_result"
    }
   ],
   "source": [
    "evaluate_line(test_line)"
   ]
  },
  {
   "cell_type": "code",
   "execution_count": 65,
   "metadata": {},
   "outputs": [
    {
     "data": {
      "text/plain": [
       "51"
      ]
     },
     "execution_count": 65,
     "metadata": {},
     "output_type": "execute_result"
    }
   ],
   "source": [
    "evaluate_line('1 + (2 * 3) + (4 * (5 + 6))'.replace(' ',''))"
   ]
  },
  {
   "cell_type": "code",
   "execution_count": 66,
   "metadata": {},
   "outputs": [],
   "source": [
    "total_sum=0\n",
    "with open('input_day18.txt', 'r') as f:\n",
    "    for line in f.readlines():\n",
    "        line = line.strip().replace(' ','')\n",
    "        total_sum += evaluate_line(line)\n"
   ]
  },
  {
   "cell_type": "code",
   "execution_count": 67,
   "metadata": {},
   "outputs": [
    {
     "data": {
      "text/plain": [
       "5783053349377"
      ]
     },
     "execution_count": 67,
     "metadata": {},
     "output_type": "execute_result"
    }
   ],
   "source": [
    "total_sum"
   ]
  },
  {
   "cell_type": "code",
   "execution_count": 71,
   "metadata": {},
   "outputs": [],
   "source": [
    "tmp =['*', '*', '+', '*','+']\n",
    "tmp2 = [1,2,3,4,5,6]"
   ]
  },
  {
   "cell_type": "code",
   "execution_count": 72,
   "metadata": {},
   "outputs": [],
   "source": [
    "idx = tmp.index('+')"
   ]
  },
  {
   "cell_type": "code",
   "execution_count": 74,
   "metadata": {},
   "outputs": [
    {
     "data": {
      "text/plain": [
       "['*', '*', '*', '+']"
      ]
     },
     "execution_count": 74,
     "metadata": {},
     "output_type": "execute_result"
    }
   ],
   "source": [
    "tmp"
   ]
  },
  {
   "cell_type": "code",
   "execution_count": 95,
   "metadata": {},
   "outputs": [],
   "source": [
    "def use_precedance(opers, vals):\n",
    "    \n",
    "    while '+' in opers:\n",
    "        idx = opers.index('+')\n",
    "        val1 = vals[idx]\n",
    "        val2 = vals[idx+1]\n",
    "        \n",
    "        vals[idx] = val1+val2\n",
    "        vals.pop(idx+1)\n",
    "        opers.pop(idx)\n",
    "        \n",
    "    mult=1\n",
    "    for val in vals:\n",
    "        mult*=val\n",
    "    return mult\n",
    "    \n",
    "    \n",
    "def evaluate_line_add(line):\n",
    "    line = '(' + line + ')'\n",
    "    ops = []\n",
    "    vals =[]\n",
    "    \n",
    "    i=0\n",
    "    while i <len(line):\n",
    "        if line[i] in ('(', '+', '*'):\n",
    "            ops.append(line[i])\n",
    "        \n",
    "        elif line[i].isdigit() :\n",
    "            j=i\n",
    "            while line[i:j+1].isdigit() :\n",
    "                j+=1\n",
    "            vals.append(int(line[i:j]))\n",
    "            i=j-1\n",
    "        \n",
    "        elif line[i] == ')':\n",
    "            tmp_ops = []\n",
    "            tmp_vals = []\n",
    "            \n",
    "            tmp_ops.append(ops.pop())\n",
    "            tmp_vals.append(vals.pop())\n",
    "            tmp_vals.append(vals.pop())\n",
    "            \n",
    "            old_op = ops.pop()\n",
    "            \n",
    "            while old_op != '(':\n",
    "                tmp_vals.append(vals.pop())\n",
    "                tmp_ops.append(old_op)\n",
    "                old_op = ops.pop()\n",
    "                \n",
    "            vals.append(use_precedance(tmp_ops, tmp_vals))\n",
    "        i+=1\n",
    "    return use_precedance(ops,vals)\n",
    "        "
   ]
  },
  {
   "cell_type": "code",
   "execution_count": null,
   "metadata": {},
   "outputs": [],
   "source": []
  },
  {
   "cell_type": "code",
   "execution_count": 96,
   "metadata": {},
   "outputs": [
    {
     "data": {
      "text/plain": [
       "231"
      ]
     },
     "execution_count": 96,
     "metadata": {},
     "output_type": "execute_result"
    }
   ],
   "source": [
    "evaluate_line_add('1 + 2 * 3 + 4 * 5 + 6')"
   ]
  },
  {
   "cell_type": "code",
   "execution_count": 97,
   "metadata": {},
   "outputs": [
    {
     "data": {
      "text/plain": [
       "51"
      ]
     },
     "execution_count": 97,
     "metadata": {},
     "output_type": "execute_result"
    }
   ],
   "source": [
    "evaluate_line_add('1 + (2 * 3) + (4 * (5 + 6))')"
   ]
  },
  {
   "cell_type": "code",
   "execution_count": 98,
   "metadata": {},
   "outputs": [
    {
     "data": {
      "text/plain": [
       "669060"
      ]
     },
     "execution_count": 98,
     "metadata": {},
     "output_type": "execute_result"
    }
   ],
   "source": [
    "evaluate_line_add('5 * 9 * (7 * 3 * 3 + 9 * 3 + (8 + 6 * 4))')"
   ]
  },
  {
   "cell_type": "code",
   "execution_count": 99,
   "metadata": {},
   "outputs": [],
   "source": [
    "total_sum=0\n",
    "with open('input_day18.txt', 'r') as f:\n",
    "    for line in f.readlines():\n",
    "        line = line.strip()\n",
    "        total_sum += evaluate_line_add(line)\n"
   ]
  },
  {
   "cell_type": "code",
   "execution_count": 100,
   "metadata": {},
   "outputs": [
    {
     "data": {
      "text/plain": [
       "74821486966872"
      ]
     },
     "execution_count": 100,
     "metadata": {},
     "output_type": "execute_result"
    }
   ],
   "source": [
    "total_sum"
   ]
  },
  {
   "cell_type": "markdown",
   "metadata": {},
   "source": [
    "# Playground"
   ]
  },
  {
   "cell_type": "code",
   "execution_count": 36,
   "metadata": {},
   "outputs": [],
   "source": [
    "test_case =(np.random.rand(100000) < 0.6).astype(int)"
   ]
  },
  {
   "cell_type": "code",
   "execution_count": 37,
   "metadata": {},
   "outputs": [],
   "source": [
    "def find_max_sum_balanced(arr):\n",
    "    total_ones = sum(arr)\n",
    "    total_size = len(arr)\n",
    "    \n",
    "    max_size = min(total_ones, total_size-total_ones)*2\n",
    "    \n",
    "    for test_size in range(max_size,0,-2):\n",
    "        start_idx =0\n",
    "        diff =0\n",
    "        set_ones = sum(arr[start_idx:test_size])\n",
    "        \n",
    "        if set_ones == test_size//2:\n",
    "            return test_size, arr[start_idx:start_idx+test_size]\n",
    "            \n",
    "        while start_idx < total_size-test_size:\n",
    "            diff = np.abs(total_size//2 - set_ones)\n",
    "            end_idx =start_idx+test_size\n",
    "            if end_idx + diff > total_size:\n",
    "                break\n",
    "                \n",
    "            set_ones += sum(arr[end_idx:end_idx+diff]) - sum(arr[start_idx:start_idx+diff])\n",
    "            start_idx += diff\n",
    "            if set_ones == test_size//2:\n",
    "                return test_size, arr[start_idx:start_idx+test_size]\n",
    "            \n",
    "    return 0, []\n",
    "            \n",
    "        \n",
    "        "
   ]
  },
  {
   "cell_type": "code",
   "execution_count": 38,
   "metadata": {},
   "outputs": [
    {
     "ename": "KeyboardInterrupt",
     "evalue": "",
     "output_type": "error",
     "traceback": [
      "\u001b[0;31m---------------------------------------------------------------------------\u001b[0m",
      "\u001b[0;31mKeyboardInterrupt\u001b[0m                         Traceback (most recent call last)",
      "\u001b[0;32m<ipython-input-38-f6d497ebf6cb>\u001b[0m in \u001b[0;36m<module>\u001b[0;34m\u001b[0m\n\u001b[0;32m----> 1\u001b[0;31m \u001b[0mfind_max_sum_balanced\u001b[0m\u001b[0;34m(\u001b[0m\u001b[0mtest_case\u001b[0m\u001b[0;34m)\u001b[0m\u001b[0;34m\u001b[0m\u001b[0;34m\u001b[0m\u001b[0m\n\u001b[0m",
      "\u001b[0;32m<ipython-input-37-18b36d294d8f>\u001b[0m in \u001b[0;36mfind_max_sum_balanced\u001b[0;34m(arr)\u001b[0m\n\u001b[1;32m     19\u001b[0m                 \u001b[0;32mbreak\u001b[0m\u001b[0;34m\u001b[0m\u001b[0;34m\u001b[0m\u001b[0m\n\u001b[1;32m     20\u001b[0m \u001b[0;34m\u001b[0m\u001b[0m\n\u001b[0;32m---> 21\u001b[0;31m             \u001b[0mset_ones\u001b[0m \u001b[0;34m+=\u001b[0m \u001b[0msum\u001b[0m\u001b[0;34m(\u001b[0m\u001b[0marr\u001b[0m\u001b[0;34m[\u001b[0m\u001b[0mend_idx\u001b[0m\u001b[0;34m:\u001b[0m\u001b[0mend_idx\u001b[0m\u001b[0;34m+\u001b[0m\u001b[0mdiff\u001b[0m\u001b[0;34m]\u001b[0m\u001b[0;34m)\u001b[0m \u001b[0;34m-\u001b[0m \u001b[0msum\u001b[0m\u001b[0;34m(\u001b[0m\u001b[0marr\u001b[0m\u001b[0;34m[\u001b[0m\u001b[0mstart_idx\u001b[0m\u001b[0;34m:\u001b[0m\u001b[0mstart_idx\u001b[0m\u001b[0;34m+\u001b[0m\u001b[0mdiff\u001b[0m\u001b[0;34m]\u001b[0m\u001b[0;34m)\u001b[0m\u001b[0;34m\u001b[0m\u001b[0;34m\u001b[0m\u001b[0m\n\u001b[0m\u001b[1;32m     22\u001b[0m             \u001b[0mstart_idx\u001b[0m \u001b[0;34m+=\u001b[0m \u001b[0mdiff\u001b[0m\u001b[0;34m\u001b[0m\u001b[0;34m\u001b[0m\u001b[0m\n\u001b[1;32m     23\u001b[0m             \u001b[0;32mif\u001b[0m \u001b[0mset_ones\u001b[0m \u001b[0;34m==\u001b[0m \u001b[0mtest_size\u001b[0m\u001b[0;34m//\u001b[0m\u001b[0;36m2\u001b[0m\u001b[0;34m:\u001b[0m\u001b[0;34m\u001b[0m\u001b[0;34m\u001b[0m\u001b[0m\n",
      "\u001b[0;31mKeyboardInterrupt\u001b[0m: "
     ]
    }
   ],
   "source": [
    "find_max_sum_balanced(test_case)"
   ]
  },
  {
   "cell_type": "code",
   "execution_count": null,
   "metadata": {},
   "outputs": [],
   "source": []
  }
 ],
 "metadata": {
  "kernelspec": {
   "display_name": "work_env",
   "language": "python",
   "name": "work_env"
  },
  "language_info": {
   "codemirror_mode": {
    "name": "ipython",
    "version": 3
   },
   "file_extension": ".py",
   "mimetype": "text/x-python",
   "name": "python",
   "nbconvert_exporter": "python",
   "pygments_lexer": "ipython3",
   "version": "3.9.1rc1"
  }
 },
 "nbformat": 4,
 "nbformat_minor": 4
}
