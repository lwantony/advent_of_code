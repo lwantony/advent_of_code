{
 "cells": [
  {
   "cell_type": "code",
   "execution_count": 11,
   "metadata": {},
   "outputs": [],
   "source": [
    "import re"
   ]
  },
  {
   "cell_type": "code",
   "execution_count": 23,
   "metadata": {},
   "outputs": [],
   "source": [
    "bag_possibilities={}\n",
    "\n",
    "with open('input_day7.txt', 'r') as f:\n",
    "    for line in f.readlines():\n",
    "        line=line.strip()\n",
    "        \n",
    "        top= line.split('bags contain')[0].strip()\n",
    "        \n",
    "        tmp= [ bag.strip().strip('.') for bag in line.split('bags contain')[1].strip().split(',') ]\n",
    "        contains=[]\n",
    "        for i in tmp:\n",
    "            m=re.search('(\\d+) (.*) bag',i)\n",
    "            if m is not None:\n",
    "                contains.append((int(m.groups()[0]),\n",
    "                                 m.groups()[1],\n",
    "                                ))\n",
    "            \n",
    "        \n",
    "        bag_possibilities[top] = contains"
   ]
  },
  {
   "cell_type": "code",
   "execution_count": 42,
   "metadata": {},
   "outputs": [],
   "source": [
    "def can_contain_gold(contain_list):\n",
    "    if len(contain_list) == 0:\n",
    "        return False\n",
    "    colors = [i[1] for i in contain_list]\n",
    "    \n",
    "    if 'shiny gold' in colors:\n",
    "        return True\n",
    "    else:\n",
    "        return any([ can_contain_gold(bag_possibilities[color]) for color in colors])\n",
    "        "
   ]
  },
  {
   "cell_type": "code",
   "execution_count": 45,
   "metadata": {},
   "outputs": [
    {
     "data": {
      "text/plain": [
       "213"
      ]
     },
     "execution_count": 45,
     "metadata": {},
     "output_type": "execute_result"
    }
   ],
   "source": [
    "sum([ can_contain_gold(contents) for color, contents in bag_possibilities.items()])"
   ]
  },
  {
   "cell_type": "code",
   "execution_count": 48,
   "metadata": {},
   "outputs": [
    {
     "data": {
      "text/plain": [
       "[(2, 'pale blue'), (1, 'clear black'), (2, 'wavy teal'), (3, 'dotted red')]"
      ]
     },
     "execution_count": 48,
     "metadata": {},
     "output_type": "execute_result"
    }
   ],
   "source": [
    "bag_possibilities['shiny gold']"
   ]
  },
  {
   "cell_type": "code",
   "execution_count": 58,
   "metadata": {},
   "outputs": [],
   "source": [
    "def sum_bags_inside(contain_list):\n",
    "    if len(contain_list) == 0:\n",
    "        return 0\n",
    "\n",
    "    return sum( [ num*(1+sum_bags_inside(bag_possibilities[color])) for num,color in contain_list] )"
   ]
  },
  {
   "cell_type": "code",
   "execution_count": 59,
   "metadata": {},
   "outputs": [
    {
     "data": {
      "text/plain": [
       "38426"
      ]
     },
     "execution_count": 59,
     "metadata": {},
     "output_type": "execute_result"
    }
   ],
   "source": [
    "sum_bags_inside(bag_possibilities['shiny gold'])"
   ]
  },
  {
   "cell_type": "markdown",
   "metadata": {},
   "source": [
    "# Day 8"
   ]
  },
  {
   "cell_type": "code",
   "execution_count": 1,
   "metadata": {},
   "outputs": [],
   "source": [
    "instructions=[]\n",
    "\n",
    "with open('input_day8.txt', 'r') as f:\n",
    "    for line in f.readlines():\n",
    "        line=line.strip()\n",
    "        i,j = line.split(' ')\n",
    "        \n",
    "        instructions.append((i, int(j)))\n",
    "        \n"
   ]
  },
  {
   "cell_type": "code",
   "execution_count": 2,
   "metadata": {},
   "outputs": [
    {
     "name": "stdout",
     "output_type": "stream",
     "text": [
      "1671\n"
     ]
    }
   ],
   "source": [
    "idx = 0\n",
    "acc = 0\n",
    "visted_idx = []\n",
    "\n",
    "while idx not in visted_idx:\n",
    "    visted_idx.append(idx)\n",
    "    code, val = instructions[idx]\n",
    "    if code == 'acc':\n",
    "        acc+= val\n",
    "        idx+= 1\n",
    "\n",
    "    elif code == 'jmp':\n",
    "        idx+= val\n",
    "        \n",
    "    else:\n",
    "        idx +=1\n",
    "        \n",
    "    \n",
    "    \n",
    "\n",
    "print(acc)"
   ]
  },
  {
   "cell_type": "code",
   "execution_count": 3,
   "metadata": {},
   "outputs": [
    {
     "data": {
      "text/plain": [
       "217"
      ]
     },
     "execution_count": 3,
     "metadata": {},
     "output_type": "execute_result"
    }
   ],
   "source": [
    "len(visted_idx)"
   ]
  },
  {
   "cell_type": "code",
   "execution_count": 4,
   "metadata": {},
   "outputs": [],
   "source": [
    "possible_changes = [idx for idx in visted_idx if instructions[idx][0] in ['jmp', 'nop']]"
   ]
  },
  {
   "cell_type": "code",
   "execution_count": 5,
   "metadata": {},
   "outputs": [
    {
     "data": {
      "text/plain": [
       "95"
      ]
     },
     "execution_count": 5,
     "metadata": {},
     "output_type": "execute_result"
    }
   ],
   "source": [
    "len(possible_changes)"
   ]
  },
  {
   "cell_type": "code",
   "execution_count": 12,
   "metadata": {},
   "outputs": [
    {
     "name": "stdout",
     "output_type": "stream",
     "text": [
      "value is 892\n"
     ]
    }
   ],
   "source": [
    "change = {'nop': 'jmp',\n",
    "          'jmp': 'nop',\n",
    "         }\n",
    "for test in possible_changes:\n",
    "    tmp_instruct = instructions.copy()\n",
    "    tmp_instruct[test] = (change[tmp_instruct[test][0]],tmp_instruct[test][1])\n",
    "    \n",
    "    acc=0\n",
    "    visited=[]\n",
    "    idx=0\n",
    "    \n",
    "    while idx not in visited and idx < len(instructions):\n",
    "        visited.append(idx)\n",
    "        code, val = tmp_instruct[idx]\n",
    "        if code == 'acc':\n",
    "            acc+= val\n",
    "            idx+= 1\n",
    "    \n",
    "        elif code == 'jmp':\n",
    "            idx+= val\n",
    "            \n",
    "        else:\n",
    "            idx +=1\n",
    "            \n",
    "    if idx == len(instructions):\n",
    "        print(f'value is {acc}')\n",
    "        "
   ]
  },
  {
   "cell_type": "code",
   "execution_count": 15,
   "metadata": {},
   "outputs": [],
   "source": [
    "tmp=[1,2, 0]"
   ]
  },
  {
   "cell_type": "code",
   "execution_count": 18,
   "metadata": {},
   "outputs": [],
   "source": [
    "tmp.sort(reverse=True)"
   ]
  },
  {
   "cell_type": "code",
   "execution_count": 19,
   "metadata": {},
   "outputs": [
    {
     "data": {
      "text/plain": [
       "[2, 1, 0]"
      ]
     },
     "execution_count": 19,
     "metadata": {},
     "output_type": "execute_result"
    }
   ],
   "source": [
    "tmp"
   ]
  },
  {
   "cell_type": "code",
   "execution_count": 22,
   "metadata": {},
   "outputs": [
    {
     "name": "stdout",
     "output_type": "stream",
     "text": [
      "1\n"
     ]
    }
   ],
   "source": [
    "i = 0\n",
    "while tmp[i] > 1:\n",
    "    i+=1\n",
    "print(i)"
   ]
  },
  {
   "cell_type": "markdown",
   "metadata": {},
   "source": [
    "# Day 9"
   ]
  },
  {
   "cell_type": "code",
   "execution_count": 13,
   "metadata": {},
   "outputs": [],
   "source": [
    "numbers=[]\n",
    "\n",
    "with open('input_day9.txt', 'r') as f:\n",
    "    for line in f.readlines():\n",
    "        numbers.append(int(line.strip()))\n",
    "        \n"
   ]
  },
  {
   "cell_type": "code",
   "execution_count": 46,
   "metadata": {},
   "outputs": [],
   "source": [
    "def binary_search(val, int_1, num_list):\n",
    "    if len(num_list) == 1:\n",
    "        return int_1 + num_list[0] ==val\n",
    "    \n",
    "    idx = len(num_list)//2\n",
    "    int_2 = num_list[idx]\n",
    "    int_sum = int_1+int_2\n",
    "    if int_sum == val :\n",
    "        return True\n",
    "    elif int_sum > val:\n",
    "        if idx+1 == len(num_list):\n",
    "            return False\n",
    "        return binary_search(val, int_1, num_list[idx+1:])\n",
    "    else:\n",
    "        return binary_search(val, int_1, num_list[0:idx])\n",
    "\n",
    "def check_if_sum(val, num_list):\n",
    "    tmp_list = num_list.copy()\n",
    "    tmp_list.sort(reverse=True)\n",
    "    i=0\n",
    "    while tmp_list[i] > val: \n",
    "        i+=1\n",
    "    tmp_list = tmp_list[i:]\n",
    "    for i in range(len(tmp_list)-1):\n",
    "        check=binary_search(val,tmp_list[i], tmp_list[i+1:])\n",
    "        if check:\n",
    "            return check\n",
    "    return False\n",
    "    "
   ]
  },
  {
   "cell_type": "code",
   "execution_count": 40,
   "metadata": {},
   "outputs": [
    {
     "data": {
      "text/plain": [
       "True"
      ]
     },
     "execution_count": 40,
     "metadata": {},
     "output_type": "execute_result"
    }
   ],
   "source": [
    "check_if_sum(numbers[25], numbers[0:25])"
   ]
  },
  {
   "cell_type": "code",
   "execution_count": 47,
   "metadata": {},
   "outputs": [
    {
     "name": "stdout",
     "output_type": "stream",
     "text": [
      "20874512\n"
     ]
    }
   ],
   "source": [
    "for num in range(25, len(numbers)):\n",
    "    val = numbers[num]\n",
    "    num_list = numbers[num-25:num]\n",
    "    if not check_if_sum(val, num_list):\n",
    "        print(val)\n",
    "        break"
   ]
  },
  {
   "cell_type": "code",
   "execution_count": 55,
   "metadata": {},
   "outputs": [
    {
     "name": "stdout",
     "output_type": "stream",
     "text": [
      "[925549, 966007, 1012779, 1054812, 1220613, 1147519, 1158705, 1163492, 1204640, 1209427, 1215826, 1227012, 1231799, 1344496, 1349283, 1355682, 2086871]\n",
      "3012420\n"
     ]
    }
   ],
   "source": [
    "needed_sum = 20874512\n",
    "for i in range(0,len(numbers)):\n",
    "    j=i+1\n",
    "    while sum(numbers[i:j]) < needed_sum:\n",
    "        j+=1\n",
    "        \n",
    "    if sum(numbers[i:j]) == needed_sum:\n",
    "        subset=numbers[i:j]\n",
    "        print(subset)\n",
    "        print(subset[0]+subset[-1])\n",
    "        break\n",
    "    "
   ]
  },
  {
   "cell_type": "code",
   "execution_count": 51,
   "metadata": {},
   "outputs": [
    {
     "data": {
      "text/plain": [
       "1000"
      ]
     },
     "execution_count": 51,
     "metadata": {},
     "output_type": "execute_result"
    }
   ],
   "source": [
    "len(numbers)"
   ]
  },
  {
   "cell_type": "markdown",
   "metadata": {},
   "source": [
    "# Day 10"
   ]
  },
  {
   "cell_type": "code",
   "execution_count": 21,
   "metadata": {},
   "outputs": [],
   "source": [
    "import numpy as np"
   ]
  },
  {
   "cell_type": "code",
   "execution_count": 27,
   "metadata": {},
   "outputs": [],
   "source": [
    "jolts=[]\n",
    "\n",
    "with open('input_day10.txt', 'r') as f:\n",
    "    for line in f.readlines():\n",
    "        jolts.append(int(line.strip()))\n",
    "jolts.append(0)        \n"
   ]
  },
  {
   "cell_type": "code",
   "execution_count": 28,
   "metadata": {},
   "outputs": [],
   "source": [
    "jolts.sort()"
   ]
  },
  {
   "cell_type": "code",
   "execution_count": 29,
   "metadata": {},
   "outputs": [],
   "source": [
    "jolts.append(jolts[-1]+3)\n",
    "jolts = np.asarray(jolts)"
   ]
  },
  {
   "cell_type": "code",
   "execution_count": 30,
   "metadata": {},
   "outputs": [],
   "source": [
    "diffs = jolts[1:] - jolts[0:-1]"
   ]
  },
  {
   "cell_type": "code",
   "execution_count": 31,
   "metadata": {},
   "outputs": [
    {
     "data": {
      "text/plain": [
       "2112"
      ]
     },
     "execution_count": 31,
     "metadata": {},
     "output_type": "execute_result"
    }
   ],
   "source": [
    "sum(diffs == 1)*sum(diffs == 3)"
   ]
  },
  {
   "cell_type": "code",
   "execution_count": 32,
   "metadata": {},
   "outputs": [
    {
     "data": {
      "text/plain": [
       "array([1, 1, 1, 3, 1, 1, 1, 3, 1, 1, 3, 1, 1, 3, 1, 1, 1, 3, 1, 1, 1, 1,\n",
       "       3, 1, 1, 3, 1, 1, 1, 3, 1, 1, 1, 3, 3, 1, 3, 1, 1, 1, 1, 3, 1, 1,\n",
       "       1, 3, 3, 3, 1, 1, 1, 1, 3, 1, 1, 1, 3, 3, 1, 1, 1, 1, 3, 1, 3, 3,\n",
       "       3, 1, 1, 3, 3, 1, 1, 1, 1, 3, 1, 1, 3, 1, 1, 1, 1, 3, 1, 3, 3, 3,\n",
       "       1, 1, 1, 1, 3, 1, 1, 1, 1, 3])"
      ]
     },
     "execution_count": 32,
     "metadata": {},
     "output_type": "execute_result"
    }
   ],
   "source": [
    "diffs"
   ]
  },
  {
   "cell_type": "code",
   "execution_count": 81,
   "metadata": {},
   "outputs": [],
   "source": [
    "test_str = str(diffs).replace('3', '|').replace(' ','').replace('\\n','').replace('[','|').replace(']','|').replace('|','||')"
   ]
  },
  {
   "cell_type": "code",
   "execution_count": null,
   "metadata": {},
   "outputs": [],
   "source": [
    "# 11 = 2\n",
    "# 111 = 4\n",
    "# 1111 = 7"
   ]
  },
  {
   "cell_type": "code",
   "execution_count": null,
   "metadata": {},
   "outputs": [],
   "source": []
  },
  {
   "cell_type": "code",
   "execution_count": 44,
   "metadata": {},
   "outputs": [],
   "source": [
    "import re"
   ]
  },
  {
   "cell_type": "code",
   "execution_count": 82,
   "metadata": {},
   "outputs": [
    {
     "data": {
      "text/plain": [
       "'||111||111||11||11||111||1111||11||111||111||||1||1111||111||||||1111||111||||1111||1||||||11||||1111||11||1111||1||||||1111||1111||||'"
      ]
     },
     "execution_count": 82,
     "metadata": {},
     "output_type": "execute_result"
    }
   ],
   "source": [
    "test_str"
   ]
  },
  {
   "cell_type": "code",
   "execution_count": 83,
   "metadata": {},
   "outputs": [],
   "source": [
    "pow_2 = len(re.findall('(\\|11\\|)', test_str))\n",
    "pow_4 = len(re.findall('(\\|111\\|)', test_str))\n",
    "pow_7 = len(re.findall('(\\|1111\\|)', test_str))"
   ]
  },
  {
   "cell_type": "code",
   "execution_count": 84,
   "metadata": {},
   "outputs": [
    {
     "data": {
      "text/plain": [
       "3022415986688"
      ]
     },
     "execution_count": 84,
     "metadata": {},
     "output_type": "execute_result"
    }
   ],
   "source": [
    "np.power(2,pow_2)*np.power(4,pow_4)*np.power(7,pow_7)"
   ]
  },
  {
   "cell_type": "code",
   "execution_count": null,
   "metadata": {},
   "outputs": [],
   "source": []
  },
  {
   "cell_type": "markdown",
   "metadata": {},
   "source": [
    "# Day 11"
   ]
  },
  {
   "cell_type": "code",
   "execution_count": 1,
   "metadata": {},
   "outputs": [],
   "source": [
    "import numpy as np"
   ]
  },
  {
   "cell_type": "code",
   "execution_count": 2,
   "metadata": {},
   "outputs": [],
   "source": [
    "seats=[]\n",
    "\n",
    "with open('input_day11.txt', 'r') as f:\n",
    "    for line in f.readlines():\n",
    "        seats.append(list(line.strip()))\n"
   ]
  },
  {
   "cell_type": "code",
   "execution_count": 3,
   "metadata": {},
   "outputs": [],
   "source": [
    "seats = np.asarray(seats)"
   ]
  },
  {
   "cell_type": "code",
   "execution_count": 4,
   "metadata": {},
   "outputs": [],
   "source": [
    "c = len(seats[0])\n",
    "r = len(seats)"
   ]
  },
  {
   "cell_type": "code",
   "execution_count": 37,
   "metadata": {},
   "outputs": [],
   "source": [
    "def count_unoccupied(curr_map, next_map, pos):\n",
    "    state = curr_map[(pos)]\n",
    "    n_occ = sum([ curr_map[(pos[0]+i,pos[1]+j) ]=='#'  \n",
    "                  for i in [-1, 0, 1]\n",
    "                  for j in  [-1, 0, 1]\n",
    "                  if  (pos[0]+i  >= 0 and pos[0]+i  <  r\n",
    "                       and not (i ==j == 0) and \n",
    "                       pos[1]+j  >= 0 and pos[1]+j  <  c)\n",
    "                ])\n",
    "    \n",
    "    if state == 'L' and n_occ == 0 :\n",
    "            next_map[pos] = \"#\"\n",
    "            \n",
    "    if state == '#' and n_occ >=4:\n",
    "            next_map[pos] = \"L\"\n",
    "            \n",
    "    return next_map\n",
    "        \n",
    "cur_map = seats.copy()\n",
    "diff=1\n",
    "#for i in range(4):\n",
    "iteration = 0\n",
    "while diff != 0 and iteration < 500:\n",
    "    next_map = cur_map.copy()\n",
    "    for row in range(r):\n",
    "        for col in range(c):\n",
    "            if cur_map[(row,col)] == '.':\n",
    "                continue\n",
    "            next_map = count_unoccupied(cur_map, next_map, (row,col))\n",
    "            \n",
    "    diff = (next_map != cur_map).sum()\n",
    "    iteration +=1\n",
    "    cur_map = next_map.copy()\n",
    "            "
   ]
  },
  {
   "cell_type": "code",
   "execution_count": 38,
   "metadata": {},
   "outputs": [
    {
     "data": {
      "text/plain": [
       "86"
      ]
     },
     "execution_count": 38,
     "metadata": {},
     "output_type": "execute_result"
    }
   ],
   "source": [
    "iteration"
   ]
  },
  {
   "cell_type": "code",
   "execution_count": 39,
   "metadata": {},
   "outputs": [
    {
     "name": "stdout",
     "output_type": "stream",
     "text": [
      "0\n"
     ]
    }
   ],
   "source": [
    "print(diff)"
   ]
  },
  {
   "cell_type": "code",
   "execution_count": 40,
   "metadata": {},
   "outputs": [
    {
     "name": "stdout",
     "output_type": "stream",
     "text": [
      "#L#L#L#L.L#L#.#L#L#.#L#L#L##L#L#L#.#L#L#L##L#L#L#.#L#L#.#L#L#L#L#L##L#.#L#L#L#.#L#L#L.L#L#L#L#L#.#\n",
      "LLLLLLLL#LLL#L#LLLL.L.LL.LLL.LLLLL.LLLLLL##LLL.LL.LLLLL.LLLLLLLL.LLLLLLLLL.LLL.LLLLLL#L#LLLLLLLLLL\n",
      "#L#L#L#L#L#LL.LL##L##L#L#L##.#L.L#.#L#L#LL.LLL#L#.#L#L#L#L#.L#L#.#L#L#.#L#L#L#.#L#L#L.LLL#L#L#L#L#\n",
      "LLLLLLLL.LLL#.#L#LL..LLLLLLL.L.#L#.LLLL#L#.#L#LLL.LLLLL.LLLLLLLL.LLLLLL#L#L#L#.LLLLLL.##LLLLLLLLLL\n",
      "#L#L#L.L.##LL.L.LL#.#L#L##LLL#LLLL.#L#.#LL.LLLLLL.L#L#L.L#L#L#L#L#L#L#.LLLLLLL.#L#L#L.LLL#L#L#L#L#\n",
      "LL#LLLL#.LLL#.#L#L#L#LLLLLL#.LL#L#.LLLLLL#.#L#L#L#L#L#L#LLLLLLLL.LLLLL.#L#L#.#.LL#L#L#L#LLL#LLLLLL\n",
      "#...L#L...#....L......#..#....LL...#.#L#...............L..#L.#L#.#L..#..........L......L.#....#.##\n",
      "LL#LLLL#.LLL#.#L#L#.#LLLLLL#.#L#L#.#.LLLL.#L#L#L#.#L#L#L#LLL#LLL.LL#LL#L#L#L#L#.#L#L#L#.LLLL#LLLLL\n",
      "#LLLL#LL.##LL.LLLLL.LL#L#L.L.LLLLL.LL#.#LL.LLLLLL.LLLLL.LL#L.LL#.#LLLL.LLLLLLLLLLLL.L.#L#L#LLL#.L#\n",
      "LL#LLLL#.LLL#.#.#L#.#LLLLLL#L#L#.#.#LLLLL#L##.#L#L#L#L#.#LLLLLLL..L.L#.##L#L#L#L#L#L#..L.LLLLLLLLL\n",
      "#LLL##LL.L#LL.LLLLLLLL#L#LLL.LLLLL.LL#L#LL.LLLLLL.#LLL.LLL#L#L##L#L#LL..#L#L#L.LLLLL#.#L#L##L#L#L#\n",
      "LL.LLLL#LLLL#.#L#L#L#LLLLLL#.#L#L#.#LLLLL#LL#L#L#.LLLL#L#LLLLLLLLLLLL#.LLLLLLL.##L#LL.LLLLLLLLLLL.\n",
      "##L#L#L#L##LL.LLLL#.LL#L##L#L#LLLL.LL#.#L#LLLLLLL.#L#L#L#L#L#L#L.#LLLL.#L#.#L#L##LL.#.#L#L.#L#L#L#\n",
      "L.LL.....L...#L#..L..L..L...L..#..#.LLLL...#...L#L...L.L...LL.L.....#.....L.......L..L.L....L..L..\n",
      "#L#L#L#L#L#LL.LLL###L#L#L#L#.#LLLL.LL#L#L#.LLL#LL.#.#L#.#.##L#L##L#L##.#L#L##L###L#L#.#L#L#.####L#\n",
      "LLLLLLLL.LLL#.#L#LL.LLLLLLLL.LL#L#L#LLLLLL.L#LL.#.LLLLL.LLLLLLLL.LLLLL.LLLLLLL.LLLLLLLLLLLLLLLLLLL\n",
      "#L#L#L#L#L#LLLL.#L#.#L#L#L##.#LLLL.LLL#L#L#LLL#LLL#L#L#.#L##L#.#L#L#L#L#L#L#L#.#L#L##.#L#L#L#LL#L#\n",
      "LL.LLLLLLLLLLL#LLLL.LLLLL.LLLLL#L#.#LLLLLL.L#LLL#.LLLLL.LLLLLLLL.LLLLLLLLLLLLL.LLLLLL.LLLLLLLLLLLL\n",
      "#L#LLL#L#L#L#.#L#L#.#L###L##.#L#L#L#L#L#L#.LLL#LLL#L#L#.#L##L#L#.#L#L#.#L#.#L#.#.#L##.#L#L#L#LL#L#\n",
      "L...#.LLL..L..L....LL.....L.LL...L......L...#...#L.LLL....LL........L.L.....LL..L...L..LL.LL.L.LL.\n",
      "#L#LLLL#L#L##L#L#L#.#L#L#.#L.#L##L.L#L#L#L#LLL#LL.#.#L#.#L##L#L#.#L#L#.#L#L#L#.#L#L##.#L#L#L#LL#L#\n",
      "LLLL##LLLLLLL.LLLL#.LLLLLLLLL#L##L#LLLLLLL.L#LLL#.LLL.L.LLLLLLLL.LL#LL.#LLLLLL.LLLLLL.LLLLLLLLLLLL\n",
      "#L#LLLL#.#.#L#.#LLL.L#L#L#L#.LL.LL.LL#L#L#.LLL#LL.#L#L#.#L#L##L#.#LLL#LL.#L#L#.#L#L#L#L#L#L#L#L#L#\n",
      "LLLL##LLLLLLL#LLL#L#LLLLLLL..#LLL#.#L#LLLLL#LLLL#.LLLLL.LLLLLLLLLLL#LL.#LLLLLL.LLLLLL.LLLLLLLLLLLL\n",
      ".#..LL.#.#L#L.L#LLLLL#L#L#L#.#L#.LLLLLL#L#.#L#.LL.##L####L#L#L#L.#L#L#.###L#L#.#L#L#L.L#L#L#L#L#L#\n",
      "....#..........L.#.#......LL.#....#.#LL...L.L.L.#..L.....L........L...L...L.L.......L#...L.L..LLL.\n",
      "#L#L#L#L.L#L#.#LLLL.L#L#L#L#.LL.#L.LLL#L##.#L#LLLL#L#L#.##L#L#L#.#L#L#.#L#L#L#.#L#L#LLLL#L#L##L#L#\n",
      "LLLL#LLL#LLLL.LL#L..LLLL.LLL.L#LLL.#LLLLLL.LLLL#LLLLLLL.LLLLLLLL.LLLLL.LLLLLL..L.LLL.L#LLLLLLLLLLL\n",
      "#L#LLL#L.L#L#.#LLL#.#L#L#L#L#LL.L#.#L#L#L#.#L#LLL#L#L#L#.#L#L#L#.#L#L#.#L#L#L#.#L####LLL#L#L##L#L.\n",
      "LLLL#LLL#LLLL.LL#LLLLLLLLLLL.LLLLLLLLLLLLL.LLLL#LL.LLLLLLLLLLLLLLLLLLL.LLLLLLLLLL.LLL.#LLLLLLLLLL#\n",
      "#L#LLL#L#L#L#.#LLL#.#LLL#L#L#L#L#..#L#L#L#.#L#L#L.#L###.L#L#L#L#.#L#L#.#L#L#LLLLL##L#.LL#L#L##L#LL\n",
      "LLLL#LLL.LLLL.LLLLL.LL#LLLLL.LLLLL.LLL.LLLLLLLLLL.LLLLL.LLLLLLLL.#LLLL.LLLLLL#.#LLLLL.#LLLLLLLLLL#\n",
      "#.#L##L#.##L#.##.##.#LLLL#L#.#L#L#.#L#L#L#L#L#L#L#.#L#L.#L#L#L#L.L#L##.#L#L#LLLLLL#L#LL.#L#L#L#LLL\n",
      ".L#.LL...L.L...L..LL..#........#..L...........L.L..L...L.L...L..#L..L..L......#.#.....#..L......#.\n",
      "#LLL##L#.#L#L#L#L##.#LLLL#L#.#LLL#.#L#L#L#.#.#L##L#L#L#.#L#L#L#LLLL#LL.#L#.L#L.LLL#L#.LL##L#L#LLLL\n",
      "LL#LLLLL.LLLLL.LLLL.LL##LLLLLLL#LLLLLLLLLLLLL.LLL.LL.L#.LLLLLLLL.#.LL#.LL##L#L#L#LLLL.#LLLLLLLL#L#\n",
      "LLLL#L#L.L#L#.#L.LL.#LLLL#L#.#LLL#L#L#L#L#.#L#L#L#L#LLL.#L#L#L##.#L#LL.#.LLLLL.LLL#L#.LLL#L#L#LLL.\n",
      "#L#LLLLL#LLLLLLL#L#LLL#LLLLL.LL#L#.LLLLLLL.LLLLLL.LLLL#L.LLLLLLL.#LLL#.LL#L#L#.#LLLLL.#LLLLLLLL#L#\n",
      "LL.L#L#L.L#L#L#LLLLL#LLL#L#L##LL.L.####L#L#L#LLL#.#L#LLLLL#L#L##.LL#LLL#LLLLLL.LL#L#L.LLL#L#L#LLLL\n",
      "#L#L.LLL.LLL#.LL#L#.LL#LLLLL.LLLL#LLLL#.#L#L#L#L#.LLLL#L#LLLLLLLL#LLL#.LL#L#L#.#L#L#L#L#.#LLLLL#L#\n",
      "..L.#.#.#.##..#L....#....#..#.#.....#...LL.....L.LL#.....L.#.#L#L.L....#.L.....L..L...L.L.L#.#....\n",
      "#L#LLLLL.LLLLLL.LL#LLL#LLL#..LLLL#.LLLLLL#.#L#L#L#LLL#L.L#LLL.L#.#L#L#.#L#L#L#.#L##L#.#L#.LLLLL#L#\n",
      "LLLL#L##.##L#.#L#LL.#LLL#LLL##L#LL.#L#L#LL.LLLLLLLL#L#L#LLL#L#LL.LLL.L.#LLLLLL.LLLLLL.LLLLL#L#LLLL\n",
      "#L#LLLLL.LLLL..LLL#.LL#LLL#L.LLLL#.LLLLLL#.#L#L#L#LLLLL.L#LLLLL#L#L#L#.LLL#L#L#.#L#L#L#L#LLLLLL#L#\n",
      "LL#L#L#L.L#L#.#L#L#.#LLL#LLL.#L#LL.#L#L#LL.LLLLLL.LL#L#.LLLL#LLLLLL#.L.L#.#LLL.LLLLLLLLLLLL#L#LLLL\n",
      "LLLLLLLL#LLLL.LLLL#LLL#LLLL#.LLLL#.LLLLLL#.#.#L##.#LLLLL#L#LLLL#.#LLL#LLLLLLLL.#LLL#L.#L#LLLLLL#LL\n",
      "#L#L#L#L#L#L#.#L#L.L#LLLL#LLL#L#LL.#L#L#L#LLLLLLL.LL#L#LLLLL#LLL.LL#LLL#L#L#L#...#L.L.LLLLL#L#L.L#\n",
      "LLLLLLLL.LLLL.LLLLLLLL#LLLL#.LLLL#..L.LLLL.#L#L##.#L.LL.#L#LLL##L#LLL#LLLL.LLL.#LLL#L#L###L#LLL#LL\n",
      "#L#L#L##.#.L#.#L#L#.#LLLL#LL.#L#LLL#.#L#L#L#L.L.L.LLLL#..LLLL##L.LL#LL.#L#.#L#.LL#LLL.LLLLLLL#LLL#\n",
      ".....L.L.LL.......#..LL#...#L....#.L.L....L..#.#.#.##...#..#....#....#L.L.L....#....L#..#.#....#..\n",
      "#L#LLL##.LLL#L#L#LL.L#LLL#LL.#L#LL.#L#L#L#L#LLLLL.LLLL#LLLLLLL#L.L##LL.#L#L#L#.LL#LLLLLLLLLLL#LLL#\n",
      "LLLL#L##.##.L.LLLL.#L#L#L#L#.LLLL#.LLLLLLLLLL#L##.#L#LL.#L#L#LLL#LLLL#LLLLLLLL.#LLL#L.L#L#L#L#L#LL\n",
      ".L#LLLLL.LLL#L#L#LL.L#LLLL.L.#L#LL.#L#L#L#.#LLLLL.LLLL#.LLLLLL#L.LL#LL.#L#L#L#.LL#LLL.LLLLLLLLLLL#\n",
      "#LLL#L#L.L#LL.LLLL#.LLL#L#L#LLLLL#.LLLLLLL.LLL#L#.#L#L#.#L#.#LLL.#L#L#.L.LLLLL.#LLLL#.L#L#L#L#L#.#\n",
      "LL#LLLLL#L#L#.#L#LL.##LLLLLL.#L#LL.#L#L#L#L##LLLL.LLLLLLLLLLLL#L.LLLLLLL#L#L#L.LL#L.LLLLLLLLLLLLLL\n",
      "#LLL#L#L.L#L..LLLL#.LLL#L#L#.LL###LLLLLLLL.L#L#L#.#L#L#.#L#.#LLL#L#L#L#LLLLL#L##L#L#L#L#L#L#L#L#L#\n",
      "..#....L..L..#..#....#.......#.....#.#L.#.#...LL.L.....LL.#...#L.LL.L...#.L....LL..L.....LL.L..L..\n",
      "#LLL#L##L##LL.LLLL#LLLL#L#L#LLL#L..LLLLLLL.L#L#L#.##L##.#LLL#LLL.L#L#L#LL#L#L#.##L#L#.#L#LL#L#L#L#\n",
      "LL#LL.LL.LLL#L#L#LLL#LLLLLLLL#LLL#L#L#L#L#.LLL.LL.LLLLL.LL#L.L#L#LLLLL.LLLLLLL.LLLLLL.LLLLLLLLLLLL\n",
      "#LLL#L##.##LL.L.LL#.#.##L#L#L#L#LL.#L#L#LLLL#L#L#.#L#LLL#LLL#LLL.L#L#L#L#L#L#L#L#L#L#.#L#LL#.#L#L#\n",
      "LL#LLLLL.LL.L#L#LLL.L.LLLLLL.LLLL#.LLLLLLL#LLLLL#.LLLL#LLL#LLL##.#LLLLLLLLLLLL.LLLLLL.LLLL.LLLLLL.\n",
      "#L#L#L##.##LL.LLL#L#L#L#L#L#L#L#LL.#L#L#LLLL#L#LL.#L#LLL#LLL#LLL.#L#L#L#L#L#L#.L#L#L#.##L#L#L#L#L#\n",
      "..L....LL.L.#..#.L.L.LL..L.L.....#.......#LLL...#.....#...#L..#..#..L....L.L.LL...L..L...L......L.\n",
      "#L#L##L#.##LL.LL#L#.##LL.#L#L#L#LL.#L#L#LLL#L##L#.#L#L#.#LLL#LLL.#L#.#L#L#L#L#.#L#.#L#L#L#L#L#L#L#\n",
      "LLLLLLLLLLLL#.#L.LL.LLL#L#LL.LL#L#.LL.LLL#.LLL.LL.LLLL#.LL#LLLL#.LLLLL.LLLLLLL.#LLLLLLLLLLLLLLLLLL\n",
      "#L#L#..#.#LLL.LL##L#L#LLLLL#.#LLLL.#L#L#L#.#L#L#L#L#LLL.#LLLL#LLL#L#L#L#L#L#L#.LLL#L#.L#L#L#L#L#L#\n",
      "LLLLLLLL.LL#L.L##L.#LLL#L#LL.LL#L#.LLLLLLL.LL.LLL.LLLL#LLL#LLLL#.LLLLL.L.LLLLL.#LLLLL.LL.LLLLL.LLL\n",
      "#L#L#L##.#LLL#LLLL#.L#LLLLL#L#LLLL.#L#L#L#L#L#L##.#L#L#L#LLL##LL.#L#L#.#L#L#L#.LLL#L#L#L#L#.L#L#L#\n",
      "LLLLLLLL.#L#L.L#LLL.LLL#L#LL.LL#L#.LLLLLLLLLLLLLL.LLLLL.LL#L.LL#.LLLLLLLLLLLLLL#LLLLL.LLLLLLLLLLLL\n",
      "#L#L#L##.LLLL.LLL#L#L#LL.LL#L#LLLLL#L#L#L#.#L#L##.#L#L#L#LLLL#LLL#L#L#.#L#L#L#.#L#L#L#.#L##L#L#.L#\n",
      "LLLLLLLL.#LL#.#LLLL.LLL#L#.L.LL#L#.#L.LL..LLLLLLL.LLLLL.LL#LLLL#.LLLLL.LLLLLLL.LLLLLLLLLLLLLLLLLL#\n",
      "#L#L#L#L.LLLL..LL#L#L#LLLLL#.#LLLL.L#L##L#.#L#L#L#L#L##.#LLLL#.L.L#L#L#L#L#L#L.L#L#L#.L#L#L#L#L#LL\n",
      "........#L#L.#.#L...L..#.#...LLL#.#.#.L.L....L...L..L.L.LL#....L#.L.....L...LL#.....L.LL..L......#\n",
      "#L#L#L#L.LLLL#LLLLL#L#LLL#L#.#LLL..LLL#L#L#L#L#L#L#.#L#L#LLLL#LL.L#L#L.L#L#L#L.L#L#L#.##L#.#L#L#LL\n",
      "LLLLLLLL.#L#L.L#L#L.L#L#L#LL.LL#L##L#LLLL.LLLLLLL.LLLLL.LL##L#L#.LLLLL#LLLLLLL#LLLLLL.LLLLLLLLLLL#\n",
      "#L#L#L#LLLLLLLLLLLLLLLLLLLLL#LLLLL.LLLL#L#L#..L#L#L#L#L#LLLLLLLLLLLLLL.LLLLLLL.#L#.#L.L#L#L#L#L#LL\n",
      "LLLLLLLL#L#L#L#L#L#.#L#L#L#L.L#LL#.#LLLLLL.LL#L#L.L#.#L.L#L#L#L#L#L#L#.#L#L#.#.#L#LLL#LLLLL#L#L.L#\n",
      "#L#L#L#L.LLLL.LLLLL.LLLL.LLL.LLLLL.LL#L#L#.#LLLLL.LLLLLLLLLLLLLLLLLLLLLLLLLLLLLLLLLLL.LLL#LLLLLLL.\n",
      "LLLLLLLL#L#L#.#L#L#.#L#L#L#L#L#LL#.#LLLLLL.LL##L#.#L#L#.#L##.#L#.#L#L#.#L#L#L#.#L#L#L#L#LLL#L#L#.#\n",
      "#L#L#L#L.LLLL.LLLLL.LLLLLLLL.LLLL..LL#L#L#.#LLLLL.LL.LL.L.LLLLLL.LLLL..LLLLLL..LLLLLLLLLL#LLLLLLLL\n",
      "LL#L#LLL#L#L#L#L#L#.#L##L#L#.#L#L#L#L#LLLL.LL##L#L#L#L#.#L##L#L#.#L#L#.#L#L#L#.#L#L#L#L#LLL#L#L#L#\n",
      "#......LLLLL..LL.L.....L......L..L....L..#L#.L....LLLLL....L..L...L#.L..L...L...L......LL.........\n",
      "LL#L#L##.#L##.#L#L#.#L##L#L##L#L###L#L##LL.LLL#L#.#L#L#.#L##L#L#.#LLL#.LL##LL#.L#L#L##L#L#L#L#L#L#\n",
      "#LLLLLLL.LLLL.LLLLL.LLLLLLL..LLLLL.LLLLLL#.LLLLLL.LLLLL.LLLLLLLL.L.#LLL#LLLLLLLLLLLLLLLLLLLLLLLLLL\n",
      ".L#L#L#L#LLL#.#L#LLL#L#L##L#.#L#L#.#L#L#LL.L#L#L#.##L#.###L#L#L#.#LLL#.LL#L#L#.#L#L#L#L#L#L#L#L#L#\n",
      "LLLLLLLL.L#LLLLLLL#LLLLLLLLLLLLLLL.LLLLLLL#LLLLLLLLLLLL.LLLLLLLLLLL#LL.#LLLL.L.LLLLLL.LLLLLLLLLLLL\n",
      "#L#L#L#L.LLL#.#L#LL.#L#L#L#L.#L#L#.#L##L#L.L#L#L#.#L#L#.L#L#L#L#.#LLL#LLL#L#L#.#L#LL#.##L#L#L#L#L#\n",
      "LLLLLLLL#L#L..LLLL#.LL.LLL.LLLLL.LLLLLLLLLLLLLLLLLLLLLLLLLLLLLLL.LL#LL.#LLLLLL.LLLLLL.LLLLLLLLLLL.\n",
      "#L#L#L#L.L#L#.#L#LL.L#L#L#L#.#L#L#.#LL#L#L#L#L#L#.L#L#L#L#L#L#L#L#LLL#.LL#L#L#.#L#LL#.##L#L#L#L#L#\n",
      "LLL.LLLL.LLLLLLLLLL#LLLLLLLL.L.#LLLLL.LLLLLLLLLLLLLLLLLLL.LLLLLL.LL#LLL#LLLLLL.LLLLLL.LLLLLLLLLLLL\n",
      "#L#L#L##.#L#L.#L#LL.L#L#L#L#.#LLL#.#L#L#L#.#L#L#L#L#L#L#L#L#L#L#..####.LLL#.#.#L#L#L#.##L#L#L#L#L#\n",
      "LLLLLLLL.LLLL.LLLLL.LLLLLLLL.L.#LL.LLLLLLLLLLLL.LLLLLLLLLLLLLLLL.LLLLL.#L.LLLL.LLLLLL.LLLLLLLLLLLL\n",
      "#L#L#L#...#L#L#L#L#.#L#L#L#L.#L.L#L#L#L#L#.L#L#L#.#L#L#.#L#LL#L#.#L#L#L#L#L#L#.#L#L#L#L#L#L#L#L#L#\n",
      "LLLLLLLL#LLLL.LLLLL.LLLLLLLLLLLLLL.LLLLLLL.LLLLLL.LLLL.LLLLLLLLLLLLLLL.L.LLLLLLLLLLLL.LLLLLLLLLLLL\n",
      "#L#L#L#L.L#L#L#.#L#.#L#L#L#L#L##L#L#L#L#L#.#L##L#.#L#L#L#L#L##L#.#L#L#L#L#L#L#.#L#L#L#L#L#L#L#L#L#\n"
     ]
    }
   ],
   "source": [
    "for i in cur_map:\n",
    "    print(''.join(i))\n"
   ]
  },
  {
   "cell_type": "code",
   "execution_count": 41,
   "metadata": {},
   "outputs": [
    {
     "data": {
      "text/plain": [
       "2412"
      ]
     },
     "execution_count": 41,
     "metadata": {},
     "output_type": "execute_result"
    }
   ],
   "source": [
    "(next_map == '#').sum()"
   ]
  },
  {
   "cell_type": "code",
   "execution_count": 46,
   "metadata": {},
   "outputs": [],
   "source": [
    "def count_unoccupied_expanded(curr_map, next_map, pos):\n",
    "    state = curr_map[(pos)]\n",
    "   \n",
    "    def check_loc(ir, ic, pos):\n",
    "        if (pos[0]+ir <0 or  pos[0]+ir >=r or\n",
    "            pos[1]+ic <0 or  pos[1]+ic >=c \n",
    "           ):\n",
    "            return False\n",
    "        return True\n",
    "        \n",
    "    def search_further(ir, ic, pos):\n",
    "        if not check_loc(ir,ic,pos):\n",
    "            return 'B'\n",
    "        \n",
    "        step=1\n",
    "        s_state =  curr_map[(pos[0]+ir*step,\n",
    "                             pos[1]+ic*step)]\n",
    "        \n",
    "        while s_state == '.':\n",
    "            step +=1\n",
    "   \n",
    "            if not check_loc(ir*step, ic*step, pos):\n",
    "                return 'B'\n",
    "            s_state =  curr_map[(pos[0]+ir*step,\n",
    "                                 pos[1]+ic*step)]\n",
    "                            \n",
    "        return s_state\n",
    "    \n",
    "    n_occ = sum([ search_further(i,j ,pos) =='#'  \n",
    "                  for i in [-1, 0, 1]\n",
    "                  for j in  [-1, 0, 1]\n",
    "                  if  (pos[0]+i  >= 0 and pos[0]+i  <  r\n",
    "                       and not (i ==j == 0) and \n",
    "                       pos[1]+j  >= 0 and pos[1]+j  <  c)\n",
    "                ])\n",
    "    \n",
    "    if state == 'L' and n_occ == 0 :\n",
    "            next_map[pos] = \"#\"\n",
    "            \n",
    "    if state == '#' and n_occ >=5:\n",
    "            next_map[pos] = \"L\"\n",
    "            \n",
    "    return next_map\n",
    "        \n",
    "cur_map = seats.copy()\n",
    "diff=1\n",
    "#for i in range(4):\n",
    "iteration = 0\n",
    "while diff != 0 and iteration < 500:\n",
    "    next_map = cur_map.copy()\n",
    "    for row in range(r):\n",
    "        for col in range(c):\n",
    "            if cur_map[(row,col)] == '.':\n",
    "                continue\n",
    "            next_map = count_unoccupied_expanded(cur_map, next_map, (row,col))\n",
    "            \n",
    "    diff = (next_map != cur_map).sum()\n",
    "    iteration +=1\n",
    "    cur_map = next_map.copy()\n",
    "            "
   ]
  },
  {
   "cell_type": "code",
   "execution_count": 47,
   "metadata": {},
   "outputs": [
    {
     "data": {
      "text/plain": [
       "87"
      ]
     },
     "execution_count": 47,
     "metadata": {},
     "output_type": "execute_result"
    }
   ],
   "source": [
    "iteration"
   ]
  },
  {
   "cell_type": "code",
   "execution_count": 48,
   "metadata": {},
   "outputs": [
    {
     "data": {
      "text/plain": [
       "2176"
      ]
     },
     "execution_count": 48,
     "metadata": {},
     "output_type": "execute_result"
    }
   ],
   "source": [
    "(next_map == '#').sum()"
   ]
  },
  {
   "cell_type": "markdown",
   "metadata": {},
   "source": [
    "# Day 12"
   ]
  },
  {
   "cell_type": "code",
   "execution_count": 5,
   "metadata": {},
   "outputs": [],
   "source": [
    "import numpy as np"
   ]
  },
  {
   "cell_type": "code",
   "execution_count": 3,
   "metadata": {},
   "outputs": [],
   "source": [
    "movements=[]\n",
    "\n",
    "with open('input_day12.txt', 'r') as f:\n",
    "    for line in f.readlines():\n",
    "        movements.append((line[0], int(line[1:])))\n"
   ]
  },
  {
   "cell_type": "code",
   "execution_count": 6,
   "metadata": {},
   "outputs": [
    {
     "data": {
      "text/plain": [
       "array([0, 2])"
      ]
     },
     "execution_count": 6,
     "metadata": {},
     "output_type": "execute_result"
    }
   ],
   "source": [
    "np.array([0,1]) + np.array([0,1])"
   ]
  },
  {
   "cell_type": "code",
   "execution_count": 7,
   "metadata": {},
   "outputs": [],
   "source": [
    "tmp=['a', 'b', 'c']"
   ]
  },
  {
   "cell_type": "code",
   "execution_count": 9,
   "metadata": {},
   "outputs": [
    {
     "data": {
      "text/plain": [
       "1"
      ]
     },
     "execution_count": 9,
     "metadata": {},
     "output_type": "execute_result"
    }
   ],
   "source": [
    "tmp.index('b')"
   ]
  },
  {
   "cell_type": "code",
   "execution_count": 13,
   "metadata": {},
   "outputs": [
    {
     "data": {
      "text/plain": [
       "3"
      ]
     },
     "execution_count": 13,
     "metadata": {},
     "output_type": "execute_result"
    }
   ],
   "source": [
    "-5%4"
   ]
  },
  {
   "cell_type": "code",
   "execution_count": 15,
   "metadata": {},
   "outputs": [
    {
     "data": {
      "text/plain": [
       "array([-863,  824])"
      ]
     },
     "execution_count": 15,
     "metadata": {},
     "output_type": "execute_result"
    }
   ],
   "source": [
    "move={\n",
    "    'N' : np.array([0,1]),\n",
    "    'E' : np.array([1,0]),\n",
    "    'S' : np.array([0,-1]),\n",
    "    'W' : np.array([-1,0]),\n",
    "}\n",
    "\n",
    "compass = ['N', 'E', 'S', 'W']\n",
    "\n",
    "def update_direction(direction, code, degrees):\n",
    "    move = degrees//90\n",
    "    move = move if code == 'R' else -1*move\n",
    "    \n",
    "    cur = compass.index(direction)\n",
    "    return compass[(cur+move)%4]\n",
    "    \n",
    "    \n",
    "direction= 'E'\n",
    "pos = np.array([0,0])\n",
    "\n",
    "for step in movements:\n",
    "    if step[0] in ['R', 'L']:\n",
    "        direction = update_direction(direction, step[0], step[1])\n",
    "        continue\n",
    "    \n",
    "    move_dir = direction if step[0] == 'F' else step[0]\n",
    "    pos += step[1]* move[move_dir]\n",
    "        \n",
    "\n",
    "pos"
   ]
  },
  {
   "cell_type": "code",
   "execution_count": 16,
   "metadata": {},
   "outputs": [
    {
     "data": {
      "text/plain": [
       "1687"
      ]
     },
     "execution_count": 16,
     "metadata": {},
     "output_type": "execute_result"
    }
   ],
   "source": [
    "abs(pos[0])+abs(pos[1])"
   ]
  },
  {
   "cell_type": "code",
   "execution_count": 32,
   "metadata": {},
   "outputs": [],
   "source": [
    "ship = np.array([0,0])\n",
    "waypoint = np.array([10,1])\n",
    "\n",
    "def turn_waypoint(waypoint, code, degrees):\n",
    "    bearing = ('E' if waypoint[0] > 0 else 'W',\n",
    "               'N' if waypoint[1] > 0 else 'S',\n",
    "              )\n",
    "    new_bearing = [update_direction(bearing[i], code, degrees) for i in range(2)]\n",
    "    \n",
    "    newpoint = move[new_bearing[0]]*np.abs(waypoint[0])  + move[new_bearing[1]]*np.abs(waypoint[1])\n",
    "    return newpoint\n",
    "    \n",
    "for step in movements:\n",
    "    if step[0] in ['R', 'L']:\n",
    "        waypoint = turn_waypoint(waypoint, step[0], step[1])\n",
    "        continue\n",
    "        \n",
    "    if step[0] == 'F':\n",
    "        ship += step[1]*waypoint\n",
    "    else:\n",
    "        waypoint += step[1]* move[step[0]]"
   ]
  },
  {
   "cell_type": "code",
   "execution_count": 33,
   "metadata": {},
   "outputs": [
    {
     "data": {
      "text/plain": [
       "20873"
      ]
     },
     "execution_count": 33,
     "metadata": {},
     "output_type": "execute_result"
    }
   ],
   "source": [
    "#32593 - is wrong\n",
    "np.abs(ship).sum()"
   ]
  },
  {
   "cell_type": "markdown",
   "metadata": {},
   "source": [
    "# Day 13"
   ]
  },
  {
   "cell_type": "code",
   "execution_count": 26,
   "metadata": {},
   "outputs": [],
   "source": [
    "import numpy as np"
   ]
  },
  {
   "cell_type": "code",
   "execution_count": 73,
   "metadata": {},
   "outputs": [],
   "source": [
    "time_depart = 1002392\n",
    "buses = '23,x,x,x,x,x,x,x,x,x,x,x,x,41,x,x,x,37,x,x,x,x,x,421,x,x,x,x,x,x,x,x,x,x,x,x,x,x,x,x,17,x,19,x,x,x,x,x,x,x,x,x,29,x,487,x,x,x,x,x,x,x,x,x,x,x,x,13'"
   ]
  },
  {
   "cell_type": "code",
   "execution_count": 2,
   "metadata": {},
   "outputs": [],
   "source": [
    "ids = [ int(bus) for bus in buses.split(',') if bus !='x']"
   ]
  },
  {
   "cell_type": "code",
   "execution_count": 3,
   "metadata": {},
   "outputs": [
    {
     "data": {
      "text/plain": [
       "[23, 41, 37, 421, 17, 19, 29, 487, 13]"
      ]
     },
     "execution_count": 3,
     "metadata": {},
     "output_type": "execute_result"
    }
   ],
   "source": [
    "ids"
   ]
  },
  {
   "cell_type": "code",
   "execution_count": 4,
   "metadata": {},
   "outputs": [],
   "source": [
    "time_to_wait=  [ i - time_depart%i for i in ids ]"
   ]
  },
  {
   "cell_type": "code",
   "execution_count": 5,
   "metadata": {},
   "outputs": [
    {
     "data": {
      "text/plain": [
       "[17, 17, 12, 9, 13, 10, 22, 341, 12]"
      ]
     },
     "execution_count": 5,
     "metadata": {},
     "output_type": "execute_result"
    }
   ],
   "source": [
    "time_to_wait"
   ]
  },
  {
   "cell_type": "code",
   "execution_count": 7,
   "metadata": {},
   "outputs": [],
   "source": [
    "idx = time_to_wait.index(min(time_to_wait))"
   ]
  },
  {
   "cell_type": "code",
   "execution_count": 8,
   "metadata": {},
   "outputs": [
    {
     "data": {
      "text/plain": [
       "3789"
      ]
     },
     "execution_count": 8,
     "metadata": {},
     "output_type": "execute_result"
    }
   ],
   "source": [
    "ids[idx]*time_to_wait[idx]"
   ]
  },
  {
   "cell_type": "code",
   "execution_count": 74,
   "metadata": {},
   "outputs": [],
   "source": [
    "#buses ='7,13,x,x,59,x,31,19'\n",
    "bus_ids = [ (int(b),buses.split(',').index(b)) for b in buses.split(',')  if b!='x']"
   ]
  },
  {
   "cell_type": "code",
   "execution_count": 75,
   "metadata": {},
   "outputs": [
    {
     "data": {
      "text/plain": [
       "[(23, 0),\n",
       " (41, 13),\n",
       " (37, 17),\n",
       " (421, 23),\n",
       " (17, 40),\n",
       " (19, 42),\n",
       " (29, 52),\n",
       " (487, 54),\n",
       " (13, 67)]"
      ]
     },
     "execution_count": 75,
     "metadata": {},
     "output_type": "execute_result"
    }
   ],
   "source": [
    "bus_ids"
   ]
  },
  {
   "cell_type": "code",
   "execution_count": 100,
   "metadata": {},
   "outputs": [],
   "source": [
    "time_x = 0\n",
    "M=1\n",
    "to=9\n",
    "for idx,remainder in bus_ids[:to]: \n",
    "    M*=idx\n",
    "    \n",
    "for idx, remainder in bus_ids[:to]:\n",
    "    ai = (idx - remainder%idx )%idx\n",
    "    b =  int(M/idx)\n",
    "    b_inv = pow(b, -1, idx)\n",
    "    b_inv = b_inv%idx\n",
    "    \n",
    "    time_x += ai*b*b_inv\n",
    "    "
   ]
  },
  {
   "cell_type": "code",
   "execution_count": 101,
   "metadata": {},
   "outputs": [
    {
     "data": {
      "text/plain": [
       "667437230788118"
      ]
     },
     "execution_count": 101,
     "metadata": {},
     "output_type": "execute_result"
    }
   ],
   "source": [
    "time_x %M"
   ]
  },
  {
   "cell_type": "code",
   "execution_count": 102,
   "metadata": {},
   "outputs": [
    {
     "data": {
      "text/plain": [
       "[23, 13, 17, 23, 6, 4, 23, 54, 2]"
      ]
     },
     "execution_count": 102,
     "metadata": {},
     "output_type": "execute_result"
    }
   ],
   "source": [
    "[ i - time_x%i for i in ids ]"
   ]
  },
  {
   "cell_type": "code",
   "execution_count": null,
   "metadata": {},
   "outputs": [],
   "source": []
  }
 ],
 "metadata": {
  "kernelspec": {
   "display_name": "work_env",
   "language": "python",
   "name": "work_env"
  },
  "language_info": {
   "codemirror_mode": {
    "name": "ipython",
    "version": 3
   },
   "file_extension": ".py",
   "mimetype": "text/x-python",
   "name": "python",
   "nbconvert_exporter": "python",
   "pygments_lexer": "ipython3",
   "version": "3.9.1rc1"
  }
 },
 "nbformat": 4,
 "nbformat_minor": 4
}
