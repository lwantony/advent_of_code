{
 "cells": [
  {
   "cell_type": "code",
   "execution_count": 1,
   "metadata": {},
   "outputs": [],
   "source": [
    "from IPython.core.interactiveshell import InteractiveShell\n",
    "InteractiveShell.ast_node_interactivity = \"all\""
   ]
  },
  {
   "cell_type": "code",
   "execution_count": 2,
   "metadata": {},
   "outputs": [],
   "source": [
    "import re"
   ]
  },
  {
   "cell_type": "code",
   "execution_count": 3,
   "metadata": {},
   "outputs": [],
   "source": [
    "def get_rules_and_test(path):\n",
    "    rules = {}\n",
    "    test_strings = []\n",
    "    with open(path, 'r') as f:\n",
    "        reading_rules=True\n",
    "        for line in f.readlines():\n",
    "            line=line.strip()\n",
    "            \n",
    "            if len(line) ==0:\n",
    "                reading_rules =False\n",
    "                continue\n",
    "            if reading_rules:\n",
    "                key,rule = line.split(': ')\n",
    "                rules[int(key)] = rule.replace('\"','')\n",
    "            else:\n",
    "                test_strings.append(line)\n",
    "    return rules, test_strings"
   ]
  },
  {
   "cell_type": "code",
   "execution_count": 5,
   "metadata": {},
   "outputs": [],
   "source": [
    "def create_test_string(rules_dict):\n",
    "    \n",
    "    def get_string(val):\n",
    "        if val in ['a','b']:\n",
    "            return val\n",
    "        elif '|' in val:\n",
    "            choices = [[int(i) for i in possiblity.split()] for possiblity in val.split('|')]\n",
    "            \n",
    "            first_group=''\n",
    "            for idx in choices[0]:\n",
    "                first_group += get_string(rules_dict[idx])\n",
    "            second_group=''\n",
    "            for idx in choices[1]:\n",
    "                second_group+= get_string(rules_dict[idx])\n",
    "            return f'({first_group}|{second_group})'\n",
    "        \n",
    "        else:\n",
    "            numbers = [int(i) for i in val.split()]\n",
    "            group=''\n",
    "            for idx in numbers:\n",
    "                group+=get_string(rules_dict[idx])\n",
    "            return group\n",
    "    return get_string(rules_dict[0]) "
   ]
  },
  {
   "cell_type": "code",
   "execution_count": 219,
   "metadata": {},
   "outputs": [],
   "source": [
    "def part_one_count(rules_dict, strings):\n",
    "    def get_string(i_val):\n",
    "        val = rules_dict[i_val]\n",
    "        if val in ['a','b']:\n",
    "            return val\n",
    "        elif '|' in val:\n",
    "            choices = [[int(i) for i in possiblity.split()] for possiblity in val.split('|')]\n",
    "            \n",
    "            first_group=''\n",
    "            for idx in choices[0]:\n",
    "                first_group += get_string(idx)\n",
    "            second_group=''\n",
    "            for idx in choices[1]:\n",
    "                second_group+= get_string(idx)\n",
    "            return f'({first_group}|{second_group})'\n",
    "        \n",
    "        else:\n",
    "            numbers = [int(i) for i in val.split()]\n",
    "            group=''\n",
    "            for idx in numbers:\n",
    "                group+=get_string(idx)\n",
    "            return group\n",
    "    regex = re.compile(get_string(0))\n",
    "    return sum([bool(regex.fullmatch(t)) for t in strings])"
   ]
  },
  {
   "cell_type": "code",
   "execution_count": 7,
   "metadata": {},
   "outputs": [],
   "source": [
    "prod_rules, prod_strings = get_rules_and_test('data/input_day19.txt')\n",
    "test_rules, test_strings = get_rules_and_test('data/test_19.txt')"
   ]
  },
  {
   "cell_type": "code",
   "execution_count": 8,
   "metadata": {},
   "outputs": [
    {
     "data": {
      "text/plain": [
       "['ababbb', 'bababa', 'abbbab', 'aaabbb', 'aaaabbb']"
      ]
     },
     "execution_count": 8,
     "metadata": {},
     "output_type": "execute_result"
    }
   ],
   "source": [
    "test_strings"
   ]
  },
  {
   "cell_type": "code",
   "execution_count": 221,
   "metadata": {},
   "outputs": [
    {
     "data": {
      "text/plain": [
       "3"
      ]
     },
     "execution_count": 221,
     "metadata": {},
     "output_type": "execute_result"
    }
   ],
   "source": [
    "part_one_count(test_rules,test_strings)"
   ]
  },
  {
   "cell_type": "code",
   "execution_count": 222,
   "metadata": {},
   "outputs": [
    {
     "data": {
      "text/plain": [
       "233"
      ]
     },
     "execution_count": 222,
     "metadata": {},
     "output_type": "execute_result"
    }
   ],
   "source": [
    "part_one_count(prod_rules,prod_strings)"
   ]
  },
  {
   "cell_type": "markdown",
   "metadata": {},
   "source": [
    "# Part 2"
   ]
  },
  {
   "cell_type": "code",
   "execution_count": 78,
   "metadata": {},
   "outputs": [],
   "source": [
    "part_2_rules = prod_rules.copy()"
   ]
  },
  {
   "cell_type": "code",
   "execution_count": 79,
   "metadata": {},
   "outputs": [],
   "source": [
    "part_2_rules[8] = '42 | 42 8'\n",
    "part_2_rules[11] = '42 31 | 42 11 31'"
   ]
  },
  {
   "cell_type": "code",
   "execution_count": 200,
   "metadata": {},
   "outputs": [
    {
     "data": {
      "text/plain": [
       "'42'"
      ]
     },
     "execution_count": 200,
     "metadata": {},
     "output_type": "execute_result"
    },
    {
     "data": {
      "text/plain": [
       "'42 31'"
      ]
     },
     "execution_count": 200,
     "metadata": {},
     "output_type": "execute_result"
    }
   ],
   "source": [
    "prod_rules[8]\n",
    "prod_rules[11]"
   ]
  },
  {
   "cell_type": "code",
   "execution_count": 213,
   "metadata": {},
   "outputs": [],
   "source": [
    "def part_two_test_string(rules, strings):\n",
    "    def get_string(it,rules_dict):\n",
    "        val = rules_dict[it]\n",
    "        if val in ['a','b']:\n",
    "            return val\n",
    "        elif '|' in val:\n",
    "            choices = [[int(i) for i in possiblity.split()] for possiblity in val.split('|')]\n",
    "            \n",
    "            first_group=''\n",
    "            for idx in choices[0]:\n",
    "                first_group += get_string(idx,rules_dict)\n",
    "            second_group=''\n",
    "            for idx in choices[1]:\n",
    "                second_group+= get_string(idx,rules_dict)\n",
    "            return f'({first_group}|{second_group})'\n",
    "        \n",
    "        else:\n",
    "            numbers = [int(i) for i in val.split()]\n",
    "            group=''\n",
    "            for idx in numbers:\n",
    "                if it  == 8:\n",
    "                    #group+= '('+get_string(idx,rules_dict)+')+'\n",
    "                    group+= get_string(idx,rules_dict)\n",
    "                if it  == 11:\n",
    "                    #group+= '('+get_string(idx,rules_dict)+')+'\n",
    "                    group+= get_string(idx,rules_dict)\n",
    "                else:\n",
    "                    group+=get_string(idx,rules_dict)\n",
    "            return group\n",
    "    \n",
    "    regex =re.compile(get_string(0,rules))\n",
    "    return sum([ bool(regex.fullmatch(t)) for t in strings]) \n",
    "    "
   ]
  },
  {
   "cell_type": "code",
   "execution_count": 229,
   "metadata": {},
   "outputs": [],
   "source": [
    "def part_two_test_string(rules_dict, strings):\n",
    "    def get_string(i_val):\n",
    "        val = rules_dict[i_val]\n",
    "        if val in ['a','b']:\n",
    "            return val\n",
    "        elif '|' in val:\n",
    "            choices = [[int(i) for i in possiblity.split()] for possiblity in val.split('|')]\n",
    "            \n",
    "            first_group=''\n",
    "            for idx in choices[0]:\n",
    "                first_group += get_string(idx)\n",
    "            second_group=''\n",
    "            for idx in choices[1]:\n",
    "                second_group+= get_string(idx)\n",
    "            return f'({first_group}|{second_group})'\n",
    "        \n",
    "        else:\n",
    "            numbers = [int(i) for i in val.split()]\n",
    "            group=''\n",
    "            for idx in numbers:\n",
    "                if i_val ==8:\n",
    "                    group+='('+get_string(idx)+')+'\n",
    "                elif i_val ==11:\n",
    "                    group+='('+get_string(idx)+'){N}'\n",
    "                else:\n",
    "                    group+=get_string(idx)\n",
    "            return group\n",
    "    template = get_string(0)\n",
    "    tot=0\n",
    "    for n in range(1,30):\n",
    "        regex = re.compile(template.replace('N', str(n)))\n",
    "        tot+=sum([bool(regex.fullmatch(t)) for t in strings])\n",
    "    return tot"
   ]
  },
  {
   "cell_type": "code",
   "execution_count": 230,
   "metadata": {},
   "outputs": [
    {
     "data": {
      "text/plain": [
       "'cuuhu'"
      ]
     },
     "execution_count": 230,
     "metadata": {},
     "output_type": "execute_result"
    }
   ],
   "source": [
    "'cutht'.replace('t','u')"
   ]
  },
  {
   "cell_type": "code",
   "execution_count": 231,
   "metadata": {},
   "outputs": [
    {
     "data": {
      "text/plain": [
       "'(cab|bac)(cab|bac)'"
      ]
     },
     "execution_count": 231,
     "metadata": {},
     "output_type": "execute_result"
    }
   ],
   "source": [
    "'(cab|bac)'*2"
   ]
  },
  {
   "cell_type": "code",
   "execution_count": 232,
   "metadata": {},
   "outputs": [],
   "source": [
    "test_rules, test_strings = get_rules_and_test('data/test_19_2.txt')"
   ]
  },
  {
   "cell_type": "code",
   "execution_count": 234,
   "metadata": {},
   "outputs": [
    {
     "data": {
      "text/plain": [
       "12"
      ]
     },
     "execution_count": 234,
     "metadata": {},
     "output_type": "execute_result"
    }
   ],
   "source": [
    "part_two_test_string(test_rules, test_strings)"
   ]
  },
  {
   "cell_type": "code",
   "execution_count": 235,
   "metadata": {},
   "outputs": [
    {
     "data": {
      "text/plain": [
       "396"
      ]
     },
     "execution_count": 235,
     "metadata": {},
     "output_type": "execute_result"
    }
   ],
   "source": [
    "part_two_test_string(prod_rules, prod_strings)"
   ]
  },
  {
   "cell_type": "code",
   "execution_count": null,
   "metadata": {},
   "outputs": [],
   "source": []
  }
 ],
 "metadata": {
  "kernelspec": {
   "display_name": "work_env",
   "language": "python",
   "name": "work_env"
  },
  "language_info": {
   "codemirror_mode": {
    "name": "ipython",
    "version": 3
   },
   "file_extension": ".py",
   "mimetype": "text/x-python",
   "name": "python",
   "nbconvert_exporter": "python",
   "pygments_lexer": "ipython3",
   "version": "3.9.1rc1"
  }
 },
 "nbformat": 4,
 "nbformat_minor": 4
}
